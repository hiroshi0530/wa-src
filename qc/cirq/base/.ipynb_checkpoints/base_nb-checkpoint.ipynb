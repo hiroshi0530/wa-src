{
 "cells": [
  {
   "cell_type": "markdown",
   "metadata": {},
   "source": [
    "## cirq 入門\n",
    "\n",
    "### github\n",
    "- jupyter notebook形式のファイルは[こちら](https://github.com/hiroshi0530/wa-src/blob/master/ml/data100/05/05_nb.ipynb)\n",
    "\n",
    "### google colaboratory\n",
    "- google colaboratory で実行する場合は[こちら](https://colab.research.google.com/github/hiroshi0530/wa-src/blob/master/ml/data100/05/05_nb.ipynb)\n",
    "\n",
    "### 筆者の環境"
   ]
  },
  {
   "cell_type": "code",
   "execution_count": 1,
   "metadata": {},
   "outputs": [
    {
     "name": "stdout",
     "output_type": "stream",
     "text": [
      "ProductName:\tMac OS X\r\n",
      "ProductVersion:\t10.14.6\r\n",
      "BuildVersion:\t18G6020\r\n"
     ]
    }
   ],
   "source": [
    "!sw_vers"
   ]
  },
  {
   "cell_type": "code",
   "execution_count": 2,
   "metadata": {},
   "outputs": [
    {
     "name": "stdout",
     "output_type": "stream",
     "text": [
      "Python 3.7.3\r\n"
     ]
    }
   ],
   "source": [
    "!python -V"
   ]
  },
  {
   "cell_type": "markdown",
   "metadata": {},
   "source": [
    "基本的なライブラリをインポートしそのバージョンを確認しておきます。"
   ]
  },
  {
   "cell_type": "code",
   "execution_count": 3,
   "metadata": {},
   "outputs": [
    {
     "name": "stdout",
     "output_type": "stream",
     "text": [
      "matplotlib version : 3.0.3\n",
      "scipy version : 1.4.1\n",
      "numpy version : 1.19.4\n",
      "pandas version : 1.0.3\n"
     ]
    }
   ],
   "source": [
    "%matplotlib inline\n",
    "%config InlineBackend.figure_format = 'svg'\n",
    "\n",
    "import matplotlib\n",
    "import matplotlib.pyplot as plt\n",
    "import scipy\n",
    "import numpy as np\n",
    "import pandas as pd\n",
    "\n",
    "print('matplotlib version :', matplotlib.__version__)\n",
    "print('scipy version :', scipy.__version__)\n",
    "print('numpy version :', np.__version__)\n",
    "print('pandas version :', pd.__version__)"
   ]
  },
  {
   "cell_type": "code",
   "execution_count": 7,
   "metadata": {},
   "outputs": [],
   "source": [
    "from cirq import LineQubit, Circuit, Simulator, measure\n",
    "import cirq"
   ]
  },
  {
   "cell_type": "code",
   "execution_count": 8,
   "metadata": {},
   "outputs": [
    {
     "ename": "AttributeError",
     "evalue": "'Circuit' object has no attribute 'from_ops'",
     "output_type": "error",
     "traceback": [
      "\u001b[0;31m---------------------------------------------------------------------------\u001b[0m",
      "\u001b[0;31mAttributeError\u001b[0m                            Traceback (most recent call last)",
      "\u001b[0;32m<ipython-input-8-3f05771ff965>\u001b[0m in \u001b[0;36m<module>\u001b[0;34m\u001b[0m\n\u001b[1;32m      4\u001b[0m \u001b[0;34m\u001b[0m\u001b[0m\n\u001b[1;32m      5\u001b[0m \u001b[0;31m# 量子回路\u001b[0m\u001b[0;34m\u001b[0m\u001b[0;34m\u001b[0m\u001b[0;34m\u001b[0m\u001b[0m\n\u001b[0;32m----> 6\u001b[0;31m qc = qc.from_ops(\n\u001b[0m\u001b[1;32m      7\u001b[0m     \u001b[0;31m# オラクル(|11>を反転)\u001b[0m\u001b[0;34m\u001b[0m\u001b[0;34m\u001b[0m\u001b[0;34m\u001b[0m\u001b[0m\n\u001b[1;32m      8\u001b[0m     \u001b[0mcirq\u001b[0m\u001b[0;34m.\u001b[0m\u001b[0mH\u001b[0m\u001b[0;34m(\u001b[0m\u001b[0mqr\u001b[0m\u001b[0;34m[\u001b[0m\u001b[0;36m0\u001b[0m\u001b[0;34m]\u001b[0m\u001b[0;34m)\u001b[0m\u001b[0;34m,\u001b[0m\u001b[0;34m\u001b[0m\u001b[0;34m\u001b[0m\u001b[0m\n",
      "\u001b[0;31mAttributeError\u001b[0m: 'Circuit' object has no attribute 'from_ops'"
     ]
    }
   ],
   "source": [
    "# 量子回路初期化\n",
    "qr = [LineQubit(i) for i in range(2)]\n",
    "qc = Circuit()\n",
    "\n",
    "# 量子回路\n",
    "qc = qc.from_ops(\n",
    "    # オラクル(|11>を反転)　\n",
    "    cirq.H(qr[0]),\n",
    "    cirq.H(qr[1]),\n",
    "    cirq.CZ(qr[0],qr[1]),\n",
    "    cirq.H(qr[0]),\n",
    "    cirq.H(qr[1]),\n",
    "    \n",
    "    # 振幅増幅\n",
    "    cirq.X(qr[0]),\n",
    "    cirq.X(qr[1]),\n",
    "    cirq.CZ(qr[0],qr[1]),\n",
    "    cirq.X(qr[0]),\n",
    "    cirq.X(qr[1]),\n",
    "    cirq.H(qr[0]),\n",
    "    cirq.H(qr[1]),   \n",
    "\n",
    "    # 測定 \n",
    "    cirq.measure(qr[0], key='m0'),\n",
    "    cirq.measure(qr[1], key='m1'),\n",
    ")"
   ]
  },
  {
   "cell_type": "code",
   "execution_count": null,
   "metadata": {},
   "outputs": [],
   "source": []
  }
 ],
 "metadata": {
  "kernelspec": {
   "display_name": "Python 3",
   "language": "python",
   "name": "python3"
  },
  "language_info": {
   "codemirror_mode": {
    "name": "ipython",
    "version": 3
   },
   "file_extension": ".py",
   "mimetype": "text/x-python",
   "name": "python",
   "nbconvert_exporter": "python",
   "pygments_lexer": "ipython3",
   "version": "3.7.3"
  },
  "widgets": {
   "state": {},
   "version": "1.1.2"
  }
 },
 "nbformat": 4,
 "nbformat_minor": 2
}
