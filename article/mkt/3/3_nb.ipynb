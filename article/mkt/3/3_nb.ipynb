{
 "cells": [
  {
   "cell_type": "code",
   "execution_count": null,
   "metadata": {},
   "outputs": [],
   "source": [
    "## Repeat Buying Model\n",
    "## Repeat Buying Model\n",
    "\n",
    "本章では以下の論文について解説を行います。随時追加していく予定です。\n",
    "\n",
    "- <a href=\"https://www.empgens.com/article/repeat-buying/\" target=\"_blank\">Repeat-Buying</a>\n",
    "\n",
    "　Ehrenberg先生の有名な論文「Repeat-Buying」は「確率試行の戦略論」の中でも最も引用されている論文です。また、本ホームページで開設してきた数学的なバックグランドはすべてこの論文から引用されていると言っても過言ではありません。本章では、「確率試行の戦略論」の理解に必要な部分を中心に開設を行います。\n",
    "\n",
    "### 長期平均購入回数をガンマ分布で表現する根拠\n",
    "\n",
    "　Eherenberg先生の論文ではガンマ分布を仮定することに直接的な根拠は上げていません。厳密な仮定でないことも明言されています。実際に得られたデータを再現できること、フィッティングパラメタとして二つの変数を持つ事が上げられています。\n",
    "{{<figure src=\"02.png\" class=\"center\">}}\n",
    "{{<figure src=\"03.png\" class=\"center\">}}\n",
    "\n",
    "\n",
    "　また、ポアソン分布とガンマ分布の混合分布の結果として、負の二項分布が導かれる事も本論文に記述されています。以下の表は「確率試行の戦略論」でも取り上げられている表に似ています。著者もこの論文を参考に表を作ったものと思われます。\n",
    "\n",
    "{{<figure src=\"01.png\" class=\"center\">}}\n"
   ]
  }
 ],
 "metadata": {
  "kernelspec": {
   "display_name": "Python 3",
   "language": "python",
   "name": "python3"
  },
  "language_info": {
   "codemirror_mode": {
    "name": "ipython",
    "version": 3
   },
   "file_extension": ".py",
   "mimetype": "text/x-python",
   "name": "python",
   "nbconvert_exporter": "python",
   "pygments_lexer": "ipython3",
   "version": "3.7.3"
  }
 },
 "nbformat": 4,
 "nbformat_minor": 2
}
