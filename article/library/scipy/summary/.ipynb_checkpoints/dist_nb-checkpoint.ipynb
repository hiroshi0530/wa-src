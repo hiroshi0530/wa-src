{
 "cells": [
  {
   "cell_type": "markdown",
   "metadata": {},
   "source": [
    "## scipyによる確率分布と特殊関数\n",
    "\n",
    "### github\n",
    "- jupyter notebook形式のファイルは[こちら](https://github.com/hiroshi0530/wa-src/blob/master/article/library/scipy/dist/dist_nb.ipynb)\n",
    "\n",
    "### google colaboratory\n",
    "- google colaboratory で実行する場合は[こちら](https://colab.research.google.com/github/hiroshi0530/wa-src/blob/master/article/library/scipy/dist/dist_nb.ipynb)\n",
    "\n",
    "### 筆者の環境\n",
    "筆者のOSはmacOSです。LinuxやUnixのコマンドとはオプションが異なります。"
   ]
  },
  {
   "cell_type": "code",
   "execution_count": 1,
   "metadata": {},
   "outputs": [
    {
     "name": "stdout",
     "output_type": "stream",
     "text": [
      "ProductName:\tMac OS X\r\n",
      "ProductVersion:\t10.14.6\r\n",
      "BuildVersion:\t18G2022\r\n"
     ]
    }
   ],
   "source": [
    "!sw_vers"
   ]
  },
  {
   "cell_type": "code",
   "execution_count": 2,
   "metadata": {},
   "outputs": [
    {
     "name": "stdout",
     "output_type": "stream",
     "text": [
      "Python 3.7.3\r\n"
     ]
    }
   ],
   "source": [
    "!python -V"
   ]
  },
  {
   "cell_type": "markdown",
   "metadata": {},
   "source": [
    "基本的なライブラリをインポートしそのバージョンを確認しておきます。"
   ]
  },
  {
   "cell_type": "code",
   "execution_count": 3,
   "metadata": {},
   "outputs": [
    {
     "name": "stdout",
     "output_type": "stream",
     "text": [
      "matplotlib version : 3.0.3\n",
      "scipy versiscipyon : 1.4.1\n"
     ]
    },
    {
     "ename": "NameError",
     "evalue": "name 'numpy' is not defined",
     "output_type": "error",
     "traceback": [
      "\u001b[0;31m---------------------------------------------------------------------------\u001b[0m",
      "\u001b[0;31mNameError\u001b[0m                                 Traceback (most recent call last)",
      "\u001b[0;32m<ipython-input-3-44a57653aa94>\u001b[0m in \u001b[0;36m<module>\u001b[0;34m\u001b[0m\n\u001b[1;32m      9\u001b[0m \u001b[0mprint\u001b[0m\u001b[0;34m(\u001b[0m\u001b[0;34m'matplotlib version :'\u001b[0m\u001b[0;34m,\u001b[0m \u001b[0mmatplotlib\u001b[0m\u001b[0;34m.\u001b[0m\u001b[0m__version__\u001b[0m\u001b[0;34m)\u001b[0m\u001b[0;34m\u001b[0m\u001b[0;34m\u001b[0m\u001b[0m\n\u001b[1;32m     10\u001b[0m \u001b[0mprint\u001b[0m\u001b[0;34m(\u001b[0m\u001b[0;34m'scipy versiscipyon :'\u001b[0m\u001b[0;34m,\u001b[0m \u001b[0mscipy\u001b[0m\u001b[0;34m.\u001b[0m\u001b[0m__version__\u001b[0m\u001b[0;34m)\u001b[0m\u001b[0;34m\u001b[0m\u001b[0;34m\u001b[0m\u001b[0m\n\u001b[0;32m---> 11\u001b[0;31m \u001b[0mprint\u001b[0m\u001b[0;34m(\u001b[0m\u001b[0;34m'numpy versinumpyon :'\u001b[0m\u001b[0;34m,\u001b[0m \u001b[0mnumpy\u001b[0m\u001b[0;34m.\u001b[0m\u001b[0m__version__\u001b[0m\u001b[0;34m)\u001b[0m\u001b[0;34m\u001b[0m\u001b[0;34m\u001b[0m\u001b[0m\n\u001b[0m",
      "\u001b[0;31mNameError\u001b[0m: name 'numpy' is not defined"
     ]
    }
   ],
   "source": [
    "%matplotlib inline\n",
    "%config InlineBackend.figure_format = 'svg'\n",
    "\n",
    "import matplotlib\n",
    "import matplotlib.pyplot as plt\n",
    "import scipy\n",
    "import numpy as np\n",
    "\n",
    "print('matplotlib version :', matplotlib.__version__)\n",
    "print('scipy version :', scipy.__version__)\n",
    "print('numpy version :', np.__version__)"
   ]
  },
  {
   "cell_type": "markdown",
   "metadata": {},
   "source": [
    "## 基本的な確率分布\n",
    "\n",
    "ここではベイズ統計を理解するために必要な基本的な確率分布と必要な特殊関数の説明を行います。基本的な性質をまとめています。また、サンプリングするpythonのコードも示しています。基本的にはscipyモジュールの統計関数を利用するだけです。\n",
    "\n",
    "### 正規分布\n",
    "\n",
    "正規分布は最も良く使われる確率分布であり、その詳細は教科書に詳細に書かれているので割愛します。ここではscipyによる利用方法にとどめます。\n",
    "\n",
    "#### 表式\n",
    "$\n",
    "\\displaystyle P\\left( x \\| \\mu, \\sigma \\right) = \\frac{1}{\\sqrt{2 \\pi \\sigma^2}} \\exp \\left( - \\frac{x-\\mu}{2 \\sigma^2} \\right)\n",
    "$\n",
    "\n",
    "#### 平均\n",
    "$\n",
    "E\\left[x \\right]=\\mu\n",
    "$\n",
    "\n",
    "#### 分散\n",
    "$\n",
    "V\\left[x\\right]=\\sigma^2\n",
    "$\n",
    "\n",
    "#### 確率密度関数の取得\n",
    "pythonで正規分布の確率密度関数の生成方法は以下の通りです。中心0、標準偏差1のグラフになります。"
   ]
  },
  {
   "cell_type": "code",
   "execution_count": null,
   "metadata": {},
   "outputs": [],
   "source": [
    "from scipy.stats import norm\n",
    "\n",
    "mu = 0\n",
    "sigma = 1\n",
    "\n",
    "X = np.arange(-5, 5, 0.1)\n",
    "Y = norm.pdf(X, mu, sigma)\n",
    "\n",
    "plt.xlabel('$x$')\n",
    "plt.ylabel('$P$')\n",
    "plt.grid()\n",
    "plt.plot(X, Y)"
   ]
  },
  {
   "cell_type": "markdown",
   "metadata": {},
   "source": [
    "実際に定量的なデータ分析の現場では、確率密度関数自体はそれほど使いません。統計モデリングなどでは、仮定された確率分布からデータを仮想的にサンプリングすることがしばしば行われます。確率分布を仮定した場合のシミュレーションのようなものです。"
   ]
  },
  {
   "cell_type": "markdown",
   "metadata": {},
   "source": [
    "#### サンプリング"
   ]
  },
  {
   "cell_type": "code",
   "execution_count": null,
   "metadata": {},
   "outputs": [],
   "source": [
    "from scipy.stats import norm\n",
    "\n",
    "mu = 0\n",
    "sigma = 1\n",
    "\n",
    "x = norm.rvs(mu, sigma, size=1000)\n",
    "plt.grid()\n",
    "plt.hist(x, bins=20)"
   ]
  },
  {
   "cell_type": "markdown",
   "metadata": {},
   "source": [
    "#### help\n",
    "これ以外にもscipy.stats.normには様々な関数が用意されています。"
   ]
  },
  {
   "cell_type": "code",
   "execution_count": null,
   "metadata": {},
   "outputs": [],
   "source": [
    "norm?"
   ]
  },
  {
   "cell_type": "markdown",
   "metadata": {},
   "source": [
    "これを実行するとどのような関数が用意されているかわかります。\n",
    "`rvs: random variates`や`pdf : probability density function`、`logpdf`、`cdf : cumulative distribution function`などを利用する場合が多いと思います。"
   ]
  },
  {
   "cell_type": "markdown",
   "metadata": {},
   "source": [
    "```txt\n",
    "\n",
    "rvs(loc=0, scale=1, size=1, random_state=None)\n",
    "    Random variates.\n",
    "pdf(x, loc=0, scale=1)\n",
    "    Probability density function.\n",
    "logpdf(x, loc=0, scale=1)\n",
    "    Log of the probability density function.\n",
    "cdf(x, loc=0, scale=1)\n",
    "    Cumulative distribution function.\n",
    "logcdf(x, loc=0, scale=1)\n",
    "    Log of the cumulative distribution function.\n",
    "sf(x, loc=0, scale=1)\n",
    "    Survival function  (also defined as ``1 - cdf``, but `sf` is sometimes more accurate).\n",
    "logsf(x, loc=0, scale=1)\n",
    "    Log of the survival function.\n",
    "ppf(q, loc=0, scale=1)\n",
    "    Percent point function (inverse of ``cdf`` --- percentiles).\n",
    "isf(q, loc=0, scale=1)\n",
    "    Inverse survival function (inverse of ``sf``).\n",
    "moment(n, loc=0, scale=1)\n",
    "    Non-central moment of order n\n",
    "stats(loc=0, scale=1, moments='mv')\n",
    "    Mean('m'), variance('v'), skew('s'), and/or kurtosis('k').\n",
    "entropy(loc=0, scale=1)\n",
    "    (Differential) entropy of the RV.\n",
    "fit(data, loc=0, scale=1)\n",
    "    Parameter estimates for generic data.\n",
    "expect(func, args=(), loc=0, scale=1, lb=None, ub=None, conditional=False, **kwds)\n",
    "    Expected value of a function (of one argument) with respect to the distribution.\n",
    "median(loc=0, scale=1)\n",
    "    Median of the distribution.\n",
    "mean(loc=0, scale=1)\n",
    "    Mean of the distribution.\n",
    "var(loc=0, scale=1)\n",
    "    Variance of the distribution.\n",
    "std(loc=0, scale=1)\n",
    "    Standard deviation of the distribution.\n",
    "interval(alpha, loc=0, scale=1)\n",
    "    Endpoints of the range that contains alpha percent of the distribution\n",
    "\n",
    "```"
   ]
  },
  {
   "cell_type": "markdown",
   "metadata": {},
   "source": [
    "### ベルヌーイ分布\n",
    " コイン投げにおいて、表、もしくは裏が出る分布のように、試行の結果が2通りしか存在しない場合の分布を決定します。\n",
    "\n",
    "#### 表式\n",
    "$\n",
    "P\\left( x \\| \\mu \\right) = \\mu^{x}\\left(1-\\mu \\right)^{1-x} \\quad \\left(x = 0 \\text{ or }1 \\right) \n",
    "$\n",
    "\n",
    "もしくは、\n",
    "\n",
    "<div>\n",
    "$$\n",
    " P\\left(x | \\mu \\right)= \\begin{cases}\n",
    "   1 - \\mu &\\text{if } x = 0 \\\\\n",
    "   \\mu &\\text{if } x = 1\n",
    "\\end{cases}\n",
    "$$\n",
    "</div>\n",
    "\n",
    "となります。$x$が0か1しか取らないことに注意してください。\n",
    "\n",
    "#### 平均\n",
    "$\n",
    "E\\left[x \\right]=\\mu\n",
    "$\n",
    "\n",
    "#### 分散\n",
    "$\n",
    "V\\left[x\\right]=\\mu\\left(1-\\mu \\right)\n",
    "$\n",
    "\n",
    "#### python code"
   ]
  },
  {
   "cell_type": "code",
   "execution_count": null,
   "metadata": {},
   "outputs": [],
   "source": [
    "from scipy.stats import bernoulli\n",
    "\n",
    "mu=0.3\n",
    "size=100\n",
    "\n",
    "print(bernoulli.rvs(mu, size=size))"
   ]
  },
  {
   "cell_type": "markdown",
   "metadata": {},
   "source": [
    "### 二項分布\n",
    "コイン投げを複数回行った結果、表が出来る回数の確率が従う分布になります。回数が1の時はベルヌーイ分布に一致します。$n$がコインを投げる回数、$p$が表が出る確率、$k$が表が出る回数で確率変数になります。詳細な計算は別途教科書を参照してください。\n",
    "\n",
    "#### 表式\n",
    "$ \\displaystyle\n",
    "P\\left(k | n,p \\right) = \\frac{n!}{k!\\left(n-k \\right)!} p^{k}\\left( 1-p\\right)^{n-k}\n",
    "$\n",
    "\n",
    "#### 平均\n",
    "$ \\displaystyle\n",
    "E\\left[k \\right] = np\n",
    "$\n",
    "\n",
    "#### 分散\n",
    "$ \\displaystyle\n",
    "V\\left[k \\right] = np\\left(1-p \\right) \n",
    "$\n",
    "\n",
    "#### python code と グラフ\n",
    "\n",
    "$p=0.3, 0.5, 0.9$の場合の二項分布の確率質量関数になります。"
   ]
  },
  {
   "cell_type": "code",
   "execution_count": null,
   "metadata": {},
   "outputs": [],
   "source": [
    "import numpy as np\n",
    "import scipy\n",
    "from scipy.stats import binom\n",
    "import matplotlib.pyplot as plt\n",
    "\n",
    "n = 100\n",
    "x = np.arange(n)\n",
    "\n",
    "# case.1\n",
    "p = 0.3\n",
    "y1 = binom.pmf(x,n,p)\n",
    "\n",
    "# case.2\n",
    "p = 0.5\n",
    "y2 = binom.pmf(x,n,p)\n",
    "\n",
    "# case.3\n",
    "p = 0.9\n",
    "y3 = binom.pmf(x,n,p)\n",
    "\n",
    "# fig, ax = plt.subplots(facecolor=\"w\")\n",
    "plt.plot(x, y1, label=\"$p=0.3$\")\n",
    "plt.plot(x, y2, label=\"$p=0.5$\")\n",
    "plt.plot(x, y3, label=\"$p=0.9$\")\n",
    "\n",
    "plt.xlabel('$k$')\n",
    "plt.ylabel('$B(n,p)$')\n",
    "plt.title('binomial distribution n={}'.format(n))\n",
    "plt.grid(True)\n",
    "\n",
    "plt.legend()"
   ]
  },
  {
   "cell_type": "markdown",
   "metadata": {},
   "source": [
    "### カテゴリ分布\n",
    "#### 平均\n",
    "$ \\displaystyle\n",
    "\\left[x \\right] = \n",
    "$\n",
    "\n",
    "#### 分散\n",
    "$ \\displaystyle\n",
    "V\\left[x \\right] = \n",
    "$"
   ]
  },
  {
   "cell_type": "code",
   "execution_count": null,
   "metadata": {},
   "outputs": [],
   "source": []
  },
  {
   "cell_type": "markdown",
   "metadata": {},
   "source": [
    "### 多項分布\n",
    "#### 平均\n",
    "$ \\displaystyle\n",
    "E\\left[x \\right] = \n",
    "$\n",
    "\n",
    "#### 分散\n",
    "$ \\displaystyle\n",
    "V\\left[x \\right] = \n",
    "$"
   ]
  },
  {
   "cell_type": "code",
   "execution_count": null,
   "metadata": {},
   "outputs": [],
   "source": []
  },
  {
   "cell_type": "markdown",
   "metadata": {},
   "source": [
    "### ベータ分布\n",
    "#### 平均\n",
    "$ \\displaystyle\n",
    "E\\left[x \\right] = \n",
    "$\n",
    "\n",
    "#### 分散\n",
    "$ \\displaystyle\n",
    "V\\left[x \\right] = \n",
    "$"
   ]
  },
  {
   "cell_type": "code",
   "execution_count": null,
   "metadata": {},
   "outputs": [],
   "source": []
  },
  {
   "cell_type": "markdown",
   "metadata": {},
   "source": [
    "### ガンマ分布\n",
    "#### 平均\n",
    "$ \\displaystyle\n",
    "E\\left[x \\right] = \n",
    "$\n",
    "\n",
    "#### 分散\n",
    "$ \\displaystyle\n",
    "V\\left[x \\right] = \n",
    "$"
   ]
  },
  {
   "cell_type": "code",
   "execution_count": null,
   "metadata": {},
   "outputs": [],
   "source": []
  },
  {
   "cell_type": "markdown",
   "metadata": {},
   "source": [
    "### カイ二乗分布\n",
    "#### 平均\n",
    "$ \\displaystyle\n",
    "E\\left[x \\right] = \n",
    "$\n",
    "\n",
    "#### 分散\n",
    "$ \\displaystyle\n",
    "V\\left[x \\right] = \n",
    "$ "
   ]
  },
  {
   "cell_type": "code",
   "execution_count": null,
   "metadata": {},
   "outputs": [],
   "source": []
  },
  {
   "cell_type": "markdown",
   "metadata": {},
   "source": [
    "### ステューデントのt分布\n",
    "#### 平均\n",
    "$ \\displaystyle\n",
    "E\\left[x \\right] = \n",
    "$\n",
    "\n",
    "#### 分散\n",
    "$ \\displaystyle\n",
    "V\\left[x \\right] = \n",
    "$"
   ]
  },
  {
   "cell_type": "code",
   "execution_count": null,
   "metadata": {},
   "outputs": [],
   "source": []
  },
  {
   "cell_type": "markdown",
   "metadata": {},
   "source": [
    "## 基本的な特殊関数\n",
    "\n",
    "### ベータ関数\n",
    "test\n",
    "### ガンマ関数\n",
    "test"
   ]
  },
  {
   "cell_type": "markdown",
   "metadata": {},
   "source": [
    "## まとめ\n",
    "\n",
    "### 主要確率分布一覧 \n",
    "\n",
    "<!-- <div style=\"width:100%; margin: 10px 40px 10px 40px;\"> -->\n",
    "<style>.cent td {text-align:center;}</style>\n",
    "<style>.cent tr {text-align:center;}</style>\n",
    "\n",
    "<div style=\"width:100%;\"> \n",
    "<table class=\"cent\">\n",
    "  <tr>\n",
    "    <th>名前</th>\n",
    "    <th>確率密度関数</th>\n",
    "    <th>確率変数</th>\n",
    "    <th>params</th>\n",
    "    <th>$\\displaystyle E[x]$</th>\n",
    "    <th>$\\displaystyle V[x]$</th>\n",
    "    <th>概要</th>\n",
    "  </tr>\n",
    "  <tr>\n",
    "    <td>二項分布</td>\n",
    "    <td>$\\displaystyle \\binom{n}{k}p^k\\left(1-p\\right)^{n-k}$</td>\n",
    "    <td>$k$</td>\n",
    "    <td>$n,p$</td>\n",
    "    <td>$np$</td>\n",
    "    <td>$np(1-p)$</td>\n",
    "    <td>成功確率$\\displaystyle p $の試行を$n$回行い、その成功回数が従う確率分布 </td>\n",
    "  </tr>\n",
    "  <tr>\n",
    "    <td>ポアソン分布</td>\n",
    "    <td>$\\displaystyle \\dfrac{\\lambda^ke^{-\\lambda}}{k!}$</td>\n",
    "    <td>$k$</td>\n",
    "    <td>$\\lambda$</td>\n",
    "    <td>$\\lambda$</td>\n",
    "    <td>$\\lambda$</td>\n",
    "    <td align=\"left\">単位時間あたり$\\displaystyle \\lambda$回起こる事象の、単位時間あたりの発生回数が従う確率分布</td>\n",
    "  </tr>\n",
    "  <tr>\n",
    "    <td>正規分布</td>\n",
    "    <td>$\\displaystyle \\dfrac{1}{\\sqrt{2\\pi \\sigma^2}}\\exp\\left(-\\dfrac{\\left(x-\\mu\\right)^2}{2\\sigma^2}\\right)$</td>\n",
    "    <td>$x$</td>\n",
    "    <td>$\\mu,\\sigma$</td>\n",
    "    <td>$\\mu$</td>\n",
    "    <td>$\\sigma^2$</td>\n",
    "    <td></td>\n",
    "  </tr>\n",
    "  <tr>\n",
    "    <td>幾何分布</td>\n",
    "    <td>$\\displaystyle p\\left(1-p\\right)^k$</td>\n",
    "    <td>$k$</td>\n",
    "    <td>$p$</td>\n",
    "    <td>$\\displaystyle \\dfrac{1-p}{p}$</td>\n",
    "    <td>$\\displaystyle \\dfrac{1-p}{p^2}$</td>\n",
    "    <td align=\"left\">成功確率$\\displaystyle p $の試行を行い、はじめての成功を得られるまでに必要な失敗の回数が従う確率分布</td>\n",
    "  </tr>\n",
    "  <tr>\n",
    "    <td>指数分布</td>\n",
    "    <th>$\\lambda e^{-\\lambda x} $</th>\n",
    "    <td>$\\displaystyle x $</td>\n",
    "    <td>$\\displaystyle \\lambda $</td>\n",
    "    <td>$\\displaystyle \\dfrac{1}{\\lambda} $</td>\n",
    "    <td>$\\displaystyle \\dfrac{1}{\\lambda^2} $</td>\n",
    "    <td>単位時間あたり$\\displaystyle \\lambda$回起こる事象において、始めて発生する時間が従う確率分布</td>\n",
    "  </tr>\n",
    "  <tr>\n",
    "    <td>負の二項分布</td>\n",
    "    <td>$\\displaystyle \\binom{n+k-1}{k-1}p^n\\left(1-p\\right)^{k}$</td>\n",
    "    <td>$k$</td>\n",
    "    <td>$n,p$</td>\n",
    "    <td>$\\displaystyle \\dfrac{n}{p}$</td>\n",
    "    <td>$\\displaystyle \\dfrac{n\\left(1-p\\right)}{p^2}$</td>\n",
    "    <td align=\"left\">成功確率$\\displaystyle p $の試行を行い、$n$回の成功を得られるまでに必要な失敗の回数が従う確率分布 (定義は他にもあり)</td>\n",
    "  </tr>\n",
    "  <tr>\n",
    "    <td>ガンマ分布</td>\n",
    "    <td>$\\displaystyle \\dfrac{x^{n-1}\\lambda^{n}}{\\Gamma\\left(n\\right)}e^{-\\lambda x} $ <br>for $x > 0$</td>\n",
    "    <td>$x$</td>\n",
    "    <td>$n,\\lambda$</td>\n",
    "    <td>$\\displaystyle \\dfrac{n}{\\lambda}$</td>\n",
    "    <td>$\\displaystyle \\dfrac{n}{\\lambda^2}$</td>\n",
    "    <td>単位時間あたり$\\displaystyle \\lambda$回起こる事象において、$n$回発生する時間が従う確率分布</td>\n",
    "  </tr>\n",
    "</table>\n",
    "</div>"
   ]
  }
 ],
 "metadata": {
  "kernelspec": {
   "display_name": "Python 3",
   "language": "python",
   "name": "python3"
  },
  "language_info": {
   "codemirror_mode": {
    "name": "ipython",
    "version": 3
   },
   "file_extension": ".py",
   "mimetype": "text/x-python",
   "name": "python",
   "nbconvert_exporter": "python",
   "pygments_lexer": "ipython3",
   "version": "3.7.3"
  },
  "widgets": {
   "state": {},
   "version": "1.1.2"
  }
 },
 "nbformat": 4,
 "nbformat_minor": 2
}
