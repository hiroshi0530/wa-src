{
 "cells": [
  {
   "cell_type": "markdown",
   "metadata": {},
   "source": [
    "## scipyによる確率分布と特殊関数\n",
    "\n",
    "### github\n",
    "- jupyter notebook形式のファイルは[こちら](https://github.com/hiroshi0530/wa-src/blob/master/article/library/scipy/summary/summary_nb.ipynb)\n",
    "\n",
    "### google colaboratory\n",
    "- google colaboratory で実行する場合は[こちら](https://colab.research.google.com/github/hiroshi0530/wa-src/blob/master/article/library/scipy/summary/summary_nb.ipynb)\n",
    "\n",
    "### 筆者の環境\n",
    "筆者のOSはmacOSです。LinuxやUnixのコマンドとはオプションが異なります。"
   ]
  },
  {
   "cell_type": "code",
   "execution_count": 1,
   "metadata": {},
   "outputs": [
    {
     "name": "stdout",
     "output_type": "stream",
     "text": [
      "ProductName:\tMac OS X\r\n",
      "ProductVersion:\t10.14.6\r\n",
      "BuildVersion:\t18G2022\r\n"
     ]
    }
   ],
   "source": [
    "!sw_vers"
   ]
  },
  {
   "cell_type": "code",
   "execution_count": 2,
   "metadata": {},
   "outputs": [
    {
     "name": "stdout",
     "output_type": "stream",
     "text": [
      "Python 3.7.3\r\n"
     ]
    }
   ],
   "source": [
    "!python -V"
   ]
  },
  {
   "cell_type": "markdown",
   "metadata": {},
   "source": [
    "基本的なライブラリをインポートしそのバージョンを確認しておきます。"
   ]
  },
  {
   "cell_type": "code",
   "execution_count": 3,
   "metadata": {},
   "outputs": [
    {
     "name": "stdout",
     "output_type": "stream",
     "text": [
      "matplotlib version : 3.0.3\n",
      "scipy version : 1.4.1\n",
      "numpy version : 1.16.2\n"
     ]
    }
   ],
   "source": [
    "%matplotlib inline\n",
    "%config InlineBackend.figure_format = 'svg'\n",
    "\n",
    "import matplotlib\n",
    "import matplotlib.pyplot as plt\n",
    "import scipy\n",
    "import numpy as np\n",
    "\n",
    "print('matplotlib version :', matplotlib.__version__)\n",
    "print('scipy version :', scipy.__version__)\n",
    "print('numpy version :', np.__version__)"
   ]
  },
  {
   "cell_type": "markdown",
   "metadata": {},
   "source": [
    "## 主要確率分布の使い所\n",
    "\n",
    "データ分析などでは確率分布が様々な場所で利用されますが、簡単にまとめておきます。負の二項分などはマーケティングなどの分野でよく利用される確率分布になります。\n",
    "\n",
    "<!-- <div style=\"width:100%; margin: 10px 40px 10px 40px;\"> -->\n",
    "<style>.cent td {text-align:center;}</style>\n",
    "<style>.cent tr {text-align:center;}</style>\n",
    "\n",
    "<div style=\"width:100%;\"> \n",
    "<table class=\"cent\">\n",
    "  <tr>\n",
    "    <th>名前</th>\n",
    "    <th>確率密度関数</th>\n",
    "    <th>確率変数</th>\n",
    "    <th>params</th>\n",
    "    <th>$\\displaystyle E[x]$</th>\n",
    "    <th>$\\displaystyle V[x]$</th>\n",
    "    <th>概要</th>\n",
    "  </tr>\n",
    "  <tr>\n",
    "    <td>二項分布</td>\n",
    "    <td>$\\displaystyle \\binom{n}{k}p^k\\left(1-p\\right)^{n-k}$</td>\n",
    "    <td>$k$</td>\n",
    "    <td>$n,p$</td>\n",
    "    <td>$np$</td>\n",
    "    <td>$np(1-p)$</td>\n",
    "    <td>成功確率$\\displaystyle p $の試行を$n$回行い、その成功回数が従う確率分布 </td>\n",
    "  </tr>\n",
    "  <tr>\n",
    "    <td>ポアソン分布</td>\n",
    "    <td>$\\displaystyle \\dfrac{\\lambda^ke^{-\\lambda}}{k!}$</td>\n",
    "    <td>$k$</td>\n",
    "    <td>$\\lambda$</td>\n",
    "    <td>$\\lambda$</td>\n",
    "    <td>$\\lambda$</td>\n",
    "    <td align=\"left\">単位時間あたり$\\displaystyle \\lambda$回起こる事象の、単位時間あたりの発生回数が従う確率分布</td>\n",
    "  </tr>\n",
    "  <tr>\n",
    "    <td>正規分布</td>\n",
    "    <td>$\\displaystyle \\dfrac{1}{\\sqrt{2\\pi \\sigma^2}}\\exp\\left(-\\dfrac{\\left(x-\\mu\\right)^2}{2\\sigma^2}\\right)$</td>\n",
    "    <td>$x$</td>\n",
    "    <td>$\\mu,\\sigma$</td>\n",
    "    <td>$\\mu$</td>\n",
    "    <td>$\\sigma^2$</td>\n",
    "    <td></td>\n",
    "  </tr>\n",
    "  <tr>\n",
    "    <td>幾何分布</td>\n",
    "    <td>$\\displaystyle p\\left(1-p\\right)^k$</td>\n",
    "    <td>$k$</td>\n",
    "    <td>$p$</td>\n",
    "    <td>$\\displaystyle \\dfrac{1-p}{p}$</td>\n",
    "    <td>$\\displaystyle \\dfrac{1-p}{p^2}$</td>\n",
    "    <td align=\"left\">成功確率$\\displaystyle p $の試行を行い、はじめての成功を得られるまでに必要な失敗の回数が従う確率分布</td>\n",
    "  </tr>\n",
    "  <tr>\n",
    "    <td>指数分布</td>\n",
    "    <th>$\\lambda e^{-\\lambda x} $</th>\n",
    "    <td>$\\displaystyle x $</td>\n",
    "    <td>$\\displaystyle \\lambda $</td>\n",
    "    <td>$\\displaystyle \\dfrac{1}{\\lambda} $</td>\n",
    "    <td>$\\displaystyle \\dfrac{1}{\\lambda^2} $</td>\n",
    "    <td>単位時間あたり$\\displaystyle \\lambda$回起こる事象において、始めて発生する時間が従う確率分布</td>\n",
    "  </tr>\n",
    "  <tr>\n",
    "    <td>負の二項分布</td>\n",
    "    <td>$\\displaystyle \\binom{n+k-1}{k-1}p^n\\left(1-p\\right)^{k}$</td>\n",
    "    <td>$k$</td>\n",
    "    <td>$n,p$</td>\n",
    "    <td>$\\displaystyle \\dfrac{n}{p}$</td>\n",
    "    <td>$\\displaystyle \\dfrac{n\\left(1-p\\right)}{p^2}$</td>\n",
    "    <td align=\"left\">成功確率$\\displaystyle p $の試行を行い、$n$回の成功を得られるまでに必要な失敗の回数が従う確率分布 (定義は他にもあり)</td>\n",
    "  </tr>\n",
    "  <tr>\n",
    "    <td>ガンマ分布</td>\n",
    "    <td>$\\displaystyle \\dfrac{x^{n-1}\\lambda^{n}}{\\Gamma\\left(n\\right)}e^{-\\lambda x} $ <br>for $x > 0$</td>\n",
    "    <td>$x$</td>\n",
    "    <td>$n,\\lambda$</td>\n",
    "    <td>$\\displaystyle \\dfrac{n}{\\lambda}$</td>\n",
    "    <td>$\\displaystyle \\dfrac{n}{\\lambda^2}$</td>\n",
    "    <td>単位時間あたり$\\displaystyle \\lambda$回起こる事象において、$n$回発生する時間が従う確率分布</td>\n",
    "  </tr>\n",
    "</table>\n",
    "</div>"
   ]
  }
 ],
 "metadata": {
  "kernelspec": {
   "display_name": "Python 3",
   "language": "python",
   "name": "python3"
  },
  "language_info": {
   "codemirror_mode": {
    "name": "ipython",
    "version": 3
   },
   "file_extension": ".py",
   "mimetype": "text/x-python",
   "name": "python",
   "nbconvert_exporter": "python",
   "pygments_lexer": "ipython3",
   "version": "3.7.3"
  },
  "widgets": {
   "state": {},
   "version": "1.1.2"
  }
 },
 "nbformat": 4,
 "nbformat_minor": 2
}
