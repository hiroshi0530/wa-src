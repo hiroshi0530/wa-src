{
 "cells": [
  {
   "cell_type": "markdown",
   "metadata": {},
   "source": [
    "## uniq\n",
    "重複している行を削除します。\n",
    "\n",
    "```bash\n",
    "UNIQ(1)                   BSD General Commands Manual                  UNIQ(1)\n",
    "\n",
    "NAME\n",
    "     uniq -- report or filter out repeated lines in a file\n",
    "\n",
    "SYNOPSIS\n",
    "     uniq [-c | -d | -u] [-i] [-f num] [-s chars] [input_file [output_file]]\n",
    "```\n",
    "\n",
    "### github\n",
    "- githubのjupyter notebook形式のファイルは[こちら](https://github.com/hiroshi0530/wa-src/blob/master/article/library/bash/uniq/uniq_nb.ipynb)\n",
    "\n",
    "### 環境\n",
    "筆者のOSはmacOSです。LinuxやUnixのコマンドとはオプションが異なります。\n",
    "\n",
    "実際に動かす際は先頭の！や先頭行の%%bashは無視してください。"
   ]
  },
  {
   "cell_type": "code",
   "execution_count": 1,
   "metadata": {},
   "outputs": [
    {
     "name": "stdout",
     "output_type": "stream",
     "text": [
      "ProductName:\tMac OS X\r\n",
      "ProductVersion:\t10.14.6\r\n",
      "BuildVersion:\t18G95\r\n"
     ]
    }
   ],
   "source": [
    "!sw_vers"
   ]
  },
  {
   "cell_type": "code",
   "execution_count": 2,
   "metadata": {},
   "outputs": [
    {
     "name": "stdout",
     "output_type": "stream",
     "text": [
      "GNU bash, version 3.2.57(1)-release (x86_64-apple-darwin18)\r\n",
      "Copyright (C) 2007 Free Software Foundation, Inc.\r\n"
     ]
    }
   ],
   "source": [
    "!bash --version"
   ]
  },
  {
   "cell_type": "markdown",
   "metadata": {},
   "source": [
    "## 使用例\n",
    "\n",
    "データ分析の仕事をしているとよく利用します。重複している無駄なものはゴミになる可能性が高いですから。通常は、\n",
    "\n",
    "```bash\n",
    "uniq <in file> <out file>\n",
    "```\n",
    "\n",
    "で重複している行を削除した結果を別ファイルに出力させます。"
   ]
  },
  {
   "cell_type": "code",
   "execution_count": 13,
   "metadata": {},
   "outputs": [
    {
     "name": "stdout",
     "output_type": "stream",
     "text": [
      "ファイルの準備\n",
      "<before>\n",
      "123\n",
      "123\n",
      "123\n",
      "\n",
      "<after>\n",
      "123\n"
     ]
    }
   ],
   "source": [
    "%%bash\n",
    "echo \"ファイルの準備\"\n",
    "echo -e \"123\\n123\\n123\" > temp\n",
    "echo -e \"<before>\"\n",
    "cat temp\n",
    "\n",
    "uniq temp temp2\n",
    "echo -e \"\\n<after>\"\n",
    "cat temp2"
   ]
  }
 ],
 "metadata": {
  "kernelspec": {
   "display_name": "Python 3",
   "language": "python",
   "name": "python3"
  },
  "language_info": {
   "codemirror_mode": {
    "name": "ipython",
    "version": 3
   },
   "file_extension": ".py",
   "mimetype": "text/x-python",
   "name": "python",
   "nbconvert_exporter": "python",
   "pygments_lexer": "ipython3",
   "version": "3.7.3"
  },
  "widgets": {
   "state": {},
   "version": "1.1.2"
  }
 },
 "nbformat": 4,
 "nbformat_minor": 2
}
