{
 "cells": [
  {
   "cell_type": "markdown",
   "metadata": {},
   "source": [
    "## uniq\n",
    "重複している行を削除します。\n",
    "\n",
    "```bash\n",
    "UNIQ(1)                   BSD General Commands Manual                  UNIQ(1)\n",
    "\n",
    "NAME\n",
    "     uniq -- report or filter out repeated lines in a file\n",
    "\n",
    "SYNOPSIS\n",
    "     uniq [-c | -d | -u] [-i] [-f num] [-s chars] [input_file [output_file]]\n",
    "```\n",
    "\n",
    "### github\n",
    "- githubのjupyter notebook形式のファイルは[こちら](https://github.com/hiroshi0530/wa-src/blob/master/article/library/bash/uniq/uniq_nb.ipynb)\n",
    "\n",
    "### 環境\n",
    "筆者のOSはmacOSです。LinuxやUnixのコマンドとはオプションが異なります。\n",
    "\n",
    "実際に動かす際は先頭の！や先頭行の%%bashは無視してください。"
   ]
  },
  {
   "cell_type": "code",
   "execution_count": 1,
   "metadata": {},
   "outputs": [
    {
     "name": "stdout",
     "output_type": "stream",
     "text": [
      "ProductName:\tMac OS X\r\n",
      "ProductVersion:\t10.14.6\r\n",
      "BuildVersion:\t18G95\r\n"
     ]
    }
   ],
   "source": [
    "!sw_vers"
   ]
  },
  {
   "cell_type": "code",
   "execution_count": 2,
   "metadata": {},
   "outputs": [
    {
     "name": "stdout",
     "output_type": "stream",
     "text": [
      "GNU bash, version 3.2.57(1)-release (x86_64-apple-darwin18)\r\n",
      "Copyright (C) 2007 Free Software Foundation, Inc.\r\n"
     ]
    }
   ],
   "source": [
    "!bash --version"
   ]
  },
  {
   "cell_type": "markdown",
   "metadata": {},
   "source": [
    "## 使用例\n",
    "\n",
    "データ分析の仕事をしているとよく利用します。重複している無駄なものはゴミになる可能性が高いですから。通常は、\n",
    "\n",
    "```bash\n",
    "uniq <in file> <out file>\n",
    "```\n",
    "\n",
    "で重複している行を削除した結果を別ファイルに出力させます。"
   ]
  },
  {
   "cell_type": "code",
   "execution_count": 13,
   "metadata": {},
   "outputs": [
    {
     "name": "stdout",
     "output_type": "stream",
     "text": [
      "ファイルの準備\n",
      "<before>\n",
      "123\n",
      "123\n",
      "123\n",
      "\n",
      "<after>\n",
      "123\n"
     ]
    }
   ],
   "source": [
    "%%bash\n",
    "echo \"ファイルの準備\"\n",
    "echo -e \"123\\n123\\n123\" > temp\n",
    "echo -e \"<before>\"\n",
    "cat temp\n",
    "\n",
    "uniq temp temp2\n",
    "echo -e \"\\n<after>\"\n",
    "cat temp2"
   ]
  },
  {
   "cell_type": "markdown",
   "metadata": {},
   "source": [
    "## 代表的なオプション\n",
    "- x\n",
    "- y"
   ]
  },
  {
   "cell_type": "markdown",
   "metadata": {},
   "source": [
    "### xxx オプションj"
   ]
  },
  {
   "cell_type": "code",
   "execution_count": null,
   "metadata": {},
   "outputs": [],
   "source": [
    "%%bash\n"
   ]
  },
  {
   "cell_type": "markdown",
   "metadata": {},
   "source": [
    "## 参考記事"
   ]
  },
  {
   "cell_type": "code",
   "execution_count": 5,
   "metadata": {},
   "outputs": [
    {
     "name": "stdout",
     "output_type": "stream",
     "text": [
      "\r\n",
      "UNIQ(1)                   BSD General Commands Manual                  UNIQ(1)\r\n",
      "\r\n",
      "N\bNA\bAM\bME\bE\r\n",
      "     u\bun\bni\biq\bq -- report or filter out repeated lines in a file\r\n",
      "\r\n",
      "S\bSY\bYN\bNO\bOP\bPS\bSI\bIS\bS\r\n",
      "     u\bun\bni\biq\bq [-\b-c\bc | -\b-d\bd | -\b-u\bu] [-\b-i\bi] [-\b-f\bf _\bn_\bu_\bm] [-\b-s\bs _\bc_\bh_\ba_\br_\bs] [_\bi_\bn_\bp_\bu_\bt_\b__\bf_\bi_\bl_\be [_\bo_\bu_\bt_\bp_\bu_\bt_\b__\bf_\bi_\bl_\be]]\r\n",
      "\r\n",
      "D\bDE\bES\bSC\bCR\bRI\bIP\bPT\bTI\bIO\bON\bN\r\n",
      "     The u\bun\bni\biq\bq utility reads the specified _\bi_\bn_\bp_\bu_\bt_\b__\bf_\bi_\bl_\be comparing adjacent lines,\r\n",
      "     and writes a copy of each unique input line to the _\bo_\bu_\bt_\bp_\bu_\bt_\b__\bf_\bi_\bl_\be.  If\r\n",
      "     _\bi_\bn_\bp_\bu_\bt_\b__\bf_\bi_\bl_\be is a single dash (`-\b-') or absent, the standard input is read.\r\n",
      "     If _\bo_\bu_\bt_\bp_\bu_\bt_\b__\bf_\bi_\bl_\be is absent, standard output is used for output.  The second\r\n",
      "     and succeeding copies of identical adjacent input lines are not written.\r\n",
      "     Repeated lines in the input will not be detected if they are not adja-\r\n",
      "     cent, so it may be necessary to sort the files first.\r\n",
      "\r\n",
      "     The following options are available:\r\n",
      "\r\n",
      "     -\b-c\bc      Precede each output line with the count of the number of times\r\n",
      "             the line occurred in the input, followed by a single space.\r\n",
      "\r\n",
      "     -\b-d\bd      Only output lines that are repeated in the input.\r\n",
      "\r\n",
      "     -\b-f\bf _\bn_\bu_\bm  Ignore the first _\bn_\bu_\bm fields in each input line when doing compar-\r\n",
      "             isons.  A field is a string of non-blank characters separated\r\n",
      "             from adjacent fields by blanks.  Field numbers are one based,\r\n",
      "             i.e., the first field is field one.\r\n",
      "\r\n",
      "     -\b-s\bs _\bc_\bh_\ba_\br_\bs\r\n",
      "             Ignore the first _\bc_\bh_\ba_\br_\bs characters in each input line when doing\r\n",
      "             comparisons.  If specified in conjunction with the -\b-f\bf option, the\r\n",
      "             first _\bc_\bh_\ba_\br_\bs characters after the first _\bn_\bu_\bm fields will be\r\n",
      "             ignored.  Character numbers are one based, i.e., the first char-\r\n",
      "             acter is character one.\r\n",
      "\r\n",
      "     -\b-u\bu      Only output lines that are not repeated in the input.\r\n",
      "\r\n",
      "     -\b-i\bi      Case insensitive comparison of lines.\r\n",
      "\r\n",
      "E\bEN\bNV\bVI\bIR\bRO\bON\bNM\bME\bEN\bNT\bT\r\n",
      "     The LANG, LC_ALL, LC_COLLATE and LC_CTYPE environment variables affect\r\n",
      "     the execution of u\bun\bni\biq\bq as described in environ(7).\r\n",
      "\r\n",
      "E\bEX\bXI\bIT\bT S\bST\bTA\bAT\bTU\bUS\bS\r\n",
      "     The u\bun\bni\biq\bq utility exits 0 on success, and >0 if an error occurs.\r\n",
      "\r\n",
      "C\bCO\bOM\bMP\bPA\bAT\bTI\bIB\bBI\bIL\bLI\bIT\bTY\bY\r\n",
      "     The historic +\b+_\bn_\bu_\bm_\bb_\be_\br and -\b-_\bn_\bu_\bm_\bb_\be_\br options have been deprecated but are\r\n",
      "     still supported in this implementation.\r\n",
      "\r\n",
      "S\bSE\bEE\bE A\bAL\bLS\bSO\bO\r\n",
      "     sort(1)\r\n",
      "\r\n",
      "S\bST\bTA\bAN\bND\bDA\bAR\bRD\bDS\bS\r\n",
      "     The u\bun\bni\biq\bq utility conforms to IEEE Std 1003.1-2001 (``POSIX.1'') as\r\n",
      "     amended by Cor. 1-2002.\r\n",
      "\r\n",
      "H\bHI\bIS\bST\bTO\bOR\bRY\bY\r\n",
      "     A u\bun\bni\biq\bq command appeared in Version 3 AT&T UNIX.\r\n",
      "\r\n",
      "BSD                            December 17, 2009                           BSD\r\n"
     ]
    }
   ],
   "source": [
    "!man uniq"
   ]
  }
 ],
 "metadata": {
  "kernelspec": {
   "display_name": "Python 3",
   "language": "python",
   "name": "python3"
  },
  "language_info": {
   "codemirror_mode": {
    "name": "ipython",
    "version": 3
   },
   "file_extension": ".py",
   "mimetype": "text/x-python",
   "name": "python",
   "nbconvert_exporter": "python",
   "pygments_lexer": "ipython3",
   "version": "3.7.3"
  },
  "widgets": {
   "state": {},
   "version": "1.1.2"
  }
 },
 "nbformat": 4,
 "nbformat_minor": 2
}
