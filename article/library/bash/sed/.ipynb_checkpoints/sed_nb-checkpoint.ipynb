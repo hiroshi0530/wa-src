{
 "cells": [
  {
   "cell_type": "markdown",
   "metadata": {},
   "source": [
    "## sed\n",
    "文字列を置換します。\n",
    "とても便利なコマンドで、様々な所で利用します。\n",
    "文字列の置換だけでなく、新たな行を追加したり、削除したり出来ます。\n",
    "\n",
    "```bash\n",
    "NAME\n",
    "     sed -- stream editor\n",
    "\n",
    "SYNOPSIS\n",
    "     sed [-Ealn] command [file ...]\n",
    "     sed [-Ealn] [-e command] [-f command_file] [-i extension] [file ...]\n",
    "```\n",
    "\n",
    "### github\n",
    "- githubのjupyter notebook形式のファイルは[こちら](https://github.com/hiroshi0530/wa-src/blob/master/article/library/bash/sed/sed_nb.ipynb)\n",
    "\n",
    "### google colaboratory\n",
    "- google colaboratory で実行する場合は[こちら](https://colab.research.google.com/github/hiroshi0530/wa-src/blob/master/article/library/bash/sed/sed_nb.ipynb)\n",
    "\n",
    "### 環境\n",
    "筆者のOSはmacOSです。LinuxやUnixのコマンドとはオプションが異なります。\n",
    "\n",
    "実際に動かす際は先頭の！や先頭行の%%bashは無視してください。"
   ]
  },
  {
   "cell_type": "code",
   "execution_count": 2,
   "metadata": {},
   "outputs": [
    {
     "name": "stdout",
     "output_type": "stream",
     "text": [
      "ProductName:\tMac OS X\r\n",
      "ProductVersion:\t10.14.6\r\n",
      "BuildVersion:\t18G2022\r\n"
     ]
    }
   ],
   "source": [
    "!sw_vers"
   ]
  },
  {
   "cell_type": "code",
   "execution_count": 2,
   "metadata": {},
   "outputs": [
    {
     "name": "stdout",
     "output_type": "stream",
     "text": [
      "GNU bash, version 3.2.57(1)-release (x86_64-apple-darwin18)\r\n",
      "Copyright (C) 2007 Free Software Foundation, Inc.\r\n"
     ]
    }
   ],
   "source": [
    "!bash --version"
   ]
  },
  {
   "cell_type": "markdown",
   "metadata": {},
   "source": [
    "## 使用例\n",
    "基本的には\n",
    "\n",
    "```bash\n",
    "sed s/before/after/g <FILE>\n",
    "```\n",
    "\n",
    "でファイル内のbeforeという文字列をafterに置換します。\n",
    "\n",
    "```bash\n",
    "sed -ei s/before/after/g <FILE>\n",
    "```\n",
    "というeiオプションでファイルを上書きします。MACでなければiオプションで上書きできます。最後のgはファイル内のすべてbeforeに対して置換を行います。なければ最初に一致する最初のbeforeだけ置換します。"
   ]
  },
  {
   "cell_type": "code",
   "execution_count": 16,
   "metadata": {},
   "outputs": [
    {
     "name": "stdout",
     "output_type": "stream",
     "text": [
      "ファイルの準備をします。\n",
      "=== example : before ===\n",
      "=== example : after ===\n"
     ]
    }
   ],
   "source": [
    "%%bash\n",
    "echo \"ファイルの準備をします。\"\n",
    "echo \"=== example : before ===\" > temp\n",
    "cat temp\n",
    "sed -ie \"s/before/after/g\" temp\n",
    "cat temp"
   ]
  },
  {
   "cell_type": "markdown",
   "metadata": {},
   "source": [
    "## 代表的なオプション\n",
    "- e\n",
    "- i"
   ]
  }
 ],
 "metadata": {
  "kernelspec": {
   "display_name": "Python 3",
   "language": "python",
   "name": "python3"
  },
  "language_info": {
   "codemirror_mode": {
    "name": "ipython",
    "version": 3
   },
   "file_extension": ".py",
   "mimetype": "text/x-python",
   "name": "python",
   "nbconvert_exporter": "python",
   "pygments_lexer": "ipython3",
   "version": "3.5.5"
  },
  "widgets": {
   "state": {},
   "version": "1.1.2"
  }
 },
 "nbformat": 4,
 "nbformat_minor": 2
}
