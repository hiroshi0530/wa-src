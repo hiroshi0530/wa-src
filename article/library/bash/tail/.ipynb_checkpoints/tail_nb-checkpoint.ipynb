{
 "cells": [
  {
   "cell_type": "markdown",
   "metadata": {},
   "source": [
    "## tail\n",
    "ファイルの末尾を表示します。headオプションの逆です。\n",
    "\n",
    "```bash\n",
    "TAIL(1)                   BSD General Commands Manual \n",
    "\n",
    "NAME\n",
    "     tail -- display the last part of a file\n",
    "\n",
    "SYNOPSIS\n",
    "     tail [-F | -f | -r] [-q] [-b number | -c number | -n number] [file ...]\n",
    "\n",
    "```\n",
    "\n",
    "### github\n",
    "- githubのjupyter notebook形式のファイルは[こちら](https://github.com/hiroshi0530/wa-src/blob/master/article/library/bash/tail/tail_nb.ipynb)\n",
    "\n",
    "### 環境\n",
    "筆者のOSはmacOSです。LinuxやUnixのコマンドとはオプションが異なります。\n",
    "\n",
    "実際に動かす際は先頭の！や先頭行の%%bashは無視してください。"
   ]
  },
  {
   "cell_type": "code",
   "execution_count": 2,
   "metadata": {},
   "outputs": [
    {
     "name": "stdout",
     "output_type": "stream",
     "text": [
      "ProductName:\tMac OS X\r\n",
      "ProductVersion:\t10.14.6\r\n",
      "BuildVersion:\t18G2022\r\n"
     ]
    }
   ],
   "source": [
    "!sw_vers"
   ]
  },
  {
   "cell_type": "code",
   "execution_count": 2,
   "metadata": {},
   "outputs": [
    {
     "name": "stdout",
     "output_type": "stream",
     "text": [
      "GNU bash, version 3.2.57(1)-release (x86_64-apple-darwin18)\r\n",
      "Copyright (C) 2007 Free Software Foundation, Inc.\r\n"
     ]
    }
   ],
   "source": [
    "!bash --version"
   ]
  },
  {
   "cell_type": "markdown",
   "metadata": {},
   "source": [
    "## 使用例"
   ]
  },
  {
   "cell_type": "code",
   "execution_count": 7,
   "metadata": {},
   "outputs": [
    {
     "name": "stdout",
     "output_type": "stream",
     "text": [
      "ファイルの準備\n",
      "1\n",
      "2 \n",
      "3 \n",
      "4 \n",
      "5 \n",
      "6\n",
      "\n",
      "<ファイルの末尾3行を表示>\n",
      "4 \n",
      "5 \n",
      "6\n"
     ]
    }
   ],
   "source": [
    "%%bash\n",
    "echo \"ファイルの準備\"\n",
    "echo -e \"1\\n2 \\n3 \\n4 \\n5 \\n6\" > temp\n",
    "cat temp\n",
    "\n",
    "echo -e \"\\n<ファイルの末尾3行を表示>\"\n",
    "tail -n 3 temp"
   ]
  },
  {
   "cell_type": "markdown",
   "metadata": {},
   "source": [
    "## 代表的なオプション\n",
    "- n : 表示する行数"
   ]
  }
 ],
 "metadata": {
  "kernelspec": {
   "display_name": "Python 3",
   "language": "python",
   "name": "python3"
  },
  "language_info": {
   "codemirror_mode": {
    "name": "ipython",
    "version": 3
   },
   "file_extension": ".py",
   "mimetype": "text/x-python",
   "name": "python",
   "nbconvert_exporter": "python",
   "pygments_lexer": "ipython3",
   "version": "3.7.3"
  },
  "widgets": {
   "state": {},
   "version": "1.1.2"
  }
 },
 "nbformat": 4,
 "nbformat_minor": 2
}
