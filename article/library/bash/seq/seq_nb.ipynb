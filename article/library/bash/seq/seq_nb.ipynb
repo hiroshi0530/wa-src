{
 "cells": [
  {
   "cell_type": "markdown",
   "metadata": {},
   "source": [
    "## seq\n",
    "連番を作成します。\n",
    "\n",
    "```bash\n",
    "NAME\n",
    "     cat -- concatenate and print files\n",
    "\n",
    "SYNOPSIS\n",
    "     cat [-benstuv] [file ...]\n",
    "```\n",
    "\n",
    "### github\n",
    "- githubのjupyter notebook形式のファイルは[こちら](https://github.com/hiroshi0530/wa-src/blob/master/article/library/bash/seq/seq_nb.ipynb)\n",
    "\n",
    "### 筆者の環境\n",
    "筆者のOSはmacOSです。LinuxやUnixのコマンドとはオプションが異なります。\n",
    "\n",
    "実際に動かす際は先頭の！や先頭行の%%bashは無視してください。"
   ]
  },
  {
   "cell_type": "code",
   "execution_count": 1,
   "metadata": {},
   "outputs": [
    {
     "name": "stdout",
     "output_type": "stream",
     "text": [
      "ProductName:\tMac OS X\n",
      "ProductVersion:\t10.14.6\n",
      "BuildVersion:\t18G2022\n",
      "\n",
      "SEQ(1)                    BSD General Commands Manual                   SEQ(1)\n",
      "\n",
      "NAME\n",
      "     seq -- print sequences of numbers\n",
      "\n",
      "SYNOPSIS\n",
      "     seq [-w] [-f format] [-s string] [-t string] [first [incr]] last\n",
      "\n",
      "DESCRIPTION\n",
      "     The seq utility prints a sequence of numbers, one per line (default),\n",
      "     from first (default 1), to near last as possible, in increments of incr\n",
      "     (default 1).  When first is larger than last the default incr is -1.\n",
      "\n",
      "     All numbers are interpreted as floating point.\n",
      "\n",
      "     Normally integer values are printed as decimal integers.\n",
      "\n",
      "     The seq utility accepts the following options:\n",
      "\n",
      "     -f format     Use a printf(3) style format to print each number.  Only\n",
      "                   the E, e, f, G, g, and % conversion characters are valid,\n",
      "                   along with any optional flags and an optional numeric mini-\n",
      "                   mum field width or precision.  The format can contain char-\n",
      "                   acter escape sequences in backslash notation as defined in\n",
      "                   ANSI X3.159-1989 (``ANSI C89'').  The default is %g.\n",
      "\n",
      "     -s string     Use string to separate numbers.  The string can contain\n",
      "                   character escape sequences in backslash notation as defined\n",
      "                   in ANSI X3.159-1989 (``ANSI C89'').  The default is \\n.\n",
      "\n",
      "     -t string     Use string to terminate sequence of numbers.  The string\n",
      "                   can contain character escape sequences in backslash nota-\n",
      "                   tion as defined in ANSI X3.159-1989 (``ANSI C89'').  This\n",
      "                   option is useful when the default separator does not con-\n",
      "                   tain a \\n.\n",
      "\n",
      "     -w            Equalize the widths of all numbers by padding with zeros as\n",
      "                   necessary.  This option has no effect with the -f option.\n",
      "                   If any sequence numbers will be printed in exponential\n",
      "                   notation, the default conversion is changed to %e.\n",
      "\n",
      "     The seq utility exits 0 on success and non-zero if an error occurs.\n",
      "\n",
      "EXAMPLES\n",
      "           # seq 1 3\n",
      "           1\n",
      "           2\n",
      "           3\n",
      "\n",
      "           # seq 3 1\n",
      "           3\n",
      "           2\n",
      "           1\n",
      "\n",
      "           # seq -w 0 .05 .1\n",
      "           0.00\n",
      "           0.05\n",
      "           0.10\n",
      "\n",
      "SEE ALSO\n",
      "     jot(1), printf(1), printf(3)\n",
      "\n",
      "HISTORY\n",
      "     The seq command first appeared in Plan 9 from Bell Labs.  A seq command\n",
      "     appeared in NetBSD 3.0, and ported to FreeBSD 9.0.  This command was\n",
      "     based on the command of the same name in Plan 9 from Bell Labs and the\n",
      "     GNU core utilities.  The GNU seq command first appeared in the 1.13 shell\n",
      "     utilities release.\n",
      "\n",
      "BUGS\n",
      "     The -w option does not handle the transition from pure floating point to\n",
      "     exponent representation very well.  The seq command is not bug for bug\n",
      "     compatible with the Plan 9 from Bell Labs or GNU versions of seq.\n",
      "\n",
      "BSD                            February 19, 2010                           BSD\n"
     ]
    }
   ],
   "source": [
    "!sw_vers\n",
    "\n",
    "!man seq\n"
   ]
  },
  {
   "cell_type": "code",
   "execution_count": 2,
   "metadata": {},
   "outputs": [
    {
     "name": "stdout",
     "output_type": "stream",
     "text": [
      "GNU bash, version 3.2.57(1)-release (x86_64-apple-darwin18)\r\n",
      "Copyright (C) 2007 Free Software Foundation, Inc.\r\n"
     ]
    }
   ],
   "source": [
    "!bash --version"
   ]
  },
  {
   "cell_type": "markdown",
   "metadata": {},
   "source": [
    "### 通常の使い方"
   ]
  },
  {
   "cell_type": "code",
   "execution_count": 3,
   "metadata": {},
   "outputs": [
    {
     "name": "stdout",
     "output_type": "stream",
     "text": [
      "1\r\n",
      "2\r\n",
      "3\r\n",
      "4\r\n",
      "5\r\n",
      "6\r\n",
      "7\r\n",
      "8\r\n",
      "9\r\n",
      "10\r\n"
     ]
    }
   ],
   "source": [
    "!for i in `seq 10`; do echo $i; done"
   ]
  },
  {
   "cell_type": "markdown",
   "metadata": {},
   "source": [
    "seqを利用しなくても、{..}でいけます。0埋めなど知る必要がなければこれで十分です。"
   ]
  },
  {
   "cell_type": "code",
   "execution_count": 4,
   "metadata": {},
   "outputs": [
    {
     "name": "stdout",
     "output_type": "stream",
     "text": [
      "0\r\n",
      "1\r\n",
      "2\r\n",
      "3\r\n",
      "4\r\n",
      "5\r\n",
      "6\r\n",
      "7\r\n",
      "8\r\n",
      "9\r\n",
      "10\r\n"
     ]
    }
   ],
   "source": [
    "!for i in {0..10}; do echo $i; done"
   ]
  },
  {
   "cell_type": "markdown",
   "metadata": {},
   "source": [
    "{..}は配列を作る演算子です。"
   ]
  },
  {
   "cell_type": "code",
   "execution_count": 5,
   "metadata": {},
   "outputs": [
    {
     "name": "stdout",
     "output_type": "stream",
     "text": [
      "1 2 3 4 5 6 7 8 9 10\r\n"
     ]
    }
   ],
   "source": [
    "!echo {1..10}"
   ]
  },
  {
   "cell_type": "markdown",
   "metadata": {},
   "source": [
    "### 連番の0埋め"
   ]
  },
  {
   "cell_type": "code",
   "execution_count": 6,
   "metadata": {},
   "outputs": [
    {
     "name": "stdout",
     "output_type": "stream",
     "text": [
      "03\r\n",
      "04\r\n",
      "05\r\n",
      "06\r\n",
      "07\r\n",
      "08\r\n",
      "09\r\n",
      "10\r\n"
     ]
    }
   ],
   "source": [
    "!for i in `seq -w 3 10`; do echo $i; done"
   ]
  },
  {
   "cell_type": "markdown",
   "metadata": {},
   "source": [
    "### 埋める0の量を変更 "
   ]
  },
  {
   "cell_type": "code",
   "execution_count": 7,
   "metadata": {},
   "outputs": [
    {
     "name": "stdout",
     "output_type": "stream",
     "text": [
      "003\r\n",
      "004\r\n",
      "005\r\n",
      "006\r\n",
      "007\r\n",
      "008\r\n",
      "009\r\n",
      "010\r\n"
     ]
    }
   ],
   "source": [
    "!for i in `seq -f %03g 3 10`; do echo $i; done"
   ]
  }
 ],
 "metadata": {
  "kernelspec": {
   "display_name": "Python 3",
   "language": "python",
   "name": "python3"
  },
  "language_info": {
   "codemirror_mode": {
    "name": "ipython",
    "version": 3
   },
   "file_extension": ".py",
   "mimetype": "text/x-python",
   "name": "python",
   "nbconvert_exporter": "python",
   "pygments_lexer": "ipython3",
   "version": "3.7.3"
  },
  "widgets": {
   "state": {},
   "version": "1.1.2"
  }
 },
 "nbformat": 4,
 "nbformat_minor": 2
}
