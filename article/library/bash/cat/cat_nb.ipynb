{
 "cells": [
  {
   "cell_type": "markdown",
   "metadata": {},
   "source": [
    "## cat\n",
    "ファイルを連結します。ファイルの中身を表示するのによく使用します。\n",
    "ヒアドキュメントなど、複数行にわたるファイルを作成するのに利用します。\n",
    "\n",
    "```bash\n",
    "NAME\n",
    "     cat -- concatenate and print files\n",
    "\n",
    "SYNOPSIS\n",
    "     cat [-benstuv] [file ...]\n",
    "```\n",
    "\n",
    "### github\n",
    "- githubのjupyter notebook形式のファイルは[こちら](https://github.com/hiroshi0530/wa-src/blob/master/article/library/bash/cat/cat_nb.ipynb)\n",
    "\n",
    "### google colaboratory\n",
    "- google colaboratory で実行する場合は[こちら](https://colab.research.google.com/github/hiroshi0530/wa-src/blob/master/article/library/bash/cat/cat_nb.ipynb)\n",
    "\n",
    "### 環境\n",
    "筆者のOSはmacOSです。LinuxやUnixのコマンドとはオプションが異なります。\n",
    "\n",
    "実際に動かす際は先頭の！や先頭行の%%bashは無視してください。"
   ]
  },
  {
   "cell_type": "code",
   "execution_count": 1,
   "metadata": {},
   "outputs": [
    {
     "name": "stdout",
     "output_type": "stream",
     "text": [
      "ProductName:\tMac OS X\r\n",
      "ProductVersion:\t10.14.6\r\n",
      "BuildVersion:\t18G95\r\n"
     ]
    }
   ],
   "source": [
    "!sw_vers"
   ]
  },
  {
   "cell_type": "code",
   "execution_count": 2,
   "metadata": {},
   "outputs": [
    {
     "name": "stdout",
     "output_type": "stream",
     "text": [
      "GNU bash, version 3.2.57(1)-release (x86_64-apple-darwin18)\r\n",
      "Copyright (C) 2007 Free Software Foundation, Inc.\r\n"
     ]
    }
   ],
   "source": [
    "!bash --version"
   ]
  },
  {
   "cell_type": "markdown",
   "metadata": {},
   "source": [
    "## 使用例\n",
    "\n",
    "### ファイルの表示、連結\n",
    "\n",
    "```bash\n",
    "cat file\n",
    "cat file1 file2\n",
    "cat file1 file2 > file3\n",
    "```"
   ]
  },
  {
   "cell_type": "markdown",
   "metadata": {},
   "source": [
    "ファイルを作成し、その中身を表示します。"
   ]
  },
  {
   "cell_type": "code",
   "execution_count": 3,
   "metadata": {},
   "outputs": [
    {
     "name": "stdout",
     "output_type": "stream",
     "text": [
      "a b c\n"
     ]
    }
   ],
   "source": [
    "%%bash\n",
    "echo \"a b c\" > temp.txt \n",
    "cat temp.txt"
   ]
  },
  {
   "cell_type": "markdown",
   "metadata": {},
   "source": [
    "ファイルを二つ作成し連結します。"
   ]
  },
  {
   "cell_type": "code",
   "execution_count": 3,
   "metadata": {},
   "outputs": [],
   "source": [
    "%%bash\n",
    "echo \"e f g\" > temp1.txt\n",
    "echo \"h i j\" > temp2.txt\n",
    "cat temp1.txt temp2.txt > temp3.txt"
   ]
  },
  {
   "cell_type": "markdown",
   "metadata": {},
   "source": [
    "temp3.txtが作成され、その中でtemp1.txtとtemp2.txtが連結されていることがわかります。"
   ]
  },
  {
   "cell_type": "code",
   "execution_count": 6,
   "metadata": {},
   "outputs": [
    {
     "name": "stdout",
     "output_type": "stream",
     "text": [
      "e f g\n",
      "h i j\n"
     ]
    }
   ],
   "source": [
    "%%bash \n",
    "cat temp3.txt"
   ]
  },
  {
   "cell_type": "markdown",
   "metadata": {},
   "source": [
    "### ヒアドキュメントの作成\n",
    "\n",
    "スクリプトの中で複数行にわたるファイルを作成する際によく利用します。\n",
    "EOFの表記は何でも良いです。ファイルを作成する際にはリダイレクトさせます。"
   ]
  },
  {
   "cell_type": "code",
   "execution_count": 8,
   "metadata": {},
   "outputs": [],
   "source": [
    "%%bash\n",
    "\n",
    "cat << EOF > temp10.txt\n",
    "a b c\n",
    "e f g\n",
    "h i j\n",
    "EOF"
   ]
  },
  {
   "cell_type": "code",
   "execution_count": 9,
   "metadata": {},
   "outputs": [
    {
     "name": "stdout",
     "output_type": "stream",
     "text": [
      "a b c\r\n",
      "e f g\r\n",
      "h i j\r\n"
     ]
    }
   ],
   "source": [
    "cat temp10.txt"
   ]
  },
  {
   "cell_type": "markdown",
   "metadata": {},
   "source": [
    "ただ、これだとコマンドをそのままを入れ込むことが出来ません。コマンドの結果や、変数などが展開されて表記されます。"
   ]
  },
  {
   "cell_type": "code",
   "execution_count": 23,
   "metadata": {},
   "outputs": [],
   "source": [
    "%%bash\n",
    "\n",
    "cat << EOF > temp11.sh\n",
    "#!/bin/bash\n",
    "\n",
    "user=\"test\"\n",
    "\n",
    "echo ${user}\n",
    "\n",
    "EOF"
   ]
  },
  {
   "cell_type": "raw",
   "metadata": {},
   "source": [
    "ここであえて変数を展開させたくない場合や、コマンドそのものの表記を残したい場合は、EOFをシングルクオテーションマークで囲みます。"
   ]
  },
  {
   "cell_type": "code",
   "execution_count": 27,
   "metadata": {},
   "outputs": [
    {
     "name": "stdout",
     "output_type": "stream",
     "text": [
      "#!/bin/bash\n",
      "\n",
      "user=\"test\"\n",
      "\n",
      "echo ${user}\n",
      "\n"
     ]
    }
   ],
   "source": [
    "%%bash\n",
    "cat << 'EOF' > temp12.sh\n",
    "#!/bin/bash\n",
    "\n",
    "user=\"test\"\n",
    "\n",
    "echo ${user}\n",
    "\n",
    "EOF\n",
    "\n",
    "cat temp12.sh"
   ]
  },
  {
   "cell_type": "markdown",
   "metadata": {},
   "source": [
    "となり、ちゃんとファイルの中に`${user}`が展開されずにファイルの中に記載されていることがわかります。"
   ]
  },
  {
   "cell_type": "markdown",
   "metadata": {},
   "source": [
    "### 代表的なオプション\n",
    "- t : タブを明示的に表示します(^Iと表示されます)\n",
    "- e : 改行コードを明示的に表示します（＄と表示されます）"
   ]
  },
  {
   "cell_type": "code",
   "execution_count": 4,
   "metadata": {},
   "outputs": [
    {
     "name": "stdout",
     "output_type": "stream",
     "text": [
      "a^Ib^Ic\n"
     ]
    }
   ],
   "source": [
    "%%bash\n",
    "echo -e \"a\\tb\\tc\" > temp2.txt \n",
    "cat -t temp2.txt"
   ]
  },
  {
   "cell_type": "code",
   "execution_count": 1,
   "metadata": {},
   "outputs": [
    {
     "name": "stdout",
     "output_type": "stream",
     "text": [
      "a\tb\tc$\n"
     ]
    }
   ],
   "source": [
    "%%bash\n",
    "echo -e \"a\\tb\\tc\" > temp3.txt \n",
    "cat -e temp3.txt"
   ]
  }
 ],
 "metadata": {
  "kernelspec": {
   "display_name": "Python 3",
   "language": "python",
   "name": "python3"
  },
  "language_info": {
   "codemirror_mode": {
    "name": "ipython",
    "version": 3
   },
   "file_extension": ".py",
   "mimetype": "text/x-python",
   "name": "python",
   "nbconvert_exporter": "python",
   "pygments_lexer": "ipython3",
   "version": "3.7.3"
  },
  "widgets": {
   "state": {},
   "version": "1.1.2"
  }
 },
 "nbformat": 4,
 "nbformat_minor": 2
}
