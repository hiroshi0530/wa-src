{
 "cells": [
  {
   "cell_type": "markdown",
   "metadata": {},
   "source": [
    "## tar\n",
    "ファイルを結合し、アーカイブを作成します。また、アーカイブからファイルを展開します。\n",
    "\n",
    "```bash\n",
    "BSDTAR(1)                 BSD General Commands Manual \n",
    "\n",
    "NAME\n",
    "     tar -- manipulate tape archives\n",
    "\n",
    "SYNOPSIS\n",
    "     tar [bundled-flags <args>] [<file> | <pattern> ...]\n",
    "     tar {-c} [options] [files | directories]\n",
    "     tar {-r | -u} -f archive-file [options] [files | directories]\n",
    "     tar {-t | -x} [options] [patterns]\n",
    "```\n",
    "\n",
    "### github\n",
    "- githubのjupyter notebook形式のファイルは[こちら](https://github.com/hiroshi0530/wa-src/blob/master/article/library/bash/tar/tar_nb.ipynb)\n",
    "\n",
    "### 環境\n",
    "筆者のOSはmacOSです。LinuxやUnixのコマンドとはオプションが異なります。\n",
    "\n",
    "実際に動かす際は先頭の！や先頭行の%%bashは無視してください。"
   ]
  },
  {
   "cell_type": "code",
   "execution_count": 1,
   "metadata": {},
   "outputs": [
    {
     "name": "stdout",
     "output_type": "stream",
     "text": [
      "ProductName:\tMac OS X\r\n",
      "ProductVersion:\t10.14.6\r\n",
      "BuildVersion:\t18G95\r\n"
     ]
    }
   ],
   "source": [
    "!sw_vers"
   ]
  },
  {
   "cell_type": "code",
   "execution_count": 2,
   "metadata": {},
   "outputs": [
    {
     "name": "stdout",
     "output_type": "stream",
     "text": [
      "GNU bash, version 3.2.57(1)-release (x86_64-apple-darwin18)\r\n",
      "Copyright (C) 2007 Free Software Foundation, Inc.\r\n"
     ]
    }
   ],
   "source": [
    "!bash --version"
   ]
  },
  {
   "cell_type": "markdown",
   "metadata": {},
   "source": [
    "## 使用例\n",
    "\n",
    "### ファイルの作成"
   ]
  },
  {
   "cell_type": "code",
   "execution_count": 10,
   "metadata": {},
   "outputs": [
    {
     "name": "stdout",
     "output_type": "stream",
     "text": [
      "ファイルの準備\n",
      "\n",
      "<ls>\n",
      "temp.tgz\n",
      "temp1\n",
      "temp2\n"
     ]
    }
   ],
   "source": [
    "%%bash\n",
    "echo \"ファイルの準備\"\n",
    "echo \"1234567890\" > temp1\n",
    "echo \"0987654321\" > temp2\n",
    "\n",
    "tar -czf temp.tgz temp1 temp2\n",
    "echo -e \"\\n<ls>\"\n",
    "ls | grep temp\n"
   ]
  },
  {
   "cell_type": "markdown",
   "metadata": {},
   "source": [
    "### ファイルの解凍"
   ]
  },
  {
   "cell_type": "code",
   "execution_count": 13,
   "metadata": {},
   "outputs": [],
   "source": [
    "%%bash\n",
    "tar -xzf temp.tgz"
   ]
  },
  {
   "cell_type": "markdown",
   "metadata": {},
   "source": [
    "## 代表的なオプション\n",
    "長年、4つのコマンドを組み合わせた以下の二つのコマンドを利用しています。\n",
    "vはverboseで必要な場合利用します。\n",
    "今までこの二つで困ったことはありません。\n",
    "\n",
    "### ファイルの解凍\n",
    "- xzvf\n",
    "\n",
    "### ファイルの作成\n",
    "- czvf"
   ]
  }
 ],
 "metadata": {
  "kernelspec": {
   "display_name": "Python 3",
   "language": "python",
   "name": "python3"
  },
  "language_info": {
   "codemirror_mode": {
    "name": "ipython",
    "version": 3
   },
   "file_extension": ".py",
   "mimetype": "text/x-python",
   "name": "python",
   "nbconvert_exporter": "python",
   "pygments_lexer": "ipython3",
   "version": "3.7.3"
  },
  "widgets": {
   "state": {},
   "version": "1.1.2"
  }
 },
 "nbformat": 4,
 "nbformat_minor": 2
}
