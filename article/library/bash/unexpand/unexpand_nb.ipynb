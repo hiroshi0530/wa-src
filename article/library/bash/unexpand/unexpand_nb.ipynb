{
 "cells": [
  {
   "cell_type": "markdown",
   "metadata": {},
   "source": [
    "## unexpend\n",
    "与えられたファイルのスペースをタブに変換します。結果を標準出力に表示します。\n",
    "\n",
    "```bash\n",
    "NAME\n",
    "     expand, unexpand -- expand tabs to spaces, and vice versa\n",
    "\n",
    "SYNOPSIS\n",
    "     expand [-t tab1,tab2,...,tabn] [file ...]\n",
    "     unexpand [-a | -t tab1,tab2,...,tabn] [file ...]\n",
    "```\n",
    "\n",
    "### github\n",
    "- githubのjupyter notebook形式のファイルは[こちら](https://github.com/hiroshi0530/wa-src/blob/master/article/library/bash/cat/cat_nb.ipynb)\n",
    "\n",
    "\n",
    "### 環境\n",
    "筆者のOSはmacOSです。LinuxやUnixのコマンドとはオプションが異なります。\n",
    "\n",
    "実際に動かす際は先頭の！や先頭行の%%bashは無視してください。"
   ]
  },
  {
   "cell_type": "code",
   "execution_count": 1,
   "metadata": {},
   "outputs": [
    {
     "name": "stdout",
     "output_type": "stream",
     "text": [
      "ProductName:\tMac OS X\r\n",
      "ProductVersion:\t10.14.6\r\n",
      "BuildVersion:\t18G95\r\n"
     ]
    }
   ],
   "source": [
    "!sw_vers"
   ]
  },
  {
   "cell_type": "code",
   "execution_count": 2,
   "metadata": {},
   "outputs": [
    {
     "name": "stdout",
     "output_type": "stream",
     "text": [
      "GNU bash, version 3.2.57(1)-release (x86_64-apple-darwin18)\r\n",
      "Copyright (C) 2007 Free Software Foundation, Inc.\r\n"
     ]
    }
   ],
   "source": [
    "!bash --version"
   ]
  },
  {
   "cell_type": "markdown",
   "metadata": {},
   "source": [
    "## 使用例"
   ]
  },
  {
   "cell_type": "code",
   "execution_count": 3,
   "metadata": {},
   "outputs": [
    {
     "name": "stdout",
     "output_type": "stream",
     "text": [
      "a   b\n",
      "c   d\n"
     ]
    }
   ],
   "source": [
    "%%bash\n",
    "echo -e \"a   b\\nc   d\" > temp1.txt\n",
    "cat temp1.txt"
   ]
  },
  {
   "cell_type": "code",
   "execution_count": 4,
   "metadata": {},
   "outputs": [
    {
     "name": "stdout",
     "output_type": "stream",
     "text": [
      "a^I b$\n",
      "c^I d$\n"
     ]
    }
   ],
   "source": [
    "%%bash\n",
    "unexpand -a -t 3 temp1.txt > temp2.txt\n",
    "cat -te temp2.txt"
   ]
  }
 ],
 "metadata": {
  "kernelspec": {
   "display_name": "Python 3",
   "language": "python",
   "name": "python3"
  },
  "language_info": {
   "codemirror_mode": {
    "name": "ipython",
    "version": 3
   },
   "file_extension": ".py",
   "mimetype": "text/x-python",
   "name": "python",
   "nbconvert_exporter": "python",
   "pygments_lexer": "ipython3",
   "version": "3.7.3"
  },
  "widgets": {
   "state": {},
   "version": "1.1.2"
  }
 },
 "nbformat": 4,
 "nbformat_minor": 2
}
