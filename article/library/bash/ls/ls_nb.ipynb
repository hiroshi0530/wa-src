{
 "cells": [
  {
   "cell_type": "markdown",
   "metadata": {},
   "source": [
    "## ls\n",
    "ファイルやディレクトリを表示します。\n",
    "以下の様にオプションがたくさんあるので、覚えるのは無理です。\n",
    "自分がよく使うものを使えこなせれば良いかと思います。\n",
    "\n",
    "```bash\n",
    "NAME\n",
    "     ls -- list directory contents\n",
    "\n",
    "SYNOPSIS\n",
    "     ls [-ABCFGHLOPRSTUW@abcdefghiklmnopqrstuwx1] [file ...\n",
    "```\n",
    "\n",
    "### github\n",
    "- githubのjupyter notebook形式のファイルは[こちら](https://github.com/hiroshi0530/wa-src/blob/master/article/library/bash/ls/ls_nb.ipynb)\n",
    "\n",
    "### 環境\n",
    "筆者のOSはmacOSです。LinuxやUnixのコマンドとはオプションが異なります。\n",
    "\n",
    "実際に動かす際は先頭の！や先頭行の%%bashは無視してください。"
   ]
  },
  {
   "cell_type": "code",
   "execution_count": 1,
   "metadata": {},
   "outputs": [
    {
     "name": "stdout",
     "output_type": "stream",
     "text": [
      "ProductName:\tMac OS X\r\n",
      "ProductVersion:\t10.14.6\r\n",
      "BuildVersion:\t18G2022\r\n"
     ]
    }
   ],
   "source": [
    "!sw_vers"
   ]
  },
  {
   "cell_type": "code",
   "execution_count": 2,
   "metadata": {},
   "outputs": [
    {
     "name": "stdout",
     "output_type": "stream",
     "text": [
      "GNU bash, version 3.2.57(1)-release (x86_64-apple-darwin18)\r\n",
      "Copyright (C) 2007 Free Software Foundation, Inc.\r\n"
     ]
    }
   ],
   "source": [
    "!bash --version"
   ]
  },
  {
   "cell_type": "markdown",
   "metadata": {},
   "source": [
    "## 使用例\n",
    "オプションなしです。直下のディレクトリにあるファイルを表示します。"
   ]
  },
  {
   "cell_type": "code",
   "execution_count": 2,
   "metadata": {},
   "outputs": [
    {
     "name": "stdout",
     "output_type": "stream",
     "text": [
      "ls_nb.ipynb\n",
      "ls_nb.md\n",
      "ls_nb.py\n"
     ]
    }
   ],
   "source": [
    "%%bash\n",
    "ls"
   ]
  },
  {
   "cell_type": "markdown",
   "metadata": {},
   "source": [
    "最もよく使うのが`ls -al`です。エイリアス設定をしています。リスト形式で、ドットから始まる隠しファイルも表示してくれます。"
   ]
  },
  {
   "cell_type": "code",
   "execution_count": 3,
   "metadata": {},
   "outputs": [
    {
     "name": "stdout",
     "output_type": "stream",
     "text": [
      "total 24\r\n",
      "drwxr-xr-x   6 hiroshi  staff   192  7  3 18:50 \u001b[34m.\u001b[m\u001b[m/\r\n",
      "drwxr-xr-x  24 hiroshi  staff   768  7  3 18:36 \u001b[34m..\u001b[m\u001b[m/\r\n",
      "drwxr-xr-x   3 hiroshi  staff    96  6 24 19:46 \u001b[34m.ipynb_checkpoints\u001b[m\u001b[m/\r\n",
      "-rw-r--r--   1 hiroshi  staff  2967  7  3 18:49 ls_nb.ipynb\r\n",
      "-rw-r--r--   1 hiroshi  staff  1052  7  3 18:49 ls_nb.md\r\n",
      "-rw-r--r--   1 hiroshi  staff   970  7  3 18:49 ls_nb.py\r\n"
     ]
    }
   ],
   "source": [
    "ls -al"
   ]
  },
  {
   "cell_type": "markdown",
   "metadata": {},
   "source": [
    "## 代表的なオプション\n",
    "- a = all\n",
    "- l == list"
   ]
  }
 ],
 "metadata": {
  "kernelspec": {
   "display_name": "Python 3",
   "language": "python",
   "name": "python3"
  },
  "language_info": {
   "codemirror_mode": {
    "name": "ipython",
    "version": 3
   },
   "file_extension": ".py",
   "mimetype": "text/x-python",
   "name": "python",
   "nbconvert_exporter": "python",
   "pygments_lexer": "ipython3",
   "version": "3.7.3"
  },
  "widgets": {
   "state": {},
   "version": "1.1.2"
  }
 },
 "nbformat": 4,
 "nbformat_minor": 2
}
