{
 "cells": [
  {
   "cell_type": "markdown",
   "metadata": {},
   "source": [
    "## xargs\n",
    "標準入力からリストを読み込んで、逐次コマンドを実行します。\n",
    "とても便利なコマンドで、ファイルの操作などをCUIで実行するには必須のコマンドだと思います。使いこなせばかなり作業効率が上がると思います。\n",
    "\n",
    "```bash\n",
    "XARGS(1)                  BSD General Commands Manual \n",
    "\n",
    "NAME\n",
    "     xargs -- construct argument list(s) and execute utility\n",
    "\n",
    "SYNOPSIS\n",
    "     xargs [-0opt] [-E eofstr] [-I replstr [-R replacements]] [-J replstr]\n",
    "           [-L number] [-n number [-x]] [-P maxprocs] [-s size]\n",
    "           [utility [argument ...]]\n",
    "```\n",
    "\n",
    "### github\n",
    "- githubのjupyter notebook形式のファイルは[こちら](https://github.com/hiroshi0530/wa-src/blob/master/article/library/bash/xargs/xargs_nb.ipynb)\n",
    "\n",
    "### 環境\n",
    "筆者のOSはmacOSです。LinuxやUnixのコマンドとはオプションが異なります。\n",
    "\n",
    "実際に動かす際は先頭の！や先頭行の%%bashは無視してください。"
   ]
  },
  {
   "cell_type": "code",
   "execution_count": 1,
   "metadata": {},
   "outputs": [
    {
     "name": "stdout",
     "output_type": "stream",
     "text": [
      "ProductName:\tMac OS X\r\n",
      "ProductVersion:\t10.14.6\r\n",
      "BuildVersion:\t18G95\r\n"
     ]
    }
   ],
   "source": [
    "!sw_vers"
   ]
  },
  {
   "cell_type": "code",
   "execution_count": 2,
   "metadata": {},
   "outputs": [
    {
     "name": "stdout",
     "output_type": "stream",
     "text": [
      "GNU bash, version 3.2.57(1)-release (x86_64-apple-darwin18)\r\n",
      "Copyright (C) 2007 Free Software Foundation, Inc.\r\n"
     ]
    }
   ],
   "source": [
    "!bash --version"
   ]
  },
  {
   "cell_type": "markdown",
   "metadata": {},
   "source": [
    "## 使用例\n",
    "とても便利なコマンド、様々な利用所があります。\n",
    "以下に私がよく利用するコマンドの例を示します。\n",
    "\n",
    "### lsを利用してファイル名を一括して変更する\n",
    "\n",
    "```bash\n",
    "ls | grep XXXX | xargs -I{} cp {} {}.bk\n",
    "```\n",
    "\n",
    "XXXXが含まれるファイルを検索し、そのファイルのバックアップを取る。I{}でパイプで渡す前の引数を取得することができます。"
   ]
  },
  {
   "cell_type": "code",
   "execution_count": 2,
   "metadata": {},
   "outputs": [
    {
     "name": "stdout",
     "output_type": "stream",
     "text": [
      "tempという文字列がつくファイルを3つ作成します。\n",
      "temp1\n",
      "temp2\n",
      "temp3\n"
     ]
    }
   ],
   "source": [
    "%%bash\n",
    "echo \"tempという文字列がつくファイルを3つ作成します。\"\n",
    "echo \"temp1\" > temp1\n",
    "echo \"temp2\" > temp2\n",
    "echo \"temp3\" > temp3\n",
    "\n",
    "ls | grep temp"
   ]
  },
  {
   "cell_type": "markdown",
   "metadata": {},
   "source": [
    "これら3つのファイルに対してバックアップファイルを作成します。"
   ]
  },
  {
   "cell_type": "code",
   "execution_count": 5,
   "metadata": {},
   "outputs": [
    {
     "name": "stdout",
     "output_type": "stream",
     "text": [
      "<file>\n",
      "temp1\n",
      "temp1.bk\n",
      "temp2\n",
      "temp2.bk\n",
      "temp3\n",
      "temp3.bk\n"
     ]
    }
   ],
   "source": [
    "%%bash\n",
    "ls | grep temp | xargs -I{} cp {} {}.bk\n",
    "\n",
    "echo \"<file>\"\n",
    "ls | grep temp"
   ]
  },
  {
   "cell_type": "markdown",
   "metadata": {},
   "source": [
    "となり、一括でバックアップが作成されます。\n",
    "\n",
    "### 特定の文字列を含むファイルを一括削除\n",
    "\n",
    "abcという文字列を含むファイルをすべて削除します。とても便利です。"
   ]
  },
  {
   "cell_type": "code",
   "execution_count": 7,
   "metadata": {},
   "outputs": [
    {
     "name": "stdout",
     "output_type": "stream",
     "text": [
      "abcという名前がつくファイルを5つ作成\n",
      "abc1\n",
      "abc2\n",
      "abc3\n",
      "abc4\n",
      "abc5\n"
     ]
    }
   ],
   "source": [
    "%%bash\n",
    "echo \"abcという名前がつくファイルを5つ作成\"\n",
    "echo \"abc\" > abc1\n",
    "echo \"abc\" > abc2\n",
    "echo \"abc\" > abc3\n",
    "echo \"abc\" > abc4\n",
    "echo \"abc\" > abc5\n",
    "\n",
    "ls | grep abc"
   ]
  },
  {
   "cell_type": "code",
   "execution_count": 10,
   "metadata": {},
   "outputs": [],
   "source": [
    "!ls | grep abc | xargs -I{} rm {}\n",
    "!ls | grep abc"
   ]
  },
  {
   "cell_type": "markdown",
   "metadata": {},
   "source": [
    "となり、abcという文字列がつく5つのファイルは削除されました。\n",
    "\n",
    "### ファイルの中にXXXが含まれるファイル名の再帰検索し、すべてYYYに置換\n",
    "\n",
    "```bash\n",
    "grep XXX -rl . | xargs sed -i.bk -e 's/XXX/YYY/g'\n",
    "```\n",
    "\n",
    "### ファイル名にXXXが含まれるファイル名の再帰検索し、すべてYYYに置換\n",
    "\n",
    "```bash\n",
    "find ./ -type f | sed 'p;s/aaa/bbb/' | xargs -n2 mv\n",
    "```\n",
    "\n",
    "以上のように、とても使い勝手良いコマンドですので、ぜひ自分の用途に応じて使いこなして作業効率を上げていきたいです。"
   ]
  },
  {
   "cell_type": "markdown",
   "metadata": {},
   "source": [
    "## 代表的なオプション\n",
    "`xargs -I{}` でパイプ前の結果を引数として取得できるので重宝しています。\n",
    "- I{}"
   ]
  }
 ],
 "metadata": {
  "kernelspec": {
   "display_name": "Python 3",
   "language": "python",
   "name": "python3"
  },
  "language_info": {
   "codemirror_mode": {
    "name": "ipython",
    "version": 3
   },
   "file_extension": ".py",
   "mimetype": "text/x-python",
   "name": "python",
   "nbconvert_exporter": "python",
   "pygments_lexer": "ipython3",
   "version": "3.7.3"
  },
  "widgets": {
   "state": {},
   "version": "1.1.2"
  }
 },
 "nbformat": 4,
 "nbformat_minor": 2
}
