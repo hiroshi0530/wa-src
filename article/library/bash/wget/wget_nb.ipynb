{
 "cells": [
  {
   "cell_type": "markdown",
   "metadata": {},
   "source": [
    "## wget\n",
    "指定されたURLからファイルをダウンロードします。\n",
    "\n",
    "```bash\n",
    "WGET(1)                            GNU Wget          \n",
    "\n",
    "NAME\n",
    "       Wget  The noninteractive network downloader.\n",
    "```\n",
    "\n",
    "### github\n",
    "- githubのjupyter notebook形式のファイルは[こちら](https://github.com/hiroshi0530/wa-src/blob/master/article/library/bash/wget/wget_nb.ipynb)\n",
    "\n",
    "### 環境\n",
    "筆者のOSはmacOSです。LinuxやUnixのコマンドとはオプションが異なります。\n",
    "\n",
    "実際に動かす際は先頭の！や先頭行の%%bashは無視してください。"
   ]
  },
  {
   "cell_type": "code",
   "execution_count": 1,
   "metadata": {},
   "outputs": [
    {
     "name": "stdout",
     "output_type": "stream",
     "text": [
      "ProductName:\tMac OS X\r\n",
      "ProductVersion:\t10.14.6\r\n",
      "BuildVersion:\t18G2022\r\n"
     ]
    }
   ],
   "source": [
    "!sw_vers"
   ]
  },
  {
   "cell_type": "code",
   "execution_count": 2,
   "metadata": {},
   "outputs": [
    {
     "name": "stdout",
     "output_type": "stream",
     "text": [
      "GNU bash, version 3.2.57(1)-release (x86_64-apple-darwin18)\r\n",
      "Copyright (C) 2007 Free Software Foundation, Inc.\r\n"
     ]
    }
   ],
   "source": [
    "!bash --version"
   ]
  },
  {
   "cell_type": "markdown",
   "metadata": {},
   "source": [
    "## 使用例\n",
    "普段は -O オプションを利用してファイルをローカルに保存します。"
   ]
  },
  {
   "cell_type": "code",
   "execution_count": 3,
   "metadata": {},
   "outputs": [
    {
     "name": "stderr",
     "output_type": "stream",
     "text": [
      "--2020-07-03 20:23:00--  https://ja.wayama.io/index.html\n",
      "ja.wayama.io (ja.wayama.io) をDNSに問いあわせています... 99.84.55.105, 99.84.55.81, 99.84.55.46, ...\n",
      "ja.wayama.io (ja.wayama.io)|99.84.55.105|:443 に接続しています... 接続しました。\n",
      "HTTP による接続要求を送信しました、応答を待っています... 200 OK\n",
      "長さ: 9402 (9.2K) [text/html]\n",
      "`test.html' に保存中\n",
      "\n",
      "     0K .........                                             100% 54.0M=0s\n",
      "\n",
      "2020-07-03 20:23:00 (54.0 MB/s) - `test.html' へ保存完了 [9402/9402]\n",
      "\n"
     ]
    }
   ],
   "source": [
    "%%bash\n",
    "wget https://ja.wayama.io/index.html -O test.html"
   ]
  },
  {
   "cell_type": "markdown",
   "metadata": {},
   "source": [
    "ファイルがあるかどうか確認します。ちゃんとダウンロードされています。"
   ]
  },
  {
   "cell_type": "code",
   "execution_count": 4,
   "metadata": {},
   "outputs": [
    {
     "name": "stdout",
     "output_type": "stream",
     "text": [
      "test.html\r\n"
     ]
    }
   ],
   "source": [
    "!ls | grep test"
   ]
  },
  {
   "cell_type": "markdown",
   "metadata": {},
   "source": [
    "## 代表的なオプション\n",
    "オプションは色々ありますが、とりあえず-Oだけ覚えています。\n",
    "- O : ファイル名を指定します。"
   ]
  }
 ],
 "metadata": {
  "kernelspec": {
   "display_name": "Python 3",
   "language": "python",
   "name": "python3"
  },
  "language_info": {
   "codemirror_mode": {
    "name": "ipython",
    "version": 3
   },
   "file_extension": ".py",
   "mimetype": "text/x-python",
   "name": "python",
   "nbconvert_exporter": "python",
   "pygments_lexer": "ipython3",
   "version": "3.7.3"
  },
  "widgets": {
   "state": {},
   "version": "1.1.2"
  }
 },
 "nbformat": 4,
 "nbformat_minor": 2
}
