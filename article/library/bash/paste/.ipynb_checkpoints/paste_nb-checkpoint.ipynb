{
 "cells": [
  {
   "cell_type": "markdown",
   "metadata": {},
   "source": [
    "## paste\n",
    "テキストファイルを列方向に結合します。catの列板です。\n",
    "\n",
    "```text\n",
    "NAME\n",
    "     paste -- merge corresponding or subsequent lines of files\n",
    "\n",
    "SYNOPSIS\n",
    "     paste [-s] [-d list] file ...\n",
    "```\n",
    "\n",
    "### github\n",
    "- githubのjupyter notebook形式のファイルは[こちら](https://github.com/hiroshi0530/wa-src/blob/master/article/library/bash/paste/paste_nb.ipynb)\n",
    "\n",
    "### google colaboratory\n",
    "- google colaboratory で実行する場合は[こちら](https://colab.research.google.com/github/hiroshi0530/wa-src/blob/master/article/library/bash/paste/paste_nb.ipynb)\n",
    "\n",
    "### 環境\n",
    "筆者のOSはmacOSです。LinuxやUnixのコマンドとはオプションが異なります。\n",
    "\n",
    "実際に動かす際は先頭の！や先頭行の%%bashは無視してください。"
   ]
  },
  {
   "cell_type": "code",
   "execution_count": 1,
   "metadata": {},
   "outputs": [
    {
     "name": "stdout",
     "output_type": "stream",
     "text": [
      "ProductName:\tMac OS X\r\n",
      "ProductVersion:\t10.14.6\r\n",
      "BuildVersion:\t18G95\r\n"
     ]
    }
   ],
   "source": [
    "!sw_vers"
   ]
  },
  {
   "cell_type": "code",
   "execution_count": 2,
   "metadata": {},
   "outputs": [
    {
     "name": "stdout",
     "output_type": "stream",
     "text": [
      "GNU bash, version 3.2.57(1)-release (x86_64-apple-darwin18)\r\n",
      "Copyright (C) 2007 Free Software Foundation, Inc.\r\n"
     ]
    }
   ],
   "source": [
    "!bash --version"
   ]
  },
  {
   "cell_type": "markdown",
   "metadata": {},
   "source": [
    "## 使用例"
   ]
  },
  {
   "cell_type": "markdown",
   "metadata": {},
   "source": [
    "結合する二つのファイルを作成します。"
   ]
  },
  {
   "cell_type": "code",
   "execution_count": 3,
   "metadata": {},
   "outputs": [],
   "source": [
    "%%bash\n",
    "echo -e \"a\\nb\\nc\\nd\\ne\\nf\" > temp1.txt\n",
    "echo -e \" 1\\n 2\\n 3\\n 4\\n 5\\n 6\" > temp2.txt"
   ]
  },
  {
   "cell_type": "code",
   "execution_count": 4,
   "metadata": {},
   "outputs": [
    {
     "name": "stdout",
     "output_type": "stream",
     "text": [
      "a\t 1\n",
      "b\t 2\n",
      "c\t 3\n",
      "d\t 4\n",
      "e\t 5\n",
      "f\t 6\n"
     ]
    }
   ],
   "source": [
    "%%bash\n",
    "paste temp1.txt temp2.txt"
   ]
  },
  {
   "cell_type": "markdown",
   "metadata": {},
   "source": [
    "３つ以上のファイルも連結できます。"
   ]
  },
  {
   "cell_type": "code",
   "execution_count": 5,
   "metadata": {},
   "outputs": [
    {
     "name": "stdout",
     "output_type": "stream",
     "text": [
      "a\t 1\ta\t 1\n",
      "b\t 2\tb\t 2\n",
      "c\t 3\tc\t 3\n",
      "d\t 4\td\t 4\n",
      "e\t 5\te\t 5\n",
      "f\t 6\tf\t 6\n"
     ]
    }
   ],
   "source": [
    "%%bash\n",
    "echo -e \"a\\nb\\nc\\nd\\ne\\nf\" > temp3.txt\n",
    "echo -e \" 1\\n 2\\n 3\\n 4\\n 5\\n 6\" > temp4.txt\n",
    "paste temp1.txt temp2.txt temp3.txt temp4.txt"
   ]
  },
  {
   "cell_type": "markdown",
   "metadata": {},
   "source": [
    "### 代表的なオプション\n",
    "- d : 結合文字を指定します。デフォルトはタブです。\n",
    "- s : 行と列を反転させます。 "
   ]
  },
  {
   "cell_type": "code",
   "execution_count": 6,
   "metadata": {},
   "outputs": [
    {
     "name": "stdout",
     "output_type": "stream",
     "text": [
      "a_ 1\n",
      "b_ 2\n",
      "c_ 3\n",
      "d_ 4\n",
      "e_ 5\n",
      "f_ 6\n"
     ]
    }
   ],
   "source": [
    "%%bash\n",
    "paste -d _ temp1.txt temp2.txt"
   ]
  },
  {
   "cell_type": "code",
   "execution_count": 7,
   "metadata": {},
   "outputs": [
    {
     "name": "stdout",
     "output_type": "stream",
     "text": [
      "a\tb\tc\td\te\tf\n",
      " 1\t 2\t 3\t 4\t 5\t 6\n"
     ]
    }
   ],
   "source": [
    "%%bash\n",
    "paste -s temp1.txt temp2.txt"
   ]
  }
 ],
 "metadata": {
  "kernelspec": {
   "display_name": "Python 3",
   "language": "python",
   "name": "python3"
  },
  "language_info": {
   "codemirror_mode": {
    "name": "ipython",
    "version": 3
   },
   "file_extension": ".py",
   "mimetype": "text/x-python",
   "name": "python",
   "nbconvert_exporter": "python",
   "pygments_lexer": "ipython3",
   "version": "3.5.5"
  },
  "widgets": {
   "state": {},
   "version": "1.1.2"
  }
 },
 "nbformat": 4,
 "nbformat_minor": 2
}
