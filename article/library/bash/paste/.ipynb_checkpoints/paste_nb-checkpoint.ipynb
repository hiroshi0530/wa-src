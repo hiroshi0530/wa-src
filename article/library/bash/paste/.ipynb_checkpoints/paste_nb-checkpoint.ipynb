{
 "cells": [
  {
   "cell_type": "markdown",
   "metadata": {},
   "source": [
    "## paste\n",
    "テキストファイルを列方向に結合します。catの列板です。\n",
    "\n",
    "```text\n",
    "NAME\n",
    "     paste -- merge corresponding or subsequent lines of files\n",
    "\n",
    "SYNOPSIS\n",
    "     paste [-s] [-d list] file ...\n",
    "```\n",
    "\n",
    "### github\n",
    "- githubのjupyter notebook形式のファイルは[こちら](https://github.com/hiroshi0530/wa/blob/master/src/article/library/bash/paste/paste_nb.ipynb)\n",
    "\n",
    "### 環境\n",
    "筆者のOSはmacOSです。LinuxやUnixのコマンドとはオプションが異なります。\n",
    "\n",
    "実際に動かす際は先頭の！や先頭行の%%bashは無視してください。"
   ]
  },
  {
   "cell_type": "code",
   "execution_count": 1,
   "metadata": {},
   "outputs": [
    {
     "name": "stdout",
     "output_type": "stream",
     "text": [
      "ProductName:\tMac OS X\r\n",
      "ProductVersion:\t10.14.6\r\n",
      "BuildVersion:\t18G95\r\n"
     ]
    }
   ],
   "source": [
    "!sw_vers"
   ]
  },
  {
   "cell_type": "code",
   "execution_count": 1,
   "metadata": {},
   "outputs": [
    {
     "name": "stdout",
     "output_type": "stream",
     "text": [
      "GNU bash, version 3.2.57(1)-release (x86_64-apple-darwin18)\r\n",
      "Copyright (C) 2007 Free Software Foundation, Inc.\r\n"
     ]
    }
   ],
   "source": [
    "!bash --version"
   ]
  },
  {
   "cell_type": "markdown",
   "metadata": {},
   "source": [
    "## 使用例"
   ]
  },
  {
   "cell_type": "markdown",
   "metadata": {},
   "source": [
    "結合する二つのファイルを作成します。"
   ]
  },
  {
   "cell_type": "code",
   "execution_count": 3,
   "metadata": {},
   "outputs": [],
   "source": [
    "%%bash\n",
    "echo -e \"a\\nb\\nc\\nd\\ne\\nf\" > temp1.txt\n",
    "echo -e \" 1\\n 2\\n 3\\n 4\\n 5\\n 6\" > temp2.txt"
   ]
  },
  {
   "cell_type": "code",
   "execution_count": 5,
   "metadata": {},
   "outputs": [
    {
     "name": "stdout",
     "output_type": "stream",
     "text": [
      "a\t 1\n",
      "b\t 2\n",
      "c\t 3\n",
      "d\t 4\n",
      "e\t 5\n",
      "f\t 6\n"
     ]
    }
   ],
   "source": [
    "%%bash\n",
    "paste temp1.txt temp2.txt"
   ]
  },
  {
   "cell_type": "markdown",
   "metadata": {},
   "source": [
    "３つ以上のファイルも連結できます。"
   ]
  },
  {
   "cell_type": "code",
   "execution_count": 8,
   "metadata": {},
   "outputs": [
    {
     "name": "stdout",
     "output_type": "stream",
     "text": [
      "a\t 1\ta\t 1\n",
      "b\t 2\tb\t 2\n",
      "c\t 3\tc\t 3\n",
      "d\t 4\td\t 4\n",
      "e\t 5\te\t 5\n",
      "f\t 6\tf\t 6\n"
     ]
    }
   ],
   "source": [
    "%%bash\n",
    "echo -e \"a\\nb\\nc\\nd\\ne\\nf\" > temp3.txt\n",
    "echo -e \" 1\\n 2\\n 3\\n 4\\n 5\\n 6\" > temp4.txt\n",
    "paste temp1.txt temp2.txt temp3.txt temp4.txt"
   ]
  },
  {
   "cell_type": "markdown",
   "metadata": {},
   "source": [
    "### 代表的なオプション\n",
    "- d : 結合文字を指定します。デフォルトはタブです。\n",
    "- s : 行と列を反転させます。 "
   ]
  },
  {
   "cell_type": "code",
   "execution_count": 9,
   "metadata": {},
   "outputs": [
    {
     "name": "stdout",
     "output_type": "stream",
     "text": [
      "a_ 1\n",
      "b_ 2\n",
      "c_ 3\n",
      "d_ 4\n",
      "e_ 5\n",
      "f_ 6\n"
     ]
    }
   ],
   "source": [
    "%%bash\n",
    "paste -d _ temp1.txt temp2.txt"
   ]
  },
  {
   "cell_type": "markdown",
   "metadata": {},
   "source": [
    "## 参考記事"
   ]
  },
  {
   "cell_type": "code",
   "execution_count": 1,
   "metadata": {},
   "outputs": [
    {
     "name": "stdout",
     "output_type": "stream",
     "text": [
      "\r\n",
      "PASTE(1)                  BSD General Commands Manual                 PASTE(1)\r\n",
      "\r\n",
      "N\bNA\bAM\bME\bE\r\n",
      "     p\bpa\bas\bst\bte\be -- merge corresponding or subsequent lines of files\r\n",
      "\r\n",
      "S\bSY\bYN\bNO\bOP\bPS\bSI\bIS\bS\r\n",
      "     p\bpa\bas\bst\bte\be [-\b-s\bs] [-\b-d\bd _\bl_\bi_\bs_\bt] _\bf_\bi_\bl_\be _\b._\b._\b.\r\n",
      "\r\n",
      "D\bDE\bES\bSC\bCR\bRI\bIP\bPT\bTI\bIO\bON\bN\r\n",
      "     The p\bpa\bas\bst\bte\be utility concatenates the corresponding lines of the given input\r\n",
      "     files, replacing all but the last file's newline characters with a single\r\n",
      "     tab character, and writes the resulting lines to standard output.  If\r\n",
      "     end-of-file is reached on an input file while other input files still\r\n",
      "     contain data, the file is treated as if it were an endless source of\r\n",
      "     empty lines.\r\n",
      "\r\n",
      "     The options are as follows:\r\n",
      "\r\n",
      "     -\b-d\bd _\bl_\bi_\bs_\bt     Use one or more of the provided characters to replace the\r\n",
      "                 newline characters instead of the default tab.  The charac-\r\n",
      "                 ters in _\bl_\bi_\bs_\bt are used circularly, i.e., when _\bl_\bi_\bs_\bt is\r\n",
      "                 exhausted the first character from _\bl_\bi_\bs_\bt is reused.  This con-\r\n",
      "                 tinues until a line from the last input file (in default\r\n",
      "                 operation) or the last line in each file (using the -\b-s\bs\r\n",
      "                 option) is displayed, at which time p\bpa\bas\bst\bte\be begins selecting\r\n",
      "                 characters from the beginning of _\bl_\bi_\bs_\bt again.\r\n",
      "\r\n",
      "                 The following special characters can also be used in list:\r\n",
      "\r\n",
      "                 \\n    newline character\r\n",
      "                 \\t    tab character\r\n",
      "                 \\\\    backslash character\r\n",
      "                 \\0    Empty string (not a null character).\r\n",
      "\r\n",
      "                 Any other character preceded by a backslash is equivalent to\r\n",
      "                 the character itself.\r\n",
      "\r\n",
      "     -\b-s\bs          Concatenate all of the lines of each separate input file in\r\n",
      "                 command line order.  The newline character of every line\r\n",
      "                 except the last line in each input file is replaced with the\r\n",
      "                 tab character, unless otherwise specified by the -\b-d\bd option.\r\n",
      "\r\n",
      "     If `-\b-' is specified for one or more of the input files, the standard\r\n",
      "     input is used; standard input is read one line at a time, circularly, for\r\n",
      "     each instance of `-\b-'.\r\n",
      "\r\n",
      "E\bEX\bXI\bIT\bT S\bST\bTA\bAT\bTU\bUS\bS\r\n",
      "     The p\bpa\bas\bst\bte\be utility exits 0 on success, and >0 if an error occurs.\r\n",
      "\r\n",
      "E\bEX\bXA\bAM\bMP\bPL\bLE\bES\bS\r\n",
      "     List the files in the current directory in three columns:\r\n",
      "\r\n",
      "           ls | paste - - -\r\n",
      "\r\n",
      "     Combine pairs of lines from a file into single lines:\r\n",
      "\r\n",
      "           paste -s -d '\\t\\n' myfile\r\n",
      "\r\n",
      "     Number the lines in a file, similar to nl(1):\r\n",
      "\r\n",
      "           sed = myfile | paste -s -d '\\t\\n' - -\r\n",
      "\r\n",
      "     Create a colon-separated list of directories named _\bb_\bi_\bn, suitable for use\r\n",
      "     in the PATH environment variable:\r\n",
      "\r\n",
      "           find / -name bin -type d | paste -s -d : -\r\n",
      "\r\n",
      "S\bSE\bEE\bE A\bAL\bLS\bSO\bO\r\n",
      "     cut(1), lam(1)\r\n",
      "\r\n",
      "S\bST\bTA\bAN\bND\bDA\bAR\bRD\bDS\bS\r\n",
      "     The p\bpa\bas\bst\bte\be utility is expected to be IEEE Std 1003.2 (``POSIX.2'') compat-\r\n",
      "     ible.\r\n",
      "\r\n",
      "H\bHI\bIS\bST\bTO\bOR\bRY\bY\r\n",
      "     A p\bpa\bas\bst\bte\be command appeared in Version 32V AT&T UNIX.\r\n",
      "\r\n",
      "BSD                              June 25, 2004                             BSD\r\n"
     ]
    }
   ],
   "source": [
    "!man paste"
   ]
  }
 ],
 "metadata": {
  "kernelspec": {
   "display_name": "Python 3",
   "language": "python",
   "name": "python3"
  },
  "language_info": {
   "codemirror_mode": {
    "name": "ipython",
    "version": 3
   },
   "file_extension": ".py",
   "mimetype": "text/x-python",
   "name": "python",
   "nbconvert_exporter": "python",
   "pygments_lexer": "ipython3",
   "version": "3.5.5"
  },
  "widgets": {
   "state": {},
   "version": "1.1.2"
  }
 },
 "nbformat": 4,
 "nbformat_minor": 2
}
