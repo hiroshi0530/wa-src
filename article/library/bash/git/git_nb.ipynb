{
 "cells": [
  {
   "cell_type": "markdown",
   "metadata": {},
   "source": [
    "## git\n",
    "ソースコードを管理するgitのコマンドです。GUIからでも便利ですが、コマンドを覚えるとさらに便利で、早いです。\n",
    "\n",
    "gitについてはネット上で使い方がたくさん紹介されているので、ここでは自分が使うコマンドを中心に書いていこうと思います。\n",
    "\n",
    "```bash\n",
    "NAME\n",
    "       git - the stupid content tracker\n",
    "\n",
    "SYNOPSIS\n",
    "       git [--version] [--help] [-C <path>] [-c <name>=<value>]\n",
    "           [--exec-path[=<path>]] [--html-path] [--man-path] [--info-path]\n",
    "           [-p|--paginate|-P|--no-pager] [--no-replace-objects] [--bare]\n",
    "           [--git-dir=<path>] [--work-tree=<path>] [--namespace=<name>]\n",
    "           [--super-prefix=<path>]\n",
    "           <command> [<args>]\n",
    "```\n",
    "\n",
    "### github\n",
    "- githubのjupyter notebook形式のファイルは[こちら](https://github.com/hiroshi0530/wa-src/blob/master/article/library/bash/git/git_nb.ipynb)\n",
    "\n",
    "### google colaboratory\n",
    "- google colaboratory で実行する場合は[こちら](https://colab.research.google.com/github/hiroshi0530/wa-src/blob/master/article/library/bash/git/git_nb.ipynb)\n",
    "\n",
    "### 環境\n",
    "筆者のOSはmacOSです。LinuxやUnixのコマンドとはオプションが異なります。\n",
    "\n",
    "実際に動かす際は先頭の！や先頭行の%%bashは無視してください。"
   ]
  },
  {
   "cell_type": "code",
   "execution_count": 2,
   "metadata": {},
   "outputs": [
    {
     "name": "stdout",
     "output_type": "stream",
     "text": [
      "ProductName:\tMac OS X\r\n",
      "ProductVersion:\t10.14.6\r\n",
      "BuildVersion:\t18G2022\r\n"
     ]
    }
   ],
   "source": [
    "!sw_vers"
   ]
  },
  {
   "cell_type": "code",
   "execution_count": 2,
   "metadata": {},
   "outputs": [
    {
     "name": "stdout",
     "output_type": "stream",
     "text": [
      "GNU bash, version 3.2.57(1)-release (x86_64-apple-darwin18)\r\n",
      "Copyright (C) 2007 Free Software Foundation, Inc.\r\n"
     ]
    }
   ],
   "source": [
    "!bash --version"
   ]
  },
  {
   "cell_type": "markdown",
   "metadata": {},
   "source": [
    "## 使用例"
   ]
  },
  {
   "cell_type": "markdown",
   "metadata": {},
   "source": [
    "よく利用しているコマンドの組み合わせと共に紹介します。\n",
    "\n",
    "### [git add] ファイルの差分をインデックスに追加する"
   ]
  },
  {
   "cell_type": "code",
   "execution_count": 7,
   "metadata": {},
   "outputs": [
    {
     "name": "stdout",
     "output_type": "stream",
     "text": [
      "usage: git add [<options>] [--] <pathspec>...\r\n",
      "\r\n",
      "    -n, --dry-run         dry run\r\n",
      "    -v, --verbose         be verbose\r\n",
      "\r\n",
      "    -i, --interactive     interactive picking\r\n",
      "    -p, --patch           select hunks interactively\r\n",
      "    -e, --edit            edit current diff and apply\r\n",
      "    -f, --force           allow adding otherwise ignored files\r\n",
      "    -u, --update          update tracked files\r\n",
      "    --renormalize         renormalize EOL of tracked files (implies -u)\r\n",
      "    -N, --intent-to-add   record only the fact that the path will be added later\r\n",
      "    -A, --all             add changes from all tracked and untracked files\r\n",
      "    --ignore-removal      ignore paths removed in the working tree (same as --no-all)\r\n",
      "    --refresh             don't add, only refresh the index\r\n",
      "    --ignore-errors       just skip files which cannot be added because of errors\r\n",
      "    --ignore-missing      check if - even missing - files are ignored in dry run\r\n",
      "    --chmod (+|-)x        override the executable bit of the listed files\r\n",
      "\r\n"
     ]
    }
   ],
   "source": [
    "!git add -h"
   ]
  },
  {
   "cell_type": "markdown",
   "metadata": {},
   "source": [
    "### [git status] 現在の状態を確認する \n",
    "\n",
    "```bash\n",
    "git status\n",
    "```"
   ]
  },
  {
   "cell_type": "markdown",
   "metadata": {},
   "source": [
    "## 備忘録\n",
    "よく使うが、ついつい忘れてしまうコマンドです。コードレビューの時など良く利用します。"
   ]
  },
  {
   "cell_type": "markdown",
   "metadata": {},
   "source": [
    "### ブランチ間のdiff\n",
    "これでデフォルト設定しているvimdiffでdiffをチェックできます。.gitconfigでdiffのデフォルトをvimdiffに設定する必要があります。"
   ]
  },
  {
   "cell_type": "code",
   "execution_count": null,
   "metadata": {},
   "outputs": [],
   "source": [
    "git difftool branchA branchB"
   ]
  },
  {
   "cell_type": "markdown",
   "metadata": {},
   "source": [
    "### コミット間の差分（ファイル名のみ）\n",
    "コミットIDを指定して、ファイルの差分をチェック"
   ]
  },
  {
   "cell_type": "code",
   "execution_count": null,
   "metadata": {},
   "outputs": [],
   "source": [
    "git diff --stat shaA shaB"
   ]
  },
  {
   "cell_type": "markdown",
   "metadata": {},
   "source": [
    "### コミット間の差分（各ファイル）\n",
    "vimdiffで差分が見れるのは本当に便利"
   ]
  },
  {
   "cell_type": "code",
   "execution_count": null,
   "metadata": {},
   "outputs": [],
   "source": [
    "git difftool -y shaA shaB -- <FILE NAME>"
   ]
  }
 ],
 "metadata": {
  "kernelspec": {
   "display_name": "Python 3",
   "language": "python",
   "name": "python3"
  },
  "language_info": {
   "codemirror_mode": {
    "name": "ipython",
    "version": 3
   },
   "file_extension": ".py",
   "mimetype": "text/x-python",
   "name": "python",
   "nbconvert_exporter": "python",
   "pygments_lexer": "ipython3",
   "version": "3.5.5"
  },
  "widgets": {
   "state": {},
   "version": "1.1.2"
  }
 },
 "nbformat": 4,
 "nbformat_minor": 2
}
