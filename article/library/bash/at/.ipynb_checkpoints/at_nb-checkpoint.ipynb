{
 "cells": [
  {
   "cell_type": "markdown",
   "metadata": {},
   "source": [
    "## at \n",
    "時間を指定してジョブを実行する\n",
    "\n",
    "```bash\n",
    "AT(1)                     BSD General Commands Manual  \n",
    "\n",
    "NAME\n",
    "     at, batch, atq, atrm -- queue, examine, or delete jobs for later execution\n",
    "```\n",
    "\n",
    "### github\n",
    "- githubのjupyter notebook形式のファイルは[こちら](https://github.com/hiroshi0530/wa-src/blob/master/article/library/bash/at/at_nb.ipynb)\n",
    "\n",
    "### google colaboratory\n",
    "- google colaboratory で実行する場合は[こちら](https://colab.research.google.com/github/hiroshi0530/wa-src/blob/master/article/library/bash/at/at_nb.ipynb)\n",
    "\n",
    "### 環境\n",
    "筆者のOSはmacOSです。LinuxやUnixのコマンドとはオプションが異なります。\n",
    "\n",
    "実際に動かす際は先頭の！や先頭行の%%bashは無視してください。"
   ]
  },
  {
   "cell_type": "code",
   "execution_count": 1,
   "metadata": {},
   "outputs": [
    {
     "name": "stdout",
     "output_type": "stream",
     "text": [
      "ProductName:\tMac OS X\r\n",
      "ProductVersion:\t10.14.6\r\n",
      "BuildVersion:\t18G95\r\n"
     ]
    }
   ],
   "source": [
    "!sw_vers"
   ]
  },
  {
   "cell_type": "code",
   "execution_count": 2,
   "metadata": {},
   "outputs": [
    {
     "name": "stdout",
     "output_type": "stream",
     "text": [
      "GNU bash, version 3.2.57(1)-release (x86_64-apple-darwin18)\r\n",
      "Copyright (C) 2007 Free Software Foundation, Inc.\r\n"
     ]
    }
   ],
   "source": [
    "!bash --version"
   ]
  },
  {
   "cell_type": "markdown",
   "metadata": {},
   "source": [
    "## 使用例\n",
    "通常私が利用するときは、fオプションとtオプションを利用します。\n",
    "\n",
    "以下の様なbashファイルを用意します。"
   ]
  },
  {
   "cell_type": "code",
   "execution_count": 13,
   "metadata": {},
   "outputs": [],
   "source": [
    "%%bash\n",
    "\n",
    "cat << 'EOF' > temp.sh\n",
    "#!/bin/bash\n",
    "\n",
    "echo `date +%Y%m%d`\n",
    "\n",
    "EOF\n",
    "\n",
    "chmod +x temp.sh"
   ]
  },
  {
   "cell_type": "code",
   "execution_count": 14,
   "metadata": {},
   "outputs": [
    {
     "name": "stdout",
     "output_type": "stream",
     "text": [
      "total 32\r\n",
      "drwxr-xr-x   7 hiroshi  staff   224  7  8 17:26 \u001b[34m.\u001b[m\u001b[m\r\n",
      "drwxr-xr-x  25 hiroshi  staff   800  7  8 17:13 \u001b[34m..\u001b[m\u001b[m\r\n",
      "drwxr-xr-x   3 hiroshi  staff    96  7  8 17:14 \u001b[34m.ipynb_checkpoints\u001b[m\u001b[m\r\n",
      "-rw-r--r--   1 hiroshi  staff  4094  7  8 17:26 at_nb.ipynb\r\n",
      "-rw-r--r--   1 hiroshi  staff  2005  7  8 17:26 at_nb.md\r\n",
      "-rw-r--r--   1 hiroshi  staff  1469  7  8 17:26 at_nb.py\r\n",
      "-rwxr-xr-x   1 hiroshi  staff    34  7  8 17:26 \u001b[31mtemp.sh\u001b[m\u001b[m\r\n"
     ]
    }
   ],
   "source": [
    "!ls -al"
   ]
  },
  {
   "cell_type": "code",
   "execution_count": 15,
   "metadata": {},
   "outputs": [
    {
     "name": "stdout",
     "output_type": "stream",
     "text": [
      "20200708\r\n"
     ]
    }
   ],
   "source": [
    "!./temp.sh"
   ]
  },
  {
   "cell_type": "markdown",
   "metadata": {},
   "source": [
    "このファイルを2020年7月8日18:00に実行させるには次のようなコマンドを実行します。タイマー的な使い方が出来るので、一時的に使いたいのであれば、CRONを設定するより簡単です。"
   ]
  },
  {
   "cell_type": "code",
   "execution_count": null,
   "metadata": {},
   "outputs": [],
   "source": [
    "%%bash\n",
    "at -f temp.sh.sh -t 202007081800"
   ]
  },
  {
   "cell_type": "markdown",
   "metadata": {},
   "source": [
    "## 代表的なオプション\n",
    "- f : ファイルを指定します\n",
    "- t : 時間のフォーマットを定義します (YYYYmmddHHMM)"
   ]
  }
 ],
 "metadata": {
  "kernelspec": {
   "display_name": "Python 3",
   "language": "python",
   "name": "python3"
  },
  "language_info": {
   "codemirror_mode": {
    "name": "ipython",
    "version": 3
   },
   "file_extension": ".py",
   "mimetype": "text/x-python",
   "name": "python",
   "nbconvert_exporter": "python",
   "pygments_lexer": "ipython3",
   "version": "3.7.3"
  },
  "widgets": {
   "state": {},
   "version": "1.1.2"
  }
 },
 "nbformat": 4,
 "nbformat_minor": 2
}
