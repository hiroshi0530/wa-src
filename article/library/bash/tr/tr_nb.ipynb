{
 "cells": [
  {
   "cell_type": "markdown",
   "metadata": {},
   "source": [
    "## tr\n",
    "文字列を削除したり置換したりします。置換前後の文字列は1：1となるので、文字列の長さは同じにする必要があります。標準入力になります。\n",
    "\n",
    "```bash\n",
    "TR(1)                     BSD General Commands Manual \n",
    "\n",
    "NAME\n",
    "     tr -- translate characters\n",
    "\n",
    "SYNOPSIS\n",
    "     tr [-Ccsu] string1 string2\n",
    "     tr [-Ccu] -d string1\n",
    "     tr [-Ccu] -s string1\n",
    "     tr [-Ccu] -ds string1 string2\n",
    "```\n",
    "\n",
    "### github\n",
    "- githubのjupyter notebook形式のファイルは[こちら](https://github.com/hiroshi0530/wa-src/blob/master/article/library/bash/tr/tr_nb.ipynb)\n",
    "\n",
    "### 環境\n",
    "筆者のOSはmacOSです。LinuxやUnixのコマンドとはオプションが異なります。\n",
    "\n",
    "実際に動かす際は先頭の！や先頭行の%%bashは無視してください。"
   ]
  },
  {
   "cell_type": "code",
   "execution_count": 1,
   "metadata": {},
   "outputs": [
    {
     "name": "stdout",
     "output_type": "stream",
     "text": [
      "ProductName:\tMac OS X\r\n",
      "ProductVersion:\t10.14.6\r\n",
      "BuildVersion:\t18G2022\r\n"
     ]
    }
   ],
   "source": [
    "!sw_vers"
   ]
  },
  {
   "cell_type": "code",
   "execution_count": 2,
   "metadata": {},
   "outputs": [
    {
     "name": "stdout",
     "output_type": "stream",
     "text": [
      "GNU bash, version 3.2.57(1)-release (x86_64-apple-darwin18)\r\n",
      "Copyright (C) 2007 Free Software Foundation, Inc.\r\n"
     ]
    }
   ],
   "source": [
    "!bash --version"
   ]
  },
  {
   "cell_type": "markdown",
   "metadata": {},
   "source": [
    "## 使用例\n",
    "\n",
    "abc 123という文字列を作り、それを標準入力から読み込み、abcをefgに置換します。"
   ]
  },
  {
   "cell_type": "code",
   "execution_count": 3,
   "metadata": {},
   "outputs": [
    {
     "name": "stdout",
     "output_type": "stream",
     "text": [
      "efg 123\n"
     ]
    }
   ],
   "source": [
    "%%bash\n",
    "echo \"abc 123\" > temp\n",
    "cat temp | tr abc efg"
   ]
  },
  {
   "cell_type": "markdown",
   "metadata": {},
   "source": [
    "dオプションを用いて文字列を削除します。"
   ]
  },
  {
   "cell_type": "code",
   "execution_count": 4,
   "metadata": {},
   "outputs": [
    {
     "name": "stdout",
     "output_type": "stream",
     "text": [
      "abc \n"
     ]
    }
   ],
   "source": [
    "%%bash\n",
    "echo \"abc 123\" > temp2\n",
    "cat temp2 | tr -d 123"
   ]
  },
  {
   "cell_type": "markdown",
   "metadata": {},
   "source": [
    "大体上二つの利用方法が主かと思います。利用する頻度は中ぐらいです。僕はsedの方が好きなので、そちらを使う頻度が高いです。"
   ]
  },
  {
   "cell_type": "markdown",
   "metadata": {},
   "source": [
    "## 代表的なオプション\n",
    "- d : 削除する"
   ]
  }
 ],
 "metadata": {
  "kernelspec": {
   "display_name": "Python 3",
   "language": "python",
   "name": "python3"
  },
  "language_info": {
   "codemirror_mode": {
    "name": "ipython",
    "version": 3
   },
   "file_extension": ".py",
   "mimetype": "text/x-python",
   "name": "python",
   "nbconvert_exporter": "python",
   "pygments_lexer": "ipython3",
   "version": "3.7.3"
  },
  "widgets": {
   "state": {},
   "version": "1.1.2"
  }
 },
 "nbformat": 4,
 "nbformat_minor": 2
}
