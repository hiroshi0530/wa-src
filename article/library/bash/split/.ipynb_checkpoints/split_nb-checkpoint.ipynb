{
 "cells": [
  {
   "cell_type": "markdown",
   "metadata": {},
   "source": [
    "## split\n",
    "ファイルの分割を行います。\n",
    "\n",
    "```bash\n",
    "NAME\n",
    "     split -- split a file into pieces\n",
    "\n",
    "SYNOPSIS\n",
    "     split [-a suffix_length] [-b byte_count[k|m]] [-l line_count]\n",
    "           [-p pattern] [file [name]]\n",
    "\n",
    "```\n",
    "\n",
    "### github\n",
    "- githubのjupyter notebook形式のファイルは[こちら](https://github.com/hiroshi0530/wa-src/blob/master/article/library/bash/cat/cat_nb.ipynb)\n",
    "\n",
    "\n",
    "### 環境\n",
    "筆者のOSはmacOSです。LinuxやUnixのコマンドとはオプションが異なります。\n",
    "\n",
    "実際に動かす際は先頭の！や先頭行の%%bashは無視してください。\n"
   ]
  },
  {
   "cell_type": "code",
   "execution_count": 1,
   "metadata": {},
   "outputs": [
    {
     "name": "stdout",
     "output_type": "stream",
     "text": [
      "ProductName:\tMac OS X\n",
      "ProductVersion:\t10.14.6\n",
      "BuildVersion:\t18G2022\n",
      "\n",
      "SPLIT(1)                  BSD General Commands Manual                 SPLIT(1)\n",
      "\n",
      "NAME\n",
      "     split -- split a file into pieces\n",
      "\n",
      "SYNOPSIS\n",
      "     split [-a suffix_length] [-b byte_count[k|m]] [-l line_count]\n",
      "           [-p pattern] [file [name]]\n",
      "\n",
      "DESCRIPTION\n",
      "     The split utility reads the given file and breaks it up into files of\n",
      "     1000 lines each.  If file is a single dash (`-') or absent, split reads\n",
      "     from the standard input.\n",
      "\n",
      "     The options are as follows:\n",
      "\n",
      "     -a suffix_length\n",
      "             Use suffix_length letters to form the suffix of the file name.\n",
      "\n",
      "     -b byte_count[k|m]\n",
      "             Create smaller files byte_count bytes in length.  If ``k'' is\n",
      "             appended to the number, the file is split into byte_count kilo-\n",
      "             byte pieces.  If ``m'' is appended to the number, the file is\n",
      "             split into byte_count megabyte pieces.\n",
      "\n",
      "     -l line_count\n",
      "             Create smaller files n lines in length.\n",
      "\n",
      "     -p pattern\n",
      "             The file is split whenever an input line matches pattern, which\n",
      "             is interpreted as an extended regular expression.  The matching\n",
      "             line will be the first line of the next output file.  This option\n",
      "             is incompatible with the -b and -l options.\n",
      "\n",
      "     If additional arguments are specified, the first is used as the name of\n",
      "     the input file which is to be split.  If a second additional argument is\n",
      "     specified, it is used as a prefix for the names of the files into which\n",
      "     the file is split.  In this case, each file into which the file is split\n",
      "     is named by the prefix followed by a lexically ordered suffix using\n",
      "     suffix_length characters in the range ``a-z''.  If -a is not specified,\n",
      "     two letters are used as the suffix.\n",
      "\n",
      "     If the name argument is not specified, the file is split into lexically\n",
      "     ordered files named with the prefix ``x'' and with suffixes as above.\n",
      "\n",
      "ENVIRONMENT\n",
      "     The LANG, LC_ALL, LC_CTYPE and LC_COLLATE environment variables affect\n",
      "     the execution of split as described in environ(7).\n",
      "\n",
      "EXIT STATUS\n",
      "     The split utility exits 0 on success, and >0 if an error occurs.\n",
      "\n",
      "SEE ALSO\n",
      "     csplit(1), re_format(7)\n",
      "\n",
      "STANDARDS\n",
      "     The split utility conforms to IEEE Std 1003.1-2001 (``POSIX.1'').\n",
      "\n",
      "HISTORY\n",
      "     A split command appeared in Version 3 AT&T UNIX.\n",
      "\n",
      "BUGS\n",
      "     The maximum line length for matching patterns is 65536.\n",
      "\n",
      "BSD                             August 21, 2005                            BSD\n"
     ]
    }
   ],
   "source": [
    "!sw_vers\n",
    "\n",
    "!man split"
   ]
  },
  {
   "cell_type": "code",
   "execution_count": 1,
   "metadata": {},
   "outputs": [
    {
     "name": "stdout",
     "output_type": "stream",
     "text": [
      "GNU bash, version 3.2.57(1)-release (x86_64-apple-darwin18)\r\n",
      "Copyright (C) 2007 Free Software Foundation, Inc.\r\n"
     ]
    }
   ],
   "source": [
    "!bash --version"
   ]
  },
  {
   "cell_type": "code",
   "execution_count": null,
   "metadata": {},
   "outputs": [],
   "source": []
  },
  {
   "cell_type": "markdown",
   "metadata": {},
   "source": [
    "## 参考記事"
   ]
  },
  {
   "cell_type": "code",
   "execution_count": null,
   "metadata": {},
   "outputs": [],
   "source": []
  }
 ],
 "metadata": {
  "kernelspec": {
   "display_name": "Python 3",
   "language": "python",
   "name": "python3"
  },
  "language_info": {
   "codemirror_mode": {
    "name": "ipython",
    "version": 3
   },
   "file_extension": ".py",
   "mimetype": "text/x-python",
   "name": "python",
   "nbconvert_exporter": "python",
   "pygments_lexer": "ipython3",
   "version": "3.7.3"
  },
  "widgets": {
   "state": {},
   "version": "1.1.2"
  }
 },
 "nbformat": 4,
 "nbformat_minor": 2
}
