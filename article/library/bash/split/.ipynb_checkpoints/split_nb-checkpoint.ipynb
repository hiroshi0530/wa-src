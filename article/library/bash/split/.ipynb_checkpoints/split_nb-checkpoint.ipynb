{
 "cells": [
  {
   "cell_type": "markdown",
   "metadata": {},
   "source": [
    "## split\n",
    "ファイルの分割を行います。\n",
    "\n",
    "```bash\n",
    "NAME\n",
    "     split -- split a file into pieces\n",
    "\n",
    "SYNOPSIS\n",
    "     split [-a suffix_length] [-b byte_count[k|m]] [-l line_count]\n",
    "           [-p pattern] [file [name]]\n",
    "\n",
    "```\n",
    "\n",
    "### github\n",
    "- githubのjupyter notebook形式のファイルは[こちら](https://github.com/hiroshi0530/wa-src/blob/master/article/library/bash/cat/cat_nb.ipynb)\n",
    "\n",
    "\n",
    "### 環境\n",
    "筆者のOSはmacOSです。LinuxやUnixのコマンドとはオプションが異なります。\n",
    "\n",
    "linux環境では-nオプションで分割数が指定出来るのですが、manを見てもわかるとおり、FreeBSD（macOSの元となるOS）ではそういうオプションはありません。\n",
    "\n",
    "実際に動かす際は先頭の！や先頭行の%%bashは無視してください。\n"
   ]
  },
  {
   "cell_type": "code",
   "execution_count": 1,
   "metadata": {},
   "outputs": [
    {
     "name": "stdout",
     "output_type": "stream",
     "text": [
      "ProductName:\tMac OS X\r\n",
      "ProductVersion:\t10.14.6\r\n",
      "BuildVersion:\t18G2022\r\n"
     ]
    }
   ],
   "source": [
    "!sw_vers"
   ]
  },
  {
   "cell_type": "code",
   "execution_count": 2,
   "metadata": {},
   "outputs": [
    {
     "name": "stdout",
     "output_type": "stream",
     "text": [
      "GNU bash, version 3.2.57(1)-release (x86_64-apple-darwin18)\r\n",
      "Copyright (C) 2007 Free Software Foundation, Inc.\r\n"
     ]
    }
   ],
   "source": [
    "!bash --version"
   ]
  },
  {
   "cell_type": "markdown",
   "metadata": {},
   "source": [
    "## 使用例\n",
    "\n",
    "通常、以下の様な代表的なオプションと共に利用します。\n",
    "\n",
    "### 代表的なオプション\n",
    "- b : 分割するバイト数\n",
    "- l : 分割する行数\n",
    "- a : prefixに利用する文字数\n"
   ]
  },
  {
   "cell_type": "code",
   "execution_count": 3,
   "metadata": {},
   "outputs": [
    {
     "name": "stdout",
     "output_type": "stream",
     "text": [
      "1\n",
      "2\n",
      "3\n",
      "4\n",
      "5\n",
      "6\n",
      "7\n",
      "8\n",
      "9\n",
      "10\n",
      "\n",
      "<file list>\n",
      "prefix_aaa\n",
      "prefix_aab\n",
      "prefix_aac\n",
      "prefix_aad\n",
      "prefix_aae\n",
      "temp\n",
      "\n",
      "<prefix_aaa file content>\n",
      "1\n",
      "2\n"
     ]
    }
   ],
   "source": [
    "%%bash\n",
    "echo -e \"1\\n2\\n3\\n4\\n5\\n6\\n7\\n8\\n9\\n10\" > temp\n",
    "cat temp\n",
    "\n",
    "split -l 2 -a 3 temp prefix_\n",
    "echo -e \"\\n<file list>\"\n",
    "ls | grep -v split\n",
    "\n",
    "echo -e \"\\n<prefix_aaa file content>\"\n",
    "cat prefix_aaa"
   ]
  }
 ],
 "metadata": {
  "kernelspec": {
   "display_name": "Python 3",
   "language": "python",
   "name": "python3"
  },
  "language_info": {
   "codemirror_mode": {
    "name": "ipython",
    "version": 3
   },
   "file_extension": ".py",
   "mimetype": "text/x-python",
   "name": "python",
   "nbconvert_exporter": "python",
   "pygments_lexer": "ipython3",
   "version": "3.7.3"
  },
  "widgets": {
   "state": {},
   "version": "1.1.2"
  }
 },
 "nbformat": 4,
 "nbformat_minor": 2
}
