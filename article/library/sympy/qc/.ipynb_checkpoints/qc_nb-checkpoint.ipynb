{
 "cells": [
  {
   "cell_type": "markdown",
   "metadata": {},
   "source": [
    "## sympy で量子演算のシミュレーション\n",
    "\n",
    "量子計算のシミュレータツールとしてはIBM社のqiskitやGoogleのCirqなどありますが、代表的な数値計算ライブラリであるsympyでも出来るようなので、簡単ですがやってみます。\n",
    "\n",
    "以下のサイトを参照しました。\n",
    "- https://docs.sympy.org/latest/index.html\n",
    "- https://dojo.qulacs.org/ja/latest/notebooks/1.2_qubit_operations.html\n",
    "- https://qiita.com/openql/items/e5b98bcd13fb4f0b6d59\n",
    "\n",
    "\n",
    "### github\n",
    "- jupyter notebook形式のファイルは[こちら](https://github.com/hiroshi0530/wa-src/blob/master/article/library/sympy/qc/qc_nb.ipynb)\n",
    "\n",
    "### google colaboratory\n",
    "- google colaboratory で実行する場合は[こちら](https://colab.research.google.com/github/hiroshi0530/wa-src/blob/master/article/library/sympy/qc/qc_nb.ipynb)\n",
    "\n",
    "### 筆者の環境\n",
    "筆者のOSはmacOSです。LinuxやUnixのコマンドとはオプションが異なります。"
   ]
  },
  {
   "cell_type": "code",
   "execution_count": 1,
   "metadata": {},
   "outputs": [
    {
     "name": "stdout",
     "output_type": "stream",
     "text": [
      "ProductName:\tMac OS X\r\n",
      "ProductVersion:\t10.14.6\r\n",
      "BuildVersion:\t18G95\r\n"
     ]
    }
   ],
   "source": [
    "!sw_vers"
   ]
  },
  {
   "cell_type": "code",
   "execution_count": 2,
   "metadata": {},
   "outputs": [
    {
     "name": "stdout",
     "output_type": "stream",
     "text": [
      "Python 3.8.5\r\n"
     ]
    }
   ],
   "source": [
    "!python -V"
   ]
  },
  {
   "cell_type": "markdown",
   "metadata": {},
   "source": [
    "基本的なライブラリをインポートしそのバージョンを確認しておきます。"
   ]
  },
  {
   "cell_type": "code",
   "execution_count": 3,
   "metadata": {},
   "outputs": [
    {
     "name": "stdout",
     "output_type": "stream",
     "text": [
      "matplotlib version : 3.3.2\n",
      "scipy version : 1.5.2\n",
      "numpy version : 1.18.5\n"
     ]
    }
   ],
   "source": [
    "%matplotlib inline\n",
    "%config InlineBackend.figure_format = 'svg'\n",
    "\n",
    "import matplotlib\n",
    "import matplotlib.pyplot as plt\n",
    "import scipy\n",
    "import numpy as np\n",
    "\n",
    "print('matplotlib version :', matplotlib.__version__)\n",
    "print('scipy version :', scipy.__version__)\n",
    "print('numpy version :', np.__version__)"
   ]
  },
  {
   "cell_type": "markdown",
   "metadata": {},
   "source": [
    "## 量子ビットの表記\n",
    "\n",
    "sympyそのものと、表記を簡単にするためのrepresent、ブラケット記号で量子ビットを指定することが出来るQubitとQubitBraをimportしておきます。"
   ]
  },
  {
   "cell_type": "code",
   "execution_count": 4,
   "metadata": {},
   "outputs": [],
   "source": [
    "import sympy\n",
    "from sympy.physics.quantum import represent\n",
    "from sympy.physics.quantum.qubit import Qubit\n",
    "from sympy.physics.quantum.qubit import QubitBra\n",
    "from sympy.physics.quantum.dagger import Dagger\n",
    "sympy.init_printing()"
   ]
  },
  {
   "cell_type": "code",
   "execution_count": 5,
   "metadata": {},
   "outputs": [
    {
     "name": "stdout",
     "output_type": "stream",
     "text": [
      "sympy version :  1.5\n"
     ]
    }
   ],
   "source": [
    "print('sympy version : ', sympy.__version__)"
   ]
  },
  {
   "cell_type": "markdown",
   "metadata": {},
   "source": [
    "1量子ビットをブラケット記号を用いて指定します。"
   ]
  },
  {
   "cell_type": "code",
   "execution_count": 6,
   "metadata": {},
   "outputs": [],
   "source": [
    "# 1量子ビット\n",
    "q0 = Qubit('0')\n",
    "q1 = Qubit('1')\n",
    "p0 = QubitBra('1')\n",
    "p1 = QubitBra('1')"
   ]
  },
  {
   "cell_type": "code",
   "execution_count": 7,
   "metadata": {},
   "outputs": [
    {
     "data": {
      "image/png": "[encoded data removed]",
      "text/latex": [
       "$\\displaystyle {\\left|0\\right\\rangle }$"
      ],
      "text/plain": [
       "❘0⟩"
      ]
     },
     "execution_count": 7,
     "metadata": {},
     "output_type": "execute_result"
    }
   ],
   "source": [
    "q0"
   ]
  },
  {
   "cell_type": "code",
   "execution_count": 8,
   "metadata": {},
   "outputs": [
    {
     "data": {
      "image/png": "[encoded data removed]",
      "text/latex": [
       "$\\displaystyle {\\left|1\\right\\rangle }$"
      ],
      "text/plain": [
       "❘1⟩"
      ]
     },
     "execution_count": 8,
     "metadata": {},
     "output_type": "execute_result"
    }
   ],
   "source": [
    "q1"
   ]
  },
  {
   "cell_type": "code",
   "execution_count": 9,
   "metadata": {},
   "outputs": [
    {
     "data": {
      "image/png": "[encoded data removed]",
      "text/latex": [
       "$\\displaystyle {\\left\\langle 1\\right|}$"
      ],
      "text/plain": [
       "⟨1❘"
      ]
     },
     "execution_count": 9,
     "metadata": {},
     "output_type": "execute_result"
    }
   ],
   "source": [
    "p0"
   ]
  },
  {
   "cell_type": "code",
   "execution_count": 10,
   "metadata": {},
   "outputs": [
    {
     "data": {
      "image/png": "[encoded data removed]",
      "text/latex": [
       "$\\displaystyle {\\left\\langle 1\\right|}$"
      ],
      "text/plain": [
       "⟨1❘"
      ]
     },
     "execution_count": 10,
     "metadata": {},
     "output_type": "execute_result"
    }
   ],
   "source": [
    "p1"
   ]
  },
  {
   "cell_type": "markdown",
   "metadata": {},
   "source": [
    "representを用いてベクトルで表記できます。"
   ]
  },
  {
   "cell_type": "code",
   "execution_count": 11,
   "metadata": {},
   "outputs": [
    {
     "data": {
      "text/latex": [
       "$\\displaystyle \\left[\\begin{matrix}1\\\\0\\end{matrix}\\right]$"
      ],
      "text/plain": [
       "⎡1⎤\n",
       "⎢ ⎥\n",
       "⎣0⎦"
      ]
     },
     "execution_count": 11,
     "metadata": {},
     "output_type": "execute_result"
    }
   ],
   "source": [
    "represent(q0)"
   ]
  },
  {
   "cell_type": "code",
   "execution_count": 12,
   "metadata": {},
   "outputs": [
    {
     "data": {
      "text/latex": [
       "$\\displaystyle \\left[\\begin{matrix}1\\\\0\\end{matrix}\\right]$"
      ],
      "text/plain": [
       "⎡1⎤\n",
       "⎢ ⎥\n",
       "⎣0⎦"
      ]
     },
     "execution_count": 12,
     "metadata": {},
     "output_type": "execute_result"
    }
   ],
   "source": [
    "represent(q0)"
   ]
  },
  {
   "cell_type": "code",
   "execution_count": 13,
   "metadata": {},
   "outputs": [
    {
     "data": {
      "text/latex": [
       "$\\displaystyle \\left[\\begin{matrix}0 & 1\\end{matrix}\\right]$"
      ],
      "text/plain": [
       "[0  1]"
      ]
     },
     "execution_count": 13,
     "metadata": {},
     "output_type": "execute_result"
    }
   ],
   "source": [
    "represent(p0)"
   ]
  },
  {
   "cell_type": "code",
   "execution_count": 14,
   "metadata": {},
   "outputs": [
    {
     "data": {
      "text/latex": [
       "$\\displaystyle \\left[\\begin{matrix}0 & 1\\end{matrix}\\right]$"
      ],
      "text/plain": [
       "[0  1]"
      ]
     },
     "execution_count": 14,
     "metadata": {},
     "output_type": "execute_result"
    }
   ],
   "source": [
    "represent(p0)"
   ]
  },
  {
   "cell_type": "markdown",
   "metadata": {},
   "source": [
    "2量子系も同様に可能です。"
   ]
  },
  {
   "cell_type": "code",
   "execution_count": 15,
   "metadata": {},
   "outputs": [],
   "source": [
    "# 2量子ビット\n",
    "q00 = Qubit('00')\n",
    "q01 = Qubit('01')\n",
    "q10 = Qubit('10')\n",
    "q11 = Qubit('11')"
   ]
  },
  {
   "cell_type": "code",
   "execution_count": 16,
   "metadata": {},
   "outputs": [
    {
     "data": {
      "text/latex": [
       "$\\displaystyle \\left[\\begin{matrix}1\\\\0\\\\0\\\\0\\end{matrix}\\right]$"
      ],
      "text/plain": [
       "⎡1⎤\n",
       "⎢ ⎥\n",
       "⎢0⎥\n",
       "⎢ ⎥\n",
       "⎢0⎥\n",
       "⎢ ⎥\n",
       "⎣0⎦"
      ]
     },
     "execution_count": 16,
     "metadata": {},
     "output_type": "execute_result"
    }
   ],
   "source": [
    "represent(q00)"
   ]
  },
  {
   "cell_type": "code",
   "execution_count": 17,
   "metadata": {},
   "outputs": [
    {
     "data": {
      "text/latex": [
       "$\\displaystyle \\left[\\begin{matrix}0\\\\1\\\\0\\\\0\\end{matrix}\\right]$"
      ],
      "text/plain": [
       "⎡0⎤\n",
       "⎢ ⎥\n",
       "⎢1⎥\n",
       "⎢ ⎥\n",
       "⎢0⎥\n",
       "⎢ ⎥\n",
       "⎣0⎦"
      ]
     },
     "execution_count": 17,
     "metadata": {},
     "output_type": "execute_result"
    }
   ],
   "source": [
    "represent(q01)"
   ]
  },
  {
   "cell_type": "code",
   "execution_count": 18,
   "metadata": {},
   "outputs": [
    {
     "data": {
      "text/latex": [
       "$\\displaystyle \\left[\\begin{matrix}0\\\\0\\\\1\\\\0\\end{matrix}\\right]$"
      ],
      "text/plain": [
       "⎡0⎤\n",
       "⎢ ⎥\n",
       "⎢0⎥\n",
       "⎢ ⎥\n",
       "⎢1⎥\n",
       "⎢ ⎥\n",
       "⎣0⎦"
      ]
     },
     "execution_count": 18,
     "metadata": {},
     "output_type": "execute_result"
    }
   ],
   "source": [
    "represent(q10)"
   ]
  },
  {
   "cell_type": "code",
   "execution_count": 19,
   "metadata": {},
   "outputs": [
    {
     "data": {
      "text/latex": [
       "$\\displaystyle \\left[\\begin{matrix}0\\\\0\\\\0\\\\1\\end{matrix}\\right]$"
      ],
      "text/plain": [
       "⎡0⎤\n",
       "⎢ ⎥\n",
       "⎢0⎥\n",
       "⎢ ⎥\n",
       "⎢0⎥\n",
       "⎢ ⎥\n",
       "⎣1⎦"
      ]
     },
     "execution_count": 19,
     "metadata": {},
     "output_type": "execute_result"
    }
   ],
   "source": [
    "represent(q11)"
   ]
  },
  {
   "cell_type": "markdown",
   "metadata": {},
   "source": [
    "### 任意の状態"
   ]
  },
  {
   "cell_type": "code",
   "execution_count": 20,
   "metadata": {},
   "outputs": [
    {
     "data": {
      "image/png": "[encoded data removed]",
      "text/latex": [
       "$\\displaystyle \\alpha {\\left|0\\right\\rangle } + \\beta {\\left|1\\right\\rangle }$"
      ],
      "text/plain": [
       "α⋅❘0⟩ + β⋅❘1⟩"
      ]
     },
     "execution_count": 20,
     "metadata": {},
     "output_type": "execute_result"
    }
   ],
   "source": [
    "a, b = sympy.symbols('alpha, beta')\n",
    "psi = a * q0 + b* q1\n",
    "psi"
   ]
  },
  {
   "cell_type": "markdown",
   "metadata": {},
   "source": [
    "エルミート共役を取って内積を計算してみます。"
   ]
  },
  {
   "cell_type": "code",
   "execution_count": 21,
   "metadata": {},
   "outputs": [
    {
     "data": {
      "image/png": "[encoded data removed]",
      "text/latex": [
       "$\\displaystyle \\alpha \\alpha^{\\dagger} + \\beta \\beta^{\\dagger}$"
      ],
      "text/plain": [
       "   †      †\n",
       "α⋅α  + β⋅β "
      ]
     },
     "execution_count": 21,
     "metadata": {},
     "output_type": "execute_result"
    }
   ],
   "source": [
    "from sympy.physics.quantum.qapply import qapply\n",
    "qapply(Dagger(psi) * psi)"
   ]
  },
  {
   "cell_type": "markdown",
   "metadata": {},
   "source": [
    "## 量子ゲート\n",
    "まずは1量子ビットに対する演算子からです。\n",
    "基本的には恒等演算子($I$)、パウリ演算子($X$,$Y$,$Z$)、重ね合わせ状態を作成するアダマール演算子($H$)、位相演算子($ST$,$T$)になります。実際にsympy上でどう定義されているのか見た方がわかりやすいです。"
   ]
  },
  {
   "cell_type": "code",
   "execution_count": 22,
   "metadata": {},
   "outputs": [],
   "source": [
    "from sympy.physics.quantum.gate import I, X, Y, Z, H, S, T"
   ]
  },
  {
   "cell_type": "code",
   "execution_count": 23,
   "metadata": {},
   "outputs": [
    {
     "name": "stdout",
     "output_type": "stream",
     "text": [
      "<class 'sympy.core.numbers.ImaginaryUnit'>\n",
      "<class 'sympy.physics.quantum.gate.XGate'>\n",
      "<class 'sympy.physics.quantum.gate.YGate'>\n",
      "<class 'sympy.physics.quantum.gate.ZGate'>\n",
      "<class 'sympy.physics.quantum.gate.HadamardGate'>\n",
      "<class 'sympy.physics.quantum.gate.PhaseGate'>\n",
      "<class 'sympy.physics.quantum.gate.TGate'>\n"
     ]
    }
   ],
   "source": [
    "print(type(I))\n",
    "print(X)\n",
    "print(Y)\n",
    "print(Z)\n",
    "print(H)\n",
    "print(S)\n",
    "print(T)"
   ]
  },
  {
   "cell_type": "code",
   "execution_count": 24,
   "metadata": {},
   "outputs": [
    {
     "data": {
      "text/latex": [
       "$\\displaystyle \\left[\\begin{matrix}0 & 1\\\\1 & 0\\end{matrix}\\right]$"
      ],
      "text/plain": [
       "⎡0  1⎤\n",
       "⎢    ⎥\n",
       "⎣1  0⎦"
      ]
     },
     "execution_count": 24,
     "metadata": {},
     "output_type": "execute_result"
    }
   ],
   "source": [
    "represent(X(0), nqubits=1)"
   ]
  },
  {
   "cell_type": "code",
   "execution_count": 25,
   "metadata": {},
   "outputs": [
    {
     "data": {
      "text/latex": [
       "$\\displaystyle \\left[\\begin{matrix}0 & 0 & 1 & 0\\\\0 & 0 & 0 & 1\\\\1 & 0 & 0 & 0\\\\0 & 1 & 0 & 0\\end{matrix}\\right]$"
      ],
      "text/plain": [
       "⎡0  0  1  0⎤\n",
       "⎢          ⎥\n",
       "⎢0  0  0  1⎥\n",
       "⎢          ⎥\n",
       "⎢1  0  0  0⎥\n",
       "⎢          ⎥\n",
       "⎣0  1  0  0⎦"
      ]
     },
     "execution_count": 25,
     "metadata": {},
     "output_type": "execute_result"
    }
   ],
   "source": [
    "represent(X(1), nqubits=2)"
   ]
  },
  {
   "cell_type": "code",
   "execution_count": 26,
   "metadata": {},
   "outputs": [
    {
     "data": {
      "text/latex": [
       "$\\displaystyle \\left[\\begin{matrix}0 & - i\\\\i & 0\\end{matrix}\\right]$"
      ],
      "text/plain": [
       "⎡0  -ⅈ⎤\n",
       "⎢     ⎥\n",
       "⎣ⅈ  0 ⎦"
      ]
     },
     "execution_count": 26,
     "metadata": {},
     "output_type": "execute_result"
    }
   ],
   "source": [
    "represent(Y(0), nqubits=1)"
   ]
  },
  {
   "cell_type": "code",
   "execution_count": 27,
   "metadata": {},
   "outputs": [
    {
     "data": {
      "text/latex": [
       "$\\displaystyle \\left[\\begin{matrix}1 & 0\\\\0 & -1\\end{matrix}\\right]$"
      ],
      "text/plain": [
       "⎡1  0 ⎤\n",
       "⎢     ⎥\n",
       "⎣0  -1⎦"
      ]
     },
     "execution_count": 27,
     "metadata": {},
     "output_type": "execute_result"
    }
   ],
   "source": [
    "represent(Z(0), nqubits=1)"
   ]
  },
  {
   "cell_type": "code",
   "execution_count": 28,
   "metadata": {},
   "outputs": [
    {
     "data": {
      "text/latex": [
       "$\\displaystyle \\left[\\begin{matrix}\\frac{1}{\\sqrt{2}} & \\frac{1}{\\sqrt{2}}\\\\\\frac{1}{\\sqrt{2}} & - \\frac{\\sqrt{2}}{2}\\end{matrix}\\right]$"
      ],
      "text/plain": [
       "⎡1    1  ⎤\n",
       "⎢──   ── ⎥\n",
       "⎢√2   √2 ⎥\n",
       "⎢        ⎥\n",
       "⎢1   -√2 ⎥\n",
       "⎢──  ────⎥\n",
       "⎣√2   2  ⎦"
      ]
     },
     "execution_count": 28,
     "metadata": {},
     "output_type": "execute_result"
    }
   ],
   "source": [
    "represent(H(0),nqubits=1)"
   ]
  },
  {
   "cell_type": "code",
   "execution_count": 29,
   "metadata": {},
   "outputs": [
    {
     "data": {
      "text/latex": [
       "$\\displaystyle \\left[\\begin{matrix}1 & 0\\\\0 & i\\end{matrix}\\right]$"
      ],
      "text/plain": [
       "⎡1  0⎤\n",
       "⎢    ⎥\n",
       "⎣0  ⅈ⎦"
      ]
     },
     "execution_count": 29,
     "metadata": {},
     "output_type": "execute_result"
    }
   ],
   "source": [
    "represent(S(0),nqubits=1)"
   ]
  },
  {
   "cell_type": "code",
   "execution_count": 30,
   "metadata": {},
   "outputs": [
    {
     "data": {
      "text/latex": [
       "$\\displaystyle \\left[\\begin{matrix}1 & 0\\\\0 & e^{\\frac{i \\pi}{4}}\\end{matrix}\\right]$"
      ],
      "text/plain": [
       "⎡1   0  ⎤\n",
       "⎢       ⎥\n",
       "⎢    ⅈ⋅π⎥\n",
       "⎢    ───⎥\n",
       "⎢     4 ⎥\n",
       "⎣0  ℯ   ⎦"
      ]
     },
     "execution_count": 30,
     "metadata": {},
     "output_type": "execute_result"
    }
   ],
   "source": [
    "represent(T(0),nqubits=1)"
   ]
  },
  {
   "cell_type": "markdown",
   "metadata": {},
   "source": [
    "## 1量子ゲートの演算\n",
    "\n",
    "実際にゲートを作用させてみます。そのためにはqapplyというメソッドを利用します。式を定義してから実際に関数を作用させる形を取ります。$\\left| 0\\right>$に対してXゲートを作用させます。"
   ]
  },
  {
   "cell_type": "code",
   "execution_count": 31,
   "metadata": {},
   "outputs": [],
   "source": [
    "from sympy.physics.quantum.qapply import qapply"
   ]
  },
  {
   "cell_type": "code",
   "execution_count": 32,
   "metadata": {},
   "outputs": [
    {
     "data": {
      "image/png": "[encoded data removed]",
      "text/latex": [
       "$\\displaystyle X_{0} {\\left|0\\right\\rangle }$"
      ],
      "text/plain": [
       "X ⋅❘0⟩\n",
       " 0    "
      ]
     },
     "execution_count": 32,
     "metadata": {},
     "output_type": "execute_result"
    }
   ],
   "source": [
    "X(0) * q0"
   ]
  },
  {
   "cell_type": "code",
   "execution_count": 33,
   "metadata": {},
   "outputs": [
    {
     "data": {
      "image/png": "[encoded data removed]",
      "text/latex": [
       "$\\displaystyle {\\left|1\\right\\rangle }$"
      ],
      "text/plain": [
       "❘1⟩"
      ]
     },
     "execution_count": 33,
     "metadata": {},
     "output_type": "execute_result"
    }
   ],
   "source": [
    "qapply(X(0) * q0)"
   ]
  },
  {
   "cell_type": "markdown",
   "metadata": {},
   "source": [
    "アダマールゲートを利用し、重ね合わせ状態のビットに対して演算を行います。"
   ]
  },
  {
   "cell_type": "code",
   "execution_count": 34,
   "metadata": {},
   "outputs": [
    {
     "data": {
      "image/png": "[encoded data removed]",
      "text/latex": [
       "$\\displaystyle \\frac{\\sqrt{2} {\\left|0\\right\\rangle }}{2} + \\frac{\\sqrt{2} {\\left|1\\right\\rangle }}{2}$"
      ],
      "text/plain": [
       "√2⋅❘0⟩   √2⋅❘1⟩\n",
       "────── + ──────\n",
       "  2        2   "
      ]
     },
     "execution_count": 34,
     "metadata": {},
     "output_type": "execute_result"
    }
   ],
   "source": [
    "qapply(H(0)*q0)"
   ]
  },
  {
   "cell_type": "code",
   "execution_count": 35,
   "metadata": {},
   "outputs": [
    {
     "data": {
      "image/png": "[encoded data removed]",
      "text/latex": [
       "$\\displaystyle \\frac{\\sqrt{2} {\\left|0\\right\\rangle }}{2} - \\frac{\\sqrt{2} {\\left|1\\right\\rangle }}{2}$"
      ],
      "text/plain": [
       "√2⋅❘0⟩   √2⋅❘1⟩\n",
       "────── - ──────\n",
       "  2        2   "
      ]
     },
     "execution_count": 35,
     "metadata": {},
     "output_type": "execute_result"
    }
   ],
   "source": [
    "qapply(Z(0)*H(0)*q0)"
   ]
  },
  {
   "cell_type": "markdown",
   "metadata": {},
   "source": [
    "### 測定\n",
    "量子コンピュータの最終的な出力結果は測定という行為を行わないといけません。measure_allで全方向（全直交基底）に対する測定を行い、measure_partialで部分的な基底に対する測定を行います。"
   ]
  },
  {
   "cell_type": "code",
   "execution_count": 36,
   "metadata": {},
   "outputs": [],
   "source": [
    "from sympy.physics.quantum.qubit import measure_all, measure_partial\n",
    "\n",
    "_ = qapply(Z(0)*H(0)*q0)"
   ]
  },
  {
   "cell_type": "code",
   "execution_count": 37,
   "metadata": {},
   "outputs": [
    {
     "data": {
      "text/latex": [
       "$\\displaystyle \\left[\\begin{matrix}\\frac{\\sqrt{2}}{2}\\\\- \\frac{\\sqrt{2}}{2}\\end{matrix}\\right]$"
      ],
      "text/plain": [
       "⎡ √2 ⎤\n",
       "⎢ ── ⎥\n",
       "⎢ 2  ⎥\n",
       "⎢    ⎥\n",
       "⎢-√2 ⎥\n",
       "⎢────⎥\n",
       "⎣ 2  ⎦"
      ]
     },
     "execution_count": 37,
     "metadata": {},
     "output_type": "execute_result"
    }
   ],
   "source": [
    "represent(_)"
   ]
  },
  {
   "cell_type": "code",
   "execution_count": 38,
   "metadata": {},
   "outputs": [
    {
     "data": {
      "image/png": "[encoded data removed]",
      "text/latex": [
       "$\\displaystyle \\left[ \\left( {\\left|0\\right\\rangle }, \\  \\frac{1}{2}\\right), \\  \\left( {\\left|1\\right\\rangle }, \\  \\frac{1}{2}\\right)\\right]$"
      ],
      "text/plain": [
       "[(❘0⟩, 1/2), (❘1⟩, 1/2)]"
      ]
     },
     "execution_count": 38,
     "metadata": {},
     "output_type": "execute_result"
    }
   ],
   "source": [
    "measure_all(_)"
   ]
  },
  {
   "cell_type": "code",
   "execution_count": 39,
   "metadata": {},
   "outputs": [
    {
     "data": {
      "image/png": "[encoded data removed]",
      "text/latex": [
       "$\\displaystyle \\left[ \\left( {\\left|0\\right\\rangle }, \\  1\\right)\\right]$"
      ],
      "text/plain": [
       "[(❘0⟩, 1)]"
      ]
     },
     "execution_count": 39,
     "metadata": {},
     "output_type": "execute_result"
    }
   ],
   "source": [
    "measure_all(q0)"
   ]
  },
  {
   "cell_type": "markdown",
   "metadata": {},
   "source": [
    "1量子ビットにmeasure_allすると、２量子ビットが出てきますね。（これは現在不明です）"
   ]
  },
  {
   "cell_type": "code",
   "execution_count": 40,
   "metadata": {},
   "outputs": [
    {
     "data": {
      "image/png": "[encoded data removed]",
      "text/latex": [
       "$\\displaystyle \\left[ \\left( {\\left|00\\right\\rangle }, \\  1\\right)\\right]$"
      ],
      "text/plain": [
       "[(❘00⟩, 1)]"
      ]
     },
     "execution_count": 40,
     "metadata": {},
     "output_type": "execute_result"
    }
   ],
   "source": [
    "measure_all(q00)"
   ]
  },
  {
   "cell_type": "code",
   "execution_count": 41,
   "metadata": {},
   "outputs": [
    {
     "data": {
      "image/png": "[encoded data removed]",
      "text/latex": [
       "$\\displaystyle \\left[ \\left( {\\left|00\\right\\rangle }, \\  1\\right)\\right]$"
      ],
      "text/plain": [
       "[(❘00⟩, 1)]"
      ]
     },
     "execution_count": 41,
     "metadata": {},
     "output_type": "execute_result"
    }
   ],
   "source": [
    "measure_partial(q00, (0,))"
   ]
  },
  {
   "cell_type": "code",
   "execution_count": 42,
   "metadata": {},
   "outputs": [
    {
     "data": {
      "image/png": "[encoded data removed]",
      "text/latex": [
       "$\\displaystyle \\left[ \\left( {\\left|11\\right\\rangle }, \\  1\\right)\\right]$"
      ],
      "text/plain": [
       "[(❘11⟩, 1)]"
      ]
     },
     "execution_count": 42,
     "metadata": {},
     "output_type": "execute_result"
    }
   ],
   "source": [
    "measure_partial(q11, (1))"
   ]
  },
  {
   "cell_type": "markdown",
   "metadata": {},
   "source": [
    "sympyのdescriptionにある例題を実行して、measure_partialがどうなるか見てみます。おそらく２量子系で意味のある測定が出来るという事でしょうか･･･１量子だとpartialは一つだけですし･･･"
   ]
  },
  {
   "cell_type": "code",
   "execution_count": 43,
   "metadata": {},
   "outputs": [
    {
     "data": {
      "image/png": "[encoded data removed]",
      "text/latex": [
       "$\\displaystyle \\frac{{\\left|00\\right\\rangle }}{2} + \\frac{{\\left|01\\right\\rangle }}{2} + \\frac{{\\left|10\\right\\rangle }}{2} + \\frac{{\\left|11\\right\\rangle }}{2}$"
      ],
      "text/plain": [
       "❘00⟩   ❘01⟩   ❘10⟩   ❘11⟩\n",
       "──── + ──── + ──── + ────\n",
       " 2      2      2      2  "
      ]
     },
     "execution_count": 43,
     "metadata": {},
     "output_type": "execute_result"
    }
   ],
   "source": [
    "qapply(H(0)*H(1)*Qubit('00'))"
   ]
  },
  {
   "cell_type": "code",
   "execution_count": 44,
   "metadata": {},
   "outputs": [
    {
     "data": {
      "image/png": "[encoded data removed]",
      "text/latex": [
       "$\\displaystyle \\left[ \\left( \\frac{\\sqrt{2} {\\left|00\\right\\rangle }}{2} + \\frac{\\sqrt{2} {\\left|10\\right\\rangle }}{2}, \\  \\frac{1}{2}\\right), \\  \\left( \\frac{\\sqrt{2} {\\left|01\\right\\rangle }}{2} + \\frac{\\sqrt{2} {\\left|11\\right\\rangle }}{2}, \\  \\frac{1}{2}\\right)\\right]$"
      ],
      "text/plain": [
       "⎡⎛√2⋅❘00⟩   √2⋅❘10⟩     ⎞  ⎛√2⋅❘01⟩   √2⋅❘11⟩     ⎞⎤\n",
       "⎢⎜─────── + ───────, 1/2⎟, ⎜─────── + ───────, 1/2⎟⎥\n",
       "⎣⎝   2         2        ⎠  ⎝   2         2        ⎠⎦"
      ]
     },
     "execution_count": 44,
     "metadata": {},
     "output_type": "execute_result"
    }
   ],
   "source": [
    "measure_partial(qapply(H(0)*H(1)*Qubit('00')), (0,))"
   ]
  },
  {
   "cell_type": "code",
   "execution_count": 45,
   "metadata": {},
   "outputs": [
    {
     "data": {
      "image/png": "[encoded data removed]",
      "text/latex": [
       "$\\displaystyle \\left[ \\left( \\frac{\\sqrt{2} {\\left|00\\right\\rangle }}{2} + \\frac{\\sqrt{2} {\\left|01\\right\\rangle }}{2}, \\  \\frac{1}{2}\\right), \\  \\left( \\frac{\\sqrt{2} {\\left|10\\right\\rangle }}{2} + \\frac{\\sqrt{2} {\\left|11\\right\\rangle }}{2}, \\  \\frac{1}{2}\\right)\\right]$"
      ],
      "text/plain": [
       "⎡⎛√2⋅❘00⟩   √2⋅❘01⟩     ⎞  ⎛√2⋅❘10⟩   √2⋅❘11⟩     ⎞⎤\n",
       "⎢⎜─────── + ───────, 1/2⎟, ⎜─────── + ───────, 1/2⎟⎥\n",
       "⎣⎝   2         2        ⎠  ⎝   2         2        ⎠⎦"
      ]
     },
     "execution_count": 45,
     "metadata": {},
     "output_type": "execute_result"
    }
   ],
   "source": [
    "measure_partial(qapply(H(0)*H(1)*Qubit('00')), (1,))"
   ]
  },
  {
   "cell_type": "markdown",
   "metadata": {},
   "source": [
    "## 2量子系の演算\n",
    "\n",
    "### CNOT、SWAPゲート\n",
    "\n",
    "CNOTゲートのsympy上の定義は以下の通り。第一引数が制御ビット、第二引数がターゲットビットです。\n",
    "\n",
    "```text\n",
    "This gate performs the NOT or X gate on the target qubit if the control\n",
    "qubits all have the value 1.\n",
    "\n",
    "Parameters\n",
    "----------\n",
    "label : tuple\n",
    "    A tuple of the form (control, target).\n",
    "\n",
    "```\n",
    "\n",
    "CNOTとSWAPを読み込みます。"
   ]
  },
  {
   "cell_type": "code",
   "execution_count": 46,
   "metadata": {},
   "outputs": [],
   "source": [
    "from sympy.physics.quantum.gate import CNOT, SWAP"
   ]
  },
  {
   "cell_type": "code",
   "execution_count": 47,
   "metadata": {},
   "outputs": [
    {
     "data": {
      "text/latex": [
       "$\\displaystyle \\left[\\begin{matrix}1 & 0 & 0 & 0\\\\0 & 1 & 0 & 0\\\\0 & 0 & 0 & 1\\\\0 & 0 & 1 & 0\\end{matrix}\\right]$"
      ],
      "text/plain": [
       "⎡1  0  0  0⎤\n",
       "⎢          ⎥\n",
       "⎢0  1  0  0⎥\n",
       "⎢          ⎥\n",
       "⎢0  0  0  1⎥\n",
       "⎢          ⎥\n",
       "⎣0  0  1  0⎦"
      ]
     },
     "execution_count": 47,
     "metadata": {},
     "output_type": "execute_result"
    }
   ],
   "source": [
    "represent(CNOT(1,0),nqubits=2)"
   ]
  },
  {
   "cell_type": "markdown",
   "metadata": {},
   "source": [
    "CNOTをそれぞれの2量子ビットに作用させてみます。"
   ]
  },
  {
   "cell_type": "code",
   "execution_count": 48,
   "metadata": {},
   "outputs": [
    {
     "data": {
      "image/png": "[encoded data removed]",
      "text/latex": [
       "$\\displaystyle {\\left|00\\right\\rangle }$"
      ],
      "text/plain": [
       "❘00⟩"
      ]
     },
     "execution_count": 48,
     "metadata": {},
     "output_type": "execute_result"
    }
   ],
   "source": [
    "qapply(CNOT(1,0) * q00)"
   ]
  },
  {
   "cell_type": "code",
   "execution_count": 49,
   "metadata": {},
   "outputs": [
    {
     "data": {
      "image/png": "[encoded data removed]",
      "text/latex": [
       "$\\displaystyle {\\left|01\\right\\rangle }$"
      ],
      "text/plain": [
       "❘01⟩"
      ]
     },
     "execution_count": 49,
     "metadata": {},
     "output_type": "execute_result"
    }
   ],
   "source": [
    "qapply(CNOT(1,0) * q01)"
   ]
  },
  {
   "cell_type": "code",
   "execution_count": 50,
   "metadata": {},
   "outputs": [
    {
     "data": {
      "image/png": "[encoded data removed]",
      "text/latex": [
       "$\\displaystyle {\\left|11\\right\\rangle }$"
      ],
      "text/plain": [
       "❘11⟩"
      ]
     },
     "execution_count": 50,
     "metadata": {},
     "output_type": "execute_result"
    }
   ],
   "source": [
    "qapply(CNOT(1,0) * q10)"
   ]
  },
  {
   "cell_type": "code",
   "execution_count": 51,
   "metadata": {},
   "outputs": [
    {
     "data": {
      "image/png": "[encoded data removed]",
      "text/latex": [
       "$\\displaystyle {\\left|10\\right\\rangle }$"
      ],
      "text/plain": [
       "❘10⟩"
      ]
     },
     "execution_count": 51,
     "metadata": {},
     "output_type": "execute_result"
    }
   ],
   "source": [
    "qapply(CNOT(1,0) * q11)"
   ]
  },
  {
   "cell_type": "markdown",
   "metadata": {},
   "source": [
    "SWAPゲートは以下の通りです。引数に交換した量子ビットを指定します。"
   ]
  },
  {
   "cell_type": "code",
   "execution_count": 52,
   "metadata": {},
   "outputs": [
    {
     "data": {
      "text/latex": [
       "$\\displaystyle \\left[\\begin{matrix}1 & 0 & 0 & 0\\\\0 & 0 & 1 & 0\\\\0 & 1 & 0 & 0\\\\0 & 0 & 0 & 1\\end{matrix}\\right]$"
      ],
      "text/plain": [
       "⎡1  0  0  0⎤\n",
       "⎢          ⎥\n",
       "⎢0  0  1  0⎥\n",
       "⎢          ⎥\n",
       "⎢0  1  0  0⎥\n",
       "⎢          ⎥\n",
       "⎣0  0  0  1⎦"
      ]
     },
     "execution_count": 52,
     "metadata": {},
     "output_type": "execute_result"
    }
   ],
   "source": [
    "represent(SWAP(0,1),nqubits=2)"
   ]
  },
  {
   "cell_type": "markdown",
   "metadata": {},
   "source": [
    "SWAPゲートをそれぞれの2量子ビットに作用させてみます。"
   ]
  },
  {
   "cell_type": "code",
   "execution_count": 53,
   "metadata": {},
   "outputs": [
    {
     "data": {
      "image/png": "[encoded data removed]",
      "text/latex": [
       "$\\displaystyle {\\left|00\\right\\rangle }$"
      ],
      "text/plain": [
       "❘00⟩"
      ]
     },
     "execution_count": 53,
     "metadata": {},
     "output_type": "execute_result"
    }
   ],
   "source": [
    "qapply(SWAP(0,1) * q00)"
   ]
  },
  {
   "cell_type": "code",
   "execution_count": 54,
   "metadata": {},
   "outputs": [
    {
     "data": {
      "image/png": "[encoded data removed]",
      "text/latex": [
       "$\\displaystyle {\\left|10\\right\\rangle }$"
      ],
      "text/plain": [
       "❘10⟩"
      ]
     },
     "execution_count": 54,
     "metadata": {},
     "output_type": "execute_result"
    }
   ],
   "source": [
    "qapply(SWAP(0,1) * q01)"
   ]
  },
  {
   "cell_type": "code",
   "execution_count": 55,
   "metadata": {},
   "outputs": [
    {
     "data": {
      "image/png": "[encoded data removed]",
      "text/latex": [
       "$\\displaystyle {\\left|01\\right\\rangle }$"
      ],
      "text/plain": [
       "❘01⟩"
      ]
     },
     "execution_count": 55,
     "metadata": {},
     "output_type": "execute_result"
    }
   ],
   "source": [
    "qapply(SWAP(0,1) * q10)"
   ]
  },
  {
   "cell_type": "code",
   "execution_count": 56,
   "metadata": {},
   "outputs": [
    {
     "data": {
      "image/png": "[encoded data removed]",
      "text/latex": [
       "$\\displaystyle {\\left|11\\right\\rangle }$"
      ],
      "text/plain": [
       "❘11⟩"
      ]
     },
     "execution_count": 56,
     "metadata": {},
     "output_type": "execute_result"
    }
   ],
   "source": [
    "qapply(SWAP(0,1) * q11)"
   ]
  },
  {
   "cell_type": "markdown",
   "metadata": {},
   "source": [
    "### テンソル積"
   ]
  },
  {
   "cell_type": "code",
   "execution_count": 57,
   "metadata": {},
   "outputs": [],
   "source": [
    "a, b, c, d = sympy.symbols('alpha,beta,gamma,delta')\n",
    "psi = a * q0 + b * q1\n",
    "phi = c * q0 + d * q1"
   ]
  },
  {
   "cell_type": "code",
   "execution_count": 58,
   "metadata": {},
   "outputs": [
    {
     "data": {
      "image/png": "[encoded data removed]",
      "text/latex": [
       "$\\displaystyle \\alpha {\\left|0\\right\\rangle } + \\beta {\\left|1\\right\\rangle }$"
      ],
      "text/plain": [
       "α⋅❘0⟩ + β⋅❘1⟩"
      ]
     },
     "execution_count": 58,
     "metadata": {},
     "output_type": "execute_result"
    }
   ],
   "source": [
    "psi"
   ]
  },
  {
   "cell_type": "code",
   "execution_count": 59,
   "metadata": {},
   "outputs": [
    {
     "data": {
      "image/png": "[encoded data removed]",
      "text/latex": [
       "$\\displaystyle \\delta {\\left|1\\right\\rangle } + \\gamma {\\left|0\\right\\rangle }$"
      ],
      "text/plain": [
       "δ⋅❘1⟩ + γ⋅❘0⟩"
      ]
     },
     "execution_count": 59,
     "metadata": {},
     "output_type": "execute_result"
    }
   ],
   "source": [
    "phi"
   ]
  },
  {
   "cell_type": "markdown",
   "metadata": {},
   "source": [
    "テンソル積の計算をするには、TensorProductを利用します。"
   ]
  },
  {
   "cell_type": "code",
   "execution_count": 60,
   "metadata": {},
   "outputs": [
    {
     "data": {
      "image/png": "[encoded data removed]",
      "text/latex": [
       "$\\displaystyle \\left({\\alpha {\\left|0\\right\\rangle } + \\beta {\\left|1\\right\\rangle }}\\right)\\otimes \\left({\\delta {\\left|1\\right\\rangle } + \\gamma {\\left|0\\right\\rangle }}\\right)$"
      ],
      "text/plain": [
       "(α⋅❘0⟩ + β⋅❘1⟩)⨂ (δ⋅❘1⟩ + γ⋅❘0⟩)"
      ]
     },
     "execution_count": 60,
     "metadata": {},
     "output_type": "execute_result"
    }
   ],
   "source": [
    "from sympy.physics.quantum import TensorProduct\n",
    "TensorProduct(psi, phi)"
   ]
  },
  {
   "cell_type": "code",
   "execution_count": 61,
   "metadata": {},
   "outputs": [
    {
     "data": {
      "text/latex": [
       "$\\displaystyle \\left[\\begin{matrix}\\alpha \\gamma\\\\\\alpha \\delta\\\\\\beta \\gamma\\\\\\beta \\delta\\end{matrix}\\right]$"
      ],
      "text/plain": [
       "⎡α⋅γ⎤\n",
       "⎢   ⎥\n",
       "⎢α⋅δ⎥\n",
       "⎢   ⎥\n",
       "⎢β⋅γ⎥\n",
       "⎢   ⎥\n",
       "⎣β⋅δ⎦"
      ]
     },
     "execution_count": 61,
     "metadata": {},
     "output_type": "execute_result"
    }
   ],
   "source": [
    "represent(TensorProduct(psi, phi))"
   ]
  },
  {
   "cell_type": "markdown",
   "metadata": {},
   "source": [
    "### 測定"
   ]
  },
  {
   "cell_type": "code",
   "execution_count": 62,
   "metadata": {},
   "outputs": [
    {
     "data": {
      "image/png": "[encoded data removed]",
      "text/latex": [
       "$\\displaystyle \\left[ \\left( {\\left|00\\right\\rangle }, \\  \\frac{\\alpha \\gamma \\overline{\\alpha} \\overline{\\gamma} \\overline{\\frac{1}{\\sqrt{\\left|{\\alpha \\delta}\\right|^{2} + \\left|{\\alpha \\gamma}\\right|^{2} + \\left|{\\beta \\delta}\\right|^{2} + \\left|{\\beta \\gamma}\\right|^{2}}}}}{\\sqrt{\\left|{\\alpha \\delta}\\right|^{2} + \\left|{\\alpha \\gamma}\\right|^{2} + \\left|{\\beta \\delta}\\right|^{2} + \\left|{\\beta \\gamma}\\right|^{2}}}\\right), \\  \\left( {\\left|01\\right\\rangle }, \\  \\frac{\\alpha \\delta \\overline{\\alpha} \\overline{\\delta} \\overline{\\frac{1}{\\sqrt{\\left|{\\alpha \\delta}\\right|^{2} + \\left|{\\alpha \\gamma}\\right|^{2} + \\left|{\\beta \\delta}\\right|^{2} + \\left|{\\beta \\gamma}\\right|^{2}}}}}{\\sqrt{\\left|{\\alpha \\delta}\\right|^{2} + \\left|{\\alpha \\gamma}\\right|^{2} + \\left|{\\beta \\delta}\\right|^{2} + \\left|{\\beta \\gamma}\\right|^{2}}}\\right), \\  \\left( {\\left|10\\right\\rangle }, \\  \\frac{\\beta \\gamma \\overline{\\beta} \\overline{\\gamma} \\overline{\\frac{1}{\\sqrt{\\left|{\\alpha \\delta}\\right|^{2} + \\left|{\\alpha \\gamma}\\right|^{2} + \\left|{\\beta \\delta}\\right|^{2} + \\left|{\\beta \\gamma}\\right|^{2}}}}}{\\sqrt{\\left|{\\alpha \\delta}\\right|^{2} + \\left|{\\alpha \\gamma}\\right|^{2} + \\left|{\\beta \\delta}\\right|^{2} + \\left|{\\beta \\gamma}\\right|^{2}}}\\right), \\  \\left( {\\left|11\\right\\rangle }, \\  \\frac{\\beta \\delta \\overline{\\beta} \\overline{\\delta} \\overline{\\frac{1}{\\sqrt{\\left|{\\alpha \\delta}\\right|^{2} + \\left|{\\alpha \\gamma}\\right|^{2} + \\left|{\\beta \\delta}\\right|^{2} + \\left|{\\beta \\gamma}\\right|^{2}}}}}{\\sqrt{\\left|{\\alpha \\delta}\\right|^{2} + \\left|{\\alpha \\gamma}\\right|^{2} + \\left|{\\beta \\delta}\\right|^{2} + \\left|{\\beta \\gamma}\\right|^{2}}}\\right)\\right]$"
      ],
      "text/plain": [
       "⎡⎛              ______________________________________⎞  ⎛              ______\n",
       "⎢⎜          _ _                   1                   ⎟  ⎜          _ _       \n",
       "⎢⎜      α⋅γ⋅α⋅γ⋅──────────────────────────────────────⎟  ⎜      α⋅δ⋅α⋅δ⋅──────\n",
       "⎢⎜                 ___________________________________⎟  ⎜                 ___\n",
       "⎢⎜                ╱      2        2        2        2 ⎟  ⎜                ╱   \n",
       "⎢⎜              ╲╱  │α⋅δ│  + │α⋅γ│  + │β⋅δ│  + │β⋅γ│  ⎟  ⎜              ╲╱  │α\n",
       "⎢⎜❘00⟩, ──────────────────────────────────────────────⎟, ⎜❘01⟩, ──────────────\n",
       "⎢⎜             ___________________________________    ⎟  ⎜             _______\n",
       "⎢⎜            ╱      2        2        2        2     ⎟  ⎜            ╱      2\n",
       "⎣⎝          ╲╱  │α⋅δ│  + │α⋅γ│  + │β⋅δ│  + │β⋅γ│      ⎠  ⎝          ╲╱  │α⋅δ│ \n",
       "\n",
       "________________________________⎞  ⎛              ____________________________\n",
       "            1                   ⎟  ⎜          _ _                   1         \n",
       "────────────────────────────────⎟  ⎜      β⋅γ⋅β⋅γ⋅────────────────────────────\n",
       "________________________________⎟  ⎜                 _________________________\n",
       "   2        2        2        2 ⎟  ⎜                ╱      2        2        2\n",
       "⋅δ│  + │α⋅γ│  + │β⋅δ│  + │β⋅γ│  ⎟  ⎜              ╲╱  │α⋅δ│  + │α⋅γ│  + │β⋅δ│ \n",
       "────────────────────────────────⎟, ⎜❘10⟩, ────────────────────────────────────\n",
       "____________________________    ⎟  ⎜             _____________________________\n",
       "        2        2        2     ⎟  ⎜            ╱      2        2        2    \n",
       " + │α⋅γ│  + │β⋅δ│  + │β⋅γ│      ⎠  ⎝          ╲╱  │α⋅δ│  + │α⋅γ│  + │β⋅δ│  + │\n",
       "\n",
       "__________⎞  ⎛              ______________________________________⎞⎤\n",
       "          ⎟  ⎜          _ _                   1                   ⎟⎥\n",
       "──────────⎟  ⎜      β⋅δ⋅β⋅δ⋅──────────────────────────────────────⎟⎥\n",
       "__________⎟  ⎜                 ___________________________________⎟⎥\n",
       "        2 ⎟  ⎜                ╱      2        2        2        2 ⎟⎥\n",
       " + │β⋅γ│  ⎟  ⎜              ╲╱  │α⋅δ│  + │α⋅γ│  + │β⋅δ│  + │β⋅γ│  ⎟⎥\n",
       "──────────⎟, ⎜❘11⟩, ──────────────────────────────────────────────⎟⎥\n",
       "______    ⎟  ⎜             ___________________________________    ⎟⎥\n",
       "    2     ⎟  ⎜            ╱      2        2        2        2     ⎟⎥\n",
       "β⋅γ│      ⎠  ⎝          ╲╱  │α⋅δ│  + │α⋅γ│  + │β⋅δ│  + │β⋅γ│      ⎠⎦"
      ]
     },
     "execution_count": 62,
     "metadata": {},
     "output_type": "execute_result"
    }
   ],
   "source": [
    "measure_all(TensorProduct(psi, phi))"
   ]
  },
  {
   "cell_type": "code",
   "execution_count": 63,
   "metadata": {},
   "outputs": [
    {
     "data": {
      "image/png": "[encoded data removed]",
      "text/latex": [
       "$\\displaystyle \\left[ \\left( \\frac{\\alpha \\gamma {\\left|00\\right\\rangle }}{\\sqrt{\\frac{\\left|{\\alpha \\gamma}\\right|^{2}}{\\left|{\\alpha \\delta}\\right|^{2} + \\left|{\\alpha \\gamma}\\right|^{2} + \\left|{\\beta \\delta}\\right|^{2} + \\left|{\\beta \\gamma}\\right|^{2}} + \\frac{\\left|{\\beta \\gamma}\\right|^{2}}{\\left|{\\alpha \\delta}\\right|^{2} + \\left|{\\alpha \\gamma}\\right|^{2} + \\left|{\\beta \\delta}\\right|^{2} + \\left|{\\beta \\gamma}\\right|^{2}}} \\sqrt{\\left|{\\alpha \\delta}\\right|^{2} + \\left|{\\alpha \\gamma}\\right|^{2} + \\left|{\\beta \\delta}\\right|^{2} + \\left|{\\beta \\gamma}\\right|^{2}}} + \\frac{\\beta \\gamma {\\left|10\\right\\rangle }}{\\sqrt{\\frac{\\left|{\\alpha \\gamma}\\right|^{2}}{\\left|{\\alpha \\delta}\\right|^{2} + \\left|{\\alpha \\gamma}\\right|^{2} + \\left|{\\beta \\delta}\\right|^{2} + \\left|{\\beta \\gamma}\\right|^{2}} + \\frac{\\left|{\\beta \\gamma}\\right|^{2}}{\\left|{\\alpha \\delta}\\right|^{2} + \\left|{\\alpha \\gamma}\\right|^{2} + \\left|{\\beta \\delta}\\right|^{2} + \\left|{\\beta \\gamma}\\right|^{2}}} \\sqrt{\\left|{\\alpha \\delta}\\right|^{2} + \\left|{\\alpha \\gamma}\\right|^{2} + \\left|{\\beta \\delta}\\right|^{2} + \\left|{\\beta \\gamma}\\right|^{2}}}, \\  \\frac{\\alpha \\gamma \\overline{\\alpha} \\overline{\\gamma} \\overline{\\frac{1}{\\sqrt{\\left|{\\alpha \\delta}\\right|^{2} + \\left|{\\alpha \\gamma}\\right|^{2} + \\left|{\\beta \\delta}\\right|^{2} + \\left|{\\beta \\gamma}\\right|^{2}}}}}{\\sqrt{\\left|{\\alpha \\delta}\\right|^{2} + \\left|{\\alpha \\gamma}\\right|^{2} + \\left|{\\beta \\delta}\\right|^{2} + \\left|{\\beta \\gamma}\\right|^{2}}} + \\frac{\\beta \\gamma \\overline{\\beta} \\overline{\\gamma} \\overline{\\frac{1}{\\sqrt{\\left|{\\alpha \\delta}\\right|^{2} + \\left|{\\alpha \\gamma}\\right|^{2} + \\left|{\\beta \\delta}\\right|^{2} + \\left|{\\beta \\gamma}\\right|^{2}}}}}{\\sqrt{\\left|{\\alpha \\delta}\\right|^{2} + \\left|{\\alpha \\gamma}\\right|^{2} + \\left|{\\beta \\delta}\\right|^{2} + \\left|{\\beta \\gamma}\\right|^{2}}}\\right), \\  \\left( \\frac{\\alpha \\delta {\\left|01\\right\\rangle }}{\\sqrt{\\frac{\\left|{\\alpha \\delta}\\right|^{2}}{\\left|{\\alpha \\delta}\\right|^{2} + \\left|{\\alpha \\gamma}\\right|^{2} + \\left|{\\beta \\delta}\\right|^{2} + \\left|{\\beta \\gamma}\\right|^{2}} + \\frac{\\left|{\\beta \\delta}\\right|^{2}}{\\left|{\\alpha \\delta}\\right|^{2} + \\left|{\\alpha \\gamma}\\right|^{2} + \\left|{\\beta \\delta}\\right|^{2} + \\left|{\\beta \\gamma}\\right|^{2}}} \\sqrt{\\left|{\\alpha \\delta}\\right|^{2} + \\left|{\\alpha \\gamma}\\right|^{2} + \\left|{\\beta \\delta}\\right|^{2} + \\left|{\\beta \\gamma}\\right|^{2}}} + \\frac{\\beta \\delta {\\left|11\\right\\rangle }}{\\sqrt{\\frac{\\left|{\\alpha \\delta}\\right|^{2}}{\\left|{\\alpha \\delta}\\right|^{2} + \\left|{\\alpha \\gamma}\\right|^{2} + \\left|{\\beta \\delta}\\right|^{2} + \\left|{\\beta \\gamma}\\right|^{2}} + \\frac{\\left|{\\beta \\delta}\\right|^{2}}{\\left|{\\alpha \\delta}\\right|^{2} + \\left|{\\alpha \\gamma}\\right|^{2} + \\left|{\\beta \\delta}\\right|^{2} + \\left|{\\beta \\gamma}\\right|^{2}}} \\sqrt{\\left|{\\alpha \\delta}\\right|^{2} + \\left|{\\alpha \\gamma}\\right|^{2} + \\left|{\\beta \\delta}\\right|^{2} + \\left|{\\beta \\gamma}\\right|^{2}}}, \\  \\frac{\\alpha \\delta \\overline{\\alpha} \\overline{\\delta} \\overline{\\frac{1}{\\sqrt{\\left|{\\alpha \\delta}\\right|^{2} + \\left|{\\alpha \\gamma}\\right|^{2} + \\left|{\\beta \\delta}\\right|^{2} + \\left|{\\beta \\gamma}\\right|^{2}}}}}{\\sqrt{\\left|{\\alpha \\delta}\\right|^{2} + \\left|{\\alpha \\gamma}\\right|^{2} + \\left|{\\beta \\delta}\\right|^{2} + \\left|{\\beta \\gamma}\\right|^{2}}} + \\frac{\\beta \\delta \\overline{\\beta} \\overline{\\delta} \\overline{\\frac{1}{\\sqrt{\\left|{\\alpha \\delta}\\right|^{2} + \\left|{\\alpha \\gamma}\\right|^{2} + \\left|{\\beta \\delta}\\right|^{2} + \\left|{\\beta \\gamma}\\right|^{2}}}}}{\\sqrt{\\left|{\\alpha \\delta}\\right|^{2} + \\left|{\\alpha \\gamma}\\right|^{2} + \\left|{\\beta \\delta}\\right|^{2} + \\left|{\\beta \\gamma}\\right|^{2}}}\\right)\\right]$"
      ],
      "text/plain": [
       "⎡⎛                                                                            \n",
       "⎢⎜                                                                            \n",
       "⎢⎜                                                                            \n",
       "⎢⎜                                                                            \n",
       "⎢⎜                                                                            \n",
       "⎢⎜                                                      α⋅γ⋅❘00⟩              \n",
       "⎢⎜────────────────────────────────────────────────────────────────────────────\n",
       "⎢⎜      ______________________________________________________________________\n",
       "⎢⎜     ╱                    2                                   2             \n",
       "⎢⎜    ╱                │α⋅γ│                               │β⋅γ│              \n",
       "⎢⎜   ╱   ───────────────────────────────── + ─────────────────────────────────\n",
       "⎢⎜  ╱         2        2        2        2        2        2        2        2\n",
       "⎣⎝╲╱     │α⋅δ│  + │α⋅γ│  + │β⋅δ│  + │β⋅γ│    │α⋅δ│  + │α⋅γ│  + │β⋅δ│  + │β⋅γ│ \n",
       "\n",
       "                                                                              \n",
       "                                                                              \n",
       "                                                                              \n",
       "                                                                              \n",
       "                                                                              \n",
       "                                                                              \n",
       "──────────────────────────────────────── + ───────────────────────────────────\n",
       "_                                                _____________________________\n",
       "     ___________________________________        ╱                    2        \n",
       "    ╱      2        2        2        2        ╱                │α⋅γ│         \n",
       " ⋅╲╱  │α⋅δ│  + │α⋅γ│  + │β⋅δ│  + │β⋅γ│        ╱   ────────────────────────────\n",
       "                                             ╱         2        2        2    \n",
       "                                           ╲╱     │α⋅δ│  + │α⋅γ│  + │β⋅δ│  + │\n",
       "\n",
       "                                                                              \n",
       "                                                                              \n",
       "                                                                              \n",
       "                                                                              \n",
       "                                                                              \n",
       "                   β⋅γ⋅❘10⟩                                                   \n",
       "──────────────────────────────────────────────────────────────────────────────\n",
       "__________________________________________                                    \n",
       "                           2                  ________________________________\n",
       "                      │β⋅γ│                  ╱      2        2        2       \n",
       "───── + ───────────────────────────────── ⋅╲╱  │α⋅δ│  + │α⋅γ│  + │β⋅δ│  + │β⋅γ\n",
       "    2        2        2        2        2                                     \n",
       "β⋅γ│    │α⋅δ│  + │α⋅γ│  + │β⋅δ│  + │β⋅γ│                                      \n",
       "\n",
       "             ______________________________________           ________________\n",
       "         _ _                   1                          _ _                 \n",
       "     α⋅γ⋅α⋅γ⋅──────────────────────────────────────   β⋅γ⋅β⋅γ⋅────────────────\n",
       "                ___________________________________              _____________\n",
       "               ╱      2        2        2        2              ╱      2      \n",
       "             ╲╱  │α⋅δ│  + │α⋅γ│  + │β⋅δ│  + │β⋅γ│             ╲╱  │α⋅δ│  + │α⋅\n",
       "───, ────────────────────────────────────────────── + ────────────────────────\n",
       "            ___________________________________              _________________\n",
       "___        ╱      2        2        2        2              ╱      2        2 \n",
       " 2       ╲╱  │α⋅δ│  + │α⋅γ│  + │β⋅δ│  + │β⋅γ│             ╲╱  │α⋅δ│  + │α⋅γ│  \n",
       "│                                                                             \n",
       "                                                                              \n",
       "                                                                              \n",
       "\n",
       "______________________⎞  ⎛                                                    \n",
       "  1                   ⎟  ⎜                                                    \n",
       "──────────────────────⎟  ⎜                                                    \n",
       "______________________⎟  ⎜                                                    \n",
       "  2        2        2 ⎟  ⎜                                                    \n",
       "γ│  + │β⋅δ│  + │β⋅γ│  ⎟  ⎜                                                    \n",
       "──────────────────────⎟, ⎜────────────────────────────────────────────────────\n",
       "__________________    ⎟  ⎜      ______________________________________________\n",
       "       2        2     ⎟  ⎜     ╱                    2                         \n",
       "+ │β⋅δ│  + │β⋅γ│      ⎟  ⎜    ╱                │α⋅δ│                          \n",
       "                      ⎟  ⎜   ╱   ───────────────────────────────── + ─────────\n",
       "                      ⎟  ⎜  ╱         2        2        2        2        2   \n",
       "                      ⎠  ⎝╲╱     │α⋅δ│  + │α⋅γ│  + │β⋅δ│  + │β⋅γ│    │α⋅δ│  + \n",
       "\n",
       "                                                                              \n",
       "                                                                              \n",
       "                                                                              \n",
       "                                                                              \n",
       "                                                                              \n",
       "  α⋅δ⋅❘01⟩                                                                    \n",
       "──────────────────────────────────────────────────────────────── + ───────────\n",
       "_________________________                                                _____\n",
       "          2                  ___________________________________        ╱     \n",
       "     │β⋅δ│                  ╱      2        2        2        2        ╱      \n",
       "──────────────────────── ⋅╲╱  │α⋅δ│  + │α⋅γ│  + │β⋅δ│  + │β⋅γ│        ╱   ────\n",
       "     2        2        2                                             ╱        \n",
       "│α⋅γ│  + │β⋅δ│  + │β⋅γ│                                            ╲╱     │α⋅δ\n",
       "\n",
       "                                                                              \n",
       "                                                                              \n",
       "                                                                              \n",
       "                                                                              \n",
       "                                                                              \n",
       "                                           β⋅δ⋅❘11⟩                           \n",
       "──────────────────────────────────────────────────────────────────────────────\n",
       "__________________________________________________________________            \n",
       "               2                                   2                  ________\n",
       "          │α⋅δ│                               │β⋅δ│                  ╱      2 \n",
       "───────────────────────────── + ───────────────────────────────── ⋅╲╱  │α⋅δ│  \n",
       " 2        2        2        2        2        2        2        2             \n",
       "│  + │α⋅γ│  + │β⋅δ│  + │β⋅γ│    │α⋅δ│  + │α⋅γ│  + │β⋅δ│  + │β⋅γ│              \n",
       "\n",
       "                                     ______________________________________   \n",
       "                                 _ _                   1                      \n",
       "                             α⋅δ⋅α⋅δ⋅──────────────────────────────────────   \n",
       "                                        ___________________________________   \n",
       "                                       ╱      2        2        2        2    \n",
       "                                     ╲╱  │α⋅δ│  + │α⋅γ│  + │β⋅δ│  + │β⋅γ│     \n",
       "───────────────────────────, ────────────────────────────────────────────── + \n",
       "                                    ___________________________________       \n",
       "___________________________        ╱      2        2        2        2        \n",
       "       2        2        2       ╲╱  │α⋅δ│  + │α⋅γ│  + │β⋅δ│  + │β⋅γ│         \n",
       "+ │α⋅γ│  + │β⋅δ│  + │β⋅γ│                                                     \n",
       "                                                                              \n",
       "                                                                              \n",
       "\n",
       "        ______________________________________⎞⎤\n",
       "    _ _                   1                   ⎟⎥\n",
       "β⋅δ⋅β⋅δ⋅──────────────────────────────────────⎟⎥\n",
       "           ___________________________________⎟⎥\n",
       "          ╱      2        2        2        2 ⎟⎥\n",
       "        ╲╱  │α⋅δ│  + │α⋅γ│  + │β⋅δ│  + │β⋅γ│  ⎟⎥\n",
       "──────────────────────────────────────────────⎟⎥\n",
       "       ___________________________________    ⎟⎥\n",
       "      ╱      2        2        2        2     ⎟⎥\n",
       "    ╲╱  │α⋅δ│  + │α⋅γ│  + │β⋅δ│  + │β⋅γ│      ⎟⎥\n",
       "                                              ⎟⎥\n",
       "                                              ⎟⎥\n",
       "                                              ⎠⎦"
      ]
     },
     "execution_count": 63,
     "metadata": {},
     "output_type": "execute_result"
    }
   ],
   "source": [
    "measure_partial(TensorProduct(psi, phi), (0,))"
   ]
  },
  {
   "cell_type": "markdown",
   "metadata": {},
   "source": [
    "## ベル基底\n",
    "\n",
    "ベル基底を作ってみます。アダマールゲートとCNOTゲートを組み合わせることで可能です。"
   ]
  },
  {
   "cell_type": "code",
   "execution_count": 64,
   "metadata": {},
   "outputs": [
    {
     "data": {
      "image/png": "[encoded data removed]",
      "text/latex": [
       "$\\displaystyle \\frac{\\sqrt{2} {\\left|00\\right\\rangle }}{2} + \\frac{\\sqrt{2} {\\left|11\\right\\rangle }}{2}$"
      ],
      "text/plain": [
       "√2⋅❘00⟩   √2⋅❘11⟩\n",
       "─────── + ───────\n",
       "   2         2   "
      ]
     },
     "execution_count": 64,
     "metadata": {},
     "output_type": "execute_result"
    }
   ],
   "source": [
    "qapply(CNOT(0,1) * H(0) * q00)"
   ]
  },
  {
   "cell_type": "code",
   "execution_count": 65,
   "metadata": {},
   "outputs": [
    {
     "data": {
      "image/png": "[encoded data removed]",
      "text/latex": [
       "$\\displaystyle \\frac{\\sqrt{2} {\\left|00\\right\\rangle }}{2} - \\frac{\\sqrt{2} {\\left|11\\right\\rangle }}{2}$"
      ],
      "text/plain": [
       "√2⋅❘00⟩   √2⋅❘11⟩\n",
       "─────── - ───────\n",
       "   2         2   "
      ]
     },
     "execution_count": 65,
     "metadata": {},
     "output_type": "execute_result"
    }
   ],
   "source": [
    "qapply(CNOT(0,1) * H(0) * q01)"
   ]
  },
  {
   "cell_type": "code",
   "execution_count": 66,
   "metadata": {},
   "outputs": [
    {
     "data": {
      "image/png": "[encoded data removed]",
      "text/latex": [
       "$\\displaystyle \\frac{\\sqrt{2} {\\left|01\\right\\rangle }}{2} + \\frac{\\sqrt{2} {\\left|10\\right\\rangle }}{2}$"
      ],
      "text/plain": [
       "√2⋅❘01⟩   √2⋅❘10⟩\n",
       "─────── + ───────\n",
       "   2         2   "
      ]
     },
     "execution_count": 66,
     "metadata": {},
     "output_type": "execute_result"
    }
   ],
   "source": [
    "qapply(CNOT(0,1) * H(0) * q10)"
   ]
  },
  {
   "cell_type": "code",
   "execution_count": 67,
   "metadata": {},
   "outputs": [
    {
     "data": {
      "image/png": "[encoded data removed]",
      "text/latex": [
       "$\\displaystyle - \\frac{\\sqrt{2} {\\left|01\\right\\rangle }}{2} + \\frac{\\sqrt{2} {\\left|10\\right\\rangle }}{2}$"
      ],
      "text/plain": [
       "  √2⋅❘01⟩   √2⋅❘10⟩\n",
       "- ─────── + ───────\n",
       "     2         2   "
      ]
     },
     "execution_count": 67,
     "metadata": {},
     "output_type": "execute_result"
    }
   ],
   "source": [
    "qapply(CNOT(0,1) * H(0) * q11)"
   ]
  },
  {
   "cell_type": "markdown",
   "metadata": {},
   "source": [
    "最後に逆の仮定をたどり、元の状態に戻してみます。"
   ]
  },
  {
   "cell_type": "code",
   "execution_count": 68,
   "metadata": {},
   "outputs": [
    {
     "data": {
      "image/png": "[encoded data removed]",
      "text/latex": [
       "$\\displaystyle {\\left|00\\right\\rangle }$"
      ],
      "text/plain": [
       "❘00⟩"
      ]
     },
     "execution_count": 68,
     "metadata": {},
     "output_type": "execute_result"
    }
   ],
   "source": [
    "qapply(H(0) * CNOT(0,1) * CNOT(0,1) * H(0) * q00)"
   ]
  },
  {
   "cell_type": "code",
   "execution_count": 69,
   "metadata": {},
   "outputs": [
    {
     "data": {
      "image/png": "[encoded data removed]",
      "text/latex": [
       "$\\displaystyle {\\left|01\\right\\rangle }$"
      ],
      "text/plain": [
       "❘01⟩"
      ]
     },
     "execution_count": 69,
     "metadata": {},
     "output_type": "execute_result"
    }
   ],
   "source": [
    "qapply(H(0) * CNOT(0,1) * CNOT(0,1) * H(0) * q01)"
   ]
  },
  {
   "cell_type": "code",
   "execution_count": 70,
   "metadata": {},
   "outputs": [
    {
     "data": {
      "image/png": "[encoded data removed]",
      "text/latex": [
       "$\\displaystyle {\\left|01\\right\\rangle }$"
      ],
      "text/plain": [
       "❘01⟩"
      ]
     },
     "execution_count": 70,
     "metadata": {},
     "output_type": "execute_result"
    }
   ],
   "source": [
    "qapply(H(0) * CNOT(0,1) * CNOT(0,1) * H(0) * q01)"
   ]
  },
  {
   "cell_type": "code",
   "execution_count": 71,
   "metadata": {},
   "outputs": [
    {
     "data": {
      "image/png": "[encoded data removed]",
      "text/latex": [
       "$\\displaystyle {\\left|11\\right\\rangle }$"
      ],
      "text/plain": [
       "❘11⟩"
      ]
     },
     "execution_count": 71,
     "metadata": {},
     "output_type": "execute_result"
    }
   ],
   "source": [
    "qapply(H(0) * CNOT(0,1) * CNOT(0,1) * H(0) * q11)"
   ]
  },
  {
   "cell_type": "markdown",
   "metadata": {},
   "source": [
    "量子コンピュータのシミュレーションはqiskitなどを使うことが多いですが、sympyでもかなりの事ができることが分かりました。すごいです！"
   ]
  }
 ],
 "metadata": {
  "kernelspec": {
   "display_name": "Python 3",
   "language": "python",
   "name": "python3"
  },
  "language_info": {
   "codemirror_mode": {
    "name": "ipython",
    "version": 3
   },
   "file_extension": ".py",
   "mimetype": "text/x-python",
   "name": "python",
   "nbconvert_exporter": "python",
   "pygments_lexer": "ipython3",
   "version": "3.8.5"
  },
  "widgets": {
   "state": {},
   "version": "1.1.2"
  }
 },
 "nbformat": 4,
 "nbformat_minor": 2
}
