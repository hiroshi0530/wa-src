{
 "cells": [
  {
   "cell_type": "markdown",
   "metadata": {},
   "source": [
    "# tensorflow 2.0\n",
    "\n",
    "tensorlowが1.x系から2.x系へバージョンアップされました。大きな変更点は、define and runからdefine by runに変更になったことだと思います。ここでは、自分がtensorflow 2.0を利用していく中で、注意した方が良いと思う点や、実務を効率的にこなすために覚えておこうと意識した点をまとめていきます。\n",
    "\n",
    "## tf.data.Dataset\n",
    " \n",
    "tf.data.Datasetはかなり便利です。教師あり学習の場合、ニューラルネットに投入するデータは通常、データとラベルがありますが、それを一喝してまとめてデータセットとして扱う際に力を発揮します。また、データのバッチ化やシャッフル機能、mapなどにも対応しており、tensorflowを利用するならば、必ず利用する機能かと思います。\n",
    "\n",
    "### tf.data.from_tensors\n",
    "\n",
    "まずはtensorflowの読み込みと、基本的なデータセットの作成からです。\n",
    "データセットの作成は、\n",
    "\n",
    "```python\n",
    "tf.data.Dataset.from_tensors\n",
    "```\n",
    "\n",
    "を利用します。tensorflowのversionは以下の通りです。"
   ]
  },
  {
   "cell_type": "code",
   "execution_count": 1,
   "metadata": {
    "scrolled": true
   },
   "outputs": [
    {
     "data": {
      "text/plain": [
       "'2.1.0'"
      ]
     },
     "execution_count": 1,
     "metadata": {},
     "output_type": "execute_result"
    }
   ],
   "source": [
    "import tensorflow as tf\n",
    "import numpy as np\n",
    "import pandas as pd\n",
    "\n",
    "%matplotlib inline\n",
    "%config InlineBackend.figure_format = 'svg'\n",
    "import matplotlib\n",
    "import matplotlib.pyplot as plt\n",
    "\n",
    "from tensorflow import keras\n",
    "\n",
    "print('tf version     : ', tf.__version__)\n",
    "print('keras version  : ', keras.__version__)\n",
    "print('numpy version  : ',np.__version__)\n",
    "print('pandas version : ',pd.__version__)\n",
    "print('matlib version : ',matplotlib.__version__)"
   ]
  },
  {
   "cell_type": "markdown",
   "metadata": {},
   "source": [
    "tensorflowの名前の元である、0階、1階、2階のtensorのDatasetは以下の様に作れます。引数はList型やtf.constなどでも大丈夫です。暗黙的にTensor型に変換してくれます。"
   ]
  },
  {
   "cell_type": "code",
   "execution_count": 23,
   "metadata": {},
   "outputs": [
    {
     "name": "stdout",
     "output_type": "stream",
     "text": [
      "<TensorDataset shapes: (), types: tf.int32>\n",
      "<TensorDataset shapes: (2,), types: tf.int32>\n",
      "<TensorDataset shapes: (2, 2), types: tf.int32>\n"
     ]
    }
   ],
   "source": [
    "dataset0 = tf.data.Dataset.from_tensors(1)\n",
    "print(dataset0)\n",
    "dataset1 = tf.data.Dataset.from_tensors([1,2])\n",
    "print(dataset1)\n",
    "dataset2 = tf.data.Dataset.from_tensors([[1,2],[3,4]])\n",
    "print(dataset2)"
   ]
  },
  {
   "cell_type": "markdown",
   "metadata": {},
   "source": [
    "shapesが(),(2,),(2,2)となっていて、それぞれの次元のtensorが出来ています。また、Datasetはジェネレータのため、値を参照するにはイテレータの様に呼び出す必要があります。また、Dataset型から取り出されたEagerTensor型はnumpy()メソッドを実装しており、明示的にnumpy形式に変換することが出来ます。"
   ]
  },
  {
   "cell_type": "code",
   "execution_count": 43,
   "metadata": {},
   "outputs": [
    {
     "name": "stdout",
     "output_type": "stream",
     "text": [
      "<class 'tensorflow.python.framework.ops.EagerTensor'>\n",
      "<class 'tensorflow.python.data.ops.dataset_ops.TensorDataset'>\n",
      "<class 'tensorflow.python.framework.ops.EagerTensor'>\n"
     ]
    }
   ],
   "source": [
    "_dataset0 = next(iter(dataset0))\n",
    "_dataset1 = next(iter(dataset1))\n",
    "_dataset2 = next(iter(dataset2))"
   ]
  },
  {
   "cell_type": "code",
   "execution_count": 25,
   "metadata": {},
   "outputs": [
    {
     "name": "stdout",
     "output_type": "stream",
     "text": [
      "_dataset0 : \n",
      "1\n",
      "_dataset1 : \n",
      "[1 2]\n",
      "_dataset2 : \n",
      "[[1 2]\n",
      " [3 4]]\n"
     ]
    }
   ],
   "source": [
    "print('_dataset0 : \\n{}'.format(_dataset0.numpy()))\n",
    "print('_dataset1 : \\n{}'.format(_dataset1.numpy()))\n",
    "print('_dataset2 : \\n{}'.format(_dataset2.numpy()))"
   ]
  },
  {
   "cell_type": "markdown",
   "metadata": {},
   "source": [
    "また、ジェネレータなのでforで取り出すことも可能です。"
   ]
  },
  {
   "cell_type": "code",
   "execution_count": 28,
   "metadata": {},
   "outputs": [
    {
     "name": "stdout",
     "output_type": "stream",
     "text": [
      "1\n",
      "[1 2]\n",
      "[[1 2]\n",
      " [3 4]]\n"
     ]
    }
   ],
   "source": [
    "for i in dataset0:\n",
    "  print(i.numpy())\n",
    "for i in dataset1:\n",
    "  print(i.numpy())\n",
    "for i in dataset2:\n",
    "  print(i.numpy())"
   ]
  },
  {
   "cell_type": "markdown",
   "metadata": {},
   "source": [
    "### tf.data.from_tensor_slices\n",
    "おそらくDatasetを作るときは、元々何らかの形でリスト型になっている物をDataset型に変換することが多いと思いますので、実際は`tf.data.from_tensors`よりこちらの方をよく使うと思います。\n",
    "まずは一次元リストを入れてみます。"
   ]
  },
  {
   "cell_type": "code",
   "execution_count": 57,
   "metadata": {},
   "outputs": [],
   "source": [
    "dataset_20 = tf.data.Dataset.from_tensor_slices([i for i in range(5)])"
   ]
  },
  {
   "cell_type": "code",
   "execution_count": 58,
   "metadata": {},
   "outputs": [
    {
     "name": "stdout",
     "output_type": "stream",
     "text": [
      "tf.Tensor(0, shape=(), dtype=int32)\n",
      "tf.Tensor(1, shape=(), dtype=int32)\n",
      "tf.Tensor(2, shape=(), dtype=int32)\n",
      "tf.Tensor(3, shape=(), dtype=int32)\n",
      "tf.Tensor(4, shape=(), dtype=int32)\n"
     ]
    }
   ],
   "source": [
    "for i in dataset_20:\n",
    "  print(i)"
   ]
  },
  {
   "cell_type": "code",
   "execution_count": 59,
   "metadata": {},
   "outputs": [
    {
     "data": {
      "text/plain": [
       "<TensorSliceDataset shapes: (), types: tf.int32>"
      ]
     },
     "execution_count": 59,
     "metadata": {},
     "output_type": "execute_result"
    }
   ],
   "source": [
    "dataset_20"
   ]
  },
  {
   "cell_type": "markdown",
   "metadata": {},
   "source": [
    "となります。tensor_slicesという名前から予想されるとおり、リストから順番にスライスしてDatasetを作っているイメージですね。二次元のリストを入れると以下の通りです。"
   ]
  },
  {
   "cell_type": "code",
   "execution_count": 60,
   "metadata": {},
   "outputs": [],
   "source": [
    "dataset_21 = tf.data.Dataset.from_tensor_slices([[j for j in range(3)] for i in range(4)])"
   ]
  },
  {
   "cell_type": "code",
   "execution_count": 61,
   "metadata": {},
   "outputs": [
    {
     "name": "stdout",
     "output_type": "stream",
     "text": [
      "tf.Tensor([0 1 2], shape=(3,), dtype=int32)\n",
      "tf.Tensor([0 1 2], shape=(3,), dtype=int32)\n",
      "tf.Tensor([0 1 2], shape=(3,), dtype=int32)\n",
      "tf.Tensor([0 1 2], shape=(3,), dtype=int32)\n"
     ]
    }
   ],
   "source": [
    "for i in dataset_21:\n",
    "  print(i)"
   ]
  },
  {
   "cell_type": "markdown",
   "metadata": {},
   "source": [
    "こちらも想像通り、一次元のリストのDataset型となっています。"
   ]
  },
  {
   "cell_type": "code",
   "execution_count": null,
   "metadata": {},
   "outputs": [],
   "source": []
  },
  {
   "cell_type": "code",
   "execution_count": null,
   "metadata": {},
   "outputs": [],
   "source": []
  },
  {
   "cell_type": "code",
   "execution_count": null,
   "metadata": {},
   "outputs": [],
   "source": []
  },
  {
   "cell_type": "code",
   "execution_count": null,
   "metadata": {},
   "outputs": [],
   "source": []
  },
  {
   "cell_type": "code",
   "execution_count": null,
   "metadata": {},
   "outputs": [],
   "source": []
  },
  {
   "cell_type": "code",
   "execution_count": 6,
   "metadata": {},
   "outputs": [
    {
     "data": {
      "text/plain": [
       "<matplotlib.axes._subplots.AxesSubplot at 0x142e8b438>"
      ]
     },
     "execution_count": 6,
     "metadata": {},
     "output_type": "execute_result"
    },
    {
     "data": {
      "image/png": "[encoded data removed]",
      "text/plain": [
       "<Figure size 432x288 with 1 Axes>"
      ]
     },
     "metadata": {
      "needs_background": "light"
     },
     "output_type": "display_data"
    }
   ],
   "source": [
    "import seaborn as sns\n",
    "import pandas as pd\n",
    "\n",
    "df = pd.DataFrame([[1,2,3], [4,5,6]])\n",
    "\n",
    "df.plot()\n"
   ]
  },
  {
   "cell_type": "code",
   "execution_count": null,
   "metadata": {},
   "outputs": [],
   "source": []
  },
  {
   "cell_type": "code",
   "execution_count": null,
   "metadata": {},
   "outputs": [],
   "source": []
  },
  {
   "cell_type": "markdown",
   "metadata": {},
   "source": [
    "## tf.keras.preprocessing \n",
    "\n",
    "自然言語処理処理では、配列を同じ長さに揃える必要があります。 "
   ]
  },
  {
   "cell_type": "code",
   "execution_count": null,
   "metadata": {},
   "outputs": [],
   "source": []
  },
  {
   "cell_type": "code",
   "execution_count": null,
   "metadata": {},
   "outputs": [],
   "source": []
  },
  {
   "cell_type": "code",
   "execution_count": null,
   "metadata": {},
   "outputs": [],
   "source": []
  },
  {
   "cell_type": "code",
   "execution_count": null,
   "metadata": {},
   "outputs": [],
   "source": []
  },
  {
   "cell_type": "code",
   "execution_count": null,
   "metadata": {},
   "outputs": [],
   "source": []
  },
  {
   "cell_type": "code",
   "execution_count": null,
   "metadata": {},
   "outputs": [],
   "source": []
  }
 ],
 "metadata": {
  "kernelspec": {
   "display_name": "Python 3",
   "language": "python",
   "name": "python3"
  },
  "language_info": {
   "codemirror_mode": {
    "name": "ipython",
    "version": 3
   },
   "file_extension": ".py",
   "mimetype": "text/x-python",
   "name": "python",
   "nbconvert_exporter": "python",
   "pygments_lexer": "ipython3",
   "version": "3.7.3"
  },
  "widgets": {
   "state": {},
   "version": "1.1.2"
  }
 },
 "nbformat": 4,
 "nbformat_minor": 2
}
