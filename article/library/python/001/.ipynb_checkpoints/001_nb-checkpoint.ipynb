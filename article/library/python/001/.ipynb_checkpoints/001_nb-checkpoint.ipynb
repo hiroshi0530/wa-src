{
 "cells": [
  {
   "cell_type": "markdown",
   "metadata": {},
   "source": [
    "## Python Tips\n",
    "\n",
    "pythonを利用する上で、便利な表記などの個人的なメモです。基本的な部分は触れていません。対象も自分が便利だなと思ったものに限定されます。\n",
    "\n",
    "### github\n",
    "- githubのjupyter notebook形式のファイルは[こちら](https://github.com/hiroshi0530/wa-src/blob/master/article/library/python/001/001_nb.ipynb)\n",
    "\n",
    "### google colaboratory\n",
    "- google colaboratory で実行する場合は[こちら](https://colab.research.google.com/github/hiroshi0530/wa-src/blob/master/article/library/python/001/001_nb.ipynb)\n",
    "\n",
    "\n",
    "### 筆者の環境"
   ]
  },
  {
   "cell_type": "code",
   "execution_count": 1,
   "metadata": {},
   "outputs": [
    {
     "name": "stdout",
     "output_type": "stream",
     "text": [
      "ProductName:\tMac OS X\r\n",
      "ProductVersion:\t10.14.6\r\n",
      "BuildVersion:\t18G95\r\n"
     ]
    }
   ],
   "source": [
    "!sw_vers"
   ]
  },
  {
   "cell_type": "code",
   "execution_count": 2,
   "metadata": {},
   "outputs": [
    {
     "name": "stdout",
     "output_type": "stream",
     "text": [
      "Python 3.5.5 :: Anaconda, Inc.\r\n"
     ]
    }
   ],
   "source": [
    "!python -V"
   ]
  },
  {
   "cell_type": "markdown",
   "metadata": {},
   "source": [
    "## timeit\n",
    "関数の実行時間を計測するためのモジュールです。\n",
    "\n",
    "[https://docs.python.org/2/library/timeit.html](https://docs.python.org/2/library/timeit.html)"
   ]
  },
  {
   "cell_type": "code",
   "execution_count": 3,
   "metadata": {},
   "outputs": [
    {
     "data": {
      "text/plain": [
       "1.7865126989781857"
      ]
     },
     "execution_count": 3,
     "metadata": {},
     "output_type": "execute_result"
    }
   ],
   "source": [
    "import timeit\n",
    "\n",
    "timeit.timeit('[ i for i in range(10)]')"
   ]
  },
  {
   "cell_type": "markdown",
   "metadata": {},
   "source": [
    "平均を取るための繰り返し回数`number`を指定することが出来ます。デフォルトは1000000(100万回)です。"
   ]
  },
  {
   "cell_type": "code",
   "execution_count": 4,
   "metadata": {},
   "outputs": [
    {
     "data": {
      "text/plain": [
       "1.9443903490027878"
      ]
     },
     "execution_count": 4,
     "metadata": {},
     "output_type": "execute_result"
    }
   ],
   "source": [
    "number = 1000000\n",
    "timeit.timeit('[ i for i in range(10)]', number=number)"
   ]
  },
  {
   "cell_type": "markdown",
   "metadata": {},
   "source": [
    "timeit.repeat()関数を用いて、repeatオプションを用いることにより、timeitiを多数回繰り返すことが出来ます。"
   ]
  },
  {
   "cell_type": "code",
   "execution_count": 5,
   "metadata": {},
   "outputs": [
    {
     "data": {
      "text/plain": [
       "[1.810243125015404,\n",
       " 1.9543377529771533,\n",
       " 1.7649507180030923,\n",
       " 1.962000719999196,\n",
       " 1.8034991680178791]"
      ]
     },
     "execution_count": 5,
     "metadata": {},
     "output_type": "execute_result"
    }
   ],
   "source": [
    "repeat = 5\n",
    "number = 1000000\n",
    "timeit.repeat('[ i for i in range(10)]', number=number,repeat=repeat)"
   ]
  },
  {
   "cell_type": "markdown",
   "metadata": {},
   "source": [
    "## %timeit, %%timeit\n",
    "jupyter notebook形式で処理の時間を計るためのマジックコマンドです。%timeitは引数となるコマンドが対象、%%timeitはセル全体が対応します。\n",
    "また、`-r`と`-n`オプションによりtimeitのrepeatとnumberに対応させることが出来ます。"
   ]
  },
  {
   "cell_type": "code",
   "execution_count": 6,
   "metadata": {},
   "outputs": [
    {
     "name": "stdout",
     "output_type": "stream",
     "text": [
      "3.56 ms ± 183 µs per loop (mean ± std. dev. of 7 runs, 100 loops each)\n"
     ]
    }
   ],
   "source": [
    "%timeit [i ** 2 for i in range(10000)]"
   ]
  },
  {
   "cell_type": "code",
   "execution_count": 7,
   "metadata": {},
   "outputs": [
    {
     "name": "stdout",
     "output_type": "stream",
     "text": [
      "3.51 ms ± 41 µs per loop (mean ± std. dev. of 5 runs, 1000 loops each)\n"
     ]
    }
   ],
   "source": [
    "%timeit -r 5 -n 1000 [i ** 2 for i in range(10000)]"
   ]
  },
  {
   "cell_type": "code",
   "execution_count": 8,
   "metadata": {},
   "outputs": [
    {
     "name": "stdout",
     "output_type": "stream",
     "text": [
      "4.42 ms ± 260 µs per loop (mean ± std. dev. of 7 runs, 100 loops each)\n"
     ]
    }
   ],
   "source": [
    "%%timeit\n",
    "a = [i for i in range(10000)]\n",
    "b = list(map(lambda x: x **2, a))"
   ]
  },
  {
   "cell_type": "markdown",
   "metadata": {},
   "source": [
    "## 内包表記\n",
    "forなどを利用せずに、リストを作成します。リストを作成するアルゴリズムは高速化されており、推奨されているようです。\n",
    "\n",
    "### リスト型"
   ]
  },
  {
   "cell_type": "code",
   "execution_count": 9,
   "metadata": {},
   "outputs": [
    {
     "data": {
      "text/plain": [
       "[0, 1, 2, 3, 4]"
      ]
     },
     "execution_count": 9,
     "metadata": {},
     "output_type": "execute_result"
    }
   ],
   "source": [
    "[i for i in range(5)]"
   ]
  },
  {
   "cell_type": "code",
   "execution_count": 10,
   "metadata": {},
   "outputs": [
    {
     "data": {
      "text/plain": [
       "[0, 2, 4, 6, 8, 10, 12, 14, 16, 18]"
      ]
     },
     "execution_count": 10,
     "metadata": {},
     "output_type": "execute_result"
    }
   ],
   "source": [
    "[i * 2 for i in range(10)]"
   ]
  },
  {
   "cell_type": "markdown",
   "metadata": {},
   "source": [
    "### ifがある場合"
   ]
  },
  {
   "cell_type": "code",
   "execution_count": 11,
   "metadata": {},
   "outputs": [
    {
     "data": {
      "text/plain": [
       "[0, 4, 8, 12, 16]"
      ]
     },
     "execution_count": 11,
     "metadata": {},
     "output_type": "execute_result"
    }
   ],
   "source": [
    "[i * 2 for i in range(10) if i % 2 == 0]"
   ]
  },
  {
   "cell_type": "code",
   "execution_count": 12,
   "metadata": {},
   "outputs": [
    {
     "data": {
      "text/plain": [
       "[0, 1, 4, 1, 8, 1, 12, 1, 16, 1]"
      ]
     },
     "execution_count": 12,
     "metadata": {},
     "output_type": "execute_result"
    }
   ],
   "source": [
    "[i * 2 if i % 2 == 0 else 1 for i in range(10)]"
   ]
  },
  {
   "cell_type": "markdown",
   "metadata": {},
   "source": [
    "### 文字列もOK"
   ]
  },
  {
   "cell_type": "code",
   "execution_count": 13,
   "metadata": {},
   "outputs": [
    {
     "data": {
      "text/plain": [
       "[84, 101, 110, 115, 111, 114, 70, 108, 111, 119]"
      ]
     },
     "execution_count": 13,
     "metadata": {},
     "output_type": "execute_result"
    }
   ],
   "source": [
    "[ord(i) for i in \"TensorFlow\"]"
   ]
  },
  {
   "cell_type": "markdown",
   "metadata": {},
   "source": [
    "### 2次配列もOK"
   ]
  },
  {
   "cell_type": "code",
   "execution_count": 14,
   "metadata": {},
   "outputs": [
    {
     "data": {
      "text/plain": [
       "[[0, 1, 2, 3, 4, 5, 6, 7, 8, 9],\n",
       " [0, 1, 2, 3, 4, 5, 6, 7, 8, 9],\n",
       " [0, 1, 2, 3, 4, 5, 6, 7, 8, 9],\n",
       " [0, 1, 2, 3, 4, 5, 6, 7, 8, 9],\n",
       " [0, 1, 2, 3, 4, 5, 6, 7, 8, 9],\n",
       " [0, 1, 2, 3, 4, 5, 6, 7, 8, 9],\n",
       " [0, 1, 2, 3, 4, 5, 6, 7, 8, 9],\n",
       " [0, 1, 2, 3, 4, 5, 6, 7, 8, 9],\n",
       " [0, 1, 2, 3, 4, 5, 6, 7, 8, 9],\n",
       " [0, 1, 2, 3, 4, 5, 6, 7, 8, 9]]"
      ]
     },
     "execution_count": 14,
     "metadata": {},
     "output_type": "execute_result"
    }
   ],
   "source": [
    "[[i for i in range(10)] for j in range(10)]"
   ]
  },
  {
   "cell_type": "code",
   "execution_count": 15,
   "metadata": {},
   "outputs": [
    {
     "data": {
      "text/plain": [
       "[[0, 0, 0, 0, 0, 0, 0, 0, 0, 0],\n",
       " [1, 1, 1, 1, 1, 1, 1, 1, 1, 1],\n",
       " [2, 2, 2, 2, 2, 2, 2, 2, 2, 2],\n",
       " [3, 3, 3, 3, 3, 3, 3, 3, 3, 3],\n",
       " [4, 4, 4, 4, 4, 4, 4, 4, 4, 4],\n",
       " [5, 5, 5, 5, 5, 5, 5, 5, 5, 5],\n",
       " [6, 6, 6, 6, 6, 6, 6, 6, 6, 6],\n",
       " [7, 7, 7, 7, 7, 7, 7, 7, 7, 7],\n",
       " [8, 8, 8, 8, 8, 8, 8, 8, 8, 8],\n",
       " [9, 9, 9, 9, 9, 9, 9, 9, 9, 9]]"
      ]
     },
     "execution_count": 15,
     "metadata": {},
     "output_type": "execute_result"
    }
   ],
   "source": [
    "[[j for i in range(10)] for j in range(10)]"
   ]
  },
  {
   "cell_type": "markdown",
   "metadata": {},
   "source": [
    "### 時間測定\n",
    "\n",
    "内包表記と通常のやや冗長なfor文を用いたリスト作成方法の比較を行ってみます。"
   ]
  },
  {
   "cell_type": "code",
   "execution_count": 16,
   "metadata": {},
   "outputs": [
    {
     "name": "stdout",
     "output_type": "stream",
     "text": [
      "133 ms ± 5.16 ms per loop (mean ± std. dev. of 7 runs, 10 loops each)\n"
     ]
    }
   ],
   "source": [
    "%timeit [i for i in range(1000000)]"
   ]
  },
  {
   "cell_type": "code",
   "execution_count": 17,
   "metadata": {},
   "outputs": [
    {
     "name": "stdout",
     "output_type": "stream",
     "text": [
      "202 ms ± 22 ms per loop (mean ± std. dev. of 7 runs, 10 loops each)\n"
     ]
    }
   ],
   "source": [
    "%%timeit\n",
    "a = []\n",
    "for i in range(1000000):\n",
    "  a.append(i)"
   ]
  },
  {
   "cell_type": "markdown",
   "metadata": {},
   "source": [
    "内包表記を利用すると、6割程度短縮できます。リスト型はすべて内包表記で作成した方が良さそうです。"
   ]
  },
  {
   "cell_type": "markdown",
   "metadata": {},
   "source": [
    "### 辞書型\n",
    "\n",
    "辞書型にも内包表記は使えます。とても便利です。"
   ]
  },
  {
   "cell_type": "code",
   "execution_count": 18,
   "metadata": {},
   "outputs": [
    {
     "name": "stdout",
     "output_type": "stream",
     "text": [
      "a         :  {'c': 3, 'b': 2, 'a': 1}\n",
      "reverse a :  {1: 'a', 2: 'b', 3: 'c'}\n"
     ]
    }
   ],
   "source": [
    "a = {'a':1, 'b':2, 'c':3}\n",
    "\n",
    "print('a         : ',a)\n",
    "print('reverse a : ',{j:i for i,j in a.items()})"
   ]
  },
  {
   "cell_type": "markdown",
   "metadata": {},
   "source": [
    "## lambda\n",
    "\n",
    "### 基本\n",
    "無名関数といわれるものです。わざわざ関数に名前を与えるまでもない関数に対して利用されます。単独で用いられることは少なく、次に説明するmapやfilterなどの高階関数、sortなどと共に利用する場合が多いです。"
   ]
  },
  {
   "cell_type": "code",
   "execution_count": 19,
   "metadata": {},
   "outputs": [
    {
     "name": "stdout",
     "output_type": "stream",
     "text": [
      "100\n",
      "100\n"
     ]
    }
   ],
   "source": [
    "# defという関数定義を利用していない\n",
    "a = lambda x: x ** 2\n",
    "\n",
    "print(a(10))\n",
    "print((lambda x: x ** 2)(10))"
   ]
  },
  {
   "cell_type": "markdown",
   "metadata": {},
   "source": [
    "### 引数を二つ持つ場合"
   ]
  },
  {
   "cell_type": "code",
   "execution_count": 20,
   "metadata": {},
   "outputs": [
    {
     "data": {
      "text/plain": [
       "3"
      ]
     },
     "execution_count": 20,
     "metadata": {},
     "output_type": "execute_result"
    }
   ],
   "source": [
    "# スカラーの足し算\n",
    "(lambda a,b: a + b)(1,2)"
   ]
  },
  {
   "cell_type": "code",
   "execution_count": 21,
   "metadata": {},
   "outputs": [
    {
     "data": {
      "text/plain": [
       "[1, 2, 3, 4, 5, 6]"
      ]
     },
     "execution_count": 21,
     "metadata": {},
     "output_type": "execute_result"
    }
   ],
   "source": [
    "# listの足し算\n",
    "(lambda a,b: a + b)([1,2,3],[4,5,6])"
   ]
  },
  {
   "cell_type": "markdown",
   "metadata": {},
   "source": [
    "### if ~ else ~\n",
    "lambdaの中でもif~else~が利用できます。"
   ]
  },
  {
   "cell_type": "code",
   "execution_count": 22,
   "metadata": {},
   "outputs": [
    {
     "name": "stdout",
     "output_type": "stream",
     "text": [
      "-100\n",
      "0\n",
      "-100\n"
     ]
    }
   ],
   "source": [
    "print((lambda a: a if a == 0 else -100)(-1))\n",
    "print((lambda a: a if a == 0 else -100)(0))\n",
    "print((lambda a: a if a == 0 else -100)(1))"
   ]
  },
  {
   "cell_type": "markdown",
   "metadata": {},
   "source": [
    "## 高階関数\n",
    "関数自体を引数や返り値に含む関数の事です。引数にlambdaを利用する場面が多いと思います。\n",
    "\n",
    "### map\n",
    "利用例は以下の通りです。リストのそれぞれの要素に対して、一律に引数である関数の処理を実行させます。"
   ]
  },
  {
   "cell_type": "code",
   "execution_count": 23,
   "metadata": {},
   "outputs": [
    {
     "name": "stdout",
     "output_type": "stream",
     "text": [
      "a   :  [0, 1, 2, 3, 4, 5, 6, 7, 8, 9]\n",
      "map :  [0, 1, 4, 9, 16, 25, 36, 49, 64, 81]\n"
     ]
    }
   ],
   "source": [
    "a = [i for i in range(10)]\n",
    "\n",
    "print('a   : ',a)\n",
    "print('map : ',list(map(lambda x: x ** 2, a)))"
   ]
  },
  {
   "cell_type": "raw",
   "metadata": {},
   "source": [
    "lambdaの中にif~else~を入れた例です。"
   ]
  },
  {
   "cell_type": "code",
   "execution_count": 24,
   "metadata": {},
   "outputs": [
    {
     "name": "stdout",
     "output_type": "stream",
     "text": [
      "a   :  [0, 1, 2, 3, 4, 5, 6, 7, 8, 9]\n",
      "map :  [0, 100, 100, 9, 100, 100, 36, 100, 100, 81]\n"
     ]
    }
   ],
   "source": [
    "a = [i for i in range(10)]\n",
    "\n",
    "print('a   : ',a)\n",
    "print('map : ',list(map(lambda x: x ** 2 if x % 3 == 0 else 100, a)))"
   ]
  },
  {
   "cell_type": "code",
   "execution_count": 25,
   "metadata": {},
   "outputs": [
    {
     "name": "stdout",
     "output_type": "stream",
     "text": [
      "a      :  [0, 1, 2, 3, 4, 5, 6, 7, 8, 9]\n",
      "b      :  [10, 9, 8, 7, 6, 5, 4, 3, 2, 1]\n",
      "lambda :  [10, 10, 10, 10, 10, 10, 10, 10, 10, 10]\n"
     ]
    }
   ],
   "source": [
    "a = [i for i in range(10)]\n",
    "b = [i for i in range(10,0,-1)]\n",
    "\n",
    "print('a      : ',a)\n",
    "print('b      : ',b)\n",
    "print('lambda : ',list(map(lambda a,b: a + b, a,b)))"
   ]
  },
  {
   "cell_type": "markdown",
   "metadata": {},
   "source": [
    "###  filter\n",
    "利用例は以下の通りです。リストのそれぞれの要素に対して、一律に引数である関数の処理を実行させます。結果がfalseの要素は削除されます。"
   ]
  },
  {
   "cell_type": "code",
   "execution_count": 26,
   "metadata": {},
   "outputs": [
    {
     "name": "stdout",
     "output_type": "stream",
     "text": [
      "a       :  [0, 1, 2, 3, 4, 5, 6, 7, 8, 9]\n",
      "filter1 :  [6, 7, 8, 9]\n",
      "filter2 :  [0, 2, 4, 6, 8]\n"
     ]
    }
   ],
   "source": [
    "a = [i for i in range(10)]\n",
    "\n",
    "print('a       : ',a)\n",
    "print('filter1 : ',list(filter(lambda x: x > 5,a)))\n",
    "print('filter2 : ',list(filter(lambda x: x % 2 == 0,a)))"
   ]
  },
  {
   "cell_type": "markdown",
   "metadata": {},
   "source": [
    "###  reduce\n",
    "\n",
    "`resuce(f,x,[op])`で第一引数に引数を二つ持つ関数、第二引数に配列を取るように定義されています。配列の要素それぞれが逐次的に第一引数の関数の対象となります。"
   ]
  },
  {
   "cell_type": "code",
   "execution_count": 27,
   "metadata": {},
   "outputs": [
    {
     "name": "stdout",
     "output_type": "stream",
     "text": [
      "x      :  [0, 1, 2, 3, 4]\n",
      "reduce :  10\n"
     ]
    }
   ],
   "source": [
    "import functools\n",
    "x = [i for i in range(5)]\n",
    "\n",
    "print('x      : ',x)\n",
    "print('reduce : ',functools.reduce(lambda a,b:a+b, x))"
   ]
  },
  {
   "cell_type": "markdown",
   "metadata": {},
   "source": [
    "計算の順序として以下の様なイメージです。\n",
    "\n",
    "1. `[0,1,2,3,4]` => `[0 + 1,2,3,4]` = `[1,2,3,4]`\n",
    "2. `[1,2,3,4]` => `[1 + 2,3,4]` = `[3,3,4]`\n",
    "3. `[3,3,4]` => `[3 + 3,4]` = `[6,4]`\n",
    "4. `[6,4]` => `[6 + 4]` = `[10]`\n",
    "\n",
    "最終的に10が得られます。"
   ]
  },
  {
   "cell_type": "markdown",
   "metadata": {},
   "source": [
    "## shutil\n",
    "\n",
    "使い方はたくさんあり、気まぐれで更新していきます。"
   ]
  },
  {
   "cell_type": "markdown",
   "metadata": {},
   "source": [
    "### ディレクトリ中のファイルをすべて削除する場合\n",
    "\n",
    "一度ディレクトリを削除し、もう一度からのディレクトリを作成するのが良さそうです。"
   ]
  },
  {
   "cell_type": "code",
   "execution_count": 28,
   "metadata": {},
   "outputs": [],
   "source": [
    "import os\n",
    "import shutil\n",
    "\n",
    "_dir = './test/'\n",
    "\n",
    "if os.path.exists(_dir):\n",
    "  shutil.rmtree('./test')\n",
    "  os.mkdir('./test')\n",
    "\n",
    "# shutil.rmtree('./test')"
   ]
  },
  {
   "cell_type": "markdown",
   "metadata": {},
   "source": [
    "## random\n",
    "乱数関係のモジュールです。\n",
    "### choice\n",
    "与えられたリストの中から一つの要素をランダムに抽出します。"
   ]
  },
  {
   "cell_type": "code",
   "execution_count": 29,
   "metadata": {},
   "outputs": [
    {
     "data": {
      "text/plain": [
       "6"
      ]
     },
     "execution_count": 29,
     "metadata": {},
     "output_type": "execute_result"
    }
   ],
   "source": [
    "import random \n",
    "random.choice(range(10))"
   ]
  },
  {
   "cell_type": "markdown",
   "metadata": {},
   "source": [
    "### shuffle\n",
    "リストをランダムにシャッフルします。破壊的なメソッドで、オブジェクトそのものを更新します。"
   ]
  },
  {
   "cell_type": "code",
   "execution_count": 30,
   "metadata": {},
   "outputs": [
    {
     "name": "stdout",
     "output_type": "stream",
     "text": [
      "a :  [0, 9, 3, 7, 4, 1, 5, 2, 8, 6]\n"
     ]
    }
   ],
   "source": [
    "import random\n",
    "a = [i for i in range(10)]\n",
    "random.shuffle(a)\n",
    "print('a : ',a)"
   ]
  },
  {
   "cell_type": "markdown",
   "metadata": {},
   "source": [
    "### sample\n",
    "リストをランダムにシャッフルした配列を返します。非破壊的なメソッドで新たなオブジェクト作成します。"
   ]
  },
  {
   "cell_type": "code",
   "execution_count": 31,
   "metadata": {},
   "outputs": [
    {
     "name": "stdout",
     "output_type": "stream",
     "text": [
      "a :  [0, 1, 2, 3, 4, 5, 6, 7, 8, 9]\n",
      "b :  [8, 9, 4, 1, 3, 7, 2, 0, 5, 6]\n"
     ]
    }
   ],
   "source": [
    "import random\n",
    "a = [i for i in range(10)]\n",
    "b = random.sample(a, len(a))\n",
    "print('a : ',a)\n",
    "print('b : ',b)"
   ]
  },
  {
   "cell_type": "markdown",
   "metadata": {},
   "source": [
    "## sort\n",
    "### sortメソッド\n",
    "破壊的なメソッドです。元のオブジェクトを更新します。"
   ]
  },
  {
   "cell_type": "code",
   "execution_count": 47,
   "metadata": {},
   "outputs": [
    {
     "name": "stdout",
     "output_type": "stream",
     "text": [
      "before a :  [7, 1, 0, 5, 8, 3, 3, 2, 7, 3]\n",
      "sorted a :  [0, 1, 2, 3, 3, 3, 5, 7, 7, 8]\n"
     ]
    }
   ],
   "source": [
    "import numpy as np \n",
    "a = list(np.random.randint(10, size=10))\n",
    "print('before a : ',a)\n",
    "a.sort()\n",
    "print('sorted a : ',a)"
   ]
  },
  {
   "cell_type": "markdown",
   "metadata": {},
   "source": [
    "### sorted関数\n",
    "非破壊的なメソッドです。ソート済みのオブジェクトを返します。"
   ]
  },
  {
   "cell_type": "code",
   "execution_count": 48,
   "metadata": {},
   "outputs": [
    {
     "name": "stdout",
     "output_type": "stream",
     "text": [
      "before a :  [1, 8, 4, 6, 3, 5, 6, 4, 7, 2]\n",
      "sorted a :  [1, 2, 3, 4, 4, 5, 6, 6, 7, 8]\n"
     ]
    }
   ],
   "source": [
    "import numpy as np \n",
    "a = list(np.random.randint(10, size=10))\n",
    "print('before a : ',a)\n",
    "b = sorted(a)\n",
    "print('sorted a : ',b)"
   ]
  },
  {
   "cell_type": "markdown",
   "metadata": {},
   "source": [
    "### リストやオブジェクトのソート\n",
    "keyオプションを利用して、ソートする要素を指定します。"
   ]
  },
  {
   "cell_type": "code",
   "execution_count": 54,
   "metadata": {},
   "outputs": [
    {
     "name": "stdout",
     "output_type": "stream",
     "text": [
      "original                 :  [['a', 1], ['b', 6], ['c', 3], ['d', 2]]\n",
      "sort by ascending order  :  [['a', 1], ['d', 2], ['c', 3], ['b', 6]]\n",
      "sort by descending order :  [['b', 6], ['c', 3], ['d', 2], ['a', 1]]\n"
     ]
    }
   ],
   "source": [
    "a = [\n",
    "  ['a',1],\n",
    "  ['b',6],\n",
    "  ['c',3],\n",
    "  ['d',2],\n",
    "]\n",
    "\n",
    "print('original                 : ',a)\n",
    "b = sorted(a,key=lambda x:x[1])\n",
    "print('sort by ascending order  : ', b)\n",
    "c = sorted(a,key=lambda x:x[1], reverse=True)\n",
    "print('sort by descending order : ', c)"
   ]
  },
  {
   "cell_type": "code",
   "execution_count": 59,
   "metadata": {},
   "outputs": [
    {
     "name": "stdout",
     "output_type": "stream",
     "text": [
      "original                 :  [{'a': 1}, {'a': 6}, {'a': 3}, {'a': 2}]\n",
      "sort by ascending order  :  [{'a': 1}, {'a': 2}, {'a': 3}, {'a': 6}]\n",
      "sort by descending order :  [{'a': 6}, {'a': 3}, {'a': 2}, {'a': 1}]\n"
     ]
    }
   ],
   "source": [
    "a = [\n",
    "  {'a':1},\n",
    "  {'a':6},\n",
    "  {'a':3},\n",
    "  {'a':2},\n",
    "]\n",
    "\n",
    "print('original                 : ',a)\n",
    "b = sorted(a,key=lambda x:x['a'])\n",
    "print('sort by ascending order  : ', b)\n",
    "c = sorted(a,key=lambda x:x['a'], reverse=True)\n",
    "print('sort by descending order : ', c)"
   ]
  },
  {
   "cell_type": "markdown",
   "metadata": {},
   "source": [
    "辞書型の要素もソートして取得することが出来ます。"
   ]
  },
  {
   "cell_type": "code",
   "execution_count": 68,
   "metadata": {},
   "outputs": [
    {
     "name": "stdout",
     "output_type": "stream",
     "text": [
      "keyでソート\n",
      "orig :  {'b': 2, 'c': 3, 'd': 6, 'a': 1}\n",
      "asc  :  [('a', 1), ('b', 2), ('c', 3), ('d', 6)]\n",
      "des  :  [('d', 6), ('c', 3), ('b', 2), ('a', 1)]\n",
      "\n",
      "valueでソート\n",
      "orig :  {'b': 2, 'c': 3, 'd': 6, 'a': 1}\n",
      "asc  :  [('a', 1), ('b', 2), ('c', 3), ('d', 6)]\n",
      "des  :  [('d', 6), ('c', 3), ('b', 2), ('a', 1)]\n"
     ]
    }
   ],
   "source": [
    "a = {\n",
    "  'a':1,\n",
    "  'd':6,\n",
    "  'c':3,\n",
    "  'b':2,\n",
    "}\n",
    "\n",
    "print('keyでソート')\n",
    "b = sorted(a.items(), key=lambda x:x[0])\n",
    "c = sorted(a.items(), key=lambda x:x[0], reverse=True)\n",
    "print('orig : ',a)\n",
    "print('asc  : ',b)\n",
    "print('des  : ',c)\n",
    "print()\n",
    "\n",
    "print('valueでソート')\n",
    "b = sorted(a.items(), key=lambda x:x[1])\n",
    "c = sorted(a.items(), key=lambda x:x[1], reverse=True)\n",
    "print('orig : ',a)\n",
    "print('asc  : ',b)\n",
    "print('des  : ',c)"
   ]
  },
  {
   "cell_type": "markdown",
   "metadata": {},
   "source": [
    "## その他\n",
    "\n",
    "#### set型リストをdict型へキャスト\n",
    "何かと便利なのでメモメモ。"
   ]
  },
  {
   "cell_type": "code",
   "execution_count": 32,
   "metadata": {},
   "outputs": [
    {
     "data": {
      "text/plain": [
       "{'a': 1, 'b': 2, 'c': 3, 'd': 4}"
      ]
     },
     "execution_count": 32,
     "metadata": {},
     "output_type": "execute_result"
    }
   ],
   "source": [
    "a = [\n",
    "  (\"a\", 1),\n",
    "  (\"b\", 2),\n",
    "  (\"c\", 3),\n",
    "  (\"d\", 4),\n",
    "]\n",
    "\n",
    "dict(a)"
   ]
  }
 ],
 "metadata": {
  "kernelspec": {
   "display_name": "Python 3",
   "language": "python",
   "name": "python3"
  },
  "language_info": {
   "codemirror_mode": {
    "name": "ipython",
    "version": 3
   },
   "file_extension": ".py",
   "mimetype": "text/x-python",
   "name": "python",
   "nbconvert_exporter": "python",
   "pygments_lexer": "ipython3",
   "version": "3.7.3"
  },
  "widgets": {
   "state": {},
   "version": "1.1.2"
  }
 },
 "nbformat": 4,
 "nbformat_minor": 2
}
