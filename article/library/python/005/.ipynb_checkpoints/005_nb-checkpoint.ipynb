{
 "cells": [
  {
   "cell_type": "markdown",
   "metadata": {},
   "source": [
    "## Python Tips\n",
    "\n",
    "pythonを利用する上で、便利な表記などの個人的なメモです。基本的な部分は触れていません。対象も自分が便利だなと思ったものに限定されます。\n",
    "\n",
    "自動botなどを作って、自動的にツイートする場合に利用します。\n",
    "\n",
    "### github\n",
    "- githubのjupyter notebook形式のファイルは[こちら](https://github.com/hiroshi0530/wa-src/blob/master/article/library/python/005/005_nb.ipynb)\n",
    "\n",
    "### google colaboratory\n",
    "- google colaboratory で実行する場合は[こちら](https://colab.research.google.com/github/hiroshi0530/wa-src/blob/master/article/library/python/005/005_nb.ipynb)\n",
    "\n",
    "### 筆者の環境"
   ]
  },
  {
   "cell_type": "code",
   "execution_count": 1,
   "metadata": {},
   "outputs": [
    {
     "name": "stdout",
     "output_type": "stream",
     "text": [
      "ProductName:\tMac OS X\r\n",
      "ProductVersion:\t10.14.6\r\n",
      "BuildVersion:\t18G95\r\n"
     ]
    }
   ],
   "source": [
    "!sw_vers"
   ]
  },
  {
   "cell_type": "code",
   "execution_count": 2,
   "metadata": {},
   "outputs": [
    {
     "name": "stdout",
     "output_type": "stream",
     "text": [
      "Python 3.5.5 :: Anaconda, Inc.\r\n"
     ]
    }
   ],
   "source": [
    "!python -V"
   ]
  },
  {
   "cell_type": "markdown",
   "metadata": {},
   "source": [
    "## tweepyのインストール\n",
    "\n",
    "TwitterのAPIを利用するには、tweepyというモジュールをインストールする必要があります。"
   ]
  },
  {
   "cell_type": "code",
   "execution_count": null,
   "metadata": {},
   "outputs": [],
   "source": [
    "!pip install tweepy"
   ]
  },
  {
   "cell_type": "markdown",
   "metadata": {},
   "source": [
    "## コード例\n",
    "\n",
    "以下のコードはあるプロジェクトで実際にあるトリガーが引かれたときに実行される自動ツイート用のコードです。\n",
    "configファイルとして`./config/login_info.json`が必要です。これらの情報はTwitterの開発者アカウントを作り、取得する必要があります。\n"
   ]
  },
  {
   "cell_type": "code",
   "execution_count": null,
   "metadata": {},
   "outputs": [],
   "source": [
    "import datetime\n",
    "import sys\n",
    "\n",
    "import tweepy\n",
    "import json\n",
    "\n",
    "import os\n",
    "import time\n",
    "\n",
    "import json\n",
    "import shutil\n",
    "\n",
    "def tweet(text, image_file_path):\n",
    "\n",
    "  json_file = \"./conf/login_info.json\"\n",
    "  with open(json_file) as file:\n",
    "    payload = json.loads(file.read())\n",
    "\n",
    "  consumer_key  = payload[\"Consumer_key\"]\n",
    "  consumer_secret = payload[\"Consumer_secret\"]\n",
    "  access_token  = payload[\"Access_token\"]\n",
    "  access_secret   = payload[\"Access_secret\"]\n",
    "\n",
    "  auth = tweepy.OAuthHandler(consumer_key, consumer_secret)\n",
    "  auth.set_access_token(access_token, access_secret)\n",
    "\n",
    "  api = tweepy.API(auth, wait_on_rate_limit = True)\n",
    "\n",
    "  #画像付きツイート\n",
    "  # api.update_with_media(status = text, filename = image_file_path)\n",
    "    \n",
    "  # 通常のテキストツイート\n",
    "  api.update_status(text)\n",
    "\n",
    "\n",
    "if __name__ == '__main__':\n",
    "\n",
    "  args = sys.argv\n",
    "  \n",
    "  today = datetime.date.today()\n",
    "  yyyy = today.strftime('%Y')\n",
    "  mm = today.strftime('%m')\n",
    "  dd = today.strftime('%d')\n",
    "  yyyymmdd = today.strftime('%Y%m%d')\n",
    "  \n",
    "  text = \"\"\"\n",
    "【{0}年 {1}月{2}日】\n",
    "\n",
    "XXXXXXXXXXXXXX\n",
    "\n",
    "\"\"\".format(yyyy, mm, dd)\n",
    "\n",
    "  tweet(text=text, image_file_path=\"\")\n"
   ]
  },
  {
   "cell_type": "markdown",
   "metadata": {},
   "source": [
    "### configファイル\n",
    "\n",
    "configファイルは以下の様に作っています。"
   ]
  },
  {
   "cell_type": "code",
   "execution_count": null,
   "metadata": {},
   "outputs": [],
   "source": [
    "{\n",
    "    \"COMMENT\": \"login_info.json\",\n",
    "    \"Consumer_key\": \"\",\n",
    "    \"Consumer_secret\": \"\",\n",
    "    \"Access_token\": \"\",\n",
    "    \"Access_secret\": \"\"\n",
    "}\n"
   ]
  },
  {
   "cell_type": "markdown",
   "metadata": {},
   "source": [
    "これらのファイルを作ることで、あるイベントトリガーで自動的にツイートする事が可能です。\n",
    "私は、これで大体一日に10個程度自動ツイートしています。"
   ]
  }
 ],
 "metadata": {
  "kernelspec": {
   "display_name": "Python 3",
   "language": "python",
   "name": "python3"
  },
  "language_info": {
   "codemirror_mode": {
    "name": "ipython",
    "version": 3
   },
   "file_extension": ".py",
   "mimetype": "text/x-python",
   "name": "python",
   "nbconvert_exporter": "python",
   "pygments_lexer": "ipython3",
   "version": "3.5.5"
  },
  "widgets": {
   "state": {},
   "version": "1.1.2"
  }
 },
 "nbformat": 4,
 "nbformat_minor": 2
}
