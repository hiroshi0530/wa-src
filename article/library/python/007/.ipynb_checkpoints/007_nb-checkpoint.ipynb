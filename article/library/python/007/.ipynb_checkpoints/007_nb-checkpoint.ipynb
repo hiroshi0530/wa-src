{
 "cells": [
  {
   "cell_type": "markdown",
   "metadata": {},
   "source": [
    "## pandasのSettingWithCopyWarningのワーニングについて\n",
    "\n",
    "Python Tips\n",
    "\n",
    "pythonを利用する上で、便利な表記などの個人的なメモです。基本的な部分は触れていません。対象も自分が便利だなと思ったものに限定されます。\n",
    "\n",
    "### github\n",
    "- githubのjupyter notebook形式のファイルは[こちら](https://github.com/hiroshi0530/wa-src/blob/master/article/library/python/07/07_nb.ipynb)\n",
    "\n",
    "### google colaboratory\n",
    "- google colaboratory で実行する場合は[こちら](https://colab.research.google.com/github/hiroshi0530/wa-src/blob/master/article/library/python/07/07_nb.ipynb)\n",
    "\n",
    "### 筆者の環境"
   ]
  },
  {
   "cell_type": "code",
   "execution_count": 1,
   "metadata": {},
   "outputs": [
    {
     "name": "stdout",
     "output_type": "stream",
     "text": [
      "ProductName:\tMac OS X\r\n",
      "ProductVersion:\t10.14.6\r\n",
      "BuildVersion:\t18G95\r\n"
     ]
    }
   ],
   "source": [
    "!sw_vers"
   ]
  },
  {
   "cell_type": "code",
   "execution_count": 2,
   "metadata": {},
   "outputs": [
    {
     "name": "stdout",
     "output_type": "stream",
     "text": [
      "Python 3.5.5 :: Anaconda, Inc.\r\n"
     ]
    }
   ],
   "source": [
    "!python -V"
   ]
  },
  {
   "cell_type": "code",
   "execution_count": null,
   "metadata": {},
   "outputs": [],
   "source": [
    "SettingWithCopyWarning\n",
    "\n",
    "columnsのget_locを利用してアクセすると良い\n",
    "\n",
    "col_id_exit_date = exit_customer.columns.get_loc('exit_date')\n",
    "col_id_end_date = exit_customer.columns.get_loc('end_date')\n"
   ]
  },
  {
   "cell_type": "markdown",
   "metadata": {},
   "source": [
    "SettingWithCopyWarningが出てしまう\n",
    "SettingWithCopyWarningが出てしまう\n",
    "\n",
    "#### エラーが出ない\n",
    "ilocからのアクセスの方法で依存性がある\n",
    "\n",
    "```python\n",
    "print(type(exit_customer))\n",
    "exit_customer.iloc[i, col_id_exit_date] = exit_customer.iloc[i, col_id_end_date] - relativedelta(months=1)\n",
    "```"
   ]
  },
  {
   "cell_type": "code",
   "execution_count": null,
   "metadata": {},
   "outputs": [],
   "source": []
  },
  {
   "cell_type": "markdown",
   "metadata": {},
   "source": [
    "#### エラーが出る\n",
    "\n",
    "```python\n",
    "print(type(exit_customer['exit_date']))\n",
    "exit_customer['exit_date'].iloc[0] = exit_customer['end_date'].iloc[0] - relativedelta(months=1)\n",
    "```"
   ]
  },
  {
   "cell_type": "code",
   "execution_count": null,
   "metadata": {},
   "outputs": [],
   "source": []
  },
  {
   "cell_type": "code",
   "execution_count": null,
   "metadata": {},
   "outputs": [],
   "source": [
    "from dateutil.relativedelta import relativedelta\n",
    "\n",
    "exit_customer = customer.loc[customer['is_deleted'] == 1].copy()\n",
    "\n",
    "exit_customer['exit_date'] = None\n",
    "exit_customer['end_date'] = pd.to_datetime(exit_customer['end_date'].copy())\n",
    "\n",
    "for i in range(len(exit_customer)):\n",
    "  col_id_exit_date = exit_customer.columns.get_loc('exit_date')\n",
    "  col_id_end_date = exit_customer.columns.get_loc('end_date')\n",
    "  # print(col_idx)\n",
    "  # print(exit_customer.iloc[[i], [col_id_end_date]])\n",
    "  # print(type(exit_customer.iloc[[i], [col_id_end_date]]))\n",
    "  # print(exit_customer.iloc[i, col_id_end_date])\n",
    "  # exit_customer.iloc[[i], [col_id_exit_date]] = exit_customer.iloc[[i], [col_id_end_date]] - relativedelta(months=1)\n",
    "  exit_customer.iloc[i, col_id_exit_date] = exit_customer.iloc[i, col_id_end_date] - relativedelta(months=1)\n",
    "  # print(type(exit_customer.iloc[[i], [col_id_end_date]]))\n",
    "  # print(type(exit_customer.iloc[i, col_id_end_date]))\n",
    "  \n",
    "# for i in range(len(exit_customer)):\n",
    "# print(exit_customer['exit_date'])\n",
    "# print(relativedelta(months=1) + exit_customer['end_date'].iloc[0])\n",
    "# print(exit_customer['exit_date'])\n",
    "# print(type(exit_customer['exit_date']))\n",
    "# exit_customer['exit_date'].loc[0] = 2\n",
    "# # print(exit_customer['exit_date'].loc[0])\n",
    "# print(exit_customer['exit_date'].iloc[0])\n",
    "# print(exit_customer['end_date'].iloc[0])\n",
    "# # exit_customer['end_date'].iloc[0] = 100\n",
    "# print(exit_customer.columns)\n",
    "# print(type(exit_customer))\n",
    "# print()\n",
    "# print()\n",
    "# print()\n",
    "# # exit_customer.iloc[[1, 2], ['exit_date']] = 40\n",
    "# print(exit_customer.iloc[[1, 2], [0]])\n",
    "# \n",
    "# \n",
    "# col_idx = exit_customer.columns.get_loc('exit_date')\n",
    "# \n",
    "# print(col_idx)\n",
    "# print(col_idx)\n",
    "# print(col_idx)\n",
    "# \n",
    "# exit_customer.iloc[[1, 2], [col_idx]] = 100\n",
    "\n",
    "# exit_customer['exit_date'][0] = 1"
   ]
  },
  {
   "cell_type": "markdown",
   "metadata": {},
   "source": [
    "## 参考記事"
   ]
  },
  {
   "cell_type": "code",
   "execution_count": null,
   "metadata": {},
   "outputs": [],
   "source": []
  }
 ],
 "metadata": {
  "kernelspec": {
   "display_name": "Python 3",
   "language": "python",
   "name": "python3"
  },
  "language_info": {
   "codemirror_mode": {
    "name": "ipython",
    "version": 3
   },
   "file_extension": ".py",
   "mimetype": "text/x-python",
   "name": "python",
   "nbconvert_exporter": "python",
   "pygments_lexer": "ipython3",
   "version": "3.5.5"
  },
  "widgets": {
   "state": {},
   "version": "1.1.2"
  }
 },
 "nbformat": 4,
 "nbformat_minor": 2
}
