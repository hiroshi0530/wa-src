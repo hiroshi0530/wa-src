{
 "cells": [
  {
   "cell_type": "markdown",
   "metadata": {},
   "source": [
    "## id() メモリアドレスの取得\n",
    "\n",
    "普段あまり意識しないメモリアドレスですが、メモリの量が限られた環境の中ではどのオブジェクトがどれぐらいメモリを使用しているか知っているとハードウェアに優しいシステムを開発することが出来ます。\n",
    "\n",
    "### github\n",
    "- githubのjupyter notebook形式のファイルは[こちら](https://github.com/hiroshi0530/wa-src/blob/master/article/library/python/003/003_nb.ipynb)\n",
    "\n",
    "### google colaboratory\n",
    "- google colaboratory で実行する場合は[こちら](https://colab.research.google.com/github/hiroshi0530/wa-src/blob/master/article/library/python/003/003_nb.ipynb)\n",
    "\n",
    "### 筆者の環境"
   ]
  },
  {
   "cell_type": "code",
   "execution_count": 1,
   "metadata": {},
   "outputs": [
    {
     "name": "stdout",
     "output_type": "stream",
     "text": [
      "ProductName:\tMac OS X\r\n",
      "ProductVersion:\t10.14.6\r\n",
      "BuildVersion:\t18G2022\r\n"
     ]
    }
   ],
   "source": [
    "!sw_vers"
   ]
  },
  {
   "cell_type": "code",
   "execution_count": 2,
   "metadata": {},
   "outputs": [
    {
     "name": "stdout",
     "output_type": "stream",
     "text": [
      "Python 3.7.3\r\n"
     ]
    }
   ],
   "source": [
    "!python -V"
   ]
  },
  {
   "cell_type": "code",
   "execution_count": 3,
   "metadata": {},
   "outputs": [
    {
     "data": {
      "text/plain": [
       "4506754184"
      ]
     },
     "execution_count": 3,
     "metadata": {},
     "output_type": "execute_result"
    }
   ],
   "source": [
    "a = [i ** 2 for i in range(100)]\n",
    "\n",
    "id(a)"
   ]
  },
  {
   "cell_type": "markdown",
   "metadata": {},
   "source": [
    "オブジェクトが同一であるかどうかチェックする際に利用します。"
   ]
  },
  {
   "cell_type": "code",
   "execution_count": 4,
   "metadata": {},
   "outputs": [
    {
     "name": "stdout",
     "output_type": "stream",
     "text": [
      "a : 4506838024\n",
      "b : 4506838024\n"
     ]
    }
   ],
   "source": [
    "a = [1,2,3]\n",
    "b = a\n",
    "\n",
    "print('a :',id(a))\n",
    "print('b :',id(b))"
   ]
  },
  {
   "cell_type": "markdown",
   "metadata": {},
   "source": [
    "### 値が同じだと異なる変数の宣言も同じアドレスが割り当てられる"
   ]
  },
  {
   "cell_type": "code",
   "execution_count": 5,
   "metadata": {},
   "outputs": [
    {
     "name": "stdout",
     "output_type": "stream",
     "text": [
      "a = 1\n",
      "b = 1\n",
      "同じアドレス\n",
      "a : 4451820960\n",
      "b : 4451820960\n",
      "True\n",
      "\n",
      "a = 1\n",
      "b = 2\n",
      "異なるアドレス\n",
      "a : 4451820960\n",
      "b : 4451820992\n",
      "False\n"
     ]
    }
   ],
   "source": [
    "a = 1\n",
    "b = 1\n",
    "\n",
    "print('a =',a)\n",
    "print('b =',b)\n",
    "print('同じアドレス')\n",
    "print('a :',id(a))\n",
    "print('b :',id(b))\n",
    "print(id(a) == id(b))\n",
    "print()\n",
    "\n",
    "a = 1\n",
    "b = 2\n",
    "\n",
    "print('a =',a)\n",
    "print('b =',b)\n",
    "print('異なるアドレス')\n",
    "print('a :',id(a))\n",
    "print('b :',id(b))\n",
    "print(id(a) == id(b))"
   ]
  },
  {
   "cell_type": "markdown",
   "metadata": {},
   "source": [
    "### 代入すると新しいオブジェクトが出来る"
   ]
  },
  {
   "cell_type": "code",
   "execution_count": 6,
   "metadata": {},
   "outputs": [
    {
     "name": "stdout",
     "output_type": "stream",
     "text": [
      "a = 1\n",
      "a : 4451820960\n",
      "\n",
      "a = 2\n",
      "a : 4451820992\n"
     ]
    }
   ],
   "source": [
    "a = 1\n",
    "\n",
    "print('a =',a)\n",
    "print('a :',id(a))\n",
    "print()\n",
    "\n",
    "# aに異なる値を代入\n",
    "a = 2\n",
    "\n",
    "print('a =',a)\n",
    "print('a :',id(a))"
   ]
  },
  {
   "cell_type": "markdown",
   "metadata": {},
   "source": [
    "### 配列の場合は参照渡しで、参照元が変更されると参照先も変更される"
   ]
  },
  {
   "cell_type": "code",
   "execution_count": 7,
   "metadata": {},
   "outputs": [
    {
     "name": "stdout",
     "output_type": "stream",
     "text": [
      "a = [1, 2, 3]\n",
      "b = [1, 2, 3]\n",
      "a : 4506837320\n",
      "b : 4506837320\n",
      "True\n",
      "\n",
      "参照元も変更\n",
      "a = [5, 2, 3]\n",
      "b = [5, 2, 3]\n",
      "a : 4506837320\n",
      "b : 4506837320\n",
      "True\n"
     ]
    }
   ],
   "source": [
    "a = [1,2,3]\n",
    "b = a\n",
    "\n",
    "print('a =',a)\n",
    "print('b =',b)\n",
    "print('a :',id(a))\n",
    "print('b :',id(b))\n",
    "print(id(a) == id(b))\n",
    "print()\n",
    "\n",
    "a[0] = 5\n",
    "\n",
    "print('参照元も変更')\n",
    "print('a =',a)\n",
    "print('b =',b)\n",
    "print('a :',id(a))\n",
    "print('b :',id(b))\n",
    "print(id(a) == id(b))"
   ]
  },
  {
   "cell_type": "markdown",
   "metadata": {},
   "source": [
    "### copy()を利用し、明示的に別のオブジェクトを作成する"
   ]
  },
  {
   "cell_type": "code",
   "execution_count": 8,
   "metadata": {},
   "outputs": [
    {
     "name": "stdout",
     "output_type": "stream",
     "text": [
      "a = [1, 2, 3]\n",
      "b = [1, 2, 3]\n",
      "a : 4505419144\n",
      "b : 4505419400\n",
      "False\n",
      "\n",
      "a = [5, 2, 3]\n",
      "b = [1, 2, 3]\n",
      "a : 4505419144\n",
      "b : 4505419400\n",
      "False\n"
     ]
    }
   ],
   "source": [
    "from copy import copy\n",
    "a = [1,2,3]\n",
    "b = copy(a)\n",
    "\n",
    "print('a =',a)\n",
    "print('b =',b)\n",
    "print('a :',id(a))\n",
    "print('b :',id(b))\n",
    "print(id(a) == id(b))\n",
    "print()\n",
    "\n",
    "a[0] = 5\n",
    "\n",
    "print('a =',a)\n",
    "print('b =',b)\n",
    "print('a :',id(a))\n",
    "print('b :',id(b))\n",
    "print(id(a) == id(b))"
   ]
  }
 ],
 "metadata": {
  "kernelspec": {
   "display_name": "Python 3",
   "language": "python",
   "name": "python3"
  },
  "language_info": {
   "codemirror_mode": {
    "name": "ipython",
    "version": 3
   },
   "file_extension": ".py",
   "mimetype": "text/x-python",
   "name": "python",
   "nbconvert_exporter": "python",
   "pygments_lexer": "ipython3",
   "version": "3.5.5"
  },
  "widgets": {
   "state": {},
   "version": "1.1.2"
  }
 },
 "nbformat": 4,
 "nbformat_minor": 2
}
