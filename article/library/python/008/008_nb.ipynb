{
 "cells": [
  {
   "cell_type": "markdown",
   "metadata": {},
   "source": [
    "## Python PuLP 数理最適化\n",
    "\n",
    "これまで、pulpによる最適化計算をしたことがなかったので、基本的な使い方を参考記事に沿って実行してみます。\n",
    "\n",
    "以下が参考にさせていただいた記事になります。とてもわかりやすいです。\n",
    "\n",
    "- [samuelladocoさんのqiita記事](https://qiita.com/samuelladoco/items/703bf78ea66e8369c455)\n",
    "\n",
    "### github\n",
    "- githubのjupyter notebook形式のファイルは[こちら](https://github.com/hiroshi0530/wa-src/blob/master/article/library/python/008/008_nb.ipynb)\n",
    "\n",
    "### google colaboratory\n",
    "- google colaboratory で実行する場合は[こちら](https://colab.research.google.com/github/hiroshi0530/wa-src/blob/master/article/library/python/008/008_nb.ipynb)\n",
    "\n",
    "### 筆者の環境"
   ]
  },
  {
   "cell_type": "code",
   "execution_count": 1,
   "metadata": {},
   "outputs": [
    {
     "name": "stdout",
     "output_type": "stream",
     "text": [
      "ProductName:\tMac OS X\r\n",
      "ProductVersion:\t10.14.6\r\n",
      "BuildVersion:\t18G6020\r\n"
     ]
    }
   ],
   "source": [
    "!sw_vers"
   ]
  },
  {
   "cell_type": "code",
   "execution_count": 2,
   "metadata": {},
   "outputs": [
    {
     "name": "stdout",
     "output_type": "stream",
     "text": [
      "Python 3.7.3\r\n"
     ]
    }
   ],
   "source": [
    "!python -V"
   ]
  },
  {
   "cell_type": "markdown",
   "metadata": {},
   "source": [
    "### 1. 線形最適化問題（線形計画問題）\n",
    "\n",
    "高校数学でやった記憶があります。\n",
    "\n",
    "#### 最大化\n",
    "$$\n",
    "x + y \n",
    "$$\n",
    "\n",
    "#### 制約条件\n",
    "$$\n",
    "2x + y \\leq 2 \\\\\\\\\n",
    "x + 2y \\leq 2 \\\\\\\\\n",
    "x \\geq 0 \\\\\\\\\n",
    "y \\geq 0 \n",
    "$$\n"
   ]
  },
  {
   "cell_type": "code",
   "execution_count": 3,
   "metadata": {},
   "outputs": [],
   "source": [
    "import pulp\n",
    "import sys\n",
    "\n",
    "# 最適化（最大化）を宣言\n",
    "prob = pulp.LpProblem('test', pulp.LpMaximize)\n",
    "\n",
    "# 変数の宣言\n",
    "x = pulp.LpVariable(\"xx\", 0, sys.maxsize, pulp.LpContinuous)\n",
    "y = pulp.LpVariable(\"yy\", 0, sys.maxsize, pulp.LpContinuous)\n"
   ]
  },
  {
   "cell_type": "code",
   "execution_count": 4,
   "metadata": {},
   "outputs": [],
   "source": [
    "# 目的関数を宣言\n",
    "prob += ( x + y, \"Objective\" )\n",
    "\n",
    "# 制約条件を宣言\n",
    "prob += ( 2 * x + y <= 2 , \"Constraint_1\" )\n",
    "prob += ( x + 2 * y <= 2 , \"Constraint_2\" )"
   ]
  },
  {
   "cell_type": "code",
   "execution_count": 5,
   "metadata": {},
   "outputs": [
    {
     "data": {
      "text/plain": [
       "test:\n",
       "MAXIMIZE\n",
       "1*xx + 1*yy + 0\n",
       "SUBJECT TO\n",
       "Constraint_1: 2 xx + yy <= 2\n",
       "\n",
       "Constraint_2: xx + 2 yy <= 2\n",
       "\n",
       "VARIABLES\n",
       "xx <= 9.22337203685e+18 Continuous\n",
       "yy <= 9.22337203685e+18 Continuous"
      ]
     },
     "execution_count": 5,
     "metadata": {},
     "output_type": "execute_result"
    }
   ],
   "source": [
    "prob"
   ]
  },
  {
   "cell_type": "code",
   "execution_count": 6,
   "metadata": {},
   "outputs": [],
   "source": [
    "result = prob.solve()"
   ]
  },
  {
   "cell_type": "code",
   "execution_count": 7,
   "metadata": {},
   "outputs": [
    {
     "name": "stdout",
     "output_type": "stream",
     "text": [
      "計算結果\n",
      "********\n",
      "最適性 = Optimal\n",
      "目的関数値 = 1.33333334\n",
      "解 x = 0.66666667\n",
      "　 y = 0.66666667\n",
      "********\n"
     ]
    }
   ],
   "source": [
    "print(\"計算結果\")\n",
    "print(\"*\" * 8)\n",
    "print(f\"最適性 = {pulp.LpStatus[result]}\")\n",
    "print(f\"目的関数値 = {pulp.value(prob.objective)}\")\n",
    "print(f\"解 x = {pulp.value(x)}\")\n",
    "print(f\"　 y = {pulp.value(y)}\")\n",
    "print(\"*\" * 8)"
   ]
  },
  {
   "cell_type": "markdown",
   "metadata": {},
   "source": [
    "### 2. 整数最適化問題（整数計画問題）\n",
    "\n",
    "#### 最小化\n",
    "$$\n",
    "\\sum_{i \\in I} \\sum_{j \\in J} c_{ij}x_{ij}\n",
    "$$\n",
    "\n",
    "#### 制約条件\n",
    "$$\n",
    "\\sum_{j\\in J}x_{ij} \\leq 1 \\\\\\\\\n",
    "\\sum_{i\\in I}x_{ij} = 1 \\\\\\\\\n",
    "x_{ij} \\in {0,1}\n",
    "$$"
   ]
  },
  {
   "cell_type": "code",
   "execution_count": 8,
   "metadata": {},
   "outputs": [
    {
     "name": "stdout",
     "output_type": "stream",
     "text": [
      "作業員の集合 I = ['Aさん', 'Bさん', 'Cさん']\n",
      "タスクの集合 J = ['仕事イ', '仕事ロ', '仕事ハ']\n",
      "コスト c[i,j]: \n",
      "c[Aさん,仕事イ] =  1,  c[Aさん,仕事ロ] =  2,  c[Aさん,仕事ハ] =  3,  \n",
      "c[Bさん,仕事イ] =  4,  c[Bさん,仕事ロ] =  6,  c[Bさん,仕事ハ] =  8,  \n",
      "c[Cさん,仕事イ] = 10,  c[Cさん,仕事ロ] = 13,  c[Cさん,仕事ハ] = 16,  \n",
      "\n"
     ]
    }
   ],
   "source": [
    "import pulp\n",
    "import time\n",
    "\n",
    "# 作業員の集合（便宜上、リストを用いる）\n",
    "I = [\"Aさん\", \"Bさん\", \"Cさん\"]\n",
    "\n",
    "print(f\"作業員の集合 I = {I}\")\n",
    "\n",
    "# タスクの集合（便宜上、リストを用いる）\n",
    "J = [\"仕事イ\", \"仕事ロ\", \"仕事ハ\"]\n",
    "\n",
    "print(f\"タスクの集合 J = {J}\")\n",
    "\n",
    "# 作業員 i を タスク j に割り当てたときのコストの集合（一時的なリスト）\n",
    "cc = [\n",
    "    [ 1,  2,  3],\n",
    "    [ 4,  6,  8],\n",
    "    [10, 13, 16],\n",
    "   ]\n",
    "\n",
    "# cc はリストであり、添え字が数値なので、\n",
    "# 辞書 c を定義し、例えばcc[0][0] は c[\"Aさん\",\"仕事イ\"] でアクセスできるようにする\n",
    "c = {} # 空の辞書\n",
    "for i in I:\n",
    "  for j in J:\n",
    "    c[i,j] = cc[I.index(i)][J.index(j)]\n",
    "\n",
    "print(\"コスト c[i,j]: \")\n",
    "for i in I:\n",
    "  for j in J:\n",
    "    print(f\"c[{i},{j}] = {c[i,j]:2d},  \", end = \"\")\n",
    "  print(\"\")\n",
    "print(\"\")"
   ]
  },
  {
   "cell_type": "code",
   "execution_count": 9,
   "metadata": {},
   "outputs": [],
   "source": [
    "# 数理最適化を宣言\n",
    "# pulp.LpMinimize => 最小化\n",
    "# pulp.LpMaximize => 最大化\n",
    "\n",
    "prob = pulp.LpProblem('prob', pulp.LpMinimize)"
   ]
  },
  {
   "cell_type": "code",
   "execution_count": 10,
   "metadata": {},
   "outputs": [],
   "source": [
    "# 変数集合を表す辞書\n",
    "x = {} # 空の辞書\n",
    "     # x[i,j] または x[(i,j)] で、(i,j) というタプルをキーにしてバリューを読み書き\n",
    "\n",
    "# 0-1変数を宣言\n",
    "for i in I:\n",
    "  for j in J:\n",
    "    x[i,j] = pulp.LpVariable(f\"x({i},{j})\", 0, 1, pulp.LpInteger)\n",
    "    # 変数ラベルに '[' や ']' や '-' を入れても、なぜか '_' に変わる…？\n",
    "# lowBound, upBound を指定しないと、それぞれ -無限大, +無限大 になる\n",
    "\n",
    "# 内包表記も使える\n",
    "# x_suffixes = [(i,j) for i in I for j in J]\n",
    "# x = pulp.LpVariable.dicts(\"x\", x_suffixes, cat = pulp.LpBinary) \n",
    "\n",
    "# pulp.LpContinuous : 連続変数\n",
    "# pulp.LpInteger  : 整数変数\n",
    "# pulp.LpBinary   : 0-1変数"
   ]
  },
  {
   "cell_type": "code",
   "execution_count": 11,
   "metadata": {},
   "outputs": [],
   "source": [
    "# 目的関数を宣言\n",
    "prob += pulp.lpSum(c[i,j] * x[i,j] for i in I for j in J), \"TotalCost\"\n",
    "# problem += sum(c[i,j] * x[i,j] for i in I for j in J)"
   ]
  },
  {
   "cell_type": "code",
   "execution_count": 12,
   "metadata": {},
   "outputs": [],
   "source": [
    "# 制約条件の宣言\n",
    "for i in I:\n",
    "  prob += sum(x[i,j] for j in J) <= 1, f\"Constraint_leq_{i}\"\n",
    "  # 制約条件ラベルに '[' や ']' や '-' を入れても、なぜか '_' に変わる…？\n",
    "\n",
    "# 各タスク j について、割り当てられる作業員数はちょうど1人\n",
    "for j in J:\n",
    "  prob += sum(x[i,j] for i in I) == 1, f\"Constraint_eq_{j}\""
   ]
  },
  {
   "cell_type": "code",
   "execution_count": 13,
   "metadata": {},
   "outputs": [
    {
     "name": "stdout",
     "output_type": "stream",
     "text": [
      "問題の式\n",
      "--------\n",
      "prob:\n",
      "MINIMIZE\n",
      "1*x(Aさん,仕事イ) + 3*x(Aさん,仕事ハ) + 2*x(Aさん,仕事ロ) + 4*x(Bさん,仕事イ) + 8*x(Bさん,仕事ハ) + 6*x(Bさん,仕事ロ) + 10*x(Cさん,仕事イ) + 16*x(Cさん,仕事ハ) + 13*x(Cさん,仕事ロ) + 0\n",
      "SUBJECT TO\n",
      "Constraint_leq_Aさん: x(Aさん,仕事イ) + x(Aさん,仕事ハ) + x(Aさん,仕事ロ) <= 1\n",
      "\n",
      "Constraint_leq_Bさん: x(Bさん,仕事イ) + x(Bさん,仕事ハ) + x(Bさん,仕事ロ) <= 1\n",
      "\n",
      "Constraint_leq_Cさん: x(Cさん,仕事イ) + x(Cさん,仕事ハ) + x(Cさん,仕事ロ) <= 1\n",
      "\n",
      "Constraint_eq_仕事イ: x(Aさん,仕事イ) + x(Bさん,仕事イ) + x(Cさん,仕事イ) = 1\n",
      "\n",
      "Constraint_eq_仕事ロ: x(Aさん,仕事ロ) + x(Bさん,仕事ロ) + x(Cさん,仕事ロ) = 1\n",
      "\n",
      "Constraint_eq_仕事ハ: x(Aさん,仕事ハ) + x(Bさん,仕事ハ) + x(Cさん,仕事ハ) = 1\n",
      "\n",
      "VARIABLES\n",
      "0 <= x(Aさん,仕事イ) <= 1 Integer\n",
      "0 <= x(Aさん,仕事ハ) <= 1 Integer\n",
      "0 <= x(Aさん,仕事ロ) <= 1 Integer\n",
      "0 <= x(Bさん,仕事イ) <= 1 Integer\n",
      "0 <= x(Bさん,仕事ハ) <= 1 Integer\n",
      "0 <= x(Bさん,仕事ロ) <= 1 Integer\n",
      "0 <= x(Cさん,仕事イ) <= 1 Integer\n",
      "0 <= x(Cさん,仕事ハ) <= 1 Integer\n",
      "0 <= x(Cさん,仕事ロ) <= 1 Integer\n",
      "\n",
      "--------\n",
      "\n"
     ]
    }
   ],
   "source": [
    "# 問題の式全部を表示\n",
    "print(\"問題の式\")\n",
    "print(f\"-\" * 8)\n",
    "print(prob)\n",
    "print(f\"-\" * 8)\n",
    "print(\"\")"
   ]
  },
  {
   "cell_type": "code",
   "execution_count": 14,
   "metadata": {},
   "outputs": [],
   "source": [
    "# 計算\n",
    "# ソルバー指定\n",
    "solver = pulp.PULP_CBC_CMD()\n",
    "# pulp.PULP_CBC_CMD() : PuLP付属のCoin-CBC\n",
    "# pulp.GUROBI_CMD()   : Gurobiをコマンドラインから起動 (.lpファイルを一時生成)\n",
    "# pulp.GUROBI()   : Gurobiをライブラリーから起動 (ライブラリーの場所指定が必要)\n",
    "\n",
    "# 時間計測開始\n",
    "time_start = time.perf_counter()\n",
    "\n",
    "result_status = prob.solve(solver)\n",
    "# solve()の()内でソルバーを指定できる\n",
    "# 何も指定しない場合は pulp.PULP_CBC_CMD()\n",
    "\n",
    "# 時間計測終了\n",
    "time_stop = time.perf_counter()"
   ]
  },
  {
   "cell_type": "code",
   "execution_count": 15,
   "metadata": {},
   "outputs": [
    {
     "name": "stdout",
     "output_type": "stream",
     "text": [
      "計算結果\n",
      "********\n",
      "最適性 = Optimal, 目的関数値 = 19.0, 計算時間 = 0.028 (秒)\n",
      "解 x[i,j]: \n",
      "x(Aさん,仕事イ) = 0.0,  x(Aさん,仕事ロ) = 0.0,  x(Aさん,仕事ハ) = 1.0,  \n",
      "x(Bさん,仕事イ) = 0.0,  x(Bさん,仕事ロ) = 1.0,  x(Bさん,仕事ハ) = 0.0,  \n",
      "x(Cさん,仕事イ) = 1.0,  x(Cさん,仕事ロ) = 0.0,  x(Cさん,仕事ハ) = 0.0,  \n",
      "********\n"
     ]
    }
   ],
   "source": [
    "# （解が得られていれば）目的関数値や解を表示\n",
    "print(\"計算結果\")\n",
    "print(f\"*\" * 8)\n",
    "print(f\"最適性 = {pulp.LpStatus[result_status]}, \", end=\"\")\n",
    "print(f\"目的関数値 = {pulp.value(prob.objective)}, \", end=\"\")\n",
    "print(f\"計算時間 = {time_stop - time_start:.3f} (秒)\")\n",
    "print(\"解 x[i,j]: \")\n",
    "for i in I:\n",
    "  for j in J:\n",
    "    print(f\"{x[i,j].name} = {x[i,j].value()},  \", end=\"\")\n",
    "  print(\"\")\n",
    "print(f\"*\" * 8)"
   ]
  },
  {
   "cell_type": "markdown",
   "metadata": {},
   "source": [
    "1行1行、とても勉強になりました。ぜひリンク先に飛んでオリジナルの記事で勉強してみてください。\n",
    "\n",
    "- [samuelladocoさんのqiita記事](https://qiita.com/samuelladoco/items/703bf78ea66e8369c455)"
   ]
  }
 ],
 "metadata": {
  "kernelspec": {
   "display_name": "Python 3",
   "language": "python",
   "name": "python3"
  },
  "language_info": {
   "codemirror_mode": {
    "name": "ipython",
    "version": 3
   },
   "file_extension": ".py",
   "mimetype": "text/x-python",
   "name": "python",
   "nbconvert_exporter": "python",
   "pygments_lexer": "ipython3",
   "version": "3.8.5"
  },
  "widgets": {
   "state": {},
   "version": "1.1.2"
  }
 },
 "nbformat": 4,
 "nbformat_minor": 2
}
