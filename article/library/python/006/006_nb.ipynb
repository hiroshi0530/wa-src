{
 "cells": [
  {
   "cell_type": "markdown",
   "metadata": {},
   "source": [
    "## Pythonからワードプレスのブログに投稿する\n",
    "\n",
    "ワードプレスでコーポレイトサイトや個人のブログを運用していると、ブラウザ上からではなく、プログラム上から記事をアップロードしたり、アップデートしたりしたくなります。そのために、`python-wordpress-xmlrpc`をいうライブラリを利用します。\n",
    "\n",
    "### github\n",
    "- githubのjupyter notebook形式のファイルは[こちら](https://github.com/hiroshi0530/wa-src/blob/master/article/library/python/006/006_nb.ipynb)\n",
    "\n",
    "### google colaboratory\n",
    "- google colaboratory で実行する場合は[こちら](https://colab.research.google.com/github/hiroshi0530/wa-src/blob/master/article/library/python/006/006_nb.ipynb)\n",
    "\n",
    "### 筆者の環境"
   ]
  },
  {
   "cell_type": "code",
   "execution_count": 1,
   "metadata": {},
   "outputs": [
    {
     "name": "stdout",
     "output_type": "stream",
     "text": [
      "ProductName:\tMac OS X\r\n",
      "ProductVersion:\t10.14.6\r\n",
      "BuildVersion:\t18G95\r\n"
     ]
    }
   ],
   "source": [
    "!sw_vers"
   ]
  },
  {
   "cell_type": "code",
   "execution_count": 2,
   "metadata": {},
   "outputs": [
    {
     "name": "stdout",
     "output_type": "stream",
     "text": [
      "Python 3.5.5 :: Anaconda, Inc.\r\n"
     ]
    }
   ],
   "source": [
    "!python -V"
   ]
  },
  {
   "cell_type": "markdown",
   "metadata": {},
   "source": [
    "### python-wordpress-xmlrpcのインストール"
   ]
  },
  {
   "cell_type": "code",
   "execution_count": null,
   "metadata": {},
   "outputs": [],
   "source": [
    "!pip install python-wordpress-xmlrpc"
   ]
  },
  {
   "cell_type": "markdown",
   "metadata": {},
   "source": [
    "### 記事の投稿"
   ]
  },
  {
   "cell_type": "code",
   "execution_count": null,
   "metadata": {},
   "outputs": [],
   "source": [
    "from wordpress_xmlrpc import Client, WordPressPost\n",
    "from wordpress_xmlrpc.methods.posts import NewPost\n",
    "\n",
    "wpSiteXMLRPC = 'https://xxxxxx.com/xmlrpc.php'\n",
    "loginId = 'xxxx'\n",
    "password = 'yyyy'\n",
    "\n",
    "wp = Client(wpSiteXMLRPC, loginId, password)\n",
    "post = WordPressPost()\n",
    "\n",
    "title = 'title'\n",
    "body = 'body body '\n",
    "\n",
    "post.title = title\n",
    "post.content = body\n",
    " \n",
    "post.terms_names = {\n",
    "  'post_tag': ['tag'],\n",
    "  'category': ['category']\n",
    "}\n",
    "\n",
    "# post.post_status = 'draft'\n",
    "post.post_status = 'publish'\n",
    "\n",
    "# set timezone to JST\n",
    "post.date = datetime.datetime.now() - datetime.timedelta(hours=9)\n",
    "\n",
    "# custom field\n",
    "customFields = []\n",
    "customFields.append({\n",
    "  'key': 'aaa',\n",
    "  'value': '***'\n",
    "})\n",
    "\n",
    "post.custom_fields = customFields\n",
    "\n",
    "new_id = int(wp.call(NewPost(post)))\n",
    "if new_id > 0:\n",
    "  print('wordpress update success.')\n",
    "else:\n",
    "  print('wordpress update failure.')\n"
   ]
  },
  {
   "cell_type": "markdown",
   "metadata": {},
   "source": [
    "### 画像のアップロード\n",
    "\n",
    "画像付きの記事をアップロードするときは、最初に記事単体をアップロードし、そのID（メディアID）を取得し、記事をアップロードする際、そのIDを指定することで実行します。画像をアップロードするサンプルコードは以下の通りです。"
   ]
  },
  {
   "cell_type": "code",
   "execution_count": null,
   "metadata": {},
   "outputs": [],
   "source": [
    "from wordpress_xmlrpc import Client, WordPressPost\n",
    "from wordpress_xmlrpc.methods import media\n",
    "\n",
    "wpSiteXMLRPC = 'https://xxxxxx.com/xmlrpc.php'\n",
    "loginId = 'xxxx'\n",
    "password = 'yyyy'\n",
    "\n",
    "wp = Client(wpSiteXMLRPC, loginId, password)\n",
    "post = WordPressPost()\n",
    "\n",
    "def upload_image(in_image_file_name, out_image_file_name):\n",
    "  if os.path.exists(in_image_file_name):\n",
    "    with open(in_image_file_name, 'rb') as f:\n",
    "      binary = f.read()\n",
    "\n",
    "    data = {\n",
    "      \"name\": out_image_file_name,\n",
    "      \"type\": 'image/jpeg',\n",
    "      \"overwrite\": True,\n",
    "      \"bits\": binary\n",
    "    }\n",
    "\n",
    "    media_id = wp.call(media.UploadFile(data))['id']\n",
    "    print(in_image_file_name.split('/')[-1], 'upload success')\n",
    "    return\n",
    "  else:\n",
    "    print(in_image_file_name.split('/')[-1], 'NO IMAGE!!')\n",
    "\n"
   ]
  },
  {
   "cell_type": "markdown",
   "metadata": {},
   "source": [
    "### サムネイルの指定\n",
    "以下の様に、画像をアップロードし`post.thumbbail`とすることで、記事のサムネイルの指定をする事が出来ます。"
   ]
  },
  {
   "cell_type": "code",
   "execution_count": null,
   "metadata": {},
   "outputs": [],
   "source": [
    "post = WordPressPost()\n",
    "media_id = wp.call(media.UploadFile(data))['id']\n",
    "post.thumbnail = media_id"
   ]
  },
  {
   "cell_type": "markdown",
   "metadata": {},
   "source": [
    "記事の投稿や、更新しがいにも記事の一覧を取得したり、固定ページのアップロード、アップデートが可能です。詳しくはpython-wordpress-xmlrpcの[サイト](https://python-wordpress-xmlrpc.readthedocs.io/en/latest/index.html)を確認してみてください。"
   ]
  }
 ],
 "metadata": {
  "kernelspec": {
   "display_name": "Python 3",
   "language": "python",
   "name": "python3"
  },
  "language_info": {
   "codemirror_mode": {
    "name": "ipython",
    "version": 3
   },
   "file_extension": ".py",
   "mimetype": "text/x-python",
   "name": "python",
   "nbconvert_exporter": "python",
   "pygments_lexer": "ipython3",
   "version": "3.5.5"
  },
  "widgets": {
   "state": {},
   "version": "1.1.2"
  }
 },
 "nbformat": 4,
 "nbformat_minor": 2
}
