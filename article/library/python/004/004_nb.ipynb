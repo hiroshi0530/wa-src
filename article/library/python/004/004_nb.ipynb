{
 "cells": [
  {
   "cell_type": "markdown",
   "metadata": {},
   "source": [
    "## re 正規表現\n",
    "\n",
    "pythonを利用する上で、便利な表記などの個人的なメモです。基本的な部分は触れていません。対象も自分が便利だなと思ったものに限定されます。\n",
    "\n",
    "正規表現は書くことたくさんありそうですが、思い出したり、新しい使い方に遭遇したりしたら随時更新します。\n",
    "\n",
    "### github\n",
    "- githubのjupyter notebook形式のファイルは[こちら](https://github.com/hiroshi0530/wa-src/blob/master/article/library/python/004/004_nb.ipynb)\n",
    "\n",
    "### google colaboratory\n",
    "- google colaboratory で実行する場合は[こちら](https://colab.research.google.com/github/hiroshi0530/wa-src/blob/master/article/library/python/004/004_nb.ipynb)\n",
    "\n",
    "### 環境"
   ]
  },
  {
   "cell_type": "code",
   "execution_count": 1,
   "metadata": {},
   "outputs": [
    {
     "name": "stdout",
     "output_type": "stream",
     "text": [
      "ProductName:\tMac OS X\r\n",
      "ProductVersion:\t10.14.6\r\n",
      "BuildVersion:\t18G95\r\n"
     ]
    }
   ],
   "source": [
    "!sw_vers"
   ]
  },
  {
   "cell_type": "code",
   "execution_count": 2,
   "metadata": {},
   "outputs": [
    {
     "name": "stdout",
     "output_type": "stream",
     "text": [
      "Python 3.5.5 :: Anaconda, Inc.\r\n"
     ]
    }
   ],
   "source": [
    "!python -V"
   ]
  },
  {
   "cell_type": "code",
   "execution_count": 88,
   "metadata": {},
   "outputs": [],
   "source": [
    "import re\n",
    "a = ''"
   ]
  },
  {
   "cell_type": "markdown",
   "metadata": {},
   "source": [
    "## re.compile()"
   ]
  },
  {
   "cell_type": "markdown",
   "metadata": {},
   "source": [
    "## re.sub()\n",
    "正規表現で文字列を置換します。個人的には最も良く利用します。\n",
    "\n",
    "```text\n",
    "re.sub(正規表現パターン, 置換文字列, 置換対象文字列） \n",
    "```"
   ]
  },
  {
   "cell_type": "code",
   "execution_count": 127,
   "metadata": {},
   "outputs": [
    {
     "data": {
      "text/plain": [
       "'0X0-YYYY-ZZZZ'"
      ]
     },
     "execution_count": 127,
     "metadata": {},
     "output_type": "execute_result"
    }
   ],
   "source": [
    "pat = r'0(8|9)0-[0-9]{4}-[0-9]{4}'\n",
    "repl = r'0X0-YYYY-ZZZZ'\n",
    "obj = r'080-1234-5678'\n",
    "\n",
    "re.sub(pat, repl, obj)"
   ]
  },
  {
   "cell_type": "markdown",
   "metadata": {},
   "source": [
    "置換する範囲。"
   ]
  },
  {
   "cell_type": "code",
   "execution_count": 128,
   "metadata": {},
   "outputs": [
    {
     "name": "stdout",
     "output_type": "stream",
     "text": [
      "\n",
      "0X0-YYYY-ZZZZ\n",
      "0X0-YYYY-ZZZZ\n",
      "\n"
     ]
    }
   ],
   "source": [
    "pat = r'0(8|9)0-[0-9]{4}-[0-9]{4}'\n",
    "obj = r\"\"\"\n",
    "080-1234-5678\n",
    "090-8765-4321\n",
    "\"\"\"\n",
    "\n",
    "print(re.sub(pat,r'0X0-YYYY-ZZZZ', obj))"
   ]
  },
  {
   "cell_type": "markdown",
   "metadata": {},
   "source": [
    "### 後方参照"
   ]
  },
  {
   "cell_type": "code",
   "execution_count": 121,
   "metadata": {},
   "outputs": [
    {
     "data": {
      "text/plain": [
       "'080-5678-1234'"
      ]
     },
     "execution_count": 121,
     "metadata": {},
     "output_type": "execute_result"
    }
   ],
   "source": [
    "pat = r'0(8|9)0-([0-9]{4})-([0-9]{4})'\n",
    "obj = r'080-1234-5678'\n",
    "\n",
    "re.sub(pat,r'0\\g<1>0-\\3-\\2', obj)"
   ]
  },
  {
   "cell_type": "markdown",
   "metadata": {},
   "source": [
    "数字が連続し、分離する場合。"
   ]
  },
  {
   "cell_type": "code",
   "execution_count": null,
   "metadata": {},
   "outputs": [],
   "source": [
    "pat = r'0(8|9)0-([0-9]{4})-([0-9]{4})'\n",
    "obj = r'080-1234-5678'\n",
    "\n",
    "re.sub(pat,r'0\\g<1>0-\\3-\\2', obj)"
   ]
  },
  {
   "cell_type": "markdown",
   "metadata": {},
   "source": [
    "### 改行"
   ]
  },
  {
   "cell_type": "code",
   "execution_count": 105,
   "metadata": {},
   "outputs": [
    {
     "data": {
      "text/plain": [
       "'^0X0-YYYY-ZZZZ\\n^0X0-YYYY-ZZZZ\\n'"
      ]
     },
     "execution_count": 105,
     "metadata": {},
     "output_type": "execute_result"
    }
   ],
   "source": [
    "pat = '^0(8|9)0-[0-9]{4}-[0-9]{4}'\n",
    "obj = \"\"\"\\\n",
    "080-1234-5678\n",
    "090-1234-4567\n",
    "\"\"\"\n",
    "\n",
    "re.sub(pat,'^0X0-YYYY-ZZZZ', obj, flags=re.MULTILINE)"
   ]
  },
  {
   "cell_type": "markdown",
   "metadata": {},
   "source": [
    "## re.subn()"
   ]
  },
  {
   "cell_type": "markdown",
   "metadata": {},
   "source": [
    "## re.split()\n",
    "正規表現で文字列を分割します。"
   ]
  },
  {
   "cell_type": "markdown",
   "metadata": {},
   "source": [
    "## re.match()"
   ]
  },
  {
   "cell_type": "markdown",
   "metadata": {},
   "source": [
    "## re.search"
   ]
  },
  {
   "cell_type": "markdown",
   "metadata": {},
   "source": [
    "## re.findall()\n",
    "正規表現に一致するすべてのパターンをリストで取得します。"
   ]
  },
  {
   "cell_type": "markdown",
   "metadata": {},
   "source": [
    "### 文字列の検索"
   ]
  },
  {
   "cell_type": "code",
   "execution_count": 36,
   "metadata": {},
   "outputs": [
    {
     "name": "stdout",
     "output_type": "stream",
     "text": [
      "### group ###\n",
      "matcn None\n",
      "\n",
      "### search ###\n",
      "group : bbb\n",
      "span  : (7, 10)\n",
      "start : 7\n",
      "end   : 10\n",
      "\n",
      "### findall ###\n",
      "['bbb', 'bbbbb']\n",
      "\n",
      "### finditer ###\n",
      "<callable_iterator object at 0x10c66cf60>\n",
      "\n"
     ]
    }
   ],
   "source": [
    "import re\n",
    "\n",
    "pat = r'aaat(.*)tb([a-z]*)b'\n",
    "pat = r'b{2,}'\n",
    "target = 'aaatestbbbcccbbbbb'\n",
    "\n",
    "result_match = re.match(pat, target)\n",
    "result_search = re.search(pat, target)\n",
    "result_findall = re.findall(pat, target)\n",
    "\n",
    "print('### group ###')\n",
    "if result_match:\n",
    "  print('group :', result_match.group())\n",
    "  print('span  :', result_match.span())\n",
    "  print('start :', result_match.start())\n",
    "  print('end   :', result_match.end())\n",
    "else:\n",
    "  print('matcn None')\n",
    "print()\n",
    "\n",
    "print('### search ###')\n",
    "if result_search:\n",
    "  print('group :', result_search.group())\n",
    "  print('span  :', result_search.span())\n",
    "  print('start :', result_search.start())\n",
    "  print('end   :', result_search.end())\n",
    "else:\n",
    "  print('search None')\n",
    "print()\n",
    "\n",
    "\n",
    "print('### findall ###')\n",
    "print(re.findall(pat, target))\n",
    "print()\n",
    "\n",
    "print('### finditer ###')\n",
    "print(re.finditer(pat, target))\n",
    "print()"
   ]
  },
  {
   "cell_type": "code",
   "execution_count": 87,
   "metadata": {},
   "outputs": [
    {
     "name": "stdout",
     "output_type": "stream",
     "text": [
      "abctttsssdef\n",
      "(0, 12)\n"
     ]
    }
   ],
   "source": [
    "# re.findall('abc(...)*def', 'sssabcsabcssdefsssdefsssssssssssssssssssdefs')\n",
    "re.findall('abc(...)*def', 'abcsabcssdefsssdef')\n",
    "a = re.finditer('abc(...)*def', 'abctttsssdefqqqdef')\n",
    "\n",
    "for i in a:\n",
    "  print(i.group())\n",
    "  print(i.span())"
   ]
  },
  {
   "cell_type": "code",
   "execution_count": 38,
   "metadata": {},
   "outputs": [
    {
     "data": {
      "text/plain": [
       "'abcsabcssdefsssdef'"
      ]
     },
     "execution_count": 38,
     "metadata": {},
     "output_type": "execute_result"
    }
   ],
   "source": [
    "re.search('(abc(...)*def)', 'sssabcsabcssdefsssdefsssssssssssssssssssdefs').group()"
   ]
  },
  {
   "cell_type": "code",
   "execution_count": 48,
   "metadata": {},
   "outputs": [
    {
     "name": "stdout",
     "output_type": "stream",
     "text": [
      "[('123-4567', '123'), ('765-4321', '765')]\n"
     ]
    }
   ],
   "source": [
    "text = \"東京都港区虎ノ門 123-4567, 東京都渋谷区渋谷 765-4321\"\n",
    "import re\n",
    "postCode_list = re.findall(r'(([0-9]{3})-[0-9]{4})' , text)\n",
    "# postCode_list = re.findall(r'[0-9]{3}-[0-9]{4}' , text)\n",
    "print (postCode_list)"
   ]
  },
  {
   "cell_type": "code",
   "execution_count": null,
   "metadata": {},
   "outputs": [],
   "source": []
  },
  {
   "cell_type": "markdown",
   "metadata": {},
   "source": [
    "## re.findall()\n",
    "正規表現に一致するすべてのパターンをリストで取得します。"
   ]
  },
  {
   "cell_type": "markdown",
   "metadata": {},
   "source": [
    "## re.finditer()\n",
    "正規表現に一致するすべてのパターンをイテレータで取得します。"
   ]
  },
  {
   "cell_type": "code",
   "execution_count": null,
   "metadata": {},
   "outputs": [],
   "source": []
  }
 ],
 "metadata": {
  "kernelspec": {
   "display_name": "Python 3",
   "language": "python",
   "name": "python3"
  },
  "language_info": {
   "codemirror_mode": {
    "name": "ipython",
    "version": 3
   },
   "file_extension": ".py",
   "mimetype": "text/x-python",
   "name": "python",
   "nbconvert_exporter": "python",
   "pygments_lexer": "ipython3",
   "version": "3.7.3"
  },
  "widgets": {
   "state": {},
   "version": "1.1.2"
  }
 },
 "nbformat": 4,
 "nbformat_minor": 2
}
