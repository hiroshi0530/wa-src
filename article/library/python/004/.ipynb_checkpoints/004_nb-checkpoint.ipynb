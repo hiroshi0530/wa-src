{
 "cells": [
  {
   "cell_type": "markdown",
   "metadata": {},
   "source": [
    "## re 正規表現\n",
    "\n",
    "pythonを利用する上で、便利な表記などの個人的なメモです。基本的な部分は触れていません。対象も自分が便利だなと思ったものに限定されます。\n",
    "\n",
    "正規表現は書くことたくさんありそうですが、思い出したり、新しい使い方に遭遇したりしたら随時更新します。\n",
    "\n",
    "若い頃はいろいろな正規表現パターンを覚えようと思って頑張りましたが、今は必要な時だけ調べて利用するようにしています。全部覚えて使いこなす（正規表現マスター）になるのはしんどいですね。\n",
    "\n",
    "### github\n",
    "- githubのjupyter notebook形式のファイルは[こちら](https://github.com/hiroshi0530/wa-src/blob/master/article/library/python/004/004_nb.ipynb)\n",
    "\n",
    "### google colaboratory\n",
    "- google colaboratory で実行する場合は[こちら](https://colab.research.google.com/github/hiroshi0530/wa-src/blob/master/article/library/python/004/004_nb.ipynb)\n",
    "\n",
    "### 環境"
   ]
  },
  {
   "cell_type": "code",
   "execution_count": 1,
   "metadata": {},
   "outputs": [
    {
     "name": "stdout",
     "output_type": "stream",
     "text": [
      "ProductName:\tMac OS X\r\n",
      "ProductVersion:\t10.14.6\r\n",
      "BuildVersion:\t18G2022\r\n"
     ]
    }
   ],
   "source": [
    "!sw_vers"
   ]
  },
  {
   "cell_type": "code",
   "execution_count": 2,
   "metadata": {},
   "outputs": [
    {
     "name": "stdout",
     "output_type": "stream",
     "text": [
      "Python 3.7.3\r\n"
     ]
    }
   ],
   "source": [
    "!python -V"
   ]
  },
  {
   "cell_type": "markdown",
   "metadata": {},
   "source": [
    "## reの読み込み\n",
    "\n",
    "正規表現は通常、解析したい文字列と解析の元となる正規表現のパターンの二つの文字列を必要とします。\n",
    "\n",
    "元となる正規表現のパターンにはrをつけると、バックスラッシュが必要な文字もそのまま表現できるので、デフォルトでつけておいた方が良いようです。\n",
    "\n",
    "読み込みは以下の通りです。"
   ]
  },
  {
   "cell_type": "code",
   "execution_count": 3,
   "metadata": {},
   "outputs": [],
   "source": [
    "import re"
   ]
  },
  {
   "cell_type": "markdown",
   "metadata": {},
   "source": [
    "## re.compile()\n",
    "\n",
    "正規表現による検索や置換をする方法は、二通りあります。一つが、`re.complie()`を用いて、正規表現パターンをあらかじめコンパイルしておいて、必要な時にそのオブジェクトを利用する方法。もう一つが、必要な時にコンパイルの処理を行い、それと同時にそのオブジェクトを利用する方法です。何度もその検索パターンを利用する場合は、`re.compile()`を利用した方が良いかと思います。\n",
    "\n",
    "二つの利用方法の例を示します。\n",
    "\n",
    "### コンパイルを利用しない場合"
   ]
  },
  {
   "cell_type": "code",
   "execution_count": 4,
   "metadata": {},
   "outputs": [
    {
     "name": "stdout",
     "output_type": "stream",
     "text": [
      "findall の結果 :  ['gh']\n"
     ]
    }
   ],
   "source": [
    "obj = r'asdfghjkl'\n",
    "target = r'gh'\n",
    "\n",
    "ret = re.findall(target, obj)\n",
    "\n",
    "if ret:\n",
    "  print('findall の結果 : ', ret)"
   ]
  },
  {
   "cell_type": "markdown",
   "metadata": {},
   "source": [
    "### コンパイルを利用する場合"
   ]
  },
  {
   "cell_type": "code",
   "execution_count": 5,
   "metadata": {},
   "outputs": [
    {
     "name": "stdout",
     "output_type": "stream",
     "text": [
      "findall の結果 :  ['gh']\n"
     ]
    }
   ],
   "source": [
    "target = r'asdfghjkl'\n",
    "pat = r'gh'\n",
    "\n",
    "pat_target = re.compile(pat)\n",
    "\n",
    "ret = pat_target.findall(pat)\n",
    "\n",
    "if ret:\n",
    "  print('findall の結果 : ', ret)"
   ]
  },
  {
   "cell_type": "markdown",
   "metadata": {},
   "source": [
    "## 文字列の検索\n",
    "\n",
    "検索関数は4つの方法があります。私個人としてはfindallを利用するのが最も多いです。\n",
    "\n",
    "- re.match : ターゲットの文字列の先頭が正規表現とマッチするか\n",
    "- re;.search : ターゲットの文字列が正規表現とマッチするか\n",
    "- re.findall : ターゲットの文字列で、正規表現とマッチする部分をリスト化して返す \n",
    "- re.finditer :ターゲットの文字列で、正規表現とマッチする部分をイテレータとして返す\n",
    "\n",
    "### re.match"
   ]
  },
  {
   "cell_type": "code",
   "execution_count": 6,
   "metadata": {
    "scrolled": true
   },
   "outputs": [
    {
     "name": "stdout",
     "output_type": "stream",
     "text": [
      "### 文字列 ###\n",
      "pat    :  aaat(.*)tb([a-z]*)b\n",
      "target :  aaatestbbbcccbbbbb\n",
      "\n",
      "### group ###\n",
      "group : aaatestbbbcccbbbbb\n",
      "span  : (0, 18)\n",
      "start : 0\n",
      "end   : 18\n"
     ]
    }
   ],
   "source": [
    "import re\n",
    "\n",
    "pat = r'aaat(.*)tb([a-z]*)b'\n",
    "target = 'aaatestbbbcccbbbbb'\n",
    "\n",
    "result_match = re.match(pat, target)\n",
    "\n",
    "print(\"### 文字列 ###\")\n",
    "print('pat    : ', pat)\n",
    "print('target : ', target)\n",
    "print()\n",
    "\n",
    "print('### group ###')\n",
    "if result_match:\n",
    "  print('group :', result_match.group())\n",
    "  print('span  :', result_match.span())\n",
    "  print('start :', result_match.start())\n",
    "  print('end   :', result_match.end())\n",
    "else:\n",
    "  print('matcn None')"
   ]
  },
  {
   "cell_type": "markdown",
   "metadata": {},
   "source": [
    "### re.search"
   ]
  },
  {
   "cell_type": "code",
   "execution_count": 7,
   "metadata": {},
   "outputs": [
    {
     "name": "stdout",
     "output_type": "stream",
     "text": [
      "### 文字列 ###\n",
      "pat    :  aaat(.*)tb([a-z]*)b\n",
      "target :  aaatestbbbcccbbbbb\n",
      "\n",
      "### search ###\n",
      "group : aaatestbbbcccbbbbb\n",
      "span  : (0, 18)\n",
      "start : 0\n",
      "end   : 18\n"
     ]
    }
   ],
   "source": [
    "pat = r'aaat(.*)tb([a-z]*)b'\n",
    "target = 'aaatestbbbcccbbbbb'\n",
    "\n",
    "result_search = re.search(pat, target)\n",
    "\n",
    "print(\"### 文字列 ###\")\n",
    "print('pat    : ', pat)\n",
    "print('target : ', target)\n",
    "print()\n",
    "\n",
    "print('### search ###')\n",
    "if result_search:\n",
    "  print('group :', result_search.group())\n",
    "  print('span  :', result_search.span())\n",
    "  print('start :', result_search.start())\n",
    "  print('end   :', result_search.end())\n",
    "else:\n",
    "  print('search None')"
   ]
  },
  {
   "cell_type": "code",
   "execution_count": 8,
   "metadata": {},
   "outputs": [
    {
     "name": "stdout",
     "output_type": "stream",
     "text": [
      "### 文字列 ###\n",
      "pat    :  aaat(.*)tb([a-z]*)b\n",
      "target :  aaatestbbbcccbbbbb\n",
      "\n",
      "### search ###\n",
      "group : abcsabcssdefsssdef\n",
      "span  : (3, 21)\n",
      "start : 3\n",
      "end   : 21\n"
     ]
    }
   ],
   "source": [
    "result_search = re.search('(abc(...)*def)', 'sssabcsabcssdefsssdefsssssssssssssssssssdefs')\n",
    "\n",
    "print(\"### 文字列 ###\")\n",
    "print('pat    : ', pat)\n",
    "print('target : ', target)\n",
    "print()\n",
    "\n",
    "print('### search ###')\n",
    "if result_search:\n",
    "  print('group :', result_search.group())\n",
    "  print('span  :', result_search.span())\n",
    "  print('start :', result_search.start())\n",
    "  print('end   :', result_search.end())\n",
    "else:\n",
    "  print('search None')"
   ]
  },
  {
   "cell_type": "markdown",
   "metadata": {},
   "source": [
    "### re.findall"
   ]
  },
  {
   "cell_type": "code",
   "execution_count": 9,
   "metadata": {},
   "outputs": [
    {
     "name": "stdout",
     "output_type": "stream",
     "text": [
      "### 文字列 ###\n",
      "pat    :  aaat(.*)tb([a-z]*)b\n",
      "target :  aaatestbbbcccbbbbb\n",
      "\n",
      "### findall ###\n",
      "[('es', 'bbcccbbbb')]\n"
     ]
    }
   ],
   "source": [
    "pat = r'aaat(.*)tb([a-z]*)b'\n",
    "target = 'aaatestbbbcccbbbbb'\n",
    "\n",
    "result_findall = re.findall(pat, target)\n",
    "\n",
    "print(\"### 文字列 ###\")\n",
    "print('pat    : ', pat)\n",
    "print('target : ', target)\n",
    "print()\n",
    "\n",
    "print('### findall ###')\n",
    "print(re.findall(pat, target))"
   ]
  },
  {
   "cell_type": "markdown",
   "metadata": {},
   "source": [
    "### re.finditer\n",
    "\n",
    "一致するイテレータを返します。"
   ]
  },
  {
   "cell_type": "code",
   "execution_count": 10,
   "metadata": {},
   "outputs": [
    {
     "name": "stdout",
     "output_type": "stream",
     "text": [
      "### 文字列 ###\n",
      "pat    :  aaat(.*)tb([a-z]*)b\n",
      "target :  aaatestbbbcccbbbbb\n",
      "\n",
      "### finditer ###\n",
      "<callable_iterator object at 0x107d76198>\n"
     ]
    }
   ],
   "source": [
    "pat = r'aaat(.*)tb([a-z]*)b'\n",
    "target = 'aaatestbbbcccbbbbb'\n",
    "\n",
    "result_finditer = re.finditer(pat, target)\n",
    "\n",
    "print(\"### 文字列 ###\")\n",
    "print('pat    : ', pat)\n",
    "print('target : ', target)\n",
    "print()\n",
    "\n",
    "print('### finditer ###')\n",
    "print(re.finditer(pat, target))"
   ]
  },
  {
   "cell_type": "markdown",
   "metadata": {},
   "source": [
    "## 文字列の置換\n",
    "\n",
    "### re.sub()\n",
    "正規表現で文字列を置換します。個人的には最も良く利用します。\n",
    "\n",
    "```text\n",
    "re.sub(正規表現パターン, 置換文字列, 置換対象文字列） \n",
    "```"
   ]
  },
  {
   "cell_type": "code",
   "execution_count": 11,
   "metadata": {},
   "outputs": [
    {
     "data": {
      "text/plain": [
       "'0X0-YYYY-ZZZZ'"
      ]
     },
     "execution_count": 11,
     "metadata": {},
     "output_type": "execute_result"
    }
   ],
   "source": [
    "pat = r'0(8|9)0-[0-9]{4}-[0-9]{4}'\n",
    "repl = '0X0-YYYY-ZZZZ'\n",
    "obj = '080-1234-5678'\n",
    "\n",
    "re.sub(pat, repl, obj)"
   ]
  },
  {
   "cell_type": "code",
   "execution_count": 12,
   "metadata": {},
   "outputs": [
    {
     "name": "stdout",
     "output_type": "stream",
     "text": [
      "\n",
      "0X0-YYYY-ZZZZ\n",
      "0X0-YYYY-ZZZZ\n",
      "\n"
     ]
    }
   ],
   "source": [
    "pat = r'0(8|9)0-[0-9]{4}-[0-9]{4}'\n",
    "obj = \"\"\"\n",
    "080-1234-5678\n",
    "090-8765-4321\n",
    "\"\"\"\n",
    "\n",
    "print(re.sub(pat,r'0X0-YYYY-ZZZZ', obj))"
   ]
  },
  {
   "cell_type": "markdown",
   "metadata": {},
   "source": [
    "#### 後方参照"
   ]
  },
  {
   "cell_type": "code",
   "execution_count": 13,
   "metadata": {},
   "outputs": [
    {
     "data": {
      "text/plain": [
       "'080-5678-1234'"
      ]
     },
     "execution_count": 13,
     "metadata": {},
     "output_type": "execute_result"
    }
   ],
   "source": [
    "pat = r'0(8|9)0-([0-9]{4})-([0-9]{4})'\n",
    "obj = '080-1234-5678'\n",
    "\n",
    "re.sub(pat,r'0\\g<1>0-\\3-\\2', obj)"
   ]
  },
  {
   "cell_type": "markdown",
   "metadata": {},
   "source": [
    "数字が連続し、分離する場合。"
   ]
  },
  {
   "cell_type": "code",
   "execution_count": 14,
   "metadata": {},
   "outputs": [
    {
     "data": {
      "text/plain": [
       "'080-5678-1234'"
      ]
     },
     "execution_count": 14,
     "metadata": {},
     "output_type": "execute_result"
    }
   ],
   "source": [
    "pat = r'0(8|9)0-([0-9]{4})-([0-9]{4})'\n",
    "obj = '080-1234-5678'\n",
    "\n",
    "re.sub(pat,r'0\\g<1>0-\\3-\\2', obj)"
   ]
  },
  {
   "cell_type": "markdown",
   "metadata": {},
   "source": [
    "#### 改行"
   ]
  },
  {
   "cell_type": "code",
   "execution_count": 15,
   "metadata": {},
   "outputs": [
    {
     "data": {
      "text/plain": [
       "'^0X0-YYYY-ZZZZ\\n^0X0-YYYY-ZZZZ\\n'"
      ]
     },
     "execution_count": 15,
     "metadata": {},
     "output_type": "execute_result"
    }
   ],
   "source": [
    "pat = r'^0(8|9)0-[0-9]{4}-[0-9]{4}'\n",
    "obj = \"\"\"\\\n",
    "080-1234-5678\n",
    "090-1234-4567\n",
    "\"\"\"\n",
    "\n",
    "re.sub(pat,'^0X0-YYYY-ZZZZ', obj, flags=re.MULTILINE)"
   ]
  },
  {
   "cell_type": "markdown",
   "metadata": {},
   "source": [
    "### re.subn()\n",
    "\n",
    "準備中"
   ]
  },
  {
   "cell_type": "markdown",
   "metadata": {},
   "source": [
    "### re.split()\n",
    "正規表現で文字列を分割します。"
   ]
  }
 ],
 "metadata": {
  "kernelspec": {
   "display_name": "Python 3",
   "language": "python",
   "name": "python3"
  },
  "language_info": {
   "codemirror_mode": {
    "name": "ipython",
    "version": 3
   },
   "file_extension": ".py",
   "mimetype": "text/x-python",
   "name": "python",
   "nbconvert_exporter": "python",
   "pygments_lexer": "ipython3",
   "version": "3.7.3"
  },
  "widgets": {
   "state": {},
   "version": "1.1.2"
  }
 },
 "nbformat": 4,
 "nbformat_minor": 2
}
