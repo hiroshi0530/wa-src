{
 "cells": [
  {
   "cell_type": "markdown",
   "metadata": {},
   "source": [
    "## jupyter notebook のカーネルが読み込めない\n",
    "\n",
    "jupyter notebookでは仮想環境を簡単に変更できますが、今回うまく環境が切り替えることが出来なかったので、メモしておく。\n",
    "\n",
    "### github\n",
    "- githubのjupyter notebook形式のファイルは[こちら](https://github.com/hiroshi0530/wa-src/blob/master/article/library/python/015/015_nb.ipynb)\n",
    "\n",
    "### google colaboratory\n",
    "- google colaboratory で実行する場合は[こちら](https://colab.research.google.com/github/hiroshi0530/wa-src/blob/master/article/library/python/015/015_nb.ipynb)\n",
    "\n",
    "### 筆者の環境"
   ]
  },
  {
   "cell_type": "code",
   "execution_count": 9,
   "metadata": {},
   "outputs": [
    {
     "name": "stdout",
     "output_type": "stream",
     "text": [
      "ProductName:\tMac OS X\r\n",
      "ProductVersion:\t10.14.6\r\n",
      "BuildVersion:\t18G9323\r\n"
     ]
    }
   ],
   "source": [
    "!sw_vers"
   ]
  },
  {
   "cell_type": "code",
   "execution_count": 10,
   "metadata": {},
   "outputs": [
    {
     "name": "stdout",
     "output_type": "stream",
     "text": [
      "Python 3.8.5\r\n"
     ]
    }
   ],
   "source": [
    "!python -V"
   ]
  },
  {
   "cell_type": "markdown",
   "metadata": {},
   "source": [
    "## カーネル確認コマンド\n",
    "\n",
    "通常、jupyter notebook で実際のpythonの実行環境を表示を確認したい時は以下のコマンドを実行する。\n",
    "だが、今回ちゃんと所望のpythonのバージョンが指定されていたが、実際にはうまくいかないことがあった。"
   ]
  },
  {
   "cell_type": "code",
   "execution_count": 2,
   "metadata": {},
   "outputs": [
    {
     "data": {
      "text/plain": [
       "'/Users/hiroshi.wayama/anaconda3/envs/lgbm2/bin/python'"
      ]
     },
     "execution_count": 2,
     "metadata": {},
     "output_type": "execute_result"
    }
   ],
   "source": [
    "import sys\n",
    "sys.executable"
   ]
  },
  {
   "cell_type": "markdown",
   "metadata": {},
   "source": [
    "## 課題\n",
    "\n",
    "lgbmをjupyter notebook上で設定したが、実際に実行するとその環境のpythonが実行されていないことが分かった。"
   ]
  },
  {
   "cell_type": "markdown",
   "metadata": {},
   "source": [
    "## 設定しているkernelの一覧\n",
    "\n",
    "利用しているカーネル一覧は以下のコマンドで確認できる。"
   ]
  },
  {
   "cell_type": "code",
   "execution_count": 4,
   "metadata": {},
   "outputs": [
    {
     "name": "stdout",
     "output_type": "stream",
     "text": [
      "Available kernels:\r\n",
      "  julia-1.7              /Users/hiroshi.wayama/Library/Jupyter/kernels/julia-1.7\r\n",
      "  lgbm                   /Users/hiroshi.wayama/Library/Jupyter/kernels/lgbm\r\n",
      "  lgbm2                  /Users/hiroshi.wayama/Library/Jupyter/kernels/lgbm2\r\n",
      "  my_environment_name    /Users/hiroshi.wayama/Library/Jupyter/kernels/my_environment_name\r\n",
      "  reco_base              /Users/hiroshi.wayama/Library/Jupyter/kernels/reco_base\r\n",
      "  python3                /Users/hiroshi.wayama/anaconda3/share/jupyter/kernels/python3\r\n"
     ]
    }
   ],
   "source": [
    "!jupyter kernelspec list"
   ]
  },
  {
   "cell_type": "markdown",
   "metadata": {},
   "source": [
    "## カーネルの設定ファイル\n",
    "\n",
    "`~/Library/Jupyter/kernels/`にそれぞれのカーネルの設定ファイルが保存されている。\n",
    "この中でlgbm2をカーネルとして設定している。"
   ]
  },
  {
   "cell_type": "code",
   "execution_count": 7,
   "metadata": {},
   "outputs": [
    {
     "name": "stdout",
     "output_type": "stream",
     "text": [
      "total 0\r\n",
      "drwxr-xr-x  7 hiroshi.wayama  staff   224B  2  7 17:18 \u001b[34m.\u001b[m\u001b[m\r\n",
      "drwxr-xr-x  8 hiroshi.wayama  staff   256B  2  7 19:04 \u001b[34m..\u001b[m\u001b[m\r\n",
      "drwxr-xr-x  5 hiroshi.wayama  staff   160B 12  8 10:18 \u001b[34mjulia-1.7\u001b[m\u001b[m\r\n",
      "drwxr-xr-x  5 hiroshi.wayama  staff   160B  2  7 17:18 \u001b[34mlgbm\u001b[m\u001b[m\r\n",
      "drwxr-xr-x  5 hiroshi.wayama  staff   160B  2  7 16:04 \u001b[34mlgbm2\u001b[m\u001b[m\r\n",
      "drwxr-xr-x  5 hiroshi.wayama  staff   160B  8 24 00:09 \u001b[34mmy_environment_name\u001b[m\u001b[m\r\n",
      "drwxr-xr-x  5 hiroshi.wayama  staff   160B  8 24 09:25 \u001b[34mreco_base\u001b[m\u001b[m\r\n"
     ]
    }
   ],
   "source": [
    "!ls -alh /Users/hiroshi.wayama/Library/Jupyter/kernels/"
   ]
  },
  {
   "cell_type": "markdown",
   "metadata": {},
   "source": [
    "この中でlgbm2をカーネルとして設定しているがうまくいかない。そのファイルを開いてみる。"
   ]
  },
  {
   "cell_type": "code",
   "execution_count": 6,
   "metadata": {},
   "outputs": [
    {
     "name": "stdout",
     "output_type": "stream",
     "text": [
      "{\r\n",
      " \"argv\": [\r\n",
      "  \"/Users/hiroshi.wayama/anaconda3/bin/python\",\r\n",
      "  \"-m\",\r\n",
      "  \"ipykernel_launcher\",\r\n",
      "  \"-f\",\r\n",
      "  \"{connection_file}\"\r\n",
      " ],\r\n",
      " \"display_name\": \"lgbm\",\r\n",
      " \"language\": \"python\",\r\n",
      " \"metadata\": {\r\n",
      "  \"debugger\": true\r\n",
      " }\r\n",
      "}\r\n"
     ]
    }
   ],
   "source": [
    "!cat /Users/hiroshi.wayama/Library/Jupyter/kernels/lgbm/kernel.json"
   ]
  },
  {
   "cell_type": "markdown",
   "metadata": {},
   "source": [
    "pythonへのパスがデフォルトの`/Users/hiroshi.wayama/anaconda3/bin/python`となっており、想定していた`/Users/hiroshi.wayama/anaconda3/envs/lgbm/bin/python`ではないことが分かる。\n",
    "うまくいっているlgbm2を開いてみる。想定通り設定されていることが分かる。"
   ]
  },
  {
   "cell_type": "code",
   "execution_count": 6,
   "metadata": {},
   "outputs": [
    {
     "name": "stdout",
     "output_type": "stream",
     "text": [
      "{\r\n",
      " \"argv\": [\r\n",
      "  \"/Users/hiroshi.wayama/anaconda3/envs/lgbm2/bin/python\",\r\n",
      "  \"-m\",\r\n",
      "  \"ipykernel_launcher\",\r\n",
      "  \"-f\",\r\n",
      "  \"{connection_file}\"\r\n",
      " ],\r\n",
      " \"display_name\": \"python-lgbm2\",\r\n",
      " \"language\": \"python\",\r\n",
      " \"metadata\": {\r\n",
      "  \"debugger\": true\r\n",
      " }\r\n",
      "}\r\n"
     ]
    }
   ],
   "source": [
    "!cat /Users/hiroshi.wayama/Library/Jupyter/kernels/lgbm2/kernel.json"
   ]
  },
  {
   "cell_type": "markdown",
   "metadata": {},
   "source": [
    "パスの部分を利用したい環境のpythonパスに書き換えるとうまくいった。\n",
    "あまりこういう所で時間を取られたくないので覚えておく。"
   ]
  }
 ],
 "metadata": {
  "kernelspec": {
   "display_name": "python-lgbm2",
   "language": "python",
   "name": "lgbm2"
  },
  "language_info": {
   "codemirror_mode": {
    "name": "ipython",
    "version": 3
   },
   "file_extension": ".py",
   "mimetype": "text/x-python",
   "name": "python",
   "nbconvert_exporter": "python",
   "pygments_lexer": "ipython3",
   "version": "3.7.11"
  },
  "widgets": {
   "state": {},
   "version": "1.1.2"
  }
 },
 "nbformat": 4,
 "nbformat_minor": 2
}
