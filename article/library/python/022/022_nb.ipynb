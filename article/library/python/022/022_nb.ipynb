{
 "cells": [
  {
   "cell_type": "markdown",
   "metadata": {},
   "source": [
    "## pandasのreindexとdate_rangeを利用して、時系列データの欠損を埋める\n",
    "\n",
    "ECサイトの売上のデータ解析などをしていると、休日のデータが欠損している場合がある。\n",
    "解析時には日付が欠損していると不便なことがあるので、0などのある値で埋めるために、pandasのreindexとdate_rangeを利用する。\n",
    "\n",
    "### github\n",
    "- githubのjupyter notebook形式のファイルは[こちら](https://github.com/hiroshi0530/wa-src/blob/master/article/library/python/022/022_nb.ipynb)\n",
    "\n",
    "### google colaboratory\n",
    "- google colaboratory で実行する場合は[こちら](https://colab.research.google.com/github/hiroshi0530/wa-src/blob/master/article/library/python/022/022_nb.ipynb)\n",
    "\n",
    "### 実行環境"
   ]
  },
  {
   "cell_type": "code",
   "execution_count": 16,
   "metadata": {},
   "outputs": [
    {
     "name": "stdout",
     "output_type": "stream",
     "text": [
      "ProductName:\tmacOS\n",
      "ProductVersion:\t11.6.7\n",
      "BuildVersion:\t20G630\n"
     ]
    }
   ],
   "source": [
    "!sw_vers"
   ]
  },
  {
   "cell_type": "code",
   "execution_count": 17,
   "metadata": {},
   "outputs": [
    {
     "name": "stdout",
     "output_type": "stream",
     "text": [
      "Python 3.8.13\n"
     ]
    }
   ],
   "source": [
    "!python -V"
   ]
  },
  {
   "cell_type": "markdown",
   "metadata": {
    "vscode": {
     "languageId": "python"
    }
   },
   "source": [
    "時系列データでデータの穴抜けがあるDataFrameを用意する。"
   ]
  },
  {
   "cell_type": "code",
   "execution_count": 18,
   "metadata": {},
   "outputs": [
    {
     "data": {
      "text/html": [
       "<div>\n",
       "<style scoped>\n",
       "    .dataframe tbody tr th:only-of-type {\n",
       "        vertical-align: middle;\n",
       "    }\n",
       "\n",
       "    .dataframe tbody tr th {\n",
       "        vertical-align: top;\n",
       "    }\n",
       "\n",
       "    .dataframe thead th {\n",
       "        text-align: right;\n",
       "    }\n",
       "</style>\n",
       "<table border=\"1\" class=\"dataframe\">\n",
       "  <thead>\n",
       "    <tr style=\"text-align: right;\">\n",
       "      <th></th>\n",
       "      <th>sales</th>\n",
       "      <th>date</th>\n",
       "    </tr>\n",
       "  </thead>\n",
       "  <tbody>\n",
       "    <tr>\n",
       "      <th>0</th>\n",
       "      <td>1</td>\n",
       "      <td>2022-07-01</td>\n",
       "    </tr>\n",
       "    <tr>\n",
       "      <th>1</th>\n",
       "      <td>2</td>\n",
       "      <td>2022-07-02</td>\n",
       "    </tr>\n",
       "    <tr>\n",
       "      <th>2</th>\n",
       "      <td>3</td>\n",
       "      <td>2022-07-05</td>\n",
       "    </tr>\n",
       "    <tr>\n",
       "      <th>3</th>\n",
       "      <td>4</td>\n",
       "      <td>2022-07-06</td>\n",
       "    </tr>\n",
       "    <tr>\n",
       "      <th>4</th>\n",
       "      <td>5</td>\n",
       "      <td>2022-07-09</td>\n",
       "    </tr>\n",
       "  </tbody>\n",
       "</table>\n",
       "</div>"
      ],
      "text/plain": [
       "   sales       date\n",
       "0      1 2022-07-01\n",
       "1      2 2022-07-02\n",
       "2      3 2022-07-05\n",
       "3      4 2022-07-06\n",
       "4      5 2022-07-09"
      ]
     },
     "execution_count": 18,
     "metadata": {},
     "output_type": "execute_result"
    }
   ],
   "source": [
    "import pandas as pd\n",
    "\n",
    "df = pd.DataFrame(\n",
    "    {\n",
    "        \"sales\": [i + 1 for i in range(5)],\n",
    "        \"date\": pd.to_datetime([\"2022-07-01\", \"2022-07-02\", \"2022-07-05\", \"2022-07-06\", \"2022-07-09\"]),\n",
    "    }\n",
    ")\n",
    "df"
   ]
  },
  {
   "cell_type": "markdown",
   "metadata": {},
   "source": [
    "土日が休みや定休日があるお店だとよく見られるデータである。\n",
    "時系列データで日付に穴があると、解析時に不便な場合があるので、これを埋める事が今回の目的である。"
   ]
  },
  {
   "cell_type": "markdown",
   "metadata": {},
   "source": [
    "## date_range\n",
    "\n",
    "pandasにはdate_rangeという連続的な日次のデータを作成してくれる関数がある。\n",
    "startとendを設定し、frequencyを指定するだけである。\n",
    "freqに`60min`を設定すると1時間毎に、`240min`を指定すると4時間毎のdatetime型のlistを作ることができる。"
   ]
  },
  {
   "cell_type": "code",
   "execution_count": 27,
   "metadata": {},
   "outputs": [
    {
     "data": {
      "text/plain": [
       "DatetimeIndex(['2022-07-01 00:00:00', '2022-07-01 01:00:00',\n",
       "               '2022-07-01 02:00:00', '2022-07-01 03:00:00',\n",
       "               '2022-07-01 04:00:00', '2022-07-01 05:00:00',\n",
       "               '2022-07-01 06:00:00', '2022-07-01 07:00:00',\n",
       "               '2022-07-01 08:00:00', '2022-07-01 09:00:00',\n",
       "               '2022-07-01 10:00:00', '2022-07-01 11:00:00',\n",
       "               '2022-07-01 12:00:00', '2022-07-01 13:00:00',\n",
       "               '2022-07-01 14:00:00', '2022-07-01 15:00:00',\n",
       "               '2022-07-01 16:00:00', '2022-07-01 17:00:00',\n",
       "               '2022-07-01 18:00:00', '2022-07-01 19:00:00',\n",
       "               '2022-07-01 20:00:00', '2022-07-01 21:00:00',\n",
       "               '2022-07-01 22:00:00', '2022-07-01 23:00:00',\n",
       "               '2022-07-02 00:00:00'],\n",
       "              dtype='datetime64[ns]', freq='60T')"
      ]
     },
     "execution_count": 27,
     "metadata": {},
     "output_type": "execute_result"
    }
   ],
   "source": [
    "pd.date_range(\"2022-07-01\", \"2022-07-02\", freq=\"60min\")"
   ]
  },
  {
   "cell_type": "code",
   "execution_count": 28,
   "metadata": {},
   "outputs": [
    {
     "data": {
      "text/plain": [
       "DatetimeIndex(['2022-07-01 00:00:00', '2022-07-01 04:00:00',\n",
       "               '2022-07-01 08:00:00', '2022-07-01 12:00:00',\n",
       "               '2022-07-01 16:00:00', '2022-07-01 20:00:00',\n",
       "               '2022-07-02 00:00:00'],\n",
       "              dtype='datetime64[ns]', freq='240T')"
      ]
     },
     "execution_count": 28,
     "metadata": {},
     "output_type": "execute_result"
    }
   ],
   "source": [
    "pd.date_range(\"2022-07-01\", \"2022-07-02\", freq=\"240min\")"
   ]
  },
  {
   "cell_type": "markdown",
   "metadata": {},
   "source": [
    "## reindex\n",
    "\n",
    "date_rangeとreindexを利用して、欠損データの穴埋めをする。\n",
    "reindexは設定されいるindexに値があるときはその値が割り振られ、値がない場合はNaNが割り振られる。\n",
    "ただ、穴埋めするデータも`fill_value`で指定することができる。今回は0で埋める。"
   ]
  },
  {
   "cell_type": "code",
   "execution_count": 29,
   "metadata": {},
   "outputs": [
    {
     "data": {
      "text/html": [
       "<div>\n",
       "<style scoped>\n",
       "    .dataframe tbody tr th:only-of-type {\n",
       "        vertical-align: middle;\n",
       "    }\n",
       "\n",
       "    .dataframe tbody tr th {\n",
       "        vertical-align: top;\n",
       "    }\n",
       "\n",
       "    .dataframe thead th {\n",
       "        text-align: right;\n",
       "    }\n",
       "</style>\n",
       "<table border=\"1\" class=\"dataframe\">\n",
       "  <thead>\n",
       "    <tr style=\"text-align: right;\">\n",
       "      <th></th>\n",
       "      <th>sales</th>\n",
       "    </tr>\n",
       "  </thead>\n",
       "  <tbody>\n",
       "    <tr>\n",
       "      <th>2022-07-01</th>\n",
       "      <td>1</td>\n",
       "    </tr>\n",
       "    <tr>\n",
       "      <th>2022-07-02</th>\n",
       "      <td>2</td>\n",
       "    </tr>\n",
       "    <tr>\n",
       "      <th>2022-07-03</th>\n",
       "      <td>0</td>\n",
       "    </tr>\n",
       "    <tr>\n",
       "      <th>2022-07-04</th>\n",
       "      <td>0</td>\n",
       "    </tr>\n",
       "    <tr>\n",
       "      <th>2022-07-05</th>\n",
       "      <td>3</td>\n",
       "    </tr>\n",
       "    <tr>\n",
       "      <th>2022-07-06</th>\n",
       "      <td>4</td>\n",
       "    </tr>\n",
       "    <tr>\n",
       "      <th>2022-07-07</th>\n",
       "      <td>0</td>\n",
       "    </tr>\n",
       "    <tr>\n",
       "      <th>2022-07-08</th>\n",
       "      <td>0</td>\n",
       "    </tr>\n",
       "    <tr>\n",
       "      <th>2022-07-09</th>\n",
       "      <td>5</td>\n",
       "    </tr>\n",
       "  </tbody>\n",
       "</table>\n",
       "</div>"
      ],
      "text/plain": [
       "            sales\n",
       "2022-07-01      1\n",
       "2022-07-02      2\n",
       "2022-07-03      0\n",
       "2022-07-04      0\n",
       "2022-07-05      3\n",
       "2022-07-06      4\n",
       "2022-07-07      0\n",
       "2022-07-08      0\n",
       "2022-07-09      5"
      ]
     },
     "execution_count": 29,
     "metadata": {},
     "output_type": "execute_result"
    }
   ],
   "source": [
    "start_time = df[\"date\"].tolist()[0]\n",
    "end_time = df[\"date\"].tolist()[-1]\n",
    "\n",
    "time_list = pd.date_range(start_time, end_time, freq=\"1d\")\n",
    "df.set_index(\"date\").reindex(time_list, fill_value=0)"
   ]
  },
  {
   "cell_type": "markdown",
   "metadata": {},
   "source": [
    "7/3や7/4などの欠損データが0で穴埋めされている。\n",
    "\n",
    "意味がないが、reindexの引数のlistに応じてデータを並び替えることができるので、`time_list[::-1]`とすると、順序を逆にすることができる。"
   ]
  },
  {
   "cell_type": "code",
   "execution_count": 32,
   "metadata": {},
   "outputs": [
    {
     "data": {
      "text/html": [
       "<div>\n",
       "<style scoped>\n",
       "    .dataframe tbody tr th:only-of-type {\n",
       "        vertical-align: middle;\n",
       "    }\n",
       "\n",
       "    .dataframe tbody tr th {\n",
       "        vertical-align: top;\n",
       "    }\n",
       "\n",
       "    .dataframe thead th {\n",
       "        text-align: right;\n",
       "    }\n",
       "</style>\n",
       "<table border=\"1\" class=\"dataframe\">\n",
       "  <thead>\n",
       "    <tr style=\"text-align: right;\">\n",
       "      <th></th>\n",
       "      <th>sales</th>\n",
       "    </tr>\n",
       "  </thead>\n",
       "  <tbody>\n",
       "    <tr>\n",
       "      <th>2022-07-09</th>\n",
       "      <td>5</td>\n",
       "    </tr>\n",
       "    <tr>\n",
       "      <th>2022-07-08</th>\n",
       "      <td>0</td>\n",
       "    </tr>\n",
       "    <tr>\n",
       "      <th>2022-07-07</th>\n",
       "      <td>0</td>\n",
       "    </tr>\n",
       "    <tr>\n",
       "      <th>2022-07-06</th>\n",
       "      <td>4</td>\n",
       "    </tr>\n",
       "    <tr>\n",
       "      <th>2022-07-05</th>\n",
       "      <td>3</td>\n",
       "    </tr>\n",
       "    <tr>\n",
       "      <th>2022-07-04</th>\n",
       "      <td>0</td>\n",
       "    </tr>\n",
       "    <tr>\n",
       "      <th>2022-07-03</th>\n",
       "      <td>0</td>\n",
       "    </tr>\n",
       "    <tr>\n",
       "      <th>2022-07-02</th>\n",
       "      <td>2</td>\n",
       "    </tr>\n",
       "    <tr>\n",
       "      <th>2022-07-01</th>\n",
       "      <td>1</td>\n",
       "    </tr>\n",
       "  </tbody>\n",
       "</table>\n",
       "</div>"
      ],
      "text/plain": [
       "            sales\n",
       "2022-07-09      5\n",
       "2022-07-08      0\n",
       "2022-07-07      0\n",
       "2022-07-06      4\n",
       "2022-07-05      3\n",
       "2022-07-04      0\n",
       "2022-07-03      0\n",
       "2022-07-02      2\n",
       "2022-07-01      1"
      ]
     },
     "execution_count": 32,
     "metadata": {},
     "output_type": "execute_result"
    }
   ],
   "source": [
    "df.set_index(\"date\").reindex(time_list[::-1], fill_value=0)"
   ]
  },
  {
   "cell_type": "markdown",
   "metadata": {},
   "source": [
    "date_rangeもreindexも使用頻度は高くないので、忘れないようにする。"
   ]
  }
 ],
 "metadata": {
  "kernelspec": {
   "display_name": "rec",
   "language": "python",
   "name": "rec"
  },
  "language_info": {
   "codemirror_mode": {
    "name": "ipython",
    "version": 3
   },
   "file_extension": ".py",
   "mimetype": "text/x-python",
   "name": "python",
   "nbconvert_exporter": "python",
   "pygments_lexer": "ipython3",
   "version": "3.8.13"
  },
  "widgets": {
   "state": {},
   "version": "1.1.2"
  }
 },
 "nbformat": 4,
 "nbformat_minor": 4
}
