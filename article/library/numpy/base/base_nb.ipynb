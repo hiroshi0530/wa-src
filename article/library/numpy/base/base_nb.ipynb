{
 "cells": [
  {
   "cell_type": "markdown",
   "metadata": {},
   "source": [
    "## Numpy個人的tips\n",
    "\n",
    "numpyもデータ分析や数値計算には欠かせないツールの一つです。機械学習などを実装していると必ず必要とされるライブラリです。個人的な備忘録としてメモを残しておきます。詳細は以下の公式ページを参照してください。\n",
    "- [公式ページ](https://docs.scipy.org/doc/numpy/reference/)\n",
    "\n",
    "### 目次\n",
    "- [1. 基本的な演算](/article/library/numpy/base/) <= 今ここ\n",
    "- [2. 三角関数](/article/library/numpy/trigonometric/)\n",
    "- [3. 指数・対数](/article/library/numpy/explog/)\n",
    "- [4. 統計関数](/article/library/numpy/statistics/)\n",
    "- [5. 線形代数](/article/library/numpy/matrix/)\n",
    "- [6. サンプリング](/article/library/numpy/sampling/)\n",
    "- [7. その他](/article/library/numpy/misc/)\n",
    "\n",
    "### github\n",
    "- githubのjupyter notebook形式のファイルは[こちら](https://github.com/hiroshi0530/wa/blob/master/src/numpy/base/base_nb.ipynb)\n",
    "\n",
    "### 筆者の環境\n",
    "筆者の環境とimportの方法は以下の通りです。"
   ]
  },
  {
   "cell_type": "code",
   "execution_count": 1,
   "metadata": {},
   "outputs": [
    {
     "name": "stdout",
     "output_type": "stream",
     "text": [
      "ProductName:\tMac OS X\r\n",
      "ProductVersion:\t10.14.6\r\n",
      "BuildVersion:\t18G95\r\n"
     ]
    }
   ],
   "source": [
    "!sw_vers"
   ]
  },
  {
   "cell_type": "code",
   "execution_count": 2,
   "metadata": {},
   "outputs": [
    {
     "name": "stdout",
     "output_type": "stream",
     "text": [
      "Python 3.5.5 :: Anaconda, Inc.\r\n"
     ]
    }
   ],
   "source": [
    "!python -V"
   ]
  },
  {
   "cell_type": "code",
   "execution_count": 3,
   "metadata": {},
   "outputs": [
    {
     "data": {
      "text/plain": [
       "'1.18.1'"
      ]
     },
     "execution_count": 3,
     "metadata": {},
     "output_type": "execute_result"
    }
   ],
   "source": [
    "import numpy as np\n",
    "\n",
    "np.__version__"
   ]
  },
  {
   "cell_type": "markdown",
   "metadata": {},
   "source": [
    "## スカラー、ベクトル、行列、テンソル\n",
    "\n",
    "- スカラー : 0階のテンソル\n",
    "- ベクトル : 1階のテンソル\n",
    "- 行列 : 2階のテンソル"
   ]
  },
  {
   "cell_type": "markdown",
   "metadata": {},
   "source": [
    "## 情報の取得\n",
    "ndarray型の情報を以下の様な属性値や組み込み関数を指定することで取得する事が出来ます。\n",
    "\n",
    "- len()\n",
    "    - 最初の要素の次元の長さを取得\n",
    "- shape\n",
    "    - 各次元の大きさ（サイズ）\n",
    "- ndim\n",
    "    - 次元\n",
    "- size\n",
    "    - 全要素数\n",
    "- itemsize\n",
    "    - 要素のメモリ容量\n",
    "- nbytes\n",
    "    - バイト数\n",
    "- dtype\n",
    "    - 型\n",
    "- data\n",
    "    - メモリアドレス\n",
    "- flags\n",
    "    - メモリ情報\n",
    "\n",
    "使用例は以下の通りです。"
   ]
  },
  {
   "cell_type": "code",
   "execution_count": 4,
   "metadata": {},
   "outputs": [
    {
     "name": "stdout",
     "output_type": "stream",
     "text": [
      "a            :  [0 1]\n",
      "len(a)       :  2\n",
      "a.shape      :  (2,)\n",
      "a.ndim       :  1\n",
      "a.size       :  2\n",
      "a.itemsize   :  8\n",
      "a.nbytes     :  16\n",
      "a.dtype      :  int64\n",
      "a.data       :  <memory at 0x10a6c7d08>\n",
      "a.flgas      : \n",
      "  C_CONTIGUOUS : True\n",
      "  F_CONTIGUOUS : True\n",
      "  OWNDATA : True\n",
      "  WRITEABLE : True\n",
      "  ALIGNED : True\n",
      "  WRITEBACKIFCOPY : False\n",
      "  UPDATEIFCOPY : False\n",
      "\n",
      "\n",
      "b            : \n",
      "[[0 1]\n",
      " [2 3]]\n",
      "len(b)       :  2\n",
      "b.shape      :  (2, 2)\n",
      "b.ndim       :  2\n",
      "b.size       :  4\n",
      "b.itemsize   :  8\n",
      "b.nbytes     :  32\n",
      "b.dtype      :  int64\n",
      "b.data       :  <memory at 0x10a6f73a8>\n",
      "b.flgas      : \n",
      "  C_CONTIGUOUS : True\n",
      "  F_CONTIGUOUS : False\n",
      "  OWNDATA : False\n",
      "  WRITEABLE : True\n",
      "  ALIGNED : True\n",
      "  WRITEBACKIFCOPY : False\n",
      "  UPDATEIFCOPY : False\n",
      "\n",
      "\n",
      "c            : \n",
      "[[[ 0  1]\n",
      "  [ 2  3]]\n",
      "\n",
      " [[ 4  5]\n",
      "  [ 6  7]]\n",
      "\n",
      " [[ 8  9]\n",
      "  [10 11]]]\n",
      "len(c)       :  3\n",
      "c.shape      :  (3, 2, 2)\n",
      "c.ndim       :  3\n",
      "c.size       :  12\n",
      "c.itemsize   :  8\n",
      "c.nbytes     :  96\n",
      "c.dtype      :  int64\n",
      "c.data       :  <memory at 0x109a18138>\n",
      "c.flgas      : \n",
      "  C_CONTIGUOUS : True\n",
      "  F_CONTIGUOUS : False\n",
      "  OWNDATA : False\n",
      "  WRITEABLE : True\n",
      "  ALIGNED : True\n",
      "  WRITEBACKIFCOPY : False\n",
      "  UPDATEIFCOPY : False\n",
      "\n"
     ]
    }
   ],
   "source": [
    "a = np.array([i for i in range(2)])\n",
    "b = np.array([i for i in range(4)]).reshape(-1,2)\n",
    "c = np.array([i for i in range(12)]).reshape(-1,2,2)\n",
    "\n",
    "print('a            : ', a)\n",
    "print('len(a)       : ', len(a))\n",
    "print('a.shape      : ', a.shape)\n",
    "print('a.ndim       : ', a.ndim)\n",
    "print('a.size       : ', a.size)\n",
    "print('a.itemsize   : ', a.itemsize)\n",
    "print('a.nbytes     : ', a.nbytes)\n",
    "print('a.dtype      : ', a.dtype)\n",
    "print('a.data       : ', a.data)\n",
    "print('a.flgas      : \\n{}'.format(a.flags))\n",
    "print()\n",
    "print('b            : \\n{}'.format(b))\n",
    "print('len(b)       : ', len(b))\n",
    "print('b.shape      : ', b.shape)\n",
    "print('b.ndim       : ', b.ndim)\n",
    "print('b.size       : ', b.size)\n",
    "print('b.itemsize   : ', b.itemsize)\n",
    "print('b.nbytes     : ', b.nbytes)\n",
    "print('b.dtype      : ', b.dtype)\n",
    "print('b.data       : ', b.data)\n",
    "print('b.flgas      : \\n{}'.format(b.flags))\n",
    "print()\n",
    "print('c            : \\n{}'.format(c))\n",
    "print('len(c)       : ', len(c))\n",
    "print('c.shape      : ', c.shape)\n",
    "print('c.ndim       : ', c.ndim)\n",
    "print('c.size       : ', c.size)\n",
    "print('c.itemsize   : ', c.itemsize)\n",
    "print('c.nbytes     : ', c.nbytes)\n",
    "print('c.dtype      : ', c.dtype)\n",
    "print('c.data       : ', c.data)\n",
    "print('c.flgas      : \\n{}'.format(c.flags))\n"
   ]
  },
  {
   "cell_type": "markdown",
   "metadata": {},
   "source": [
    "### flagsについて\n",
    "flagsは様々な情報を返してくれます。ここでは変数のメモリの格納方法について説明します。\n",
    "\n",
    "- [https://docs.scipy.org/doc/numpy/reference/generated/numpy.ndarray.flags.html](https://docs.scipy.org/doc/numpy/reference/generated/numpy.ndarray.flags.html)\n",
    "\n",
    "リンクの公式ページを見ればわかりますが、配列のメモリへの割り当ての方法は2種類あります。一つは、C_CONTIGUOUSで、も一つが、F_CONTIGUOUSです。\n",
    "C_というのはC言語方式という意味で、F_というのはFORTRAN形式である事意味しています。C言語方式では\n",
    "\n",
    "$$\n",
    "  \\left(\n",
    "    \\begin{array}{cc}\n",
    "      a & b  \\\\\\\\\n",
    "      c & d \n",
    "    \\end{array}\n",
    "  \\right)\n",
    "$$\n",
    "\n",
    "という変数をメモリ以上に\n",
    "\n",
    "$$\n",
    "a,c,b,d\n",
    "$$\n",
    "\n",
    "という順番で格納します。FORTRAN方式では、\n",
    "\n",
    "$$\n",
    "a,b,c,d\n",
    "$$\n",
    "\n",
    "とう順番で格納します。普段はあまり意識することはありませんが、備忘録として記載しておきます。"
   ]
  },
  {
   "cell_type": "markdown",
   "metadata": {},
   "source": [
    "## numpyのデータ型\n",
    "\n",
    "numpyの実際の数値計算部分はC言語で実装されています。よってデータを定義するときにデータの型を指定することが出来ます。この情報によりメモリ上に確保する量を最適化することが出来ます。大規模な数値計算に慣れなるほど、重要なプロパティになります。\n",
    "\n",
    "本家の[サイト](https://numpy.org/devdocs/user/basics.types.html)にはたくさんのデータタイプが定義されているますが、実際に使うのはそれほど多くありません。\n",
    "\n",
    "<div class=\"table_center_80\">\n",
    "\n",
    "|表記1 |表記2|表記3|データ型 |説明  |\n",
    "|---|---|---|---|---|\n",
    "|np.bool |-| ?|bool  |真偽値  |\n",
    "|np.int8 | int8 | i1  |int8  |8ビット符号付き整数 |\n",
    "|np.int16 | int16 | i2  |int16  |16ビット符号付き整数 |\n",
    "|np.int32 | int32 | i4  |int32  |32ビット符号付き整数 |\n",
    "|np.int64 | int64 | i8  |int64  |64ビット符号付き整数 |\n",
    "|np.uint8 | uint8 | u1  |uint8  |8ビット符号なし整数 |\n",
    "|np.uint16 | uint16 | u2  |uint16  |16ビット符号なし整数 |\n",
    "|np.uint32 | uint32 | u4  |uint32  |32ビット符号なし整数 |\n",
    "|np.uint64 | uint64 | u8  |uint64  |64ビット符号なし整数 |\n",
    "|np.float16 | float16 | f2  |float16  |半精度浮動小数点型 |\n",
    "|np.float32 | float32 | f4  |float32  |単精度浮動小数点型 |\n",
    "|np.float64 | float64 | f8  |float64  |倍精度浮動小数点型 |\n",
    "|np.float128 | float128 | f16  |float128  |4倍精度浮動小数点型 |\n",
    "\n",
    "</div>\n",
    "\n",
    "表記1、表記2、表記3は定義の方法としては同じです。"
   ]
  },
  {
   "cell_type": "code",
   "execution_count": 5,
   "metadata": {},
   "outputs": [
    {
     "name": "stdout",
     "output_type": "stream",
     "text": [
      "int8\n",
      "int8\n",
      "int8\n",
      "bool\n",
      "bool\n"
     ]
    }
   ],
   "source": [
    "a = np.array([i for i in range(5)  ], dtype=np.int8)\n",
    "b = np.array([i for i in range(5)  ], dtype='int8')\n",
    "c = np.array([i for i in range(5)  ], dtype='i1')\n",
    "\n",
    "print(a.dtype)\n",
    "print(b.dtype)\n",
    "print(c.dtype)\n",
    "\n",
    "d = np.array(True, dtype='?')\n",
    "e = np.array(True, dtype=np.bool)\n",
    "\n",
    "print(d.dtype)\n",
    "print(e.dtype)"
   ]
  },
  {
   "cell_type": "markdown",
   "metadata": {},
   "source": [
    "## axis\n",
    "numpyは高階のテンソルを利用する事ができ、平均や合計値などの統計情報を計算する際、どの方向に計算するか指定することが出来ます。その方向を指定する際、axisをいうオプションを利用します。\n",
    "\n",
    "### axisの方向\n",
    "![png](base_nb_files_local/axis.png)\n",
    "\n",
    "### 例\n",
    "言葉で説明するより実際に計算をさせてみた方が早いと思います。"
   ]
  },
  {
   "cell_type": "code",
   "execution_count": 6,
   "metadata": {},
   "outputs": [
    {
     "name": "stdout",
     "output_type": "stream",
     "text": [
      "\n",
      "####### ベクトルの場合 #######\n",
      "\n",
      "a : \n",
      "[0 1 2 3 4 5 6 7 8 9]\n",
      "\n",
      "np.mean(a) : \n",
      "4.5\n",
      "\n",
      "np.mean(a, axis=0) : \n",
      "4.5\n",
      "\n",
      "####### 行列の場合 #######\n",
      "\n",
      "a : \n",
      "[[0 1 2 3 4]\n",
      " [5 6 7 8 9]]\n",
      "\n",
      "np.mean(a) : \n",
      "4.5\n",
      "\n",
      "np.mean(a, axis=0) : \n",
      "[2.5 3.5 4.5 5.5 6.5]\n",
      "\n",
      "np.mean(a, axis=1) : \n",
      "[2. 7.]\n",
      "\n",
      "####### 3階のテンソルの場合 #######\n",
      "\n",
      "a : \n",
      "[[[ 0  1  2  3]\n",
      "  [ 4  5  6  7]\n",
      "  [ 8  9 10 11]]\n",
      "\n",
      " [[12 13 14 15]\n",
      "  [16 17 18 19]\n",
      "  [20 21 22 23]]]\n",
      "\n",
      "np.mean(a) : \n",
      "11.5\n",
      "\n",
      "np.mean(a, axis=0) : \n",
      "[[ 6.  7.  8.  9.]\n",
      " [10. 11. 12. 13.]\n",
      " [14. 15. 16. 17.]]\n",
      "\n",
      "np.mean(a, axis=1) : \n",
      "[[ 4.  5.  6.  7.]\n",
      " [16. 17. 18. 19.]]\n",
      "\n",
      "np.mean(a, axis=2) : \n",
      "[[ 1.5  5.5  9.5]\n",
      " [13.5 17.5 21.5]]\n"
     ]
    }
   ],
   "source": [
    "a = np.arange(10)\n",
    "\n",
    "print('\\n####### ベクトルの場合 #######')\n",
    "print('\\na : ')\n",
    "print(a)\n",
    "print('\\nnp.mean(a) : ')\n",
    "print(np.mean(a))\n",
    "print('\\nnp.mean(a, axis=0) : ')\n",
    "print(np.mean(a, axis=0))\n",
    "\n",
    "print('\\n####### 行列の場合 #######')\n",
    "a = np.arange(10).reshape(2,5)\n",
    "print('\\na : ')\n",
    "print(a)\n",
    "print('\\nnp.mean(a) : ')\n",
    "print(np.mean(a))\n",
    "print('\\nnp.mean(a, axis=0) : ')\n",
    "print(np.mean(a, axis=0))\n",
    "print('\\nnp.mean(a, axis=1) : ')\n",
    "print(np.mean(a, axis=1))\n",
    "\n",
    "print('\\n####### 3階のテンソルの場合 #######')\n",
    "a = np.arange(24).reshape(2,3,4)\n",
    "print('\\na : ')\n",
    "print(a)\n",
    "print('\\nnp.mean(a) : ')\n",
    "print(np.mean(a))\n",
    "print('\\nnp.mean(a, axis=0) : ')\n",
    "print(np.mean(a, axis=0))\n",
    "print('\\nnp.mean(a, axis=1) : ')\n",
    "print(np.mean(a, axis=1))\n",
    "print('\\nnp.mean(a, axis=2) : ')\n",
    "print(np.mean(a, axis=2))"
   ]
  },
  {
   "cell_type": "markdown",
   "metadata": {},
   "source": [
    "## ブロードキャスト\n",
    "numpyは行列やベクトルとスカラー量の演算がされたとき、行列やベクトルのすべての要素に対してスカラー量の演算が実行されます。最初慣れないと勘違いしてしまうので、押さえておきましょう。スカラー量である$a$がベクトル$b$の全成分に対して演算されていることがわかります。"
   ]
  },
  {
   "cell_type": "code",
   "execution_count": 7,
   "metadata": {},
   "outputs": [
    {
     "name": "stdout",
     "output_type": "stream",
     "text": [
      "a     :  10\n",
      "b     :  [1 2]\n",
      "a + b :  [11 12]\n",
      "a * b :  [10 20]\n",
      "b / a :  [0.1 0.2]\n"
     ]
    }
   ],
   "source": [
    "a = 10\n",
    "b = np.array([1, 2])\n",
    "\n",
    "print('a     : ',a)\n",
    "print('b     : ',b)\n",
    "print('a + b : ',a + b)\n",
    "print('a * b : ',a * b)\n",
    "print('b / a : ',b / a)"
   ]
  },
  {
   "cell_type": "markdown",
   "metadata": {},
   "source": [
    "## スライシング\n",
    "スライシングはndarray形式で定義された変数から、特定の数値をスライスして取り出すための手法です。とても便利なので、ぜひとも覚えておきたいです。"
   ]
  },
  {
   "cell_type": "code",
   "execution_count": 8,
   "metadata": {},
   "outputs": [
    {
     "name": "stdout",
     "output_type": "stream",
     "text": [
      "a : \n",
      "[[ 0  1  2]\n",
      " [ 3  4  5]\n",
      " [ 6  7  8]\n",
      " [ 9 10 11]]\n",
      "\n",
      "a.shape :  (4, 3)\n",
      "\n",
      "a[0,1]    :  1 ## row=1, col=1の要素\n",
      "\n",
      "a[2,2]    :  8 ## row=2, col=2の要素\n",
      "\n",
      "a[1]      :  [3 4 5] ## row=1の要素\n",
      "\n",
      "a[-1]     :  [ 9 10 11] ## 最後の行の要素\n",
      "\n",
      "2行目から3行目、1列目から2列目までの要素\n",
      "a[1:3,0:2]  : \n",
      "[[3 4]\n",
      " [6 7]]\n",
      "\n",
      "すべての列、1列目から1列おきのすべての要素\n",
      "a[:,::2]  : \n",
      "[[ 0  2]\n",
      " [ 3  5]\n",
      " [ 6  8]\n",
      " [ 9 11]]\n",
      "\n",
      "1行目から1行おきのすべての要素\n",
      "a[::2]    : \n",
      "[[0 1 2]\n",
      " [6 7 8]]\n",
      "\n",
      "2行目から1行おきのすべての要素\n",
      "a[1::2]   : \n",
      "[[ 3  4  5]\n",
      " [ 9 10 11]]\n",
      "\n"
     ]
    }
   ],
   "source": [
    "a = np.arange(12).reshape(-1,3)\n",
    "\n",
    "print('a : \\n{}'.format(a))\n",
    "print()\n",
    "print('a.shape : ',a.shape)\n",
    "print()\n",
    "print('a[0,1]    : ', a[0,1], '## row=1, col=1の要素') \n",
    "print()\n",
    "print('a[2,2]    : ', a[2,2], '## row=2, col=2の要素')\n",
    "print()\n",
    "print('a[1]      : ', a[1], '## row=1の要素')\n",
    "print()\n",
    "print('a[-1]     : ', a[-1], '## 最後の行の要素')\n",
    "print()\n",
    "print('2行目から3行目、1列目から2列目までの要素')\n",
    "print('a[1:3,0:2]  : \\n{}'.format(a[1:3,0:2]))\n",
    "print()\n",
    "print('すべての列、1列目から1列おきのすべての要素')\n",
    "print('a[:,::2]  : \\n{}'.format(a[:,::2]))\n",
    "print()\n",
    "print('1行目から1行おきのすべての要素')\n",
    "print('a[::2]    : \\n{}'.format(a[::2]))\n",
    "print()\n",
    "print('2行目から1行おきのすべての要素')\n",
    "print('a[1::2]   : \\n{}'.format(a[1::2]))\n",
    "print()"
   ]
  },
  {
   "cell_type": "markdown",
   "metadata": {},
   "source": [
    "## all, any, where\n",
    "\n",
    "- all:要素のすべてがtrueならtrueを返す\n",
    "- any:要素の少なくても一つがtrueならtrueを返す"
   ]
  },
  {
   "cell_type": "code",
   "execution_count": 9,
   "metadata": {},
   "outputs": [
    {
     "name": "stdout",
     "output_type": "stream",
     "text": [
      "False\n",
      "True\n"
     ]
    }
   ],
   "source": [
    "a = np.array([[0,1],[1,1]])\n",
    "\n",
    "print(a.all())\n",
    "print(a.any())"
   ]
  },
  {
   "cell_type": "markdown",
   "metadata": {},
   "source": [
    "whereで条件を満たす要素のインデックスを返します。"
   ]
  },
  {
   "cell_type": "code",
   "execution_count": 10,
   "metadata": {},
   "outputs": [
    {
     "name": "stdout",
     "output_type": "stream",
     "text": [
      "(array([0]), array([1]))\n"
     ]
    }
   ],
   "source": [
    "a = np.array([[0,2],[1,1]])\n",
    "\n",
    "print(np.where(a>1)) ## 1より大きい2のインデックスである(0,1)を返す"
   ]
  },
  {
   "cell_type": "markdown",
   "metadata": {},
   "source": [
    "(0,1)がwhere条件に当てはまるインデックスとなります。"
   ]
  },
  {
   "cell_type": "markdown",
   "metadata": {},
   "source": [
    "### whereの三項演算子\n",
    "whereを利用すると三項演算子の利用に利用できます。最初の条件が満たされていれば、第二引数を、満たされていなければ、第三引数の要素を取ります。この形のwhereは頻繁に利用します。"
   ]
  },
  {
   "cell_type": "code",
   "execution_count": 11,
   "metadata": {},
   "outputs": [
    {
     "name": "stdout",
     "output_type": "stream",
     "text": [
      "a :  [[ 1  3  5]\n",
      " [ 7  9 11]]\n",
      "6より大きい要素はそのままで、小さければ0とする\n"
     ]
    },
    {
     "data": {
      "text/plain": [
       "array([[ 0,  0,  0],\n",
       "       [ 7,  9, 11]])"
      ]
     },
     "execution_count": 11,
     "metadata": {},
     "output_type": "execute_result"
    }
   ],
   "source": [
    "a = np.array([2 *i +1 for i in range(6)]).reshape(2,3)\n",
    "print('a : ', a)\n",
    "print('6より大きい要素はそのままで、小さければ0とする')\n",
    "np.where(a>6,a,0)"
   ]
  },
  {
   "cell_type": "code",
   "execution_count": 12,
   "metadata": {},
   "outputs": [
    {
     "name": "stdout",
     "output_type": "stream",
     "text": [
      "[[ 1  3  5]\n",
      " [ 7  9 11]]\n",
      "[[0. 0. 0.]\n",
      " [0. 0. 0.]]\n",
      "aの要素が3で割り切れれば、該当するbの値を、そうでなければaの値を返す\n"
     ]
    },
    {
     "data": {
      "text/plain": [
       "array([[ 1.,  0.,  5.],\n",
       "       [ 7.,  0., 11.]])"
      ]
     },
     "execution_count": 12,
     "metadata": {},
     "output_type": "execute_result"
    }
   ],
   "source": [
    "a = np.array([2 *i +1 for i in range(6)]).reshape(2,3)\n",
    "b = np.zeros((2,3))\n",
    "\n",
    "print(a)\n",
    "print(b)\n",
    "print('aの要素が3で割り切れれば、該当するbの値を、そうでなければaの値を返す')\n",
    "np.where(a%3==0, b, a)"
   ]
  },
  {
   "cell_type": "markdown",
   "metadata": {},
   "source": [
    "## 基本定数"
   ]
  },
  {
   "cell_type": "markdown",
   "metadata": {},
   "source": [
    "### 自然対数の底"
   ]
  },
  {
   "cell_type": "code",
   "execution_count": 13,
   "metadata": {},
   "outputs": [
    {
     "data": {
      "text/plain": [
       "2.718281828459045"
      ]
     },
     "execution_count": 13,
     "metadata": {},
     "output_type": "execute_result"
    }
   ],
   "source": [
    "np.e"
   ]
  },
  {
   "cell_type": "markdown",
   "metadata": {},
   "source": [
    "### 円周率"
   ]
  },
  {
   "cell_type": "code",
   "execution_count": 14,
   "metadata": {},
   "outputs": [
    {
     "data": {
      "text/plain": [
       "3.141592653589793"
      ]
     },
     "execution_count": 14,
     "metadata": {},
     "output_type": "execute_result"
    }
   ],
   "source": [
    "np.pi"
   ]
  },
  {
   "cell_type": "markdown",
   "metadata": {},
   "source": [
    "## 基本的な四則演算"
   ]
  },
  {
   "cell_type": "markdown",
   "metadata": {},
   "source": [
    "### np.add(x,y)\n",
    "要素ごとの足し算です。一般的なベクトルの加法です。"
   ]
  },
  {
   "cell_type": "code",
   "execution_count": 15,
   "metadata": {},
   "outputs": [
    {
     "data": {
      "text/plain": [
       "array([5., 5.])"
      ]
     },
     "execution_count": 15,
     "metadata": {},
     "output_type": "execute_result"
    }
   ],
   "source": [
    "a = np.array([1.,2.])\n",
    "b = np.array([4.,3.])\n",
    "np.add(a,b)"
   ]
  },
  {
   "cell_type": "markdown",
   "metadata": {},
   "source": [
    "### np.reciprocal(x)\n",
    "要素ごとの逆数になります。"
   ]
  },
  {
   "cell_type": "code",
   "execution_count": 16,
   "metadata": {},
   "outputs": [
    {
     "data": {
      "text/plain": [
       "array([0.25      , 0.33333333])"
      ]
     },
     "execution_count": 16,
     "metadata": {},
     "output_type": "execute_result"
    }
   ],
   "source": [
    "b = np.array([4.,3.])\n",
    "np.reciprocal(b)"
   ]
  },
  {
   "cell_type": "markdown",
   "metadata": {},
   "source": [
    "この関数について面白い事に気づきました。python3系では、整数型の割り算であっても小数点以下まで計算してくれます。python2系では、整数部分だけ表示されます。しかし、逆数を計算するこの関数で整数型の逆数を計算すると、整数部分しか表示してくれません。データ型を浮動小数型である事を明示するとちゃんと小数点以下まで計算してくれます。"
   ]
  },
  {
   "cell_type": "code",
   "execution_count": 17,
   "metadata": {},
   "outputs": [
    {
     "name": "stdout",
     "output_type": "stream",
     "text": [
      "0\n",
      "0.125\n",
      "0.125\n"
     ]
    }
   ],
   "source": [
    "# print(1/8) # => 0.125が返る@python3系\n",
    "# print(1/8) # => 0が返る@python2系\n",
    "print(np.reciprocal(8))\n",
    "print(np.reciprocal(8, dtype='float16'))\n",
    "print(np.reciprocal(8.))"
   ]
  },
  {
   "cell_type": "markdown",
   "metadata": {},
   "source": [
    "### np.multiply(x,y)\n",
    "要素ごとのかけ算です。アダマール積といわれています。ベクトルの内積とは異なります。"
   ]
  },
  {
   "cell_type": "code",
   "execution_count": 18,
   "metadata": {},
   "outputs": [
    {
     "data": {
      "text/plain": [
       "array([4., 6.])"
      ]
     },
     "execution_count": 18,
     "metadata": {},
     "output_type": "execute_result"
    }
   ],
   "source": [
    "a = np.array([1.,2.])\n",
    "b = np.array([4.,3.])\n",
    "np.multiply(a,b)"
   ]
  },
  {
   "cell_type": "markdown",
   "metadata": {},
   "source": [
    "### np.divide(x,y)\n",
    "要素ごとの割り算の商を求めます。"
   ]
  },
  {
   "cell_type": "code",
   "execution_count": 19,
   "metadata": {},
   "outputs": [
    {
     "data": {
      "text/plain": [
       "array([4. , 1.5])"
      ]
     },
     "execution_count": 19,
     "metadata": {},
     "output_type": "execute_result"
    }
   ],
   "source": [
    "a = np.array([1.,2.])\n",
    "b = np.array([4.,3.])\n",
    "np.divide(b,a)"
   ]
  },
  {
   "cell_type": "markdown",
   "metadata": {},
   "source": [
    "### np.mod(x,y)\n",
    "要素ごとの割り算のあまりを求めます。"
   ]
  },
  {
   "cell_type": "code",
   "execution_count": 20,
   "metadata": {},
   "outputs": [
    {
     "name": "stdout",
     "output_type": "stream",
     "text": [
      "[2. 1.]\n"
     ]
    }
   ],
   "source": [
    "a = np.array([3.,2.])\n",
    "b = np.array([11.,3.])\n",
    "print(np.mod(b,a))"
   ]
  },
  {
   "cell_type": "markdown",
   "metadata": {},
   "source": [
    "### np.divmod(x,y)\n",
    "要素ごとの割り算の商とあまりを同時に求めます。"
   ]
  },
  {
   "cell_type": "code",
   "execution_count": 21,
   "metadata": {},
   "outputs": [
    {
     "name": "stdout",
     "output_type": "stream",
     "text": [
      "(array([3., 1.]), array([2., 1.]))\n"
     ]
    }
   ],
   "source": [
    "a = np.array([3.,2.])\n",
    "b = np.array([11.,3.])\n",
    "print(np.divmod(b,a))"
   ]
  },
  {
   "cell_type": "markdown",
   "metadata": {},
   "source": [
    "### np.power(x,y)\n",
    "累乗の計算です。ベクトルを指定するとベクトル同士の指数の計算になります。\n",
    "\n",
    "#### $2^3=8$"
   ]
  },
  {
   "cell_type": "code",
   "execution_count": 22,
   "metadata": {},
   "outputs": [
    {
     "data": {
      "text/plain": [
       "8"
      ]
     },
     "execution_count": 22,
     "metadata": {},
     "output_type": "execute_result"
    }
   ],
   "source": [
    "np.power(2,3)"
   ]
  },
  {
   "cell_type": "markdown",
   "metadata": {},
   "source": [
    "#### $4^1$ と $3^2$"
   ]
  },
  {
   "cell_type": "code",
   "execution_count": 23,
   "metadata": {},
   "outputs": [
    {
     "data": {
      "text/plain": [
       "array([4., 9.])"
      ]
     },
     "execution_count": 23,
     "metadata": {},
     "output_type": "execute_result"
    }
   ],
   "source": [
    "a = np.array([1.,2.])\n",
    "b = np.array([4.,3.])\n",
    "np.power(b,a)"
   ]
  },
  {
   "cell_type": "markdown",
   "metadata": {},
   "source": [
    "### np.subtract(x,y)\n",
    "要素ごとの引き算です。"
   ]
  },
  {
   "cell_type": "code",
   "execution_count": 24,
   "metadata": {},
   "outputs": [
    {
     "data": {
      "text/plain": [
       "array([3., 1.])"
      ]
     },
     "execution_count": 24,
     "metadata": {},
     "output_type": "execute_result"
    }
   ],
   "source": [
    "a = np.array([1.,2.])\n",
    "b = np.array([4.,3.])\n",
    "np.subtract(b,a)"
   ]
  }
 ],
 "metadata": {
  "kernelspec": {
   "display_name": "Python 3",
   "language": "python",
   "name": "python3"
  },
  "language_info": {
   "codemirror_mode": {
    "name": "ipython",
    "version": 3
   },
   "file_extension": ".py",
   "mimetype": "text/x-python",
   "name": "python",
   "nbconvert_exporter": "python",
   "pygments_lexer": "ipython3",
   "version": "3.5.5"
  },
  "widgets": {
   "state": {},
   "version": "1.1.2"
  }
 },
 "nbformat": 4,
 "nbformat_minor": 2
}
