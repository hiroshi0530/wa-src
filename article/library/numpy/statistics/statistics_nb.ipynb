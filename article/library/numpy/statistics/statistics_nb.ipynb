{
 "cells": [
  {
   "cell_type": "markdown",
   "metadata": {},
   "source": [
    "## Numpy個人的tips\n",
    "\n",
    "numpyもデータ分析や数値計算には欠かせないツールの一つです。機械学習などを実装していると必ず必要とされるライブラリです。個人的な備忘録としてメモを残しておきます。詳細は以下の公式ページを参照してください。\n",
    "- [公式ページ](https://docs.scipy.org/doc/numpy/reference/)\n",
    "\n",
    "### 目次\n",
    "- [1. 基本的な演算](/article/library/numpy/base/)\n",
    "- [2. 三角関数](/article/library/numpy/trigonometric/)\n",
    "- [3. 指数・対数](/article/library/numpy/explog/)\n",
    "- [4. 統計関数](/article/library/numpy/statistics/) <= 今ここ\n",
    "- [5. 線形代数](/article/library/numpy/matrix/)\n",
    "- [6. サンプリング](/article/library/numpy/sampling/)\n",
    "- [7. その他](/article/library/numpy/misc/)\n",
    "\n",
    "### github\n",
    "- githubのjupyter notebook形式のファイルは[こちら](https://github.com/hiroshi0530/wa/blob/master/src/numpy/statistics/statistics_nb.ipynb)\n",
    "\n",
    "### 筆者の環境\n",
    "筆者の環境とimportの方法は以下の通りです。"
   ]
  },
  {
   "cell_type": "code",
   "execution_count": 1,
   "metadata": {},
   "outputs": [
    {
     "name": "stdout",
     "output_type": "stream",
     "text": [
      "ProductName:\tMac OS X\r\n",
      "ProductVersion:\t10.14.6\r\n",
      "BuildVersion:\t18G2022\r\n"
     ]
    }
   ],
   "source": [
    "!sw_vers"
   ]
  },
  {
   "cell_type": "code",
   "execution_count": 2,
   "metadata": {},
   "outputs": [
    {
     "name": "stdout",
     "output_type": "stream",
     "text": [
      "Python 3.7.3\r\n"
     ]
    }
   ],
   "source": [
    "!python -V"
   ]
  },
  {
   "cell_type": "code",
   "execution_count": 3,
   "metadata": {},
   "outputs": [
    {
     "data": {
      "text/plain": [
       "'1.16.2'"
      ]
     },
     "execution_count": 3,
     "metadata": {},
     "output_type": "execute_result"
    }
   ],
   "source": [
    "%matplotlib inline\n",
    "%config InlineBackend.figure_format = 'svg'\n",
    "\n",
    "import numpy as np\n",
    "\n",
    "np.__version__"
   ]
  },
  {
   "cell_type": "markdown",
   "metadata": {},
   "source": [
    "## 統計情報の取得"
   ]
  },
  {
   "cell_type": "markdown",
   "metadata": {},
   "source": [
    "### np.max(x)\n",
    "配列の最大値を返します。"
   ]
  },
  {
   "cell_type": "markdown",
   "metadata": {},
   "source": [
    "2階のテンソルとして$a$を定義します。"
   ]
  },
  {
   "cell_type": "code",
   "execution_count": 4,
   "metadata": {},
   "outputs": [],
   "source": [
    "a = np.array([\n",
    "    [1,8,3],\n",
    "    [6,5,4],\n",
    "    [7,2,9]\n",
    "  ]\n",
    ")"
   ]
  },
  {
   "cell_type": "markdown",
   "metadata": {},
   "source": [
    "3階のテンソルとして$b$を定義します。"
   ]
  },
  {
   "cell_type": "code",
   "execution_count": 5,
   "metadata": {},
   "outputs": [],
   "source": [
    "b = np.array([\n",
    "  [\n",
    "    [1,8,3],\n",
    "    [6,5,4],\n",
    "    [7,2,9]\n",
    "  ],\n",
    "  [\n",
    "    [1,9,4],\n",
    "    [7,2,5],\n",
    "    [6,8,3]\n",
    "  ]\n",
    "])"
   ]
  },
  {
   "cell_type": "code",
   "execution_count": 6,
   "metadata": {
    "scrolled": true
   },
   "outputs": [
    {
     "name": "stdout",
     "output_type": "stream",
     "text": [
      "--------------------\n",
      "a   : \n",
      " [[1 8 3]\n",
      " [6 5 4]\n",
      " [7 2 9]]\n",
      "\n",
      "np.max(a) : \n",
      " 9\n",
      "\n",
      "np.max(a, axis=0) : \n",
      " [7 8 9]\n",
      "\n",
      "np.max(a, axis=1) : \n",
      " [8 6 9]\n",
      "\n",
      "--------------------\n",
      "b   : \n",
      " [[[1 8 3]\n",
      "  [6 5 4]\n",
      "  [7 2 9]]\n",
      "\n",
      " [[1 9 4]\n",
      "  [7 2 5]\n",
      "  [6 8 3]]]\n",
      "\n",
      "np.max(b) : \n",
      " 9\n",
      "\n",
      "np.max(b, axis=0) : \n",
      " [[1 9 4]\n",
      " [7 5 5]\n",
      " [7 8 9]]\n",
      "\n",
      "np.max(b, axis=1) : \n",
      " [[7 8 9]\n",
      " [7 9 5]]\n",
      "\n",
      "np.max(b, axis=2 : \n",
      " [[8 6 9]\n",
      " [9 7 8]]\n"
     ]
    }
   ],
   "source": [
    "print('-' * 20)\n",
    "print('a   : \\n',a)\n",
    "print()\n",
    "print('np.max(a) : \\n',np.max(a))\n",
    "print()\n",
    "print('np.max(a, axis=0) : \\n',np.max(a, axis=0))\n",
    "print()\n",
    "print('np.max(a, axis=1) : \\n',np.max(a, axis=1))\n",
    "print()\n",
    "\n",
    "print('-' * 20)\n",
    "print('b   : \\n',b)\n",
    "print()\n",
    "print('np.max(b) : \\n',np.max(b))\n",
    "print()\n",
    "print('np.max(b, axis=0) : \\n',np.max(b, axis=0))\n",
    "\n",
    "print()\n",
    "print('np.max(b, axis=1) : \\n',np.max(b, axis=1))\n",
    "\n",
    "print()\n",
    "print('np.max(b, axis=2 : \\n',np.max(b, axis=2))"
   ]
  },
  {
   "cell_type": "code",
   "execution_count": 7,
   "metadata": {
    "scrolled": true
   },
   "outputs": [
    {
     "name": "stdout",
     "output_type": "stream",
     "text": [
      "--------------------\n",
      "a   : \n",
      " [[1 8 3]\n",
      " [6 5 4]\n",
      " [7 2 9]]\n",
      "\n",
      "np.argmax(a) : \n",
      " 8\n",
      "\n",
      "np.argmax(a, axis=0) : \n",
      " [2 0 2]\n",
      "\n",
      "np.argmax(a, axis=1) : \n",
      " [1 0 2]\n",
      "\n",
      "--------------------\n",
      "b   : \n",
      " [[[1 8 3]\n",
      "  [6 5 4]\n",
      "  [7 2 9]]\n",
      "\n",
      " [[1 9 4]\n",
      "  [7 2 5]\n",
      "  [6 8 3]]]\n",
      "\n",
      "np.argmax(b) : \n",
      " 8\n",
      "\n",
      "np.argmax(b, axis=0) : \n",
      " [[0 1 1]\n",
      " [1 0 1]\n",
      " [0 1 0]]\n",
      "\n",
      "np.argmax(b, axis=1) : \n",
      " [[2 0 2]\n",
      " [1 0 1]]\n",
      "\n",
      "np.argmax(b, axis=2 : \n",
      " [[1 0 2]\n",
      " [1 0 1]]\n"
     ]
    }
   ],
   "source": [
    "print('-' * 20)\n",
    "print('a   : \\n',a)\n",
    "print()\n",
    "print('np.argmax(a) : \\n',np.argmax(a))\n",
    "print()\n",
    "print('np.argmax(a, axis=0) : \\n',np.argmax(a, axis=0))\n",
    "print()\n",
    "print('np.argmax(a, axis=1) : \\n',np.argmax(a, axis=1))\n",
    "print()\n",
    "\n",
    "print('-' * 20)\n",
    "print('b   : \\n',b)\n",
    "print()\n",
    "print('np.argmax(b) : \\n',np.argmax(b))\n",
    "print()\n",
    "print('np.argmax(b, axis=0) : \\n',np.argmax(b, axis=0))\n",
    "\n",
    "print()\n",
    "print('np.argmax(b, axis=1) : \\n',np.argmax(b, axis=1))\n",
    "\n",
    "print()\n",
    "print('np.argmax(b, axis=2 : \\n',np.argmax(b, axis=2))"
   ]
  },
  {
   "cell_type": "markdown",
   "metadata": {},
   "source": [
    "### np.argmax(x)\n",
    "配列の最大値の位置を返します。"
   ]
  },
  {
   "cell_type": "code",
   "execution_count": 8,
   "metadata": {},
   "outputs": [
    {
     "name": "stdout",
     "output_type": "stream",
     "text": [
      "a            :  [53 35 94  2  3 14 21 55 17  6]\n",
      "max position :  2\n"
     ]
    }
   ],
   "source": [
    "a = np.random.randint(100,size=10)\n",
    "\n",
    "print('a            : ',a)\n",
    "print('max position : ',np.argmax(a))"
   ]
  },
  {
   "cell_type": "markdown",
   "metadata": {},
   "source": [
    "### np.min(x)\n",
    "配列の最小値を返します。"
   ]
  },
  {
   "cell_type": "code",
   "execution_count": 9,
   "metadata": {},
   "outputs": [
    {
     "name": "stdout",
     "output_type": "stream",
     "text": [
      "a   :  [36 42  6 71 92 23 44 92 36 79]\n",
      "min :  6\n"
     ]
    }
   ],
   "source": [
    "a = np.random.randint(100,size=10)\n",
    "\n",
    "print('a   : ',a)\n",
    "print('min : ',np.min(a))"
   ]
  },
  {
   "cell_type": "markdown",
   "metadata": {},
   "source": [
    "### np.argmax(x)\n",
    "配列の最小値の位置を返します。"
   ]
  },
  {
   "cell_type": "code",
   "execution_count": 10,
   "metadata": {},
   "outputs": [
    {
     "name": "stdout",
     "output_type": "stream",
     "text": [
      "a            :  [51 76 59 12 28 50 21 61 49 37]\n",
      "min position :  3\n"
     ]
    }
   ],
   "source": [
    "a = np.random.randint(100,size=10)\n",
    "\n",
    "print('a            : ',a)\n",
    "print('min position : ',np.argmin(a))"
   ]
  },
  {
   "cell_type": "markdown",
   "metadata": {},
   "source": [
    "### np.maximum(x,y)\n",
    "二つの配列を比較し、大きい値を選択し新たなndarrayを作ります。"
   ]
  },
  {
   "cell_type": "code",
   "execution_count": 11,
   "metadata": {},
   "outputs": [
    {
     "name": "stdout",
     "output_type": "stream",
     "text": [
      "a   :  [25 78 95 45 79 33 72 33 38 81]\n",
      "b   :  [41 91 64  7 60 54 29 25 99 88]\n",
      "max :  [41 91 95 45 79 54 72 33 99 88]\n"
     ]
    }
   ],
   "source": [
    "a = np.random.randint(100,size=10)\n",
    "b = np.random.randint(100,size=10)\n",
    "\n",
    "print('a   : ',a)\n",
    "print('b   : ',b)\n",
    "print('max : ',np.maximum(a,b))"
   ]
  },
  {
   "cell_type": "markdown",
   "metadata": {},
   "source": [
    "### np.minimum(x,y)\n",
    "二つの配列を比較し、小さい値を選択し新たなndarrayを作ります。"
   ]
  },
  {
   "cell_type": "code",
   "execution_count": 12,
   "metadata": {},
   "outputs": [
    {
     "name": "stdout",
     "output_type": "stream",
     "text": [
      "a   :  [80 81 40 80 47 81 17 86 91 63]\n",
      "b   :  [84 51  7  4 62 66 83 85 21 66]\n",
      "min :  [80 51  7  4 47 66 17 85 21 63]\n"
     ]
    }
   ],
   "source": [
    "a = np.random.randint(100,size=10)\n",
    "b = np.random.randint(100,size=10)\n",
    "\n",
    "print('a   : ',a)\n",
    "print('b   : ',b)\n",
    "print('min : ',np.minimum(a,b))"
   ]
  },
  {
   "cell_type": "markdown",
   "metadata": {},
   "source": [
    "### np.sum(a, axis=None, dtype=None, out=None, keepdims=[no value], initial=[no value], where=[no value])"
   ]
  },
  {
   "cell_type": "code",
   "execution_count": 35,
   "metadata": {},
   "outputs": [
    {
     "data": {
      "text/plain": [
       "45"
      ]
     },
     "execution_count": 35,
     "metadata": {},
     "output_type": "execute_result"
    }
   ],
   "source": [
    "a = np.arange(10)\n",
    "np.sum(a)"
   ]
  },
  {
   "cell_type": "markdown",
   "metadata": {},
   "source": [
    "axisを指定して計算してみます。"
   ]
  },
  {
   "cell_type": "code",
   "execution_count": 38,
   "metadata": {},
   "outputs": [
    {
     "name": "stdout",
     "output_type": "stream",
     "text": [
      "a : \n",
      "[[ 0  1  2  3]\n",
      " [ 4  5  6  7]\n",
      " [ 8  9 10 11]]\n",
      "sum axis=0 :  [12 15 18 21]\n",
      "sum axis=1 :  [ 6 22 38]\n"
     ]
    }
   ],
   "source": [
    "a = np.arange(12).reshape(3,4)\n",
    "\n",
    "print('a : ')\n",
    "print(a)\n",
    "print('sum axis=0 : ', np.sum(a, axis=0))\n",
    "print('sum axis=1 : ', np.sum(a, axis=1))"
   ]
  },
  {
   "cell_type": "markdown",
   "metadata": {},
   "source": [
    "### np.average(a, axis=None, weights=None, returned=False)\n",
    "平均を求めます。重み付きの平均も求める事が出来ます。\n",
    "\n",
    "単純に配列の平均です。"
   ]
  },
  {
   "cell_type": "code",
   "execution_count": 13,
   "metadata": {},
   "outputs": [
    {
     "data": {
      "text/plain": [
       "4.5"
      ]
     },
     "execution_count": 13,
     "metadata": {},
     "output_type": "execute_result"
    }
   ],
   "source": [
    "a = np.arange(10)\n",
    "np.average(a)"
   ]
  },
  {
   "cell_type": "markdown",
   "metadata": {},
   "source": [
    "axisを指定した平均です。"
   ]
  },
  {
   "cell_type": "code",
   "execution_count": 17,
   "metadata": {},
   "outputs": [
    {
     "name": "stdout",
     "output_type": "stream",
     "text": [
      "a :  [[ 0  1  2  3]\n",
      " [ 4  5  6  7]\n",
      " [ 8  9 10 11]]\n",
      "average axis = 0 :  [4. 5. 6. 7.]\n",
      "average axis = 1 :  [1.5 5.5 9.5]\n"
     ]
    }
   ],
   "source": [
    "a = np.arange(12).reshape(3,4)\n",
    "\n",
    "print('a : ', a)\n",
    "print('average axis = 0 : ',np.average(a, axis=0))\n",
    "print('average axis = 1 : ',np.average(a, axis=1))"
   ]
  },
  {
   "cell_type": "markdown",
   "metadata": {},
   "source": [
    "重みを指定します。"
   ]
  },
  {
   "cell_type": "code",
   "execution_count": 22,
   "metadata": {},
   "outputs": [
    {
     "data": {
      "text/plain": [
       "1.7619047619047616"
      ]
     },
     "execution_count": 22,
     "metadata": {},
     "output_type": "execute_result"
    }
   ],
   "source": [
    "a = np.arange(5)\n",
    "\n",
    "# 適当に重みを設定\n",
    "w = np.array([0.1,0.2,0.5,0.15,0.05])\n",
    "\n",
    "np.average(a,weights=w)"
   ]
  },
  {
   "cell_type": "markdown",
   "metadata": {},
   "source": [
    "### np.mean(a, axis=None, dtype=None, out=None, keepdims=[no value])\n",
    "平均を求めます。こちらは重み付きの平均を求める事が出来ません。しかし、計算時の型を指定することが出来ます。"
   ]
  },
  {
   "cell_type": "code",
   "execution_count": 14,
   "metadata": {},
   "outputs": [
    {
     "data": {
      "text/plain": [
       "4.5"
      ]
     },
     "execution_count": 14,
     "metadata": {},
     "output_type": "execute_result"
    }
   ],
   "source": [
    "x = np.arange(10)\n",
    "np.mean(x)"
   ]
  },
  {
   "cell_type": "markdown",
   "metadata": {},
   "source": [
    "整数型を指定して計算する。"
   ]
  },
  {
   "cell_type": "code",
   "execution_count": 25,
   "metadata": {},
   "outputs": [
    {
     "data": {
      "text/plain": [
       "array([4], dtype=int8)"
      ]
     },
     "execution_count": 25,
     "metadata": {},
     "output_type": "execute_result"
    }
   ],
   "source": [
    "x = np.arange(10)\n",
    "np.mean(x, dtype='int8')"
   ]
  },
  {
   "cell_type": "markdown",
   "metadata": {},
   "source": [
    "### np.std(a, axis=None, dtype=None, out=None, ddof=0, keepdims=[no value])\n",
    "標準偏差を求めます。"
   ]
  },
  {
   "cell_type": "code",
   "execution_count": 26,
   "metadata": {},
   "outputs": [
    {
     "data": {
      "text/plain": [
       "2.8722813232690143"
      ]
     },
     "execution_count": 26,
     "metadata": {},
     "output_type": "execute_result"
    }
   ],
   "source": [
    "x = np.arange(10)\n",
    "np.std(x)"
   ]
  },
  {
   "cell_type": "markdown",
   "metadata": {},
   "source": [
    "### np.var(a, axis=None, dtype=None, out=None, ddof=0, keepdims=[no value])\n",
    "分散を求めます。"
   ]
  },
  {
   "cell_type": "code",
   "execution_count": 30,
   "metadata": {},
   "outputs": [
    {
     "data": {
      "text/plain": [
       "8.25"
      ]
     },
     "execution_count": 30,
     "metadata": {},
     "output_type": "execute_result"
    }
   ],
   "source": [
    "x = np.arange(10)\n",
    "np.var(x)"
   ]
  },
  {
   "cell_type": "markdown",
   "metadata": {},
   "source": [
    "### np.median(a, axis=None, out=None, overwrite_input=False, keepdims=False)"
   ]
  },
  {
   "cell_type": "code",
   "execution_count": 34,
   "metadata": {},
   "outputs": [
    {
     "name": "stdout",
     "output_type": "stream",
     "text": [
      "[0 1 2 3 4 5 6 7 8 9]\n",
      "median x :  4.5\n",
      "\n",
      "[ 0  1  2  3  4  5  6  7  8  9 10]\n",
      "median x :  5.0\n"
     ]
    }
   ],
   "source": [
    "x = np.arange(10)\n",
    "print(x)\n",
    "print('median x : ',np.median(x))\n",
    "print()\n",
    "\n",
    "x = np.arange(11)\n",
    "print(x)\n",
    "print('median x : ',np.median(x))"
   ]
  },
  {
   "cell_type": "markdown",
   "metadata": {},
   "source": [
    "### np.cov(m, y=None, rowvar=True, bias=False, ddof=None, fweights=None, aweights=None)\n",
    "\n",
    "bias=Trueで標本分散を求める。\n",
    "yで追加の配列を指定可能。"
   ]
  },
  {
   "cell_type": "code",
   "execution_count": 87,
   "metadata": {},
   "outputs": [
    {
     "name": "stdout",
     "output_type": "stream",
     "text": [
      "a : \n",
      "[[2 2 1]\n",
      " [0 1 6]\n",
      " [0 9 3]]\n",
      "\n",
      "不偏分散での共分散行列\n",
      "[[ 0.33333333 -1.83333333  0.5       ]\n",
      " [-1.83333333 10.33333333 -0.5       ]\n",
      " [ 0.5        -0.5        21.        ]]\n",
      "\n",
      "標本分散での共分散行列\n",
      "[[ 0.22222222 -1.22222222  0.33333333]\n",
      " [-1.22222222  6.88888889 -0.33333333]\n",
      " [ 0.33333333 -0.33333333 14.        ]]\n",
      "\n",
      "それぞれの成分の標本分散 : 共分散行列の対角成分と一致\n",
      "var a[0] =  0.2222222222222222\n",
      "var a[1] =  6.888888888888888\n",
      "var a[2] =  14.0\n",
      "bを追加\n",
      "b : \n",
      "[0 1 2]\n",
      "[[ 0.22222222 -1.22222222  0.33333333 -0.33333333]\n",
      " [-1.22222222  6.88888889 -0.33333333  2.        ]\n",
      " [ 0.33333333 -0.33333333 14.          1.        ]\n",
      " [-0.33333333  2.          1.          0.66666667]]\n"
     ]
    }
   ],
   "source": [
    "a = np.random.randint(10,size=9).reshape(3,3)\n",
    "b = np.arange(3)\n",
    "\n",
    "print('a : ')\n",
    "print(a)\n",
    "print()\n",
    "\n",
    "print('不偏分散での共分散行列')\n",
    "print(np.cov(a))\n",
    "print()\n",
    "\n",
    "print('標本分散での共分散行列')\n",
    "print(np.cov(a, bias=True))\n",
    "print()\n",
    "\n",
    "print('それぞれの成分の標本分散 : 共分散行列の対角成分と一致')\n",
    "print('var a[0] = ', np.var(a[0]))\n",
    "print('var a[1] = ', np.var(a[1]))\n",
    "print('var a[2] = ', np.var(a[2]))\n",
    "print()\n",
    "\n",
    "print('bを追加')\n",
    "print('b : ')\n",
    "print(b)\n",
    "print(np.cov(a,b, bias=True))"
   ]
  },
  {
   "cell_type": "markdown",
   "metadata": {},
   "source": [
    "### np.corrcoef(x, y=None, rowvar=True, bias=[no value], ddof=[no value])"
   ]
  },
  {
   "cell_type": "code",
   "execution_count": 78,
   "metadata": {},
   "outputs": [
    {
     "data": {
      "text/plain": [
       "array([[ 1.        ,  0.24019223, -0.75592895],\n",
       "       [ 0.24019223,  1.        , -0.81705717],\n",
       "       [-0.75592895, -0.81705717,  1.        ]])"
      ]
     },
     "execution_count": 78,
     "metadata": {},
     "output_type": "execute_result"
    }
   ],
   "source": [
    "a = np.random.randint(10,size=9).reshape(3,3)\n",
    "np.corrcoef(a)"
   ]
  },
  {
   "cell_type": "markdown",
   "metadata": {},
   "source": []
  }
 ],
 "metadata": {
  "kernelspec": {
   "display_name": "Python 3",
   "language": "python",
   "name": "python3"
  },
  "language_info": {
   "codemirror_mode": {
    "name": "ipython",
    "version": 3
   },
   "file_extension": ".py",
   "mimetype": "text/x-python",
   "name": "python",
   "nbconvert_exporter": "python",
   "pygments_lexer": "ipython3",
   "version": "3.7.3"
  },
  "widgets": {
   "state": {},
   "version": "1.1.2"
  }
 },
 "nbformat": 4,
 "nbformat_minor": 2
}
