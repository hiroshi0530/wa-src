{
 "cells": [
  {
   "cell_type": "markdown",
   "metadata": {},
   "source": [
    "## Numpy個人的tips\n",
    "\n",
    "numpyもデータ分析には欠かせないツールの一つです。個人的な備忘録としてメモを残しておきます。詳細は\n",
    "- [公式ページ](https://docs.scipy.org/doc/numpy/reference/)\n",
    "を参照してください。\n",
    "\n",
    "### 目次\n",
    "- [1. 基本的な演算](/article/library/numpy/base/)\n",
    "- [2. 三角関数](/article/library/numpy/trigonometric/)\n",
    "- [3. 指数・対数](/article/library/numpy/explog/)\n",
    "- [4. 統計関数](/article/library/numpy/statistics/)\n",
    "- [5. 線形代数](/article/library/numpy/matrix/) <= 今ここ\n",
    "- [6. サンプリング](/article/library/numpy/sampling/)\n",
    "- [7. その他](/article/library/numpy/misc/)\n",
    "\n",
    "### github\n",
    "- githubのjupyter notebook形式のファイルは[こちら](https://github.com/hiroshi0530/wa/blob/master/src/article/library/numpy/matrix/matrix_nb.ipynb)\n",
    "\n",
    "### 筆者の環境\n",
    "筆者の環境とimportの方法は以下の通りです。"
   ]
  },
  {
   "cell_type": "code",
   "execution_count": 1,
   "metadata": {},
   "outputs": [
    {
     "name": "stdout",
     "output_type": "stream",
     "text": [
      "ProductName:\tMac OS X\r\n",
      "ProductVersion:\t10.14.6\r\n",
      "BuildVersion:\t18G95\r\n"
     ]
    }
   ],
   "source": [
    "!sw_vers"
   ]
  },
  {
   "cell_type": "code",
   "execution_count": 2,
   "metadata": {},
   "outputs": [
    {
     "name": "stdout",
     "output_type": "stream",
     "text": [
      "Python 3.5.5 :: Anaconda, Inc.\r\n"
     ]
    }
   ],
   "source": [
    "!python -V"
   ]
  },
  {
   "cell_type": "code",
   "execution_count": 3,
   "metadata": {},
   "outputs": [
    {
     "data": {
      "text/plain": [
       "'1.18.1'"
      ]
     },
     "execution_count": 3,
     "metadata": {},
     "output_type": "execute_result"
    }
   ],
   "source": [
    "%matplotlib inline\n",
    "%config InlineBackend.figure_format = 'svg'\n",
    "\n",
    "import numpy as np\n",
    "\n",
    "np.__version__"
   ]
  },
  {
   "cell_type": "markdown",
   "metadata": {},
   "source": [
    "## 基本的な行列計算"
   ]
  },
  {
   "cell_type": "markdown",
   "metadata": {},
   "source": [
    "### np.identify(N)\n",
    "単位行列を作成します。"
   ]
  },
  {
   "cell_type": "code",
   "execution_count": 4,
   "metadata": {},
   "outputs": [
    {
     "data": {
      "text/plain": [
       "array([[1., 0., 0.],\n",
       "       [0., 1., 0.],\n",
       "       [0., 0., 1.]])"
      ]
     },
     "execution_count": 4,
     "metadata": {},
     "output_type": "execute_result"
    }
   ],
   "source": [
    "np.identity(3)"
   ]
  },
  {
   "cell_type": "markdown",
   "metadata": {},
   "source": [
    "### np.eye(N,M=None,k=0)\n",
    "単位行列を作成します。identifyと違い、正方行列である事に限定されません。また、対角の1の位置を指定することが出来ます。"
   ]
  },
  {
   "cell_type": "code",
   "execution_count": 5,
   "metadata": {},
   "outputs": [
    {
     "data": {
      "text/plain": [
       "array([[1., 0., 0.],\n",
       "       [0., 1., 0.],\n",
       "       [0., 0., 1.]])"
      ]
     },
     "execution_count": 5,
     "metadata": {},
     "output_type": "execute_result"
    }
   ],
   "source": [
    "np.eye(3)"
   ]
  },
  {
   "cell_type": "code",
   "execution_count": 6,
   "metadata": {},
   "outputs": [
    {
     "data": {
      "text/plain": [
       "array([[1., 0., 0.],\n",
       "       [0., 1., 0.],\n",
       "       [0., 0., 1.],\n",
       "       [0., 0., 0.]])"
      ]
     },
     "execution_count": 6,
     "metadata": {},
     "output_type": "execute_result"
    }
   ],
   "source": [
    "np.eye(4,3)"
   ]
  },
  {
   "cell_type": "code",
   "execution_count": 7,
   "metadata": {},
   "outputs": [
    {
     "data": {
      "text/plain": [
       "array([[0., 1., 0., 0., 0.],\n",
       "       [0., 0., 1., 0., 0.],\n",
       "       [0., 0., 0., 1., 0.],\n",
       "       [0., 0., 0., 0., 1.]])"
      ]
     },
     "execution_count": 7,
     "metadata": {},
     "output_type": "execute_result"
    }
   ],
   "source": [
    "np.eye(4,5,1)"
   ]
  },
  {
   "cell_type": "markdown",
   "metadata": {},
   "source": [
    "### np.zeros((N,M,･･･))\n",
    "すべての要素が0の配列を作成します。引数はshapeを示すタプルを取ります。intを入れるとベクトルとなります。"
   ]
  },
  {
   "cell_type": "code",
   "execution_count": 8,
   "metadata": {},
   "outputs": [
    {
     "data": {
      "text/plain": [
       "array([[0., 0., 0., 0.],\n",
       "       [0., 0., 0., 0.],\n",
       "       [0., 0., 0., 0.],\n",
       "       [0., 0., 0., 0.],\n",
       "       [0., 0., 0., 0.]])"
      ]
     },
     "execution_count": 8,
     "metadata": {},
     "output_type": "execute_result"
    }
   ],
   "source": [
    "np.zeros((5,4))"
   ]
  },
  {
   "cell_type": "code",
   "execution_count": 9,
   "metadata": {},
   "outputs": [
    {
     "data": {
      "text/plain": [
       "array([0., 0., 0.])"
      ]
     },
     "execution_count": 9,
     "metadata": {},
     "output_type": "execute_result"
    }
   ],
   "source": [
    "np.zeros(3)"
   ]
  },
  {
   "cell_type": "markdown",
   "metadata": {},
   "source": [
    "### np.zeros_like(x)\n",
    "xと同じサイズをもつすべての要素が0の配列を作成します。"
   ]
  },
  {
   "cell_type": "code",
   "execution_count": 10,
   "metadata": {},
   "outputs": [
    {
     "data": {
      "text/plain": [
       "array([[0, 0, 0],\n",
       "       [0, 0, 0]])"
      ]
     },
     "execution_count": 10,
     "metadata": {},
     "output_type": "execute_result"
    }
   ],
   "source": [
    "a = np.array([i for i in range(6)]).reshape(2,3)\n",
    "np.zeros_like(a) # (2,3)の0配列ができる。"
   ]
  },
  {
   "cell_type": "markdown",
   "metadata": {},
   "source": [
    "### np.ones((N,M,･･･))\n",
    "すべての要素が1の配列を作成します。引数はshapeを示すタプルを取ります。intを入れるとベクトルとなります。"
   ]
  },
  {
   "cell_type": "code",
   "execution_count": 11,
   "metadata": {},
   "outputs": [
    {
     "data": {
      "text/plain": [
       "array([[1., 1., 1., 1., 1.],\n",
       "       [1., 1., 1., 1., 1.]])"
      ]
     },
     "execution_count": 11,
     "metadata": {},
     "output_type": "execute_result"
    }
   ],
   "source": [
    "np.ones((2,5))"
   ]
  },
  {
   "cell_type": "markdown",
   "metadata": {},
   "source": [
    "### np.zeros_like(x)\n",
    "xと同じサイズをもつすべての要素が0の配列を作成します。"
   ]
  },
  {
   "cell_type": "code",
   "execution_count": 12,
   "metadata": {},
   "outputs": [
    {
     "data": {
      "text/plain": [
       "array([[1, 1, 1],\n",
       "       [1, 1, 1],\n",
       "       [1, 1, 1],\n",
       "       [1, 1, 1],\n",
       "       [1, 1, 1]])"
      ]
     },
     "execution_count": 12,
     "metadata": {},
     "output_type": "execute_result"
    }
   ],
   "source": [
    "a = np.array([i for i in range(15)]).reshape(5,3)\n",
    "np.ones_like(a) # (5,3)の0配列ができる。"
   ]
  },
  {
   "cell_type": "markdown",
   "metadata": {},
   "source": [
    "### np.dot(a,b)\n",
    "内積の計算です。$\\displaystyle {\\bf a}=(a_1,a_2,a_3), {\\bf b} = (b_1,b_2,b_3)$というベクトル（1階のテンソル）とすると、\n",
    "$$\n",
    "{\\rm np.dot(a,b)} = a^{T}b = \\sum_{k=1}^{3}a_kb_k\n",
    "$$\n",
    "を計算することになります。行列の場合は、行列の積の計算になります。"
   ]
  },
  {
   "cell_type": "markdown",
   "metadata": {},
   "source": [
    "#### テンソルのdot演算子\n",
    "テンソルでサイズが違う場合、計算がやや面倒ですが、計算のイメージとしては以下の通りです。\n",
    "![png](matrix_nb_files_local/dot.png)"
   ]
  },
  {
   "cell_type": "code",
   "execution_count": 22,
   "metadata": {},
   "outputs": [
    {
     "name": "stdout",
     "output_type": "stream",
     "text": [
      "ベクトルの場合\n",
      "a : \n",
      "[1 2]\n",
      "b : \n",
      "[4 3]\n",
      "10\n",
      "\n",
      "行列の場合\n",
      "a : \n",
      "[[1 2]\n",
      " [3 4]]\n",
      "b : \n",
      "[[4 3]\n",
      " [2 1]]\n",
      "[[ 8  5]\n",
      " [20 13]]\n"
     ]
    }
   ],
   "source": [
    "a = np.array([1,2])\n",
    "b = np.array([4,3])\n",
    "\n",
    "print('### ベクトルの場合 ###')\n",
    "print('a : ')\n",
    "print(a)\n",
    "print('b : ')\n",
    "print(b)\n",
    "print('計算結果')\n",
    "print(np.dot(a,b))\n",
    "print()\n",
    "\n",
    "a = np.array([[1,2],[3,4]])\n",
    "b = np.array([[4,3],[2,1]])\n",
    "\n",
    "print('### 行列の場合 ###')\n",
    "print('a : ')\n",
    "print(a)\n",
    "print('b : ')\n",
    "print(b)\n",
    "print('計算結果')\n",
    "print(np.dot(a,b))"
   ]
  },
  {
   "cell_type": "markdown",
   "metadata": {},
   "source": [
    "### np.vdot(a,b)\n",
    "$a$の複素共役を取り、内積を計算します。実数の場合は`np.dot`と同じです。\n",
    "$\\displaystyle {\\bf a}=(a_1,a_2,a_3), {\\bf b} = (b_1,b_2,b_3)$というベクトル（1階のテンソル）とすると、\n",
    "$$\n",
    "{\\rm np.vdot(a,b)} = a^{*}b = \\overline{a}^{T}b= \\sum_{k=1}^{3}\\overline{a_k}b_k\n",
    "$$"
   ]
  },
  {
   "cell_type": "code",
   "execution_count": 14,
   "metadata": {},
   "outputs": [
    {
     "name": "stdout",
     "output_type": "stream",
     "text": [
      "実数の場合はnp.dotと等しい\n",
      "10\n",
      "10\n",
      "\n",
      "複素共役を取り内積の計算した場合と等しい\n",
      "(20-10j)\n",
      "(20-10j)\n",
      "(20-10j)\n"
     ]
    }
   ],
   "source": [
    "a = np.array([1,2])\n",
    "b = np.array([4,3])\n",
    "\n",
    "print('実数の場合はnp.dotと等しい')\n",
    "print(np.dot(a,b))\n",
    "print(np.vdot(a,b))\n",
    "print('')\n",
    "\n",
    "print('複素共役を取り内積の計算した場合と等しい')\n",
    "a = np.array([1+2j,3+4j])\n",
    "b = np.array([4+3j,2+1j])\n",
    "print(np.vdot(a, b))\n",
    "\n",
    "a = np.array([1-2j,3-4j])\n",
    "b = np.array([4+3j,2+1j])\n",
    "print(np.dot(a, b))\n",
    "\n",
    "print((1-2j)*(4+3j)+(3-4j)*(2+1j))"
   ]
  },
  {
   "cell_type": "markdown",
   "metadata": {},
   "source": [
    "### np.outer(a,b)\n",
    "直積を計算します。\n",
    "$\\displaystyle {\\bf a}=(a_1,a_2,a_3), {\\bf b} = (b_1,b_2,b_3)$というベクトル（1階のテンソル）とすると、\n",
    "<div>\n",
    "$$\n",
    "{\\rm np.outer(a,b)} = ab^{*}= a\\overline{b}^{T}=\\left(\n",
    "    \\begin{array}{ccc}\n",
    "      a_1\\overline{b_1} & a_1\\overline{b_2} & a_1\\overline{b_3} \\\\\n",
    "      a_2\\overline{b_1} & a_2\\overline{b_2} & a_2\\overline{b_3} \\\\\n",
    "      a_3\\overline{b_1} & a_3\\overline{b_2} & a_3\\overline{b_3} \n",
    "    \\end{array}\n",
    "  \\right) \n",
    "$$\n",
    "</div>\n",
    "という計算を行います。また、$a$と$b$はベクトルではない場合、強制的にベクトルに変換されます。直積はデータ分析や機械学習にはあまり出てきませんが、量子計算において利用されます。二つのビットの状態を表す基底となります。"
   ]
  },
  {
   "cell_type": "code",
   "execution_count": 15,
   "metadata": {},
   "outputs": [
    {
     "name": "stdout",
     "output_type": "stream",
     "text": [
      "ベクトルのouterの計算例\n",
      "[[4 3]\n",
      " [8 6]]\n",
      "\n",
      "行列のouterの計算例\n",
      "a = \n",
      " [[1 2]\n",
      " [3 4]]\n",
      "b = \n",
      " [[11 12]\n",
      " [13 14]]\n",
      "np.outer(a,b) = \n",
      " [[11 12 13 14]\n",
      " [22 24 26 28]\n",
      " [33 36 39 42]\n",
      " [44 48 52 56]]\n"
     ]
    }
   ],
   "source": [
    "a = np.array([1,2])\n",
    "b = np.array([4,3])\n",
    "print('ベクトルのouterの計算例')\n",
    "print(np.outer(a,b))\n",
    "print()\n",
    "\n",
    "a = np.arange(1,5).reshape(-1,2)\n",
    "b = np.arange(11,15).reshape(-1,2)\n",
    "\n",
    "print('行列のouterの計算例')\n",
    "print('a = \\n',a)\n",
    "print('b = \\n',b)\n",
    "print('np.outer(a,b) = \\n',np.outer(a,b))"
   ]
  },
  {
   "cell_type": "markdown",
   "metadata": {},
   "source": [
    "### np.matmul(a,b)\n",
    "通常の行列の積になります。"
   ]
  },
  {
   "cell_type": "markdown",
   "metadata": {},
   "source": [
    "### テンソルのmutmal演算子\n",
    "![png](matrix_nb_files_local/matmul_02.png)\n",
    "\n",
    "#### サイズが一致しない場合\n",
    "![png](matrix_nb_files_local/matmul_01.png)"
   ]
  },
  {
   "cell_type": "code",
   "execution_count": 16,
   "metadata": {},
   "outputs": [
    {
     "name": "stdout",
     "output_type": "stream",
     "text": [
      "matmul計算例\n",
      "a = \n",
      " [[1 2]\n",
      " [3 4]]\n",
      "b = \n",
      " [[11 12]\n",
      " [13 14]]\n",
      "np.matmul(a,b) = \n",
      " [[37 40]\n",
      " [85 92]]\n"
     ]
    }
   ],
   "source": [
    "a = np.arange(1,5).reshape(-1,2)\n",
    "b = np.arange(11,15).reshape(-1,2)\n",
    "\n",
    "print('matmul計算例')\n",
    "print('a = \\n',a)\n",
    "print('b = \\n',b)\n",
    "print('np.matmul(a,b) = \\n',np.matmul(a,b))"
   ]
  },
  {
   "cell_type": "markdown",
   "metadata": {},
   "source": [
    "matmulは機械学習でもしばしば出てくる重要な演算なので少し詳しく解説します。詳細は[公式ページ](https://docs.scipy.org/doc/numpy/reference/generated/numpy.matmul.html#numpy.matmul)を参照してください。\n",
    "\n",
    "#### 二つの引数の次元がどちらも2の場合（どちらも行列の場合）\n",
    "通常通りの行列の演算になります。計算例は上記の通りです。"
   ]
  },
  {
   "cell_type": "markdown",
   "metadata": {},
   "source": [
    "#### 引数のうち、どちらかの次元が2より大きいとき\n",
    "通常通りの行列の演算になります。\n",
    "\n",
    "以下の場合だと7x4の\n",
    "\n",
    "となります。"
   ]
  },
  {
   "cell_type": "code",
   "execution_count": 17,
   "metadata": {},
   "outputs": [
    {
     "name": "stdout",
     "output_type": "stream",
     "text": [
      "(9, 5, 7, 9, 5, 3)\n",
      "(9, 5, 7, 3)\n",
      "[[[[1. 1.]]\n",
      "\n",
      "  [[1. 1.]]]]\n",
      "(1, 2, 1, 2)\n",
      "(1, 2, 2)\n"
     ]
    }
   ],
   "source": [
    "a = np.ones([9, 5, 7, 4])\n",
    "c = np.ones([9, 5, 4, 3])\n",
    "\n",
    "print(np.dot(a, c).shape)\n",
    "print(np.matmul(a, c).shape)\n",
    "\n",
    "a = np.ones([1,2,1])\n",
    "c = np.ones([1,1,2])\n",
    "\n",
    "print(np.dot(a, c))\n",
    "print(np.dot(a, c).shape)\n",
    "print(np.matmul(a, c).shape)\n",
    "\n"
   ]
  },
  {
   "cell_type": "code",
   "execution_count": 18,
   "metadata": {
    "scrolled": true
   },
   "outputs": [
    {
     "name": "stdout",
     "output_type": "stream",
     "text": [
      "dot 演算子の場合\n",
      "(2, 2, 2)\n",
      "(3, 2, 1)\n",
      "\n",
      "(2, 2, 3, 1)\n",
      "[[[[    5]\n",
      "   [   50]\n",
      "   [  500]]\n",
      "\n",
      "  [[   11]\n",
      "   [  110]\n",
      "   [ 1100]]]\n",
      "\n",
      "\n",
      " [[[   50]\n",
      "   [  500]\n",
      "   [ 5000]]\n",
      "\n",
      "  [[  110]\n",
      "   [ 1100]\n",
      "   [11000]]]]\n",
      "\n"
     ]
    }
   ],
   "source": [
    "a = np.array([\n",
    "  [[1,2],\n",
    "   [3,4]],\n",
    "  [[10,20],\n",
    "   [30,40]]\n",
    "])\n",
    "\n",
    "b = np.array([\n",
    "  [[1],\n",
    "   [2]],\n",
    "  [[10],\n",
    "   [20]],\n",
    "  [[100],\n",
    "   [200]]\n",
    "])\n",
    "\n",
    "print('dot 演算子の場合')\n",
    "print(a.shape)\n",
    "print(b.shape)\n",
    "print()\n",
    "\n",
    "print(np.dot(a,b).shape)\n",
    "print(np.dot(a,b))\n",
    "print()\n",
    "\n"
   ]
  },
  {
   "cell_type": "code",
   "execution_count": 19,
   "metadata": {},
   "outputs": [
    {
     "name": "stdout",
     "output_type": "stream",
     "text": [
      "matmul 演算子の場合\n",
      "(2, 2, 2)\n",
      "(3, 2, 1)\n",
      "\n",
      "operands could not be broadcast together with remapped shapes [original->remapped]: (2,2,2)->(2,newaxis,newaxis) (3,2,1)->(3,newaxis,newaxis) and requested shape (2,1)\n"
     ]
    }
   ],
   "source": [
    "a = np.array([\n",
    "  [[1,2],\n",
    "   [3,4]],\n",
    "  [[10,20],\n",
    "   [30,40]]\n",
    "])\n",
    "\n",
    "b = np.array([\n",
    "  [[1],\n",
    "   [2]],\n",
    "  [[10],\n",
    "   [20]],\n",
    "  [[100],\n",
    "   [200]]\n",
    "])\n",
    "\n",
    "print('matmul 演算子の場合')\n",
    "print(a.shape)\n",
    "print(b.shape)\n",
    "print()\n",
    "\n",
    "try:\n",
    "  print(np.matmul(a,b).shape)\n",
    "  print(np.matmul(a,b))\n",
    "except Exception as e:\n",
    "  print(e)"
   ]
  },
  {
   "cell_type": "code",
   "execution_count": 20,
   "metadata": {},
   "outputs": [
    {
     "name": "stdout",
     "output_type": "stream",
     "text": [
      "matmul 演算子の場合\n",
      "(2, 2, 2)\n",
      "(1, 2, 1)\n",
      "\n",
      "(2, 2, 1)\n",
      "[[[  5]\n",
      "  [ 11]]\n",
      "\n",
      " [[ 50]\n",
      "  [110]]]\n"
     ]
    }
   ],
   "source": [
    "a = np.array([\n",
    "  [[1,2],\n",
    "   [3,4]],\n",
    "  [[10,20],\n",
    "   [30,40]]\n",
    "])\n",
    "\n",
    "b = np.array([\n",
    "  [[1],\n",
    "   [2]]\n",
    "])\n",
    "\n",
    "print('matmul 演算子の場合')\n",
    "print(a.shape)\n",
    "print(b.shape)\n",
    "print()\n",
    "\n",
    "print(np.matmul(a,b).shape)\n",
    "print(np.matmul(a,b))"
   ]
  },
  {
   "cell_type": "markdown",
   "metadata": {},
   "source": [
    "## 線形代数に必要な計算"
   ]
  },
  {
   "cell_type": "code",
   "execution_count": null,
   "metadata": {},
   "outputs": [],
   "source": []
  }
 ],
 "metadata": {
  "kernelspec": {
   "display_name": "Python 3",
   "language": "python",
   "name": "python3"
  },
  "language_info": {
   "codemirror_mode": {
    "name": "ipython",
    "version": 3
   },
   "file_extension": ".py",
   "mimetype": "text/x-python",
   "name": "python",
   "nbconvert_exporter": "python",
   "pygments_lexer": "ipython3",
   "version": "3.5.5"
  },
  "widgets": {
   "state": {},
   "version": "1.1.2"
  }
 },
 "nbformat": 4,
 "nbformat_minor": 2
}
