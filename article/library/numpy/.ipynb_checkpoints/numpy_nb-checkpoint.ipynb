{
 "cells": [
  {
   "cell_type": "markdown",
   "metadata": {},
   "source": [
    "## Numpy個人的tips\n",
    "\n",
    "numpyもデータ分析には欠かせないツールの一つです。個人的な備忘録としてメモを残しておきます。詳細は\n",
    "- [公式ページ](https://docs.scipy.org/doc/numpy/reference/)\n",
    "を参照してください。\n",
    "\n",
    "import の仕方は以下の通りです。"
   ]
  },
  {
   "cell_type": "code",
   "execution_count": 1,
   "metadata": {},
   "outputs": [
    {
     "data": {
      "text/plain": [
       "'1.18.1'"
      ]
     },
     "execution_count": 1,
     "metadata": {},
     "output_type": "execute_result"
    }
   ],
   "source": [
    "import numpy as np\n",
    "\n",
    "np.__version__"
   ]
  },
  {
   "cell_type": "markdown",
   "metadata": {},
   "source": [
    "## スカラー、ベクトル、行列、テンソル\n",
    "\n",
    "- スカラー : 0階のテンソル\n",
    "- ベクトル : 1階のテンソル\n",
    "- 行列 : 2階のテンソル"
   ]
  },
  {
   "cell_type": "markdown",
   "metadata": {},
   "source": [
    "## numpyのデータ型\n",
    "\n",
    "numpyの実際の数値計算部分はC言語で実装されています。よってデータを定義するときにデータの型を指定することが出来ます。この情報によりメモリ上に確保する量を最適化することが出来ます。大規模な数値計算に慣れなるほど、重要なプロパティになります。\n",
    "\n",
    "本家の[サイト](https://numpy.org/devdocs/user/basics.types.html)にはたくさんのデータタイプが定義されているますが、実際に使うのはそれほど多くありません。\n",
    "\n",
    "<div class=\"table_center_80\">\n",
    "\n",
    "|表記1 |表記2|表記3|データ型 |説明  |\n",
    "|---|---|---|---|---|\n",
    "|np.bool |-| ?|bool  |真偽値  |\n",
    "|np.int8 | int8 | i1  |int8  |8ビット符号付き整数 |\n",
    "|np.int16 | int16 | i2  |int16  |16ビット符号付き整数 |\n",
    "|np.int32 | int32 | i4  |int32  |32ビット符号付き整数 |\n",
    "|np.int64 | int64 | i8  |int64  |64ビット符号付き整数 |\n",
    "|np.uint8 | uint8 | u1  |uint8  |8ビット符号なし整数 |\n",
    "|np.uint16 | uint16 | u2  |uint16  |16ビット符号なし整数 |\n",
    "|np.uint32 | uint32 | u4  |uint32  |32ビット符号なし整数 |\n",
    "|np.uint64 | uint64 | u8  |uint64  |64ビット符号なし整数 |\n",
    "|np.float16 | float16 | f2  |float16  |半精度浮動小数点型 |\n",
    "|np.float32 | float32 | f4  |float32  |単精度浮動小数点型 |\n",
    "|np.float64 | float64 | f8  |float64  |倍精度浮動小数点型 |\n",
    "|np.float128 | float128 | f16  |float128  |4倍精度浮動小数点型 |\n",
    "\n",
    "</div>\n",
    "\n",
    "表記1、表記2、表記3は定義の方法としては同じです。"
   ]
  },
  {
   "cell_type": "code",
   "execution_count": 2,
   "metadata": {},
   "outputs": [
    {
     "name": "stdout",
     "output_type": "stream",
     "text": [
      "int8\n",
      "int8\n",
      "int8\n",
      "bool\n",
      "bool\n"
     ]
    }
   ],
   "source": [
    "a = np.array([i for i in range(5)  ], dtype=np.int8)\n",
    "b = np.array([i for i in range(5)  ], dtype='int8')\n",
    "c = np.array([i for i in range(5)  ], dtype='i1')\n",
    "\n",
    "print(a.dtype)\n",
    "print(b.dtype)\n",
    "print(c.dtype)\n",
    "\n",
    "d = np.array(True, dtype='?')\n",
    "e = np.array(True, dtype=np.bool)\n",
    "\n",
    "print(d.dtype)\n",
    "print(e.dtype)"
   ]
  },
  {
   "cell_type": "markdown",
   "metadata": {},
   "source": [
    "## ブロードキャスト\n",
    "numpyは行列やベクトルとスカラー量の演算がされたとき、行列やベクトルのすべての要素に対してスカラー量の演算が実行されます。最初慣れないと勘違いしてしまうので、押さえておきましょう。スカラー量である$a$がベクトル$b$の全成分に対して演算されていることがわかります。"
   ]
  },
  {
   "cell_type": "code",
   "execution_count": 3,
   "metadata": {},
   "outputs": [
    {
     "name": "stdout",
     "output_type": "stream",
     "text": [
      "a     :  10\n",
      "b     :  [1 2]\n",
      "a + b :  [11 12]\n",
      "a * b :  [10 20]\n",
      "b / a :  [0.1 0.2]\n"
     ]
    }
   ],
   "source": [
    "a = 10\n",
    "b = np.array([1, 2])\n",
    "\n",
    "print('a     : ',a)\n",
    "print('b     : ',b)\n",
    "print('a + b : ',a + b)\n",
    "print('a * b : ',a * b)\n",
    "print('b / a : ',b / a)"
   ]
  },
  {
   "cell_type": "markdown",
   "metadata": {},
   "source": [
    "## 基本定数"
   ]
  },
  {
   "cell_type": "markdown",
   "metadata": {},
   "source": [
    "### 自然対数の底"
   ]
  },
  {
   "cell_type": "code",
   "execution_count": 4,
   "metadata": {},
   "outputs": [
    {
     "data": {
      "text/plain": [
       "2.718281828459045"
      ]
     },
     "execution_count": 4,
     "metadata": {},
     "output_type": "execute_result"
    }
   ],
   "source": [
    "np.e"
   ]
  },
  {
   "cell_type": "markdown",
   "metadata": {},
   "source": [
    "### 円周率"
   ]
  },
  {
   "cell_type": "code",
   "execution_count": 5,
   "metadata": {},
   "outputs": [
    {
     "data": {
      "text/plain": [
       "3.141592653589793"
      ]
     },
     "execution_count": 5,
     "metadata": {},
     "output_type": "execute_result"
    }
   ],
   "source": [
    "np.pi"
   ]
  },
  {
   "cell_type": "markdown",
   "metadata": {},
   "source": [
    "## 基本的な四則演算"
   ]
  },
  {
   "cell_type": "markdown",
   "metadata": {},
   "source": [
    "### np.add()\n",
    "要素ごとの足し算です。一般的なベクトルの加法です。"
   ]
  },
  {
   "cell_type": "code",
   "execution_count": 6,
   "metadata": {},
   "outputs": [
    {
     "data": {
      "text/plain": [
       "array([5., 5.])"
      ]
     },
     "execution_count": 6,
     "metadata": {},
     "output_type": "execute_result"
    }
   ],
   "source": [
    "a = np.array([1.,2.])\n",
    "b = np.array([4.,3.])\n",
    "np.add(a,b)"
   ]
  },
  {
   "cell_type": "markdown",
   "metadata": {},
   "source": [
    "### np.reciprocal()\n",
    "要素ごとの逆数になります。"
   ]
  },
  {
   "cell_type": "code",
   "execution_count": 7,
   "metadata": {},
   "outputs": [
    {
     "data": {
      "text/plain": [
       "array([0.25      , 0.33333333])"
      ]
     },
     "execution_count": 7,
     "metadata": {},
     "output_type": "execute_result"
    }
   ],
   "source": [
    "b = np.array([4.,3.])\n",
    "np.reciprocal(b)"
   ]
  },
  {
   "cell_type": "markdown",
   "metadata": {},
   "source": [
    "この関数について面白い事に気づきました。python3系では、整数型の割り算であっても小数点以下まで計算してくれます。python2系では、整数部分だけ表示されます。しかし、逆数を計算するこの関数で整数型の逆数を計算すると、整数部分しか表示してくれません。データ型を浮動小数型である事を明示するとちゃんと小数点以下まで計算してくれます。"
   ]
  },
  {
   "cell_type": "code",
   "execution_count": 8,
   "metadata": {},
   "outputs": [
    {
     "name": "stdout",
     "output_type": "stream",
     "text": [
      "0\n",
      "0.125\n",
      "0.125\n"
     ]
    }
   ],
   "source": [
    "# print(1/8) # => 0.125が返る@python3系\n",
    "# print(1/8) # => 0が返る@python2系\n",
    "print(np.reciprocal(8))\n",
    "print(np.reciprocal(8, dtype='float16'))\n",
    "print(np.reciprocal(8.))"
   ]
  },
  {
   "cell_type": "markdown",
   "metadata": {},
   "source": [
    "### np.multiply()\n",
    "要素ごとのかけ算です。アダマール積といわれています。ベクトルの内積とは異なります。"
   ]
  },
  {
   "cell_type": "code",
   "execution_count": 9,
   "metadata": {},
   "outputs": [
    {
     "data": {
      "text/plain": [
       "array([4., 6.])"
      ]
     },
     "execution_count": 9,
     "metadata": {},
     "output_type": "execute_result"
    }
   ],
   "source": [
    "a = np.array([1.,2.])\n",
    "b = np.array([4.,3.])\n",
    "np.multiply(a,b)"
   ]
  },
  {
   "cell_type": "markdown",
   "metadata": {},
   "source": [
    "### np.divide\n",
    "要素ごとの割り算の商を求めます。"
   ]
  },
  {
   "cell_type": "code",
   "execution_count": 10,
   "metadata": {},
   "outputs": [
    {
     "data": {
      "text/plain": [
       "array([4. , 1.5])"
      ]
     },
     "execution_count": 10,
     "metadata": {},
     "output_type": "execute_result"
    }
   ],
   "source": [
    "a = np.array([1.,2.])\n",
    "b = np.array([4.,3.])\n",
    "np.divide(b,a)"
   ]
  },
  {
   "cell_type": "markdown",
   "metadata": {},
   "source": [
    "### np.mod()\n",
    "要素ごとの割り算のあまりを求めます。"
   ]
  },
  {
   "cell_type": "code",
   "execution_count": 11,
   "metadata": {},
   "outputs": [
    {
     "name": "stdout",
     "output_type": "stream",
     "text": [
      "[2. 1.]\n"
     ]
    }
   ],
   "source": [
    "a = np.array([3.,2.])\n",
    "b = np.array([11.,3.])\n",
    "print(np.mod(b,a))"
   ]
  },
  {
   "cell_type": "markdown",
   "metadata": {},
   "source": [
    "### np.divmod()\n",
    "要素ごとの割り算の商とあまりを同時に求めます。"
   ]
  },
  {
   "cell_type": "code",
   "execution_count": 12,
   "metadata": {},
   "outputs": [
    {
     "name": "stdout",
     "output_type": "stream",
     "text": [
      "(array([3., 1.]), array([2., 1.]))\n"
     ]
    }
   ],
   "source": [
    "a = np.array([3.,2.])\n",
    "b = np.array([11.,3.])\n",
    "print(np.divmod(b,a))"
   ]
  },
  {
   "cell_type": "markdown",
   "metadata": {},
   "source": [
    "### np.power\n",
    "累乗の計算です。ベクトルを指定するとベクトル同士の指数の計算になります。\n",
    "\n",
    "#### $2^3=8$"
   ]
  },
  {
   "cell_type": "code",
   "execution_count": 13,
   "metadata": {},
   "outputs": [
    {
     "data": {
      "text/plain": [
       "8"
      ]
     },
     "execution_count": 13,
     "metadata": {},
     "output_type": "execute_result"
    }
   ],
   "source": [
    "np.power(2,3)"
   ]
  },
  {
   "cell_type": "markdown",
   "metadata": {},
   "source": [
    "#### $4^1$ と $3^2$"
   ]
  },
  {
   "cell_type": "code",
   "execution_count": 14,
   "metadata": {},
   "outputs": [
    {
     "data": {
      "text/plain": [
       "array([4., 9.])"
      ]
     },
     "execution_count": 14,
     "metadata": {},
     "output_type": "execute_result"
    }
   ],
   "source": [
    "a = np.array([1.,2.])\n",
    "b = np.array([4.,3.])\n",
    "np.power(b,a)"
   ]
  },
  {
   "cell_type": "code",
   "execution_count": 15,
   "metadata": {},
   "outputs": [
    {
     "data": {
      "text/plain": [
       "array([3., 1.])"
      ]
     },
     "execution_count": 15,
     "metadata": {},
     "output_type": "execute_result"
    }
   ],
   "source": [
    "a = np.array([1.,2.])\n",
    "b = np.array([4.,3.])\n",
    "np.subtract(b,a)"
   ]
  },
  {
   "cell_type": "markdown",
   "metadata": {},
   "source": [
    "## 指数と対数"
   ]
  },
  {
   "cell_type": "markdown",
   "metadata": {},
   "source": [
    "### np.exp()\n",
    "$\\exp{x}$を計算します。"
   ]
  },
  {
   "cell_type": "code",
   "execution_count": 16,
   "metadata": {},
   "outputs": [
    {
     "name": "stdout",
     "output_type": "stream",
     "text": [
      "1.0\n",
      "2.718281828459045\n",
      "7.38905609893065\n"
     ]
    }
   ],
   "source": [
    "print(np.exp(0))\n",
    "print(np.exp(1))\n",
    "print(np.exp(2))"
   ]
  },
  {
   "cell_type": "markdown",
   "metadata": {},
   "source": [
    "### np.expm1()\n",
    "$\\exp{x}-1$を計算します。"
   ]
  },
  {
   "cell_type": "code",
   "execution_count": 17,
   "metadata": {},
   "outputs": [
    {
     "name": "stdout",
     "output_type": "stream",
     "text": [
      "0.0\n",
      "1.7182818284590453\n",
      "6.38905609893065\n"
     ]
    }
   ],
   "source": [
    "print(np.expm1(0))\n",
    "print(np.expm1(1))\n",
    "print(np.expm1(2))"
   ]
  },
  {
   "cell_type": "markdown",
   "metadata": {},
   "source": [
    "### np.exp2()\n",
    "$2^{x}$を計算します。"
   ]
  },
  {
   "cell_type": "code",
   "execution_count": 18,
   "metadata": {},
   "outputs": [
    {
     "name": "stdout",
     "output_type": "stream",
     "text": [
      "1.0\n",
      "2.0\n",
      "4.0\n"
     ]
    }
   ],
   "source": [
    "print(np.exp2(0))\n",
    "print(np.exp2(1))\n",
    "print(np.exp2(2))"
   ]
  },
  {
   "cell_type": "markdown",
   "metadata": {},
   "source": [
    "### np.log()\n",
    "$\\log{x}$を計算します。底は自然対数になります。"
   ]
  },
  {
   "cell_type": "code",
   "execution_count": 19,
   "metadata": {},
   "outputs": [
    {
     "name": "stdout",
     "output_type": "stream",
     "text": [
      "0.0\n",
      "0.6931471805599453\n",
      "1.0\n"
     ]
    }
   ],
   "source": [
    "print(np.log(1))\n",
    "print(np.log(2))\n",
    "print(np.log(np.e))"
   ]
  },
  {
   "cell_type": "markdown",
   "metadata": {},
   "source": [
    "### np.log10()\n",
    "$\\log_{10}{x}$を計算します。"
   ]
  },
  {
   "cell_type": "code",
   "execution_count": 20,
   "metadata": {},
   "outputs": [
    {
     "name": "stdout",
     "output_type": "stream",
     "text": [
      "0.0\n",
      "0.3010299956639812\n",
      "1.0\n"
     ]
    }
   ],
   "source": [
    "print(np.log10(1))\n",
    "print(np.log10(2))\n",
    "print(np.log10(10))"
   ]
  },
  {
   "cell_type": "markdown",
   "metadata": {},
   "source": [
    "### np.log2()\n",
    "$\\log_{2}{x}$を計算します。"
   ]
  },
  {
   "cell_type": "code",
   "execution_count": 21,
   "metadata": {},
   "outputs": [
    {
     "name": "stdout",
     "output_type": "stream",
     "text": [
      "0.0\n",
      "1.0\n",
      "3.321928094887362\n"
     ]
    }
   ],
   "source": [
    "print(np.log2(1))\n",
    "print(np.log2(2))\n",
    "print(np.log2(10))"
   ]
  },
  {
   "cell_type": "markdown",
   "metadata": {},
   "source": [
    "### np.log1p()\n",
    "$\\log{(x + 1)}$を計算します。底は自然対数になります。これはデータ分析においてよく利用します。元の数字が0になる場合、1を足して対数をとり、分類器にかけることがしばしば発生します。いわゆるloglossを計算するときです。"
   ]
  },
  {
   "cell_type": "code",
   "execution_count": 22,
   "metadata": {},
   "outputs": [
    {
     "name": "stdout",
     "output_type": "stream",
     "text": [
      "0.0\n",
      "0.6931471805599453\n",
      "1.0\n"
     ]
    }
   ],
   "source": [
    "print(np.log1p(0))\n",
    "print(np.log1p(1))\n",
    "print(np.log1p(-1 + np.e))"
   ]
  },
  {
   "cell_type": "markdown",
   "metadata": {},
   "source": [
    "## その他の便利関数"
   ]
  },
  {
   "cell_type": "markdown",
   "metadata": {},
   "source": [
    "### np.sqrt()\n",
    "平方根を計算します。"
   ]
  },
  {
   "cell_type": "code",
   "execution_count": 23,
   "metadata": {},
   "outputs": [
    {
     "data": {
      "text/plain": [
       "2.0"
      ]
     },
     "execution_count": 23,
     "metadata": {},
     "output_type": "execute_result"
    }
   ],
   "source": [
    "np.sqrt(4)"
   ]
  },
  {
   "cell_type": "markdown",
   "metadata": {},
   "source": [
    "### np.cbrt()\n",
    "三乗根を計算します。"
   ]
  },
  {
   "cell_type": "code",
   "execution_count": 24,
   "metadata": {},
   "outputs": [
    {
     "data": {
      "text/plain": [
       "2.0"
      ]
     },
     "execution_count": 24,
     "metadata": {},
     "output_type": "execute_result"
    }
   ],
   "source": [
    "np.cbrt(8)"
   ]
  },
  {
   "cell_type": "markdown",
   "metadata": {},
   "source": [
    "### np.square()\n",
    "2乗を計算します。"
   ]
  },
  {
   "cell_type": "code",
   "execution_count": 25,
   "metadata": {},
   "outputs": [
    {
     "data": {
      "text/plain": [
       "4"
      ]
     },
     "execution_count": 25,
     "metadata": {},
     "output_type": "execute_result"
    }
   ],
   "source": [
    "np.square(2)"
   ]
  },
  {
   "cell_type": "markdown",
   "metadata": {},
   "source": [
    "### np.absolute()\n",
    "絶対値を計算します。複素数に対応しています。"
   ]
  },
  {
   "cell_type": "code",
   "execution_count": 26,
   "metadata": {},
   "outputs": [
    {
     "name": "stdout",
     "output_type": "stream",
     "text": [
      "4\n",
      "[1 2 4]\n",
      "1.4142135623730951\n"
     ]
    }
   ],
   "source": [
    "print(np.absolute(-4))\n",
    "print(np.absolute([1,-2,-4]))\n",
    "print(np.absolute(complex(1,1))) # => sqrt(2) "
   ]
  },
  {
   "cell_type": "markdown",
   "metadata": {},
   "source": [
    "### np.convolve()\n",
    "畳み込みを計算します。"
   ]
  },
  {
   "cell_type": "code",
   "execution_count": 27,
   "metadata": {},
   "outputs": [
    {
     "name": "stdout",
     "output_type": "stream",
     "text": [
      "[0.  1.5 5.  8.5 6. ]\n",
      "[1.5 5.  8.5]\n",
      "[5.]\n"
     ]
    }
   ],
   "source": [
    "a = np.array([1,2,3])\n",
    "b = np.array([0,1.5,2])\n",
    "\n",
    "print(np.convolve(a,b, mode='full')) # defalut mode = full\n",
    "print(np.convolve(a,b, mode='same'))\n",
    "print(np.convolve(a,b, mode='valid'))"
   ]
  },
  {
   "cell_type": "markdown",
   "metadata": {},
   "source": [
    "### np.heaviside()\n",
    "\n",
    "ヘヴィサイドの階段関数です。\n",
    "<div>\n",
    "\n",
    "$$\n",
    "H_c(x)=\n",
    "{\n",
    "  \\begin{cases}\n",
    "  1\\ (x \\gt 0)\\\\\\\\\n",
    "  c\\ (x = 0)\\\\\\\\\n",
    "  0\\ (x \\lt 0)\n",
    "  \\end{cases}\n",
    "}\n",
    "$$\n",
    "</div>\n",
    "\n",
    "データ分析などではそれほど使う機会はありませんが、一応記載しておきます。\n",
    "```python\n",
    "np.heaviside(a, 10)\n",
    "```\n",
    "と表記し、$c=10$に対応します。"
   ]
  },
  {
   "cell_type": "code",
   "execution_count": 28,
   "metadata": {},
   "outputs": [
    {
     "name": "stdout",
     "output_type": "stream",
     "text": [
      "[-2, -1, 0, 1, 2]\n",
      "[ 0.  0. 10.  1.  1.]\n"
     ]
    }
   ],
   "source": [
    "a = [i for i in range(-2,3)]\n",
    "print(a)\n",
    "print(np.heaviside(a, 10))"
   ]
  },
  {
   "cell_type": "markdown",
   "metadata": {},
   "source": [
    "### np.interp()\n",
    "線形補間した値を返します。\n",
    "\n",
    "```python\n",
    "x = [0,1,2]\n",
    "y = [2,100,50]\n",
    "\n",
    "x1 = [0.5, 1.8]\n",
    "y1 = np.interp(x1, x,y)\n",
    "```\n",
    "\n",
    "このように定義することで、$(x,y) = (0,2), (1,100)$を結ぶ直線の$x=0.5$の値と、$(x,y) = (1,100),(2,50)$を結ぶ直線の$x=1.8$の値を求める事ができます。以下の様にグラフに書くとわかりやすいかと思います。\n"
   ]
  },
  {
   "cell_type": "code",
   "execution_count": 29,
   "metadata": {},
   "outputs": [
    {
     "name": "stdout",
     "output_type": "stream",
     "text": [
      "x1 :  [0.5, 1.8]\n",
      "y1 :  [51. 60.]\n"
     ]
    }
   ],
   "source": [
    "import matplotlib.pyplot as plt\n",
    "\n",
    "x = [0,1,2]\n",
    "y = [2,100,50]\n",
    "\n",
    "plt.grid()\n",
    "plt.plot(x,y,marker='o')\n",
    "\n",
    "x1 = [0.5, 1.8]\n",
    "y1 = np.interp(x1, x,y)\n",
    "\n",
    "plt.scatter(x1,y1,marker='^',c='red')\n",
    "print('x1 : ', x1)\n",
    "print('y1 : ', y1)"
   ]
  },
  {
   "cell_type": "markdown",
   "metadata": {},
   "source": [
    "## 三角関数\n",
    "\n",
    "### np.sin()\n",
    "$\\sin x$です。"
   ]
  },
  {
   "cell_type": "code",
   "execution_count": 30,
   "metadata": {},
   "outputs": [
    {
     "name": "stdout",
     "output_type": "stream",
     "text": [
      "0.0\n",
      "1.0\n",
      "1.2246467991473532e-16\n"
     ]
    }
   ],
   "source": [
    "print(np.sin(0))\n",
    "print(np.sin(np.pi / 2))\n",
    "print(np.sin(np.pi))"
   ]
  },
  {
   "cell_type": "markdown",
   "metadata": {},
   "source": [
    "### np.cos()\n",
    "$\\cos x$です。"
   ]
  },
  {
   "cell_type": "code",
   "execution_count": 31,
   "metadata": {},
   "outputs": [
    {
     "name": "stdout",
     "output_type": "stream",
     "text": [
      "1.0\n",
      "6.123233995736766e-17\n",
      "-1.0\n"
     ]
    }
   ],
   "source": [
    "print(np.cos(0))\n",
    "print(np.cos(np.pi / 2))\n",
    "print(np.cos(np.pi))"
   ]
  },
  {
   "cell_type": "markdown",
   "metadata": {},
   "source": [
    "### np.tan()\n",
    "$\\tan x$です。"
   ]
  },
  {
   "cell_type": "code",
   "execution_count": 32,
   "metadata": {},
   "outputs": [
    {
     "name": "stdout",
     "output_type": "stream",
     "text": [
      "0.0\n",
      "0.9999999999999999\n",
      "-1.2246467991473532e-16\n"
     ]
    }
   ],
   "source": [
    "print(np.tan(0))\n",
    "print(np.tan(np.pi / 4))\n",
    "print(np.tan(np.pi))"
   ]
  },
  {
   "cell_type": "markdown",
   "metadata": {},
   "source": [
    "### np.arcsin()\n",
    "$\\sin x$の逆関数です。"
   ]
  },
  {
   "cell_type": "code",
   "execution_count": 33,
   "metadata": {},
   "outputs": [
    {
     "name": "stdout",
     "output_type": "stream",
     "text": [
      "0.0\n",
      "1.5707963267948966\n",
      "-1.5707963267948966\n"
     ]
    }
   ],
   "source": [
    "print(np.arcsin(0))\n",
    "print(np.arcsin(1))\n",
    "print(np.arcsin(-1))"
   ]
  },
  {
   "cell_type": "markdown",
   "metadata": {},
   "source": [
    "### np.arccos()\n",
    "$\\cos x$の逆関数です。"
   ]
  },
  {
   "cell_type": "code",
   "execution_count": 34,
   "metadata": {},
   "outputs": [
    {
     "name": "stdout",
     "output_type": "stream",
     "text": [
      "1.5707963267948966\n",
      "0.0\n",
      "3.141592653589793\n"
     ]
    }
   ],
   "source": [
    "print(np.arccos(0))\n",
    "print(np.arccos(1))\n",
    "print(np.arccos(-1))"
   ]
  },
  {
   "cell_type": "markdown",
   "metadata": {},
   "source": [
    "### np.arctan()\n",
    "$\\tan x$の逆関数です。"
   ]
  },
  {
   "cell_type": "code",
   "execution_count": 35,
   "metadata": {},
   "outputs": [
    {
     "name": "stdout",
     "output_type": "stream",
     "text": [
      "0.0\n",
      "0.7853981633974483\n",
      "-0.7853981633974483\n"
     ]
    }
   ],
   "source": [
    "print(np.arctan(0))\n",
    "print(np.arctan(1))\n",
    "print(np.arctan(-1))"
   ]
  },
  {
   "cell_type": "markdown",
   "metadata": {},
   "source": [
    "### np.sinh()\n",
    "双曲線正弦関数です。\n",
    "<div>\n",
    "$\n",
    "\\displaystyle \\sinh x = \\frac{e^x - e^{-x}}{2}\n",
    "$\n",
    "</div>"
   ]
  },
  {
   "cell_type": "code",
   "execution_count": 36,
   "metadata": {},
   "outputs": [
    {
     "name": "stdout",
     "output_type": "stream",
     "text": [
      "0.0\n",
      "-1.1752011936438014\n",
      "1.1752011936438014\n"
     ]
    }
   ],
   "source": [
    "print(np.sinh(0))\n",
    "print(np.sinh(-1))\n",
    "print(np.sinh(1))"
   ]
  },
  {
   "cell_type": "markdown",
   "metadata": {},
   "source": [
    "### np.cosh()\n",
    "双曲線余弦関数です。\n",
    "<div>\n",
    "$\n",
    "\\displaystyle \\cosh x = \\frac{e^x + e^{-x}}{2}\n",
    "$\n",
    "</div>"
   ]
  },
  {
   "cell_type": "code",
   "execution_count": 37,
   "metadata": {},
   "outputs": [
    {
     "name": "stdout",
     "output_type": "stream",
     "text": [
      "1.0\n",
      "1.5430806348152437\n",
      "1.5430806348152437\n"
     ]
    }
   ],
   "source": [
    "print(np.cosh(0))\n",
    "print(np.cosh(-1))\n",
    "print(np.cosh(1))"
   ]
  },
  {
   "cell_type": "markdown",
   "metadata": {},
   "source": [
    "### np.tanh()\n",
    "双曲線正接関数です。\n",
    "<div>\n",
    "$\n",
    "\\displaystyle \\tanh x = \\frac{\\sinh x}{\\cosh x}\n",
    "$\n",
    "</div>"
   ]
  },
  {
   "cell_type": "code",
   "execution_count": 38,
   "metadata": {},
   "outputs": [
    {
     "name": "stdout",
     "output_type": "stream",
     "text": [
      "0.0\n",
      "-0.7615941559557649\n",
      "0.7615941559557649\n"
     ]
    }
   ],
   "source": [
    "print(np.tanh(0))\n",
    "print(np.tanh(-1))\n",
    "print(np.tanh(1))"
   ]
  },
  {
   "cell_type": "markdown",
   "metadata": {},
   "source": [
    "### np.arcsinh()\n",
    "$\\sinh x$の逆関数です。"
   ]
  },
  {
   "cell_type": "code",
   "execution_count": 39,
   "metadata": {},
   "outputs": [
    {
     "name": "stdout",
     "output_type": "stream",
     "text": [
      "0.0\n",
      "0.881373587019543\n",
      "-0.881373587019543\n"
     ]
    }
   ],
   "source": [
    "print(np.arcsinh(0))\n",
    "print(np.arcsinh(1))\n",
    "print(np.arcsinh(-1))"
   ]
  },
  {
   "cell_type": "markdown",
   "metadata": {},
   "source": [
    "### np.arccosh()\n",
    "$\\cosh x$の逆関数です。"
   ]
  },
  {
   "cell_type": "code",
   "execution_count": 40,
   "metadata": {},
   "outputs": [
    {
     "name": "stdout",
     "output_type": "stream",
     "text": [
      "nan\n",
      "0.0\n",
      "nan\n"
     ]
    },
    {
     "name": "stderr",
     "output_type": "stream",
     "text": [
      "/Users/hiroshi/anaconda3/lib/python3.5/site-packages/ipykernel_launcher.py:1: RuntimeWarning: invalid value encountered in arccosh\n",
      "  \"\"\"Entry point for launching an IPython kernel.\n",
      "/Users/hiroshi/anaconda3/lib/python3.5/site-packages/ipykernel_launcher.py:3: RuntimeWarning: invalid value encountered in arccosh\n",
      "  This is separate from the ipykernel package so we can avoid doing imports until\n"
     ]
    }
   ],
   "source": [
    "print(np.arccosh(0))\n",
    "print(np.arccosh(1))\n",
    "print(np.arccosh(-1))"
   ]
  },
  {
   "cell_type": "markdown",
   "metadata": {},
   "source": [
    "### np.arctanh()\n",
    "$\\tanh x$の逆関数です。"
   ]
  },
  {
   "cell_type": "code",
   "execution_count": 41,
   "metadata": {},
   "outputs": [
    {
     "name": "stdout",
     "output_type": "stream",
     "text": [
      "0.0\n",
      "0.5493061443340549\n",
      "-0.5493061443340549\n"
     ]
    }
   ],
   "source": [
    "print(np.arctanh(0))\n",
    "print(np.arctanh(0.5))\n",
    "print(np.arctanh(-0.5))"
   ]
  },
  {
   "cell_type": "markdown",
   "metadata": {},
   "source": [
    "### np.deg2rad()\n",
    "弧度法からラジアン表記に変換します。"
   ]
  },
  {
   "cell_type": "code",
   "execution_count": 42,
   "metadata": {},
   "outputs": [
    {
     "data": {
      "text/plain": [
       "0.7853981633974483"
      ]
     },
     "execution_count": 42,
     "metadata": {},
     "output_type": "execute_result"
    }
   ],
   "source": [
    "np.deg2rad(45) # => pi / 4 "
   ]
  },
  {
   "cell_type": "markdown",
   "metadata": {},
   "source": [
    "### np.rad2deg()\n",
    "弧度法からラジアン表記に変換します。"
   ]
  },
  {
   "cell_type": "code",
   "execution_count": 43,
   "metadata": {},
   "outputs": [
    {
     "data": {
      "text/plain": [
       "45.0"
      ]
     },
     "execution_count": 43,
     "metadata": {},
     "output_type": "execute_result"
    }
   ],
   "source": [
    "np.rad2deg(np.pi / 4)"
   ]
  },
  {
   "cell_type": "markdown",
   "metadata": {},
   "source": [
    "## 統計情報の取得"
   ]
  },
  {
   "cell_type": "markdown",
   "metadata": {},
   "source": [
    "### np.max()\n",
    "配列の最大値を返します。"
   ]
  },
  {
   "cell_type": "code",
   "execution_count": 44,
   "metadata": {},
   "outputs": [
    {
     "name": "stdout",
     "output_type": "stream",
     "text": [
      "a   :  [13 62 95 31 34  2 29 40 99  4]\n",
      "max :  99\n",
      "[[2 8 5]\n",
      " [3 4 5]\n",
      " [9 2 3]]\n",
      "[9 8 5]\n",
      "[[[3 3 7]\n",
      "  [6 4 9]\n",
      "  [4 0 1]]\n",
      "\n",
      " [[1 7 2]\n",
      "  [2 7 6]\n",
      "  [4 7 9]]\n",
      "\n",
      " [[9 3 7]\n",
      "  [1 5 6]\n",
      "  [4 5 5]]]\n",
      "[[6 4 9]\n",
      " [4 7 9]\n",
      " [9 5 7]]\n"
     ]
    }
   ],
   "source": [
    "a = np.random.randint(100,size=10)\n",
    "\n",
    "print('a   : ',a)\n",
    "print('max : ',np.max(a))\n",
    "\n",
    "b = np.random.randint(10, size=9).reshape(-1,3)\n",
    "print(b)\n",
    "print(np.max(b, axis=0))\n",
    "\n",
    "b = np.random.randint(10, size=27).reshape(-1,3,3)\n",
    "print(b)\n",
    "print(np.max(b, axis=1))"
   ]
  },
  {
   "cell_type": "markdown",
   "metadata": {},
   "source": [
    "### np.argmax()\n",
    "配列の最大値の位置を返します。"
   ]
  },
  {
   "cell_type": "code",
   "execution_count": 45,
   "metadata": {},
   "outputs": [
    {
     "name": "stdout",
     "output_type": "stream",
     "text": [
      "a            :  [54 37 64 12 90 86 27  5 52 43]\n",
      "max position :  4\n"
     ]
    }
   ],
   "source": [
    "a = np.random.randint(100,size=10)\n",
    "\n",
    "print('a            : ',a)\n",
    "print('max position : ',np.argmax(a))"
   ]
  },
  {
   "cell_type": "markdown",
   "metadata": {},
   "source": [
    "### np.min()\n",
    "配列の最小値を返します。"
   ]
  },
  {
   "cell_type": "code",
   "execution_count": 46,
   "metadata": {},
   "outputs": [
    {
     "name": "stdout",
     "output_type": "stream",
     "text": [
      "a   :  [61 43  5 55 85 45 62 98 23 12]\n",
      "min :  5\n"
     ]
    }
   ],
   "source": [
    "a = np.random.randint(100,size=10)\n",
    "\n",
    "print('a   : ',a)\n",
    "print('min : ',np.min(a))"
   ]
  },
  {
   "cell_type": "markdown",
   "metadata": {},
   "source": [
    "### np.argmax()\n",
    "配列の最小値の位置を返します。"
   ]
  },
  {
   "cell_type": "code",
   "execution_count": 47,
   "metadata": {},
   "outputs": [
    {
     "name": "stdout",
     "output_type": "stream",
     "text": [
      "a            :  [16 64  0 50 69 78 71 68 87 72]\n",
      "min position :  2\n"
     ]
    }
   ],
   "source": [
    "a = np.random.randint(100,size=10)\n",
    "\n",
    "print('a            : ',a)\n",
    "print('min position : ',np.argmin(a))"
   ]
  },
  {
   "cell_type": "markdown",
   "metadata": {},
   "source": [
    "### np.maximum()\n",
    "二つの配列を比較し、大きい値を選択し新たなndarrayを作ります。"
   ]
  },
  {
   "cell_type": "code",
   "execution_count": 48,
   "metadata": {},
   "outputs": [
    {
     "name": "stdout",
     "output_type": "stream",
     "text": [
      "a   :  [41 19 30 67 56 82 51 62 85 88]\n",
      "b   :  [98 22 77 63 69 54  6 84 74 80]\n",
      "max :  [98 22 77 67 69 82 51 84 85 88]\n"
     ]
    }
   ],
   "source": [
    "a = np.random.randint(100,size=10)\n",
    "b = np.random.randint(100,size=10)\n",
    "\n",
    "print('a   : ',a)\n",
    "print('b   : ',b)\n",
    "print('max : ',np.maximum(a,b))"
   ]
  },
  {
   "cell_type": "markdown",
   "metadata": {},
   "source": [
    "### np.minimum()\n",
    "二つの配列を比較し、小さい値を選択し新たなndarrayを作ります。"
   ]
  },
  {
   "cell_type": "code",
   "execution_count": 49,
   "metadata": {},
   "outputs": [
    {
     "name": "stdout",
     "output_type": "stream",
     "text": [
      "a   :  [47 79  5 70 11 14 92 51 43 18]\n",
      "b   :  [91  4 87 70 37 81 50 52  6 63]\n",
      "min :  [47  4  5 70 11 14 50 51  6 18]\n"
     ]
    }
   ],
   "source": [
    "a = np.random.randint(100,size=10)\n",
    "b = np.random.randint(100,size=10)\n",
    "\n",
    "print('a   : ',a)\n",
    "print('b   : ',b)\n",
    "print('min : ',np.minimum(a,b))"
   ]
  },
  {
   "cell_type": "markdown",
   "metadata": {},
   "source": [
    "## 行列計算"
   ]
  },
  {
   "cell_type": "markdown",
   "metadata": {},
   "source": [
    "### np.eye()\n",
    "単位行列を作成します。"
   ]
  },
  {
   "cell_type": "code",
   "execution_count": 50,
   "metadata": {},
   "outputs": [
    {
     "data": {
      "text/plain": [
       "array([[1., 0., 0.],\n",
       "       [0., 1., 0.],\n",
       "       [0., 0., 1.]])"
      ]
     },
     "execution_count": 50,
     "metadata": {},
     "output_type": "execute_result"
    }
   ],
   "source": [
    "np.eye(3)"
   ]
  },
  {
   "cell_type": "markdown",
   "metadata": {},
   "source": [
    "### np.identify()\n",
    "単位行列を作成します。"
   ]
  },
  {
   "cell_type": "code",
   "execution_count": 51,
   "metadata": {},
   "outputs": [
    {
     "data": {
      "text/plain": [
       "array([[1., 0., 0.],\n",
       "       [0., 1., 0.],\n",
       "       [0., 0., 1.]])"
      ]
     },
     "execution_count": 51,
     "metadata": {},
     "output_type": "execute_result"
    }
   ],
   "source": [
    "np.identity(3)"
   ]
  },
  {
   "cell_type": "code",
   "execution_count": null,
   "metadata": {},
   "outputs": [],
   "source": []
  },
  {
   "cell_type": "code",
   "execution_count": null,
   "metadata": {},
   "outputs": [],
   "source": []
  },
  {
   "cell_type": "code",
   "execution_count": null,
   "metadata": {},
   "outputs": [],
   "source": []
  },
  {
   "cell_type": "code",
   "execution_count": null,
   "metadata": {},
   "outputs": [],
   "source": []
  },
  {
   "cell_type": "code",
   "execution_count": null,
   "metadata": {},
   "outputs": [],
   "source": []
  },
  {
   "cell_type": "code",
   "execution_count": null,
   "metadata": {},
   "outputs": [],
   "source": []
  },
  {
   "cell_type": "code",
   "execution_count": null,
   "metadata": {},
   "outputs": [],
   "source": []
  },
  {
   "cell_type": "code",
   "execution_count": null,
   "metadata": {},
   "outputs": [],
   "source": []
  },
  {
   "cell_type": "code",
   "execution_count": null,
   "metadata": {},
   "outputs": [],
   "source": []
  }
 ],
 "metadata": {
  "kernelspec": {
   "display_name": "Python 3",
   "language": "python",
   "name": "python3"
  },
  "language_info": {
   "codemirror_mode": {
    "name": "ipython",
    "version": 3
   },
   "file_extension": ".py",
   "mimetype": "text/x-python",
   "name": "python",
   "nbconvert_exporter": "python",
   "pygments_lexer": "ipython3",
   "version": "3.5.5"
  },
  "widgets": {
   "state": {},
   "version": "1.1.2"
  }
 },
 "nbformat": 4,
 "nbformat_minor": 2
}
