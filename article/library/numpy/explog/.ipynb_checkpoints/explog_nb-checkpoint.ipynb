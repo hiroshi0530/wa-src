{
 "cells": [
  {
   "cell_type": "markdown",
   "metadata": {},
   "source": [
    "## Numpy個人的tips\n",
    "\n",
    "numpyもデータ分析や数値計算には欠かせないツールの一つです。機械学習などを実装していると必ず必要とされるライブラリです。個人的な備忘録としてメモを残しておきます。詳細は以下の公式ページを参照してください。\n",
    "- [公式ページ](https://docs.scipy.org/doc/numpy/reference/)\n",
    "\n",
    "### 目次\n",
    "- [1. 基本的な演算](/article/library/numpy/base/)\n",
    "- [2. 三角関数](/article/library/numpy/trigonometric/)\n",
    "- [3. 指数・対数](/article/library/numpy/explog/) <= 今ここ\n",
    "- [4. 統計関数](/article/library/numpy/statistics/)\n",
    "- [5. 線形代数](/article/library/numpy/matrix/)\n",
    "- [6. サンプリング](/article/library/numpy/sampling/)\n",
    "- [7. その他](/article/library/numpy/misc/)\n",
    "\n",
    "### github\n",
    "- githubのjupyter notebook形式のファイルは[こちら](https://github.com/hiroshi0530/wa/blob/master/src/numpy/explog/explog_nb.ipynb)\n",
    "\n",
    "### 筆者の環境\n",
    "筆者の環境とimportの方法は以下の通りです。"
   ]
  },
  {
   "cell_type": "code",
   "execution_count": 1,
   "metadata": {},
   "outputs": [
    {
     "name": "stdout",
     "output_type": "stream",
     "text": [
      "ProductName:\tMac OS X\r\n",
      "ProductVersion:\t10.14.6\r\n",
      "BuildVersion:\t18G2022\r\n"
     ]
    }
   ],
   "source": [
    "!sw_vers"
   ]
  },
  {
   "cell_type": "code",
   "execution_count": 1,
   "metadata": {},
   "outputs": [
    {
     "name": "stdout",
     "output_type": "stream",
     "text": [
      "Python 3.7.3\r\n"
     ]
    }
   ],
   "source": [
    "!python -V"
   ]
  },
  {
   "cell_type": "code",
   "execution_count": 2,
   "metadata": {},
   "outputs": [
    {
     "data": {
      "text/plain": [
       "'1.16.2'"
      ]
     },
     "execution_count": 2,
     "metadata": {},
     "output_type": "execute_result"
    }
   ],
   "source": [
    "%matplotlib inline\n",
    "%config InlineBackend.figure_format = 'svg'\n",
    "\n",
    "import numpy as np\n",
    "\n",
    "np.__version__"
   ]
  },
  {
   "cell_type": "markdown",
   "metadata": {},
   "source": [
    "## 指数と対数"
   ]
  },
  {
   "cell_type": "markdown",
   "metadata": {},
   "source": [
    "### np.exp(x)\n",
    "$\\exp{x}$を計算します。"
   ]
  },
  {
   "cell_type": "code",
   "execution_count": 3,
   "metadata": {},
   "outputs": [
    {
     "name": "stdout",
     "output_type": "stream",
     "text": [
      "1.0\n",
      "2.718281828459045\n",
      "7.38905609893065\n"
     ]
    }
   ],
   "source": [
    "print(np.exp(0))\n",
    "print(np.exp(1))\n",
    "print(np.exp(2))"
   ]
  },
  {
   "cell_type": "markdown",
   "metadata": {},
   "source": [
    "### np.expm1(x)\n",
    "$\\exp{x}-1$を計算します。"
   ]
  },
  {
   "cell_type": "code",
   "execution_count": 4,
   "metadata": {},
   "outputs": [
    {
     "name": "stdout",
     "output_type": "stream",
     "text": [
      "0.0\n",
      "1.7182818284590453\n",
      "6.38905609893065\n"
     ]
    }
   ],
   "source": [
    "print(np.expm1(0))\n",
    "print(np.expm1(1))\n",
    "print(np.expm1(2))"
   ]
  },
  {
   "cell_type": "markdown",
   "metadata": {},
   "source": [
    "### np.exp2(x)\n",
    "$2^{x}$を計算します。"
   ]
  },
  {
   "cell_type": "code",
   "execution_count": 5,
   "metadata": {},
   "outputs": [
    {
     "name": "stdout",
     "output_type": "stream",
     "text": [
      "1.0\n",
      "2.0\n",
      "4.0\n"
     ]
    }
   ],
   "source": [
    "print(np.exp2(0))\n",
    "print(np.exp2(1))\n",
    "print(np.exp2(2))"
   ]
  },
  {
   "cell_type": "markdown",
   "metadata": {},
   "source": [
    "### np.log(x)\n",
    "$\\log{x}$を計算します。底は自然対数になります。"
   ]
  },
  {
   "cell_type": "code",
   "execution_count": 6,
   "metadata": {},
   "outputs": [
    {
     "name": "stdout",
     "output_type": "stream",
     "text": [
      "0.0\n",
      "0.6931471805599453\n",
      "1.0\n"
     ]
    }
   ],
   "source": [
    "print(np.log(1))\n",
    "print(np.log(2))\n",
    "print(np.log(np.e))"
   ]
  },
  {
   "cell_type": "markdown",
   "metadata": {},
   "source": [
    "### np.log10(x)\n",
    "$\\log_{10}{x}$を計算します。"
   ]
  },
  {
   "cell_type": "code",
   "execution_count": 7,
   "metadata": {},
   "outputs": [
    {
     "name": "stdout",
     "output_type": "stream",
     "text": [
      "0.0\n",
      "0.3010299956639812\n",
      "1.0\n"
     ]
    }
   ],
   "source": [
    "print(np.log10(1))\n",
    "print(np.log10(2))\n",
    "print(np.log10(10))"
   ]
  },
  {
   "cell_type": "markdown",
   "metadata": {},
   "source": [
    "### np.log2(x)\n",
    "$\\log_{2}{x}$を計算します。"
   ]
  },
  {
   "cell_type": "code",
   "execution_count": 8,
   "metadata": {},
   "outputs": [
    {
     "name": "stdout",
     "output_type": "stream",
     "text": [
      "0.0\n",
      "1.0\n",
      "3.321928094887362\n"
     ]
    }
   ],
   "source": [
    "print(np.log2(1))\n",
    "print(np.log2(2))\n",
    "print(np.log2(10))"
   ]
  },
  {
   "cell_type": "markdown",
   "metadata": {},
   "source": [
    "### np.log1p(x)\n",
    "$\\log{(x + 1)}$を計算します。底は自然対数になります。これはデータ分析においてよく利用します。元の数字が0になる場合、1を足して対数をとり、分類器にかけることがしばしば発生します。いわゆるloglossを計算するときです。"
   ]
  },
  {
   "cell_type": "code",
   "execution_count": 9,
   "metadata": {},
   "outputs": [
    {
     "name": "stdout",
     "output_type": "stream",
     "text": [
      "0.0\n",
      "0.6931471805599453\n",
      "1.0\n"
     ]
    }
   ],
   "source": [
    "print(np.log1p(0))\n",
    "print(np.log1p(1))\n",
    "print(np.log1p(-1 + np.e))"
   ]
  }
 ],
 "metadata": {
  "kernelspec": {
   "display_name": "Python 3",
   "language": "python",
   "name": "python3"
  },
  "language_info": {
   "codemirror_mode": {
    "name": "ipython",
    "version": 3
   },
   "file_extension": ".py",
   "mimetype": "text/x-python",
   "name": "python",
   "nbconvert_exporter": "python",
   "pygments_lexer": "ipython3",
   "version": "3.5.5"
  },
  "widgets": {
   "state": {},
   "version": "1.1.2"
  }
 },
 "nbformat": 4,
 "nbformat_minor": 2
}
