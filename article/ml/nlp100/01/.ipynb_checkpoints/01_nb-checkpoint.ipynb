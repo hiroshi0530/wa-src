{
 "cells": [
  {
   "cell_type": "markdown",
   "metadata": {},
   "source": [
    "## [第1章 準備運動](https://nlp100.github.io/ja/ch01.html)\n",
    "結果だけ載せました。正解かどうかは保障しません笑\n",
    "\n",
    "### github\n",
    "- githubのjupyter notebook形式のファイルは[こちら](https://github.com/hiroshi0530/wa/blob/master/src/ml/nlp100/01/01_nb.ipynb)\n",
    "\n",
    "### 筆者の環境"
   ]
  },
  {
   "cell_type": "code",
   "execution_count": 1,
   "metadata": {},
   "outputs": [
    {
     "name": "stdout",
     "output_type": "stream",
     "text": [
      "ProductName:\tMac OS X\r\n",
      "ProductVersion:\t10.14.6\r\n",
      "BuildVersion:\t18G95\r\n"
     ]
    }
   ],
   "source": [
    "!sw_vers"
   ]
  },
  {
   "cell_type": "code",
   "execution_count": 2,
   "metadata": {},
   "outputs": [
    {
     "name": "stdout",
     "output_type": "stream",
     "text": [
      "Python 3.5.5 :: Anaconda, Inc.\r\n"
     ]
    }
   ],
   "source": [
    "!python -V"
   ]
  },
  {
   "cell_type": "markdown",
   "metadata": {},
   "source": [
    "## 解答"
   ]
  },
  {
   "cell_type": "markdown",
   "metadata": {},
   "source": [
    "### 00問"
   ]
  },
  {
   "cell_type": "code",
   "execution_count": 1,
   "metadata": {},
   "outputs": [
    {
     "data": {
      "text/plain": [
       "'desserts'"
      ]
     },
     "execution_count": 1,
     "metadata": {},
     "output_type": "execute_result"
    }
   ],
   "source": [
    "a = 'stressed'\n",
    "\n",
    "a[::-1]"
   ]
  },
  {
   "cell_type": "markdown",
   "metadata": {},
   "source": [
    "### 01問"
   ]
  },
  {
   "cell_type": "code",
   "execution_count": 4,
   "metadata": {},
   "outputs": [
    {
     "data": {
      "text/plain": [
       "'タクシー'"
      ]
     },
     "execution_count": 4,
     "metadata": {},
     "output_type": "execute_result"
    }
   ],
   "source": [
    "a = 'パタトクカシーー'\n",
    "\n",
    "a[1::2]"
   ]
  },
  {
   "cell_type": "markdown",
   "metadata": {},
   "source": [
    "### 02問"
   ]
  },
  {
   "cell_type": "code",
   "execution_count": 5,
   "metadata": {},
   "outputs": [
    {
     "data": {
      "text/plain": [
       "'パタトクカシーー'"
      ]
     },
     "execution_count": 5,
     "metadata": {},
     "output_type": "execute_result"
    }
   ],
   "source": [
    "a = 'パトカー'\n",
    "b = 'タクシー'\n",
    "\n",
    "''.join([ i + j for i,j in zip(a,b)])"
   ]
  },
  {
   "cell_type": "markdown",
   "metadata": {},
   "source": [
    "### 03問"
   ]
  },
  {
   "cell_type": "code",
   "execution_count": 6,
   "metadata": {},
   "outputs": [
    {
     "data": {
      "text/plain": [
       "[3, 1, 4, 1, 5, 9, 2, 6, 5, 3, 5, 8, 9, 7, 9]"
      ]
     },
     "execution_count": 6,
     "metadata": {},
     "output_type": "execute_result"
    }
   ],
   "source": [
    "a = 'Now I need a drink, alcoholic of course, after the heavy lectures involving quantum mechanics.'\n",
    "\n",
    "list(map(lambda x: len(x.replace(',','').replace('.','')), a.split(' ')))"
   ]
  },
  {
   "cell_type": "markdown",
   "metadata": {},
   "source": [
    "### 04問"
   ]
  },
  {
   "cell_type": "code",
   "execution_count": 7,
   "metadata": {},
   "outputs": [
    {
     "data": {
      "text/plain": [
       "{'Al': 13,\n",
       " 'Ar': 18,\n",
       " 'B': 5,\n",
       " 'Be': 4,\n",
       " 'C': 6,\n",
       " 'Ca': 20,\n",
       " 'Cl': 17,\n",
       " 'F': 9,\n",
       " 'H': 1,\n",
       " 'He': 2,\n",
       " 'K': 19,\n",
       " 'Li': 3,\n",
       " 'Mi': 12,\n",
       " 'N': 7,\n",
       " 'Na': 11,\n",
       " 'Ne': 10,\n",
       " 'O': 8,\n",
       " 'P': 15,\n",
       " 'S': 16,\n",
       " 'Si': 14}"
      ]
     },
     "execution_count": 7,
     "metadata": {},
     "output_type": "execute_result"
    }
   ],
   "source": [
    "a = 'Hi He Lied Because Boron Could Not Oxidize Fluorine. New Nations Might Also Sign Peace Security Clause. Arthur King Can.'\n",
    "b = [1,5,6,7,8,9,15,16,19]\n",
    "\n",
    "ret = {}\n",
    "for i, s in enumerate(map(lambda x: x.replace(',','').replace('.',''), a.split(' '))):\n",
    "  if i + 1 in b:\n",
    "    ret.update({\n",
    "      s[0] : i + 1\n",
    "    })\n",
    "  else:\n",
    "    ret.update({\n",
    "      s[0:2] : i + 1\n",
    "    })\n",
    "    \n",
    "ret"
   ]
  },
  {
   "cell_type": "markdown",
   "metadata": {},
   "source": [
    "### 05問"
   ]
  },
  {
   "cell_type": "code",
   "execution_count": 8,
   "metadata": {},
   "outputs": [
    {
     "name": "stdout",
     "output_type": "stream",
     "text": [
      "[['I', 'am'], ['am', 'an'], ['an', 'NLPer']]\n",
      "['I ', ' a', 'am', 'm ', ' a', 'an', 'n ', ' N', 'NL', 'LP', 'Pe', 'er']\n"
     ]
    }
   ],
   "source": [
    "def n_gram(arg, n):\n",
    "  return [arg[i: i + n] for i in range(len(arg)) if i + n <= len(arg)]\n",
    "\n",
    "a = 'I am an NLPer'\n",
    "\n",
    "print(n_gram(a.split(' '), 2))\n",
    "print(n_gram(a, 2))"
   ]
  },
  {
   "cell_type": "markdown",
   "metadata": {},
   "source": [
    "### 06問"
   ]
  },
  {
   "cell_type": "code",
   "execution_count": 9,
   "metadata": {},
   "outputs": [
    {
     "name": "stdout",
     "output_type": "stream",
     "text": [
      "和集合 :  {'ap', 'is', 'ar', 'se', 'di', 'gr', 'ra', 'ag', 'ph', 'pa', 'ad'}\n",
      "積集合 :  {'di', 'is', 'ag', 'ph', 'ad', 'se', 'gr'}\n",
      "差集合 :  {'is', 'ad', 'se', 'di'}\n",
      "Xにseあり\n",
      "Yにseなし\n"
     ]
    }
   ],
   "source": [
    "a = 'paraparaparadise'\n",
    "b = 'paragraph'\n",
    "\n",
    "X = set(n_gram(a,2))\n",
    "Y = set(n_gram(b,2))\n",
    "\n",
    "print('和集合 : ',X | Y)\n",
    "print('積集合 : ', X ^ Y)\n",
    "print('差集合 : ', X - Y)\n",
    "\n",
    "if 'se' in X:\n",
    "  print('Xにseあり')\n",
    "else:\n",
    "  print('Xにseなし')\n",
    "    \n",
    "if 'se' in Y:\n",
    "  print('Yにseあり')\n",
    "else:\n",
    "  print('Yにseなし')"
   ]
  },
  {
   "cell_type": "markdown",
   "metadata": {},
   "source": [
    "### 07問"
   ]
  },
  {
   "cell_type": "code",
   "execution_count": 10,
   "metadata": {},
   "outputs": [
    {
     "data": {
      "text/plain": [
       "'12時の気温は22.4'"
      ]
     },
     "execution_count": 10,
     "metadata": {},
     "output_type": "execute_result"
    }
   ],
   "source": [
    "def template(x,y,z):\n",
    "  return '{}時の{}は{}'.format(x,y,z)\n",
    "\n",
    "template(12,'気温',22.4)"
   ]
  },
  {
   "cell_type": "markdown",
   "metadata": {},
   "source": [
    "### 08問"
   ]
  },
  {
   "cell_type": "code",
   "execution_count": 11,
   "metadata": {},
   "outputs": [
    {
     "name": "stdout",
     "output_type": "stream",
     "text": [
      "orig      :  sdf234DSFsdf\n",
      "encrypted :  hwu234DSFhwu\n",
      "decrypted :  sdf234DSFsdf\n",
      "judgement :  True\n"
     ]
    }
   ],
   "source": [
    "def cipher(arg):\n",
    "  return ''.join([chr(219 - ord(i)) if i.islower() else i for i in arg])\n",
    "\n",
    "orig = 'sdf234DSFsdf'\n",
    "print('orig      : ',orig)\n",
    "encrypt = cipher(orig)\n",
    "print('encrypted : ',encrypt)\n",
    "decrypt = cipher(encrypt)\n",
    "print('decrypted : ',decrypt)\n",
    "print('judgement : ', orig == decrypt)"
   ]
  },
  {
   "cell_type": "markdown",
   "metadata": {},
   "source": [
    "### 09問"
   ]
  },
  {
   "cell_type": "code",
   "execution_count": 12,
   "metadata": {},
   "outputs": [
    {
     "data": {
      "text/plain": [
       "'I cu’noldt bveliee that I could aaluctly usnadnretd what I was ridneag : the poemeannhl peowr of the haumn mind .'"
      ]
     },
     "execution_count": 12,
     "metadata": {},
     "output_type": "execute_result"
    }
   ],
   "source": [
    "import random \n",
    "\n",
    "a = 'I couldn’t believe that I could actually understand what I was reading : the phenomenal power of the human mind .'\n",
    "\n",
    "def _09(arg):\n",
    "  return ' '.join(list(map(lambda x: x[0] + ''.join(random.sample(x[1:-1], len(x[1:-1]))) + x[-1] if len(x) > 4 else x , a.split(' '))))\n",
    "\n",
    "_09(a)"
   ]
  },
  {
   "cell_type": "markdown",
   "metadata": {},
   "source": [
    "## 関連記事\n",
    "- [第1章 準備運動](/ml/nlp100/01/)\n",
    "- [第2章 UNIXコマンド](/ml/nlp100/02/)\n",
    "- [第3章 正規表現](/ml/nlp100/03/)\n",
    "- [第4章 形態素解析](/ml/nlp100/04/)\n",
    "- [第5章 係り受け解析](/ml/nlp100/05/)\n",
    "- [第6章 機械学習](/ml/nlp100/06/)\n",
    "- [第7章 単語ベクトル](/ml/nlp100/07/)\n",
    "- [第8章 ニューラルネット](/ml/nlp100/08/)\n",
    "- [第9章 RNN,CNN](/ml/nlp100/09/)\n",
    "- [第10章 機械翻訳](/ml/nlp100/10/)"
   ]
  }
 ],
 "metadata": {
  "kernelspec": {
   "display_name": "Python 3",
   "language": "python",
   "name": "python3"
  },
  "language_info": {
   "codemirror_mode": {
    "name": "ipython",
    "version": 3
   },
   "file_extension": ".py",
   "mimetype": "text/x-python",
   "name": "python",
   "nbconvert_exporter": "python",
   "pygments_lexer": "ipython3",
   "version": "3.5.5"
  },
  "widgets": {
   "state": {},
   "version": "1.1.2"
  }
 },
 "nbformat": 4,
 "nbformat_minor": 2
}
