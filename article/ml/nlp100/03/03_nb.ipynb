{
 "cells": [
  {
   "cell_type": "markdown",
   "metadata": {},
   "source": [
    "## [第3章 正規表現](https://nlp100.github.io/ja/ch03.html)\n",
    "結果だけ載せました。正解かどうかは保障しません笑\n",
    "\n",
    "### github\n",
    "- githubのjupyter notebook形式のファイルは[こちら](https://github.com/hiroshi0530/wa/blob/master/src/ml/nlp100/02/02_nb.ipynb)\n",
    "\n",
    "### 筆者の環境"
   ]
  },
  {
   "cell_type": "code",
   "execution_count": 1,
   "metadata": {},
   "outputs": [
    {
     "name": "stdout",
     "output_type": "stream",
     "text": [
      "ProductName:\tMac OS X\r\n",
      "ProductVersion:\t10.14.6\r\n",
      "BuildVersion:\t18G2022\r\n"
     ]
    }
   ],
   "source": [
    "!sw_vers"
   ]
  },
  {
   "cell_type": "code",
   "execution_count": 2,
   "metadata": {},
   "outputs": [
    {
     "name": "stdout",
     "output_type": "stream",
     "text": [
      "Python 3.7.3\r\n"
     ]
    }
   ],
   "source": [
    "!python -V"
   ]
  },
  {
   "cell_type": "code",
   "execution_count": 3,
   "metadata": {
    "scrolled": true
   },
   "outputs": [
    {
     "name": "stdout",
     "output_type": "stream",
     "text": [
      "GNU bash, version 3.2.57(1)-release (x86_64-apple-darwin18)\r\n",
      "Copyright (C) 2007 Free Software Foundation, Inc.\r\n"
     ]
    }
   ],
   "source": [
    "!bash --version"
   ]
  },
  {
   "cell_type": "markdown",
   "metadata": {},
   "source": [
    "### ダウンロードと解凍"
   ]
  },
  {
   "cell_type": "code",
   "execution_count": 4,
   "metadata": {
    "scrolled": false
   },
   "outputs": [
    {
     "name": "stdout",
     "output_type": "stream",
     "text": [
      "--2020-04-24 16:18:05--  https://nlp100.github.io/data/jawiki-country.json.gz\n",
      "nlp100.github.io (nlp100.github.io) をDNSに問いあわせています... 185.199.111.153, 185.199.109.153, 185.199.110.153, ...\n",
      "nlp100.github.io (nlp100.github.io)|185.199.111.153|:443 に接続しています... 接続しました。\n",
      "HTTP による接続要求を送信しました、応答を待っています... 200 OK\n",
      "長さ: 5068362 (4.8M) [application/gzip]\n",
      "`./wiki.json.gz' に保存中\n",
      "\n",
      "./wiki.json.gz      100%[===================>]   4.83M   879KB/s 時間 5.2s       \n",
      "\n",
      "2020-04-24 16:18:12 (955 KB/s) - `./wiki.json.gz' へ保存完了 [5068362/5068362]\n",
      "\n"
     ]
    }
   ],
   "source": [
    "!wget https://nlp100.github.io/data/jawiki-country.json.gz -O ./wiki.json.gz"
   ]
  },
  {
   "cell_type": "code",
   "execution_count": 5,
   "metadata": {
    "scrolled": true
   },
   "outputs": [],
   "source": [
    "!gzip -f -d wiki.json.gz"
   ]
  },
  {
   "cell_type": "markdown",
   "metadata": {},
   "source": [
    "## 解答"
   ]
  },
  {
   "cell_type": "markdown",
   "metadata": {},
   "source": [
    "### 共通部分"
   ]
  },
  {
   "cell_type": "code",
   "execution_count": 6,
   "metadata": {},
   "outputs": [],
   "source": [
    "import re\n",
    "\n",
    "file_name = './wiki.json'"
   ]
  },
  {
   "cell_type": "markdown",
   "metadata": {},
   "source": [
    "### 20問 JSONデータの読み込み"
   ]
  },
  {
   "cell_type": "code",
   "execution_count": 34,
   "metadata": {},
   "outputs": [
    {
     "name": "stdout",
     "output_type": "stream",
     "text": [
      "### 先頭500文字 ###\n",
      "{{redirect|UK}}\n",
      "{{redirect|英国|春秋時代の諸侯国|英 (春秋)}}\n",
      "{{Otheruses|ヨーロッパの国|長崎県・熊本県の郷土料理|いぎりす}}\n",
      "{{基礎情報 国\n",
      "|略名  =イギリス\n",
      "|日本語国名 = グレートブリテン及び北アイルランド連合王国\n",
      "|公式国名 = {{lang|en|United Kingdom of Great Britain and Northern Ireland}}<ref>英語以外での正式国名:<br />\n",
      "*{{lang|gd|An Rìoghachd Aonaichte na Breatainn Mhòr agus Eirinn mu Thuath}}（[[スコットランド・ゲール語]]）\n",
      "*{{lang|cy|Teyrnas Gyfunol Prydain Fawr a Gogledd Iwerddon}}（[[ウェールズ語]]）\n",
      "*{{lang|ga|Ríocht Aontaithe na Breataine Móire agus Tuaisceart na hÉireann}}（[[アイルランド語]]）\n",
      "*{{lang|kw|An Rywvaneth Unys a Vreten Veur hag Iwerdhon Glédh}}（[[コーンウォール語]]）\n",
      "*{{lang|sco|Unitit Kinrick o Great Breetain an Northren Ireland}}（[[スコットランド語]]）\n",
      "**{{lang|sco|Claught Kängrick o Docht Brätain an Norlin Airlann}}、{{lang|sco|Unitet Kängdom o Great Brittain an Norlin Airlann}}（アルスター・スコットランド語）</ref>\n",
      "|国旗画像 = Flag of the United Kingdom.svg\n",
      "|国章画像 = [[ファイル:Royal Coat of Arms of the United Kingdom.svg|85px|イギリスの国章]]\n",
      "|国章リンク =（[[イギリスの国章|国章]]）\n",
      "|標語 = {{lang|fr|[[Dieu et mon droit]]}}<br />（[[フランス語]]:[[Dieu et mon droit|神と我が権利]]）\n",
      "|国歌 = [[女王陛下万歳|{{lang|en|God Save the Queen}}]]{{en icon}}<br />''神よ女王を護り賜え''<br />{{center|[[ファイル:United States Navy Band - God Save the Queen.ogg]]}}\n",
      "|地図画像 = Europe-UK.svg\n",
      "|位置画像 = United Kingdom (+overseas territories) in the World (+Antarctica claims).svg\n",
      "|公用語 = [[英語]]\n",
      "|首都 = [[ロンドン]]（事実上）\n",
      "|最大都市 = ロンドン\n",
      "|元首等肩書 = [[イギリスの君主|女王]]\n",
      "|元首等氏名 = [[エリザベス2世]]\n",
      "|首相等肩書 = [[イギリスの首相|首相]]\n",
      "|首相等氏名 = [[ボリス・ジョンソン]]\n",
      "|他元首等肩書1 = [[貴族院 (イギリス)|貴族院議長]]\n",
      "|他元首等氏名1 = [[:en:Norman Fowler, Baron Fowler|ノーマン・ファウラー]]\n",
      "|他元首等肩書2 = [[庶民院 (イギリス)|庶民院議長]]\n",
      "|他元首等氏名2 = {{仮リンク|リンゼイ・ホイル|en|Lindsay Hoyle}}\n",
      "|他元首等肩書3 = [[連合王国最高裁判所|最高裁判所長官]]\n",
      "|他元首等氏名3 = [[:en:Brenda Hale, Baroness Hale of Richmond|ブレンダ・ヘイル]]\n",
      "|面積順位 = 76\n",
      "|面積大きさ = 1 E11\n",
      "|面積値 = 244,820\n",
      "|水面積率 = 1.3%\n",
      "|人口統計年 = 2018\n",
      "|人口順位 = 22\n",
      "|人口大きさ = 1 E7\n",
      "|人口値 = 6643万5600<ref>{{Cite web|url=https://www.ons.gov.uk/peoplepopulationandcommunity/populationandmigration/populationestimates|title=Population estimates - Office for National Statistics|accessdate=2019-06-26|date=2019-06-26}}</ref>\n",
      "|人口密度値 = 271\n",
      "|GDP統計年元 = 2012\n",
      "|GDP値元 = 1兆5478億<ref name=\"imf-statistics-gdp\">[http://www.imf.org/external/pubs/ft/weo/2012/02/weodata/weorept.aspx?pr.x=70&pr.y=13&sy=2010&ey=2012&scsm=1&ssd=1&sort=country&ds=.&br=1&c=112&s=NGDP%2CNGDPD%2CPPPGDP%2CPPPPC&grp=0&a=IMF>Data and Statistics>World Economic Outlook Databases>By Countrise>United Kingdom]</ref>\n",
      "|GDP統計年MER = 2012\n",
      "|GDP順位MER = 6\n",
      "|GDP値MER = 2兆4337億<ref name=\"imf-statistics-gdp\" />\n",
      "|GDP統計年 = 2012\n",
      "|GDP順位 = 6\n",
      "|GDP値 = 2兆3162億<ref name=\"imf-statistics-gdp\" />\n",
      "|GDP/人 = 36,727<ref name=\"imf-statistics-gdp\" />\n",
      "|建国形態 = 建国\n",
      "|確立形態1 = [[イングランド王国]]／[[スコットランド王国]]<br />（両国とも[[合同法 (1707年)|1707年合同法]]まで）\n",
      "|確立年月日1 = 927年／843年\n",
      "|確立形態2 = [[グレートブリテン王国]]成立<br />（1707年合同法）\n",
      "|確立年月日2 = 1707年{{0}}5月{{0}}1日\n",
      "|確立形態3 = [[グレートブリテン及びアイルランド連合王国]]成立<br />（[[合同法 (1800年)|1800年合同法]]）\n",
      "|確立年月日3 = 1801年{{0}}1月{{0}}1日\n",
      "|確立形態4 = 現在の国号「'''グレートブリテン及び北アイルランド連合王国'''」に変更\n",
      "|確立年月日4 = 1927年{{0}}4月12日\n",
      "|通貨 = [[スターリング・ポンド|UKポンド]] (£)\n",
      "|通貨コード = GBP\n",
      "|時間帯 = ±0\n",
      "|夏時間 = +1\n",
      "|ISO 3166-1 = GB / GBR\n",
      "|ccTLD = [[.uk]] / [[.gb]]<ref>使用は.ukに比べ圧倒的少数。</ref>\n",
      "|国際電話番号 = 44\n",
      "|注記 = <references/>\n",
      "}}\n",
      "\n",
      "'''グレートブリテン及び北アイルランド連合王国'''（グレートブリテンおよびきたアイルランドれんごうおうこく、{{lang-en-short|United Kingdom of Great Britain and Northern Ireland}}: '''UK'''）は、[[ヨーロッパ大陸]]の北西岸に位置し、[[グレートブリテン島]]・[[アイルランド島]]北東部・その他多くの島々から成る[[立憲君主制]][[国家]]。首都は[[ロンドン]]。[[日本語]]における[[通称]]の一例として'''イギリス'''、'''英国'''（えいこく）がある（→[[#国名]]）。\n",
      "\n",
      "'''[[イングランド]]'''、'''[[ウェールズ]]'''、'''[[スコットランド]]'''、'''[[北アイルランド]]'''という歴史的経緯に基づく4つの[[イギリスのカントリー|「カントリー」と呼ばれる「国」]]が、[[同君連合]]型の単一の[[主権国家体制|主権国家]]を形成する<ref name=\"page823\">{{cite web |url=http://webarchive.nationalarchives.gov.uk/+/http://www.number10.gov.uk/Page823 |title=Countries within a country |publisher=Prime Minister's Office |accessdate=10 January 2003}}</ref>独特の統治体制を採るが、一般的に[[連邦]]国家とは区別される。\n",
      "\n",
      "[[国際連合安全保障理事会常任理事国]]の一国（五大国）であり、[[G7]]・[[G20]]に参加する。GDPは世界10位以内に位置する巨大な市場を持ち、ヨーロッパにおける四つの大国「[[ビッグ4 (ヨーロッパ)|ビッグ4]]」の一国である。[[ウィーン体制]]が成立した[[1815年]]以来、世界で最も影響力のある国家・[[列強]]の一つに数えられる。また、[[民主主義]]、[[立憲君主制]]など\n",
      "\n",
      "### 最後500文字 ###\n",
      "}}\n",
      "*{{CIA World Factbook link|uk|United Kingdom}} {{en icon}}\n",
      "*{{dmoz|Regional/Europe/United_Kingdom}} {{en icon}}\n",
      "*{{wikiatlas|United Kingdom}} {{en icon}}\n",
      "*{{Osmrelation|62149}}\n",
      "\n",
      "{{Normdaten}}\n",
      "{{イギリス関連の項目}}\n",
      "{{ヨーロッパ}}\n",
      "{{国連安全保障理事会理事国}}\n",
      "{{G8}}\n",
      "{{OECD}}\n",
      "{{イギリス連邦}}\n",
      "{{EU|1973年 - 2020年}}\n",
      "{{CPLP}}\n",
      "{{デフォルトソート:いきりす}}\n",
      "[[Category:イギリス|*]]\n",
      "[[Category:イギリス連邦加盟国]]\n",
      "[[Category:英連邦王国|*]]\n",
      "[[Category:G8加盟国]]\n",
      "[[Category:欧州連合加盟国|元]]\n",
      "[[Category:海洋国家]]\n",
      "[[Category:現存する君主国]]\n",
      "[[Category:島国]]\n",
      "[[Category:1801年に成立した国家・領域]]\n"
     ]
    }
   ],
   "source": [
    "import json\n",
    "\n",
    "with open(file_name, mode='r') as f:\n",
    "  for line in f.readlines():\n",
    "    info = json.loads(line)\n",
    "    if info['title'] == 'イギリス':\n",
    "      print('### 先頭500文字 ###')\n",
    "      print(info['text'][:4000])\n",
    "      print()\n",
    "      print('### 最後500文字 ###')\n",
    "      print(info['text'][-500:])\n",
    "      \n",
    "      # 以後 b_infoをイギリスの情報として利用\n",
    "      b_info = info['text']"
   ]
  },
  {
   "cell_type": "markdown",
   "metadata": {},
   "source": [
    "### 21問 カテゴリ名を含む行を抽出"
   ]
  },
  {
   "cell_type": "code",
   "execution_count": 9,
   "metadata": {},
   "outputs": [
    {
     "name": "stdout",
     "output_type": "stream",
     "text": [
      "[[Category:イギリス|*]]\n",
      "[[Category:イギリス連邦加盟国]]\n",
      "[[Category:英連邦王国|*]]\n",
      "[[Category:G8加盟国]]\n",
      "[[Category:欧州連合加盟国|元]]\n",
      "[[Category:海洋国家]]\n",
      "[[Category:現存する君主国]]\n",
      "[[Category:島国]]\n",
      "[[Category:1801年に成立した国家・領域]]\n"
     ]
    }
   ],
   "source": [
    "for line in b_info.split('\\n'):\n",
    "  s = re.findall('\\[\\[Category:(.*)\\]\\]',line)\n",
    "  if len(s) != 0:\n",
    "    print(line)"
   ]
  },
  {
   "cell_type": "markdown",
   "metadata": {},
   "source": [
    "### 22問 カテゴリ名の抽出"
   ]
  },
  {
   "cell_type": "code",
   "execution_count": 42,
   "metadata": {},
   "outputs": [
    {
     "name": "stdout",
     "output_type": "stream",
     "text": [
      "イギリス|*\n",
      "イギリス連邦加盟国\n",
      "英連邦王国|*\n",
      "G8加盟国\n",
      "欧州連合加盟国|元\n",
      "海洋国家\n",
      "現存する君主国\n",
      "島国\n",
      "1801年に成立した国家・領域\n"
     ]
    }
   ],
   "source": [
    "s = re.findall('\\[\\[Category:(.*?)\\]\\]',b_info.replace('\\n',''))\n",
    "if len(s) != 0:\n",
    "  for _ in s:\n",
    "    print(_)"
   ]
  },
  {
   "cell_type": "markdown",
   "metadata": {},
   "source": [
    "### 23問 セクション構造"
   ]
  },
  {
   "cell_type": "code",
   "execution_count": 53,
   "metadata": {},
   "outputs": [
    {
     "name": "stdout",
     "output_type": "stream",
     "text": [
      "1 国名\n",
      "1 歴史\n",
      "1 地理\n",
      "2 主要都市\n",
      "2 気候\n",
      "1 政治\n",
      "2 元首\n",
      "2 法\n",
      "2 内政\n",
      "2 地方行政区分\n",
      "2 外交・軍事\n",
      "1 経済\n",
      "2 鉱業\n",
      "2 農業\n",
      "2 貿易\n",
      "2 不動産\n",
      "2 エネルギー政策\n",
      "2 通貨\n",
      "2 企業\n",
      "3 通信\n",
      "1 交通\n",
      "2 道路\n",
      "2 鉄道\n",
      "2 海運\n",
      "2 航空\n",
      "1 科学技術\n",
      "1 国民\n",
      "2 言語\n",
      "2 宗教\n",
      "2 婚姻\n",
      "2 移住\n",
      "2 教育\n",
      "2 医療\n",
      "1 文化\n",
      "2 食文化\n",
      "2 文学\n",
      "2 哲学\n",
      "2 音楽\n",
      "3 ポピュラー音楽\n",
      "2 映画\n",
      "2 コメディ\n",
      "2 国花\n",
      "2 世界遺産\n",
      "2 祝祭日\n",
      "2 スポーツ\n",
      "3 サッカー\n",
      "3 クリケット\n",
      "3 競馬\n",
      "3 モータースポーツ\n",
      "3 野球\n",
      "3  カーリング \n",
      "3  自転車競技 \n",
      "1 脚注\n",
      "1 関連項目\n",
      "1 外部リンク\n"
     ]
    }
   ],
   "source": [
    "s = re.findall('(==+)(.*?[^=])==+',b_info.replace('\\n',''))\n",
    "if len(s) != 0:\n",
    "  for _ in s:\n",
    "    print(len(_[0]) - 1, _[1])"
   ]
  },
  {
   "cell_type": "markdown",
   "metadata": {},
   "source": [
    "### 24問 ファイル参照の抽出\n",
    "ファイルの定義がわからないのですが、以下を抜き出すものとします。[こちら](https://ja.wikipedia.org/wiki/Help:%E3%83%95%E3%82%A1%E3%82%A4%E3%83%AB%E3%83%9A%E3%83%BC%E3%82%B8)を参考にしています。\n",
    "\n",
    "```text\n",
    "[[ファイル:ファイル名]]\n",
    "[[:ファイル:ファイル名]]\n",
    "[[File:ファイル名]]\n",
    "[[Media:ファイル名]] \n",
    "```"
   ]
  },
  {
   "cell_type": "code",
   "execution_count": 54,
   "metadata": {},
   "outputs": [
    {
     "name": "stdout",
     "output_type": "stream",
     "text": [
      "Royal Coat of Arms of the United Kingdom.svg\n",
      "United States Navy Band - God Save the Queen.ogg\n",
      "Descriptio Prime Tabulae Europae.jpg\n",
      "Lenepveu, Jeanne d'Arc au siège d'Orléans.jpg\n",
      "London.bankofengland.arp.jpg\n",
      "Battle of Waterloo 1815.PNG\n",
      "Uk topo en.jpg\n",
      "BenNevis2005.jpg\n",
      "Population density UK 2011 census.png\n",
      "2019 Greenwich Peninsula & Canary Wharf.jpg\n",
      "Birmingham Skyline from Edgbaston Cricket Ground crop.jpg\n",
      "Leeds CBD at night.jpg\n",
      "Glasgow and the Clyde from the air (geograph 4665720).jpg\n",
      "Palace of Westminster, London - Feb 2007.jpg\n",
      "Scotland Parliament Holyrood.jpg\n",
      "Donald Trump and Theresa May (33998675310) (cropped).jpg\n",
      "Soldiers Trooping the Colour, 16th June 2007.jpg\n",
      "City of London skyline from London City Hall - Oct 2008.jpg\n",
      "Oil platform in the North SeaPros.jpg\n",
      "Eurostar at St Pancras Jan 2008.jpg\n",
      "Heathrow Terminal 5C Iwelumo-1.jpg\n",
      "Airbus A380-841 G-XLEB British Airways (10424102995).jpg\n",
      "UKpop.svg\n",
      "Anglospeak.svg\n",
      "Royal Aberdeen Children's Hospital.jpg\n",
      "CHANDOS3.jpg\n",
      "The Fabs.JPG\n",
      "Wembley Stadium, illuminated.jpg\n"
     ]
    }
   ],
   "source": [
    "s1 = re.findall(r'\\[\\[File:(.+?)\\]\\]',b_info.replace('\\n',''))\n",
    "s2 = re.findall(r'\\[\\[Media:(.+?)\\]\\]',b_info.replace('\\n',''))\n",
    "s3 = re.findall(r'\\[\\[:?ファイル:(.+?)\\]\\]',b_info.replace('\\n',''))\n",
    "\n",
    "for s in [s1,s2,s3]:\n",
    "  if len(s) != 0:\n",
    "    for _ in s:\n",
    "      print(_.split('|')[0])"
   ]
  },
  {
   "cell_type": "markdown",
   "metadata": {},
   "source": [
    "### 25問 テンプレートの抽出\n",
    "\n",
    "テンプレートが何を意味するか不明ですが、wikiの[ヘルプページ](https://ja.wikipedia.org/wiki/Help:%E3%83%86%E3%83%B3%E3%83%97%E3%83%AC%E3%83%BC%E3%83%88)を参考に\n",
    "\n",
    "```text\n",
    "{{テンプレート名}}\n",
    "\n",
    "{{テンプレート名|引数1|引数2|.....}}\n",
    "```"
   ]
  },
  {
   "cell_type": "code",
   "execution_count": 66,
   "metadata": {},
   "outputs": [
    {
     "name": "stdout",
     "output_type": "stream",
     "text": [
      "254\n",
      "['lang|en|United Kingdom of Great Britain and Northern Ireland', 'lang|gd|An Rìoghachd Aonaichte na Breatainn Mhòr agus Eirinn mu Thuath', 'lang|cy|Teyrnas Gyfunol Prydain Fawr a Gogledd Iwerddon', 'lang|ga|Ríocht Aontaithe na Breataine Móire agus Tuaisceart na hÉireann', 'lang|kw|An Rywvaneth Unys a Vreten Veur hag Iwerdhon Glédh', 'lang|sco|Unitit Kinrick o Great Breetain an Northren Ireland', 'lang|sco|Claught Kängrick o Docht Brätain an Norlin Airlann', 'lang|sco|Unitet Kängdom o Great Brittain an Norlin Airlann', 'lang|fr|[[Dieu et mon droit]]', 'lang|en|God Save the Queen', 'en icon', 'center|[[ファイル:United States Navy Band - God Save the Queen.ogg]]', '仮リンク|リンゼイ・ホイル|en|Lindsay Hoyle', 'Cite web|url=https://www.ons.gov.uk/peoplepopulationandcommunity/populationandmigration/populationestimates|title=Population estimates - Office for National Statistics|accessdate=2019-06-26|date=2019-06-26', '0', '0', '0', '0', '0', 'lang-en-short|United Kingdom of Great Britain and Northern Ireland', \"cite web |url=http://webarchive.nationalarchives.gov.uk/+/http://www.number10.gov.uk/Page823 |title=Countries within a country |publisher=Prime Minister's Office |accessdate=10 January 2003\", \"Lang|en|'''United Kingdom of Great Britain and Northern Ireland'''\", \"Lang|en|'''United Kingdom'''\", \"Lang|en|'''UK'''\", 'Lang|en|United Kingdom', 'Lang|pt|Inglez', 'Lang|nl|Engelsch', 'cite web |url=http://www.scotshistoryonline.co.uk/union.html |title=Treaty of Union, 1706 |publisher=Scots History Online |accessdate=23 August 2011', 'cite book |url=http://books.google.com/?id=LYc1tSYonrQC&pg=PA165 |title=Constitutional & Administrative Law |page=165 |author=Barnett, Hilaire |author2=Jago, Robert |edition=8th |year=2011 |isbn=978-0-415-56301-7 |publisher=Routledge |location=Abingdon ', 'cite web |url=http://www.historyworld.net/wrldhis/PlainTextHistories.asp?historyid=ab07 |title=History of Great Britain (from 1707) |authorlink=w:Bamber Gascoigne |author=Gascoigne, Bamber |publisher=History World |accessdate=18 July 2011', '仮リンク|アイルランド分裂|en|Partition of Ireland', 'cite book |title=The Irish Civil War 1922–23 |author=Cottrell, P. |year=2008 |page=85 |isbn=1-84603-270-9', 'citation |author1=S. Dunn |author2=H. Dawson|year=2000 |title=An Alphabetical Listing of Word, Name and Place in Northern Ireland and the Living Language of Conflict |publisher=Edwin Mellen Press |location=Lampeter |quote=One specific problem&nbsp;— in both general and particular senses&nbsp;— is to know what to call Northern Ireland itself:in the general sense, it is not a country, or a province, or a state&nbsp;— although some refer to it contemptuously as a statelet:the least controversial word appears to be jurisdiction, but this might change.', 'cite web |url=http://www.iso.org/iso/iso_3166-2_newsletter_ii-3_2011-12-13.pdf |title=Changes in the list of subdivision names and code elements |work=ISO 3166-2 |publisher=International Organization for Standardization |date=15 December 2011 |accessdate=28 May 2012', '仮リンク|イギリスの12のNUTS1地域|en|NUTS of the United Kingdom', 'cite web |url=http://www.ons.gov.uk/ons/dcp171778_346117.xml |title=Statistical bulletin:Regional Labour Market Statistics |accessdate=5 March 2014 |archiveurl=https://web.archive.org/web/20141224045523/http://www.ons.gov.uk/ons/dcp171778_346117.xml |archivedate=2014年12月24日 |deadlinkdate=2018年3月 ', 'cite web |url=http://www.gmb.org.uk/newsroom/fall-in-earnings-value-during-recession |title=13.4% Fall In Earnings Value During Recession |accessdate=5 March 2014', 'cite book |author=Murphy, Dervla |title=A Place Apart |year=1979 |publisher=Penguin |place=London |isbn=978-0-14-005030-1', 'Cite book |last1=Whyte |first1=John |authorlink1=w:John Henry Whyte |last2=FitzGerald |first2=Garret|authorlink2=w:Garret FitzGerald|year=1991 |title=Interpreting Northern Ireland |location=Oxford |publisher=Clarendon Press |isbn=978-0-19-827380-6', \"cite web |url=http://www.merriam-webster.com/dictionary/great%20britain |title=Merriam-Webster Dictionary Online Definition of '&#39;Great Britain'&#39;|publisher=[[:en:Merriam Webster|Merriam Webster]] |date=31 August 2012 |accessdate=9 April 2013\", 'cite news |url=http://www.guardian.co.uk/styleguide/page/0,,184840,00.html |title=Guardian Unlimited Style Guide |publisher=Guardian News and Media Limited |accessdate=23 August 2011 |location=London |date=19 December 2008', 'cite news |url=http://news.bbc.co.uk/1/hi/programmes/radio_newsroom/1099593.stm#g|title=BBC style guide (Great Britain)|accessdate=23 August 2011 |work=BBC News|date=19 August 2002', 'cite web |url=http://www.direct.gov.uk/en/Governmentcitizensandrights/LivingintheUK/DG_10012517 |title=Key facts about the United Kingdom|archiveurl=http://webarchive.nationalarchives.gov.uk/20121015000000/http://www.direct.gov.uk/en/Governmentcitizensandrights/LivingintheUK/DG_10012517|archivedate=3 November 2012 |accessdate=8 March 2015 |work=Government, citizens and rights |publisher=HM Government', 'cite web |title=Great Britain |url=http://www.olympic.org/great-britain |publisher=International Olympic Committee |accessdate=10 May 2011', 'cite news|last1=Mulgrew|first1=John|title=Team GB Olympic name row still simmering in Northern Ireland|url=http://www.belfasttelegraph.co.uk/news/northern-ireland/team-gb-olympic-name-row-still-simmering-in-northern-ireland-28776939.html|accessdate=9 March 2015|work=Belfast Telegraph|date=2 August 2012', 'cite book |url=http://books.google.com/?id=HT_GS2zgN5QC&pg=PA36 |title=Constitutional and administrative law |volume=1 |page=36 |author=Bradley, Anthony Wilfred |author2=Ewing, Keith D. |edition=14th |publisher=Pearson Longman |location=Harlow |year=2007 |isbn=978-1-4058-1207-8', 'cite web |url=http://www.ark.ac.uk/nilt/2010/Community_Relations/NINATID.html |title=Which of these best describes the way you think of yourself? |year=2010 |work=Northern Ireland Life and Times Survey 2010 |publisher=ARK&nbsp;– Access Research Knowledge |accessdate=1 July 2010', 'cite book |url=http://books.google.com/?id=u8gZklxHTMUC&pg=PA275 |title=Regionalism after regionalisation:Spain, France and the United Kingdom |pages=275–277 |author=Schrijver, Frans |publisher=Amsterdam University Press |year=2006 |isbn=978-90-5629-428-1', '仮リンク|イギリスのパスポート|en|British passport', \"cite news|url=http://www.guardian.co.uk/commentisfree/2010/dec/11/ian-jack-saddened-by-scotland-going-gaelic |location=London |work=The Guardian |first=Ian |last=Jack |title=Why I'm saddened by Scotland going Gaelic |date=11 December 2010\", 'cite web|url=http://www.direct.gov.uk/cy/Governmentcitizensandrights/LivingintheUK/DG_10012517CY|title=Ffeithiau allweddol am y Deyrnas Unedig|publisher=Directgov&nbsp;– Llywodraeth, dinasyddion a hawliau]|archiveurl=https://web.archive.org/web/20120924102112/http://www.direct.gov.uk/cy/Governmentcitizensandrights/LivingintheUK/DG_10012517CY|archivedate=2012年9月24日|accessdate=8 March 2015', 'ブリテンの歴史', 'main|イギリスの歴史', 'Clear', '仮リンク|ウェールズ法諸法|en|Laws in Wales Acts 1535–1542', 'cite web|url=http://www.cnn.co.jp/world/35023094.html|title=スコットランド独立の是非を問う住民投票実施へ 英国|author=<code>CNN.co.jp</code>|accessdate=2012-10-16', 'Cite web|url=https://mainichi.jp/articles/20200201/k00/00m/030/008000c|title=英国がEU離脱 加盟国の離脱は初|publisher=毎日新聞|date=2020-02-01|accessdate=2020-02-01', 'main|イギリスの地理', 'Cite web |url=http://yoshio-kusano.sakura.ne.jp/nakayamakouen6newpage3.html |title=中山徹奈良女子大教授の記念講演6 どうやって森を再生するかイギリスの例 |publisher=日本共産党宝塚市議 草野義雄 |accessdate=2014-5-10 |archiveurl=https://web.archive.org/web/20140512220911/http://yoshio-kusano.sakura.ne.jp/nakayamakouen6newpage3.html |archivedate=2014年5月12日 |deadlinkdate=2018年3月 ', '仮リンク|領土紛争の一覧|en|List of territorial disputes|label=紛争中', 'cite web |url=http://www.fco.gov.uk/en/about-us/what-we-do/overseas-territories |title=Working with Overseas Territories |publisher=[[:en:Foreign and Commonwealth Office|Foreign and Commonwealth Office]] |accessdate=3 May 2011', \"cite web |url=http://www.direct.gov.uk/en/Governmentcitizensandrights/LivingintheUK/DG_10012517 |title=Key facts about the United Kingdom |accessdate=3 May 2011 |publisher=[[:en:Directgov|Directgov]] |quote=The full title of this country is 'the United Kingdom of Great Britain and Northern Ireland'. 'The UK' is made up of England, Scotland, Wales and Northern Ireland. 'Britain' is used informally, usually meaning the United Kingdom. 'Great Britain' is made up of England, Scotland and Wales. The Channel Islands and the Isle of Man are not part of the UK. |archiveurl=http://webarchive.nationalarchives.gov.uk/20121015000000/http:/www.direct.gov.uk/en/Governmentcitizensandrights/LivingintheUK/DG_10012517 |archivedate=2012年10月15日 |deadlinkdate=2018年3月 \", 'Main|イギリスの都市の一覧', 'cite web |url=http://appsso.eurostat.ec.europa.eu/nui/show.do?dataset=met_pjanaggr3&lang=en |title=Metropolitan Area Populations |publisher=Eurostat |date=30 August 2012 |accessdate=4 May 2013', 'cite web|url=https://www.cia.gov/library/publications/the-world-factbook/geos/uk.html|title=The World Factbook|date=1 February 2014|work=[[Central Intelligence Agency]]|accessdate=23 February 2014', 'ENG', 'ENG', 'ENG', 'Flagicon|WAL', 'ENG', 'Flagicon|北アイルランド', 'SCO', 'ENG', 'ENG', 'ENG', 'ENG', 'ENG', 'ENG', 'ENG', 'ENG', 'ENG', 'SCO', 'ENG', 'ENG', 'ENG', 'Clear', 'main|イギリスの政治|イギリスの憲法|英国法|英米法', '現在のイギリスの君主', '0', '0', '仮リンク|権限委譲 (イギリス)|en|Devolution in the United Kingdom|label=権限を委譲された', 'cite web|url=https://www.gov.uk/devolution-of-powers-to-scotland-wales-and-northern-ireland#devolved-administrations|title=Devolution of powers to Scotland, Wales, and Northern Ireland|publisher=United Kingdom Government|accessdate=17 April 2013|quote=In a similar way to how the government is formed from members from the two Houses of Parliament, members of the devolved legislatures nominate ministers from among themselves to comprise an executive, known as the devolved administrations...', 'cite news |url=http://news.bbc.co.uk/1/hi/education/7859034.stm |title=Fall in UK university students |work=BBC News |date=29 January 2009', 'cite web |url=http://www.transport-research.info/web/countryprofiles/uk.cfm |title=Country Overviews:United Kingdom |publisher=Transport Research Knowledge Centre |accessdate=28 March 2010 |archiveurl=https://web.archive.org/web/20100404062853/http://www.transport-research.info/web/countryprofiles/uk.cfm |archivedate=2010年4月4日 |deadlinkdate=2018年3月 ', '0', 'main|イギリスの地方行政区画', 'Flag|ENG', 'Flag|SCO', 'Flag|WAL', 'Main|イギリスの国際関係|イギリス軍', 'cite book |title=The First Industrial Nation:the Economic History of Britain, 1700–1914 |publisher=Routledge |location=London |author=Mathias, P. |year=2001 |isbn=0-415-26672-6', 'cite book |last=Ferguson |first=Niall |year=2004 |title=Empire:The rise and demise of the British world order and the lessons for global power |publisher=Basic Books |location=New York |isbn=0-465-02328-2', 'cite news |url=http://www.theaustralian.com.au/news/opinion/cameron-has-chance-to-make-uk-great-again/story-e6frg6zo-1225866975992 |author=Sheridan, Greg |title=Cameron has chance to make UK great again |accessdate=23 May 2011 |work=The Australian |location=Sydney |date=15 May 2010', 'cite news |url=http://www.independent.co.uk/news/uk/home-news/britain-is-now-most-powerful-nation-on-earth-8326452.html |author=Dugan, Emily |title=Britain is now most powerful nation on earth |accessdate=18 November 2012 |work=The Independent |location=London |date=18 November 2012', \"cite book|last=McCourt|first=David|title=Britain and World Power Since 1945:Constructing a Nation's Role in International Politics|publisher=University of Michigan Press|year=28 May 2014|location=United States of America|pages=|isbn=0472072218|url=http://books.google.ie/books?id=lwpOnwEACAAJ&dq=Britain+and+World+Power+Since+1945:+Constructing+a+Nation%27s+Role+in+International+Politics&hl=en&sa=X&ei=TCJkU8TOE6mS7Abw14HIBg&ved=0CDIQ6AEwAA\", 'cite web|url=http://www.globalpowereurope.eu/|title=Global Power Europe|publisher=<code>Globalpowereurope.eu</code>|language=英語|accessdate=2008-10-17', 'lang-en-short|British Armed Forces', \"lang-en-short|His/Her Majesty's Armed Forces\", 'lang-en-short|Armed Forces of the Crown', 'Cite web|url=http://www.raf.mod.uk/legalservices/p3chp29.htm|title=Armed Forces Act 1976, Arrangement of Sections|publisher=<code>raf.mod.uk</code>|language=英語|accessdate=2009-02-22|archiveurl=https://web.archive.org/web/20090221072352/http://www.raf.mod.uk/legalservices/p3chp29.htm|archivedate=2009年2月21日|deadlinkdate=2018年3月', 'Cite web|url=http://www.mod.uk/DefenceInternet/AboutDefence/Organisation/KeyFactsAboutDefence/DefenceSpending.htm|title=Defence Spending|publisher={{lang|en|Ministry of Defence', 'lang-en-short|Ministry of Defence', 'PDFlink|[http://www.mod.uk/NR/rdonlyres/6FBA7459-7407-4B85-AA47-7063F1F22461/0/modara_0405_s1_resources.pdf Annual Reports and Accounts 2004-05]|1.60&nbsp;MB', 'En icon', '仮リンク|国別軍事費の一覧|en|List of countries by military expenditures|label=軍事費は世界第5位又は第6位', 'cite web |url=http://books.sipri.org/product_info?c_product_id=476 |title=The 15 countries with the highest military expenditure in 2013 (table) |publisher=[[:en:Stockholm International Peace Research Institute|Stockholm International Peace Research Institute]] |format=PDF |accessdate=4 May 2014 |archiveurl=https://web.archive.org/web/20150104033821/http://books.sipri.org/product_info?c_product_id=476 |archivedate=2015年1月4日 |deadlinkdate=2018年3月 ', 'See also|イギリスの大量破壊兵器', 'lang|en|Office for National Statistics', 'lang|en|UK 2005:The Official Yearbook of the United Kingdom of Great Britain and Northern Ireland', 'En icon', 'main|イギリスの経済', '0', '0', '0', 'Cite web|date=2008-08-30|url=http://sankei.jp.msn.com/economy/business/080830/biz0808301850007-n1.htm|work=産経新聞|title=「英経済、過去60年間で最悪の下降局面」英財務相|accessdate=2008-08-30 |archiveurl=https://web.archive.org/web/20080902012013/http://www.sankei.jp.msn.com/economy/business/080830/biz0808301850007-n1.htm |archivedate=2008-09-02', '0', 'main|{{仮リンク|イギリスのエネルギー|en|Energy in the United Kingdom', 'webarchive|url=https://web.archive.org/web/20151023155717/http://mainichi.jp/select/news/20151022k0000m030079000c.html |date=2015年10月23日 ', '0', 'main|イギリスの企業一覧', 'Main|{{仮リンク|イギリスの情報通信|en|Telecommunications in the United Kingdom', 'main|{{仮リンク|イギリスの交通|en|Transport in the United Kingdom', 'main|{{仮リンク|イギリスの道路|en|Roads in the United Kingdom', 'main|イギリスの鉄道', 'main|{{仮リンク|イギリスの航空|en|Air transport in the United Kingdom', 'Main|{{仮リンク|イギリスの科学技術|en|Science and technology in the United Kingdom', 'main|イギリス人|{{仮リンク|イギリスの人口統計|en|Demography of the United Kingdom', 'See also|{{仮リンク|イギリスの民族|en|Ethnic groups in the United Kingdom', 'main|{{仮リンク|イギリスの言語|en|Languages of the United Kingdom', 'See also|イギリスの宗教', 'Cite report |publisher=Office for National Statistics |title=Religion in England and Wales 2011 |date=2012-12-11 |url=https://www.ons.gov.uk/peoplepopulationandcommunity/culturalidentity/religion/articles/religioninenglandandwales2011/2012-12-11 ', '0', '0', 'main|{{仮リンク|現代イギリスにおける移民|en|Modern immigration to the United Kingdom', '仮リンク|イギリスにおける外国人出生者|en|Foreign-born population of the United Kingdom', '節スタブ', 'main|イギリスの教育', 'Main|イギリスの医療', 'Cite report |publisher=Office of Health Economics |title=OHE Guide to UK Health and Health Care Statistics |date=2013-08 |url=https://www.ohe.org/publications/ohe-guide-uk-health-and-health-care-statistics ', '仮リンク|総合医療評議会|en|General Medical Council', '仮リンク|看護助産評議会|en|Nursing and Midwifery Council', \"cite news |url=http://news.bbc.co.uk/1/hi/health/7586147.stm |title='Huge contrasts' in devolved NHS |work=BBC News |date=28 August 2008\", 'cite news |url=http://news.bbc.co.uk/1/hi/health/7149423.stm |title=NHS now four different systems |work=BBC News |date=2 January 2008 |first=Nick |last=Triggle', 'cite report|title=OECD Health Data 2009&nbsp;– How Does the United Kingdom Compare |publisher=OECD', 'Cite journal|url=http://www.healthp.org/node/71|title=The NHS from Thatcher to Blair |first=Peter |last=Fisher |work=NHS Consultants Association |publisher=International Association of Health Policy |quote=The Budget ... was even more generous to the NHS than had been expected amounting to an annual rise of 7.4% above the rate of inflation for the next 5 years. This would take us to 9.4% of GDP spent on health ie around EU average.', 'Cite book |editor-last=Haden |editor-first=Angela |editor2-last=Campanini |editor2-first=Barbara |title=The world health report 2000&nbsp;– Health systems:improving performance |year=2000 |location=Geneva |publisher=World Health Organisation |url=http://www.who.int/whr/2000/en/whr00_en.pdf |isbn=92-4-156198-X |accessdate=5 July 2011', 'Cite journal |url=http://pages.stern.nyu.edu/~wgreene/Statistics/WHO-COMP-Study-30.pdf |title=Measuring overall health system performance for 191 countries |author=[[World Health Organization]] |publisher=New York University |accessdate=5 July 2011', 'Main|[[:en:Culture of the United Kingdom]]', 'Main|イギリス料理', '節スタブ', 'Main|イギリス文学', 'Main|{{仮リンク|イギリスの哲学|en|British philosophy', '節スタブ', 'Main|イギリスの音楽', 'Main|ロック (音楽)|{{仮リンク|ブリティッシュロック|en|British rock', 'Main|イギリスの映画', '節スタブ', 'interlang|en|Bank holiday', '0', \"lang|en|New Year's Day\", '0', \"lang|en|St. Patrick's Day\", 'lang|en|Good Friday', 'lang|en|Easter Monday', 'lang|en|Early May Bank Holiday', 'lang|en|Spring Bank Holiday', \"lang|en|Battle of the Boyne (Orangemen's Day)\", 'lang|en|Summer Bank Holiday', 'lang|en|Summer Bank Holiday', 'lang|en|Christmas Day', 'lang|en|Boxing Day', 'main|{{仮リンク|イギリスのスポーツ|en|Sport in the United Kingdom', 'main|{{仮リンク|イギリスのサッカー|en|Football in England', 'main|イギリスの競馬', 'main|ナショナルリーグ (イギリスの野球)', '0', '脚注ヘルプ', 'Reflist|2', 'ウィキポータルリンク|イギリス', 'Sisterlinks|commons=United Kingdom|commonscat=United Kingdom|s=Category:イギリス|n=Category:イギリス|voy=United Kingdom', 'en icon', 'Facebook|TheBritishMonarchy|The British Monarchy', 'en icon', 'Twitter|BritishMonarchy|BritishMonarchy', 'en icon', 'flickr|photos/britishmonarchy/|The British Monarchy', 'en icon', 'YouTube|user=TheRoyalChannel|The British Monarchy', 'en icon', 'en icon', 'en icon', 'Facebook|10downingstreet|10 Downing Street', 'en icon', 'Twitter|@Number10gov|UK Prime Minister', 'en icon', 'Twitter|@Number10press|No.10 Press Office', 'en icon', 'flickr|photos/number10gov|Number 10', 'en icon', 'Pinterest|number10gov|UK Prime Minister', 'en icon', 'YouTube|user=Number10gov|Number10gov|films and features from Downing Street and the British Prime Minister', 'en icon', 'YouTube|user=DowningSt|Downing Street|archive footage from Downing Street and past British Prime Ministers', 'en icon', 'ja icon', 'en icon', 'ja icon', 'en icon', 'Facebook|ukinjapan|British Embassy Tokyo', 'ja icon', 'en icon', 'Twitter|UKinJapan|BritishEmbassy英国大使館', 'ja icon', 'en icon', 'flickr|photos/uk-in-japan|UK in Japan- FCO', 'en icon', 'YouTube|user=UKinJapan|UKinJapan|British Embassy in Japan', 'en icon', 'en icon', 'ja icon', 'en icon', 'ja icon', 'ja icon', 'ja icon', 'Facebook|LoveGreatBritain|Love GREAT Britain', 'en icon', 'ja icon', 'CIA World Factbook link|uk|United Kingdom', 'en icon', 'dmoz|Regional/Europe/United_Kingdom', 'en icon', 'wikiatlas|United Kingdom', 'en icon', 'Osmrelation|62149', 'Normdaten', 'イギリス関連の項目', 'ヨーロッパ', '国連安全保障理事会理事国', 'G8', 'OECD', 'イギリス連邦', 'EU|1973年 - 2020年', 'CPLP']\n"
     ]
    }
   ],
   "source": [
    "# print(b_info)\n",
    "s = re.findall(r'\\{\\{基礎情報(.+)\\}\\}',b_info.replace('\\n',''))\n",
    "\n",
    "s1 = re.findall(r'\\{\\{(.+?)\\}\\}',s[0].replace('\\n',''))\n",
    "print(len(s1))\n",
    "print(s1)\n"
   ]
  },
  {
   "cell_type": "markdown",
   "metadata": {},
   "source": [
    "### 26問"
   ]
  },
  {
   "cell_type": "markdown",
   "metadata": {},
   "source": [
    "### 27問"
   ]
  },
  {
   "cell_type": "code",
   "execution_count": 24,
   "metadata": {},
   "outputs": [
    {
     "name": "stdout",
     "output_type": "stream",
     "text": [
      "a,b,c\n",
      "a,b,c\n",
      "a,b,c\n"
     ]
    }
   ],
   "source": [
    "\n",
    "a = 'a,b,c'\n",
    "a.split(',')\n",
    "print(a)\n",
    "print(a)\n",
    "print(a)\n"
   ]
  },
  {
   "cell_type": "markdown",
   "metadata": {},
   "source": [
    "### 28問"
   ]
  },
  {
   "cell_type": "code",
   "execution_count": 39,
   "metadata": {},
   "outputs": [
    {
     "name": "stdout",
     "output_type": "stream",
     "text": [
      "\n",
      "{{基礎情報 国\n",
      "|略名  =イギリス\n",
      "|日本語国名 = グレートブリテン及び北アイルランド連合王国\n",
      "|公式国名 = {{lang|en|United Kingdom of Great Britain and Northern Ireland}}<ref>英語以外での正式国名:<br />\n",
      "*{{lang|gd|An Rìoghachd Aonaichte na Breatainn Mhòr agus Eirinn mu Thuath}}（[[スコットランド・ゲール語]]）\n",
      "*{{lang|cy|Teyrnas Gyfunol Prydain Fawr a Gogledd Iwerddon}}（[[ウェールズ語]]）\n",
      "*{{lang|ga|Ríocht Aontaithe na Breataine Móire agus Tuaisceart na hÉireann}}（[[アイルランド語]]）\n",
      "*{{lang|kw|An Rywvaneth Unys a Vreten Veur hag Iwerdhon Glédh}}（[[コーンウォール語]]）\n",
      "*{{lang|sco|Unitit Kinrick o Great Breetain an Northren Ireland}}（[[スコットランド語]]）\n",
      "**{{lang|sco|Claught Kängrick o Docht Brätain an Norlin Airlann}}、{{lang|sco|Unitet Kängdom o Great Brittain an Norlin Airlann}}（アルスター・スコットランド語）</ref>\n",
      "|国旗画像 = Flag of the United Kingdom.svg\n",
      "|国章画像 = [[ファイル:Royal Coat of Arms of the United Kingdom.svg|85px|イギリスの国章]]\n",
      "|国章リンク =（[[イギリスの国章|国章]]）\n",
      "|標語 = {{lang|fr|[[Dieu et mon droit]]}}<br />（[[フランス語]]:[[Dieu et mon droit|神と我が権利]]）\n",
      "|国歌 = [[女王陛下万歳|{{lang|en|God Save the Queen}}]]{{en icon}}<br />''神よ女王を護り賜え''<br />{{center|[[ファイル:United States Navy Band - God Save the Queen.ogg]]}}\n",
      "|地図画像 = Europe-UK.svg\n",
      "|位置画像 = United Kingdom (+overseas territories) in the World (+Antarctica claims).svg\n",
      "|公用語 = [[英語]]\n",
      "|首都 = [[ロンドン]]（事実上）\n",
      "|最大都市 = ロンドン\n",
      "|元首等肩書 = [[イギリスの君主|女王]]\n",
      "|元首等氏名 = [[エリザベス2世]]\n",
      "|首相等肩書 = [[イギリスの首相|首相]]\n",
      "|首相等氏名 = [[ボリス・ジョンソン]]\n",
      "|他元首等肩書1 = [[貴族院 (イギリス)|貴族院議長]]\n",
      "|他元首等氏名1 = [[:en:Norman Fowler, Baron Fowler|ノーマン・ファウラー]]\n",
      "|他元首等肩書2 = [[庶民院 (イギリス)|庶民院議長]]\n",
      "|他元首等氏名2 = {{仮リンク|リンゼイ・ホイル|en|Lindsay Hoyle}}\n",
      "|他元首等肩書3 = [[連合王国最高裁判所|最高裁判所長官]]\n",
      "|他元首等氏名3 = [[:en:Brenda Hale, Baroness Hale of Richmond|ブレンダ・ヘイル]]\n",
      "|面積順位 = 76\n",
      "|面積大きさ = 1 E11\n",
      "|面積値 = 244,820\n",
      "|水面積率 = 1.3%\n",
      "|人口統計年 = 2018\n",
      "|人口順位 = 22\n",
      "|人口大きさ = 1 E7\n",
      "|人口値 = 6643万5600<ref>{{Cite web|url=https://www.ons.gov.uk/peoplepopulationandcommunity/populationandmigration/populationestimates|title=Population estimates - Office for National Statistics|accessdate=2019-06-26|date=2019-06-26}}</ref>\n",
      "|人口密度値 = 271\n",
      "|GDP統計年元 = 2012\n",
      "|GDP値元 = 1兆5478億<ref name=\"imf-statistics-gdp\">[http://www.imf.org/external/pubs/ft/weo/2012/02/weodata/weorept.aspx?pr.x=70&pr.y=13&sy=2010&ey=2012&scsm=1&ssd=1&sort=country&ds=.&br=1&c=112&s=NGDP%2CNGDPD%2CPPPGDP%2CPPPPC&grp=0&a=IMF>Data and Statistics>World Economic Outlook Databases>By Countrise>United Kingdom]</ref>\n",
      "|GDP統計年MER = 2012\n",
      "|GDP順位MER = 6\n",
      "|GDP値MER = 2兆4337億<ref name=\"imf-statistics-gdp\" />\n",
      "|GDP統計年 = 2012\n",
      "|GDP順位 = 6\n",
      "|GDP値 = 2兆3162億<ref name=\"imf-statistics-gdp\" />\n",
      "|GDP/人 = 36,727<ref name=\"imf-statistics-gdp\" />\n",
      "|建国形態 = 建国\n",
      "|確立形態1 = [[イングランド王国]]／[[スコットランド王国]]<br />（両国とも[[合同法 (1707年)|1707年合同法]]まで）\n",
      "|確立年月日1 = 927年／843年\n",
      "|確立形態2 = [[グレートブリテン王国]]成立<br />（1707年合同法）\n",
      "|確立年月日2 = 1707年{{0}}5月{{0}}1日\n",
      "|確立形態3 = [[グレートブリテン及びアイルランド連合王国]]成立<br />（[[合同法 (1800年)|1800年合同法]]）\n",
      "|確立年月日3 = 1801年{{0}}1月{{0}}1日\n",
      "|確立形態4 = 現在の国号「'''グレートブリテン及び北アイルランド連合王国'''」に変更\n",
      "|確立年月日4 = 1927年{{0}}4月12日\n",
      "|通貨 = [[スターリング・ポンド|UKポンド]] (£)\n",
      "|通貨コード = GBP\n",
      "|時間帯 = ±0\n",
      "|夏時間 = +1\n",
      "|ISO 3166-1 = GB / GBR\n",
      "|ccTLD = [[.uk]] / [[.gb]]<ref>使用は.ukに比べ圧倒的少数。</ref>\n",
      "|国際電話番号 = 44\n",
      "|注記 = <references/>\n",
      "}}\n",
      "\n",
      "基礎情報 国|略名  =イギリス|日本語国名 = グレートブリテン及び北アイルランド連合王国|公式国名 = {{lang|en|United Kingdom of Great Britain and Northern Ireland}}<ref>英語以外での正式国名:<br />*{{lang|gd|An Rìoghachd Aonaichte na Breatainn Mhòr agus Eirinn mu Thuath}}（[[スコットランド・ゲール語]]）*{{lang|cy|Teyrnas Gyfunol Prydain Fawr a Gogledd Iwerddon}}（[[ウェールズ語]]）*{{lang|ga|Ríocht Aontaithe na Breataine Móire agus Tuaisceart na hÉireann}}（[[アイルランド語]]）*{{lang|kw|An Rywvaneth Unys a Vreten Veur hag Iwerdhon Glédh}}（[[コーンウォール語]]）*{{lang|sco|Unitit Kinrick o Great Breetain an Northren Ireland}}（[[スコットランド語]]）**{{lang|sco|Claught Kängrick o Docht Brätain an Norlin Airlann}}、{{lang|sco|Unitet Kängdom o Great Brittain an Norlin Airlann}}（アルスター・スコットランド語）</ref>|国旗画像 = Flag of the United Kingdom.svg|国章画像 = [[ファイル:Royal Coat of Arms of the United Kingdom.svg|85px|イギリスの国章]]|国章リンク =（[[イギリスの国章|国章]]）|標語 = {{lang|fr|[[Dieu et mon droit]]}}<br />（[[フランス語]]:[[Dieu et mon droit|神と我が権利]]）|国歌 = [[女王陛下万歳|{{lang|en|God Save the Queen}}]]{{en icon}}<br />''神よ女王を護り賜え''<br />{{center|[[ファイル:United States Navy Band - God Save the Queen.ogg]]}}|地図画像 = Europe-UK.svg|位置画像 = United Kingdom (+overseas territories) in the World (+Antarctica claims).svg|公用語 = [[英語]]|首都 = [[ロンドン]]（事実上）|最大都市 = ロンドン|元首等肩書 = [[イギリスの君主|女王]]|元首等氏名 = [[エリザベス2世]]|首相等肩書 = [[イギリスの首相|首相]]|首相等氏名 = [[ボリス・ジョンソン]]|他元首等肩書1 = [[貴族院 (イギリス)|貴族院議長]]|他元首等氏名1 = [[:en:Norman Fowler, Baron Fowler|ノーマン・ファウラー]]|他元首等肩書2 = [[庶民院 (イギリス)|庶民院議長]]|他元首等氏名2 = {{仮リンク|リンゼイ・ホイル|en|Lindsay Hoyle}}|他元首等肩書3 = [[連合王国最高裁判所|最高裁判所長官]]|他元首等氏名3 = [[:en:Brenda Hale, Baroness Hale of Richmond|ブレンダ・ヘイル]]|面積順位 = 76|面積大きさ = 1 E11|面積値 = 244,820|水面積率 = 1.3%|人口統計年 = 2018|人口順位 = 22|人口大きさ = 1 E7|人口値 = 6643万5600<ref>{{Cite web|url=https://www.ons.gov.uk/peoplepopulationandcommunity/populationandmigration/populationestimates|title=Population estimates - Office for National Statistics|accessdate=2019-06-26|date=2019-06-26}}</ref>|人口密度値 = 271|GDP統計年元 = 2012|GDP値元 = 1兆5478億<ref name=\"imf-statistics-gdp\">[http://www.imf.org/external/pubs/ft/weo/2012/02/weodata/weorept.aspx?pr.x=70&pr.y=13&sy=2010&ey=2012&scsm=1&ssd=1&sort=country&ds=.&br=1&c=112&s=NGDP%2CNGDPD%2CPPPGDP%2CPPPPC&grp=0&a=IMF>Data and Statistics>World Economic Outlook Databases>By Countrise>United Kingdom]</ref>|GDP統計年MER = 2012|GDP順位MER = 6|GDP値MER = 2兆4337億<ref name=\"imf-statistics-gdp\" />|GDP統計年 = 2012|GDP順位 = 6|GDP値 = 2兆3162億<ref name=\"imf-statistics-gdp\" />|GDP/人 = 36,727<ref name=\"imf-statistics-gdp\" />|建国形態 = 建国|確立形態1 = [[イングランド王国]]／[[スコットランド王国]]<br />（両国とも[[合同法 (1707年)|1707年合同法]]まで）|確立年月日1 = 927年／843年|確立形態2 = [[グレートブリテン王国]]成立<br />（1707年合同法）|確立年月日2 = 1707年{{0}}5月{{0}}1日|確立形態3 = [[グレートブリテン及びアイルランド連合王国]]成立<br />（[[合同法 (1800年)|1800年合同法]]）|確立年月日3 = 1801年{{0}}1月{{0}}1日|確立形態4 = 現在の国号「'''グレートブリテン及び北アイルランド連合王国'''」に変更|確立年月日4 = 1927年{{0}}4月12日|通貨 = [[スターリング・ポンド|UKポンド]] (£)|通貨コード = GBP|時間帯 = ±0|夏時間 = +1|ISO 3166-1 = GB / GBR|ccTLD = [[.uk]] / [[.gb]]<ref>使用は.ukに比べ圧倒的少数。</ref>|国際電話番号 = 44|注記 = <references/>\n"
     ]
    }
   ],
   "source": [
    "a = '{{red{{ir}}ect|UK}}'\n",
    "\n",
    "a = \"\"\"\n",
    "{{基礎情報 国\n",
    "|略名  =イギリス\n",
    "|日本語国名 = グレートブリテン及び北アイルランド連合王国\n",
    "|公式国名 = {{lang|en|United Kingdom of Great Britain and Northern Ireland}}<ref>英語以外での正式国名:<br />\n",
    "*{{lang|gd|An Rìoghachd Aonaichte na Breatainn Mhòr agus Eirinn mu Thuath}}（[[スコットランド・ゲール語]]）\n",
    "*{{lang|cy|Teyrnas Gyfunol Prydain Fawr a Gogledd Iwerddon}}（[[ウェールズ語]]）\n",
    "*{{lang|ga|Ríocht Aontaithe na Breataine Móire agus Tuaisceart na hÉireann}}（[[アイルランド語]]）\n",
    "*{{lang|kw|An Rywvaneth Unys a Vreten Veur hag Iwerdhon Glédh}}（[[コーンウォール語]]）\n",
    "*{{lang|sco|Unitit Kinrick o Great Breetain an Northren Ireland}}（[[スコットランド語]]）\n",
    "**{{lang|sco|Claught Kängrick o Docht Brätain an Norlin Airlann}}、{{lang|sco|Unitet Kängdom o Great Brittain an Norlin Airlann}}（アルスター・スコットランド語）</ref>\n",
    "|国旗画像 = Flag of the United Kingdom.svg\n",
    "|国章画像 = [[ファイル:Royal Coat of Arms of the United Kingdom.svg|85px|イギリスの国章]]\n",
    "|国章リンク =（[[イギリスの国章|国章]]）\n",
    "|標語 = {{lang|fr|[[Dieu et mon droit]]}}<br />（[[フランス語]]:[[Dieu et mon droit|神と我が権利]]）\n",
    "|国歌 = [[女王陛下万歳|{{lang|en|God Save the Queen}}]]{{en icon}}<br />''神よ女王を護り賜え''<br />{{center|[[ファイル:United States Navy Band - God Save the Queen.ogg]]}}\n",
    "|地図画像 = Europe-UK.svg\n",
    "|位置画像 = United Kingdom (+overseas territories) in the World (+Antarctica claims).svg\n",
    "|公用語 = [[英語]]\n",
    "|首都 = [[ロンドン]]（事実上）\n",
    "|最大都市 = ロンドン\n",
    "|元首等肩書 = [[イギリスの君主|女王]]\n",
    "|元首等氏名 = [[エリザベス2世]]\n",
    "|首相等肩書 = [[イギリスの首相|首相]]\n",
    "|首相等氏名 = [[ボリス・ジョンソン]]\n",
    "|他元首等肩書1 = [[貴族院 (イギリス)|貴族院議長]]\n",
    "|他元首等氏名1 = [[:en:Norman Fowler, Baron Fowler|ノーマン・ファウラー]]\n",
    "|他元首等肩書2 = [[庶民院 (イギリス)|庶民院議長]]\n",
    "|他元首等氏名2 = {{仮リンク|リンゼイ・ホイル|en|Lindsay Hoyle}}\n",
    "|他元首等肩書3 = [[連合王国最高裁判所|最高裁判所長官]]\n",
    "|他元首等氏名3 = [[:en:Brenda Hale, Baroness Hale of Richmond|ブレンダ・ヘイル]]\n",
    "|面積順位 = 76\n",
    "|面積大きさ = 1 E11\n",
    "|面積値 = 244,820\n",
    "|水面積率 = 1.3%\n",
    "|人口統計年 = 2018\n",
    "|人口順位 = 22\n",
    "|人口大きさ = 1 E7\n",
    "|人口値 = 6643万5600<ref>{{Cite web|url=https://www.ons.gov.uk/peoplepopulationandcommunity/populationandmigration/populationestimates|title=Population estimates - Office for National Statistics|accessdate=2019-06-26|date=2019-06-26}}</ref>\n",
    "|人口密度値 = 271\n",
    "|GDP統計年元 = 2012\n",
    "|GDP値元 = 1兆5478億<ref name=\"imf-statistics-gdp\">[http://www.imf.org/external/pubs/ft/weo/2012/02/weodata/weorept.aspx?pr.x=70&pr.y=13&sy=2010&ey=2012&scsm=1&ssd=1&sort=country&ds=.&br=1&c=112&s=NGDP%2CNGDPD%2CPPPGDP%2CPPPPC&grp=0&a=IMF>Data and Statistics>World Economic Outlook Databases>By Countrise>United Kingdom]</ref>\n",
    "|GDP統計年MER = 2012\n",
    "|GDP順位MER = 6\n",
    "|GDP値MER = 2兆4337億<ref name=\"imf-statistics-gdp\" />\n",
    "|GDP統計年 = 2012\n",
    "|GDP順位 = 6\n",
    "|GDP値 = 2兆3162億<ref name=\"imf-statistics-gdp\" />\n",
    "|GDP/人 = 36,727<ref name=\"imf-statistics-gdp\" />\n",
    "|建国形態 = 建国\n",
    "|確立形態1 = [[イングランド王国]]／[[スコットランド王国]]<br />（両国とも[[合同法 (1707年)|1707年合同法]]まで）\n",
    "|確立年月日1 = 927年／843年\n",
    "|確立形態2 = [[グレートブリテン王国]]成立<br />（1707年合同法）\n",
    "|確立年月日2 = 1707年{{0}}5月{{0}}1日\n",
    "|確立形態3 = [[グレートブリテン及びアイルランド連合王国]]成立<br />（[[合同法 (1800年)|1800年合同法]]）\n",
    "|確立年月日3 = 1801年{{0}}1月{{0}}1日\n",
    "|確立形態4 = 現在の国号「'''グレートブリテン及び北アイルランド連合王国'''」に変更\n",
    "|確立年月日4 = 1927年{{0}}4月12日\n",
    "|通貨 = [[スターリング・ポンド|UKポンド]] (£)\n",
    "|通貨コード = GBP\n",
    "|時間帯 = ±0\n",
    "|夏時間 = +1\n",
    "|ISO 3166-1 = GB / GBR\n",
    "|ccTLD = [[.uk]] / [[.gb]]<ref>使用は.ukに比べ圧倒的少数。</ref>\n",
    "|国際電話番号 = 44\n",
    "|注記 = <references/>\n",
    "}}\n",
    "\"\"\"\n",
    "\n",
    "s = re.findall(r'\\{\\{(.*)\\}\\}',a.replace('\\n',''))\n",
    "print(a)\n",
    "for i in s:\n",
    "  print(i)"
   ]
  },
  {
   "cell_type": "markdown",
   "metadata": {},
   "source": [
    "### 29問"
   ]
  },
  {
   "cell_type": "code",
   "execution_count": null,
   "metadata": {},
   "outputs": [],
   "source": []
  },
  {
   "cell_type": "code",
   "execution_count": null,
   "metadata": {},
   "outputs": [],
   "source": []
  },
  {
   "cell_type": "markdown",
   "metadata": {},
   "source": [
    "## 関連記事\n",
    "- [第1章 準備運動](/ml/nlp100/01/)\n",
    "- [第2章 UNIXコマンド](/ml/nlp100/02/)\n",
    "- [第3章 正規表現](/ml/nlp100/03/)\n",
    "- [第4章 形態素解析](/ml/nlp100/04/)\n",
    "- [第5章 係り受け解析](/ml/nlp100/05/)\n",
    "- [第6章 機械学習](/ml/nlp100/06/)\n",
    "- [第7章 単語ベクトル](/ml/nlp100/07/)\n",
    "- [第8章 ニューラルネット](/ml/nlp100/08/)\n",
    "- [第9章 RNN,CNN](/ml/nlp100/09/)\n",
    "- [第10章 機械翻訳](/ml/nlp100/10/)"
   ]
  }
 ],
 "metadata": {
  "kernelspec": {
   "display_name": "Python 3",
   "language": "python",
   "name": "python3"
  },
  "language_info": {
   "codemirror_mode": {
    "name": "ipython",
    "version": 3
   },
   "file_extension": ".py",
   "mimetype": "text/x-python",
   "name": "python",
   "nbconvert_exporter": "python",
   "pygments_lexer": "ipython3",
   "version": "3.7.3"
  },
  "widgets": {
   "state": {},
   "version": "1.1.2"
  }
 },
 "nbformat": 4,
 "nbformat_minor": 2
}
