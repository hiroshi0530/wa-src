{
 "cells": [
  {
   "cell_type": "markdown",
   "metadata": {},
   "source": [
    "## [第2章 UNIXコマンド](https://nlp100.github.io/ja/ch02.html)\n",
    "結果だけ載せました。正解かどうかは保障しません笑\n",
    "\n",
    "### github\n",
    "- githubのjupyter notebook形式のファイルは[こちら](https://github.com/hiroshi0530/wa/blob/master/src/ml/nlp100/02/02_nb.ipynb)\n",
    "\n",
    "### 筆者の環境"
   ]
  },
  {
   "cell_type": "code",
   "execution_count": 1,
   "metadata": {},
   "outputs": [
    {
     "name": "stdout",
     "output_type": "stream",
     "text": [
      "ProductName:\tMac OS X\r\n",
      "ProductVersion:\t10.14.6\r\n",
      "BuildVersion:\t18G95\r\n"
     ]
    }
   ],
   "source": [
    "!sw_vers"
   ]
  },
  {
   "cell_type": "code",
   "execution_count": 2,
   "metadata": {},
   "outputs": [
    {
     "name": "stdout",
     "output_type": "stream",
     "text": [
      "Python 3.5.5 :: Anaconda, Inc.\r\n"
     ]
    }
   ],
   "source": [
    "!python -V"
   ]
  },
  {
   "cell_type": "code",
   "execution_count": 3,
   "metadata": {},
   "outputs": [
    {
     "name": "stdout",
     "output_type": "stream",
     "text": [
      "GNU bash, version 3.2.57(1)-release (x86_64-apple-darwin18)\r\n",
      "Copyright (C) 2007 Free Software Foundation, Inc.\r\n"
     ]
    }
   ],
   "source": [
    "!bash --version"
   ]
  },
  {
   "cell_type": "markdown",
   "metadata": {},
   "source": [
    "テキストファイルをダウンロードします。"
   ]
  },
  {
   "cell_type": "code",
   "execution_count": 4,
   "metadata": {},
   "outputs": [
    {
     "name": "stdout",
     "output_type": "stream",
     "text": [
      "--2020-04-19 13:55:27--  https://nlp100.github.io/data/popular-names.txt\n",
      "nlp100.github.io (nlp100.github.io) をDNSに問いあわせています... 185.199.109.153, 185.199.108.153, 185.199.110.153, ...\n",
      "nlp100.github.io (nlp100.github.io)|185.199.109.153|:443 に接続しています... 接続しました。\n",
      "HTTP による接続要求を送信しました、応答を待っています... 200 OK\n",
      "長さ: 55026 (54K) [text/plain]\n",
      "`./popular-names.txt' に保存中\n",
      "\n",
      "./popular-names.txt 100%[===================>]  53.74K  --.-KB/s 時間 0.01s      \n",
      "\n",
      "2020-04-19 13:55:27 (4.34 MB/s) - `./popular-names.txt' へ保存完了 [55026/55026]\n",
      "\n"
     ]
    }
   ],
   "source": [
    "!wget https://nlp100.github.io/data/popular-names.txt -O ./popular-names.txt"
   ]
  },
  {
   "cell_type": "markdown",
   "metadata": {},
   "source": [
    "ファイルは、「アメリカで生まれた赤ちゃんの「名前」「性別」「人数」「年」をタブ区切り形式で格納したファイルである」という事ですが、どんなファイルか見てみます。"
   ]
  },
  {
   "cell_type": "code",
   "execution_count": 5,
   "metadata": {},
   "outputs": [
    {
     "name": "stdout",
     "output_type": "stream",
     "text": [
      "Mary\tF\t7065\t1880\r\n",
      "Anna\tF\t2604\t1880\r\n",
      "Emma\tF\t2003\t1880\r\n",
      "Elizabeth\tF\t1939\t1880\r\n",
      "Minnie\tF\t1746\t1880\r\n"
     ]
    }
   ],
   "source": [
    "!head -n 5 popular-names.txt"
   ]
  },
  {
   "cell_type": "code",
   "execution_count": 6,
   "metadata": {},
   "outputs": [
    {
     "name": "stdout",
     "output_type": "stream",
     "text": [
      "Benjamin\tM\t13381\t2018\r\n",
      "Elijah\tM\t12886\t2018\r\n",
      "Lucas\tM\t12585\t2018\r\n",
      "Mason\tM\t12435\t2018\r\n",
      "Logan\tM\t12352\t2018\r\n"
     ]
    }
   ],
   "source": [
    "!tail -n 5 popular-names.txt"
   ]
  },
  {
   "cell_type": "markdown",
   "metadata": {},
   "source": [
    "## 解答"
   ]
  },
  {
   "cell_type": "markdown",
   "metadata": {},
   "source": [
    "### 共通部分"
   ]
  },
  {
   "cell_type": "code",
   "execution_count": 7,
   "metadata": {},
   "outputs": [],
   "source": [
    "file_name = './popular-names.txt'"
   ]
  },
  {
   "cell_type": "markdown",
   "metadata": {},
   "source": [
    "### 10問"
   ]
  },
  {
   "cell_type": "code",
   "execution_count": 8,
   "metadata": {},
   "outputs": [
    {
     "name": "stdout",
     "output_type": "stream",
     "text": [
      "line number by python :  2780\n",
      "line number by unix   :  2780\r\n"
     ]
    }
   ],
   "source": [
    "with open(file_name,mode='r') as f:\n",
    "  print(\"line number by python : \", len(f.readlines()))\n",
    "\n",
    "!echo \"line number by unix   : \"`cat $file_name | wc -l`"
   ]
  },
  {
   "cell_type": "markdown",
   "metadata": {},
   "source": [
    "### 11問"
   ]
  },
  {
   "cell_type": "code",
   "execution_count": 9,
   "metadata": {},
   "outputs": [
    {
     "name": "stdout",
     "output_type": "stream",
     "text": [
      "MD5 (./popular-names.txt) = 8df49072c8f6812bbc9b7c2a1311d3f2\n",
      "MD5 (11_python_out) = f4b925b1b39a797e1d90af07f1abed33\n",
      "MD5 (11_unix_out) = f4b925b1b39a797e1d90af07f1abed33\n"
     ]
    }
   ],
   "source": [
    "with open(file_name,mode='r') as f:\n",
    "  with open('11_python_out', mode='w') as p:\n",
    "    for s in f.readlines():\n",
    "      p.write(s.replace('\\t',' '))\n",
    "\n",
    "!expand -t 1 $file_name > 11_unix_out\n",
    "\n",
    "!md5 $file_name\n",
    "!md5 11_python_out\n",
    "!md5 11_unix_out"
   ]
  },
  {
   "cell_type": "markdown",
   "metadata": {},
   "source": [
    "### 12問"
   ]
  },
  {
   "cell_type": "code",
   "execution_count": 10,
   "metadata": {},
   "outputs": [
    {
     "name": "stdout",
     "output_type": "stream",
     "text": [
      "MD5 (col1.txt) = b87013f2cafe9e8a443480a3fe0e0e9d\n",
      "MD5 (u_col1.txt) = b87013f2cafe9e8a443480a3fe0e0e9d\n",
      "MD5 (col2.txt) = 9252e1786bf293c854b88dc7af0ea77c\n",
      "MD5 (u_col2.txt) = 9252e1786bf293c854b88dc7af0ea77c\n"
     ]
    }
   ],
   "source": [
    "with open(file_name,mode='r') as f:\n",
    "  with open('col1.txt', mode='w') as c1:\n",
    "    with open('col2.txt', mode='w') as c2:\n",
    "      for s in f.readlines():\n",
    "        c1.write(s.split('\\t')[0] + '\\n')\n",
    "        c2.write(s.split('\\t')[1] + '\\n')\n",
    "        \n",
    "!cut -f 1 $file_name > u_col1.txt\n",
    "!cut -f 2 $file_name > u_col2.txt\n",
    "\n",
    "!md5 col1.txt\n",
    "!md5 u_col1.txt\n",
    "!md5 col2.txt\n",
    "!md5 u_col2.txt"
   ]
  },
  {
   "cell_type": "markdown",
   "metadata": {},
   "source": [
    "### 13問"
   ]
  },
  {
   "cell_type": "code",
   "execution_count": 11,
   "metadata": {},
   "outputs": [
    {
     "name": "stdout",
     "output_type": "stream",
     "text": [
      "MD5 (13_merge.txt) = 7c49f3d98798fe8b500b25da199202b5\n",
      "MD5 (u_13_merge.txt) = 7c49f3d98798fe8b500b25da199202b5\n"
     ]
    }
   ],
   "source": [
    "with open('col1.txt', mode='r') as c1:\n",
    "  with open('col2.txt', mode='r') as c2:\n",
    "    with open('13_merge.txt', mode='w') as w:\n",
    "      for s1,s2 in zip(c1.readlines(), c2.readlines()):\n",
    "        w.write(s1.replace('\\n','') + '\\t' + s2.replace('\\n','') + '\\n')\n",
    "        \n",
    "!paste col1.txt col2.txt > u_13_merge.txt\n",
    "\n",
    "!md5 13_merge.txt\n",
    "!md5 u_13_merge.txt"
   ]
  },
  {
   "cell_type": "markdown",
   "metadata": {},
   "source": [
    "### 14問"
   ]
  },
  {
   "cell_type": "code",
   "execution_count": 12,
   "metadata": {},
   "outputs": [
    {
     "name": "stdout",
     "output_type": "stream",
     "text": [
      "print by python\n",
      "Mary\tF\t7065\t1880\n",
      "Anna\tF\t2604\t1880\n",
      "Emma\tF\t2003\t1880\n",
      "Elizabeth\tF\t1939\t1880\n",
      "\n",
      "print by unix\n",
      "Mary\tF\t7065\t1880\r\n",
      "Anna\tF\t2604\t1880\r\n",
      "Emma\tF\t2003\t1880\r\n",
      "Elizabeth\tF\t1939\t1880\r\n"
     ]
    }
   ],
   "source": [
    "def print_n(n):\n",
    "  with open(file_name,mode='r') as f:\n",
    "    for i,s in enumerate(f.readlines()[:n]):\n",
    "      print(s.replace('\\n',''))\n",
    "\n",
    "print('print by python')\n",
    "print_n(4)\n",
    "print()\n",
    "print('print by unix')\n",
    "!head -n 4 $file_name"
   ]
  },
  {
   "cell_type": "markdown",
   "metadata": {},
   "source": [
    "### 15問"
   ]
  },
  {
   "cell_type": "code",
   "execution_count": 13,
   "metadata": {},
   "outputs": [
    {
     "name": "stdout",
     "output_type": "stream",
     "text": [
      "print by python\n",
      "Elijah\tM\t12886\t2018\n",
      "Lucas\tM\t12585\t2018\n",
      "Mason\tM\t12435\t2018\n",
      "Logan\tM\t12352\t2018\n",
      "\n",
      "print by unix\n",
      "Elijah\tM\t12886\t2018\r\n",
      "Lucas\tM\t12585\t2018\r\n",
      "Mason\tM\t12435\t2018\r\n",
      "Logan\tM\t12352\t2018\r\n"
     ]
    }
   ],
   "source": [
    "def print_n(n):\n",
    "  with open(file_name,mode='r') as f:\n",
    "    for i in f.readlines()[-1 * n:]: \n",
    "      print(i.replace('\\n',''))\n",
    "\n",
    "print('print by python')\n",
    "print_n(4)\n",
    "print()\n",
    "print('print by unix')\n",
    "!tail -n 4 $file_name"
   ]
  },
  {
   "cell_type": "markdown",
   "metadata": {},
   "source": [
    "### 16問"
   ]
  },
  {
   "cell_type": "code",
   "execution_count": 14,
   "metadata": {},
   "outputs": [
    {
     "name": "stdout",
     "output_type": "stream",
     "text": [
      "files by python\n",
      "MD5 (16_No_000000.txt) = 906c1ac43d5323ce7da7de854a2867b0\n",
      "MD5 (16_No_000001.txt) = b577de2d082eac6b9a69ead1d7e8044b\n",
      "MD5 (16_No_000002.txt) = 370895d0df3a1ed4ac0e7c5b800f6bab\n",
      "MD5 (16_No_000003.txt) = 0626fe166d70fd61595d92c39ea28759\n",
      "\n",
      "files by unix\n",
      "MD5 (xaaaa) = 906c1ac43d5323ce7da7de854a2867b0\n",
      "MD5 (xaaab) = b577de2d082eac6b9a69ead1d7e8044b\n",
      "MD5 (xaaac) = 370895d0df3a1ed4ac0e7c5b800f6bab\n",
      "MD5 (xaaad) = 0626fe166d70fd61595d92c39ea28759\n"
     ]
    }
   ],
   "source": [
    "def devide_n(n):\n",
    "  with open(file_name,mode='r') as f:\n",
    "    lines = f.readlines()\n",
    "    num = int(len(lines) / n)\n",
    "    \n",
    "    for k in range(n + 1):\n",
    "      with open('16_No_{:06d}.txt'.format(k), mode='w') as f:\n",
    "        for i in lines[num * k: num * (k + 1)]:\n",
    "          f.write(i)\n",
    "\n",
    "devide_n(3)\n",
    "\n",
    "def get_line(n):\n",
    "  with open(file_name, mode='r') as f:\n",
    "    return int(len(f.readlines()) / n)\n",
    "\n",
    "!split -l {get_line(3)} -a 4 $file_name \n",
    "\n",
    "print('files by python')\n",
    "!ls | grep 16_No | xargs -I{} md5 {}\n",
    "print()\n",
    "print('files by unix')\n",
    "!ls | grep xaa | xargs -I{} md5 {}"
   ]
  },
  {
   "cell_type": "markdown",
   "metadata": {},
   "source": [
    "### 17問"
   ]
  },
  {
   "cell_type": "code",
   "execution_count": 15,
   "metadata": {},
   "outputs": [
    {
     "name": "stdout",
     "output_type": "stream",
     "text": [
      "### python ###\n",
      "['Abigail', 'Aiden', 'Alexander', 'Alexis', 'Alice', 'Amanda', 'Amelia', 'Amy', 'Andrew', 'Angela', 'Anna', 'Annie', 'Anthony', 'Ashley', 'Austin', 'Ava', 'Barbara', 'Benjamin', 'Bertha', 'Bessie', 'Betty', 'Brandon', 'Brian', 'Brittany', 'Carol', 'Carolyn', 'Charles', 'Charlotte', 'Chloe', 'Christopher', 'Clara', 'Crystal', 'Cynthia', 'Daniel', 'David', 'Deborah', 'Debra', 'Donald', 'Donna', 'Doris', 'Dorothy', 'Edward', 'Elijah', 'Elizabeth', 'Emily', 'Emma', 'Ethan', 'Ethel', 'Evelyn', 'Florence', 'Frances', 'Frank', 'Gary', 'George', 'Hannah', 'Harper', 'Harry', 'Heather', 'Helen', 'Henry', 'Ida', 'Isabella', 'Jacob', 'James', 'Jason', 'Jayden', 'Jeffrey', 'Jennifer', 'Jessica', 'Joan', 'John', 'Joseph', 'Joshua', 'Judith', 'Julie', 'Justin', 'Karen', 'Kathleen', 'Kelly', 'Kimberly', 'Larry', 'Laura', 'Lauren', 'Liam', 'Lillian', 'Linda', 'Lisa', 'Logan', 'Lori', 'Lucas', 'Madison', 'Margaret', 'Marie', 'Mark', 'Mary', 'Mason', 'Matthew', 'Megan', 'Melissa', 'Mia', 'Michael', 'Michelle', 'Mildred', 'Minnie', 'Nancy', 'Nicholas', 'Nicole', 'Noah', 'Oliver', 'Olivia', 'Pamela', 'Patricia', 'Rachel', 'Rebecca', 'Richard', 'Robert', 'Ronald', 'Ruth', 'Samantha', 'Sandra', 'Sarah', 'Scott', 'Sharon', 'Shirley', 'Sophia', 'Stephanie', 'Steven', 'Susan', 'Tammy', 'Taylor', 'Thomas', 'Tracy', 'Tyler', 'Virginia', 'Walter', 'William']\n",
      "\n",
      "### unix ###\n",
      "Abigail,Aiden,Alexander,Alexis,Alice,Amanda,Amelia,Amy,Andrew,Angela,Anna,Annie,Anthony,Ashley,Austin,Ava,Barbara,Benjamin,Bertha,Bessie,Betty,Brandon,Brian,Brittany,Carol,Carolyn,Charles,Charlotte,Chloe,Christopher,Clara,Crystal,Cynthia,Daniel,David,Deborah,Debra,Donald,Donna,Doris,Dorothy,Edward,Elijah,Elizabeth,Emily,Emma,Ethan,Ethel,Evelyn,Florence,Frances,Frank,Gary,George,Hannah,Harper,Harry,Heather,Helen,Henry,Ida,Isabella,Jacob,James,Jason,Jayden,Jeffrey,Jennifer,Jessica,Joan,John,Joseph,Joshua,Judith,Julie,Justin,Karen,Kathleen,Kelly,Kimberly,Larry,Laura,Lauren,Liam,Lillian,Linda,Lisa,Logan,Lori,Lucas,Madison,Margaret,Marie,Mark,Mary,Mason,Matthew,Megan,Melissa,Mia,Michael,Michelle,Mildred,Minnie,Nancy,Nicholas,Nicole,Noah,Oliver,Olivia,Pamela,Patricia,Rachel,Rebecca,Richard,Robert,Ronald,Ruth,Samantha,Sandra,Sarah,Scott,Sharon,Shirley,Sophia,Stephanie,Steven,Susan,Tammy,Taylor,Thomas,Tracy,Tyler,Virginia,Walter,William,"
     ]
    }
   ],
   "source": [
    "with open(file_name,mode='r') as f:\n",
    "  s_set = set([s.split('\\t')[0] for s in f.readlines()])\n",
    "  print('### python ###')\n",
    "  print(sorted(list(s_set)))\n",
    "\n",
    "print()\n",
    "print('### unix ###')\n",
    "!cut -f 1 $file_name | sort | uniq | tr '\\n' ', '"
   ]
  },
  {
   "cell_type": "markdown",
   "metadata": {},
   "source": [
    "### 18問\n",
    "全部表示すると長いので、先頭から10行だけを表示しています。"
   ]
  },
  {
   "cell_type": "code",
   "execution_count": 16,
   "metadata": {},
   "outputs": [
    {
     "name": "stdout",
     "output_type": "stream",
     "text": [
      "### python ###\n",
      "['Linda', 'F', '99689', '1947\\n']\n",
      "['James', 'M', '9951', '1911\\n']\n",
      "['Mildred', 'F', '9921', '1913\\n']\n",
      "['Mary', 'F', '9889', '1886\\n']\n",
      "['Mary', 'F', '9888', '1887\\n']\n",
      "['John', 'M', '9829', '1900\\n']\n",
      "['Elizabeth', 'F', '9708', '2012\\n']\n",
      "['Anna', 'F', '9687', '1913\\n']\n",
      "['Frances', 'F', '9677', '1914\\n']\n",
      "['John', 'M', '9655', '1880\\n']\n",
      "\n",
      "### unix ###\n",
      "Linda\tF\t99689\t1947\n",
      "James\tM\t9951\t1911\n",
      "Mildred\tF\t9921\t1913\n",
      "Mary\tF\t9889\t1886\n",
      "Mary\tF\t9888\t1887\n",
      "John\tM\t9829\t1900\n",
      "Elizabeth\tF\t9708\t2012\n",
      "Anna\tF\t9687\t1913\n",
      "Frances\tF\t9677\t1914\n",
      "John\tM\t9655\t1880\n",
      "sort: Broken pipe\n"
     ]
    }
   ],
   "source": [
    "with open(file_name,mode='r') as f:\n",
    "  print(\"### python ###\")\n",
    "  for s in sorted([s.split('\\t') for s in f.readlines()],key=lambda x:x[2],reverse=True)[0:10]:\n",
    "    print(s)\n",
    "\n",
    "print()\n",
    "!echo \"### unix ###\"\n",
    "!cat $file_name | sort -k 3 -r | head -n 10"
   ]
  },
  {
   "cell_type": "markdown",
   "metadata": {},
   "source": [
    "### 19問\n",
    "全部表示すると長いので、先頭から10行だけを表示しています。"
   ]
  },
  {
   "cell_type": "code",
   "execution_count": 17,
   "metadata": {},
   "outputs": [
    {
     "name": "stdout",
     "output_type": "stream",
     "text": [
      "### python sort ###\n",
      "118 James\n",
      "111 William\n",
      "108 John\n",
      "108 Robert\n",
      "92 Mary\n",
      "75 Charles\n",
      "74 Michael\n",
      "73 Elizabeth\n",
      "70 Joseph\n",
      "60 Margaret\n",
      "\n",
      "### unix sort ###\n",
      " 118 James\r\n",
      " 111 William\r\n",
      " 108 Robert\r\n",
      " 108 John\r\n",
      "  92 Mary\r\n",
      "  75 Charles\r\n",
      "  74 Michael\r\n",
      "  73 Elizabeth\r\n",
      "  70 Joseph\r\n",
      "  60 Margaret\r\n"
     ]
    }
   ],
   "source": [
    "import collections\n",
    "\n",
    "with open(file_name,mode='r') as f:\n",
    "  s_list = [s.split('\\t')[0] for s in f.readlines()]\n",
    "  print('### python sort ###')\n",
    "  for s in sorted(collections.Counter(s_list).items(),key=lambda x:x[1], reverse=True )[0:10]:\n",
    "    print(str(s[1]) + ' ' + s[0])\n",
    "\n",
    "print()\n",
    "print('### unix sort ###')\n",
    "!cut -f 1 $file_name | sort | uniq -c | sort -r | head -n 10"
   ]
  },
  {
   "cell_type": "markdown",
   "metadata": {},
   "source": [
    "## 関連記事\n",
    "- [第1章 準備運動](/ml/nlp100/01/)\n",
    "- [第2章 UNIXコマンド](/ml/nlp100/02/)\n",
    "- [第3章 正規表現](/ml/nlp100/03/)\n",
    "- [第4章 形態素解析](/ml/nlp100/04/)\n",
    "- [第5章 係り受け解析](/ml/nlp100/05/)\n",
    "- [第6章 機械学習](/ml/nlp100/06/)\n",
    "- [第7章 単語ベクトル](/ml/nlp100/07/)\n",
    "- [第8章 ニューラルネット](/ml/nlp100/08/)\n",
    "- [第9章 RNN,CNN](/ml/nlp100/09/)\n",
    "- [第10章 機械翻訳](/ml/nlp100/10/)"
   ]
  }
 ],
 "metadata": {
  "kernelspec": {
   "display_name": "Python 3",
   "language": "python",
   "name": "python3"
  },
  "language_info": {
   "codemirror_mode": {
    "name": "ipython",
    "version": 3
   },
   "file_extension": ".py",
   "mimetype": "text/x-python",
   "name": "python",
   "nbconvert_exporter": "python",
   "pygments_lexer": "ipython3",
   "version": "3.5.5"
  },
  "widgets": {
   "state": {},
   "version": "1.1.2"
  }
 },
 "nbformat": 4,
 "nbformat_minor": 2
}
