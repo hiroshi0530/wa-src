{
 "cells": [
  {
   "cell_type": "markdown",
   "metadata": {},
   "source": [
    "## [第1章](https://nlp100.github.io/ja/)\n",
    "結果だけ載せました。正解かどうかは保障しません笑\n",
    "\n",
    "### github\n",
    "- githubのjupyter notebook形式のファイルは[こちら](https://github.com/hiroshi0530/wa/blob/master/src/ml/nlp100/01/01_nb.ipynb)\n",
    "\n",
    "### 筆者の環境\n",
    "筆者の環境とimportの方法は以下の通りです。\n"
   ]
  },
  {
   "cell_type": "code",
   "execution_count": 1,
   "metadata": {},
   "outputs": [
    {
     "name": "stdout",
     "output_type": "stream",
     "text": [
      "ProductName:\tMac OS X\r\n",
      "ProductVersion:\t10.14.6\r\n",
      "BuildVersion:\t18G95\r\n"
     ]
    }
   ],
   "source": [
    "!sw_vers"
   ]
  },
  {
   "cell_type": "code",
   "execution_count": 2,
   "metadata": {},
   "outputs": [
    {
     "name": "stdout",
     "output_type": "stream",
     "text": [
      "Python 3.5.5 :: Anaconda, Inc.\r\n"
     ]
    }
   ],
   "source": [
    "!python -V"
   ]
  },
  {
   "cell_type": "markdown",
   "metadata": {},
   "source": [
    "## 解答"
   ]
  },
  {
   "cell_type": "code",
   "execution_count": 3,
   "metadata": {},
   "outputs": [
    {
     "data": {
      "text/plain": [
       "'desserts'"
      ]
     },
     "execution_count": 3,
     "metadata": {},
     "output_type": "execute_result"
    }
   ],
   "source": [
    "# 00\n",
    "a = 'stressed'\n",
    "\n",
    "''.join([a[len(a) - i - 1] for i in range(len(a))])"
   ]
  },
  {
   "cell_type": "code",
   "execution_count": 4,
   "metadata": {},
   "outputs": [
    {
     "data": {
      "text/plain": [
       "'タクシー'"
      ]
     },
     "execution_count": 4,
     "metadata": {},
     "output_type": "execute_result"
    }
   ],
   "source": [
    "# 01\n",
    "a = 'パタトクカシーー'\n",
    "\n",
    "a[1::2]"
   ]
  },
  {
   "cell_type": "code",
   "execution_count": 5,
   "metadata": {},
   "outputs": [
    {
     "data": {
      "text/plain": [
       "'パタトクカシーー'"
      ]
     },
     "execution_count": 5,
     "metadata": {},
     "output_type": "execute_result"
    }
   ],
   "source": [
    "# 02\n",
    "a = 'パトカー'\n",
    "b = 'タクシー'\n",
    "\n",
    "''.join([ i + j for i,j in zip(a,b)])"
   ]
  },
  {
   "cell_type": "code",
   "execution_count": 6,
   "metadata": {},
   "outputs": [
    {
     "data": {
      "text/plain": [
       "[3, 1, 4, 1, 5, 9, 2, 6, 5, 3, 5, 8, 9, 7, 9]"
      ]
     },
     "execution_count": 6,
     "metadata": {},
     "output_type": "execute_result"
    }
   ],
   "source": [
    "# 03\n",
    "a = 'Now I need a drink, alcoholic of course, after the heavy lectures involving quantum mechanics.'\n",
    "\n",
    "list(map(lambda x: len(x.replace(',','').replace('.','')), a.split(' ')))"
   ]
  },
  {
   "cell_type": "code",
   "execution_count": 7,
   "metadata": {},
   "outputs": [
    {
     "data": {
      "text/plain": [
       "{'Al': 13,\n",
       " 'Ar': 18,\n",
       " 'B': 5,\n",
       " 'Be': 4,\n",
       " 'C': 6,\n",
       " 'Ca': 20,\n",
       " 'Cl': 17,\n",
       " 'F': 9,\n",
       " 'H': 1,\n",
       " 'He': 2,\n",
       " 'K': 19,\n",
       " 'Li': 3,\n",
       " 'Mi': 12,\n",
       " 'N': 7,\n",
       " 'Na': 11,\n",
       " 'Ne': 10,\n",
       " 'O': 8,\n",
       " 'P': 15,\n",
       " 'S': 16,\n",
       " 'Si': 14}"
      ]
     },
     "execution_count": 7,
     "metadata": {},
     "output_type": "execute_result"
    }
   ],
   "source": [
    "# 04\n",
    "a = 'Hi He Lied Because Boron Could Not Oxidize Fluorine. New Nations Might Also Sign Peace Security Clause. Arthur King Can.'\n",
    "b = [1,5,6,7,8,9,15,16,19]\n",
    "\n",
    "ret = {}\n",
    "for i, s in enumerate(map(lambda x: x.replace(',','').replace('.',''), a.split(' '))):\n",
    "  if i + 1 in b:\n",
    "    ret.update({\n",
    "      s[0] : i + 1\n",
    "    })\n",
    "  else:\n",
    "    ret.update({\n",
    "      s[0:2] : i + 1\n",
    "    })\n",
    "    \n",
    "ret"
   ]
  },
  {
   "cell_type": "code",
   "execution_count": 8,
   "metadata": {},
   "outputs": [
    {
     "name": "stdout",
     "output_type": "stream",
     "text": [
      "[['I', 'am'], ['am', 'an'], ['an', 'NLPer']]\n",
      "['I ', ' a', 'am', 'm ', ' a', 'an', 'n ', ' N', 'NL', 'LP', 'Pe', 'er']\n"
     ]
    }
   ],
   "source": [
    "# 05\n",
    "def n_gram(arg, n):\n",
    "  return [arg[i: i + n] for i in range(len(arg)) if i + n <= len(arg)]\n",
    "\n",
    "a = 'I am an NLPer'\n",
    "\n",
    "print(n_gram(a.split(' '), 2))\n",
    "print(n_gram(a, 2))"
   ]
  },
  {
   "cell_type": "code",
   "execution_count": 9,
   "metadata": {},
   "outputs": [
    {
     "name": "stdout",
     "output_type": "stream",
     "text": [
      "和集合 :  {'di', 'ag', 'ap', 'se', 'ad', 'is', 'ar', 'ph', 'ra', 'pa', 'gr'}\n",
      "積集合 :  {'di', 'is', 'se', 'gr', 'ag', 'ad', 'ph'}\n",
      "差集合 :  {'ad', 'di', 'se', 'is'}\n",
      "Xにseあり\n",
      "Yにseなし\n"
     ]
    }
   ],
   "source": [
    "# 06\n",
    "a = 'paraparaparadise'\n",
    "b = 'paragraph'\n",
    "\n",
    "X = set(n_gram(a,2))\n",
    "Y = set(n_gram(b,2))\n",
    "\n",
    "print('和集合 : ',X | Y)\n",
    "print('積集合 : ', X ^ Y)\n",
    "print('差集合 : ', X - Y)\n",
    "\n",
    "if 'se' in X:\n",
    "  print('Xにseあり')\n",
    "else:\n",
    "  print('Xにseなし')\n",
    "    \n",
    "if 'se' in Y:\n",
    "  print('Yにseあり')\n",
    "else:\n",
    "  print('Yにseなし')"
   ]
  },
  {
   "cell_type": "code",
   "execution_count": 10,
   "metadata": {},
   "outputs": [
    {
     "data": {
      "text/plain": [
       "'12時の気温は22.4'"
      ]
     },
     "execution_count": 10,
     "metadata": {},
     "output_type": "execute_result"
    }
   ],
   "source": [
    "# 07\n",
    "def template(x,y,z):\n",
    "  return '{}時の{}は{}'.format(x,y,z)\n",
    "\n",
    "template(12,'気温',22.4)"
   ]
  },
  {
   "cell_type": "code",
   "execution_count": 11,
   "metadata": {},
   "outputs": [
    {
     "name": "stdout",
     "output_type": "stream",
     "text": [
      "orig      :  sdf234DSFsdf\n",
      "encrypted :  hwu234DSFhwu\n",
      "decrypted :  sdf234DSFsdf\n",
      "judgement :  True\n"
     ]
    }
   ],
   "source": [
    "# 08\n",
    "def cipher(arg):\n",
    "  return ''.join([chr(219 - ord(i)) if i.islower() else i for i in arg])\n",
    "\n",
    "orig = 'sdf234DSFsdf'\n",
    "print('orig      : ',orig)\n",
    "encrypt = cipher(orig)\n",
    "print('encrypted : ',encrypt)\n",
    "decrypt = cipher(encrypt)\n",
    "print('decrypted : ',decrypt)\n",
    "print('judgement : ', orig == decrypt)"
   ]
  },
  {
   "cell_type": "code",
   "execution_count": 12,
   "metadata": {},
   "outputs": [
    {
     "data": {
      "text/plain": [
       "'I cnldo’ut beeivle that I cloud atlcauly urnandsetd what I was reaidng : the pmhenonael pweor of the hamun mind .'"
      ]
     },
     "execution_count": 12,
     "metadata": {},
     "output_type": "execute_result"
    }
   ],
   "source": [
    "# 09\n",
    "import random \n",
    "\n",
    "a = 'I couldn’t believe that I could actually understand what I was reading : the phenomenal power of the human mind .'\n",
    "\n",
    "def _09(arg):\n",
    "  return ' '.join(list(map(lambda x: x[0] + ''.join(random.sample(x[1:-1], len(x[1:-1]))) + x[-1] if len(x) > 4 else x , a.split(' '))))\n",
    "\n",
    "_09(a)"
   ]
  }
 ],
 "metadata": {
  "kernelspec": {
   "display_name": "Python 3",
   "language": "python",
   "name": "python3"
  },
  "language_info": {
   "codemirror_mode": {
    "name": "ipython",
    "version": 3
   },
   "file_extension": ".py",
   "mimetype": "text/x-python",
   "name": "python",
   "nbconvert_exporter": "python",
   "pygments_lexer": "ipython3",
   "version": "3.5.5"
  },
  "widgets": {
   "state": {},
   "version": "1.1.2"
  }
 },
 "nbformat": 4,
 "nbformat_minor": 2
}
