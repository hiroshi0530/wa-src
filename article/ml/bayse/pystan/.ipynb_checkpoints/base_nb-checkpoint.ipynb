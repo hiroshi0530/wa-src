{
 "cells": [
  {
   "cell_type": "code",
   "execution_count": null,
   "metadata": {},
   "outputs": [
    {
     "name": "stderr",
     "output_type": "stream",
     "text": [
      "WARNING:pystan:DeprecationWarning: pystan.stan was deprecated in version 2.17 and will be removed in version 3.0. Compile and use a Stan program in separate steps.\n",
      "INFO:pystan:COMPILING THE C++ CODE FOR MODEL anon_model_286b3180dfa752c4cfedaf0241add0e4 NOW.\n"
     ]
    }
   ],
   "source": [
    "import pystan\n",
    "import matplotlib.pyplot as plt\n",
    "\n",
    "schools_dat = {\n",
    " 'J': 8,\n",
    " 'y': [28,  8, -3,  7, -1,  1, 18, 12],\n",
    " 'sigma': [15, 10, 16, 11,  9, 11, 10, 18]\n",
    "}\n",
    "\n",
    "fit = pystan.stan(file='8schools.stan', data=schools_dat, iter=100, chains=4)\n",
    "print(fit)\n",
    "fit.plot()\n",
    "plt.show()"
   ]
  },
  {
   "cell_type": "code",
   "execution_count": null,
   "metadata": {},
   "outputs": [],
   "source": []
  }
 ],
 "metadata": {
  "kernelspec": {
   "display_name": "Environment (conda_stan)",
   "language": "python",
   "name": "conda_stan"
  },
  "language_info": {
   "codemirror_mode": {
    "name": "ipython",
    "version": 3
   },
   "file_extension": ".py",
   "mimetype": "text/x-python",
   "name": "python",
   "nbconvert_exporter": "python",
   "pygments_lexer": "ipython3",
   "version": "3.6.12"
  }
 },
 "nbformat": 4,
 "nbformat_minor": 2
}
