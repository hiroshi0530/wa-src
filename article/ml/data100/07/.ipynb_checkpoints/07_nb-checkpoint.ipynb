{
 "cells": [
  {
   "cell_type": "markdown",
   "metadata": {},
   "source": [
    "## 第7章 ロジスティクスネットワークの最適設計を行う10本ノック\n",
    "\n",
    "この記事は[「Python実践データ分析100本ノック」](https://www.amazon.co.jp/dp/B07ZSGSN9S/ref=dp-kindle-redirect?_encoding=UTF8&btkr=1)の演習を実際にやってみたという内容になっています。今まで自己流でやってきましたが、一度他の方々がどのような考え方やコーディングをしているのか勉強してみようと思ってやってみました。本書は実際の業務に活用する上でとても参考になる内容だと思っています。データ分析に関わる仕事をしたい方にお勧めしたいです。\n",
    "\n",
    "輸送問題の最適化という事で、pulpとortoolpyを利用します。\n",
    "私も今回初めて利用するので勉強させていただきます。\n",
    "\n",
    "### github\n",
    "- jupyter notebook形式のファイルは[こちら](https://github.com/hiroshi0530/wa-src/blob/master/ml/data100/07/07_nb.ipynb)\n",
    "\n",
    "### google colaboratory\n",
    "- google colaboratory で実行する場合は[こちら](https://colab.research.google.com/github/hiroshi0530/wa-src/blob/master/ml/data100/07/07_nb.ipynb)\n",
    "\n",
    "### 筆者の環境"
   ]
  },
  {
   "cell_type": "code",
   "execution_count": 1,
   "metadata": {},
   "outputs": [
    {
     "name": "stdout",
     "output_type": "stream",
     "text": [
      "ProductName:\tMac OS X\r\n",
      "ProductVersion:\t10.14.6\r\n",
      "BuildVersion:\t18G6020\r\n"
     ]
    }
   ],
   "source": [
    "!sw_vers"
   ]
  },
  {
   "cell_type": "code",
   "execution_count": 2,
   "metadata": {},
   "outputs": [
    {
     "name": "stdout",
     "output_type": "stream",
     "text": [
      "Python 3.7.3\r\n"
     ]
    }
   ],
   "source": [
    "!python -V"
   ]
  },
  {
   "cell_type": "markdown",
   "metadata": {},
   "source": [
    "基本的なライブラリをインポートしそのバージョンを確認しておきます。"
   ]
  },
  {
   "cell_type": "code",
   "execution_count": 3,
   "metadata": {},
   "outputs": [
    {
     "name": "stdout",
     "output_type": "stream",
     "text": [
      "matplotlib version : 3.0.3\n",
      "scipy version : 1.4.1\n",
      "numpy version : 1.16.2\n",
      "pandas version : 1.0.3\n"
     ]
    }
   ],
   "source": [
    "%matplotlib inline\n",
    "%config InlineBackend.figure_format = 'svg'\n",
    "\n",
    "import matplotlib\n",
    "import matplotlib.pyplot as plt\n",
    "import scipy\n",
    "import numpy as np\n",
    "import pandas as pd\n",
    "\n",
    "print('matplotlib version :', matplotlib.__version__)\n",
    "print('scipy version :', scipy.__version__)\n",
    "print('numpy version :', np.__version__)\n",
    "print('pandas version :', pd.__version__)"
   ]
  },
  {
   "cell_type": "markdown",
   "metadata": {},
   "source": [
    "## 解答"
   ]
  },
  {
   "cell_type": "markdown",
   "metadata": {},
   "source": [
    "### ノック 61 : 輸送最適化問題を解いてみよう\n",
    "\n",
    "実際にpulpとortoolpyを読み込んで最適化問題を解きます。"
   ]
  },
  {
   "cell_type": "code",
   "execution_count": 4,
   "metadata": {},
   "outputs": [],
   "source": [
    "import numpy as np\n",
    "import pandas as pd\n",
    "from itertools import product\n",
    "from pulp import LpVariable, lpSum, value\n",
    "from ortoolpy import model_min, addvars, addvals"
   ]
  },
  {
   "cell_type": "code",
   "execution_count": 5,
   "metadata": {},
   "outputs": [
    {
     "data": {
      "text/html": [
       "<div>\n",
       "<style scoped>\n",
       "    .dataframe tbody tr th:only-of-type {\n",
       "        vertical-align: middle;\n",
       "    }\n",
       "\n",
       "    .dataframe tbody tr th {\n",
       "        vertical-align: top;\n",
       "    }\n",
       "\n",
       "    .dataframe thead th {\n",
       "        text-align: right;\n",
       "    }\n",
       "</style>\n",
       "<table border=\"1\" class=\"dataframe\">\n",
       "  <thead>\n",
       "    <tr style=\"text-align: right;\">\n",
       "      <th></th>\n",
       "      <th>F1</th>\n",
       "      <th>F2</th>\n",
       "      <th>F3</th>\n",
       "      <th>F4</th>\n",
       "    </tr>\n",
       "    <tr>\n",
       "      <th>工場</th>\n",
       "      <th></th>\n",
       "      <th></th>\n",
       "      <th></th>\n",
       "      <th></th>\n",
       "    </tr>\n",
       "  </thead>\n",
       "  <tbody>\n",
       "    <tr>\n",
       "      <th>W1</th>\n",
       "      <td>10</td>\n",
       "      <td>10</td>\n",
       "      <td>11</td>\n",
       "      <td>27</td>\n",
       "    </tr>\n",
       "    <tr>\n",
       "      <th>W2</th>\n",
       "      <td>18</td>\n",
       "      <td>21</td>\n",
       "      <td>12</td>\n",
       "      <td>14</td>\n",
       "    </tr>\n",
       "    <tr>\n",
       "      <th>W3</th>\n",
       "      <td>15</td>\n",
       "      <td>12</td>\n",
       "      <td>14</td>\n",
       "      <td>12</td>\n",
       "    </tr>\n",
       "  </tbody>\n",
       "</table>\n",
       "</div>"
      ],
      "text/plain": [
       "    F1  F2  F3  F4\n",
       "工場                \n",
       "W1  10  10  11  27\n",
       "W2  18  21  12  14\n",
       "W3  15  12  14  12"
      ]
     },
     "execution_count": 5,
     "metadata": {},
     "output_type": "execute_result"
    }
   ],
   "source": [
    "# データ読み込み\n",
    "df_tc = pd.read_csv('trans_cost.csv', index_col=\"工場\")\n",
    "df_tc"
   ]
  },
  {
   "cell_type": "code",
   "execution_count": 6,
   "metadata": {},
   "outputs": [
    {
     "data": {
      "text/html": [
       "<div>\n",
       "<style scoped>\n",
       "    .dataframe tbody tr th:only-of-type {\n",
       "        vertical-align: middle;\n",
       "    }\n",
       "\n",
       "    .dataframe tbody tr th {\n",
       "        vertical-align: top;\n",
       "    }\n",
       "\n",
       "    .dataframe thead th {\n",
       "        text-align: right;\n",
       "    }\n",
       "</style>\n",
       "<table border=\"1\" class=\"dataframe\">\n",
       "  <thead>\n",
       "    <tr style=\"text-align: right;\">\n",
       "      <th></th>\n",
       "      <th>F1</th>\n",
       "      <th>F2</th>\n",
       "      <th>F3</th>\n",
       "      <th>F4</th>\n",
       "    </tr>\n",
       "  </thead>\n",
       "  <tbody>\n",
       "    <tr>\n",
       "      <th>0</th>\n",
       "      <td>28</td>\n",
       "      <td>29</td>\n",
       "      <td>31</td>\n",
       "      <td>25</td>\n",
       "    </tr>\n",
       "  </tbody>\n",
       "</table>\n",
       "</div>"
      ],
      "text/plain": [
       "   F1  F2  F3  F4\n",
       "0  28  29  31  25"
      ]
     },
     "execution_count": 6,
     "metadata": {},
     "output_type": "execute_result"
    }
   ],
   "source": [
    "df_demand = pd.read_csv('demand.csv')\n",
    "df_demand"
   ]
  },
  {
   "cell_type": "code",
   "execution_count": 7,
   "metadata": {},
   "outputs": [
    {
     "data": {
      "text/html": [
       "<div>\n",
       "<style scoped>\n",
       "    .dataframe tbody tr th:only-of-type {\n",
       "        vertical-align: middle;\n",
       "    }\n",
       "\n",
       "    .dataframe tbody tr th {\n",
       "        vertical-align: top;\n",
       "    }\n",
       "\n",
       "    .dataframe thead th {\n",
       "        text-align: right;\n",
       "    }\n",
       "</style>\n",
       "<table border=\"1\" class=\"dataframe\">\n",
       "  <thead>\n",
       "    <tr style=\"text-align: right;\">\n",
       "      <th></th>\n",
       "      <th>W1</th>\n",
       "      <th>W2</th>\n",
       "      <th>W3</th>\n",
       "    </tr>\n",
       "  </thead>\n",
       "  <tbody>\n",
       "    <tr>\n",
       "      <th>0</th>\n",
       "      <td>35</td>\n",
       "      <td>41</td>\n",
       "      <td>42</td>\n",
       "    </tr>\n",
       "  </tbody>\n",
       "</table>\n",
       "</div>"
      ],
      "text/plain": [
       "   W1  W2  W3\n",
       "0  35  41  42"
      ]
     },
     "execution_count": 7,
     "metadata": {},
     "output_type": "execute_result"
    }
   ],
   "source": [
    "df_supply = pd.read_csv('supply.csv')\n",
    "df_supply"
   ]
  },
  {
   "cell_type": "code",
   "execution_count": 8,
   "metadata": {},
   "outputs": [
    {
     "name": "stdout",
     "output_type": "stream",
     "text": [
      "3\n",
      "4\n",
      "[(0, 0), (0, 1), (0, 2), (0, 3), (1, 0), (1, 1), (1, 2), (1, 3), (2, 0), (2, 1), (2, 2), (2, 3)]\n"
     ]
    }
   ],
   "source": [
    "# 初期設定 #\n",
    "np.random.seed(1)\n",
    "nw = len(df_tc.index)\n",
    "nf = len(df_tc.columns)\n",
    "\n",
    "# productは直積を作る関数\n",
    "# 二つの変数が取るすべての組み合わせを作る\n",
    "pr = list(product(range(nw), range(nf)))\n",
    "\n",
    "print(nw)\n",
    "print(nf)\n",
    "print(pr)"
   ]
  },
  {
   "cell_type": "code",
   "execution_count": 9,
   "metadata": {},
   "outputs": [
    {
     "name": "stdout",
     "output_type": "stream",
     "text": [
      "{(0, 0): v0_0, (0, 1): v0_1, (0, 2): v0_2, (0, 3): v0_3, (1, 0): v1_0, (1, 1): v1_1, (1, 2): v1_2, (1, 3): v1_3, (2, 0): v2_0, (2, 1): v2_1, (2, 2): v2_2, (2, 3): v2_3}\n"
     ]
    }
   ],
   "source": [
    "# 数理モデル作成 #\n",
    "m1 = model_min()\n",
    "v1 = {(i,j):LpVariable('v%d_%d'%(i,j),lowBound=0) for i,j in pr}\n",
    "\n",
    "# (x,x)というタプル型でアクセス出来るようにする\n",
    "print(v1)"
   ]
  },
  {
   "cell_type": "code",
   "execution_count": 10,
   "metadata": {},
   "outputs": [
    {
     "data": {
      "text/plain": [
       "1"
      ]
     },
     "execution_count": 10,
     "metadata": {},
     "output_type": "execute_result"
    }
   ],
   "source": [
    "m1 += lpSum(df_tc.iloc[i][j]*v1[i,j] for i,j in pr)\n",
    "\n",
    "# コストの足し上げ\n",
    "for i in range(nw):\n",
    "  m1 += lpSum(v1[i,j] for j in range(nf)) <= df_supply.iloc[0][i]\n",
    "\n",
    "for j in range(nf):\n",
    "  m1 += lpSum(v1[i,j] for i in range(nw)) >= df_demand.iloc[0][j]\n",
    "\n",
    "# 最適化計算\n",
    "m1.solve()"
   ]
  },
  {
   "cell_type": "code",
   "execution_count": 11,
   "metadata": {},
   "outputs": [
    {
     "name": "stdout",
     "output_type": "stream",
     "text": [
      "    F1  F2  F3  F4\n",
      "工場                \n",
      "W1  28   7   0   0\n",
      "W2   0   0  31   5\n",
      "W3   0  22   0  20\n",
      "全輸送コスト :  1296.0\n"
     ]
    }
   ],
   "source": [
    "# 総輸送コストの計算\n",
    "df_tr_sol = df_tc.copy()\n",
    "total_cost = 0\n",
    "for k,x in v1.items():\n",
    "  i,j = k[0],k[1]\n",
    "  df_tr_sol.iloc[i][j] = value(x)\n",
    "  total_cost += df_tc.iloc[i][j]*value(x)\n",
    "  \n",
    "print(df_tr_sol)\n",
    "print(\"全輸送コスト : \", total_cost)"
   ]
  },
  {
   "cell_type": "markdown",
   "metadata": {},
   "source": [
    "### ノック 62 : 最適輸送ルートをネットワークで確認しよう"
   ]
  },
  {
   "cell_type": "code",
   "execution_count": 12,
   "metadata": {},
   "outputs": [
    {
     "data": {
      "text/html": [
       "<div>\n",
       "<style scoped>\n",
       "    .dataframe tbody tr th:only-of-type {\n",
       "        vertical-align: middle;\n",
       "    }\n",
       "\n",
       "    .dataframe tbody tr th {\n",
       "        vertical-align: top;\n",
       "    }\n",
       "\n",
       "    .dataframe thead th {\n",
       "        text-align: right;\n",
       "    }\n",
       "</style>\n",
       "<table border=\"1\" class=\"dataframe\">\n",
       "  <thead>\n",
       "    <tr style=\"text-align: right;\">\n",
       "      <th></th>\n",
       "      <th>W1</th>\n",
       "      <th>W2</th>\n",
       "      <th>W3</th>\n",
       "      <th>F1</th>\n",
       "      <th>F2</th>\n",
       "      <th>F3</th>\n",
       "      <th>F4</th>\n",
       "    </tr>\n",
       "  </thead>\n",
       "  <tbody>\n",
       "    <tr>\n",
       "      <th>0</th>\n",
       "      <td>0</td>\n",
       "      <td>0</td>\n",
       "      <td>0</td>\n",
       "      <td>4.0</td>\n",
       "      <td>4.0</td>\n",
       "      <td>4.0</td>\n",
       "      <td>4.0</td>\n",
       "    </tr>\n",
       "    <tr>\n",
       "      <th>1</th>\n",
       "      <td>1</td>\n",
       "      <td>2</td>\n",
       "      <td>3</td>\n",
       "      <td>0.5</td>\n",
       "      <td>1.5</td>\n",
       "      <td>2.5</td>\n",
       "      <td>3.5</td>\n",
       "    </tr>\n",
       "  </tbody>\n",
       "</table>\n",
       "</div>"
      ],
      "text/plain": [
       "   W1  W2  W3   F1   F2   F3   F4\n",
       "0   0   0   0  4.0  4.0  4.0  4.0\n",
       "1   1   2   3  0.5  1.5  2.5  3.5"
      ]
     },
     "execution_count": 12,
     "metadata": {},
     "output_type": "execute_result"
    }
   ],
   "source": [
    "# データ読み込み\n",
    "df_tr = df_tr_sol.copy()\n",
    "df_pos = pd.read_csv('trans_route_pos.csv')\n",
    "\n",
    "df_pos"
   ]
  },
  {
   "cell_type": "code",
   "execution_count": 13,
   "metadata": {},
   "outputs": [
    {
     "name": "stderr",
     "output_type": "stream",
     "text": [
      "/Users/hiroshi/anaconda3/lib/python3.7/site-packages/networkx/drawing/nx_pylab.py:611: MatplotlibDeprecationWarning: isinstance(..., numbers.Number)\n",
      "  if cb.is_numlike(alpha):\n"
     ]
    },
    {
     "data": {
      "image/svg+xml": [
       "<?xml version=\"1.0\" encoding=\"utf-8\" standalone=\"no\"?>\n",
       "<!DOCTYPE svg PUBLIC \"-//W3C//DTD SVG 1.1//EN\"\n",
       "  \"http://www.w3.org/Graphics/SVG/1.1/DTD/svg11.dtd\">\n",
       "<!-- Created with matplotlib (https://matplotlib.org/) -->\n",
       "<svg height=\"319.078125pt\" version=\"1.1\" viewBox=\"0 0 469.303125 319.078125\" width=\"469.303125pt\" xmlns=\"http://www.w3.org/2000/svg\" xmlns:xlink=\"http://www.w3.org/1999/xlink\">\n",
       " <defs>\n",
       "  <style type=\"text/css\">\n",
       "*{stroke-linecap:butt;stroke-linejoin:round;}\n",
       "  </style>\n",
       " </defs>\n",
       " <g id=\"figure_1\">\n",
       "  <g id=\"patch_1\">\n",
       "   <path d=\"M 0 319.078125 \n",
       "L 469.303125 319.078125 \n",
       "L 469.303125 0 \n",
       "L 0 0 \n",
       "z\n",
       "\" style=\"fill:#ffffff;\"/>\n",
       "  </g>\n",
       "  <g id=\"axes_1\">\n",
       "   <g id=\"LineCollection_1\">\n",
       "    <path clip-path=\"url(#p052359af31)\" d=\"M 53.268406 235.391289 \n",
       "L 53.268406 151.2 \n",
       "\" style=\"fill:none;\"/>\n",
       "    <path clip-path=\"url(#p052359af31)\" d=\"M 53.268406 235.391289 \n",
       "L 53.268406 67.008711 \n",
       "\" style=\"fill:none;\"/>\n",
       "    <path clip-path=\"url(#p052359af31)\" d=\"M 53.268406 235.391289 \n",
       "L 438.937844 277.486934 \n",
       "\" style=\"fill:none;stroke:#000000;stroke-width:2.8;\"/>\n",
       "    <path clip-path=\"url(#p052359af31)\" d=\"M 53.268406 235.391289 \n",
       "L 438.937844 193.295645 \n",
       "\" style=\"fill:none;stroke:#000000;stroke-width:0.7;\"/>\n",
       "    <path clip-path=\"url(#p052359af31)\" d=\"M 53.268406 235.391289 \n",
       "L 438.937844 109.104355 \n",
       "\" style=\"fill:none;\"/>\n",
       "    <path clip-path=\"url(#p052359af31)\" d=\"M 53.268406 235.391289 \n",
       "L 438.937844 24.913066 \n",
       "\" style=\"fill:none;\"/>\n",
       "    <path clip-path=\"url(#p052359af31)\" d=\"M 53.268406 151.2 \n",
       "L 53.268406 67.008711 \n",
       "\" style=\"fill:none;\"/>\n",
       "    <path clip-path=\"url(#p052359af31)\" d=\"M 53.268406 151.2 \n",
       "L 438.937844 277.486934 \n",
       "\" style=\"fill:none;\"/>\n",
       "    <path clip-path=\"url(#p052359af31)\" d=\"M 53.268406 151.2 \n",
       "L 438.937844 193.295645 \n",
       "\" style=\"fill:none;\"/>\n",
       "    <path clip-path=\"url(#p052359af31)\" d=\"M 53.268406 151.2 \n",
       "L 438.937844 109.104355 \n",
       "\" style=\"fill:none;stroke:#000000;stroke-width:3.1;\"/>\n",
       "    <path clip-path=\"url(#p052359af31)\" d=\"M 53.268406 151.2 \n",
       "L 438.937844 24.913066 \n",
       "\" style=\"fill:none;stroke:#000000;stroke-width:0.5;\"/>\n",
       "    <path clip-path=\"url(#p052359af31)\" d=\"M 53.268406 67.008711 \n",
       "L 438.937844 277.486934 \n",
       "\" style=\"fill:none;\"/>\n",
       "    <path clip-path=\"url(#p052359af31)\" d=\"M 53.268406 67.008711 \n",
       "L 438.937844 193.295645 \n",
       "\" style=\"fill:none;stroke:#000000;stroke-width:2.2;\"/>\n",
       "    <path clip-path=\"url(#p052359af31)\" d=\"M 53.268406 67.008711 \n",
       "L 438.937844 109.104355 \n",
       "\" style=\"fill:none;\"/>\n",
       "    <path clip-path=\"url(#p052359af31)\" d=\"M 53.268406 67.008711 \n",
       "L 438.937844 24.913066 \n",
       "\" style=\"fill:none;stroke:#000000;stroke-width:2;\"/>\n",
       "    <path clip-path=\"url(#p052359af31)\" d=\"M 438.937844 277.486934 \n",
       "L 438.937844 193.295645 \n",
       "\" style=\"fill:none;\"/>\n",
       "    <path clip-path=\"url(#p052359af31)\" d=\"M 438.937844 277.486934 \n",
       "L 438.937844 109.104355 \n",
       "\" style=\"fill:none;\"/>\n",
       "    <path clip-path=\"url(#p052359af31)\" d=\"M 438.937844 277.486934 \n",
       "L 438.937844 24.913066 \n",
       "\" style=\"fill:none;\"/>\n",
       "    <path clip-path=\"url(#p052359af31)\" d=\"M 438.937844 193.295645 \n",
       "L 438.937844 109.104355 \n",
       "\" style=\"fill:none;\"/>\n",
       "    <path clip-path=\"url(#p052359af31)\" d=\"M 438.937844 193.295645 \n",
       "L 438.937844 24.913066 \n",
       "\" style=\"fill:none;\"/>\n",
       "    <path clip-path=\"url(#p052359af31)\" d=\"M 438.937844 109.104355 \n",
       "L 438.937844 24.913066 \n",
       "\" style=\"fill:none;\"/>\n",
       "   </g>\n",
       "   <g id=\"PathCollection_1\">\n",
       "    <defs>\n",
       "     <path d=\"M 0 15.811388 \n",
       "C 4.193229 15.811388 8.215279 14.145401 11.18034 11.18034 \n",
       "C 14.145401 8.215279 15.811388 4.193229 15.811388 0 \n",
       "C 15.811388 -4.193229 14.145401 -8.215279 11.18034 -11.18034 \n",
       "C 8.215279 -14.145401 4.193229 -15.811388 0 -15.811388 \n",
       "C -4.193229 -15.811388 -8.215279 -14.145401 -11.18034 -11.18034 \n",
       "C -14.145401 -8.215279 -15.811388 -4.193229 -15.811388 0 \n",
       "C -15.811388 4.193229 -14.145401 8.215279 -11.18034 11.18034 \n",
       "C -8.215279 14.145401 -4.193229 15.811388 0 15.811388 \n",
       "z\n",
       "\" id=\"mf120644698\" style=\"stroke:#000000;\"/>\n",
       "    </defs>\n",
       "    <g clip-path=\"url(#p052359af31)\">\n",
       "     <use style=\"stroke:#000000;\" x=\"53.268406\" xlink:href=\"#mf120644698\" y=\"235.391289\"/>\n",
       "     <use style=\"stroke:#000000;\" x=\"53.268406\" xlink:href=\"#mf120644698\" y=\"151.2\"/>\n",
       "     <use style=\"stroke:#000000;\" x=\"53.268406\" xlink:href=\"#mf120644698\" y=\"67.008711\"/>\n",
       "     <use style=\"stroke:#000000;\" x=\"438.937844\" xlink:href=\"#mf120644698\" y=\"277.486934\"/>\n",
       "     <use style=\"stroke:#000000;\" x=\"438.937844\" xlink:href=\"#mf120644698\" y=\"193.295645\"/>\n",
       "     <use style=\"stroke:#000000;\" x=\"438.937844\" xlink:href=\"#mf120644698\" y=\"109.104355\"/>\n",
       "     <use style=\"stroke:#000000;\" x=\"438.937844\" xlink:href=\"#mf120644698\" y=\"24.913066\"/>\n",
       "    </g>\n",
       "   </g>\n",
       "   <g id=\"text_1\">\n",
       "    <g clip-path=\"url(#p052359af31)\">\n",
       "     <!-- W1 -->\n",
       "     <defs>\n",
       "      <path d=\"M 3.328125 72.90625 \n",
       "L 13.28125 72.90625 \n",
       "L 28.609375 11.28125 \n",
       "L 43.890625 72.90625 \n",
       "L 54.984375 72.90625 \n",
       "L 70.3125 11.28125 \n",
       "L 85.59375 72.90625 \n",
       "L 95.609375 72.90625 \n",
       "L 77.296875 0 \n",
       "L 64.890625 0 \n",
       "L 49.515625 63.28125 \n",
       "L 33.984375 0 \n",
       "L 21.578125 0 \n",
       "z\n",
       "\" id=\"DejaVuSans-87\"/>\n",
       "      <path d=\"M 12.40625 8.296875 \n",
       "L 28.515625 8.296875 \n",
       "L 28.515625 63.921875 \n",
       "L 10.984375 60.40625 \n",
       "L 10.984375 69.390625 \n",
       "L 28.421875 72.90625 \n",
       "L 38.28125 72.90625 \n",
       "L 38.28125 8.296875 \n",
       "L 54.390625 8.296875 \n",
       "L 54.390625 0 \n",
       "L 12.40625 0 \n",
       "z\n",
       "\" id=\"DejaVuSans-49\"/>\n",
       "     </defs>\n",
       "     <g style=\"fill:#ffffff;\" transform=\"translate(40.268406 239.806289)scale(0.16 -0.16)\">\n",
       "      <use xlink:href=\"#DejaVuSans-87\"/>\n",
       "      <use x=\"98.876953\" xlink:href=\"#DejaVuSans-49\"/>\n",
       "     </g>\n",
       "    </g>\n",
       "   </g>\n",
       "   <g id=\"text_2\">\n",
       "    <g clip-path=\"url(#p052359af31)\">\n",
       "     <!-- W2 -->\n",
       "     <defs>\n",
       "      <path d=\"M 19.1875 8.296875 \n",
       "L 53.609375 8.296875 \n",
       "L 53.609375 0 \n",
       "L 7.328125 0 \n",
       "L 7.328125 8.296875 \n",
       "Q 12.9375 14.109375 22.625 23.890625 \n",
       "Q 32.328125 33.6875 34.8125 36.53125 \n",
       "Q 39.546875 41.84375 41.421875 45.53125 \n",
       "Q 43.3125 49.21875 43.3125 52.78125 \n",
       "Q 43.3125 58.59375 39.234375 62.25 \n",
       "Q 35.15625 65.921875 28.609375 65.921875 \n",
       "Q 23.96875 65.921875 18.8125 64.3125 \n",
       "Q 13.671875 62.703125 7.8125 59.421875 \n",
       "L 7.8125 69.390625 \n",
       "Q 13.765625 71.78125 18.9375 73 \n",
       "Q 24.125 74.21875 28.421875 74.21875 \n",
       "Q 39.75 74.21875 46.484375 68.546875 \n",
       "Q 53.21875 62.890625 53.21875 53.421875 \n",
       "Q 53.21875 48.921875 51.53125 44.890625 \n",
       "Q 49.859375 40.875 45.40625 35.40625 \n",
       "Q 44.1875 33.984375 37.640625 27.21875 \n",
       "Q 31.109375 20.453125 19.1875 8.296875 \n",
       "z\n",
       "\" id=\"DejaVuSans-50\"/>\n",
       "     </defs>\n",
       "     <g style=\"fill:#ffffff;\" transform=\"translate(40.268406 155.615)scale(0.16 -0.16)\">\n",
       "      <use xlink:href=\"#DejaVuSans-87\"/>\n",
       "      <use x=\"98.876953\" xlink:href=\"#DejaVuSans-50\"/>\n",
       "     </g>\n",
       "    </g>\n",
       "   </g>\n",
       "   <g id=\"text_3\">\n",
       "    <g clip-path=\"url(#p052359af31)\">\n",
       "     <!-- W3 -->\n",
       "     <defs>\n",
       "      <path d=\"M 40.578125 39.3125 \n",
       "Q 47.65625 37.796875 51.625 33 \n",
       "Q 55.609375 28.21875 55.609375 21.1875 \n",
       "Q 55.609375 10.40625 48.1875 4.484375 \n",
       "Q 40.765625 -1.421875 27.09375 -1.421875 \n",
       "Q 22.515625 -1.421875 17.65625 -0.515625 \n",
       "Q 12.796875 0.390625 7.625 2.203125 \n",
       "L 7.625 11.71875 \n",
       "Q 11.71875 9.328125 16.59375 8.109375 \n",
       "Q 21.484375 6.890625 26.8125 6.890625 \n",
       "Q 36.078125 6.890625 40.9375 10.546875 \n",
       "Q 45.796875 14.203125 45.796875 21.1875 \n",
       "Q 45.796875 27.640625 41.28125 31.265625 \n",
       "Q 36.765625 34.90625 28.71875 34.90625 \n",
       "L 20.21875 34.90625 \n",
       "L 20.21875 43.015625 \n",
       "L 29.109375 43.015625 \n",
       "Q 36.375 43.015625 40.234375 45.921875 \n",
       "Q 44.09375 48.828125 44.09375 54.296875 \n",
       "Q 44.09375 59.90625 40.109375 62.90625 \n",
       "Q 36.140625 65.921875 28.71875 65.921875 \n",
       "Q 24.65625 65.921875 20.015625 65.03125 \n",
       "Q 15.375 64.15625 9.8125 62.3125 \n",
       "L 9.8125 71.09375 \n",
       "Q 15.4375 72.65625 20.34375 73.4375 \n",
       "Q 25.25 74.21875 29.59375 74.21875 \n",
       "Q 40.828125 74.21875 47.359375 69.109375 \n",
       "Q 53.90625 64.015625 53.90625 55.328125 \n",
       "Q 53.90625 49.265625 50.4375 45.09375 \n",
       "Q 46.96875 40.921875 40.578125 39.3125 \n",
       "z\n",
       "\" id=\"DejaVuSans-51\"/>\n",
       "     </defs>\n",
       "     <g style=\"fill:#ffffff;\" transform=\"translate(40.268406 71.423711)scale(0.16 -0.16)\">\n",
       "      <use xlink:href=\"#DejaVuSans-87\"/>\n",
       "      <use x=\"98.876953\" xlink:href=\"#DejaVuSans-51\"/>\n",
       "     </g>\n",
       "    </g>\n",
       "   </g>\n",
       "   <g id=\"text_4\">\n",
       "    <g clip-path=\"url(#p052359af31)\">\n",
       "     <!-- F1 -->\n",
       "     <defs>\n",
       "      <path d=\"M 9.8125 72.90625 \n",
       "L 51.703125 72.90625 \n",
       "L 51.703125 64.59375 \n",
       "L 19.671875 64.59375 \n",
       "L 19.671875 43.109375 \n",
       "L 48.578125 43.109375 \n",
       "L 48.578125 34.8125 \n",
       "L 19.671875 34.8125 \n",
       "L 19.671875 0 \n",
       "L 9.8125 0 \n",
       "z\n",
       "\" id=\"DejaVuSans-70\"/>\n",
       "     </defs>\n",
       "     <g style=\"fill:#ffffff;\" transform=\"translate(429.246594 281.901934)scale(0.16 -0.16)\">\n",
       "      <use xlink:href=\"#DejaVuSans-70\"/>\n",
       "      <use x=\"57.519531\" xlink:href=\"#DejaVuSans-49\"/>\n",
       "     </g>\n",
       "    </g>\n",
       "   </g>\n",
       "   <g id=\"text_5\">\n",
       "    <g clip-path=\"url(#p052359af31)\">\n",
       "     <!-- F2 -->\n",
       "     <g style=\"fill:#ffffff;\" transform=\"translate(429.246594 197.710645)scale(0.16 -0.16)\">\n",
       "      <use xlink:href=\"#DejaVuSans-70\"/>\n",
       "      <use x=\"57.519531\" xlink:href=\"#DejaVuSans-50\"/>\n",
       "     </g>\n",
       "    </g>\n",
       "   </g>\n",
       "   <g id=\"text_6\">\n",
       "    <g clip-path=\"url(#p052359af31)\">\n",
       "     <!-- F3 -->\n",
       "     <g style=\"fill:#ffffff;\" transform=\"translate(429.246594 113.519355)scale(0.16 -0.16)\">\n",
       "      <use xlink:href=\"#DejaVuSans-70\"/>\n",
       "      <use x=\"57.519531\" xlink:href=\"#DejaVuSans-51\"/>\n",
       "     </g>\n",
       "    </g>\n",
       "   </g>\n",
       "   <g id=\"text_7\">\n",
       "    <g clip-path=\"url(#p052359af31)\">\n",
       "     <!-- F4 -->\n",
       "     <defs>\n",
       "      <path d=\"M 37.796875 64.3125 \n",
       "L 12.890625 25.390625 \n",
       "L 37.796875 25.390625 \n",
       "z\n",
       "M 35.203125 72.90625 \n",
       "L 47.609375 72.90625 \n",
       "L 47.609375 25.390625 \n",
       "L 58.015625 25.390625 \n",
       "L 58.015625 17.1875 \n",
       "L 47.609375 17.1875 \n",
       "L 47.609375 0 \n",
       "L 37.796875 0 \n",
       "L 37.796875 17.1875 \n",
       "L 4.890625 17.1875 \n",
       "L 4.890625 26.703125 \n",
       "z\n",
       "\" id=\"DejaVuSans-52\"/>\n",
       "     </defs>\n",
       "     <g style=\"fill:#ffffff;\" transform=\"translate(429.246594 29.328066)scale(0.16 -0.16)\">\n",
       "      <use xlink:href=\"#DejaVuSans-70\"/>\n",
       "      <use x=\"57.519531\" xlink:href=\"#DejaVuSans-52\"/>\n",
       "     </g>\n",
       "    </g>\n",
       "   </g>\n",
       "  </g>\n",
       " </g>\n",
       " <defs>\n",
       "  <clipPath id=\"p052359af31\">\n",
       "   <rect height=\"288\" width=\"432\" x=\"30.103125\" y=\"7.2\"/>\n",
       "  </clipPath>\n",
       " </defs>\n",
       "</svg>\n"
      ],
      "text/plain": [
       "<Figure size 432x288 with 1 Axes>"
      ]
     },
     "metadata": {},
     "output_type": "display_data"
    }
   ],
   "source": [
    "import networkx as nx\n",
    "\n",
    "# グラフオブジェクトの作成\n",
    "G = nx.Graph()\n",
    "\n",
    "# 頂点の設定\n",
    "for i in range(len(df_pos.columns)):\n",
    "  G.add_node(df_pos.columns[i])\n",
    "\n",
    "# 辺の設定&エッジの重みのリスト化\n",
    "num_pre = 0\n",
    "edge_weights = []\n",
    "size = 0.1\n",
    "for i in range(len(df_pos.columns)):\n",
    "  for j in range(len(df_pos.columns)):\n",
    "    if not (i==j):\n",
    "      # 辺の追加\n",
    "      G.add_edge(df_pos.columns[i],df_pos.columns[j])\n",
    "      # エッジの重みの追加\n",
    "      if num_pre<len(G.edges):\n",
    "        num_pre = len(G.edges)\n",
    "        weight = 0\n",
    "        if (df_pos.columns[i] in df_tr.columns)and(df_pos.columns[j] in df_tr.index):\n",
    "          if df_tr[df_pos.columns[i]][df_pos.columns[j]]:\n",
    "            weight = df_tr[df_pos.columns[i]][df_pos.columns[j]]*size\n",
    "        elif(df_pos.columns[j] in df_tr.columns)and(df_pos.columns[i] in df_tr.index):\n",
    "          if df_tr[df_pos.columns[j]][df_pos.columns[i]]:\n",
    "            weight = df_tr[df_pos.columns[j]][df_pos.columns[i]]*size\n",
    "        edge_weights.append(weight)\n",
    "        \n",
    "\n",
    "# 座標の設定\n",
    "pos = {}\n",
    "for i in range(len(df_pos.columns)):\n",
    "  node = df_pos.columns[i]\n",
    "  pos[node] = (df_pos[node][0],df_pos[node][1])\n",
    "  \n",
    "nx.draw(G, pos, with_labels=True,font_size=16, node_size = 1000, node_color='k', font_color='w', width=edge_weights)\n",
    "plt.show()"
   ]
  },
  {
   "cell_type": "markdown",
   "metadata": {},
   "source": [
    "実際に可視化してみると、とてもわかりやすいです。"
   ]
  },
  {
   "cell_type": "markdown",
   "metadata": {},
   "source": [
    "### ノック 63 : 最適輸送ルートが制約条件内に収まっているか確認してみよう"
   ]
  },
  {
   "cell_type": "code",
   "execution_count": 14,
   "metadata": {},
   "outputs": [
    {
     "data": {
      "text/html": [
       "<div>\n",
       "<style scoped>\n",
       "    .dataframe tbody tr th:only-of-type {\n",
       "        vertical-align: middle;\n",
       "    }\n",
       "\n",
       "    .dataframe tbody tr th {\n",
       "        vertical-align: top;\n",
       "    }\n",
       "\n",
       "    .dataframe thead th {\n",
       "        text-align: right;\n",
       "    }\n",
       "</style>\n",
       "<table border=\"1\" class=\"dataframe\">\n",
       "  <thead>\n",
       "    <tr style=\"text-align: right;\">\n",
       "      <th></th>\n",
       "      <th>F1</th>\n",
       "      <th>F2</th>\n",
       "      <th>F3</th>\n",
       "      <th>F4</th>\n",
       "    </tr>\n",
       "  </thead>\n",
       "  <tbody>\n",
       "    <tr>\n",
       "      <th>0</th>\n",
       "      <td>28</td>\n",
       "      <td>29</td>\n",
       "      <td>31</td>\n",
       "      <td>25</td>\n",
       "    </tr>\n",
       "  </tbody>\n",
       "</table>\n",
       "</div>"
      ],
      "text/plain": [
       "   F1  F2  F3  F4\n",
       "0  28  29  31  25"
      ]
     },
     "execution_count": 14,
     "metadata": {},
     "output_type": "execute_result"
    }
   ],
   "source": [
    "# データの読み込み\n",
    "df_demand = pd.read_csv('demand.csv')\n",
    "df_demand"
   ]
  },
  {
   "cell_type": "code",
   "execution_count": 15,
   "metadata": {},
   "outputs": [
    {
     "data": {
      "text/html": [
       "<div>\n",
       "<style scoped>\n",
       "    .dataframe tbody tr th:only-of-type {\n",
       "        vertical-align: middle;\n",
       "    }\n",
       "\n",
       "    .dataframe tbody tr th {\n",
       "        vertical-align: top;\n",
       "    }\n",
       "\n",
       "    .dataframe thead th {\n",
       "        text-align: right;\n",
       "    }\n",
       "</style>\n",
       "<table border=\"1\" class=\"dataframe\">\n",
       "  <thead>\n",
       "    <tr style=\"text-align: right;\">\n",
       "      <th></th>\n",
       "      <th>W1</th>\n",
       "      <th>W2</th>\n",
       "      <th>W3</th>\n",
       "    </tr>\n",
       "  </thead>\n",
       "  <tbody>\n",
       "    <tr>\n",
       "      <th>0</th>\n",
       "      <td>35</td>\n",
       "      <td>41</td>\n",
       "      <td>42</td>\n",
       "    </tr>\n",
       "  </tbody>\n",
       "</table>\n",
       "</div>"
      ],
      "text/plain": [
       "   W1  W2  W3\n",
       "0  35  41  42"
      ]
     },
     "execution_count": 15,
     "metadata": {},
     "output_type": "execute_result"
    }
   ],
   "source": [
    "# データの読み込み\n",
    "df_supply = pd.read_csv('supply.csv')\n",
    "df_supply"
   ]
  },
  {
   "cell_type": "code",
   "execution_count": 16,
   "metadata": {},
   "outputs": [
    {
     "name": "stdout",
     "output_type": "stream",
     "text": [
      "需要条件計算結果:[1. 1. 1. 1.]\n",
      "供給条件計算結果:[1. 1. 1.]\n"
     ]
    }
   ],
   "source": [
    "# 制約条件計算関数\n",
    "# 需要側\n",
    "def condition_demand(df_tr,df_demand):\n",
    "  flag = np.zeros(len(df_demand.columns))\n",
    "  for i in range(len(df_demand.columns)):\n",
    "    temp_sum = sum(df_tr[df_demand.columns[i]])\n",
    "    if (temp_sum >= df_demand.iloc[0][i]):\n",
    "      flag[i] = 1\n",
    "  return flag\n",
    "      \n",
    "# 供給側\n",
    "def condition_supply(df_tr, df_supply):\n",
    "  flag = np.zeros(len(df_supply.columns))\n",
    "  for i in range(len(df_supply.columns)):\n",
    "    temp_sum = sum(df_tr.loc[df_supply.columns[i]])\n",
    "    if temp_sum <= df_supply.iloc[0][i]:\n",
    "      flag[i] = 1\n",
    "  return flag\n",
    "\n",
    "print(\"需要条件計算結果:\"+str(condition_demand(df_tr_sol,df_demand)))\n",
    "print(\"供給条件計算結果:\"+str(condition_supply(df_tr_sol,df_supply)))"
   ]
  },
  {
   "cell_type": "markdown",
   "metadata": {},
   "source": [
    "すべての制約条件が1となり、条件を満たしている事がわかります。"
   ]
  },
  {
   "cell_type": "markdown",
   "metadata": {},
   "source": [
    "### ノック 64 : 生産計画に関するデータを読み込んでみよう\n",
    "\n",
    "生産計画に関するデータをいつも通り読み込みます。\n",
    "\n",
    "- product_plan_material.csv : 製品の製造に必要な原料の割合\n",
    "- product_plan_profit.csv : 製品の利益\n",
    "- product_plan_stock.csv : 原料の在庫\n",
    "- product_plan.csv : 製品の生産量"
   ]
  },
  {
   "cell_type": "code",
   "execution_count": 17,
   "metadata": {},
   "outputs": [
    {
     "data": {
      "text/html": [
       "<div>\n",
       "<style scoped>\n",
       "    .dataframe tbody tr th:only-of-type {\n",
       "        vertical-align: middle;\n",
       "    }\n",
       "\n",
       "    .dataframe tbody tr th {\n",
       "        vertical-align: top;\n",
       "    }\n",
       "\n",
       "    .dataframe thead th {\n",
       "        text-align: right;\n",
       "    }\n",
       "</style>\n",
       "<table border=\"1\" class=\"dataframe\">\n",
       "  <thead>\n",
       "    <tr style=\"text-align: right;\">\n",
       "      <th></th>\n",
       "      <th>原料1</th>\n",
       "      <th>原料2</th>\n",
       "      <th>原料3</th>\n",
       "    </tr>\n",
       "    <tr>\n",
       "      <th>製品</th>\n",
       "      <th></th>\n",
       "      <th></th>\n",
       "      <th></th>\n",
       "    </tr>\n",
       "  </thead>\n",
       "  <tbody>\n",
       "    <tr>\n",
       "      <th>製品1</th>\n",
       "      <td>1</td>\n",
       "      <td>4</td>\n",
       "      <td>3</td>\n",
       "    </tr>\n",
       "    <tr>\n",
       "      <th>製品2</th>\n",
       "      <td>2</td>\n",
       "      <td>4</td>\n",
       "      <td>1</td>\n",
       "    </tr>\n",
       "  </tbody>\n",
       "</table>\n",
       "</div>"
      ],
      "text/plain": [
       "     原料1  原料2  原料3\n",
       "製品                \n",
       "製品1    1    4    3\n",
       "製品2    2    4    1"
      ]
     },
     "execution_count": 17,
     "metadata": {},
     "output_type": "execute_result"
    }
   ],
   "source": [
    "df_material = pd.read_csv('product_plan_material.csv', index_col=\"製品\")\n",
    "df_material"
   ]
  },
  {
   "cell_type": "code",
   "execution_count": 18,
   "metadata": {},
   "outputs": [
    {
     "data": {
      "text/html": [
       "<div>\n",
       "<style scoped>\n",
       "    .dataframe tbody tr th:only-of-type {\n",
       "        vertical-align: middle;\n",
       "    }\n",
       "\n",
       "    .dataframe tbody tr th {\n",
       "        vertical-align: top;\n",
       "    }\n",
       "\n",
       "    .dataframe thead th {\n",
       "        text-align: right;\n",
       "    }\n",
       "</style>\n",
       "<table border=\"1\" class=\"dataframe\">\n",
       "  <thead>\n",
       "    <tr style=\"text-align: right;\">\n",
       "      <th></th>\n",
       "      <th>利益</th>\n",
       "    </tr>\n",
       "    <tr>\n",
       "      <th>製品</th>\n",
       "      <th></th>\n",
       "    </tr>\n",
       "  </thead>\n",
       "  <tbody>\n",
       "    <tr>\n",
       "      <th>製品1</th>\n",
       "      <td>5.0</td>\n",
       "    </tr>\n",
       "    <tr>\n",
       "      <th>製品2</th>\n",
       "      <td>4.0</td>\n",
       "    </tr>\n",
       "  </tbody>\n",
       "</table>\n",
       "</div>"
      ],
      "text/plain": [
       "      利益\n",
       "製品      \n",
       "製品1  5.0\n",
       "製品2  4.0"
      ]
     },
     "execution_count": 18,
     "metadata": {},
     "output_type": "execute_result"
    }
   ],
   "source": [
    "df_profit = pd.read_csv('product_plan_profit.csv', index_col=\"製品\")\n",
    "df_profit"
   ]
  },
  {
   "cell_type": "code",
   "execution_count": 19,
   "metadata": {},
   "outputs": [
    {
     "data": {
      "text/html": [
       "<div>\n",
       "<style scoped>\n",
       "    .dataframe tbody tr th:only-of-type {\n",
       "        vertical-align: middle;\n",
       "    }\n",
       "\n",
       "    .dataframe tbody tr th {\n",
       "        vertical-align: top;\n",
       "    }\n",
       "\n",
       "    .dataframe thead th {\n",
       "        text-align: right;\n",
       "    }\n",
       "</style>\n",
       "<table border=\"1\" class=\"dataframe\">\n",
       "  <thead>\n",
       "    <tr style=\"text-align: right;\">\n",
       "      <th></th>\n",
       "      <th>原料1</th>\n",
       "      <th>原料2</th>\n",
       "      <th>原料3</th>\n",
       "    </tr>\n",
       "    <tr>\n",
       "      <th>項目</th>\n",
       "      <th></th>\n",
       "      <th></th>\n",
       "      <th></th>\n",
       "    </tr>\n",
       "  </thead>\n",
       "  <tbody>\n",
       "    <tr>\n",
       "      <th>在庫</th>\n",
       "      <td>40</td>\n",
       "      <td>80</td>\n",
       "      <td>50</td>\n",
       "    </tr>\n",
       "  </tbody>\n",
       "</table>\n",
       "</div>"
      ],
      "text/plain": [
       "    原料1  原料2  原料3\n",
       "項目               \n",
       "在庫   40   80   50"
      ]
     },
     "execution_count": 19,
     "metadata": {},
     "output_type": "execute_result"
    }
   ],
   "source": [
    "df_stock = pd.read_csv('product_plan_stock.csv', index_col=\"項目\")\n",
    "df_stock"
   ]
  },
  {
   "cell_type": "code",
   "execution_count": 20,
   "metadata": {},
   "outputs": [
    {
     "data": {
      "text/html": [
       "<div>\n",
       "<style scoped>\n",
       "    .dataframe tbody tr th:only-of-type {\n",
       "        vertical-align: middle;\n",
       "    }\n",
       "\n",
       "    .dataframe tbody tr th {\n",
       "        vertical-align: top;\n",
       "    }\n",
       "\n",
       "    .dataframe thead th {\n",
       "        text-align: right;\n",
       "    }\n",
       "</style>\n",
       "<table border=\"1\" class=\"dataframe\">\n",
       "  <thead>\n",
       "    <tr style=\"text-align: right;\">\n",
       "      <th></th>\n",
       "      <th>生産量</th>\n",
       "    </tr>\n",
       "    <tr>\n",
       "      <th>製品</th>\n",
       "      <th></th>\n",
       "    </tr>\n",
       "  </thead>\n",
       "  <tbody>\n",
       "    <tr>\n",
       "      <th>製品1</th>\n",
       "      <td>16</td>\n",
       "    </tr>\n",
       "    <tr>\n",
       "      <th>製品2</th>\n",
       "      <td>0</td>\n",
       "    </tr>\n",
       "  </tbody>\n",
       "</table>\n",
       "</div>"
      ],
      "text/plain": [
       "      生産量\n",
       "製品       \n",
       "製品1    16\n",
       "製品2     0"
      ]
     },
     "execution_count": 20,
     "metadata": {},
     "output_type": "execute_result"
    }
   ],
   "source": [
    "df_plan = pd.read_csv('product_plan.csv', index_col=\"製品\")\n",
    "df_plan"
   ]
  },
  {
   "cell_type": "markdown",
   "metadata": {},
   "source": [
    "### ノック 65 : 利益を計算する関数を作って見よう\n",
    "\n",
    " CSVから読み取ったデータから利益を計算させる関数です。"
   ]
  },
  {
   "cell_type": "code",
   "execution_count": 21,
   "metadata": {},
   "outputs": [
    {
     "name": "stdout",
     "output_type": "stream",
     "text": [
      "総利益:80.0\n"
     ]
    }
   ],
   "source": [
    "def product_plan(df_profit,df_plan):\n",
    "  profit = 0\n",
    "  for i in range(len(df_profit.index)):\n",
    "    for j in range(len(df_plan.columns)):\n",
    "      profit += df_profit.iloc[i][j]*df_plan.iloc[i][j]\n",
    "  return profit\n",
    "\n",
    "print(\"総利益:\"+str(product_plan(df_profit,df_plan)))"
   ]
  },
  {
   "cell_type": "markdown",
   "metadata": {},
   "source": [
    "### ノック 66 : 生産最適化問題を問いてみよう\n",
    "\n",
    "目的関数とした利益の関数を最大化するように最適化を行います。"
   ]
  },
  {
   "cell_type": "code",
   "execution_count": 22,
   "metadata": {},
   "outputs": [
    {
     "name": "stdout",
     "output_type": "stream",
     "text": [
      "      生産量\n",
      "製品       \n",
      "製品1  15.0\n",
      "製品2   5.0\n",
      "総利益 :  95.0\n"
     ]
    }
   ],
   "source": [
    "from ortoolpy import model_max\n",
    "\n",
    "df = df_material.copy()\n",
    "inv = df_stock\n",
    "\n",
    "m = model_max()\n",
    "v1 = {(i):LpVariable('v%d'%(i), lowBound=0) for i in range(len(df_profit))}\n",
    "m += lpSum(df_profit.iloc[i] * v1[i] for i in range(len(df_profit)))\n",
    "for i in range(len(df_material.columns)):\n",
    "  m += lpSum(df_material.iloc[j,i] * v1[j] for j in range(len(df_profit))) <= df_stock.iloc[:,i]\n",
    "m.solve()\n",
    "\n",
    "df_plan_sol = df_plan.copy()\n",
    "for k,x in v1.items():\n",
    "  df_plan_sol.iloc[k] = value(x)\n",
    "  \n",
    "print(df_plan_sol)\n",
    "print(\"総利益 : \", value(m.objective))"
   ]
  },
  {
   "cell_type": "markdown",
   "metadata": {},
   "source": [
    "### ノック 67 : 最適生産計画が制約条件内に長待て散るどうかを確認しよう"
   ]
  },
  {
   "cell_type": "code",
   "execution_count": 23,
   "metadata": {},
   "outputs": [
    {
     "name": "stdout",
     "output_type": "stream",
     "text": [
      "原料1  使用量:25.0, 在庫:40.0\n",
      "原料2  使用量:80.0, 在庫:80.0\n",
      "原料3  使用量:50.0, 在庫:50.0\n",
      "制約条件計算結果:[1. 1. 1.]\n"
     ]
    }
   ],
   "source": [
    "# 制約条件計算関数\n",
    "def condition_stock(df_plan,df_material,df_stock):\n",
    "  flag = np.zeros(len(df_material.columns))\n",
    "  for i in range(len(df_material.columns)):  \n",
    "    temp_sum = 0\n",
    "    for j in range(len(df_material.index)):  \n",
    "      temp_sum = temp_sum + df_material.iloc[j][i]*float(df_plan.iloc[j])\n",
    "    if (temp_sum<=float(df_stock.iloc[0][i])):\n",
    "      flag[i] = 1\n",
    "    print(df_material.columns[i]+\"  使用量:\"+str(temp_sum)+\", 在庫:\"+str(float(df_stock.iloc[0][i])))\n",
    "  return flag\n",
    "\n",
    "print(\"制約条件計算結果:\"+str(condition_stock(df_plan_sol,df_material,df_stock)))"
   ]
  },
  {
   "cell_type": "markdown",
   "metadata": {},
   "source": [
    "### ノック 68 : ロジスティックネットワーク設計問題を解いてみよう\n",
    "\n",
    "輸送ルートの設計と生産計画の設計を一つの設計として考えます。目的関数を輸送コストと映像コストの和として設定します。"
   ]
  },
  {
   "cell_type": "code",
   "execution_count": 24,
   "metadata": {},
   "outputs": [],
   "source": [
    "製品 = list('AB')\n",
    "需要地 = list('PQ')\n",
    "工場 = list('XY')\n",
    "レーン = (2,2)"
   ]
  },
  {
   "cell_type": "code",
   "execution_count": 25,
   "metadata": {},
   "outputs": [
    {
     "data": {
      "text/plain": [
       "['A', 'B']"
      ]
     },
     "execution_count": 25,
     "metadata": {},
     "output_type": "execute_result"
    }
   ],
   "source": [
    "製品"
   ]
  },
  {
   "cell_type": "code",
   "execution_count": 26,
   "metadata": {},
   "outputs": [
    {
     "data": {
      "text/plain": [
       "['P', 'Q']"
      ]
     },
     "execution_count": 26,
     "metadata": {},
     "output_type": "execute_result"
    }
   ],
   "source": [
    "需要地"
   ]
  },
  {
   "cell_type": "code",
   "execution_count": 27,
   "metadata": {},
   "outputs": [
    {
     "data": {
      "text/plain": [
       "['X', 'Y']"
      ]
     },
     "execution_count": 27,
     "metadata": {},
     "output_type": "execute_result"
    }
   ],
   "source": [
    "工場"
   ]
  },
  {
   "cell_type": "code",
   "execution_count": 28,
   "metadata": {},
   "outputs": [
    {
     "data": {
      "text/plain": [
       "(2, 2)"
      ]
     },
     "execution_count": 28,
     "metadata": {},
     "output_type": "execute_result"
    }
   ],
   "source": [
    "レーン"
   ]
  },
  {
   "cell_type": "code",
   "execution_count": 29,
   "metadata": {},
   "outputs": [
    {
     "name": "stdout",
     "output_type": "stream",
     "text": [
      "  需要地 工場  輸送費\n",
      "0   P  X    1\n",
      "1   P  Y    2\n",
      "2   Q  X    3\n",
      "3   Q  Y    1\n"
     ]
    }
   ],
   "source": [
    "# 輸送費表\n",
    "tbdi = pd.DataFrame(((j,k) for j in 需要地 for k in 工場), columns=['需要地','工場'])\n",
    "tbdi['輸送費'] = [1,2,3,1]\n",
    "print(tbdi)"
   ]
  },
  {
   "cell_type": "code",
   "execution_count": 30,
   "metadata": {},
   "outputs": [
    {
     "name": "stdout",
     "output_type": "stream",
     "text": [
      "  需要地 製品  需要\n",
      "0   P  A  10\n",
      "1   P  B  10\n",
      "2   Q  A  20\n",
      "3   Q  B  20\n"
     ]
    }
   ],
   "source": [
    "# 需要表\n",
    "tbde = pd.DataFrame(((j,i) for j in 需要地 for i in 製品), columns=['需要地','製品'])\n",
    "tbde['需要'] = [10,10,20,20]\n",
    "print(tbde)"
   ]
  },
  {
   "cell_type": "code",
   "execution_count": 31,
   "metadata": {},
   "outputs": [
    {
     "name": "stdout",
     "output_type": "stream",
     "text": [
      "  工場  レーン 製品  下限    上限  生産費\n",
      "0  X    0  A   0   inf  1.0\n",
      "3  X    1  B   0   inf  1.0\n",
      "4  Y    0  A   0  10.0  3.0\n",
      "6  Y    1  A   0   inf  5.0\n",
      "7  Y    1  B   0   inf  3.0\n"
     ]
    }
   ],
   "source": [
    "# 生産表\n",
    "tbfa = pd.DataFrame(((k,l,i,0,np.inf) for k,nl in zip (工場,レーン) for l in range(nl) for i in 製品), \n",
    "                    columns=['工場','レーン','製品','下限','上限'])\n",
    "tbfa['生産費'] = [1,np.nan,np.nan,1,3,np.nan,5,3]\n",
    "tbfa.dropna(inplace=True)\n",
    "tbfa.loc[4,'上限']=10\n",
    "print(tbfa)"
   ]
  },
  {
   "cell_type": "code",
   "execution_count": 32,
   "metadata": {},
   "outputs": [
    {
     "name": "stdout",
     "output_type": "stream",
     "text": [
      "  工場  レーン 製品  下限    上限  生産費     VarY  ValY\n",
      "0  X    0  A   0   inf  1.0  v000009  20.0\n",
      "3  X    1  B   0   inf  1.0  v000010  10.0\n",
      "4  Y    0  A   0  10.0  3.0  v000011  10.0\n",
      "6  Y    1  A   0   inf  5.0  v000012   0.0\n",
      "7  Y    1  B   0   inf  3.0  v000013  20.0\n",
      "  需要地 工場  輸送費 製品     VarX  ValX\n",
      "0   P  X    1  A  v000001  10.0\n",
      "1   P  X    1  B  v000002  10.0\n",
      "2   Q  X    3  A  v000003  10.0\n",
      "3   Q  X    3  B  v000004   0.0\n",
      "4   P  Y    2  A  v000005   0.0\n",
      "5   P  Y    2  B  v000006   0.0\n",
      "6   Q  Y    1  A  v000007  10.0\n",
      "7   Q  Y    1  B  v000008  20.0\n"
     ]
    }
   ],
   "source": [
    "from ortoolpy import logistics_network\n",
    "_, tbdi2, _ = logistics_network(tbde,tbdi,tbfa)\n",
    "print(tbfa)\n",
    "print(tbdi2)"
   ]
  },
  {
   "cell_type": "markdown",
   "metadata": {},
   "source": [
    "### ノック 69 : 最適ネットワークにおける輸送コストとその内訳を計算しよう"
   ]
  },
  {
   "cell_type": "code",
   "execution_count": 33,
   "metadata": {},
   "outputs": [
    {
     "name": "stdout",
     "output_type": "stream",
     "text": [
      "  需要地 工場  輸送費 製品     VarX  ValX\n",
      "0   P  X    1  A  v000001  10.0\n",
      "1   P  X    1  B  v000002  10.0\n",
      "2   Q  X    3  A  v000003  10.0\n",
      "3   Q  X    3  B  v000004   0.0\n",
      "4   P  Y    2  A  v000005   0.0\n",
      "5   P  Y    2  B  v000006   0.0\n",
      "6   Q  Y    1  A  v000007  10.0\n",
      "7   Q  Y    1  B  v000008  20.0\n",
      "総輸送コスト :  80.0\n"
     ]
    }
   ],
   "source": [
    "print(tbdi2)\n",
    "trans_cost = 0\n",
    "for i in range(len(tbdi2.index)):\n",
    "  trans_cost += tbdi2[\"輸送費\"].iloc[i]*tbdi2[\"ValX\"].iloc[i]\n",
    "print(\"総輸送コスト : \", trans_cost)"
   ]
  },
  {
   "cell_type": "markdown",
   "metadata": {},
   "source": [
    "### ノック 70 : 最適ネットワークにおける生産コストとその内訳を計算しよう"
   ]
  },
  {
   "cell_type": "code",
   "execution_count": 34,
   "metadata": {},
   "outputs": [
    {
     "name": "stdout",
     "output_type": "stream",
     "text": [
      "  需要地 工場  輸送費 製品     VarX  ValX\n",
      "0   P  X    1  A  v000001  10.0\n",
      "1   P  X    1  B  v000002  10.0\n",
      "2   Q  X    3  A  v000003  10.0\n",
      "3   Q  X    3  B  v000004   0.0\n",
      "4   P  Y    2  A  v000005   0.0\n",
      "5   P  Y    2  B  v000006   0.0\n",
      "6   Q  Y    1  A  v000007  10.0\n",
      "7   Q  Y    1  B  v000008  20.0\n",
      "総輸送コスト:80.0\n"
     ]
    }
   ],
   "source": [
    "print(tbdi2)\n",
    "trans_cost = 0\n",
    "for i in range(len(tbdi2.index)):\n",
    "  trans_cost += tbdi2[\"輸送費\"].iloc[i]*tbdi2[\"ValX\"].iloc[i]\n",
    "print(\"総輸送コスト:\"+str(trans_cost))"
   ]
  },
  {
   "cell_type": "markdown",
   "metadata": {},
   "source": [
    "## 関連記事\n",
    "- [第1章 ウェブからの注文数を分析する10本ノック](/ml/data100/01/)\n",
    "- [第2章 小売店のデータでデータ加工を行う10本ノック](/ml/data100/02/)\n",
    "- [第3章 顧客の全体像を把握する10本ノック](/ml/data100/03/)\n",
    "- [第4章 顧客の行動を予測する10本ノック](/ml/data100/04/)\n",
    "- [第5章 顧客の退会を予測する10本ノック](/ml/data100/05/)\n",
    "- [第6章 物流の最適ルートをコンサルティングする10本ノック](/ml/data100/06/)\n",
    "- [第7章 ロジスティクスネットワークの最適設計を行う10本ノック](/ml/data100/07/)\n",
    "- [第8章 数値シミュレーションで消費者行動を予測する10本ノック](/ml/data100/08/)\n",
    "- [第9章 潜在顧客を把握するための画像認識10本ノック](/ml/data100/09/)\n",
    "- [第10章 アンケート分析を行うための自然言語処理10本ノック](/ml/data100/10/)"
   ]
  }
 ],
 "metadata": {
  "kernelspec": {
   "display_name": "Python 3",
   "language": "python",
   "name": "python3"
  },
  "language_info": {
   "codemirror_mode": {
    "name": "ipython",
    "version": 3
   },
   "file_extension": ".py",
   "mimetype": "text/x-python",
   "name": "python",
   "nbconvert_exporter": "python",
   "pygments_lexer": "ipython3",
   "version": "3.7.3"
  },
  "widgets": {
   "state": {},
   "version": "1.1.2"
  }
 },
 "nbformat": 4,
 "nbformat_minor": 2
}
