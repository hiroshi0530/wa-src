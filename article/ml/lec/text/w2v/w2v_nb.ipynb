{
 "cells": [
  {
   "cell_type": "markdown",
   "metadata": {},
   "source": [
    "## word2vec と doc2vec\n",
    "\n",
    "単語や文章を分散表現（意味が似たような単語や文章を似たようなベクトルとして表現）を取得します。\n",
    "\n",
    "### github\n",
    "- jupyter notebook形式のファイルは[こちら](https://github.com/hiroshi0530/wa-src/blob/master/ml/lec/text/w2v/w2v_nb.ipynb)\n",
    "\n",
    "### google colaboratory\n",
    "- google colaboratory で実行する場合は[こちら](https://colab.research.google.com/github/hiroshi0530/wa-src/blob/master/ml/lec/text/w2v/w2v_nb.ipynb)\n",
    "\n",
    "### 筆者の環境\n",
    "筆者のOSはmacOSです。LinuxやUnixのコマンドとはオプションが異なります。"
   ]
  },
  {
   "cell_type": "code",
   "execution_count": 1,
   "metadata": {},
   "outputs": [
    {
     "name": "stdout",
     "output_type": "stream",
     "text": [
      "ProductName:\tMac OS X\r\n",
      "ProductVersion:\t10.14.6\r\n",
      "BuildVersion:\t18G6032\r\n"
     ]
    }
   ],
   "source": [
    "!sw_vers"
   ]
  },
  {
   "cell_type": "code",
   "execution_count": 2,
   "metadata": {},
   "outputs": [
    {
     "name": "stdout",
     "output_type": "stream",
     "text": [
      "Python 3.8.5\r\n"
     ]
    }
   ],
   "source": [
    "!python -V"
   ]
  },
  {
   "cell_type": "markdown",
   "metadata": {},
   "source": [
    "基本的なライブラリをインポートしそのバージョンを確認しておきます。tensorflowとkerasuのversionも確認します。"
   ]
  },
  {
   "cell_type": "code",
   "execution_count": 3,
   "metadata": {},
   "outputs": [
    {
     "name": "stdout",
     "output_type": "stream",
     "text": [
      "matplotlib version : 3.3.2\n",
      "scipy version : 1.5.2\n",
      "numpy version : 1.18.5\n",
      "tensorflow version :  2.3.1\n",
      "keras version :  2.4.0\n"
     ]
    }
   ],
   "source": [
    "%matplotlib inline\n",
    "%config InlineBackend.figure_format = 'svg'\n",
    "\n",
    "import matplotlib\n",
    "import matplotlib.pyplot as plt\n",
    "import scipy\n",
    "import numpy as np\n",
    "\n",
    "import tensorflow as tf\n",
    "from tensorflow import keras\n",
    "\n",
    "print('matplotlib version :', matplotlib.__version__)\n",
    "print('scipy version :', scipy.__version__)\n",
    "print('numpy version :', np.__version__)\n",
    "print('tensorflow version : ', tf.__version__)\n",
    "print('keras version : ', keras.__version__)"
   ]
  },
  {
   "cell_type": "markdown",
   "metadata": {},
   "source": [
    "### テキストデータの取得\n",
    "\n",
    "著作権の問題がない青空文庫からすべての作品をダウンロードしてきます。gitがかなり重いので、最新の履歴だけを取得します。\n",
    "\n",
    "```bash\n",
    "git clone --depth 1 https://github.com/aozorabunko/aozorabunko.git\n",
    "```"
   ]
  },
  {
   "cell_type": "markdown",
   "metadata": {},
   "source": [
    "実際のファイルはcardsにzip形式として保存されているようです。ディレクトリの個数を確認してみます。"
   ]
  },
  {
   "cell_type": "code",
   "execution_count": 4,
   "metadata": {},
   "outputs": [
    {
     "name": "stdout",
     "output_type": "stream",
     "text": [
      "   19636\r\n"
     ]
    }
   ],
   "source": [
    "!ls ./aozorabunko/cards/* | wc -l"
   ]
  },
  {
   "cell_type": "markdown",
   "metadata": {},
   "source": [
    "zipファイルだけzipsに移動させます。\n",
    "\n",
    "```bash\n",
    "find ./aozorabunko/cards/ -name *.zip | xargs -I{} cp {} -t ./zips/\n",
    "```"
   ]
  },
  {
   "cell_type": "code",
   "execution_count": 5,
   "metadata": {},
   "outputs": [
    {
     "name": "stdout",
     "output_type": "stream",
     "text": [
      "1000_ruby_2956.zip\r\n",
      "1001_ruby_2229.zip\r\n",
      "1002_ruby_20989.zip\r\n",
      "1003_ruby_2008.zip\r\n",
      "1004_ruby_2053.zip\r\n"
     ]
    }
   ],
   "source": [
    "!ls ./zips/ | head -n 5"
   ]
  },
  {
   "cell_type": "code",
   "execution_count": 6,
   "metadata": {},
   "outputs": [
    {
     "name": "stdout",
     "output_type": "stream",
     "text": [
      "   16444\r\n"
     ]
    }
   ],
   "source": [
    "!ls ./zips/ | wc -l"
   ]
  },
  {
   "cell_type": "markdown",
   "metadata": {},
   "source": [
    "となり、16444個のzipファイルがある事が分かります。こちらをすべて解凍し、ディレクトリを移動させます。\n",
    "\n",
    "```bash\n",
    "for i in `ls`; do [[ ${i##*.} == zip ]] && unzip -o $i -d ../texts/; done\n",
    "```\n",
    "\n",
    "これで、textｓというディレクトリにすべての作品のテキストファイルがインストールされました。"
   ]
  },
  {
   "cell_type": "code",
   "execution_count": 7,
   "metadata": {},
   "outputs": [
    {
     "name": "stdout",
     "output_type": "stream",
     "text": [
      "miyazawa_kenji_zenshu.txt\r\n",
      "miyazawa_kenji_zenshuno_kankoni_saishite.txt\r\n",
      "miyazawa_kenjino_sekai.txt\r\n",
      "miyazawa_kenjino_shi.txt\r\n"
     ]
    }
   ],
   "source": [
    "!ls ./texts/ | grep miyazawa"
   ]
  },
  {
   "cell_type": "code",
   "execution_count": 8,
   "metadata": {},
   "outputs": [
    {
     "name": "stdout",
     "output_type": "stream",
     "text": [
      "ginga_tetsudono_yoru.txt\r\n"
     ]
    }
   ],
   "source": [
    "!ls ./texts/ | grep ginga_tetsudo"
   ]
  },
  {
   "cell_type": "markdown",
   "metadata": {},
   "source": [
    "となり、宮沢賢治関連の作品も含まれていることが分かります。銀河鉄道の夜もあります。\n",
    "\n",
    "## 銀河鉄道の夜を使ったword2vec\n",
    "\n",
    "今回はすべてのテキストファイルを対象にするには時間がかかるので、同じ岩手県出身の、高校の先輩でもある宮沢賢治の作品を例に取りword2vecを試してみます。\n",
    "しかし、ファイルの中身を見てみると、"
   ]
  },
  {
   "cell_type": "code",
   "execution_count": 9,
   "metadata": {},
   "outputs": [
    {
     "name": "stdout",
     "output_type": "stream",
     "text": [
      "��͓S���̖�\r\n",
      "�{�򌫎�\r\n",
      "\r\n",
      "-------------------------------------------------------\r\n",
      "�y�e�L�X�g���Ɍ����L���ɂ��āz\r\n",
      "\r\n",
      "�s�t�F���r\r\n",
      "�i��j�k�\\���s�������ӂ��t\r\n",
      "\r\n",
      "�m���n�F���͎Ғ��@��ɊO���̐�����A�T�_�̈ʒu�̎w��\r\n"
     ]
    }
   ],
   "source": [
    "%%bash\n",
    "head ./texts/ginga_tetsudono_yoru.txt"
   ]
  },
  {
   "cell_type": "code",
   "execution_count": 10,
   "metadata": {},
   "outputs": [
    {
     "name": "stdout",
     "output_type": "stream",
     "text": [
      "Shift_JIS (CRLF)\r\n"
     ]
    }
   ],
   "source": [
    "!nkf --guess ./texts/ginga_tetsudono_yoru.txt"
   ]
  },
  {
   "cell_type": "markdown",
   "metadata": {},
   "source": [
    "となりshift_jisで保存されていることが分かります。"
   ]
  },
  {
   "cell_type": "code",
   "execution_count": 11,
   "metadata": {},
   "outputs": [],
   "source": [
    "!nkf -w ./texts/ginga_tetsudono_yoru.txt > ginga.txt"
   ]
  },
  {
   "cell_type": "markdown",
   "metadata": {},
   "source": [
    "と、ディレクトリを変更し、ファイル名も変更します。"
   ]
  },
  {
   "cell_type": "code",
   "execution_count": 12,
   "metadata": {
    "scrolled": true
   },
   "outputs": [
    {
     "name": "stdout",
     "output_type": "stream",
     "text": [
      "銀河鉄道の夜\r\n",
      "宮沢賢治\r\n",
      "\r\n",
      "-------------------------------------------------------\r\n",
      "【テキスト中に現れる記号について】\r\n",
      "\r\n",
      "《》：ルビ\r\n",
      "（例）北十字《きたじふじ》\r\n",
      "\r\n",
      "［＃］：入力者注　主に外字の説明や、傍点の位置の指定\r\n",
      "　　　（数字は、JIS X 0213の面区点番号またはUnicode、底本のページと行数）\r\n",
      "（例）※［＃小書き片仮名ヰ、155-15］\r\n",
      "\r\n",
      "　［＃（…）］：訓点送り仮名\r\n",
      "　（例）僕［＃（ん）］とこ\r\n",
      "-------------------------------------------------------\r\n",
      "\r\n",
      "［＃７字下げ］一、午后の授業［＃「一、午后の授業」は中見出し］\r\n",
      "\r\n",
      "「ではみなさんは、さういふふうに川だと云はれたり、乳の流れたあとだと云はれたりしてゐたこのぼんやりと白いものがほんたうは何かご承知ですか。」先生は、黒板に吊した大きな黒い星座の図の、上から下へ白くけぶった銀河帯のやうなところを指しながら、みんなに問をかけました。\r\n",
      "カムパネルラが手をあげました。それから四五人手をあげました。ジョバンニも手をあげやうとして、急いでそのまゝやめました。たしかにあれがみんな星だと、いつか雑誌で読んだのでしたが、このごろはジョバンニはまるで毎日教室でもねむく、本を読むひまも読む本もないので、なんだかどんなこともよくわからないといふ気持ちがするのでした。\r\n",
      "ところが先生は早くもそれを見附けたのでした。\r\n",
      "「ジョバンニさん。あなたはわかってゐるのでせう。」\r\n",
      "ジョバンニは勢よく立ちあがりましたが、立って見るともうはっきりとそれを答へることができないのでした。ザネリが前の席からふりかへって、ジョバンニを見てくすっとわらひました。ジョバンニはもうどぎまぎしてまっ赤になってしまひました。先生がまた云ひました。\r\n",
      "「大きな望遠鏡で銀河をよっく調べると銀河は大体何でせう。」\r\n"
     ]
    }
   ],
   "source": [
    "%%bash\n",
    "cat ginga.txt | head -n 25"
   ]
  },
  {
   "cell_type": "code",
   "execution_count": 13,
   "metadata": {},
   "outputs": [
    {
     "name": "stdout",
     "output_type": "stream",
     "text": [
      "ジョバンニはそのカムパネルラはもうあの銀河のはづれにしかゐないといふやうな気がしてしかたなかったのです。\r\n",
      "けれどもみんなはまだ、どこかの波の間から、\r\n",
      "「ぼくずゐぶん泳いだぞ。」と云ひながらカムパネルラが出て来るか或ひはカムパネルラがどこかの人の知らない洲にでも着いて立ってゐて誰かの来るのを待ってゐるかといふやうな気がして仕方ないらしいのでした。けれども俄かにカムパネルラのお父さんがきっぱり云ひました。\r\n",
      "「もう駄目です。落ちてから四十五分たちましたから。」\r\n",
      "ジョバンニは思はずか〔け〕よって博士の前に立って、ぼくはカムパネルラの行った方を知ってゐますぼくはカムパネルラといっしょに歩いてゐたのですと云はうとしましたがもうのどがつまって何とも云へませんでした。すると博士はジョバンニが挨拶に来たとでも思ったものですか　しばらくしげしげジョバンニを見てゐましたが\r\n",
      "「あなたはジョバンニさんでしたね。どうも今晩はありがたう。」と叮ねいに云ひました。\r\n",
      "　ジョバンニは何も云へずにたゞおじぎをしました。\r\n",
      "「あなたのお父さんはもう帰ってゐますか。」博士は堅く時計を握ったまゝまたきゝました。\r\n",
      "「いゝえ。」ジョバンニはかすかに頭をふりました。\r\n",
      "「どうしたのかなあ、ぼくには一昨日大へん元気な便りがあったんだが。今日あ〔〕たりもう着くころなんだが。船が遅れたんだな。ジョバンニさん。あした放課后みなさんとうちへ遊びに来てくださいね。」\r\n",
      "さう云ひながら博士は〔〕また川下の銀河のいっぱいにうつった方へじっと眼を送りました。ジョバンニはもういろいろなことで胸がいっぱいでなんにも云へずに博士の前をはなれて早くお母さんに牛乳を持って行ってお父さんの帰ることを知らせやうと思ふともう一目散に河原を街の方へ走りました。\r\n",
      "\r\n",
      "\r\n",
      "\r\n",
      "底本：「【新】校本宮澤賢治全集　第十一巻　童話※［＃ローマ数字4、1-13-24］　本文篇」筑摩書房\r\n",
      "　　　1996（平成8）年1月25日初版第1刷発行\r\n",
      "※底本のテキストは、著者草稿によります。\r\n",
      "※底本では校訂及び編者による説明を「〔　〕」、削除を「〔〕」で表示しています。\r\n",
      "※「カムパネルラ」と「カンパネルラ」の混在は、底本通りです。\r\n",
      "※底本は新字旧仮名づかいです。なお拗音、促音の小書きは、底本通りです。\r\n",
      "入力：砂場清隆\r\n",
      "校正：北川松生\r\n",
      "2016年6月10日作成\r\n",
      "青空文庫作成ファイル：\r\n",
      "このファイルは、インターネットの図書館、青空文庫（http://www.aozora.gr.jp/）で作られました。入力、校正、制作にあたったのは、ボランティアの皆さんです。\r\n"
     ]
    }
   ],
   "source": [
    "%%bash\n",
    "cat ginga.txt | tail -n 25"
   ]
  },
  {
   "cell_type": "markdown",
   "metadata": {},
   "source": [
    "となり、ファイルの先頭と、末尾に参考情報が載っているほかは、ちゃんとテキストとしてデータが取れている模様です。\n",
    "先ず、この辺の前処理を行います。"
   ]
  },
  {
   "cell_type": "code",
   "execution_count": 14,
   "metadata": {},
   "outputs": [],
   "source": [
    "import re\n",
    "\n",
    "with open('ginga.txt', mode='r') as f:\n",
    "  all_sentence = f.read()"
   ]
  },
  {
   "cell_type": "markdown",
   "metadata": {},
   "source": [
    "全角、半角の空白、改行コード、縦線(|)をすべて削除します。正規表現を利用します。"
   ]
  },
  {
   "cell_type": "code",
   "execution_count": 15,
   "metadata": {},
   "outputs": [],
   "source": [
    "all_sentence = all_sentence.replace(\" \", \"\").replace(\"　\",\"\").replace(\"\\n\",\"\").replace(\"|\",\"\")"
   ]
  },
  {
   "cell_type": "markdown",
   "metadata": {},
   "source": [
    "《》で囲まれたルビの部分を削除します。正規表現を利用します。"
   ]
  },
  {
   "cell_type": "code",
   "execution_count": 16,
   "metadata": {},
   "outputs": [],
   "source": [
    "all_sentence = re.sub(\"《[^》]+》\", \"\", all_sentence)"
   ]
  },
  {
   "cell_type": "markdown",
   "metadata": {},
   "source": [
    "----------の部分で分割を行い、2番目の要素を取得します。"
   ]
  },
  {
   "cell_type": "code",
   "execution_count": 17,
   "metadata": {
    "scrolled": false
   },
   "outputs": [],
   "source": [
    "all_sentence = re.split(\"\\-{8,}\", all_sentence)[2]"
   ]
  },
  {
   "cell_type": "markdown",
   "metadata": {},
   "source": [
    "次に、「。」で分割し、文ごとにリストに格納します。"
   ]
  },
  {
   "cell_type": "code",
   "execution_count": 18,
   "metadata": {},
   "outputs": [
    {
     "data": {
      "text/plain": [
       "['［＃７字下げ］一、午后の授業［＃「一、午后の授業」は中見出し］「ではみなさんは、さういふふうに川だと云はれたり、乳の流れたあとだと云はれたりしてゐたこのぼんやりと白いものがほんたうは何かご承知ですか。',\n",
       " '」先生は、黒板に吊した大きな黒い星座の図の、上から下へ白くけぶった銀河帯のやうなところを指しながら、みんなに問をかけました。',\n",
       " 'カムパネルラが手をあげました。',\n",
       " 'それから四五人手をあげました。',\n",
       " 'ジョバンニも手をあげやうとして、急いでそのまゝやめました。']"
      ]
     },
     "execution_count": 18,
     "metadata": {},
     "output_type": "execute_result"
    }
   ],
   "source": [
    "sentence_list = all_sentence.split(\"。\")\n",
    "sentence_list = [ s + \"。\" for s in sentence_list]\n",
    "sentence_list[:5]"
   ]
  },
  {
   "cell_type": "markdown",
   "metadata": {},
   "source": [
    "最初の文は不要なので削除します。"
   ]
  },
  {
   "cell_type": "code",
   "execution_count": 19,
   "metadata": {},
   "outputs": [
    {
     "data": {
      "text/plain": [
       "['」先生は、黒板に吊した大きな黒い星座の図の、上から下へ白くけぶった銀河帯のやうなところを指しながら、みんなに問をかけました。',\n",
       " 'カムパネルラが手をあげました。',\n",
       " 'それから四五人手をあげました。',\n",
       " 'ジョバンニも手をあげやうとして、急いでそのまゝやめました。',\n",
       " 'たしかにあれがみんな星だと、いつか雑誌で読んだのでしたが、このごろはジョバンニはまるで毎日教室でもねむく、本を読むひまも読む本もないので、なんだかどんなこともよくわからないといふ気持ちがするのでした。']"
      ]
     },
     "execution_count": 19,
     "metadata": {},
     "output_type": "execute_result"
    }
   ],
   "source": [
    "sentence_list = sentence_list[1:]\n",
    "sentence_list[:5]"
   ]
  },
  {
   "cell_type": "markdown",
   "metadata": {},
   "source": [
    "となり、不要な部分を削除し、一文ごとにリストに格納できました。前処理は終了です。"
   ]
  },
  {
   "cell_type": "markdown",
   "metadata": {},
   "source": [
    "## janomeによる形態素解析\n",
    "\n",
    "janomeは日本語の文章を形態素ごとに分解する事が出来るツールです。同じようなツールとして、MecabやGinzaなどがあります。一長一短があると思いますが、ここではjanomeを利用します。\n",
    "\n",
    "word2vecには文ごとに単語分割した行列が必要なので、それをword_per_sentenceとして取得します。また、全単語をリスト化したword_listも作っておきます。\n",
    "\n",
    "また、何も考えずに形態素解析を行うと、「の」や「は」などの助詞が多く含まれてしまうので、「名詞」と「動詞」だけに限定します。"
   ]
  },
  {
   "cell_type": "code",
   "execution_count": 20,
   "metadata": {},
   "outputs": [],
   "source": [
    "from janome.tokenizer import Tokenizer\n",
    "\n",
    "t = Tokenizer()\n",
    "\n",
    "word_list = []\n",
    "word_per_sentence_list = []\n",
    "\n",
    "# 名詞と動詞だけを取得する\n",
    "def get_words_by_janome(sentence):\n",
    "  tokens = t.tokenize(sentence)\n",
    "  return [token.base_form for token in tokens if token.part_of_speech.split(',')[0] in['動詞', '名詞']]\n",
    "\n",
    "for sentence in sentence_list:\n",
    "  word_list.extend(get_words_by_janome(sentence))\n",
    "  word_per_sentence_list.append(get_words_by_janome(sentence))"
   ]
  },
  {
   "cell_type": "markdown",
   "metadata": {},
   "source": [
    "中身を少し見てみます。想定通りそれぞれの配列に単語が格納されているのが分かります。"
   ]
  },
  {
   "cell_type": "code",
   "execution_count": 21,
   "metadata": {},
   "outputs": [
    {
     "data": {
      "text/plain": [
       "[['先生',\n",
       "  '黒板',\n",
       "  '吊す',\n",
       "  '星座',\n",
       "  '図',\n",
       "  '上',\n",
       "  '下',\n",
       "  'けぶる',\n",
       "  '銀河',\n",
       "  '帯',\n",
       "  'やう',\n",
       "  'ところ',\n",
       "  '指す',\n",
       "  'みんな',\n",
       "  '問',\n",
       "  'かける'],\n",
       " ['カムパネルラ', '手', 'あげる'],\n",
       " ['四', '五', '人', '手', 'あげる'],\n",
       " ['ジョバンニ', '手', 'あげる', 'やう', '急ぐ', 'やめる'],\n",
       " ['あれ',\n",
       "  'みんな',\n",
       "  '星',\n",
       "  'いつか',\n",
       "  '雑誌',\n",
       "  '読む',\n",
       "  'の',\n",
       "  'このごろ',\n",
       "  'ジョバンニ',\n",
       "  '毎日',\n",
       "  '教室',\n",
       "  '本',\n",
       "  '読む',\n",
       "  'ひま',\n",
       "  '読む',\n",
       "  '本',\n",
       "  'こと',\n",
       "  'わかる',\n",
       "  '気持ち',\n",
       "  'する',\n",
       "  'の']]"
      ]
     },
     "execution_count": 21,
     "metadata": {},
     "output_type": "execute_result"
    }
   ],
   "source": [
    "word_per_sentence_list[:5]"
   ]
  },
  {
   "cell_type": "code",
   "execution_count": 22,
   "metadata": {},
   "outputs": [
    {
     "data": {
      "text/plain": [
       "['先生', '黒板', '吊す', '星座', '図', '上', '下', 'けぶる', '銀河', '帯']"
      ]
     },
     "execution_count": 22,
     "metadata": {},
     "output_type": "execute_result"
    }
   ],
   "source": [
    "word_list[:10]"
   ]
  },
  {
   "cell_type": "markdown",
   "metadata": {},
   "source": [
    "## 単語のカウント\n",
    "\n",
    "単語のカウントを行い、出現頻度の高いベスト10を抽出してみます。名詞のみに限定した方が良かったかもしれません。"
   ]
  },
  {
   "cell_type": "code",
   "execution_count": 23,
   "metadata": {},
   "outputs": [
    {
     "data": {
      "text/plain": [
       "[('する', 258),\n",
       " ('ゐる', 248),\n",
       " ('やう', 222),\n",
       " ('の', 209),\n",
       " ('ジョバンニ', 191),\n",
       " ('ひる', 137),\n",
       " ('見る', 114),\n",
       " ('なる', 112),\n",
       " ('人', 102),\n",
       " ('カムパネルラ', 100)]"
      ]
     },
     "execution_count": 23,
     "metadata": {},
     "output_type": "execute_result"
    }
   ],
   "source": [
    "import collections\n",
    "\n",
    "count = collections.Counter(word_list)\n",
    "count.most_common()[:10]"
   ]
  },
  {
   "cell_type": "markdown",
   "metadata": {},
   "source": [
    "「銀河」と「ジョバンニ」がどれぐらい含まれているかカウントしてみます。"
   ]
  },
  {
   "cell_type": "code",
   "execution_count": 24,
   "metadata": {},
   "outputs": [
    {
     "data": {
      "text/plain": [
       "25"
      ]
     },
     "execution_count": 24,
     "metadata": {},
     "output_type": "execute_result"
    }
   ],
   "source": [
    "dict(count.most_common())['銀河']"
   ]
  },
  {
   "cell_type": "code",
   "execution_count": 25,
   "metadata": {},
   "outputs": [
    {
     "data": {
      "text/plain": [
       "191"
      ]
     },
     "execution_count": 25,
     "metadata": {},
     "output_type": "execute_result"
    }
   ],
   "source": [
    "dict(count.most_common())['ジョバンニ']"
   ]
  },
  {
   "cell_type": "markdown",
   "metadata": {},
   "source": [
    "## gensimに含まれるword2vecを用いた学習\n",
    "\n",
    "word2vecを用いて、word_listの分散表現を取得します。使い方はいくらでも検索できますので、ここでは割愛します。文章ごとの単語のリストを渡せば、ほぼ自動的に分散表現を作ってくれます。"
   ]
  },
  {
   "cell_type": "code",
   "execution_count": 26,
   "metadata": {},
   "outputs": [],
   "source": [
    "from gensim.models import word2vec\n",
    "\n",
    "model = word2vec.Word2Vec(word_per_sentence_list, size=100, min_count=5, window=5, iter=1000, sg=0)"
   ]
  },
  {
   "cell_type": "markdown",
   "metadata": {},
   "source": [
    "### 分散行列\n",
    "\n",
    "得られた分散表現を見てみます。"
   ]
  },
  {
   "cell_type": "code",
   "execution_count": 27,
   "metadata": {},
   "outputs": [
    {
     "data": {
      "text/plain": [
       "array([[-0.1085711 , -0.7295571 ,  0.12008803, ..., -0.54713595,\n",
       "         0.25876907, -0.99029714],\n",
       "       [ 0.84538716, -0.07945182,  0.585292  , ..., -0.54458576,\n",
       "        -1.3785691 , -0.7405585 ],\n",
       "       [-0.3068329 ,  0.9396992 ,  0.20060548, ..., -1.2855539 ,\n",
       "        -0.2027892 , -0.24656042],\n",
       "       ...,\n",
       "       [ 1.154139  , -1.807011  , -3.8160653 , ..., -1.1014802 ,\n",
       "        -1.8305504 , -1.1464196 ],\n",
       "       [-2.7170303 ,  1.7595738 , -2.5706198 , ..., -4.1118627 ,\n",
       "        -1.3364341 , -1.5060377 ],\n",
       "       [ 0.22748926,  2.3822339 ,  0.08786247, ...,  0.1526236 ,\n",
       "         2.072494  ,  0.04411798]], dtype=float32)"
      ]
     },
     "execution_count": 27,
     "metadata": {},
     "output_type": "execute_result"
    }
   ],
   "source": [
    "model.wv.vectors"
   ]
  },
  {
   "cell_type": "markdown",
   "metadata": {},
   "source": [
    "### 分散行列の形状確認\n",
    "\n",
    "408個の単語について、100次元のベクトルが生成されました。"
   ]
  },
  {
   "cell_type": "code",
   "execution_count": 28,
   "metadata": {},
   "outputs": [
    {
     "data": {
      "text/plain": [
       "(408, 100)"
      ]
     },
     "execution_count": 28,
     "metadata": {},
     "output_type": "execute_result"
    }
   ],
   "source": [
    "model.wv.vectors.shape"
   ]
  },
  {
   "cell_type": "markdown",
   "metadata": {},
   "source": [
    "この分散表現の中で、「銀河」がどういう表現になっているか確認します。"
   ]
  },
  {
   "cell_type": "code",
   "execution_count": 29,
   "metadata": {},
   "outputs": [
    {
     "data": {
      "text/plain": [
       "array([-0.60647625,  2.0173557 , -0.12664434, -1.4640857 , -0.17778993,\n",
       "        1.6508715 , -2.7586727 , -2.3078275 , -2.424162  ,  0.20204756,\n",
       "        3.3374844 ,  1.2588876 ,  2.4461162 , -3.1263301 , -2.4787934 ,\n",
       "       -0.35571855, -0.49893048, -0.5236631 , -0.13757144,  2.1490831 ,\n",
       "        0.3766181 ,  2.45091   , -0.05705294,  2.0727618 , -1.4372207 ,\n",
       "       -0.40425998, -0.02195518, -0.04408328, -2.8960073 ,  0.5383666 ,\n",
       "       -2.9297552 , -2.540225  ,  1.6428277 , -0.08052313, -1.3399279 ,\n",
       "       -0.77334726,  1.9164326 ,  2.2334647 ,  3.0947473 ,  2.263199  ,\n",
       "       -2.2468755 ,  1.1897175 , -2.7903354 , -0.20981236,  2.3498356 ,\n",
       "        3.364441  ,  1.5565808 , -0.9524172 , -1.021568  , -3.0035462 ,\n",
       "        2.9526875 ,  3.3491218 , -2.04989   , -0.11580631,  3.1596048 ,\n",
       "        0.53184134, -0.5069683 ,  2.0982676 ,  1.6006128 ,  0.13060321,\n",
       "       -1.7611482 , -2.0391207 ,  1.9682236 ,  0.5594682 , -0.24885197,\n",
       "        1.978357  , -2.0844686 ,  0.03066224,  2.698693  , -1.7572972 ,\n",
       "        1.2543527 ,  1.7763172 ,  0.29018798,  0.45022094,  1.3718299 ,\n",
       "       -1.1919422 ,  1.1058612 , -3.5015378 , -0.6096107 ,  1.5871202 ,\n",
       "        0.02774499,  1.4241607 , -1.2940854 ,  0.794197  ,  2.7273803 ,\n",
       "        5.944245  ,  1.9882361 ,  1.5752172 ,  1.2644691 , -0.06811355,\n",
       "        1.0618243 ,  0.5446952 , -2.636908  ,  1.2896786 , -1.123268  ,\n",
       "       -0.59733117,  1.1447626 ,  3.1397603 ,  1.8445805 , -2.2756069 ],\n",
       "      dtype=float32)"
      ]
     },
     "execution_count": 29,
     "metadata": {},
     "output_type": "execute_result"
    }
   ],
   "source": [
    "model.wv.__getitem__(\"銀河\")"
   ]
  },
  {
   "cell_type": "markdown",
   "metadata": {},
   "source": [
    "### cos類似度による単語抽出\n",
    "\n",
    "ベクトルの内積を計算することにより、指定した単語に類似した単語をその$\\cos$の値と一緒に抽出する事ができます。"
   ]
  },
  {
   "cell_type": "code",
   "execution_count": 30,
   "metadata": {},
   "outputs": [
    {
     "data": {
      "text/plain": [
       "[('ステーション', 0.37244850397109985),\n",
       " ('けむる', 0.2560712695121765),\n",
       " ('くら', 0.23860865831375122),\n",
       " ('草', 0.23003369569778442),\n",
       " ('一つ', 0.22825516760349274),\n",
       " ('これ', 0.22280968725681305),\n",
       " ('波', 0.22131246328353882),\n",
       " ('森', 0.2179364413022995),\n",
       " ('何', 0.2119046151638031),\n",
       " ('ザネリ', 0.20720958709716797)]"
      ]
     },
     "execution_count": 30,
     "metadata": {},
     "output_type": "execute_result"
    }
   ],
   "source": [
    "model.wv.most_similar(\"銀河\")"
   ]
  },
  {
   "cell_type": "code",
   "execution_count": 31,
   "metadata": {},
   "outputs": [
    {
     "data": {
      "text/plain": [
       "[('云', 0.34611761569976807),\n",
       " ('カムパネルラ', 0.2926814556121826),\n",
       " ('博士', 0.2849109172821045),\n",
       " ('思ふ', 0.279746413230896),\n",
       " ('ゐる', 0.257301390171051),\n",
       " ('足', 0.2518441081047058),\n",
       " ('する', 0.24245725572109222),\n",
       " ('ぼんやり', 0.23133447766304016),\n",
       " ('車掌', 0.22958970069885254),\n",
       " ('屋', 0.2216600775718689)]"
      ]
     },
     "execution_count": 31,
     "metadata": {},
     "output_type": "execute_result"
    }
   ],
   "source": [
    "model.wv.most_similar(\"ジョバンニ\")"
   ]
  },
  {
   "cell_type": "markdown",
   "metadata": {},
   "source": [
    "### 単語ベクトルによる演算\n",
    "\n",
    "足し算するにはpositiveメソッドを引き算にはnegativeメソッドを利用します。\n",
    "\n",
    "まず、「銀河＋ジョバンニ」を計算します。"
   ]
  },
  {
   "cell_type": "code",
   "execution_count": 32,
   "metadata": {},
   "outputs": [
    {
     "data": {
      "text/plain": [
       "[('ステーション', 0.35201749205589294),\n",
       " ('ぼんやり', 0.26429280638694763),\n",
       " ('けむる', 0.25039511919021606),\n",
       " ('何', 0.2481682002544403),\n",
       " ('あげる', 0.2395499348640442),\n",
       " ('歩く', 0.23418119549751282),\n",
       " ('云', 0.23226001858711243),\n",
       " ('はる', 0.22393637895584106),\n",
       " ('地図', 0.22199329733848572),\n",
       " ('誰', 0.22106748819351196)]"
      ]
     },
     "execution_count": 32,
     "metadata": {},
     "output_type": "execute_result"
    }
   ],
   "source": [
    "model.wv.most_similar(positive=[\"銀河\", \"ジョバンニ\"])"
   ]
  },
  {
   "cell_type": "markdown",
   "metadata": {},
   "source": [
    "次に「銀河＋ジョバンニー家」を計算します。"
   ]
  },
  {
   "cell_type": "code",
   "execution_count": 33,
   "metadata": {},
   "outputs": [
    {
     "data": {
      "text/plain": [
       "[('すき', 0.28036734461784363),\n",
       " ('けむる', 0.2678922414779663),\n",
       " ('ぼんやり', 0.2661510407924652),\n",
       " ('あたる', 0.23386208713054657),\n",
       " ('ステーション', 0.2286910116672516),\n",
       " ('眼', 0.22204485535621643),\n",
       " ('はる', 0.21921753883361816),\n",
       " ('方', 0.21217162907123566),\n",
       " ('見える', 0.21174871921539307),\n",
       " ('あれ', 0.207304909825325)]"
      ]
     },
     "execution_count": 33,
     "metadata": {},
     "output_type": "execute_result"
    }
   ],
   "source": [
    "model.wv.most_similar(positive=[\"銀河\", \"ジョバンニ\"], negative=[\"家\"])"
   ]
  },
  {
   "cell_type": "markdown",
   "metadata": {},
   "source": [
    "高校の先輩ではありながら、私は宮沢賢治の作品は読んだ事がないので、単語の演算の結果は感覚と合っていますでしょうか？"
   ]
  },
  {
   "cell_type": "markdown",
   "metadata": {},
   "source": [
    "## doc2vec\n",
    "\n",
    "次に文章ごとに分散表現を作成できるdoc2vecを利用して、文章語との類似度を計算してみます。文章毎にタグ付けされたTaggedDocumentを作成します。"
   ]
  },
  {
   "cell_type": "code",
   "execution_count": 34,
   "metadata": {},
   "outputs": [
    {
     "name": "stdout",
     "output_type": "stream",
     "text": [
      "TaggedDocument(['先生', '黒板', '吊す', '星座', '図', '上', '下', 'けぶる', '銀河', '帯', 'やう', 'ところ', '指す', 'みんな', '問', 'かける'], [0])\n"
     ]
    }
   ],
   "source": [
    "from gensim.models.doc2vec import Doc2Vec\n",
    "from gensim.models.doc2vec import TaggedDocument\n",
    "\n",
    "tagged_doc_list = []\n",
    "\n",
    "for i, sentence in enumerate(word_per_sentence_list):\n",
    "  tagged_doc_list.append(TaggedDocument(sentence, [i]))\n",
    "\n",
    "print(tagged_doc_list[0])"
   ]
  },
  {
   "cell_type": "markdown",
   "metadata": {},
   "source": [
    "doc2vecもgensimのメソッドを呼び出すだけです。"
   ]
  },
  {
   "cell_type": "code",
   "execution_count": 35,
   "metadata": {},
   "outputs": [],
   "source": [
    "model = Doc2Vec(documents=tagged_doc_list, vector_size=100, min_count=5, window=5, epochs=20, dm=0)"
   ]
  },
  {
   "cell_type": "markdown",
   "metadata": {},
   "source": [
    "このモデルを利用して、入力した文章の分散表現を取得することが出来ます。以下では、word_per_sentence_list[0]のベクトルを取得しています。"
   ]
  },
  {
   "cell_type": "code",
   "execution_count": 36,
   "metadata": {},
   "outputs": [
    {
     "data": {
      "text/plain": [
       "['先生',\n",
       " '黒板',\n",
       " '吊す',\n",
       " '星座',\n",
       " '図',\n",
       " '上',\n",
       " '下',\n",
       " 'けぶる',\n",
       " '銀河',\n",
       " '帯',\n",
       " 'やう',\n",
       " 'ところ',\n",
       " '指す',\n",
       " 'みんな',\n",
       " '問',\n",
       " 'かける']"
      ]
     },
     "execution_count": 36,
     "metadata": {},
     "output_type": "execute_result"
    }
   ],
   "source": [
    "word_per_sentence_list[0]"
   ]
  },
  {
   "cell_type": "code",
   "execution_count": 37,
   "metadata": {},
   "outputs": [
    {
     "data": {
      "text/plain": [
       "array([-0.06444998, -0.03596994,  0.0227333 ,  0.07276238, -0.00363343,\n",
       "       -0.04119626,  0.02736741,  0.02613232,  0.04667201, -0.06793695,\n",
       "       -0.0116343 ,  0.06310435, -0.00173872, -0.03437345,  0.00554367,\n",
       "        0.0212866 ,  0.04885085, -0.04512009,  0.00058356, -0.1749456 ,\n",
       "       -0.05576846,  0.01806886,  0.05424768, -0.11315122,  0.01383568,\n",
       "        0.01009082, -0.07640994, -0.0451671 ,  0.02734458,  0.0323933 ,\n",
       "       -0.0051905 ,  0.02434624,  0.16169837, -0.1276576 , -0.10116552,\n",
       "       -0.04519976,  0.02329508,  0.14243364, -0.10175437, -0.11279111,\n",
       "       -0.02039773,  0.01978061, -0.04506303,  0.03735163,  0.06236678,\n",
       "       -0.02610403,  0.08709168,  0.04676996, -0.05390077,  0.03777384,\n",
       "        0.09418248, -0.01249803,  0.05934777,  0.03127318, -0.03615933,\n",
       "       -0.02909052, -0.03908448, -0.01020512, -0.01477503,  0.05161656,\n",
       "        0.07686085,  0.03361001,  0.03777939, -0.04005695, -0.09531841,\n",
       "        0.03033048, -0.09612833,  0.02519404, -0.03649573, -0.0126434 ,\n",
       "       -0.0775796 ,  0.0704511 ,  0.0151057 , -0.0610601 ,  0.04034737,\n",
       "        0.05117826,  0.06670614,  0.03593067, -0.03789723,  0.0014505 ,\n",
       "       -0.1049965 , -0.02339783, -0.01323754, -0.04068379,  0.02191896,\n",
       "       -0.08311725,  0.0096609 , -0.10904255, -0.00327289, -0.02505866,\n",
       "       -0.02644212,  0.14420451, -0.06790182,  0.08442814,  0.01060481,\n",
       "       -0.03577584,  0.02106708,  0.02913176,  0.03764822,  0.0865751 ],\n",
       "      dtype=float32)"
      ]
     },
     "execution_count": 37,
     "metadata": {},
     "output_type": "execute_result"
    }
   ],
   "source": [
    "model.docvecs[0]"
   ]
  },
  {
   "cell_type": "markdown",
   "metadata": {},
   "source": [
    "また、word2vecと同様、most_similarで類似度が高い文章のIDと類似度を取得することが出来ます。"
   ]
  },
  {
   "cell_type": "code",
   "execution_count": 38,
   "metadata": {},
   "outputs": [
    {
     "data": {
      "text/plain": [
       "[(1117, 0.9988083243370056),\n",
       " (223, 0.9987501502037048),\n",
       " (570, 0.9987390041351318),\n",
       " (206, 0.998712956905365),\n",
       " (143, 0.9986640214920044),\n",
       " (226, 0.9986582398414612),\n",
       " (141, 0.9986466765403748),\n",
       " (47, 0.9986271262168884),\n",
       " (189, 0.9986019134521484),\n",
       " (808, 0.9985982179641724)]"
      ]
     },
     "execution_count": 38,
     "metadata": {},
     "output_type": "execute_result"
    }
   ],
   "source": [
    "# 文章IDが0の文章と似た文章とその内積を得ることが出来る。\n",
    "model.docvecs.most_similar(0)"
   ]
  },
  {
   "cell_type": "code",
   "execution_count": 39,
   "metadata": {},
   "outputs": [
    {
     "name": "stdout",
     "output_type": "stream",
     "text": [
      "['ジョバンニ', 'いろいろ', 'こと', '胸', '云', '博士', '前', 'はなれる', 'お母さん', '牛乳', '持つ', '行く', 'お父さん', '帰る', 'こと', '知る', 'せる', 'やう', '思ふ', '一目散', '河原', '街', '方', '走る']\n",
      "['＃', '７', '字', '下げ', '六', '銀河', 'ステーション', '［＃「〔', '六', '銀河', 'ステーション', '見出し', 'ジョバンニ', 'うし', 'ろ', '天気', '輪', '柱', 'いつか', 'ぼんやり', 'する', '三角', '標', '形', 'なる', '蛍', 'やう', 'ぺかぺか', '消える', 'ともる', 'する', 'ゐる', 'の', '見る']\n",
      "['窓', '外', '足', 'ふんばる', '見上げる', '鷺', '捕る', '支度', 'する', 'ゐる', 'の', '思う', '急ぐ', 'そっち', '見る', '外', 'はいち', 'めん', '砂子', 'すゝ', 'きの', '波', '鳥', '捕る', 'いせる', 'なか', '尖る', '帽子', '見える']\n",
      "['＃', '７', '字', '下げ', '五', '天気', '輪', '柱', '［＃「〔', '五', '天気', '輪', '柱', '見出し', '牧場', 'うし', 'ろ', '丘', 'なる', '平ら', '頂上', '北', '大熊', '星', '下', 'ふだん', '連', '見える']\n",
      "['ジョバンニ', '電', '燈', '方', '下りる', '行く', 'いま', 'ばける', 'もの', 'やう', 'ぼんやり', 'うし', 'ろ', '引く', 'ゐる', 'ジョバンニ', '影', 'うし', 'なる', '足', 'あげる', '手', '振る', 'ジョバンニ', '横', '方', 'はる', '来る', 'の']\n",
      "['どこ', 'ふしぎ', '声', '銀河', 'ステーション', '銀河', 'ステー', 'ション', '云', 'ふる', '声', 'する', '思ふ', '眼', '前', 'なる', '億', '万', '蛍烏賊', '火', '一', 'ぺん', '化石', 'する', 'せる', '中', '沈める', '工合', 'ダイアモンド', '会社', 'ねだる', 'なる', 'ため', '穫る', 'れる', 'ふり', 'する', '置く', '金剛石', '誰か', 'ひる', 'くり', 'する', 'ばら', '撒く', '風', '眼', '前', 'する', 'あう', 'なる', 'ジョバンニ', '思ふ', '何', 'ん', '眼', '擦る', 'しまふ']\n",
      "['＃', '７', '字', '下げ', '四', 'ケンタウル', '祭', '夜', '＃「〔', '四', 'ケンタウル', '祭', '夜', '見出し', 'ジョバンニ', '口笛', '吹く', 'ゐる', 'やう', '口', '付き', '檜', 'まっ黒', 'ならぶ', '町', '坂', '下りる', '来る', 'の']\n",
      "['＃', '７', '字', '下げ', '二', '活版', '所', '＃「〔', '二', '活版', '所', '見出し', 'ジョバンニ', '学校', '門', '出る', 'とき', '組', '七', '八', '人', '家', '帰る', 'カムパネルラ', 'まん中', 'する', '校庭', '隅', '桜', '木', 'ところ', '集まる', 'ゐる']\n",
      "['十字', 'なる', '町', 'の', 'まがる', 'する', 'ふる', '橋', '行く', '方', '雑貨', '店', '前', '影', 'ぼんやり', 'シャツ', '入り乱れる', '六', '七', '人', '生徒', 'ら', '口笛', '吹く', '笑う', 'する', 'めいめい', '烏瓜', '燈火', '持つ', 'やる', '来る', 'の', '見る']\n",
      "['世界', '交響楽', '地平線', 'はて', '湧く', 'まっ黒', '野原', 'なか', '一', '人', 'インデアン', '鳥', '羽根', '頭', 'たくさん', '石', '腕', '胸', 'かざる', '弓', '矢', '番', '一目散', '汽車', '追う', '来る', 'の']\n"
     ]
    }
   ],
   "source": [
    "for p in model.docvecs.most_similar(0):\n",
    "  print(word_per_sentence_list[p[0]])"
   ]
  },
  {
   "cell_type": "markdown",
   "metadata": {},
   "source": [
    "['先生','黒板','吊す','星座','図','上','下','けぶる','銀河','帯','やう','ところ','指す','みんな','問','かける']　という文章と、同じ文章を抽出していますが、どうでしょうか？"
   ]
  },
  {
   "cell_type": "markdown",
   "metadata": {},
   "source": [
    "一通り、word2vecを用いた分散表現の取得から、doc2vecまでやってみました。言葉で数学的な演算が出来るというのは、やはり画期的な事なんだと思います。考えた人はすごいです。実際の業務に利用するには、wikipediaなどの巨大なデータセットから既に学習済みのモデルを利用する事が多いと思いますが、カスタムしたい場合など一から自前で作成する場合もあります。"
   ]
  }
 ],
 "metadata": {
  "kernelspec": {
   "display_name": "Python 3",
   "language": "python",
   "name": "python3"
  },
  "language_info": {
   "codemirror_mode": {
    "name": "ipython",
    "version": 3
   },
   "file_extension": ".py",
   "mimetype": "text/x-python",
   "name": "python",
   "nbconvert_exporter": "python",
   "pygments_lexer": "ipython3",
   "version": "3.7.3"
  },
  "widgets": {
   "state": {},
   "version": "1.1.2"
  }
 },
 "nbformat": 4,
 "nbformat_minor": 2
}
