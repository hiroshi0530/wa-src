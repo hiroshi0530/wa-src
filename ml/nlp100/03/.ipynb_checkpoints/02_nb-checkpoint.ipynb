{
 "cells": [
  {
   "cell_type": "markdown",
   "metadata": {},
   "source": [
    "## [第2章](https://nlp100.github.io/ja/ch02.html)\n",
    "結果だけ載せました。正解かどうかは保障しません笑\n",
    "\n",
    "### github\n",
    "- githubのjupyter notebook形式のファイルは[こちら](https://github.com/hiroshi0530/wa/blob/master/src/ml/nlp100/02/02_nb.ipynb)\n",
    "\n",
    "### 筆者の環境"
   ]
  },
  {
   "cell_type": "code",
   "execution_count": 1,
   "metadata": {},
   "outputs": [
    {
     "name": "stdout",
     "output_type": "stream",
     "text": [
      "ProductName:\tMac OS X\r\n",
      "ProductVersion:\t10.14.6\r\n",
      "BuildVersion:\t18G95\r\n"
     ]
    }
   ],
   "source": [
    "!sw_vers"
   ]
  },
  {
   "cell_type": "code",
   "execution_count": 2,
   "metadata": {},
   "outputs": [
    {
     "name": "stdout",
     "output_type": "stream",
     "text": [
      "Python 3.5.5 :: Anaconda, Inc.\r\n"
     ]
    }
   ],
   "source": [
    "!python -V"
   ]
  },
  {
   "cell_type": "code",
   "execution_count": 3,
   "metadata": {},
   "outputs": [
    {
     "name": "stdout",
     "output_type": "stream",
     "text": [
      "GNU bash, version 3.2.57(1)-release (x86_64-apple-darwin18)\r\n",
      "Copyright (C) 2007 Free Software Foundation, Inc.\r\n"
     ]
    }
   ],
   "source": [
    "!bash --version"
   ]
  },
  {
   "cell_type": "markdown",
   "metadata": {},
   "source": [
    "## 関連記事\n",
    "- [第1章](/ml/nlp100/01/)\n",
    "- [第2章](/ml/nlp100/02/)\n",
    "- [第3章](/ml/nlp100/03/)\n",
    "- [第4章](/ml/nlp100/04/)\n",
    "- [第5章](/ml/nlp100/05/)\n",
    "- [第6章](/ml/nlp100/06/)\n",
    "- [第7章](/ml/nlp100/07/)\n",
    "- [第8章](/ml/nlp100/08/)\n",
    "- [第9章](/ml/nlp100/09/)\n",
    "- [第10章](/ml/nlp100/10/)"
   ]
  }
 ],
 "metadata": {
  "kernelspec": {
   "display_name": "Python 3",
   "language": "python",
   "name": "python3"
  },
  "language_info": {
   "codemirror_mode": {
    "name": "ipython",
    "version": 3
   },
   "file_extension": ".py",
   "mimetype": "text/x-python",
   "name": "python",
   "nbconvert_exporter": "python",
   "pygments_lexer": "ipython3",
   "version": "3.5.5"
  },
  "widgets": {
   "state": {},
   "version": "1.1.2"
  }
 },
 "nbformat": 4,
 "nbformat_minor": 2
}
