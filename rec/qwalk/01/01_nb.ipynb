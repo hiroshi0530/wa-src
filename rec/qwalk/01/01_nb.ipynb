{
 "cells": [
  {
   "cell_type": "markdown",
   "metadata": {},
   "source": [
    "# 古典ランダムウォークと隣接行列 (PageRankとPersonalized PageRank)\n",
    "\n",
    "## 概要\n",
    "この記事では、古典ランダムウォークと隣接行列の概念を中心に、PageRankとPersonalized PageRankについて解説する。これらのアルゴリズムの定義や性質、具体的な応用例を数式とPythonのコードを用いて示し、企業のエンジニアがどのように利用できるかを説明する。\n",
    "\n",
    "## ソースコード\n",
    "\n",
    "### github\n",
    "- jupyter notebook形式のファイルは[こちら](https://github.com/hiroshi0530/wa-src/blob/master/rec/qwalk/01/01_nb.ipynb)\n",
    "\n",
    "### google colaboratory\n",
    "- google colaboratory で実行する場合は[こちら](https://colab.research.google.com/github/hiroshi0530/wa-src/blob/master/rec/qwalk/01/01_nb.ipynb)\n",
    "\n",
    "\n",
    "## 実行環境\n",
    "OSはmacOSである。LinuxやUnixのコマンドとはオプションが異なることに注意。"
   ]
  },
  {
   "cell_type": "code",
   "execution_count": 1,
   "metadata": {},
   "outputs": [
    {
     "name": "stdout",
     "output_type": "stream",
     "text": [
      "ProductName:\t\tmacOS\n",
      "ProductVersion:\t\t13.5.1\n",
      "BuildVersion:\t\t22G90\n"
     ]
    }
   ],
   "source": [
    "!sw_vers"
   ]
  },
  {
   "cell_type": "code",
   "execution_count": 2,
   "metadata": {},
   "outputs": [
    {
     "name": "stdout",
     "output_type": "stream",
     "text": [
      "Python 3.9.17\n"
     ]
    }
   ],
   "source": [
    "!python -V"
   ]
  },
  {
   "cell_type": "markdown",
   "metadata": {},
   "source": [
    "pandasのテーブルを見やすいようにHTMLのテーブルにCSSの設定を行う。"
   ]
  },
  {
   "cell_type": "code",
   "execution_count": 3,
   "metadata": {},
   "outputs": [
    {
     "data": {
      "text/html": [
       "\n",
       "<style>\n",
       "    .dataframe thead tr:only-child th {\n",
       "        text-align: right;\n",
       "    }\n",
       "\n",
       "    .dataframe thead th {\n",
       "        text-align: left;\n",
       "        padding: 5px;\n",
       "    }\n",
       "\n",
       "    .dataframe tbody tr th {\n",
       "        vertical-align: top;\n",
       "        padding: 5px;\n",
       "    }\n",
       "\n",
       "    .dataframe tbody tr:hover {\n",
       "        background-color: #ffff99;\n",
       "    }\n",
       "\n",
       "    .dataframe {\n",
       "        background-color: white;\n",
       "        color: black;\n",
       "        font-size: 16px;\n",
       "    }\n",
       "\n",
       "</style>\n"
      ],
      "text/plain": [
       "<IPython.core.display.HTML object>"
      ]
     },
     "execution_count": 3,
     "metadata": {},
     "output_type": "execute_result"
    }
   ],
   "source": [
    "from IPython.core.display import HTML\n",
    "\n",
    "style = \"\"\"\n",
    "<style>\n",
    "    .dataframe thead tr:only-child th {\n",
    "        text-align: right;\n",
    "    }\n",
    "\n",
    "    .dataframe thead th {\n",
    "        text-align: left;\n",
    "        padding: 5px;\n",
    "    }\n",
    "\n",
    "    .dataframe tbody tr th {\n",
    "        vertical-align: top;\n",
    "        padding: 5px;\n",
    "    }\n",
    "\n",
    "    .dataframe tbody tr:hover {\n",
    "        background-color: #ffff99;\n",
    "    }\n",
    "\n",
    "    .dataframe {\n",
    "        background-color: white;\n",
    "        color: black;\n",
    "        font-size: 16px;\n",
    "    }\n",
    "\n",
    "</style>\n",
    "\"\"\"\n",
    "HTML(style)"
   ]
  },
  {
   "cell_type": "markdown",
   "metadata": {},
   "source": [
    "基本的なライブラリをインポートし watermark を利用してそのバージョンを確認する。\n",
    "ついでに乱数のseedの設定を行う。"
   ]
  },
  {
   "cell_type": "code",
   "execution_count": 4,
   "metadata": {},
   "outputs": [],
   "source": [
    "%matplotlib inline\n",
    "%config InlineBackend.figure_format = 'svg'"
   ]
  },
  {
   "cell_type": "code",
   "execution_count": 5,
   "metadata": {},
   "outputs": [
    {
     "name": "stdout",
     "output_type": "stream",
     "text": [
      "Python implementation: CPython\n",
      "Python version       : 3.9.17\n",
      "IPython version      : 8.17.2\n",
      "\n",
      "matplotlib: 3.8.1\n",
      "numpy     : 1.25.2\n",
      "scipy     : 1.11.2\n",
      "\n",
      "Watermark: 2.4.3\n",
      "\n"
     ]
    }
   ],
   "source": [
    "import random\n",
    "\n",
    "import scipy\n",
    "import numpy as np\n",
    "\n",
    "import matplotlib\n",
    "import matplotlib.pyplot as plt\n",
    "\n",
    "seed = 123\n",
    "random_state = 123\n",
    "\n",
    "random.seed(seed)\n",
    "np.random.seed(seed)\n",
    "\n",
    "\n",
    "from watermark import watermark\n",
    "\n",
    "print(watermark(python=True, watermark=True, iversions=True, globals_=globals()))"
   ]
  },
  {
   "cell_type": "markdown",
   "metadata": {},
   "source": [
    "## 古典ランダムウォーク\n",
    "\n",
    "### 定義\n",
    "ランダムウォークは、グラフ上でランダムに次のノードへ移動するプロセスである。グラフ $\\mathbf{G}$ はノード集合 $\\mathbf{V}$ とエッジ集合 $\\mathbf{E}$ で構成される。エッジ集合は隣接行列 $\\mathbf{A}$ で表される。隣接行列 $\\mathbf{A}$ の要素 $\\mathbf{A}_{ij}$ は、ノード $i$ からノード $j$ へのエッジが存在する場合に1、そうでない場合に0である。\n",
    "\n",
    "$$\n",
    "\\mathbf{A} =\n",
    "\\begin{bmatrix}\n",
    "a_{11} & a_{12} & \\cdots & a_{1n} \\\\\n",
    "a_{21} & a_{22} & \\cdots & a_{2n} \\\\\n",
    "\\vdots & \\vdots & \\ddots & \\vdots \\\\\n",
    "a_{n1} & a_{n2} & \\cdots & a_{nn} \\\\\n",
    "\\end{bmatrix}\n",
    "$$\n",
    "\n",
    "### ランダムウォークの遷移行列\n",
    "ランダムウォークの遷移行列 $\\mathbf{P}$ は、隣接行列 $\\mathbf{A}$ に基づいて定義される。遷移行列 $\\mathbf{P}$ の要素 $\\mathbf{P}_{ij}$ は、ノード $i$ からノード $j$ への遷移確率を表す。\n",
    "\n",
    "$$\n",
    "\\mathbf{P}_{ij} = \\frac{a_{ij}}{\\sum_{k} a_{ik}}\n",
    "$$\n",
    "\n",
    "### ランダムウォークの性質\n",
    "ランダムウォークの重要な性質として、定常状態に収束するが挙げられる。ランダムウォークが十分に長い時間を経過すると、ノードの訪問確率は一定値に収束する。\n",
    "\n",
    "PageRankにおける収束性については[Google行列とPageRank](https://wayama.io/rec/pagerank/)を参照のこと。\n",
    "\n",
    "## PageRank\n",
    "\n",
    "### 数式による表現\n",
    "PageRankは以下のように定義される。$ \\mathbf{PR}(i) $ はノード $ i $ のPageRankを表す。\n",
    "\n",
    "$$\n",
    "\\mathbf{PR}(i) = \\frac{1-d}{N} + d \\sum_{j \\in \\mathbf{M}(i)} \\frac{\\mathbf{PR}(j)}{\\mathbf{L}(j)}\n",
    "$$\n",
    "\n",
    "ここで、$ \\mathbf{M}(i) $ はノード $ i $ へリンクするノードの集合、$ \\mathbf{L}(j) $ はノード $ j $ からのリンク数、$ d $ はダンピングファクター（通常は0.85）、$ N $ はノードの総数である。\n",
    "\n",
    "### Pythonによる実装例\n",
    "以下に、Pythonを用いたPageRankの実装例を示す。\n",
    "\n",
    "定常状態は反復法を用いて導出する。"
   ]
  },
  {
   "cell_type": "code",
   "execution_count": 6,
   "metadata": {},
   "outputs": [
    {
     "name": "stdout",
     "output_type": "stream",
     "text": [
      "[0.29 0.21 0.26 0.24]\n"
     ]
    }
   ],
   "source": [
    "import numpy as np\n",
    "\n",
    "# ダンピングファクター\n",
    "d = 0.85\n",
    "\n",
    "# 隣接行列\n",
    "A = np.array([[0, 1, 1, 0], [0, 0, 1, 1], [1, 0, 0, 1], [1, 0, 1, 0]])\n",
    "\n",
    "# ノード数\n",
    "N = A.shape[0]\n",
    "\n",
    "# 初期PageRankベクトル\n",
    "PR = np.ones(N) / N\n",
    "\n",
    "# 遷移行列の計算\n",
    "P = A / A.sum(axis=0)\n",
    "\n",
    "# PageRankの反復計算\n",
    "# 反復法で定常状態を求める\n",
    "for _ in range(100):\n",
    "    PR = (1 - d) / N + d * P.dot(PR)\n",
    "\n",
    "print(np.round(PR, 2))"
   ]
  },
  {
   "cell_type": "markdown",
   "metadata": {},
   "source": [
    "## Personalized PageRank\n",
    "\n",
    "### Personalized PageRankの定義\n",
    "Personalized PageRankは、特定のノードに重点を置いてPageRankを計算するアルゴリズムである。特定のユーザーやアイテムに関連するノードの重要度を評価する場合に有用である。\n",
    "\n",
    "### 数式による表現\n",
    "Personalized PageRankは、基本的なPageRankの数式を拡張したものである。特定のノード集合 $\\mathbf{S}$ に対して、以下のように定義される。\n",
    "\n",
    "$$\n",
    "\\mathbf{PPR}(i) = \\frac{1-d}{N} + d \\sum_{j \\in \\mathbf{M}(i)} \\frac{\\mathbf{PPR}(j)}{\\mathbf{L}(j)} + \\alpha \\mathbf{e}_S(i)\n",
    "$$\n",
    "\n",
    "ここで、$\\alpha$ はパーソナライズ度合いを調整するパラメータ、$\\mathbf{e}_S(i)$ はノード $i$ がパーソナライズされた集合 $\\mathbf{S}$ に含まれるかどうかを示す指示関数である。\n",
    "\n",
    "### Pythonによる実装例\n",
    "以下に、Pythonを用いたPersonalized PageRankの実装例を示す。\n",
    "\n",
    "定常状態は反復法を用いて導出する。\n"
   ]
  },
  {
   "cell_type": "code",
   "execution_count": 7,
   "metadata": {},
   "outputs": [
    {
     "name": "stdout",
     "output_type": "stream",
     "text": [
      "[0.53 0.32 0.43 0.38]\n"
     ]
    }
   ],
   "source": [
    "# パーソナライズ度合い\n",
    "alpha = 0.1\n",
    "\n",
    "# パーソナライズされたノード集合\n",
    "S = {0}\n",
    "\n",
    "# 初期PageRankベクトル\n",
    "PPR = np.ones(N) / N\n",
    "\n",
    "# Personalized PageRankの反復計算\n",
    "# 反復法で定常状態を求める\n",
    "for _ in range(100):\n",
    "    PPR = (1 - d) / N + d * P.dot(PPR) + alpha * np.isin(np.arange(N), list(S))\n",
    "\n",
    "print(np.round(PPR, 2))"
   ]
  },
  {
   "cell_type": "markdown",
   "metadata": {},
   "source": [
    "## メリットとデメリット\n",
    "\n",
    "### メリット\n",
    "1. **効率的な重要度評価**: ランダムウォークベースのアルゴリズムは、ノードの重要度を効率的に評価できる。\n",
    "2. **適用範囲の広さ**: PageRankとPersonalized PageRankは、Webページのランキングから推薦システムまで広範囲に適用可能。\n",
    "\n",
    "### デメリット\n",
    "1. **計算コスト**: 大規模グラフに対しては、計算コストが高くなることがある。\n",
    "2. **パラメータ調整**: ダンピングファクターやパーソナライズ度合いの調整が必要。\n",
    "\n",
    "## 結論\n",
    "この記事では、古典ランダムウォークと隣接行列の概念を用いて、PageRankとPersonalized PageRankについて解説した。これらのアルゴリズムは、Webページのランキングや推薦システムにおいて非常に有用である。Pythonによる具体的な実装例を通じて、その利用方法を示し、企業や研究者がどのように応用できるかを説明した。\n",
    "\n",
    "## 参考文献\n",
    "- PageRank Algorithm: [https://en.wikipedia.org/wiki/PageRank](https://en.wikipedia.org/wiki/PageRank)\n",
    "- Personalized PageRank: [https://en.wikipedia.org/wiki/Personalized_PageRank](https://en.wikipedia.org/wiki/Personalized_PageRank)\n",
    "- [Google行列とPageRank](https://wayama.io/rec/pagerank/)"
   ]
  }
 ],
 "metadata": {
  "kernelspec": {
   "display_name": "Python 3",
   "language": "python",
   "name": "python3"
  },
  "language_info": {
   "codemirror_mode": {
    "name": "ipython",
    "version": 3
   },
   "file_extension": ".py",
   "mimetype": "text/x-python",
   "name": "python",
   "nbconvert_exporter": "python",
   "pygments_lexer": "ipython3",
   "version": "3.9.17"
  },
  "widgets": {
   "state": {},
   "version": "1.1.2"
  }
 },
 "nbformat": 4,
 "nbformat_minor": 2
}
