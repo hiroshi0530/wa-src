{
 "cells": [
  {
   "cell_type": "markdown",
   "metadata": {},
   "source": [
    "# 古典ランダムウォーク（DeepWalkとNode2Vec）\n",
    "\n",
    "## 概要\n",
    "この記事では、「古典ランダムウォーク（DeepWalkとNode2Vec）」の定義や性質、応用例について詳しく説明する。ランダムウォークを用いたグラフ埋め込み手法であるDeepWalkとNode2Vecの数学的背景、アルゴリズムの詳細、具体的なPythonコードによる実装例を通じて、推薦システムなどでの利用例やメリット・デメリットを解説する。\n",
    "\n",
    "## ソースコード\n",
    "\n",
    "### github\n",
    "- jupyter notebook形式のファイルは[こちら](https://github.com/hiroshi0530/wa-src/blob/master/rec/qwalk/02/02_nb.ipynb)\n",
    "\n",
    "### google colaboratory\n",
    "- google colaboratory で実行する場合は[こちら](https://colab.research.google.com/github/hiroshi0530/wa-src/blob/master/rec/qwalk/02/02_nb.ipynb)\n",
    "\n",
    "\n",
    "## 実行環境\n",
    "OSはmacOSである。LinuxやUnixのコマンドとはオプションが異なることに注意。"
   ]
  },
  {
   "cell_type": "code",
   "execution_count": 1,
   "metadata": {},
   "outputs": [
    {
     "name": "stdout",
     "output_type": "stream",
     "text": [
      "ProductName:\t\tmacOS\n",
      "ProductVersion:\t\t13.5.1\n",
      "BuildVersion:\t\t22G90\n"
     ]
    }
   ],
   "source": [
    "!sw_vers"
   ]
  },
  {
   "cell_type": "code",
   "execution_count": 2,
   "metadata": {},
   "outputs": [
    {
     "name": "stdout",
     "output_type": "stream",
     "text": [
      "Python 3.9.17\n"
     ]
    }
   ],
   "source": [
    "!python -V"
   ]
  },
  {
   "cell_type": "markdown",
   "metadata": {},
   "source": [
    "pandasのテーブルを見やすいようにHTMLのテーブルにCSSの設定を行う。"
   ]
  },
  {
   "cell_type": "code",
   "execution_count": null,
   "metadata": {},
   "outputs": [],
   "source": [
    "from IPython.core.display import HTML\n",
    "\n",
    "style = \"\"\"\n",
    "<style>\n",
    "    .dataframe thead tr:only-child th {\n",
    "        text-align: right;\n",
    "    }\n",
    "\n",
    "    .dataframe thead th {\n",
    "        text-align: left;\n",
    "        padding: 5px;\n",
    "    }\n",
    "\n",
    "    .dataframe tbody tr th {\n",
    "        vertical-align: top;\n",
    "        padding: 5px;\n",
    "    }\n",
    "\n",
    "    .dataframe tbody tr:hover {\n",
    "        background-color: #ffff99;\n",
    "    }\n",
    "\n",
    "    .dataframe {\n",
    "        background-color: white;\n",
    "        color: black;\n",
    "        font-size: 16px;\n",
    "    }\n",
    "\n",
    "</style>\n",
    "\"\"\"\n",
    "HTML(style)"
   ]
  },
  {
   "cell_type": "markdown",
   "metadata": {},
   "source": [
    "基本的なライブラリをインポートし watermark を利用してそのバージョンを確認する。\n",
    "ついでに乱数のseedの設定を行う。"
   ]
  },
  {
   "cell_type": "code",
   "execution_count": null,
   "metadata": {},
   "outputs": [],
   "source": [
    "%matplotlib inline\n",
    "%config InlineBackend.figure_format = 'svg'"
   ]
  },
  {
   "cell_type": "code",
   "execution_count": 2,
   "metadata": {},
   "outputs": [
    {
     "name": "stdout",
     "output_type": "stream",
     "text": [
      "Python implementation: CPython\n",
      "Python version       : 3.9.17\n",
      "IPython version      : 8.17.2\n",
      "\n",
      "scipy     : 1.11.2\n",
      "numpy     : 1.25.2\n",
      "matplotlib: 3.8.1\n",
      "\n",
      "Watermark: 2.4.3\n",
      "\n"
     ]
    }
   ],
   "source": [
    "import random\n",
    "\n",
    "import scipy\n",
    "import numpy as np\n",
    "\n",
    "import matplotlib\n",
    "import matplotlib.pyplot as plt\n",
    "\n",
    "seed = 123\n",
    "random_state = 123\n",
    "\n",
    "random.seed(seed)\n",
    "np.random.seed(seed)\n",
    "\n",
    "\n",
    "from watermark import watermark\n",
    "\n",
    "print(watermark(python=True, watermark=True, iversions=True, globals_=globals()))"
   ]
  },
  {
   "cell_type": "code",
   "execution_count": null,
   "metadata": {},
   "outputs": [],
   "source": [
    "## 古典ランダムウォークとは\n",
    "\n",
    "### 定義\n",
    "古典ランダムウォークとは、グラフ理論におけるランダムウォークの一種である。グラフ上のノードからスタートし、ランダムに隣接ノードへと移動するプロセスを繰り返すものである。このプロセスは確率的であり、次のノードへの移動はランダムに決定される。\n",
    "\n",
    "ランダムウォークの確率行列 $\\mathbf{P}$ は次のように定義される：\n",
    "\n",
    "$$\n",
    "\\mathbf{P}_{ij} = \\begin{cases}\n",
    "\\frac{1}{d_i} & \\text{if } (i, j) \\in E \\\\\n",
    "0 & \\text{otherwise}\n",
    "\\end{cases}\n",
    "$$\n",
    "\n",
    "ここで、$d_i$ はノード $i$ の次数である。\n",
    "\n",
    "### 性質\n",
    "- **エルゴード性**：十分な長さのランダムウォークはグラフ全体をカバーする。\n",
    "- **定常分布**：長い時間をかけると、ランダムウォークは定常分布に収束する。\n",
    "- **マルコフ性**：現在の状態のみが次の状態に依存し、過去の状態には依存しない。\n",
    "\n",
    "## DeepWalk\n",
    "\n",
    "### 定義\n",
    "DeepWalkは、グラフ内のノードをランダムウォークに基づいて学習する手法である。具体的には、グラフ上でランダムウォークを行い、その結果得られたノードシーケンスを用いて、Skip-gramモデルでノードの埋め込みを学習する。\n",
    "\n",
    "### アルゴリズム\n",
    "1. **ランダムウォークの生成**：各ノードからスタートし、ランダムに隣接ノードへ移動するウォークを複数生成する。\n",
    "2. **Skip-gramモデルの学習**：生成されたノードシーケンスを入力として、Skip-gramモデルを用いてノードの埋め込みを学習する。\n",
    "\n",
    "$$\n",
    "J = - \\sum_{w \\in V} \\sum_{u \\in N(w)} \\log P(u|w)\n",
    "$$\n",
    "\n",
    "### Pythonによる実装例\n",
    "以下に、DeepWalkの基本的な実装例を示す：\n",
    "\n"
   ]
  },
  {
   "cell_type": "code",
   "execution_count": null,
   "metadata": {},
   "outputs": [],
   "source": [
    "import numpy as np\n",
    "import networkx as nx\n",
    "from gensim.models import Word2Vec\n",
    "from pprint import pprint\n",
    "\n",
    "\n",
    "def random_walk(graph, start_node, walk_length):\n",
    "    walk = [start_node]\n",
    "    for _ in range(walk_length - 1):\n",
    "        neighbors = list(graph.neighbors(walk[-1]))\n",
    "        if neighbors:\n",
    "            walk.append(np.random.choice(neighbors))\n",
    "        else:\n",
    "            break\n",
    "    return walk\n",
    "\n",
    "\n",
    "def generate_walks(graph, num_walks, walk_length):\n",
    "    walks = []\n",
    "    nodes = list(graph.nodes())\n",
    "    for _ in range(num_walks):\n",
    "        np.random.shuffle(nodes)\n",
    "        for node in nodes:\n",
    "            walks.append(random_walk(graph, node, walk_length))\n",
    "    return walks\n",
    "\n",
    "\n",
    "# グラフの作成\n",
    "G = nx.karate_club_graph()\n",
    "\n",
    "# ランダムウォークの生成\n",
    "num_walks = 10\n",
    "walk_length = 5\n",
    "walks = generate_walks(G, num_walks, walk_length)\n",
    "\n",
    "# Skip-gramモデルでの学習\n",
    "model = Word2Vec(walks, vector_size=64, window=5, min_count=0, sg=1)\n",
    "\n",
    "# ノードの埋め込みを表示\n",
    "embeddings = {node: model.wv[node] for node in G.nodes()}\n",
    "pprint(embeddings)"
   ]
  },
  {
   "cell_type": "code",
   "execution_count": null,
   "metadata": {},
   "outputs": [],
   "source": [
    "## Node2Vec\n",
    "\n",
    "### 定義\n",
    "Node2Vecは、DeepWalkを拡張した手法であり、ランダムウォークにおいて深さ優先探索（DFS）と幅優先探索（BFS）をバランス良く組み合わせることで、ノードの埋め込みを学習する。\n",
    "\n",
    "### アルゴリズム\n",
    "1. **ランダムウォークの生成**：DFSとBFSのバランスを調整するためのパラメータ $p$ と $q$ を導入し、ランダムウォークを生成する。\n",
    "2. **Skip-gramモデルの学習**：DeepWalkと同様に、生成されたノードシーケンスを入力として、Skip-gramモデルでノードの埋め込みを学習する。\n",
    "\n",
    "$$\n",
    "J = - \\sum_{w \\in V} \\sum_{u \\in N(w)} \\log P(u|w)\n",
    "$$\n",
    "\n",
    "### Pythonによる実装例\n",
    "以下に、Node2Vecの基本的な実装例を示す：\n",
    "\n",
    "\n"
   ]
  },
  {
   "cell_type": "code",
   "execution_count": null,
   "metadata": {},
   "outputs": [],
   "source": [
    "import numpy as np\n",
    "import networkx as nx\n",
    "from gensim.models import Word2Vec\n",
    "from pprint import pprint\n",
    "\n",
    "\n",
    "class Node2Vec:\n",
    "    def __init__(self, graph, p, q, num_walks, walk_length):\n",
    "        self.graph = graph\n",
    "        self.p = p\n",
    "        self.q = q\n",
    "        self.num_walks = num_walks\n",
    "        self.walk_length = walk_length\n",
    "\n",
    "    def node2vec_walk(self, start_node):\n",
    "        walk = [start_node]\n",
    "        while len(walk) < self.walk_length:\n",
    "            cur = walk[-1]\n",
    "            cur_nbrs = list(self.graph.neighbors(cur))\n",
    "            if len(cur_nbrs) > 0:\n",
    "                if len(walk) == 1:\n",
    "                    walk.append(np.random.choice(cur_nbrs))\n",
    "                else:\n",
    "                    prev = walk[-2]\n",
    "                    probs = []\n",
    "                    for nbr in cur_nbrs:\n",
    "                        if nbr == prev:\n",
    "                            probs.append(1 / self.p)\n",
    "                        elif self.graph.has_edge(prev, nbr):\n",
    "                            probs.append(1)\n",
    "                        else:\n",
    "                            probs.append(1 / self.q)\n",
    "                    probs = np.array(probs)\n",
    "                    probs = probs / probs.sum()\n",
    "                    walk.append(np.random.choice(cur_nbrs, p=probs))\n",
    "            else:\n",
    "                break\n",
    "        return walk\n",
    "\n",
    "    def generate_walks(self):\n",
    "        walks = []\n",
    "        nodes = list(self.graph.nodes())\n",
    "        for _ in range(self.num_walks):\n",
    "            np.random.shuffle(nodes)\n",
    "            for node in nodes:\n",
    "                walks.append(self.node2vec_walk(node))\n",
    "        return walks\n",
    "\n",
    "\n",
    "# グラフの作成\n",
    "G = nx.karate_club_graph()\n",
    "\n",
    "# Node2Vecのパラメータ設定\n",
    "p = 1\n",
    "q = 1\n",
    "num_walks = 10\n",
    "walk_length = 5\n",
    "\n",
    "# Node2Vecのインスタンス生成とウォークの生成\n",
    "node2vec = Node2Vec(G, p, q, num_walks, walk_length)\n",
    "walks = node2vec.generate_walks()\n",
    "\n",
    "# Skip-gramモデルでの学習\n",
    "model = Word2Vec(walks, vector_size=64, window=5, min_count=0, sg=1)\n",
    "\n",
    "# ノードの埋め込みを表示\n",
    "embeddings = {node: model.wv[node] for node in G.nodes()}\n",
    "pprint(embeddings)"
   ]
  },
  {
   "cell_type": "markdown",
   "metadata": {},
   "source": [
    "\n",
    "\n",
    "## 応用例\n",
    "\n",
    "### 推薦システムでの利用\n",
    "- **ユーザーとアイテムの関係性をモデル化**：ユーザーとアイテムをノードとして扱い、ユーザーの行動履歴に基づくランダムウォークを行うことで、ユーザーの好みを埋め込みベクトルとして学習する。\n",
    "- **ソーシャルネットワーク分析**：ユーザー間の関係をグラフとして表現し、ランダムウォークを用いて関係性の強さをモデル化する。\n",
    "\n",
    "### メリット\n",
    "- **スケーラビリティ**：大規模なグラフに対しても効率的に計算が可能である。\n",
    "- **フレキシビリティ**：パラメータ $p$ と $q$ の調整により、探索の深さと幅をバランス良く調整できる。\n",
    "\n",
    "### デメリット\n",
    "- **計算コスト**：非常に大規模なグラフに対しては、計算コストが増加する可能性がある。\n",
    "- **ハイパーパラメータの調整**：適切なハイパーパラメータの選定が結果に大きく影響する。\n",
    "\n",
    "## 結論\n",
    "この記事では、古典ランダムウォーク、DeepWalk、Node2Vecの定義、性質、応用例について説明した。ランダムウォークを利用したグラフ埋め込み手法は、推薦システムやソーシャルネット\n",
    "\n",
    "ワーク分析などにおいて有効であることが示された。具体的なPythonコードを通じて、実装の流れも理解できたのではないだろうか。\n",
    "\n",
    "### 参考文献\n",
    "- Perozzi, A., Al-Rfou, R., & Skiena, S. (2014). DeepWalk: Online Learning of Social Representations. In Proceedings of the 20th ACM SIGKDD International Conference on Knowledge Discovery and Data Mining (KDD '14).\n",
    "- Grover, A., & Leskovec, J. (2016). node2vec: Scalable Feature Learning for Networks. In Proceedings of the 22nd ACM SIGKDD International Conference on Knowledge Discovery and Data Mining (KDD '16)."
   ]
  }
 ],
 "metadata": {
  "kernelspec": {
   "display_name": "Python 3",
   "language": "python",
   "name": "python3"
  },
  "language_info": {
   "codemirror_mode": {
    "name": "ipython",
    "version": 3
   },
   "file_extension": ".py",
   "mimetype": "text/x-python",
   "name": "python",
   "nbconvert_exporter": "python",
   "pygments_lexer": "ipython3",
   "version": "3.9.17"
  },
  "widgets": {
   "state": {},
   "version": "1.1.2"
  }
 },
 "nbformat": 4,
 "nbformat_minor": 2
}
