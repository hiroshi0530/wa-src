{
 "cells": [
  {
   "cell_type": "markdown",
   "metadata": {},
   "source": [
    "## 推薦システムアルゴリズムのまとめ 1\n",
    "\n",
    "\n",
    "### github\n",
    "- jupyter notebook形式のファイルは[こちら](https://github.com/hiroshi0530/wa-src/tree/master/rec/summary/1/base_nb.ipynb)\n",
    "\n",
    "### google colaboratory\n",
    "- google colaboratory で実行する場合は[こちら](https://colab.research.google.com/github/hiroshi0530/wa-src/tree/master/rec/summary/1/base_nb.ipynb)\n"
   ]
  },
  {
   "cell_type": "markdown",
   "metadata": {},
   "source": [
    "最近仕事で推薦システムの開発に携わることがあり、その概要を調べたのでまとめてみる。\n",
    "\n",
    "推薦システムは人によって呼び方やその定義が異なる事が多いため、[MicrosoftのGithub](https://github.com/microsoft/recommenders)に従って、まとめる。\n",
    "\n",
    "### 協調フィルタリング\n",
    "\n",
    "### コンテンツベースフィルタリング\n",
    "\n",
    "### ハイブリッドフィルタリング\n",
    "\n",
    "\n",
    "協調フィルタリングとコンテンツベースフィルタリングは補完関係にあるので、ハイブリッドで利用する\n",
    "\n",
    "\n",
    "### 手法の説明\n",
    "\n",
    "- matrix factrization\n",
    "- factrization machine\n",
    "- lightFM\n",
    "\n",
    "MF・FMとの違い\n",
    "ユーザー・アイテムembeddingを、ユーザー・アイテム特徴量から作成しない場合、つまりそれぞれにembeddingを用意してinteractionをとった場合、Matrix Factorizationになります。\n",
    "\n",
    "また、Factorization Machinesは、全ての特徴量間のinteractionを考慮しますが、LightFMが考慮するのはuser, item間のinteractionのみです。\n",
    "\n",
    "また、Factorization Machinesとは違い、ユーザー・アイテム特徴量からユーザー・アイテムembeddingを作成するという処理が行われています。\n",
    "\n",
    "最後に\n",
    "FMに関しても同じだが、embeddingの作成方法に関しても工夫が効く\n",
    "sequencialな特徴量をpoolingして使うだったり転移学習したりできる\n",
    "\n",
    "https://nnkkmto.hatenablog.com/entry/2020/12/20/000000\n",
    "\n",
    "- node2vec\n",
    "  - deep walk\n",
    "\n",
    "## 推薦システムの評価手法\n",
    "\n",
    "\n",
    "\n",
    "## 参考資料\n",
    "- https://github.com/microsoft/recommenders\n",
    "- https://techblog.zozo.com/entry/deep-learning-recommendation-improvement\n"
   ]
  }
 ],
 "metadata": {
  "kernelspec": {
   "display_name": "rec",
   "language": "python",
   "name": "rec"
  },
  "language_info": {
   "name": "python",
   "version": "3.8.13"
  }
 },
 "nbformat": 4,
 "nbformat_minor": 2
}
