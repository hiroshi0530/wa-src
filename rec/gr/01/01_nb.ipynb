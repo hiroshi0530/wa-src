{
 "cells": [
  {
   "cell_type": "markdown",
   "metadata": {},
   "source": [
    "# 推薦システムとimplicitライブラリの利用方法\n",
    "\n",
    "推薦システムは、ユーザーの嗜好や行動を分析し、個別に最適なアイテムを推薦するシステムである。その中で、Pythonのライブラリであるimplicitは特に有名であり、効率的な計算と使いやすさが特徴である。ここでは、implicitライブラリの使い方と、movielens-100kデータセットを利用した具体例について説明する。\n",
    "\n",
    "## ソースコード\n",
    "\n",
    "この記事で利用するソースコードは以下の通りである。\n",
    "\n",
    "\n",
    "### github\n",
    "- jupyter notebook形式のファイルは[こちら](https://github.com/hiroshi0530/wa-src/blob/master/rec/gr/01/01_nb.ipynb)\n",
    "\n",
    "### google colaboratory\n",
    "- google colaboratory で実行する場合は[こちら](https://colab.research.google.com/github/hiroshi0530/wa-src/blob/master/rec/gr/01/01_nb.ipynb)\n",
    "\n",
    "\n",
    "## 実行環境\n",
    "OSはmacOSである。LinuxやUnixのコマンドとはオプションが異なりますので注意していただきたい。"
   ]
  },
  {
   "cell_type": "code",
   "execution_count": 1,
   "metadata": {},
   "outputs": [
    {
     "name": "stdout",
     "output_type": "stream",
     "text": [
      "ProductName:\t\tmacOS\n",
      "ProductVersion:\t\t13.5.1\n",
      "BuildVersion:\t\t22G90\n"
     ]
    }
   ],
   "source": [
    "!sw_vers"
   ]
  },
  {
   "cell_type": "code",
   "execution_count": 2,
   "metadata": {},
   "outputs": [
    {
     "name": "stdout",
     "output_type": "stream",
     "text": [
      "Python 3.9.17\n"
     ]
    }
   ],
   "source": [
    "!python -V"
   ]
  },
  {
   "cell_type": "markdown",
   "metadata": {},
   "source": [
    "pandasのテーブルを見やすいようにHTMLのテーブルにCSSの設定を行う。"
   ]
  },
  {
   "cell_type": "code",
   "execution_count": 3,
   "metadata": {},
   "outputs": [
    {
     "data": {
      "text/html": [
       "\n",
       "<style>\n",
       "    .dataframe thead tr:only-child th {\n",
       "        text-align: right;\n",
       "    }\n",
       "\n",
       "    .dataframe thead th {\n",
       "        text-align: left;\n",
       "        padding: 5px;\n",
       "    }\n",
       "\n",
       "    .dataframe tbody tr th {\n",
       "        vertical-align: top;\n",
       "        padding: 5px;\n",
       "    }\n",
       "\n",
       "    .dataframe tbody tr:hover {\n",
       "        background-color: #ffff99;\n",
       "    }\n",
       "\n",
       "    .dataframe {\n",
       "        background-color: white;\n",
       "        color: black;\n",
       "        font-size: 16px;\n",
       "    }\n",
       "\n",
       "</style>\n"
      ],
      "text/plain": [
       "<IPython.core.display.HTML object>"
      ]
     },
     "execution_count": 3,
     "metadata": {},
     "output_type": "execute_result"
    }
   ],
   "source": [
    "from IPython.core.display import HTML\n",
    "\n",
    "style = \"\"\"\n",
    "<style>\n",
    "    .dataframe thead tr:only-child th {\n",
    "        text-align: right;\n",
    "    }\n",
    "\n",
    "    .dataframe thead th {\n",
    "        text-align: left;\n",
    "        padding: 5px;\n",
    "    }\n",
    "\n",
    "    .dataframe tbody tr th {\n",
    "        vertical-align: top;\n",
    "        padding: 5px;\n",
    "    }\n",
    "\n",
    "    .dataframe tbody tr:hover {\n",
    "        background-color: #ffff99;\n",
    "    }\n",
    "\n",
    "    .dataframe {\n",
    "        background-color: white;\n",
    "        color: black;\n",
    "        font-size: 16px;\n",
    "    }\n",
    "\n",
    "</style>\n",
    "\"\"\"\n",
    "HTML(style)"
   ]
  },
  {
   "cell_type": "markdown",
   "metadata": {},
   "source": [
    "基本的なライブラリをインポートし watermark を利用してそのバージョンを確認する。\n",
    "ついでに乱数のseedの設定する。"
   ]
  },
  {
   "cell_type": "code",
   "execution_count": 4,
   "metadata": {},
   "outputs": [],
   "source": [
    "%matplotlib inline\n",
    "%config InlineBackend.figure_format = 'svg'"
   ]
  },
  {
   "cell_type": "code",
   "execution_count": 5,
   "metadata": {},
   "outputs": [
    {
     "name": "stdout",
     "output_type": "stream",
     "text": [
      "Python implementation: CPython\n",
      "Python version       : 3.9.17\n",
      "IPython version      : 8.17.2\n",
      "\n",
      "numpy   : 1.25.2\n",
      "pandas  : 2.0.3\n",
      "implicit: 0.7.0\n",
      "\n",
      "Watermark: 2.4.3\n",
      "\n"
     ]
    }
   ],
   "source": [
    "import random\n",
    "import numpy as np\n",
    "import pandas as pd\n",
    "\n",
    "import implicit\n",
    "\n",
    "seed = 123\n",
    "random_state = 123\n",
    "\n",
    "random.seed(seed)\n",
    "np.random.seed(seed)\n",
    "\n",
    "from watermark import watermark\n",
    "\n",
    "print(watermark(python=True, watermark=True, iversions=True, globals_=globals()))"
   ]
  },
  {
   "cell_type": "markdown",
   "metadata": {},
   "source": [
    "# 推薦システムで利用されるimplicitの実装例\n",
    "\n",
    "<!--\n",
    "## 目次\n",
    "1. 推薦システムとは\n",
    "2. implicitライブラリの概要\n",
    "3. Movielens-100kデータセットの概要\n",
    "4. ALSアルゴリズムの詳細と実装\n",
    "5. BPRアルゴリズムの詳細と実装\n",
    "6. 実装例\n",
    "7. メリットとデメリット\n",
    "8. 結論\n",
    "-->\n",
    "\n",
    "## 推薦システムとは\n",
    "\n",
    "推薦システムとは、ユーザーの嗜好に基づいてアイテムを推薦するシステムである。例えば、Netflixではユーザーが視聴した映画に基づいて新しい映画を推薦する。推薦システムの種類には、大きく分けて協調フィルタリングとコンテンツベースフィルタリングがある。\n",
    "\n",
    "### 協調フィルタリング\n",
    "\n",
    "協調フィルタリングは、ユーザーの過去の行動や評価に基づいてアイテムを推薦する手法である。具体的には、ユーザー行動行列を用いる。\n",
    "\n",
    "### コンテンツベースフィルタリング\n",
    "\n",
    "コンテンツベースフィルタリングは、アイテムの特徴や属性に基づいてアイテムを推薦する手法である。\n",
    "\n",
    "## implicitライブラリの概要\n",
    "\n",
    "implicitはPythonで書かれたライブラリであり、特に協調フィルタリングのアルゴリズムを実装するために用いられる。implicitは主に以下のアルゴリズムをサポートしている。\n",
    "\n",
    "- ALS（Alternating Least Squares）\n",
    "- BPR（Bayesian Personalized Ranking）\n",
    "\n",
    "## Movielens-100kデータセットの概要\n",
    "\n",
    "Movielens-100kは映画の評価データセットであり、100,000件の評価データが含まれている。このデータセットを用いることで、推薦システムの性能を評価することができる。\n",
    "\n",
    "## ALSアルゴリズムの詳細と実装\n",
    "\n",
    "ALS（交互最小二乗法）は、ユーザーとアイテムの行列を因子分解する手法である。ALSでは、ユーザー行列とアイテム行列を交互に更新することで、予測行列を近似する。\n",
    "\n",
    "### ALSの表式\n",
    "\n",
    "ALSの基本的な考え方は、ユーザー行列$\\mathbf{U}$とアイテム行列$\\mathbf{I}$を求めることである。評価行列$\\mathbf{R}$は次のように近似される。\n",
    "\n",
    "$$\n",
    "\\mathbf{R} \\approx \\mathbf{U} \\mathbf{I}^T\n",
    "$$\n",
    "\n",
    "ここで、ALSは次の最小化問題を解く。\n",
    "\n",
    "$$\n",
    "\\min_{\\mathbf{U}, \\mathbf{I}} \\|\\| \\mathbf{R} - \\mathbf{U} \\mathbf{I}^T \\|\\|^2_F + \\lambda ( \\|\\| \\mathbf{U} \\|\\|^2_F + \\|\\| \\mathbf{I} \\|\\|^2_F )\n",
    "$$\n",
    "\n",
    "ここで、$\\|\\| \\cdot \\|\\|_F$はフロベニウスノルムを表し、$\\lambda$は正則化パラメータである。\n",
    "\n",
    "### ALSの実装\n",
    "\n",
    "次に、implicitライブラリを用いたALSの実装例を示す。\n"
   ]
  },
  {
   "cell_type": "code",
   "execution_count": 6,
   "metadata": {},
   "outputs": [
    {
     "data": {
      "text/html": [
       "<div>\n",
       "<style scoped>\n",
       "    .dataframe tbody tr th:only-of-type {\n",
       "        vertical-align: middle;\n",
       "    }\n",
       "\n",
       "    .dataframe tbody tr th {\n",
       "        vertical-align: top;\n",
       "    }\n",
       "\n",
       "    .dataframe thead th {\n",
       "        text-align: right;\n",
       "    }\n",
       "</style>\n",
       "<table border=\"1\" class=\"dataframe\">\n",
       "  <thead>\n",
       "    <tr style=\"text-align: right;\">\n",
       "      <th></th>\n",
       "      <th>user_id</th>\n",
       "      <th>item_id</th>\n",
       "      <th>rating</th>\n",
       "      <th>timestamp</th>\n",
       "    </tr>\n",
       "  </thead>\n",
       "  <tbody>\n",
       "    <tr>\n",
       "      <th>0</th>\n",
       "      <td>196</td>\n",
       "      <td>242</td>\n",
       "      <td>3</td>\n",
       "      <td>881250949</td>\n",
       "    </tr>\n",
       "    <tr>\n",
       "      <th>1</th>\n",
       "      <td>186</td>\n",
       "      <td>302</td>\n",
       "      <td>3</td>\n",
       "      <td>891717742</td>\n",
       "    </tr>\n",
       "    <tr>\n",
       "      <th>2</th>\n",
       "      <td>22</td>\n",
       "      <td>377</td>\n",
       "      <td>1</td>\n",
       "      <td>878887116</td>\n",
       "    </tr>\n",
       "    <tr>\n",
       "      <th>3</th>\n",
       "      <td>244</td>\n",
       "      <td>51</td>\n",
       "      <td>2</td>\n",
       "      <td>880606923</td>\n",
       "    </tr>\n",
       "    <tr>\n",
       "      <th>4</th>\n",
       "      <td>166</td>\n",
       "      <td>346</td>\n",
       "      <td>1</td>\n",
       "      <td>886397596</td>\n",
       "    </tr>\n",
       "  </tbody>\n",
       "</table>\n",
       "</div>"
      ],
      "text/plain": [
       "   user_id  item_id  rating  timestamp\n",
       "0      196      242       3  881250949\n",
       "1      186      302       3  891717742\n",
       "2       22      377       1  878887116\n",
       "3      244       51       2  880606923\n",
       "4      166      346       1  886397596"
      ]
     },
     "execution_count": 6,
     "metadata": {},
     "output_type": "execute_result"
    }
   ],
   "source": [
    "import implicit\n",
    "from scipy.sparse import coo_matrix\n",
    "from pprint import pprint\n",
    "\n",
    "# データの読み込みと前処理\n",
    "df = pd.read_csv(\"./ml-100k/u.data\", sep=\"\\t\", names=[\"user_id\", \"item_id\", \"rating\", \"timestamp\"])\n",
    "rows = df[\"user_id\"].astype(int)\n",
    "cols = df[\"item_id\"].astype(int)\n",
    "values = df[\"rating\"].astype(float)\n",
    "\n",
    "df.head()"
   ]
  },
  {
   "cell_type": "code",
   "execution_count": 7,
   "metadata": {},
   "outputs": [
    {
     "data": {
      "application/vnd.jupyter.widget-view+json": {
       "model_id": "7301c3989be64d83ac95fa7b5e84151e",
       "version_major": 2,
       "version_minor": 0
      },
      "text/plain": [
       "  0%|          | 0/50 [00:00<?, ?it/s]"
      ]
     },
     "metadata": {},
     "output_type": "display_data"
    },
    {
     "name": "stdout",
     "output_type": "stream",
     "text": [
      "array([[ 0.  ,  0.  ,  0.  , ...,  0.  ,  0.  ,  0.  ],\n",
      "       [ 0.65,  1.81,  0.38, ...,  1.04, -0.1 ,  2.  ],\n",
      "       [ 0.31,  0.4 ,  0.77, ..., -0.69,  0.15, -0.02],\n",
      "       ...,\n",
      "       [ 0.12, -0.03,  0.29, ..., -0.41,  0.63, -0.01],\n",
      "       [ 0.89, -0.79, -0.77, ..., -0.89,  1.31,  0.18],\n",
      "       [ 0.78,  0.97,  0.26, ...,  1.08,  0.38,  0.3 ]], dtype=float32)\n",
      "array([[ 0.  ,  0.  ,  0.  , ...,  0.  ,  0.  ,  0.  ],\n",
      "       [ 0.08, -0.1 , -0.04, ..., -0.08,  0.07, -0.  ],\n",
      "       [ 0.06,  0.07,  0.14, ...,  0.06,  0.08,  0.04],\n",
      "       ...,\n",
      "       [ 0.  ,  0.  , -0.01, ...,  0.01,  0.  , -0.  ],\n",
      "       [-0.  ,  0.01,  0.01, ..., -0.01,  0.01,  0.  ],\n",
      "       [-0.01,  0.01, -0.  , ...,  0.01, -0.01,  0.01]], dtype=float32)\n"
     ]
    }
   ],
   "source": [
    "# 評価行列を作成\n",
    "R = coo_matrix((values, (rows, cols)))\n",
    "\n",
    "# coo_matrixをcsr_matrixに変換\n",
    "R = R.tocsr()\n",
    "\n",
    "# ALSモデルの訓練\n",
    "model = implicit.als.AlternatingLeastSquares(factors=20, regularization=0.1, iterations=50)\n",
    "model.fit(R)\n",
    "\n",
    "# ユーザーとアイテムの行列\n",
    "U = model.user_factors\n",
    "I = model.item_factors\n",
    "\n",
    "# 結果の表示\n",
    "pprint(U.round(2))\n",
    "pprint(I.round(2))"
   ]
  },
  {
   "cell_type": "markdown",
   "metadata": {},
   "source": [
    "## BPRアルゴリズムの詳細と実装\n",
    "\n",
    "BPRは、ランキングを最適化するための手法である。BPRは、ユーザーのpaire-wiseな選好を最大化することを目的とする。\n",
    "\n",
    "### BPRの数式\n",
    "\n",
    "BPRは、ユーザーがあるアイテムを他のアイテムよりも好む確率を最大化する。具体的には、次の対数尤度関数を最大化する。\n",
    "\n",
    "$$\n",
    "\\sum_{(u,i,j) \\in D} \\ln \\sigma (\\hat{x}\\_{u,i} - \\hat{x}\\_{u,j}) + \\lambda \\|\\| \\Theta \\|\\|^2\n",
    "$$\n",
    "\n",
    "ここで、$\\sigma$はシグモイド関数、$\\hat{x}_{u,i}$はユーザー$u$がアイテム$i$に対して持つスコア、$D$はデータセット、$\\Theta$はモデルパラメータである。\n",
    "\n",
    "### BPRの実装\n",
    "\n",
    "次に、implicitライブラリを用いたBPRの実装例を示す。"
   ]
  },
  {
   "cell_type": "code",
   "execution_count": 8,
   "metadata": {},
   "outputs": [
    {
     "data": {
      "text/html": [
       "<div>\n",
       "<style scoped>\n",
       "    .dataframe tbody tr th:only-of-type {\n",
       "        vertical-align: middle;\n",
       "    }\n",
       "\n",
       "    .dataframe tbody tr th {\n",
       "        vertical-align: top;\n",
       "    }\n",
       "\n",
       "    .dataframe thead th {\n",
       "        text-align: right;\n",
       "    }\n",
       "</style>\n",
       "<table border=\"1\" class=\"dataframe\">\n",
       "  <thead>\n",
       "    <tr style=\"text-align: right;\">\n",
       "      <th></th>\n",
       "      <th>user_id</th>\n",
       "      <th>item_id</th>\n",
       "      <th>rating</th>\n",
       "      <th>timestamp</th>\n",
       "    </tr>\n",
       "  </thead>\n",
       "  <tbody>\n",
       "    <tr>\n",
       "      <th>0</th>\n",
       "      <td>196</td>\n",
       "      <td>242</td>\n",
       "      <td>3</td>\n",
       "      <td>881250949</td>\n",
       "    </tr>\n",
       "    <tr>\n",
       "      <th>1</th>\n",
       "      <td>186</td>\n",
       "      <td>302</td>\n",
       "      <td>3</td>\n",
       "      <td>891717742</td>\n",
       "    </tr>\n",
       "    <tr>\n",
       "      <th>2</th>\n",
       "      <td>22</td>\n",
       "      <td>377</td>\n",
       "      <td>1</td>\n",
       "      <td>878887116</td>\n",
       "    </tr>\n",
       "    <tr>\n",
       "      <th>3</th>\n",
       "      <td>244</td>\n",
       "      <td>51</td>\n",
       "      <td>2</td>\n",
       "      <td>880606923</td>\n",
       "    </tr>\n",
       "    <tr>\n",
       "      <th>4</th>\n",
       "      <td>166</td>\n",
       "      <td>346</td>\n",
       "      <td>1</td>\n",
       "      <td>886397596</td>\n",
       "    </tr>\n",
       "  </tbody>\n",
       "</table>\n",
       "</div>"
      ],
      "text/plain": [
       "   user_id  item_id  rating  timestamp\n",
       "0      196      242       3  881250949\n",
       "1      186      302       3  891717742\n",
       "2       22      377       1  878887116\n",
       "3      244       51       2  880606923\n",
       "4      166      346       1  886397596"
      ]
     },
     "execution_count": 8,
     "metadata": {},
     "output_type": "execute_result"
    }
   ],
   "source": [
    "import implicit\n",
    "from scipy.sparse import coo_matrix\n",
    "from pprint import pprint\n",
    "\n",
    "# データの読み込みと前処理\n",
    "df = pd.read_csv(\"./ml-100k/u.data\", sep=\"\\t\", names=[\"user_id\", \"item_id\", \"rating\", \"timestamp\"])\n",
    "rows = df[\"user_id\"].astype(int)\n",
    "cols = df[\"item_id\"].astype(int)\n",
    "values = df[\"rating\"].astype(float)\n",
    "\n",
    "df.head()"
   ]
  },
  {
   "cell_type": "code",
   "execution_count": 9,
   "metadata": {},
   "outputs": [
    {
     "data": {
      "application/vnd.jupyter.widget-view+json": {
       "model_id": "e99e8d69b1154c93bebc7667baab104e",
       "version_major": 2,
       "version_minor": 0
      },
      "text/plain": [
       "  0%|          | 0/50 [00:00<?, ?it/s]"
      ]
     },
     "metadata": {},
     "output_type": "display_data"
    },
    {
     "name": "stdout",
     "output_type": "stream",
     "text": [
      "array([[ 0.  ,  0.  ,  0.  , ...,  0.  ,  0.  ,  1.  ],\n",
      "       [-0.02, -0.01,  0.13, ..., -0.12,  0.09,  1.  ],\n",
      "       [-0.01,  0.03, -0.32, ...,  0.29, -0.21,  1.  ],\n",
      "       ...,\n",
      "       [ 0.1 , -0.03, -0.15, ...,  0.12, -0.18,  1.  ],\n",
      "       [-0.2 ,  0.08, -0.04, ...,  0.04,  0.15,  1.  ],\n",
      "       [ 0.24, -0.1 ,  0.26, ..., -0.24, -0.  ,  1.  ]], dtype=float32)\n",
      "array([[ 0.  ,  0.  ,  0.  , ...,  0.  ,  0.  ,  0.  ],\n",
      "       [ 0.12, -0.04, -0.  , ..., -0.01, -0.1 ,  0.61],\n",
      "       [ 0.2 , -0.07,  0.18, ..., -0.16, -0.02, -0.1 ],\n",
      "       ...,\n",
      "       [-0.  ,  0.  , -0.03, ...,  0.03, -0.03, -0.05],\n",
      "       [ 0.  ,  0.  , -0.01, ...,  0.  , -0.02, -0.07],\n",
      "       [-0.01, -0.02, -0.01, ..., -0.  , -0.01, -0.12]], dtype=float32)\n"
     ]
    }
   ],
   "source": [
    "# 評価行列を作成\n",
    "R = coo_matrix((values, (rows, cols)))\n",
    "\n",
    "# coo_matrixをcsr_matrixに変換\n",
    "R = R.tocsr()\n",
    "\n",
    "# BPRモデルの訓練\n",
    "model = implicit.bpr.BayesianPersonalizedRanking(factors=20, regularization=0.1, iterations=50)\n",
    "model.fit(R)\n",
    "\n",
    "# ユーザーとアイテムの行列\n",
    "U = model.user_factors\n",
    "I = model.item_factors\n",
    "\n",
    "# 結果の表示\n",
    "pprint(U.round(2))\n",
    "pprint(I.round(2))"
   ]
  },
  {
   "cell_type": "markdown",
   "metadata": {},
   "source": [
    "## 実装例\n",
    "\n",
    "具体的な実装例として、movielens-100kデータセットを用いて、ALSおよびBPRモデルを構築する。以下にその手順を示す。\n",
    "\n",
    "### データの準備\n",
    "\n",
    "まず、データを読み込み、前処理を行う。"
   ]
  },
  {
   "cell_type": "code",
   "execution_count": 10,
   "metadata": {},
   "outputs": [],
   "source": [
    "import implicit\n",
    "import pandas as pd\n",
    "import numpy as np\n",
    "\n",
    "from scipy.sparse import coo_matrix\n",
    "from sklearn.model_selection import train_test_split\n",
    "\n",
    "# データの読み込みと前処理\n",
    "df = pd.read_csv(\"./ml-100k/u.data\", sep=\"\\t\", names=[\"user_id\", \"item_id\", \"rating\", \"timestamp\"])\n",
    "\n",
    "# トレーニングとテストデータに分割\n",
    "# stratifyをTrueに設定し、データ分割後も分布が同一になるようにする\n",
    "train, test = train_test_split(df, test_size=0.2, stratify=df[\"user_id\"], shuffle=True, random_state=seed)\n",
    "\n",
    "# 評価行列を作成\n",
    "train_matrix = coo_matrix((train[\"rating\"], (train[\"user_id\"], train[\"item_id\"])))\n",
    "test_matrix = coo_matrix((test[\"rating\"], (test[\"user_id\"], test[\"item_id\"])))\n",
    "\n",
    "# coo_matrixをcsr_matrixに変換\n",
    "train_matrix = train_matrix.tocsr()\n",
    "test_matrix = test_matrix.tocsr()"
   ]
  },
  {
   "cell_type": "markdown",
   "metadata": {},
   "source": [
    "### ALSモデルの訓練と評価\n",
    "\n",
    "次に、ALSモデルを訓練し、評価する。"
   ]
  },
  {
   "cell_type": "code",
   "execution_count": 11,
   "metadata": {},
   "outputs": [],
   "source": [
    "def get_precision(true_matrix, pred_matrix, k=10):\n",
    "    \"\"\"\n",
    "    精度を計算する関数\n",
    "\n",
    "    Parameters:\n",
    "    - true_matrix (coo_matrix): 実際の評価行列\n",
    "    - pred_matrix (ndarray): 予測された評価行列\n",
    "    - k (int): 精度を計算する際のtop_k itemの数\n",
    "\n",
    "    Returns:\n",
    "    - precision (float): 精度\n",
    "    \"\"\"\n",
    "    # 実際の評価行列をリストに変換\n",
    "    true_items = true_matrix.tolil().rows\n",
    "\n",
    "    # 予測されたアイテムのインデックスを取得\n",
    "    pred_items = np.argsort(-pred_matrix, axis=1)[:, :k]\n",
    "\n",
    "    # ユーザーごとの精度を計算\n",
    "    precisions = []\n",
    "    for user_id in range(len(true_items)):\n",
    "        true_set = set(true_items[user_id])\n",
    "        pred_set = set(pred_items[user_id])\n",
    "\n",
    "        if len(true_set) > 0:\n",
    "            precision = len(true_set & pred_set) / min(len(true_set), k)\n",
    "            precisions.append(precision)\n",
    "\n",
    "    # 平均精度を計算\n",
    "    return np.mean(precisions)"
   ]
  },
  {
   "cell_type": "code",
   "execution_count": null,
   "metadata": {},
   "outputs": [],
   "source": []
  },
  {
   "cell_type": "code",
   "execution_count": 12,
   "metadata": {},
   "outputs": [
    {
     "data": {
      "application/vnd.jupyter.widget-view+json": {
       "model_id": "bcb31048deeb4231b728fdf94220f688",
       "version_major": 2,
       "version_minor": 0
      },
      "text/plain": [
       "  0%|          | 0/50 [00:00<?, ?it/s]"
      ]
     },
     "metadata": {},
     "output_type": "display_data"
    },
    {
     "name": "stdout",
     "output_type": "stream",
     "text": [
      "ALSモデル Precision: 0.039\n"
     ]
    }
   ],
   "source": [
    "# ALSモデルの訓練\n",
    "als_model = implicit.als.AlternatingLeastSquares(factors=20, regularization=0.1, iterations=50)\n",
    "als_model.fit(train_matrix)\n",
    "\n",
    "# テストデータに対する予測\n",
    "test_predictions = als_model.recommend_all(test_matrix)\n",
    "\n",
    "\n",
    "# 使用例\n",
    "true_matrix = test_matrix  # テストデータの実際の評価行列\n",
    "pred_matrix = als_model.recommend_all(test_matrix)  # ALSモデルによる予測\n",
    "\n",
    "precision = get_precision(true_matrix, pred_matrix)\n",
    "print(f\"ALSモデル Precision: {precision:.3f}\")"
   ]
  },
  {
   "cell_type": "markdown",
   "metadata": {},
   "source": [
    "### BPRモデルの訓練と評価\n",
    "\n",
    "同様に、BPRモデルを訓練し、評価する。"
   ]
  },
  {
   "cell_type": "code",
   "execution_count": 13,
   "metadata": {},
   "outputs": [
    {
     "data": {
      "application/vnd.jupyter.widget-view+json": {
       "model_id": "3c7358bbb91946bbaed7043a57bc9804",
       "version_major": 2,
       "version_minor": 0
      },
      "text/plain": [
       "  0%|          | 0/50 [00:00<?, ?it/s]"
      ]
     },
     "metadata": {},
     "output_type": "display_data"
    },
    {
     "name": "stdout",
     "output_type": "stream",
     "text": [
      "BPRモデル Precision : 0.039\n"
     ]
    }
   ],
   "source": [
    "# BPRモデルの訓練\n",
    "bpr_model = implicit.bpr.BayesianPersonalizedRanking(factors=20, regularization=0.1, iterations=50)\n",
    "bpr_model.fit(train_matrix)\n",
    "\n",
    "# テストデータに対する予測\n",
    "test_predictions = bpr_model.recommend_all(test_matrix)\n",
    "\n",
    "# 精度の評価\n",
    "precision = get_precision(test_matrix, test_predictions)\n",
    "print(f\"BPRモデル Precision : {precision:.3f}\")"
   ]
  },
  {
   "cell_type": "markdown",
   "metadata": {},
   "source": [
    "## 結論\n",
    "\n",
    "この記事では、implicitライブラリを用いてALSおよびBPRアルゴリズムを実装し、movielens-100kデータセットでの具体例を紹介した。\n",
    "基本的には自分用のメモだが、誰かの参考人になれば幸いである。\n",
    "\n",
    "### 参考文献\n",
    "\n",
    "- \"Collaborative Filtering for Implicit Feedback Datasets\", Hu, Y., Koren, Y., and Volinsky, C., 2008.\n",
    "- \"BPR: Bayesian Personalized Ranking from Implicit Feedback\", Rendle, S., Freudenthaler, C., Gantner, Z., and Schmidt-Thieme, L., 2009.\n",
    "- Movielens Dataset: https://grouplens.org/datasets/movielens/100k/"
   ]
  },
  {
   "cell_type": "markdown",
   "metadata": {},
   "source": [
    "## メモ\n",
    "\n",
    "LIL形式の疎行列を作成 (3x3の行列)"
   ]
  },
  {
   "cell_type": "code",
   "execution_count": 14,
   "metadata": {},
   "outputs": [
    {
     "name": "stdout",
     "output_type": "stream",
     "text": [
      "  (0, 0)\t1\n",
      "  (1, 2)\t3\n",
      "  (2, 0)\t4\n"
     ]
    }
   ],
   "source": [
    "import numpy as np\n",
    "from scipy.sparse import lil_matrix\n",
    "\n",
    "# Numpy配列の作成\n",
    "dense_array = np.array([[1, 0, 0], [0, 0, 3], [4, 0, 0]])\n",
    "\n",
    "# Numpy配列をLIL形式の疎行列に変換\n",
    "lil_matrix = lil_matrix(dense_array)\n",
    "\n",
    "print(lil_matrix)"
   ]
  }
 ],
 "metadata": {
  "kernelspec": {
   "display_name": "Python 3",
   "language": "python",
   "name": "python3"
  },
  "language_info": {
   "codemirror_mode": {
    "name": "ipython",
    "version": 3
   },
   "file_extension": ".py",
   "mimetype": "text/x-python",
   "name": "python",
   "nbconvert_exporter": "python",
   "pygments_lexer": "ipython3",
   "version": "3.9.17"
  },
  "widgets": {
   "state": {},
   "version": "1.1.2"
  }
 },
 "nbformat": 4,
 "nbformat_minor": 2
}
