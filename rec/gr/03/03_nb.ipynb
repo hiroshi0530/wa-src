{
 "cells": [
  {
   "cell_type": "markdown",
   "metadata": {},
   "source": [
    "# メモリベース協調フィルタリング\n",
    "\n",
    "## 概要\n",
    "\n",
    "メモリベース協調フィルタリングは、ユーザやアイテムの過去のデータを元に推薦を行う技術である。\n",
    "\n",
    "主にユーザベースとアイテムベースの二つの手法があり、これらは推薦システムで広く利用されている。\n",
    "\n",
    "この記事では、メモリベース協調フィルタリングの定義や性質、具体的な応用例について数式とPythonのコードを用いて詳述する。\n",
    "\n",
    "あくまでも個人的な備忘録である。\n",
    "\n",
    "## ソースコード\n",
    "\n",
    "### github\n",
    "- jupyter notebook形式のファイルは[こちら](https://github.com/hiroshi0530/wa-src/blob/master/rec/gr/03/03_nb.ipynb)\n",
    "\n",
    "### google colaboratory\n",
    "- google colaboratory で実行する場合は[こちら](https://colab.research.google.com/github/hiroshi0530/wa-src/blob/master/rec/gr/03/03_nb.ipynb)\n",
    "\n",
    "\n",
    "## 実行環境\n",
    "OSはmacOSである。LinuxやUnixのコマンドとはオプションが異なりますので注意していただきたい。"
   ]
  },
  {
   "cell_type": "code",
   "execution_count": 1,
   "metadata": {},
   "outputs": [
    {
     "name": "stdout",
     "output_type": "stream",
     "text": [
      "ProductName:\t\tmacOS\n",
      "ProductVersion:\t\t13.5.1\n",
      "BuildVersion:\t\t22G90\n"
     ]
    }
   ],
   "source": [
    "!sw_vers"
   ]
  },
  {
   "cell_type": "code",
   "execution_count": 2,
   "metadata": {},
   "outputs": [
    {
     "name": "stdout",
     "output_type": "stream",
     "text": [
      "Python 3.9.17\n"
     ]
    }
   ],
   "source": [
    "!python -V"
   ]
  },
  {
   "cell_type": "markdown",
   "metadata": {},
   "source": [
    "pandasのテーブルを見やすいようにHTMLのテーブルにCSSの設定を行います。"
   ]
  },
  {
   "cell_type": "code",
   "execution_count": 3,
   "metadata": {},
   "outputs": [
    {
     "data": {
      "text/html": [
       "\n",
       "<style>\n",
       "    .dataframe thead tr:only-child th {\n",
       "        text-align: right;\n",
       "    }\n",
       "\n",
       "    .dataframe thead th {\n",
       "        text-align: left;\n",
       "        padding: 5px;\n",
       "    }\n",
       "\n",
       "    .dataframe tbody tr th {\n",
       "        vertical-align: top;\n",
       "        padding: 5px;\n",
       "    }\n",
       "\n",
       "    .dataframe tbody tr:hover {\n",
       "        background-color: #ffff99;\n",
       "    }\n",
       "\n",
       "    .dataframe {\n",
       "        background-color: white;\n",
       "        color: black;\n",
       "        font-size: 16px;\n",
       "    }\n",
       "\n",
       "</style>\n"
      ],
      "text/plain": [
       "<IPython.core.display.HTML object>"
      ]
     },
     "execution_count": 3,
     "metadata": {},
     "output_type": "execute_result"
    }
   ],
   "source": [
    "from IPython.core.display import HTML\n",
    "\n",
    "style = \"\"\"\n",
    "<style>\n",
    "    .dataframe thead tr:only-child th {\n",
    "        text-align: right;\n",
    "    }\n",
    "\n",
    "    .dataframe thead th {\n",
    "        text-align: left;\n",
    "        padding: 5px;\n",
    "    }\n",
    "\n",
    "    .dataframe tbody tr th {\n",
    "        vertical-align: top;\n",
    "        padding: 5px;\n",
    "    }\n",
    "\n",
    "    .dataframe tbody tr:hover {\n",
    "        background-color: #ffff99;\n",
    "    }\n",
    "\n",
    "    .dataframe {\n",
    "        background-color: white;\n",
    "        color: black;\n",
    "        font-size: 16px;\n",
    "    }\n",
    "\n",
    "</style>\n",
    "\"\"\"\n",
    "HTML(style)"
   ]
  },
  {
   "cell_type": "markdown",
   "metadata": {},
   "source": [
    "基本的なライブラリをインポートし watermark を利用してそのバージョンを確認しておきます。\n",
    "ついでに乱数のseedの設定をします。"
   ]
  },
  {
   "cell_type": "code",
   "execution_count": 4,
   "metadata": {},
   "outputs": [],
   "source": [
    "%matplotlib inline\n",
    "%config InlineBackend.figure_format = 'svg'"
   ]
  },
  {
   "cell_type": "code",
   "execution_count": 5,
   "metadata": {},
   "outputs": [
    {
     "name": "stdout",
     "output_type": "stream",
     "text": [
      "Python implementation: CPython\n",
      "Python version       : 3.9.17\n",
      "IPython version      : 8.17.2\n",
      "\n",
      "numpy: 1.25.2\n",
      "\n",
      "Watermark: 2.4.3\n",
      "\n"
     ]
    }
   ],
   "source": [
    "import random\n",
    "import numpy as np\n",
    "\n",
    "from pprint import pprint\n",
    "\n",
    "seed = 123\n",
    "random_state = 123\n",
    "\n",
    "random.seed(seed)\n",
    "np.random.seed(seed)\n",
    "\n",
    "\n",
    "from watermark import watermark\n",
    "\n",
    "print(watermark(python=True, watermark=True, iversions=True, globals_=globals()))"
   ]
  },
  {
   "cell_type": "markdown",
   "metadata": {},
   "source": [
    "\n",
    "## メモリベース協調フィルタリングの定義\n",
    "\n",
    "メモリベース協調フィルタリング（Memory-based Collaborative Filtering）は、過去のユーザの行動データを用いて、将来のユーザの行動を予測する手法である。主に以下の二つの手法が存在する。\n",
    "\n",
    "1. **ユーザベース協調フィルタリング**：他の類似したユーザの行動を基に推薦を行う手法。\n",
    "2. **アイテムベース協調フィルタリング**：ユーザが過去に評価したアイテムに類似したアイテムを推薦する手法。\n",
    "\n",
    "### ユーザベース協調フィルタリング\n",
    "\n",
    "ユーザベース協調フィルタリングでは、まずユーザ間の類似度を計算する。その後、類似度の高いユーザの評価を用いて、対象ユーザに対する推薦を行う。ユーザ間の類似度の計算には、コサイン類似度やピアソン相関係数が用いられる。\n",
    "\n",
    "#### コサイン類似度\n",
    "\n",
    "ユーザ $u$ と $v$ の評価ベクトルをそれぞれ $\\mathbf{r}_u$ と $\\mathbf{r}_v$ とすると、cos類似度は次のように定義される。\n",
    "\n",
    "$$\n",
    "\\text{cosine}(u, v) = \\frac{\\mathbf{r}_u \\cdot \\mathbf{r}_v}{\\|\\mathbf{r}_u\\| \\|\\mathbf{r}_v\\|}\n",
    "$$\n",
    "\n",
    "#### ピアソン相関係数\n",
    "\n",
    "ピアソン相関係数は次のように定義される。\n",
    "\n",
    "$$\n",
    "\\text{pearson}(u, v) = \\frac{\\sum\\_{i \\in I_{uv}} (r_{ui} - \\overline{r}\\_u)(r_{vi} - \\overline{r}\\_v)}{\\sqrt{\\sum\\_{i \\in I_{uv}} (r_{ui} - \\overline{r}_u)^2} \\sqrt{\\sum\\_{i \\in I\\_{uv}} (r\\_{vi} - \\overline{r}\\_v)^2}}\n",
    "$$\n",
    "\n",
    "\n",
    "ここで、$I_{uv}$ はユーザ $u$ と $v$ が両方評価したアイテムの集合であり、$\\overline{r}_u$ と $\\overline{r}_v$ はそれぞれユーザ $u$ と $v$ の評価値である。\n",
    "\n",
    "### アイテムベース協調フィルタリング\n",
    "\n",
    "アイテムベース協調フィルタリングでは、まずアイテム間の類似度を計算する。その後、ユーザが過去に評価したアイテムに類似するアイテムを推薦する。アイテム間の類似度の計算にも、cos類似度やピアソン相関係数が用いられる。\n",
    "\n",
    "## メモリベース協調フィルタリングの実装例\n",
    "\n",
    "以下に、Pythonを用いたユーザベース協調フィルタリングの実装例を示す。ここでは、コサイン類似度を用いてユーザ間の類似度を計算し、推薦を行う。\n",
    "\n",
    "### データセットの準備\n",
    "\n",
    "まず、適当なサンプルのデータセットを準備する。ここでは、ml-100kにならい映画の評価データを仮定する。\n",
    "\n"
   ]
  },
  {
   "cell_type": "code",
   "execution_count": 6,
   "metadata": {},
   "outputs": [
    {
     "ename": "NameError",
     "evalue": "name 'pd' is not defined",
     "output_type": "error",
     "traceback": [
      "\u001b[0;31m---------------------------------------------------------------------------\u001b[0m",
      "\u001b[0;31mNameError\u001b[0m                                 Traceback (most recent call last)",
      "Cell \u001b[0;32mIn[6], line 8\u001b[0m\n\u001b[1;32m      1\u001b[0m \u001b[38;5;66;03m# 適当なサンプルデータの作成\u001b[39;00m\n\u001b[1;32m      2\u001b[0m ratings_dict \u001b[38;5;241m=\u001b[39m {\n\u001b[1;32m      3\u001b[0m     \u001b[38;5;124m\"\u001b[39m\u001b[38;5;124muser_id\u001b[39m\u001b[38;5;124m\"\u001b[39m: [\u001b[38;5;241m1\u001b[39m, \u001b[38;5;241m1\u001b[39m, \u001b[38;5;241m1\u001b[39m, \u001b[38;5;241m2\u001b[39m, \u001b[38;5;241m2\u001b[39m, \u001b[38;5;241m3\u001b[39m, \u001b[38;5;241m3\u001b[39m, \u001b[38;5;241m4\u001b[39m],\n\u001b[1;32m      4\u001b[0m     \u001b[38;5;124m\"\u001b[39m\u001b[38;5;124mmovie_id\u001b[39m\u001b[38;5;124m\"\u001b[39m: [\u001b[38;5;241m1\u001b[39m, \u001b[38;5;241m2\u001b[39m, \u001b[38;5;241m3\u001b[39m, \u001b[38;5;241m2\u001b[39m, \u001b[38;5;241m3\u001b[39m, \u001b[38;5;241m1\u001b[39m, \u001b[38;5;241m3\u001b[39m, \u001b[38;5;241m1\u001b[39m],\n\u001b[1;32m      5\u001b[0m     \u001b[38;5;124m\"\u001b[39m\u001b[38;5;124mrating\u001b[39m\u001b[38;5;124m\"\u001b[39m: [\u001b[38;5;241m2\u001b[39m, \u001b[38;5;241m5\u001b[39m, \u001b[38;5;241m1\u001b[39m, \u001b[38;5;241m3\u001b[39m, \u001b[38;5;241m1\u001b[39m, \u001b[38;5;241m5\u001b[39m, \u001b[38;5;241m4\u001b[39m, \u001b[38;5;241m3\u001b[39m],\n\u001b[1;32m      6\u001b[0m }\n\u001b[0;32m----> 8\u001b[0m ratings_df \u001b[38;5;241m=\u001b[39m \u001b[43mpd\u001b[49m\u001b[38;5;241m.\u001b[39mDataFrame(ratings_dict)\n\u001b[1;32m     10\u001b[0m display(ratings_df)\n",
      "\u001b[0;31mNameError\u001b[0m: name 'pd' is not defined"
     ]
    }
   ],
   "source": [
    "# 適当なサンプルデータの作成\n",
    "ratings_dict = {\n",
    "    \"user_id\": [1, 1, 1, 2, 2, 3, 3, 4],\n",
    "    \"movie_id\": [1, 2, 3, 2, 3, 1, 3, 1],\n",
    "    \"rating\": [2, 5, 1, 3, 1, 5, 4, 3],\n",
    "}\n",
    "\n",
    "ratings_df = pd.DataFrame(ratings_dict)\n",
    "\n",
    "display(ratings_df)"
   ]
  },
  {
   "cell_type": "markdown",
   "metadata": {},
   "source": [
    "### ユーザ間の類似度の計算\n",
    "\n",
    "次に、ユーザ間のcos類似度を計算する。\n",
    "\n",
    "scikit-learnのcosine_similarity関数を用いると、簡単にユーザ間のcos類似度を簡単に計算できる。\n",
    "それぞれのユーザーがそれぞれの映画に対して評価を行っているので、ユーザーを行、映画を列とした行列を作成する。pivot_tableを使うと簡単に作成できる。"
   ]
  },
  {
   "cell_type": "code",
   "execution_count": null,
   "metadata": {},
   "outputs": [],
   "source": [
    "from sklearn.metrics.pairwise import cosine_similarity\n",
    "\n",
    "# ユーザごとの評価行列を作成\n",
    "user_movie_ratings = ratings_df.pivot(index=\"user_id\", columns=\"movie_id\", values=\"rating\").fillna(0)\n",
    "\n",
    "display(user_movie_ratings)"
   ]
  },
  {
   "cell_type": "code",
   "execution_count": null,
   "metadata": {},
   "outputs": [],
   "source": [
    "# cos類似度を計算\n",
    "user_similarities = cosine_similarity(user_movie_ratings)\n",
    "\n",
    "# データフレームに変換\n",
    "user_similarities_df = pd.DataFrame(user_similarities, index=user_movie_ratings.index, columns=user_movie_ratings.index)\n",
    "\n",
    "display(user_similarities_df.round(2))"
   ]
  },
  {
   "cell_type": "markdown",
   "metadata": {},
   "source": [
    "### 推薦の実施\n",
    "\n",
    "類似度の高いユーザの評価を基に、対象ユーザへの推薦を行う。"
   ]
  },
  {
   "cell_type": "code",
   "execution_count": null,
   "metadata": {},
   "outputs": [],
   "source": [
    "def recommend_movies(user_id, user_similarities_df, user_movie_ratings, num_recommendations=5):\n",
    "    similar_user_list = user_similarities_df[user_id].sort_values(ascending=False).index[1:]\n",
    "    user_ratings = user_movie_ratings.loc[user_id]\n",
    "    weighted_ratings = np.zeros(user_movie_ratings.shape[1])\n",
    "\n",
    "    for similar_user in similar_user_list:\n",
    "        similar_user_ratings = user_movie_ratings.loc[similar_user]\n",
    "        weight = user_similarities_df.loc[user_id, similar_user]\n",
    "        weighted_ratings += weight * similar_user_ratings\n",
    "\n",
    "    recommended_movies = np.argsort(weighted_ratings - user_ratings.values)[::-1]\n",
    "    return recommended_movies[:num_recommendations]\n",
    "\n",
    "\n",
    "user_id = 1\n",
    "\n",
    "recommendations = recommend_movies(user_id, user_similarities_df, user_movie_ratings)\n",
    "\n",
    "print(f\"Recommended movies for user {user_id}: {recommendations}\")"
   ]
  },
  {
   "cell_type": "markdown",
   "metadata": {},
   "source": [
    "## 応用例\n",
    "\n",
    "メモリベース協調フィルタリングは、以下のような場面で応用されている。\n",
    "\n",
    "- **映画や音楽の推薦**：NetflixやSpotifyなどのサービスで利用されている。\n",
    "- **eコマースサイトの推薦**：Amazonや楽天などで、ユーザに対する商品推薦に利用されている。\n",
    "- **ソーシャルネットワークの友人推薦**：FacebookやLinkedInなどで、友人推薦に利用されている。\n",
    "\n",
    "## 結論\n",
    "\n",
    "この記事では、非常に簡単にではあるが、メモリベース協調フィルタリングの定義や性質、具体的な応用例について数式とPythonのコードを用いて詳述した。\n",
    "\n",
    "メモリベース協調フィルタリングは、過去のユーザデータを基に推薦を行うシンプルかつ強力な手法であり、多くの分野で応用されている。\n",
    "\n",
    "しかし、データがスパースな場合やコールドスタート問題などの課題も存在する。これらの課題を解決するためには、より高度な手法やハイブリッドな手法を検討する必要がある。"
   ]
  }
 ],
 "metadata": {
  "kernelspec": {
   "display_name": "Python 3",
   "language": "python",
   "name": "python3"
  },
  "language_info": {
   "codemirror_mode": {
    "name": "ipython",
    "version": 3
   },
   "file_extension": ".py",
   "mimetype": "text/x-python",
   "name": "python",
   "nbconvert_exporter": "python",
   "pygments_lexer": "ipython3",
   "version": "3.9.17"
  },
  "widgets": {
   "state": {},
   "version": "1.1.2"
  }
 },
 "nbformat": 4,
 "nbformat_minor": 2
}
