{
 "cells": [
  {
   "cell_type": "markdown",
   "metadata": {},
   "source": [
    "# 内容ベース協調フィルタリング\n",
    "\n",
    "## 概要\n",
    "\n",
    "この記事では、内容ベース協調フィルタリングについて解説する。内容ベース協調フィルタリングの定義や性質、応用例について数式とPythonのコードを用いて具体例を示す。\n",
    "\n",
    "また、メリットとデメリットについても言及する。\n",
    "\n",
    "さらに、具体例として「movielens-100k」データセットを利用した実装例を示す。\n",
    "\n",
    "あくまでも個人的な備忘録であるので注意。\n",
    "\n",
    "\n",
    "## ソースコード\n",
    "\n",
    "\n",
    "### github\n",
    "- jupyter notebook形式のファイルは[こちら](https://github.com/hiroshi0530/wa-src/blob/master/rec/gr/04/04_nb.ipynb)\n",
    "\n",
    "### google colaboratory\n",
    "- google colaboratory で実行する場合は[こちら](https://colab.research.google.com/github/hiroshi0530/wa-src/blob/master/rec/gr/04/04_nb.ipynb)\n",
    "\n",
    "\n",
    "## 実行環境\n",
    "OSはmacOSである。LinuxやUnixのコマンドとはオプションが異なりますので注意していただきたい。"
   ]
  },
  {
   "cell_type": "code",
   "execution_count": 1,
   "metadata": {},
   "outputs": [
    {
     "name": "stdout",
     "output_type": "stream",
     "text": [
      "ProductName:\t\tmacOS\n",
      "ProductVersion:\t\t13.5.1\n",
      "BuildVersion:\t\t22G90\n"
     ]
    }
   ],
   "source": [
    "!sw_vers"
   ]
  },
  {
   "cell_type": "code",
   "execution_count": 2,
   "metadata": {},
   "outputs": [
    {
     "name": "stdout",
     "output_type": "stream",
     "text": [
      "Python 3.9.17\n"
     ]
    }
   ],
   "source": [
    "!python -V"
   ]
  },
  {
   "cell_type": "markdown",
   "metadata": {},
   "source": [
    "pandasのテーブルを見やすいようにHTMLのテーブルにCSSの設定を行います。"
   ]
  },
  {
   "cell_type": "code",
   "execution_count": 3,
   "metadata": {},
   "outputs": [
    {
     "data": {
      "text/html": [
       "\n",
       "<style>\n",
       "    .dataframe thead tr:only-child th {\n",
       "        text-align: right;\n",
       "    }\n",
       "\n",
       "    .dataframe thead th {\n",
       "        text-align: left;\n",
       "        padding: 5px;\n",
       "    }\n",
       "\n",
       "    .dataframe tbody tr th {\n",
       "        vertical-align: top;\n",
       "        padding: 5px;\n",
       "    }\n",
       "\n",
       "    .dataframe tbody tr:hover {\n",
       "        background-color: #ffff99;\n",
       "    }\n",
       "\n",
       "    .dataframe {\n",
       "        background-color: white;\n",
       "        color: black;\n",
       "        font-size: 16px;\n",
       "    }\n",
       "\n",
       "</style>\n"
      ],
      "text/plain": [
       "<IPython.core.display.HTML object>"
      ]
     },
     "execution_count": 3,
     "metadata": {},
     "output_type": "execute_result"
    }
   ],
   "source": [
    "from IPython.core.display import HTML\n",
    "\n",
    "style = \"\"\"\n",
    "<style>\n",
    "    .dataframe thead tr:only-child th {\n",
    "        text-align: right;\n",
    "    }\n",
    "\n",
    "    .dataframe thead th {\n",
    "        text-align: left;\n",
    "        padding: 5px;\n",
    "    }\n",
    "\n",
    "    .dataframe tbody tr th {\n",
    "        vertical-align: top;\n",
    "        padding: 5px;\n",
    "    }\n",
    "\n",
    "    .dataframe tbody tr:hover {\n",
    "        background-color: #ffff99;\n",
    "    }\n",
    "\n",
    "    .dataframe {\n",
    "        background-color: white;\n",
    "        color: black;\n",
    "        font-size: 16px;\n",
    "    }\n",
    "\n",
    "</style>\n",
    "\"\"\"\n",
    "HTML(style)"
   ]
  },
  {
   "cell_type": "markdown",
   "metadata": {},
   "source": [
    "基本的なライブラリをインポートし watermark を利用してそのバージョンを確認しておきます。\n",
    "ついでに乱数のseedの設定をします。"
   ]
  },
  {
   "cell_type": "code",
   "execution_count": 4,
   "metadata": {},
   "outputs": [],
   "source": [
    "%matplotlib inline\n",
    "%config InlineBackend.figure_format = 'svg'"
   ]
  },
  {
   "cell_type": "code",
   "execution_count": 5,
   "metadata": {},
   "outputs": [
    {
     "name": "stdout",
     "output_type": "stream",
     "text": [
      "Python implementation: CPython\n",
      "Python version       : 3.9.17\n",
      "IPython version      : 8.17.2\n",
      "\n",
      "pandas: 2.0.3\n",
      "numpy : 1.25.2\n",
      "\n",
      "Watermark: 2.4.3\n",
      "\n"
     ]
    }
   ],
   "source": [
    "import random\n",
    "\n",
    "import numpy as np\n",
    "import pandas as pd\n",
    "\n",
    "from pprint import pprint\n",
    "\n",
    "seed = 123\n",
    "random_state = 123\n",
    "\n",
    "random.seed(seed)\n",
    "np.random.seed(seed)\n",
    "\n",
    "\n",
    "from watermark import watermark\n",
    "\n",
    "print(watermark(python=True, watermark=True, iversions=True, globals_=globals()))"
   ]
  },
  {
   "cell_type": "markdown",
   "metadata": {},
   "source": [
    "\n",
    "## 内容ベース協調フィルタリングの定義\n",
    "\n",
    "内容ベース協調フィルタリング(Content-Based Collaborative Filtering)は、アイテムやユーザーの特徴情報に基づいて推薦を行う手法である。従来の協調フィルタリングとは異なり、アイテムやユーザーのメタデータを活用し、ユーザーの過去の行動や嗜好を分析して類似するアイテムを推薦する。\n",
    "\n",
    "## 数式と具体例\n",
    "\n",
    "内容ベース協調フィルタリングでは、アイテムの特徴ベクトルを用いる。例えば、映画の推薦システムでは、映画のジャンル、出演者、監督などの情報が特徴ベクトルとなる。ユーザーの嗜好ベクトルとアイテムの特徴ベクトルの類似度を計算し、高い類似度のアイテムを推薦する。\n",
    "\n",
    "### 特徴ベクトルの表現\n",
    "\n",
    "アイテム $i$ の特徴ベクトルを $\\mathbf{x}_i$、ユーザー $u$ の嗜好ベクトルを $\\mathbf{y}_u$ とする。類似度計算にはコサイン類似度を用いる。\n",
    "\n",
    "$$\n",
    "\\text{sim}(\\mathbf{x}_i, \\mathbf{y}_u) = \\frac{\\mathbf{x}_i \\cdot \\mathbf{y}_u}{\\|\\mathbf{x}_i\\| \\|\\mathbf{y}_u\\|}\n",
    "$$\n",
    "\n",
    "ここで、$\\mathbf{x}_i \\cdot \\mathbf{y}_u$ は内積、$\\|\\mathbf{x}_i\\|$ と $\\|\\mathbf{y}_u\\|$ はそれぞれのベクトルのノルムを表す。\n",
    "\n",
    "### Pythonコードによる実装例\n",
    "\n",
    "以下に、映画推薦システムの簡単な実装例を示す。ここでは、映画の特徴ベクトルとユーザーの嗜好ベクトルを使ってコサイン類似度を計算する。\n",
    "\n"
   ]
  },
  {
   "cell_type": "code",
   "execution_count": 9,
   "metadata": {},
   "outputs": [
    {
     "name": "stdout",
     "output_type": "stream",
     "text": [
      "{'movie_1': 1.0, 'movie_2': 0.0, 'movie_3': 0.5}\n"
     ]
    }
   ],
   "source": [
    "import numpy as np\n",
    "\n",
    "from sklearn.metrics.pairwise import cosine_similarity\n",
    "\n",
    "from pprint import pprint\n",
    "\n",
    "# 仮の映画の特徴ベクトル\n",
    "# 適当なベクトルを設定\n",
    "movies = {\n",
    "    \"movie_1\": np.array([1, 0, 1]),\n",
    "    \"movie_2\": np.array([0, 1, 0]),\n",
    "    \"movie_3\": np.array([1, 1, 0]),\n",
    "}\n",
    "\n",
    "# ユーザーの特徴ベクトル（嗜好ベクトル）\n",
    "user_preference = np.array([1, 0, 1])\n",
    "\n",
    "# cos類似度を計算\n",
    "similarity_dict = {}\n",
    "for movie, features in movies.items():\n",
    "    similarity = cosine_similarity([user_preference], [features])[0][0]\n",
    "    similarity_dict[movie] = round(similarity, 2)\n",
    "\n",
    "pprint(similarity_dict)"
   ]
  },
  {
   "cell_type": "markdown",
   "metadata": {},
   "source": [
    "このコードでは、ユーザーの嗜好ベクトルと各映画の特徴ベクトルのコサイン類似度を計算し、類似度が高い映画を推薦する。\n",
    "\n",
    "## 応用例\n",
    "\n",
    "内容ベース協調フィルタリングは、以下のような領域で応用される。\n",
    "\n",
    "- **映画や音楽の推薦システム**: ユーザーの視聴履歴や評価に基づいて、新しい映画や音楽を推薦する。\n",
    "- **ECサイト**: ユーザーの購入履歴や閲覧履歴を分析し、関連商品を推薦する。\n",
    "- **ニュース記事の推薦**: ユーザーの過去の閲覧履歴に基づいて、興味のあるニュース記事を推薦する。\n",
    "\n",
    "## メリットとデメリット\n",
    "\n",
    "### メリット\n",
    "\n",
    "- **コールドスタート問題への対応**: 新規アイテムでも特徴ベクトルが利用できるため、推薦が可能である。\n",
    "- **ユーザーの嗜好に基づいた推薦**: ユーザーの個別の嗜好を反映した推薦が可能である。\n",
    "\n",
    "### デメリット\n",
    "\n",
    "- **過学習のリスク**: ユーザーの過去の嗜好に過度に依存すると、新しいアイテムが推薦されにくくなる。\n",
    "- **計算コスト**: 特徴ベクトルの計算や類似度計算に時間がかかる場合がある。\n",
    "\n",
    "## 具体例の計算\n",
    "\n",
    "ここでは、「movielens-100k」データセットを使用して映画推薦システムを実装する。\n",
    "\n",
    "### データセットの準備\n",
    "\n",
    "まず、「movielens-100k」データセットをロードし、映画の特徴ベクトルとユーザーの嗜好ベクトルを準備する。"
   ]
  },
  {
   "cell_type": "code",
   "execution_count": 55,
   "metadata": {},
   "outputs": [
    {
     "name": "stdout",
     "output_type": "stream",
     "text": [
      "TF-IDF matrix shape: (1682, 20)\n",
      "Feature names: ['action' 'adventure' 'animation' 'children' 'comedy' 'crime'\n",
      " 'documentary' 'drama' 'fantasy' 'fi' 'film' 'horror' 'musical' 'mystery'\n",
      " 'noir' 'romance' 'sci' 'thriller' 'war' 'western']\n"
     ]
    }
   ],
   "source": [
    "import pandas as pd\n",
    "import numpy as np\n",
    "from sklearn.feature_extraction.text import TfidfVectorizer\n",
    "from sklearn.metrics.pairwise import cosine_similarity\n",
    "\n",
    "# データセットの読み込み\n",
    "movies_df = pd.read_csv(\n",
    "    \"./ml-100k/u.item\",\n",
    "    sep=\"|\",\n",
    "    encoding=\"latin-1\",\n",
    "    header=None,\n",
    "    names=[\n",
    "        \"movie_id\",\n",
    "        \"title\",\n",
    "        \"release_date\",\n",
    "        \"video_release_date\",\n",
    "        \"IMDb_URL\",\n",
    "        \"unknown\",\n",
    "        \"Action\",\n",
    "        \"Adventure\",\n",
    "        \"Animation\",\n",
    "        \"Children's\",\n",
    "        \"Comedy\",\n",
    "        \"Crime\",\n",
    "        \"Documentary\",\n",
    "        \"Drama\",\n",
    "        \"Fantasy\",\n",
    "        \"Film-Noir\",\n",
    "        \"Horror\",\n",
    "        \"Musical\",\n",
    "        \"Mystery\",\n",
    "        \"Romance\",\n",
    "        \"Sci-Fi\",\n",
    "        \"Thriller\",\n",
    "        \"War\",\n",
    "        \"Western\",\n",
    "    ],\n",
    ")\n",
    "ratings_df = pd.read_csv(\n",
    "    \"./ml-100k/u.data\", sep=\"\\t\", encoding=\"latin-1\", header=None, names=[\"user_id\", \"movie_id\", \"rating\", \"timestamp\"]\n",
    ")\n",
    "\n",
    "# ジャンル情報を文字列として結合\n",
    "movie_genres = movies_df.iloc[:, 6:]\n",
    "movie_genres_str = movie_genres.apply(lambda x: \" \".join(movie_genres.columns[x == 1]), axis=1)\n",
    "\n",
    "# TF-IDFベクトライザーを初期化\n",
    "tfidf = TfidfVectorizer()\n",
    "\n",
    "# TF-IDFベクトルを作成\n",
    "try:\n",
    "    tfidf_matrix = tfidf.fit_transform(movie_genres_str)\n",
    "    print(\"TF-IDF matrix shape:\", tfidf_matrix.shape)\n",
    "\n",
    "    # 特徴量の名前を表示\n",
    "    feature_names = tfidf.get_feature_names_out()\n",
    "    print(\"Feature names:\", feature_names)\n",
    "except ValueError as e:\n",
    "    print(e)"
   ]
  },
  {
   "cell_type": "code",
   "execution_count": 56,
   "metadata": {},
   "outputs": [
    {
     "name": "stdout",
     "output_type": "stream",
     "text": [
      "User 1 preferences length: 272\n",
      "      movie_id                                title\n",
      "3            4                    Get Shorty (1995)\n",
      "73          74  Faster Pussycat! Kill! Kill! (1965)\n",
      "1236      1237                       Twisted (1996)\n",
      "521        522                   Down by Law (1986)\n",
      "1456      1457          Love Is All There Is (1996)\n",
      "1011      1012                 Private Parts (1997)\n",
      "92          93      Welcome to the Dollhouse (1995)\n",
      "1459      1460                     Sleepover (1995)\n",
      "1271      1272             Talking About Sex (1994)\n",
      "346        347                   Wag the Dog (1997)\n"
     ]
    }
   ],
   "source": [
    "# ユーザーの嗜好ベクトルを作成\n",
    "user_preferences = ratings_df.groupby(\"user_id\")[\"movie_id\"].apply(list)\n",
    "\n",
    "\n",
    "# コサイン類似度を計算する関数\n",
    "def calculate_similarity(user_pref, tfidf_matrix):\n",
    "    user_vector = np.asarray(np.mean(tfidf_matrix[user_pref], axis=0))\n",
    "    similarities = cosine_similarity(user_vector, tfidf_matrix)\n",
    "    return similarities\n",
    "\n",
    "\n",
    "# ユーザー1の嗜好ベクトルと映画の類似度を計算\n",
    "user_1_pref = user_preferences[1]\n",
    "print(\"User 1 preferences length:\", len(user_1_pref))\n",
    "\n",
    "# 類似度を計算\n",
    "similarities = calculate_similarity(user_1_pref, tfidf_matrix)\n",
    "\n",
    "# 類似度が高い映画を表示\n",
    "similar_movies = np.argsort(similarities[0])[::-1][:10]\n",
    "recommended_movies = movies_df.iloc[similar_movies]\n",
    "print(recommended_movies[[\"movie_id\", \"title\"]])"
   ]
  },
  {
   "cell_type": "markdown",
   "metadata": {},
   "source": [
    "### 結果の解釈\n",
    "\n",
    "類似度が高い映画をユーザーに推薦する。例えば、ユーザー1に対して最も類似度が高い映画を表示する。\n",
    "\n",
    "## 結論\n",
    "\n",
    "この記事では、内容ベース協調フィルタリングについて詳述した。具体的な定義や数式、Pythonコードを用いた具体例を示し、メリットとデメリットを論じた。この手法は、映画や音楽の推薦、電子商取引、ニュース記事の推薦など、さまざまな分野で応用されている。\n",
    "\n",
    "参考文献:\n",
    "- Wikipedia: [Collaborative Filtering](https://en.wikipedia.org/wiki/Collaborative_filtering)\n",
    "- Scikit-learn: [Cosine Similarity](https://scikit-learn.org/stable/modules/generated/sklearn.metrics.pairwise.cosine_similarity.html)"
   ]
  },
  {
   "cell_type": "markdown",
   "metadata": {},
   "source": []
  },
  {
   "cell_type": "markdown",
   "metadata": {},
   "source": []
  }
 ],
 "metadata": {
  "kernelspec": {
   "display_name": "Python 3",
   "language": "python",
   "name": "python3"
  },
  "language_info": {
   "codemirror_mode": {
    "name": "ipython",
    "version": 3
   },
   "file_extension": ".py",
   "mimetype": "text/x-python",
   "name": "python",
   "nbconvert_exporter": "python",
   "pygments_lexer": "ipython3",
   "version": "3.9.17"
  },
  "widgets": {
   "state": {},
   "version": "1.1.2"
  }
 },
 "nbformat": 4,
 "nbformat_minor": 2
}
