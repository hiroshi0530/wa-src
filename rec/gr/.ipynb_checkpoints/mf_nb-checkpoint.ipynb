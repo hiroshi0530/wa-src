{
 "cells": [
  {
   "cell_type": "markdown",
   "metadata": {},
   "source": [
    "## [PyTorch] Matrix Factorization\n",
    "\n",
    "pytorchで行列分解(Matrix Factorization)をやってみる。\n",
    "\n",
    "\n",
    "### データセット\n",
    "\n",
    "### 評価指標\n",
    "#### ランキング上位\n",
    "- recall\n",
    "- precision\n",
    "- nDCG\n",
    "\n",
    "#### 多様性の評価\n",
    "- ユークリッド距離\n",
    "\n",
    "### model\n",
    "- MF\n",
    "- \n",
    "\n",
    "### github\n",
    "- jupyter notebook形式のファイルは[こちら](https://github.com/hiroshi0530/wa-src/blob/master/rec/gcn/base_nb.ipynb)\n",
    "\n",
    "### google colaboratory\n",
    "- google colaboratory で実行する場合は[こちら](https://colab.research.google.com/github/hiroshi0530/wa-src/blob/master/rec/gcn/base_nb.ipynb)\n",
    "\n",
    "### 筆者の環境"
   ]
  },
  {
   "cell_type": "code",
   "execution_count": 1,
   "metadata": {
    "vscode": {
     "languageId": "python"
    }
   },
   "outputs": [
    {
     "name": "stdout",
     "output_type": "stream",
     "text": [
      "ProductName:\tmacOS\n",
      "ProductVersion:\t11.6.7\n",
      "BuildVersion:\t20G630\n"
     ]
    }
   ],
   "source": [
    "!sw_vers"
   ]
  },
  {
   "cell_type": "code",
   "execution_count": 2,
   "metadata": {
    "vscode": {
     "languageId": "python"
    }
   },
   "outputs": [
    {
     "name": "stdout",
     "output_type": "stream",
     "text": [
      "Python 3.8.13\n"
     ]
    }
   ],
   "source": [
    "!python -V"
   ]
  },
  {
   "cell_type": "markdown",
   "metadata": {},
   "source": [
    "基本的なライブラリをインポートしそのバージョンを確認しておきます。\n",
    "学習をpytorchを利用し、ネットワーク関係はnetworkxを利用する。"
   ]
  },
  {
   "cell_type": "code",
   "execution_count": 7,
   "metadata": {
    "vscode": {
     "languageId": "python"
    }
   },
   "outputs": [
    {
     "name": "stdout",
     "output_type": "stream",
     "text": [
      "matplotlib  : 3.5.1\n",
      "networkdx   : 2.7.1\n",
      "numpy       : 1.22.3\n",
      "torch       : 1.12.0\n"
     ]
    }
   ],
   "source": [
    "%matplotlib inline\n",
    "%config InlineBackend.figure_format = 'svg'\n",
    "\n",
    "import json\n",
    "import math\n",
    "import numpy as np\n",
    "import matplotlib.pyplot as plt\n",
    "\n",
    "import networkx as nx\n",
    "\n",
    "from tabulate import tabulate\n",
    "\n",
    "import torch\n",
    "import torch.nn.functional as F\n",
    "import torch.optim as optim\n",
    "import torch.nn as nn\n",
    "\n",
    "import matplotlib\n",
    "\n",
    "print('matplotlib  : {}'.format(matplotlib.__version__))\n",
    "print('networkdx   : {}'.format(nx.__version__))\n",
    "print('numpy       : {}'.format(np.__version__))\n",
    "print('torch       : {}'.format(torch.__version__))"
   ]
  },
  {
   "cell_type": "code",
   "execution_count": 12,
   "metadata": {
    "vscode": {
     "languageId": "python"
    }
   },
   "outputs": [],
   "source": [
    "class MF(torch.nn.Module):\n",
    "    def __init__(self, n_users, n_items, n_factors=20):\n",
    "        super(MF, self).__init__()\n",
    "        self.user_factors = torch.nn.Embedding(n_users, n_factors, sparse=True)\n",
    "        self.item_factors = torch.nn.Embedding(n_items, n_factors, sparse=True)\n",
    "\n",
    "    def forward(self, user, item):\n",
    "        return (self.user_factors(user) * self.item_factors(item)).sum(1)\n",
    "\n",
    "n_users = 2000\n",
    "n_items = 2000\n",
    "\n",
    "model = MF(n_users, n_items, n_factors=128)"
   ]
  },
  {
   "cell_type": "code",
   "execution_count": 13,
   "metadata": {
    "vscode": {
     "languageId": "python"
    }
   },
   "outputs": [],
   "source": [
    "class MF(torch.nn.Module):\n",
    "\n",
    "    def __init__(self, n_users, n_items, latent_dim):\n",
    "        super(MF, self).__init__()\n",
    "\n",
    "        # define layers and loss\n",
    "        self.user_embedding = torch.nn.Embedding(num_embeddings=n_users, embedding_dim=latent_dim)\n",
    "        self.item_embedding = torch.nn.Embedding(num_embeddings=n_items, embedding_dim=latent_dim)\n",
    "\n",
    "    def forward(self):\n",
    "        all_embeddings = self.get_ego_embeddings()\n",
    "        embeddings_list = [all_embeddings]\n",
    "\n",
    "        for layer_idx in range(self.n_layers):\n",
    "            all_embeddings = torch.sparse.mm(self.norm_adj_matrix, all_embeddings)\n",
    "            embeddings_list.append(all_embeddings)\n",
    "\n",
    "        lightgcn_all_embeddings = torch.stack(embeddings_list, dim=1)\n",
    "        lightgcn_all_embeddings = torch.mean(lightgcn_all_embeddings, dim=1)\n",
    "\n",
    "        user_all_embeddings, item_all_embeddings = torch.split(lightgcn_all_embeddings, [self.n_users, self.n_items])\n",
    "        return user_all_embeddings, item_all_embeddings\n",
    "\n",
    "    def calculate_loss(self, interaction):\n",
    "        # clear the storage variable when training\n",
    "        if self.restore_user_e is not None or self.restore_item_e is not None:\n",
    "            self.restore_user_e, self.restore_item_e = None, None\n",
    "\n",
    "        user = interaction[self.USER_ID]\n",
    "        pos_item = interaction[self.ITEM_ID]\n",
    "        neg_item = interaction[self.NEG_ITEM_ID]\n",
    "\n",
    "        user_all_embeddings, item_all_embeddings = self.forward()\n",
    "        u_embeddings = user_all_embeddings[user]\n",
    "        pos_embeddings = item_all_embeddings[pos_item]\n",
    "        neg_embeddings = item_all_embeddings[neg_item]\n",
    "\n",
    "        # calculate BPR Loss\n",
    "        pos_scores = torch.mul(u_embeddings, pos_embeddings).sum(dim=1)\n",
    "        neg_scores = torch.mul(u_embeddings, neg_embeddings).sum(dim=1)\n",
    "        mf_loss = self.mf_loss(pos_scores, neg_scores)\n",
    "\n",
    "        # calculate BPR Loss\n",
    "        u_ego_embeddings = self.user_embedding(user)\n",
    "        pos_ego_embeddings = self.item_embedding(pos_item)\n",
    "        neg_ego_embeddings = self.item_embedding(neg_item)\n",
    "\n",
    "        reg_loss = self.reg_loss(u_ego_embeddings, pos_ego_embeddings, neg_ego_embeddings)\n",
    "        loss = mf_loss + self.reg_weight * reg_loss\n",
    "\n",
    "        return loss\n",
    "\n",
    "    def predict(self, interaction):\n",
    "        user = interaction[self.USER_ID]\n",
    "        item = interaction[self.ITEM_ID]\n",
    "\n",
    "        user_all_embeddings, item_all_embeddings = self.forward()\n",
    "\n",
    "        u_embeddings = user_all_embeddings[user]\n",
    "        i_embeddings = item_all_embeddings[item]\n",
    "        scores = torch.mul(u_embeddings, i_embeddings).sum(dim=1)\n",
    "        return scores\n",
    "\n",
    "n_users = 2000\n",
    "n_items = 2000\n",
    "latent_dim = 128\n",
    "model = MF(n_users, n_items, latent_dim)"
   ]
  },
  {
   "cell_type": "code",
   "execution_count": 14,
   "metadata": {
    "vscode": {
     "languageId": "python"
    }
   },
   "outputs": [
    {
     "ename": "TypeError",
     "evalue": "forward() missing 1 required positional argument: 'input'",
     "output_type": "error",
     "traceback": [
      "\u001b[0;31m---------------------------------------------------------------------------\u001b[0m",
      "\u001b[0;31mTypeError\u001b[0m                                 Traceback (most recent call last)",
      "Input \u001b[0;32mIn [14]\u001b[0m, in \u001b[0;36m<cell line: 1>\u001b[0;34m()\u001b[0m\n\u001b[0;32m----> 1\u001b[0m \u001b[43mmodel\u001b[49m\u001b[38;5;241;43m.\u001b[39;49m\u001b[43muser_embedding\u001b[49m\u001b[43m(\u001b[49m\u001b[43m)\u001b[49m\n",
      "File \u001b[0;32m~/anaconda3/envs/rec/lib/python3.8/site-packages/torch/nn/modules/module.py:1130\u001b[0m, in \u001b[0;36mModule._call_impl\u001b[0;34m(self, *input, **kwargs)\u001b[0m\n\u001b[1;32m   1126\u001b[0m \u001b[38;5;66;03m# If we don't have any hooks, we want to skip the rest of the logic in\u001b[39;00m\n\u001b[1;32m   1127\u001b[0m \u001b[38;5;66;03m# this function, and just call forward.\u001b[39;00m\n\u001b[1;32m   1128\u001b[0m \u001b[38;5;28;01mif\u001b[39;00m \u001b[38;5;129;01mnot\u001b[39;00m (\u001b[38;5;28mself\u001b[39m\u001b[38;5;241m.\u001b[39m_backward_hooks \u001b[38;5;129;01mor\u001b[39;00m \u001b[38;5;28mself\u001b[39m\u001b[38;5;241m.\u001b[39m_forward_hooks \u001b[38;5;129;01mor\u001b[39;00m \u001b[38;5;28mself\u001b[39m\u001b[38;5;241m.\u001b[39m_forward_pre_hooks \u001b[38;5;129;01mor\u001b[39;00m _global_backward_hooks\n\u001b[1;32m   1129\u001b[0m         \u001b[38;5;129;01mor\u001b[39;00m _global_forward_hooks \u001b[38;5;129;01mor\u001b[39;00m _global_forward_pre_hooks):\n\u001b[0;32m-> 1130\u001b[0m     \u001b[38;5;28;01mreturn\u001b[39;00m \u001b[43mforward_call\u001b[49m\u001b[43m(\u001b[49m\u001b[38;5;241;43m*\u001b[39;49m\u001b[38;5;28;43minput\u001b[39;49m\u001b[43m,\u001b[49m\u001b[43m \u001b[49m\u001b[38;5;241;43m*\u001b[39;49m\u001b[38;5;241;43m*\u001b[39;49m\u001b[43mkwargs\u001b[49m\u001b[43m)\u001b[49m\n\u001b[1;32m   1131\u001b[0m \u001b[38;5;66;03m# Do not call functions when jit is used\u001b[39;00m\n\u001b[1;32m   1132\u001b[0m full_backward_hooks, non_full_backward_hooks \u001b[38;5;241m=\u001b[39m [], []\n",
      "\u001b[0;31mTypeError\u001b[0m: forward() missing 1 required positional argument: 'input'"
     ]
    }
   ],
   "source": [
    "model.user_embedding()"
   ]
  },
  {
   "cell_type": "code",
   "execution_count": null,
   "metadata": {
    "vscode": {
     "languageId": "python"
    }
   },
   "outputs": [],
   "source": [
    "loss_function = nn.MSELoss()\n",
    "optimizer = optim.SGD(model.parameters(), lr=1e-2)"
   ]
  },
  {
   "cell_type": "code",
   "execution_count": null,
   "metadata": {
    "vscode": {
     "languageId": "python"
    }
   },
   "outputs": [],
   "source": [
    "from torch import autograd\n",
    "\n",
    "for epoch in range(10):  # 最大10反復\n",
    "    accum_loss = 0.\n",
    "\n",
    "    # 学習データのシャッフル\n",
    "    random.shuffle(samples_train)\n",
    "\n",
    "    for u, i, r in samples_train:\n",
    "        # PyTorchでは勾配は累積するのでサンプルごとに初期化\n",
    "        model.zero_grad()\n",
    "\n",
    "        # 入力値を `torch.Tensor` でラップして `autograd.Variable` 化\n",
    "        user = autograd.Variable(as_long_tensor(u))  # user index\n",
    "        item = autograd.Variable(as_long_tensor(i))  # item index\n",
    "        rating = autograd.Variable(as_float_tensor(r))  # target\n",
    "\n",
    "        # forward pass (prediction)\n",
    "        prediction = model(user, item)\n",
    "\n",
    "        # compute loss\n",
    "        loss = loss_function(prediction, rating)\n",
    "        accum_loss += loss.data[0]\n",
    "\n",
    "        # gradient of loss\n",
    "        loss.backward()\n",
    "\n",
    "        # update model parameters\n",
    "        optimizer.step()\n",
    "\n",
    "    print('MF (PyTorch)', epoch + 1, accum_loss)\n",
    "    if abs(accum_loss - last_accum_loss) < 1e-3:  # 収束判定\n",
    "        break\n",
    "    last_accum_loss = accum_loss"
   ]
  },
  {
   "cell_type": "code",
   "execution_count": null,
   "metadata": {
    "vscode": {
     "languageId": "python"
    }
   },
   "outputs": [],
   "source": [
    "for i in model.parameters():\n",
    "  print(i) "
   ]
  },
  {
   "cell_type": "code",
   "execution_count": null,
   "metadata": {
    "vscode": {
     "languageId": "python"
    }
   },
   "outputs": [],
   "source": []
  },
  {
   "cell_type": "code",
   "execution_count": null,
   "metadata": {
    "vscode": {
     "languageId": "python"
    }
   },
   "outputs": [],
   "source": [
    "\n",
    "o"
   ]
  },
  {
   "cell_type": "code",
   "execution_count": null,
   "metadata": {
    "vscode": {
     "languageId": "python"
    }
   },
   "outputs": [],
   "source": []
  },
  {
   "cell_type": "code",
   "execution_count": null,
   "metadata": {
    "vscode": {
     "languageId": "python"
    }
   },
   "outputs": [],
   "source": []
  },
  {
   "cell_type": "markdown",
   "metadata": {},
   "source": [
    "## 二部グラフの作成、L、A、D、正規化行列の計算\n",
    "\n",
    "わかりやすく、小さなグラフで作成する"
   ]
  },
  {
   "cell_type": "markdown",
   "metadata": {},
   "source": [
    "$$\n",
    "R_{u, i}=\\left\\lbrace\\begin{array}{lr}\n",
    "1, & \\text { if }(u, i) \\text { interaction is observed } \\\\\n",
    "0, & \\text { otherwise }\n",
    "\\end{array}\\right.\n",
    "$$\n",
    "\n",
    "$$\n",
    "\\begin{array}{|l|r|r|r|r|}\n",
    "\\hline & \\text { item_1 } & \\text { item_2 } & \\text { item_3 } & \\text { item_4 } \\\\\n",
    "\\hline \\text { user_1 } & 0 & 1 & 0 & 0 \\\\\n",
    "\\hline \\text { user_2 } & 0 & 0 & 1 & 1 \\\\\n",
    "\\hline \\text { user_3 } & 1 & 0 & 0 & 0 \\\\\n",
    "\\hline \\text { user_4 } & 0 & 1 & 0 & 0 \\\\\n",
    "\\hline \\text { user_5 } & 1 & 0 & 1 & 0 \\\\\n",
    "\\hline\n",
    "\\end{array}\n",
    "$$"
   ]
  },
  {
   "cell_type": "code",
   "execution_count": 52,
   "metadata": {
    "scrolled": true,
    "vscode": {
     "languageId": "python"
    }
   },
   "outputs": [
    {
     "data": {
      "image/svg+xml": [
       "<?xml version=\"1.0\" encoding=\"utf-8\" standalone=\"no\"?>\n",
       "<!DOCTYPE svg PUBLIC \"-//W3C//DTD SVG 1.1//EN\"\n",
       "  \"http://www.w3.org/Graphics/SVG/1.1/DTD/svg11.dtd\">\n",
       "<svg xmlns:xlink=\"http://www.w3.org/1999/xlink\" width=\"446.4pt\" height=\"302.4pt\" viewBox=\"0 0 446.4 302.4\" xmlns=\"http://www.w3.org/2000/svg\" version=\"1.1\">\n",
       " <metadata>\n",
       "  <rdf:RDF xmlns:dc=\"http://purl.org/dc/elements/1.1/\" xmlns:cc=\"http://creativecommons.org/ns#\" xmlns:rdf=\"http://www.w3.org/1999/02/22-rdf-syntax-ns#\">\n",
       "   <cc:Work>\n",
       "    <dc:type rdf:resource=\"http://purl.org/dc/dcmitype/StillImage\"/>\n",
       "    <dc:date>2022-05-29T23:51:36.718710</dc:date>\n",
       "    <dc:format>image/svg+xml</dc:format>\n",
       "    <dc:creator>\n",
       "     <cc:Agent>\n",
       "      <dc:title>Matplotlib v3.5.2, https://matplotlib.org/</dc:title>\n",
       "     </cc:Agent>\n",
       "    </dc:creator>\n",
       "   </cc:Work>\n",
       "  </rdf:RDF>\n",
       " </metadata>\n",
       " <defs>\n",
       "  <style type=\"text/css\">*{stroke-linejoin: round; stroke-linecap: butt}</style>\n",
       " </defs>\n",
       " <g id=\"figure_1\">\n",
       "  <g id=\"patch_1\">\n",
       "   <path d=\"M 0 302.4 \n",
       "L 446.4 302.4 \n",
       "L 446.4 0 \n",
       "L 0 0 \n",
       "z\n",
       "\" style=\"fill: #ffffff\"/>\n",
       "  </g>\n",
       "  <g id=\"axes_1\">\n",
       "   <g id=\"LineCollection_1\">\n",
       "    <path d=\"M 26.836364 20.290909 \n",
       "L 419.563636 20.290909 \n",
       "\" clip-path=\"url(#p5cac7c5000)\" style=\"fill: none; stroke: #000000\"/>\n",
       "    <path d=\"M 26.836364 20.290909 \n",
       "L 419.563636 282.109091 \n",
       "\" clip-path=\"url(#p5cac7c5000)\" style=\"fill: none; stroke: #000000\"/>\n",
       "    <path d=\"M 26.836364 107.563636 \n",
       "L 419.563636 20.290909 \n",
       "\" clip-path=\"url(#p5cac7c5000)\" style=\"fill: none; stroke: #000000\"/>\n",
       "    <path d=\"M 26.836364 107.563636 \n",
       "L 419.563636 107.563636 \n",
       "\" clip-path=\"url(#p5cac7c5000)\" style=\"fill: none; stroke: #000000\"/>\n",
       "    <path d=\"M 26.836364 107.563636 \n",
       "L 419.563636 282.109091 \n",
       "\" clip-path=\"url(#p5cac7c5000)\" style=\"fill: none; stroke: #000000\"/>\n",
       "    <path d=\"M 26.836364 194.836364 \n",
       "L 419.563636 20.290909 \n",
       "\" clip-path=\"url(#p5cac7c5000)\" style=\"fill: none; stroke: #000000\"/>\n",
       "    <path d=\"M 26.836364 194.836364 \n",
       "L 419.563636 282.109091 \n",
       "\" clip-path=\"url(#p5cac7c5000)\" style=\"fill: none; stroke: #000000\"/>\n",
       "   </g>\n",
       "   <g id=\"PathCollection_1\">\n",
       "    <path d=\"M 26.836364 32.538358 \n",
       "C 30.084425 32.538358 33.199891 31.247889 35.496618 28.951163 \n",
       "C 37.793344 26.654437 39.083812 23.53897 39.083812 20.290909 \n",
       "C 39.083812 17.042848 37.793344 13.927381 35.496618 11.630655 \n",
       "C 33.199891 9.333929 30.084425 8.04346 26.836364 8.04346 \n",
       "C 23.588302 8.04346 20.472836 9.333929 18.17611 11.630655 \n",
       "C 15.879383 13.927381 14.588915 17.042848 14.588915 20.290909 \n",
       "C 14.588915 23.53897 15.879383 26.654437 18.17611 28.951163 \n",
       "C 20.472836 31.247889 23.588302 32.538358 26.836364 32.538358 \n",
       "z\n",
       "\" clip-path=\"url(#p5cac7c5000)\" style=\"fill: #ff0000; stroke: #ff0000\"/>\n",
       "    <path d=\"M 26.836364 119.811085 \n",
       "C 30.084425 119.811085 33.199891 118.520617 35.496618 116.22389 \n",
       "C 37.793344 113.927164 39.083812 110.811698 39.083812 107.563636 \n",
       "C 39.083812 104.315575 37.793344 101.200109 35.496618 98.903382 \n",
       "C 33.199891 96.606656 30.084425 95.316188 26.836364 95.316188 \n",
       "C 23.588302 95.316188 20.472836 96.606656 18.17611 98.903382 \n",
       "C 15.879383 101.200109 14.588915 104.315575 14.588915 107.563636 \n",
       "C 14.588915 110.811698 15.879383 113.927164 18.17611 116.22389 \n",
       "C 20.472836 118.520617 23.588302 119.811085 26.836364 119.811085 \n",
       "z\n",
       "\" clip-path=\"url(#p5cac7c5000)\" style=\"fill: #ff0000; stroke: #ff0000\"/>\n",
       "    <path d=\"M 26.836364 207.083812 \n",
       "C 30.084425 207.083812 33.199891 205.793344 35.496618 203.496618 \n",
       "C 37.793344 201.199891 39.083812 198.084425 39.083812 194.836364 \n",
       "C 39.083812 191.588302 37.793344 188.472836 35.496618 186.17611 \n",
       "C 33.199891 183.879383 30.084425 182.588915 26.836364 182.588915 \n",
       "C 23.588302 182.588915 20.472836 183.879383 18.17611 186.17611 \n",
       "C 15.879383 188.472836 14.588915 191.588302 14.588915 194.836364 \n",
       "C 14.588915 198.084425 15.879383 201.199891 18.17611 203.496618 \n",
       "C 20.472836 205.793344 23.588302 207.083812 26.836364 207.083812 \n",
       "z\n",
       "\" clip-path=\"url(#p5cac7c5000)\" style=\"fill: #ff0000; stroke: #ff0000\"/>\n",
       "    <path d=\"M 419.563636 32.538358 \n",
       "C 422.811698 32.538358 425.927164 31.247889 428.22389 28.951163 \n",
       "C 430.520617 26.654437 431.811085 23.53897 431.811085 20.290909 \n",
       "C 431.811085 17.042848 430.520617 13.927381 428.22389 11.630655 \n",
       "C 425.927164 9.333929 422.811698 8.04346 419.563636 8.04346 \n",
       "C 416.315575 8.04346 413.200109 9.333929 410.903382 11.630655 \n",
       "C 408.606656 13.927381 407.316188 17.042848 407.316188 20.290909 \n",
       "C 407.316188 23.53897 408.606656 26.654437 410.903382 28.951163 \n",
       "C 413.200109 31.247889 416.315575 32.538358 419.563636 32.538358 \n",
       "z\n",
       "\" clip-path=\"url(#p5cac7c5000)\" style=\"fill: #add8e6; stroke: #add8e6\"/>\n",
       "    <path d=\"M 419.563636 119.811085 \n",
       "C 422.811698 119.811085 425.927164 118.520617 428.22389 116.22389 \n",
       "C 430.520617 113.927164 431.811085 110.811698 431.811085 107.563636 \n",
       "C 431.811085 104.315575 430.520617 101.200109 428.22389 98.903382 \n",
       "C 425.927164 96.606656 422.811698 95.316188 419.563636 95.316188 \n",
       "C 416.315575 95.316188 413.200109 96.606656 410.903382 98.903382 \n",
       "C 408.606656 101.200109 407.316188 104.315575 407.316188 107.563636 \n",
       "C 407.316188 110.811698 408.606656 113.927164 410.903382 116.22389 \n",
       "C 413.200109 118.520617 416.315575 119.811085 419.563636 119.811085 \n",
       "z\n",
       "\" clip-path=\"url(#p5cac7c5000)\" style=\"fill: #add8e6; stroke: #add8e6\"/>\n",
       "    <path d=\"M 419.563636 207.083812 \n",
       "C 422.811698 207.083812 425.927164 205.793344 428.22389 203.496618 \n",
       "C 430.520617 201.199891 431.811085 198.084425 431.811085 194.836364 \n",
       "C 431.811085 191.588302 430.520617 188.472836 428.22389 186.17611 \n",
       "C 425.927164 183.879383 422.811698 182.588915 419.563636 182.588915 \n",
       "C 416.315575 182.588915 413.200109 183.879383 410.903382 186.17611 \n",
       "C 408.606656 188.472836 407.316188 191.588302 407.316188 194.836364 \n",
       "C 407.316188 198.084425 408.606656 201.199891 410.903382 203.496618 \n",
       "C 413.200109 205.793344 416.315575 207.083812 419.563636 207.083812 \n",
       "z\n",
       "\" clip-path=\"url(#p5cac7c5000)\" style=\"fill: #add8e6; stroke: #add8e6\"/>\n",
       "    <path d=\"M 419.563636 294.35654 \n",
       "C 422.811698 294.35654 425.927164 293.066071 428.22389 290.769345 \n",
       "C 430.520617 288.472619 431.811085 285.357152 431.811085 282.109091 \n",
       "C 431.811085 278.86103 430.520617 275.745563 428.22389 273.448837 \n",
       "C 425.927164 271.152111 422.811698 269.861642 419.563636 269.861642 \n",
       "C 416.315575 269.861642 413.200109 271.152111 410.903382 273.448837 \n",
       "C 408.606656 275.745563 407.316188 278.86103 407.316188 282.109091 \n",
       "C 407.316188 285.357152 408.606656 288.472619 410.903382 290.769345 \n",
       "C 413.200109 293.066071 416.315575 294.35654 419.563636 294.35654 \n",
       "z\n",
       "\" clip-path=\"url(#p5cac7c5000)\" style=\"fill: #add8e6; stroke: #add8e6\"/>\n",
       "   </g>\n",
       "   <g id=\"text_1\">\n",
       "    <g clip-path=\"url(#p5cac7c5000)\">\n",
       "     <!-- 0 -->\n",
       "     <g transform=\"translate(23.018864 23.602159)scale(0.12 -0.12)\">\n",
       "      <defs>\n",
       "       <path id=\"DejaVuSans-30\" d=\"M 2034 4250 \n",
       "Q 1547 4250 1301 3770 \n",
       "Q 1056 3291 1056 2328 \n",
       "Q 1056 1369 1301 889 \n",
       "Q 1547 409 2034 409 \n",
       "Q 2525 409 2770 889 \n",
       "Q 3016 1369 3016 2328 \n",
       "Q 3016 3291 2770 3770 \n",
       "Q 2525 4250 2034 4250 \n",
       "z\n",
       "M 2034 4750 \n",
       "Q 2819 4750 3233 4129 \n",
       "Q 3647 3509 3647 2328 \n",
       "Q 3647 1150 3233 529 \n",
       "Q 2819 -91 2034 -91 \n",
       "Q 1250 -91 836 529 \n",
       "Q 422 1150 422 2328 \n",
       "Q 422 3509 836 4129 \n",
       "Q 1250 4750 2034 4750 \n",
       "z\n",
       "\" transform=\"scale(0.015625)\"/>\n",
       "      </defs>\n",
       "      <use xlink:href=\"#DejaVuSans-30\"/>\n",
       "     </g>\n",
       "    </g>\n",
       "   </g>\n",
       "   <g id=\"text_2\">\n",
       "    <g clip-path=\"url(#p5cac7c5000)\">\n",
       "     <!-- 1 -->\n",
       "     <g transform=\"translate(23.018864 110.874886)scale(0.12 -0.12)\">\n",
       "      <defs>\n",
       "       <path id=\"DejaVuSans-31\" d=\"M 794 531 \n",
       "L 1825 531 \n",
       "L 1825 4091 \n",
       "L 703 3866 \n",
       "L 703 4441 \n",
       "L 1819 4666 \n",
       "L 2450 4666 \n",
       "L 2450 531 \n",
       "L 3481 531 \n",
       "L 3481 0 \n",
       "L 794 0 \n",
       "L 794 531 \n",
       "z\n",
       "\" transform=\"scale(0.015625)\"/>\n",
       "      </defs>\n",
       "      <use xlink:href=\"#DejaVuSans-31\"/>\n",
       "     </g>\n",
       "    </g>\n",
       "   </g>\n",
       "   <g id=\"text_3\">\n",
       "    <g clip-path=\"url(#p5cac7c5000)\">\n",
       "     <!-- 2 -->\n",
       "     <g transform=\"translate(23.018864 198.147614)scale(0.12 -0.12)\">\n",
       "      <defs>\n",
       "       <path id=\"DejaVuSans-32\" d=\"M 1228 531 \n",
       "L 3431 531 \n",
       "L 3431 0 \n",
       "L 469 0 \n",
       "L 469 531 \n",
       "Q 828 903 1448 1529 \n",
       "Q 2069 2156 2228 2338 \n",
       "Q 2531 2678 2651 2914 \n",
       "Q 2772 3150 2772 3378 \n",
       "Q 2772 3750 2511 3984 \n",
       "Q 2250 4219 1831 4219 \n",
       "Q 1534 4219 1204 4116 \n",
       "Q 875 4013 500 3803 \n",
       "L 500 4441 \n",
       "Q 881 4594 1212 4672 \n",
       "Q 1544 4750 1819 4750 \n",
       "Q 2544 4750 2975 4387 \n",
       "Q 3406 4025 3406 3419 \n",
       "Q 3406 3131 3298 2873 \n",
       "Q 3191 2616 2906 2266 \n",
       "Q 2828 2175 2409 1742 \n",
       "Q 1991 1309 1228 531 \n",
       "z\n",
       "\" transform=\"scale(0.015625)\"/>\n",
       "      </defs>\n",
       "      <use xlink:href=\"#DejaVuSans-32\"/>\n",
       "     </g>\n",
       "    </g>\n",
       "   </g>\n",
       "   <g id=\"text_4\">\n",
       "    <g clip-path=\"url(#p5cac7c5000)\">\n",
       "     <!-- 100 -->\n",
       "     <g transform=\"translate(408.111136 23.602159)scale(0.12 -0.12)\">\n",
       "      <use xlink:href=\"#DejaVuSans-31\"/>\n",
       "      <use xlink:href=\"#DejaVuSans-30\" x=\"63.623047\"/>\n",
       "      <use xlink:href=\"#DejaVuSans-30\" x=\"127.246094\"/>\n",
       "     </g>\n",
       "    </g>\n",
       "   </g>\n",
       "   <g id=\"text_5\">\n",
       "    <g clip-path=\"url(#p5cac7c5000)\">\n",
       "     <!-- 101 -->\n",
       "     <g transform=\"translate(408.111136 110.874886)scale(0.12 -0.12)\">\n",
       "      <use xlink:href=\"#DejaVuSans-31\"/>\n",
       "      <use xlink:href=\"#DejaVuSans-30\" x=\"63.623047\"/>\n",
       "      <use xlink:href=\"#DejaVuSans-31\" x=\"127.246094\"/>\n",
       "     </g>\n",
       "    </g>\n",
       "   </g>\n",
       "   <g id=\"text_6\">\n",
       "    <g clip-path=\"url(#p5cac7c5000)\">\n",
       "     <!-- 102 -->\n",
       "     <g transform=\"translate(408.111136 198.147614)scale(0.12 -0.12)\">\n",
       "      <use xlink:href=\"#DejaVuSans-31\"/>\n",
       "      <use xlink:href=\"#DejaVuSans-30\" x=\"63.623047\"/>\n",
       "      <use xlink:href=\"#DejaVuSans-32\" x=\"127.246094\"/>\n",
       "     </g>\n",
       "    </g>\n",
       "   </g>\n",
       "   <g id=\"text_7\">\n",
       "    <g clip-path=\"url(#p5cac7c5000)\">\n",
       "     <!-- 103 -->\n",
       "     <g transform=\"translate(408.111136 285.420341)scale(0.12 -0.12)\">\n",
       "      <defs>\n",
       "       <path id=\"DejaVuSans-33\" d=\"M 2597 2516 \n",
       "Q 3050 2419 3304 2112 \n",
       "Q 3559 1806 3559 1356 \n",
       "Q 3559 666 3084 287 \n",
       "Q 2609 -91 1734 -91 \n",
       "Q 1441 -91 1130 -33 \n",
       "Q 819 25 488 141 \n",
       "L 488 750 \n",
       "Q 750 597 1062 519 \n",
       "Q 1375 441 1716 441 \n",
       "Q 2309 441 2620 675 \n",
       "Q 2931 909 2931 1356 \n",
       "Q 2931 1769 2642 2001 \n",
       "Q 2353 2234 1838 2234 \n",
       "L 1294 2234 \n",
       "L 1294 2753 \n",
       "L 1863 2753 \n",
       "Q 2328 2753 2575 2939 \n",
       "Q 2822 3125 2822 3475 \n",
       "Q 2822 3834 2567 4026 \n",
       "Q 2313 4219 1838 4219 \n",
       "Q 1578 4219 1281 4162 \n",
       "Q 984 4106 628 3988 \n",
       "L 628 4550 \n",
       "Q 988 4650 1302 4700 \n",
       "Q 1616 4750 1894 4750 \n",
       "Q 2613 4750 3031 4423 \n",
       "Q 3450 4097 3450 3541 \n",
       "Q 3450 3153 3228 2886 \n",
       "Q 3006 2619 2597 2516 \n",
       "z\n",
       "\" transform=\"scale(0.015625)\"/>\n",
       "      </defs>\n",
       "      <use xlink:href=\"#DejaVuSans-31\"/>\n",
       "      <use xlink:href=\"#DejaVuSans-30\" x=\"63.623047\"/>\n",
       "      <use xlink:href=\"#DejaVuSans-33\" x=\"127.246094\"/>\n",
       "     </g>\n",
       "    </g>\n",
       "   </g>\n",
       "  </g>\n",
       " </g>\n",
       " <defs>\n",
       "  <clipPath id=\"p5cac7c5000\">\n",
       "   <rect x=\"7.2\" y=\"7.2\" width=\"432\" height=\"288\"/>\n",
       "  </clipPath>\n",
       " </defs>\n",
       "</svg>\n"
      ],
      "text/plain": [
       "<Figure size 432x288 with 1 Axes>"
      ]
     },
     "metadata": {},
     "output_type": "display_data"
    }
   ],
   "source": [
    "np.random.seed(seed=16)\n",
    "np.set_printoptions(threshold=10000000)\n",
    "\n",
    "B = nx.Graph()\n",
    "\n",
    "user_num = 3\n",
    "item_num = 4\n",
    "\n",
    "user_nodes = [i for i in range(user_num)]\n",
    "item_nodes = [i for i in range(100, 100 + item_num)]\n",
    "\n",
    "B.add_nodes_from(user_nodes, bipartite=0)\n",
    "B.add_nodes_from(item_nodes, bipartite=1)\n",
    "\n",
    "node_color = []\n",
    "node_size = [600 for i in range(user_num + item_num)]\n",
    "\n",
    "for u in user_nodes:\n",
    "  node_color.append('red')\n",
    "for i in item_nodes:\n",
    "  node_color.append('lightblue')\n",
    "\n",
    "edge_nodes = []\n",
    "pos = {}\n",
    "for _i, u in enumerate(user_nodes):\n",
    "  pos[u] = np.array([-1, - 1.75 * _i])\n",
    "  for _j, i in enumerate(item_nodes):\n",
    "    pos[i] = np.array([1, - 1.75 * _j])\n",
    "    if np.random.random() < 0.45:\n",
    "      edge_nodes.append((u,i))\n",
    "\n",
    "B.add_edges_from(edge_nodes)\n",
    "\n",
    "nx.draw(B, pos=pos, with_labels=True, node_color=node_color, node_size=node_size)\n",
    "\n",
    "plt.show()"
   ]
  },
  {
   "cell_type": "markdown",
   "metadata": {},
   "source": [
    "上の二部グラフを嗜好行列で表すと以下のようになります。\n",
    "\n",
    "|  | item_100 | item_200 | item_300 | item_400 |\n",
    "| :---: | :---: | :---: | :---: | :---: |\n",
    "| user_0 | 1 | 0 | 0 | 1 |\n",
    "| user_1 | 1 | 1 | 0 | 1 |\n",
    "| user_2 | 1 | 0 | 0 | 1 |"
   ]
  },
  {
   "cell_type": "markdown",
   "metadata": {},
   "source": [
    "networkx型のオブジェクトから、嗜好行列や隣接行列を作ることができます。"
   ]
  },
  {
   "cell_type": "code",
   "execution_count": 53,
   "metadata": {
    "vscode": {
     "languageId": "python"
    }
   },
   "outputs": [
    {
     "data": {
      "text/plain": [
       "array([[0, 0, 0, 1, 0, 0, 1],\n",
       "       [0, 0, 0, 1, 1, 0, 1],\n",
       "       [0, 0, 0, 1, 0, 0, 1],\n",
       "       [1, 1, 1, 0, 0, 0, 0],\n",
       "       [0, 1, 0, 0, 0, 0, 0],\n",
       "       [0, 0, 0, 0, 0, 0, 0],\n",
       "       [1, 1, 1, 0, 0, 0, 0]], dtype=int64)"
      ]
     },
     "execution_count": 53,
     "metadata": {},
     "output_type": "execute_result"
    }
   ],
   "source": [
    "A = np.array(nx.adjacency_matrix(B).todense())\n",
    "L = np.array(nx.laplacian_matrix(B).todense())\n",
    "D = L + A\n",
    "A"
   ]
  },
  {
   "cell_type": "code",
   "execution_count": 54,
   "metadata": {
    "vscode": {
     "languageId": "python"
    }
   },
   "outputs": [
    {
     "data": {
      "text/plain": [
       "array([[1, 0, 0, 1],\n",
       "       [1, 1, 0, 1],\n",
       "       [1, 0, 0, 1]], dtype=int64)"
      ]
     },
     "execution_count": 54,
     "metadata": {},
     "output_type": "execute_result"
    }
   ],
   "source": [
    "R = A[0:user_num, user_num:]\n",
    "R"
   ]
  },
  {
   "cell_type": "code",
   "execution_count": 55,
   "metadata": {
    "vscode": {
     "languageId": "python"
    }
   },
   "outputs": [
    {
     "data": {
      "text/plain": [
       "array([3, 1, 0, 3], dtype=int64)"
      ]
     },
     "execution_count": 55,
     "metadata": {},
     "output_type": "execute_result"
    }
   ],
   "source": [
    "D_I = np.sum(R, axis=0)\n",
    "D_I"
   ]
  },
  {
   "cell_type": "code",
   "execution_count": 56,
   "metadata": {
    "vscode": {
     "languageId": "python"
    }
   },
   "outputs": [
    {
     "data": {
      "text/plain": [
       "array([2, 3, 2], dtype=int64)"
      ]
     },
     "execution_count": 56,
     "metadata": {},
     "output_type": "execute_result"
    }
   ],
   "source": [
    "D_U = np.sum(R, axis=1)\n",
    "D_U"
   ]
  },
  {
   "cell_type": "code",
   "execution_count": 57,
   "metadata": {
    "vscode": {
     "languageId": "python"
    }
   },
   "outputs": [
    {
     "data": {
      "text/plain": [
       "array([[0.41, 0.  , 0.  , 0.41],\n",
       "       [0.33, 0.58, 0.  , 0.33],\n",
       "       [0.41, 0.  , 0.  , 0.41]])"
      ]
     },
     "execution_count": 57,
     "metadata": {},
     "output_type": "execute_result"
    }
   ],
   "source": [
    "R_hat = np.diag(np.power(D_U + 1e-15, -1/2)) @ R @ np.diag(np.power(D_I + 1e-15, -1/2))\n",
    "R_hat.round(2)"
   ]
  },
  {
   "cell_type": "code",
   "execution_count": 58,
   "metadata": {
    "vscode": {
     "languageId": "python"
    }
   },
   "outputs": [
    {
     "data": {
      "text/plain": [
       "array([[0.  , 0.  , 0.  , 0.41, 0.  , 0.  , 0.41],\n",
       "       [0.  , 0.  , 0.  , 0.33, 0.58, 0.  , 0.33],\n",
       "       [0.  , 0.  , 0.  , 0.41, 0.  , 0.  , 0.41],\n",
       "       [0.41, 0.33, 0.41, 0.  , 0.  , 0.  , 0.  ],\n",
       "       [0.  , 0.58, 0.  , 0.  , 0.  , 0.  , 0.  ],\n",
       "       [0.  , 0.  , 0.  , 0.  , 0.  , 0.  , 0.  ],\n",
       "       [0.41, 0.33, 0.41, 0.  , 0.  , 0.  , 0.  ]])"
      ]
     },
     "execution_count": 58,
     "metadata": {},
     "output_type": "execute_result"
    }
   ],
   "source": [
    "A_hat = np.block([[A[:user_num, :user_num], R_hat], [R_hat.T, A[user_num:, user_num:]]])\n",
    "A_hat.round(2)"
   ]
  },
  {
   "cell_type": "code",
   "execution_count": 59,
   "metadata": {
    "vscode": {
     "languageId": "python"
    }
   },
   "outputs": [
    {
     "data": {
      "text/plain": [
       "array([[0.33, 0.27, 0.33],\n",
       "       [0.27, 0.56, 0.27],\n",
       "       [0.33, 0.27, 0.33]])"
      ]
     },
     "execution_count": 59,
     "metadata": {},
     "output_type": "execute_result"
    }
   ],
   "source": [
    "# user-user 正規化隣接行列\n",
    "P_item_hat = R_hat @ R_hat.T\n",
    "P_item_hat.round(2)"
   ]
  },
  {
   "cell_type": "code",
   "execution_count": 60,
   "metadata": {
    "vscode": {
     "languageId": "python"
    }
   },
   "outputs": [
    {
     "data": {
      "text/plain": [
       "array([[0.44, 0.19, 0.  , 0.44],\n",
       "       [0.19, 0.33, 0.  , 0.19],\n",
       "       [0.  , 0.  , 0.  , 0.  ],\n",
       "       [0.44, 0.19, 0.  , 0.44]])"
      ]
     },
     "execution_count": 60,
     "metadata": {},
     "output_type": "execute_result"
    }
   ],
   "source": [
    "# item-item 正規化隣接行列\n",
    "P_user_hat = R_hat.T @ R_hat\n",
    "P_user_hat.round(2)"
   ]
  },
  {
   "cell_type": "code",
   "execution_count": null,
   "metadata": {
    "vscode": {
     "languageId": "python"
    }
   },
   "outputs": [],
   "source": []
  },
  {
   "cell_type": "code",
   "execution_count": 61,
   "metadata": {
    "vscode": {
     "languageId": "python"
    }
   },
   "outputs": [],
   "source": [
    "n_users = 3\n",
    "n_items = 4\n",
    "embedding_size = 64\n",
    "\n",
    "user_embedding = nn.Embedding(n_users, embedding_size)\n",
    "item_embedding = nn.Embedding(n_items, embedding_size)\n"
   ]
  },
  {
   "cell_type": "code",
   "execution_count": 62,
   "metadata": {
    "vscode": {
     "languageId": "python"
    }
   },
   "outputs": [
    {
     "data": {
      "text/plain": [
       "Embedding(3, 64)"
      ]
     },
     "execution_count": 62,
     "metadata": {},
     "output_type": "execute_result"
    }
   ],
   "source": [
    "user_embedding"
   ]
  },
  {
   "cell_type": "code",
   "execution_count": 63,
   "metadata": {
    "vscode": {
     "languageId": "python"
    }
   },
   "outputs": [
    {
     "data": {
      "text/plain": [
       "Embedding(4, 64)"
      ]
     },
     "execution_count": 63,
     "metadata": {},
     "output_type": "execute_result"
    }
   ],
   "source": [
    "item_embedding"
   ]
  },
  {
   "cell_type": "code",
   "execution_count": 64,
   "metadata": {
    "vscode": {
     "languageId": "python"
    }
   },
   "outputs": [],
   "source": [
    "def forward(X, A_hat):\n",
    "  H = torch.mm(torch.mm(A_hat, X), self.W_0)\n",
    "  H = F.relu(H)\n",
    "  H = torch.mm(torch.mm(A_hat, H),self.W_1)\n",
    "  return F.log_softmax(H, dim=1)"
   ]
  },
  {
   "cell_type": "code",
   "execution_count": 65,
   "metadata": {
    "vscode": {
     "languageId": "python"
    }
   },
   "outputs": [],
   "source": [
    "class GCN(nn.Module):\n",
    "  def __init__(self, A_hat, num_feat, num_hidden, num_class):\n",
    "    super(GCN, self).__init__()\n",
    "    self.num_feat = num_feat\n",
    "    self.num_hidden = num_hidden\n",
    "    self.num_class = num_class\n",
    "    self.A_hat = A_hat\n",
    "    self.W_0 = nn.Parameter(torch.Tensor(num_feat, num_hidden))\n",
    "    self.W_1 = nn.Parameter(torch.Tensor(num_hidden, num_class))\n",
    "    self.reset_parameters()\n",
    "\n",
    "  def reset_parameters(self):\n",
    "    stdv = 1. / math.sqrt(self.W_0.size(1))\n",
    "    self.W_0.data.uniform_(-stdv, stdv)\n",
    "    stdv = 1. / math.sqrt(self.W_1.size(1))\n",
    "    self.W_1.data.uniform_(-stdv, stdv)\n",
    "\n",
    "  def forward(self, X, A_hat):\n",
    "    H = torch.mm(torch.mm(A_hat, X), self.W_0)\n",
    "    H = F.relu(H)\n",
    "    H = torch.mm(torch.mm(A_hat, H),self.W_1)\n",
    "    return F.log_softmax(H, dim=1)"
   ]
  },
  {
   "cell_type": "markdown",
   "metadata": {},
   "source": [
    "pytorchの場合は"
   ]
  },
  {
   "cell_type": "code",
   "execution_count": null,
   "metadata": {
    "vscode": {
     "languageId": "python"
    }
   },
   "outputs": [],
   "source": []
  },
  {
   "cell_type": "code",
   "execution_count": null,
   "metadata": {
    "vscode": {
     "languageId": "python"
    }
   },
   "outputs": [],
   "source": []
  },
  {
   "cell_type": "markdown",
   "metadata": {},
   "source": [
    "## Graph Convolutional Networks "
   ]
  },
  {
   "cell_type": "code",
   "execution_count": 66,
   "metadata": {
    "vscode": {
     "languageId": "python"
    }
   },
   "outputs": [
    {
     "data": {
      "image/svg+xml": [
       "<?xml version=\"1.0\" encoding=\"utf-8\" standalone=\"no\"?>\n",
       "<!DOCTYPE svg PUBLIC \"-//W3C//DTD SVG 1.1//EN\"\n",
       "  \"http://www.w3.org/Graphics/SVG/1.1/DTD/svg11.dtd\">\n",
       "<svg xmlns:xlink=\"http://www.w3.org/1999/xlink\" width=\"446.4pt\" height=\"302.4pt\" viewBox=\"0 0 446.4 302.4\" xmlns=\"http://www.w3.org/2000/svg\" version=\"1.1\">\n",
       " <metadata>\n",
       "  <rdf:RDF xmlns:dc=\"http://purl.org/dc/elements/1.1/\" xmlns:cc=\"http://creativecommons.org/ns#\" xmlns:rdf=\"http://www.w3.org/1999/02/22-rdf-syntax-ns#\">\n",
       "   <cc:Work>\n",
       "    <dc:type rdf:resource=\"http://purl.org/dc/dcmitype/StillImage\"/>\n",
       "    <dc:date>2022-05-29T23:51:40.812428</dc:date>\n",
       "    <dc:format>image/svg+xml</dc:format>\n",
       "    <dc:creator>\n",
       "     <cc:Agent>\n",
       "      <dc:title>Matplotlib v3.5.2, https://matplotlib.org/</dc:title>\n",
       "     </cc:Agent>\n",
       "    </dc:creator>\n",
       "   </cc:Work>\n",
       "  </rdf:RDF>\n",
       " </metadata>\n",
       " <defs>\n",
       "  <style type=\"text/css\">*{stroke-linejoin: round; stroke-linecap: butt}</style>\n",
       " </defs>\n",
       " <g id=\"figure_1\">\n",
       "  <g id=\"patch_1\">\n",
       "   <path d=\"M 0 302.4 \n",
       "L 446.4 302.4 \n",
       "L 446.4 0 \n",
       "L 0 0 \n",
       "z\n",
       "\" style=\"fill: #ffffff\"/>\n",
       "  </g>\n",
       "  <g id=\"axes_1\">\n",
       "   <g id=\"LineCollection_1\">\n",
       "    <path d=\"M 26.836364 20.290909 \n",
       "L 419.563636 253.018182 \n",
       "\" clip-path=\"url(#p4c1f173943)\" style=\"fill: none; stroke: #000000\"/>\n",
       "    <path d=\"M 26.836364 49.381818 \n",
       "L 419.563636 107.563636 \n",
       "\" clip-path=\"url(#p4c1f173943)\" style=\"fill: none; stroke: #000000\"/>\n",
       "    <path d=\"M 26.836364 49.381818 \n",
       "L 419.563636 253.018182 \n",
       "\" clip-path=\"url(#p4c1f173943)\" style=\"fill: none; stroke: #000000\"/>\n",
       "    <path d=\"M 26.836364 78.472727 \n",
       "L 419.563636 20.290909 \n",
       "\" clip-path=\"url(#p4c1f173943)\" style=\"fill: none; stroke: #000000\"/>\n",
       "    <path d=\"M 26.836364 78.472727 \n",
       "L 419.563636 223.927273 \n",
       "\" clip-path=\"url(#p4c1f173943)\" style=\"fill: none; stroke: #000000\"/>\n",
       "    <path d=\"M 26.836364 107.563636 \n",
       "L 419.563636 20.290909 \n",
       "\" clip-path=\"url(#p4c1f173943)\" style=\"fill: none; stroke: #000000\"/>\n",
       "    <path d=\"M 26.836364 107.563636 \n",
       "L 419.563636 282.109091 \n",
       "\" clip-path=\"url(#p4c1f173943)\" style=\"fill: none; stroke: #000000\"/>\n",
       "    <path d=\"M 26.836364 165.745455 \n",
       "L 419.563636 20.290909 \n",
       "\" clip-path=\"url(#p4c1f173943)\" style=\"fill: none; stroke: #000000\"/>\n",
       "    <path d=\"M 26.836364 165.745455 \n",
       "L 419.563636 253.018182 \n",
       "\" clip-path=\"url(#p4c1f173943)\" style=\"fill: none; stroke: #000000\"/>\n",
       "    <path d=\"M 26.836364 194.836364 \n",
       "L 419.563636 136.654545 \n",
       "\" clip-path=\"url(#p4c1f173943)\" style=\"fill: none; stroke: #000000\"/>\n",
       "   </g>\n",
       "   <g id=\"PathCollection_1\">\n",
       "    <defs>\n",
       "     <path id=\"C0_0_88ed96499c\" d=\"M 0 8.660254 \n",
       "C 2.296726 8.660254 4.499694 7.747755 6.123724 6.123724 \n",
       "C 7.747755 4.499694 8.660254 2.296726 8.660254 -0 \n",
       "C 8.660254 -2.296726 7.747755 -4.499694 6.123724 -6.123724 \n",
       "C 4.499694 -7.747755 2.296726 -8.660254 0 -8.660254 \n",
       "C -2.296726 -8.660254 -4.499694 -7.747755 -6.123724 -6.123724 \n",
       "C -7.747755 -4.499694 -8.660254 -2.296726 -8.660254 0 \n",
       "C -8.660254 2.296726 -7.747755 4.499694 -6.123724 6.123724 \n",
       "C -4.499694 7.747755 -2.296726 8.660254 0 8.660254 \n",
       "z\n",
       "\"/>\n",
       "    </defs>\n",
       "    <g clip-path=\"url(#p4c1f173943)\">\n",
       "     <use xlink:href=\"#C0_0_88ed96499c\" x=\"26.836364\" y=\"20.290909\" style=\"fill: #ff0000; stroke: #ff0000\"/>\n",
       "    </g>\n",
       "    <g clip-path=\"url(#p4c1f173943)\">\n",
       "     <use xlink:href=\"#C0_0_88ed96499c\" x=\"26.836364\" y=\"49.381818\" style=\"fill: #ff0000; stroke: #ff0000\"/>\n",
       "    </g>\n",
       "    <g clip-path=\"url(#p4c1f173943)\">\n",
       "     <use xlink:href=\"#C0_0_88ed96499c\" x=\"26.836364\" y=\"78.472727\" style=\"fill: #ff0000; stroke: #ff0000\"/>\n",
       "    </g>\n",
       "    <g clip-path=\"url(#p4c1f173943)\">\n",
       "     <use xlink:href=\"#C0_0_88ed96499c\" x=\"26.836364\" y=\"107.563636\" style=\"fill: #ff0000; stroke: #ff0000\"/>\n",
       "    </g>\n",
       "    <g clip-path=\"url(#p4c1f173943)\">\n",
       "     <use xlink:href=\"#C0_0_88ed96499c\" x=\"26.836364\" y=\"136.654545\" style=\"fill: #ff0000; stroke: #ff0000\"/>\n",
       "    </g>\n",
       "    <g clip-path=\"url(#p4c1f173943)\">\n",
       "     <use xlink:href=\"#C0_0_88ed96499c\" x=\"26.836364\" y=\"165.745455\" style=\"fill: #ff0000; stroke: #ff0000\"/>\n",
       "    </g>\n",
       "    <g clip-path=\"url(#p4c1f173943)\">\n",
       "     <use xlink:href=\"#C0_0_88ed96499c\" x=\"26.836364\" y=\"194.836364\" style=\"fill: #ff0000; stroke: #ff0000\"/>\n",
       "    </g>\n",
       "    <g clip-path=\"url(#p4c1f173943)\">\n",
       "     <use xlink:href=\"#C0_0_88ed96499c\" x=\"419.563636\" y=\"20.290909\" style=\"fill: #0000ff; stroke: #0000ff\"/>\n",
       "    </g>\n",
       "    <g clip-path=\"url(#p4c1f173943)\">\n",
       "     <use xlink:href=\"#C0_0_88ed96499c\" x=\"419.563636\" y=\"49.381818\" style=\"fill: #0000ff; stroke: #0000ff\"/>\n",
       "    </g>\n",
       "    <g clip-path=\"url(#p4c1f173943)\">\n",
       "     <use xlink:href=\"#C0_0_88ed96499c\" x=\"419.563636\" y=\"78.472727\" style=\"fill: #0000ff; stroke: #0000ff\"/>\n",
       "    </g>\n",
       "    <g clip-path=\"url(#p4c1f173943)\">\n",
       "     <use xlink:href=\"#C0_0_88ed96499c\" x=\"419.563636\" y=\"107.563636\" style=\"fill: #0000ff; stroke: #0000ff\"/>\n",
       "    </g>\n",
       "    <g clip-path=\"url(#p4c1f173943)\">\n",
       "     <use xlink:href=\"#C0_0_88ed96499c\" x=\"419.563636\" y=\"136.654545\" style=\"fill: #0000ff; stroke: #0000ff\"/>\n",
       "    </g>\n",
       "    <g clip-path=\"url(#p4c1f173943)\">\n",
       "     <use xlink:href=\"#C0_0_88ed96499c\" x=\"419.563636\" y=\"165.745455\" style=\"fill: #0000ff; stroke: #0000ff\"/>\n",
       "    </g>\n",
       "    <g clip-path=\"url(#p4c1f173943)\">\n",
       "     <use xlink:href=\"#C0_0_88ed96499c\" x=\"419.563636\" y=\"194.836364\" style=\"fill: #0000ff; stroke: #0000ff\"/>\n",
       "    </g>\n",
       "    <g clip-path=\"url(#p4c1f173943)\">\n",
       "     <use xlink:href=\"#C0_0_88ed96499c\" x=\"419.563636\" y=\"223.927273\" style=\"fill: #0000ff; stroke: #0000ff\"/>\n",
       "    </g>\n",
       "    <g clip-path=\"url(#p4c1f173943)\">\n",
       "     <use xlink:href=\"#C0_0_88ed96499c\" x=\"419.563636\" y=\"253.018182\" style=\"fill: #0000ff; stroke: #0000ff\"/>\n",
       "    </g>\n",
       "    <g clip-path=\"url(#p4c1f173943)\">\n",
       "     <use xlink:href=\"#C0_0_88ed96499c\" x=\"419.563636\" y=\"282.109091\" style=\"fill: #0000ff; stroke: #0000ff\"/>\n",
       "    </g>\n",
       "   </g>\n",
       "   <g id=\"text_1\">\n",
       "    <g clip-path=\"url(#p4c1f173943)\">\n",
       "     <!-- 0 -->\n",
       "     <g transform=\"translate(23.018864 23.602159)scale(0.12 -0.12)\">\n",
       "      <defs>\n",
       "       <path id=\"DejaVuSans-30\" d=\"M 2034 4250 \n",
       "Q 1547 4250 1301 3770 \n",
       "Q 1056 3291 1056 2328 \n",
       "Q 1056 1369 1301 889 \n",
       "Q 1547 409 2034 409 \n",
       "Q 2525 409 2770 889 \n",
       "Q 3016 1369 3016 2328 \n",
       "Q 3016 3291 2770 3770 \n",
       "Q 2525 4250 2034 4250 \n",
       "z\n",
       "M 2034 4750 \n",
       "Q 2819 4750 3233 4129 \n",
       "Q 3647 3509 3647 2328 \n",
       "Q 3647 1150 3233 529 \n",
       "Q 2819 -91 2034 -91 \n",
       "Q 1250 -91 836 529 \n",
       "Q 422 1150 422 2328 \n",
       "Q 422 3509 836 4129 \n",
       "Q 1250 4750 2034 4750 \n",
       "z\n",
       "\" transform=\"scale(0.015625)\"/>\n",
       "      </defs>\n",
       "      <use xlink:href=\"#DejaVuSans-30\"/>\n",
       "     </g>\n",
       "    </g>\n",
       "   </g>\n",
       "   <g id=\"text_2\">\n",
       "    <g clip-path=\"url(#p4c1f173943)\">\n",
       "     <!-- 1 -->\n",
       "     <g transform=\"translate(23.018864 52.693068)scale(0.12 -0.12)\">\n",
       "      <defs>\n",
       "       <path id=\"DejaVuSans-31\" d=\"M 794 531 \n",
       "L 1825 531 \n",
       "L 1825 4091 \n",
       "L 703 3866 \n",
       "L 703 4441 \n",
       "L 1819 4666 \n",
       "L 2450 4666 \n",
       "L 2450 531 \n",
       "L 3481 531 \n",
       "L 3481 0 \n",
       "L 794 0 \n",
       "L 794 531 \n",
       "z\n",
       "\" transform=\"scale(0.015625)\"/>\n",
       "      </defs>\n",
       "      <use xlink:href=\"#DejaVuSans-31\"/>\n",
       "     </g>\n",
       "    </g>\n",
       "   </g>\n",
       "   <g id=\"text_3\">\n",
       "    <g clip-path=\"url(#p4c1f173943)\">\n",
       "     <!-- 2 -->\n",
       "     <g transform=\"translate(23.018864 81.783977)scale(0.12 -0.12)\">\n",
       "      <defs>\n",
       "       <path id=\"DejaVuSans-32\" d=\"M 1228 531 \n",
       "L 3431 531 \n",
       "L 3431 0 \n",
       "L 469 0 \n",
       "L 469 531 \n",
       "Q 828 903 1448 1529 \n",
       "Q 2069 2156 2228 2338 \n",
       "Q 2531 2678 2651 2914 \n",
       "Q 2772 3150 2772 3378 \n",
       "Q 2772 3750 2511 3984 \n",
       "Q 2250 4219 1831 4219 \n",
       "Q 1534 4219 1204 4116 \n",
       "Q 875 4013 500 3803 \n",
       "L 500 4441 \n",
       "Q 881 4594 1212 4672 \n",
       "Q 1544 4750 1819 4750 \n",
       "Q 2544 4750 2975 4387 \n",
       "Q 3406 4025 3406 3419 \n",
       "Q 3406 3131 3298 2873 \n",
       "Q 3191 2616 2906 2266 \n",
       "Q 2828 2175 2409 1742 \n",
       "Q 1991 1309 1228 531 \n",
       "z\n",
       "\" transform=\"scale(0.015625)\"/>\n",
       "      </defs>\n",
       "      <use xlink:href=\"#DejaVuSans-32\"/>\n",
       "     </g>\n",
       "    </g>\n",
       "   </g>\n",
       "   <g id=\"text_4\">\n",
       "    <g clip-path=\"url(#p4c1f173943)\">\n",
       "     <!-- 3 -->\n",
       "     <g transform=\"translate(23.018864 110.874886)scale(0.12 -0.12)\">\n",
       "      <defs>\n",
       "       <path id=\"DejaVuSans-33\" d=\"M 2597 2516 \n",
       "Q 3050 2419 3304 2112 \n",
       "Q 3559 1806 3559 1356 \n",
       "Q 3559 666 3084 287 \n",
       "Q 2609 -91 1734 -91 \n",
       "Q 1441 -91 1130 -33 \n",
       "Q 819 25 488 141 \n",
       "L 488 750 \n",
       "Q 750 597 1062 519 \n",
       "Q 1375 441 1716 441 \n",
       "Q 2309 441 2620 675 \n",
       "Q 2931 909 2931 1356 \n",
       "Q 2931 1769 2642 2001 \n",
       "Q 2353 2234 1838 2234 \n",
       "L 1294 2234 \n",
       "L 1294 2753 \n",
       "L 1863 2753 \n",
       "Q 2328 2753 2575 2939 \n",
       "Q 2822 3125 2822 3475 \n",
       "Q 2822 3834 2567 4026 \n",
       "Q 2313 4219 1838 4219 \n",
       "Q 1578 4219 1281 4162 \n",
       "Q 984 4106 628 3988 \n",
       "L 628 4550 \n",
       "Q 988 4650 1302 4700 \n",
       "Q 1616 4750 1894 4750 \n",
       "Q 2613 4750 3031 4423 \n",
       "Q 3450 4097 3450 3541 \n",
       "Q 3450 3153 3228 2886 \n",
       "Q 3006 2619 2597 2516 \n",
       "z\n",
       "\" transform=\"scale(0.015625)\"/>\n",
       "      </defs>\n",
       "      <use xlink:href=\"#DejaVuSans-33\"/>\n",
       "     </g>\n",
       "    </g>\n",
       "   </g>\n",
       "   <g id=\"text_5\">\n",
       "    <g clip-path=\"url(#p4c1f173943)\">\n",
       "     <!-- 4 -->\n",
       "     <g transform=\"translate(23.018864 139.965795)scale(0.12 -0.12)\">\n",
       "      <defs>\n",
       "       <path id=\"DejaVuSans-34\" d=\"M 2419 4116 \n",
       "L 825 1625 \n",
       "L 2419 1625 \n",
       "L 2419 4116 \n",
       "z\n",
       "M 2253 4666 \n",
       "L 3047 4666 \n",
       "L 3047 1625 \n",
       "L 3713 1625 \n",
       "L 3713 1100 \n",
       "L 3047 1100 \n",
       "L 3047 0 \n",
       "L 2419 0 \n",
       "L 2419 1100 \n",
       "L 313 1100 \n",
       "L 313 1709 \n",
       "L 2253 4666 \n",
       "z\n",
       "\" transform=\"scale(0.015625)\"/>\n",
       "      </defs>\n",
       "      <use xlink:href=\"#DejaVuSans-34\"/>\n",
       "     </g>\n",
       "    </g>\n",
       "   </g>\n",
       "   <g id=\"text_6\">\n",
       "    <g clip-path=\"url(#p4c1f173943)\">\n",
       "     <!-- 5 -->\n",
       "     <g transform=\"translate(23.018864 169.056705)scale(0.12 -0.12)\">\n",
       "      <defs>\n",
       "       <path id=\"DejaVuSans-35\" d=\"M 691 4666 \n",
       "L 3169 4666 \n",
       "L 3169 4134 \n",
       "L 1269 4134 \n",
       "L 1269 2991 \n",
       "Q 1406 3038 1543 3061 \n",
       "Q 1681 3084 1819 3084 \n",
       "Q 2600 3084 3056 2656 \n",
       "Q 3513 2228 3513 1497 \n",
       "Q 3513 744 3044 326 \n",
       "Q 2575 -91 1722 -91 \n",
       "Q 1428 -91 1123 -41 \n",
       "Q 819 9 494 109 \n",
       "L 494 744 \n",
       "Q 775 591 1075 516 \n",
       "Q 1375 441 1709 441 \n",
       "Q 2250 441 2565 725 \n",
       "Q 2881 1009 2881 1497 \n",
       "Q 2881 1984 2565 2268 \n",
       "Q 2250 2553 1709 2553 \n",
       "Q 1456 2553 1204 2497 \n",
       "Q 953 2441 691 2322 \n",
       "L 691 4666 \n",
       "z\n",
       "\" transform=\"scale(0.015625)\"/>\n",
       "      </defs>\n",
       "      <use xlink:href=\"#DejaVuSans-35\"/>\n",
       "     </g>\n",
       "    </g>\n",
       "   </g>\n",
       "   <g id=\"text_7\">\n",
       "    <g clip-path=\"url(#p4c1f173943)\">\n",
       "     <!-- 6 -->\n",
       "     <g transform=\"translate(23.018864 198.147614)scale(0.12 -0.12)\">\n",
       "      <defs>\n",
       "       <path id=\"DejaVuSans-36\" d=\"M 2113 2584 \n",
       "Q 1688 2584 1439 2293 \n",
       "Q 1191 2003 1191 1497 \n",
       "Q 1191 994 1439 701 \n",
       "Q 1688 409 2113 409 \n",
       "Q 2538 409 2786 701 \n",
       "Q 3034 994 3034 1497 \n",
       "Q 3034 2003 2786 2293 \n",
       "Q 2538 2584 2113 2584 \n",
       "z\n",
       "M 3366 4563 \n",
       "L 3366 3988 \n",
       "Q 3128 4100 2886 4159 \n",
       "Q 2644 4219 2406 4219 \n",
       "Q 1781 4219 1451 3797 \n",
       "Q 1122 3375 1075 2522 \n",
       "Q 1259 2794 1537 2939 \n",
       "Q 1816 3084 2150 3084 \n",
       "Q 2853 3084 3261 2657 \n",
       "Q 3669 2231 3669 1497 \n",
       "Q 3669 778 3244 343 \n",
       "Q 2819 -91 2113 -91 \n",
       "Q 1303 -91 875 529 \n",
       "Q 447 1150 447 2328 \n",
       "Q 447 3434 972 4092 \n",
       "Q 1497 4750 2381 4750 \n",
       "Q 2619 4750 2861 4703 \n",
       "Q 3103 4656 3366 4563 \n",
       "z\n",
       "\" transform=\"scale(0.015625)\"/>\n",
       "      </defs>\n",
       "      <use xlink:href=\"#DejaVuSans-36\"/>\n",
       "     </g>\n",
       "    </g>\n",
       "   </g>\n",
       "   <g id=\"text_8\">\n",
       "    <g clip-path=\"url(#p4c1f173943)\">\n",
       "     <!-- 100 -->\n",
       "     <g transform=\"translate(408.111136 23.602159)scale(0.12 -0.12)\">\n",
       "      <use xlink:href=\"#DejaVuSans-31\"/>\n",
       "      <use xlink:href=\"#DejaVuSans-30\" x=\"63.623047\"/>\n",
       "      <use xlink:href=\"#DejaVuSans-30\" x=\"127.246094\"/>\n",
       "     </g>\n",
       "    </g>\n",
       "   </g>\n",
       "   <g id=\"text_9\">\n",
       "    <g clip-path=\"url(#p4c1f173943)\">\n",
       "     <!-- 101 -->\n",
       "     <g transform=\"translate(408.111136 52.693068)scale(0.12 -0.12)\">\n",
       "      <use xlink:href=\"#DejaVuSans-31\"/>\n",
       "      <use xlink:href=\"#DejaVuSans-30\" x=\"63.623047\"/>\n",
       "      <use xlink:href=\"#DejaVuSans-31\" x=\"127.246094\"/>\n",
       "     </g>\n",
       "    </g>\n",
       "   </g>\n",
       "   <g id=\"text_10\">\n",
       "    <g clip-path=\"url(#p4c1f173943)\">\n",
       "     <!-- 102 -->\n",
       "     <g transform=\"translate(408.111136 81.783977)scale(0.12 -0.12)\">\n",
       "      <use xlink:href=\"#DejaVuSans-31\"/>\n",
       "      <use xlink:href=\"#DejaVuSans-30\" x=\"63.623047\"/>\n",
       "      <use xlink:href=\"#DejaVuSans-32\" x=\"127.246094\"/>\n",
       "     </g>\n",
       "    </g>\n",
       "   </g>\n",
       "   <g id=\"text_11\">\n",
       "    <g clip-path=\"url(#p4c1f173943)\">\n",
       "     <!-- 103 -->\n",
       "     <g transform=\"translate(408.111136 110.874886)scale(0.12 -0.12)\">\n",
       "      <use xlink:href=\"#DejaVuSans-31\"/>\n",
       "      <use xlink:href=\"#DejaVuSans-30\" x=\"63.623047\"/>\n",
       "      <use xlink:href=\"#DejaVuSans-33\" x=\"127.246094\"/>\n",
       "     </g>\n",
       "    </g>\n",
       "   </g>\n",
       "   <g id=\"text_12\">\n",
       "    <g clip-path=\"url(#p4c1f173943)\">\n",
       "     <!-- 104 -->\n",
       "     <g transform=\"translate(408.111136 139.965795)scale(0.12 -0.12)\">\n",
       "      <use xlink:href=\"#DejaVuSans-31\"/>\n",
       "      <use xlink:href=\"#DejaVuSans-30\" x=\"63.623047\"/>\n",
       "      <use xlink:href=\"#DejaVuSans-34\" x=\"127.246094\"/>\n",
       "     </g>\n",
       "    </g>\n",
       "   </g>\n",
       "   <g id=\"text_13\">\n",
       "    <g clip-path=\"url(#p4c1f173943)\">\n",
       "     <!-- 105 -->\n",
       "     <g transform=\"translate(408.111136 169.056705)scale(0.12 -0.12)\">\n",
       "      <use xlink:href=\"#DejaVuSans-31\"/>\n",
       "      <use xlink:href=\"#DejaVuSans-30\" x=\"63.623047\"/>\n",
       "      <use xlink:href=\"#DejaVuSans-35\" x=\"127.246094\"/>\n",
       "     </g>\n",
       "    </g>\n",
       "   </g>\n",
       "   <g id=\"text_14\">\n",
       "    <g clip-path=\"url(#p4c1f173943)\">\n",
       "     <!-- 106 -->\n",
       "     <g transform=\"translate(408.111136 198.147614)scale(0.12 -0.12)\">\n",
       "      <use xlink:href=\"#DejaVuSans-31\"/>\n",
       "      <use xlink:href=\"#DejaVuSans-30\" x=\"63.623047\"/>\n",
       "      <use xlink:href=\"#DejaVuSans-36\" x=\"127.246094\"/>\n",
       "     </g>\n",
       "    </g>\n",
       "   </g>\n",
       "   <g id=\"text_15\">\n",
       "    <g clip-path=\"url(#p4c1f173943)\">\n",
       "     <!-- 107 -->\n",
       "     <g transform=\"translate(408.111136 227.238523)scale(0.12 -0.12)\">\n",
       "      <defs>\n",
       "       <path id=\"DejaVuSans-37\" d=\"M 525 4666 \n",
       "L 3525 4666 \n",
       "L 3525 4397 \n",
       "L 1831 0 \n",
       "L 1172 0 \n",
       "L 2766 4134 \n",
       "L 525 4134 \n",
       "L 525 4666 \n",
       "z\n",
       "\" transform=\"scale(0.015625)\"/>\n",
       "      </defs>\n",
       "      <use xlink:href=\"#DejaVuSans-31\"/>\n",
       "      <use xlink:href=\"#DejaVuSans-30\" x=\"63.623047\"/>\n",
       "      <use xlink:href=\"#DejaVuSans-37\" x=\"127.246094\"/>\n",
       "     </g>\n",
       "    </g>\n",
       "   </g>\n",
       "   <g id=\"text_16\">\n",
       "    <g clip-path=\"url(#p4c1f173943)\">\n",
       "     <!-- 108 -->\n",
       "     <g transform=\"translate(408.111136 256.329432)scale(0.12 -0.12)\">\n",
       "      <defs>\n",
       "       <path id=\"DejaVuSans-38\" d=\"M 2034 2216 \n",
       "Q 1584 2216 1326 1975 \n",
       "Q 1069 1734 1069 1313 \n",
       "Q 1069 891 1326 650 \n",
       "Q 1584 409 2034 409 \n",
       "Q 2484 409 2743 651 \n",
       "Q 3003 894 3003 1313 \n",
       "Q 3003 1734 2745 1975 \n",
       "Q 2488 2216 2034 2216 \n",
       "z\n",
       "M 1403 2484 \n",
       "Q 997 2584 770 2862 \n",
       "Q 544 3141 544 3541 \n",
       "Q 544 4100 942 4425 \n",
       "Q 1341 4750 2034 4750 \n",
       "Q 2731 4750 3128 4425 \n",
       "Q 3525 4100 3525 3541 \n",
       "Q 3525 3141 3298 2862 \n",
       "Q 3072 2584 2669 2484 \n",
       "Q 3125 2378 3379 2068 \n",
       "Q 3634 1759 3634 1313 \n",
       "Q 3634 634 3220 271 \n",
       "Q 2806 -91 2034 -91 \n",
       "Q 1263 -91 848 271 \n",
       "Q 434 634 434 1313 \n",
       "Q 434 1759 690 2068 \n",
       "Q 947 2378 1403 2484 \n",
       "z\n",
       "M 1172 3481 \n",
       "Q 1172 3119 1398 2916 \n",
       "Q 1625 2713 2034 2713 \n",
       "Q 2441 2713 2670 2916 \n",
       "Q 2900 3119 2900 3481 \n",
       "Q 2900 3844 2670 4047 \n",
       "Q 2441 4250 2034 4250 \n",
       "Q 1625 4250 1398 4047 \n",
       "Q 1172 3844 1172 3481 \n",
       "z\n",
       "\" transform=\"scale(0.015625)\"/>\n",
       "      </defs>\n",
       "      <use xlink:href=\"#DejaVuSans-31\"/>\n",
       "      <use xlink:href=\"#DejaVuSans-30\" x=\"63.623047\"/>\n",
       "      <use xlink:href=\"#DejaVuSans-38\" x=\"127.246094\"/>\n",
       "     </g>\n",
       "    </g>\n",
       "   </g>\n",
       "   <g id=\"text_17\">\n",
       "    <g clip-path=\"url(#p4c1f173943)\">\n",
       "     <!-- 109 -->\n",
       "     <g transform=\"translate(408.111136 285.420341)scale(0.12 -0.12)\">\n",
       "      <defs>\n",
       "       <path id=\"DejaVuSans-39\" d=\"M 703 97 \n",
       "L 703 672 \n",
       "Q 941 559 1184 500 \n",
       "Q 1428 441 1663 441 \n",
       "Q 2288 441 2617 861 \n",
       "Q 2947 1281 2994 2138 \n",
       "Q 2813 1869 2534 1725 \n",
       "Q 2256 1581 1919 1581 \n",
       "Q 1219 1581 811 2004 \n",
       "Q 403 2428 403 3163 \n",
       "Q 403 3881 828 4315 \n",
       "Q 1253 4750 1959 4750 \n",
       "Q 2769 4750 3195 4129 \n",
       "Q 3622 3509 3622 2328 \n",
       "Q 3622 1225 3098 567 \n",
       "Q 2575 -91 1691 -91 \n",
       "Q 1453 -91 1209 -44 \n",
       "Q 966 3 703 97 \n",
       "z\n",
       "M 1959 2075 \n",
       "Q 2384 2075 2632 2365 \n",
       "Q 2881 2656 2881 3163 \n",
       "Q 2881 3666 2632 3958 \n",
       "Q 2384 4250 1959 4250 \n",
       "Q 1534 4250 1286 3958 \n",
       "Q 1038 3666 1038 3163 \n",
       "Q 1038 2656 1286 2365 \n",
       "Q 1534 2075 1959 2075 \n",
       "z\n",
       "\" transform=\"scale(0.015625)\"/>\n",
       "      </defs>\n",
       "      <use xlink:href=\"#DejaVuSans-31\"/>\n",
       "      <use xlink:href=\"#DejaVuSans-30\" x=\"63.623047\"/>\n",
       "      <use xlink:href=\"#DejaVuSans-39\" x=\"127.246094\"/>\n",
       "     </g>\n",
       "    </g>\n",
       "   </g>\n",
       "  </g>\n",
       " </g>\n",
       " <defs>\n",
       "  <clipPath id=\"p4c1f173943\">\n",
       "   <rect x=\"7.2\" y=\"7.2\" width=\"432\" height=\"288\"/>\n",
       "  </clipPath>\n",
       " </defs>\n",
       "</svg>\n"
      ],
      "text/plain": [
       "<Figure size 432x288 with 1 Axes>"
      ]
     },
     "metadata": {},
     "output_type": "display_data"
    }
   ],
   "source": [
    "import numpy as np\n",
    "import networkx as nx\n",
    "import matplotlib.pyplot as plt\n",
    "\n",
    "np.set_printoptions(threshold=10000000)\n",
    "\n",
    "B = nx.Graph()\n",
    "\n",
    "user_num = 7\n",
    "item_num = 10\n",
    "\n",
    "user_nodes = [i for i in range(user_num)]\n",
    "item_nodes = [i for i in range(100, 100 + item_num)]\n",
    "\n",
    "B.add_nodes_from(user_nodes, bipartite=0)\n",
    "B.add_nodes_from(item_nodes, bipartite=1)\n",
    "\n",
    "node_color = []\n",
    "\n",
    "for u in user_nodes:\n",
    "  node_color.append('red')\n",
    "for i in item_nodes:\n",
    "  node_color.append('blue')\n",
    "\n",
    "edge_nodes = []\n",
    "pos = {}\n",
    "for _i, u in enumerate(user_nodes):\n",
    "  pos[u] = np.array([-1, - 1.75 * _i])\n",
    "  for _j, i in enumerate(item_nodes):\n",
    "    pos[i] = np.array([1, - 1.75 * _j])\n",
    "    if np.random.random() < 0.15:\n",
    "      edge_nodes.append((u,i))\n",
    "\n",
    "B.add_edges_from(edge_nodes)\n",
    "\n",
    "nx.draw(B, pos=pos, with_labels=True, node_color=node_color)\n",
    "\n",
    "plt.show()"
   ]
  },
  {
   "cell_type": "code",
   "execution_count": 67,
   "metadata": {
    "vscode": {
     "languageId": "python"
    }
   },
   "outputs": [
    {
     "name": "stdout",
     "output_type": "stream",
     "text": [
      "NLLLoss()\n",
      "tensor([[-2.1383, -0.6961, -1.1747,  2.1168, -1.4791],\n",
      "        [ 1.8073,  1.5682,  0.5385,  1.5459, -0.0277],\n",
      "        [ 1.3852, -1.1378,  0.1540, -0.5693,  1.8205]], requires_grad=True)\n",
      "tensor([1, 0, 4])\n",
      "tensor(1.5746, grad_fn=<NllLossBackward0>)\n"
     ]
    }
   ],
   "source": [
    "m = nn.LogSoftmax(dim=1)\n",
    "loss = nn.NLLLoss()\n",
    "\n",
    "print(loss)\n",
    "\n",
    "# 入力のサイズはN x C = 3 x 5\n",
    "input = torch.randn(3, 5, requires_grad=True)\n",
    "\n",
    "print(input)\n",
    "# ターゲットの各要素は0 <=値<Cである必要があります\n",
    "target = torch.tensor([1, 0, 4])\n",
    "print(target)\n",
    "output = loss(m(input), target)\n",
    "print(output)\n",
    "output.backward()"
   ]
  },
  {
   "cell_type": "code",
   "execution_count": null,
   "metadata": {
    "vscode": {
     "languageId": "python"
    }
   },
   "outputs": [],
   "source": []
  },
  {
   "cell_type": "code",
   "execution_count": null,
   "metadata": {
    "vscode": {
     "languageId": "python"
    }
   },
   "outputs": [],
   "source": []
  },
  {
   "cell_type": "markdown",
   "metadata": {},
   "source": [
    "レコメンドにおけるグラフは、通常2部グラフとして表現されます。"
   ]
  },
  {
   "cell_type": "markdown",
   "metadata": {},
   "source": [
    "$$\n",
    "\\tilde{R}=D_{U}^{-\\frac{1}{2}} R D_{I}^{-\\frac{1}{2}}\n",
    "$$"
   ]
  },
  {
   "cell_type": "markdown",
   "metadata": {},
   "source": [
    "networkxにはグラフラプラシアン$L$を求める関数が酔いされています。\n",
    "$$\n",
    "L=D-A\n",
    "$$"
   ]
  },
  {
   "cell_type": "markdown",
   "metadata": {},
   "source": [
    "次数行列は以下の様に求める事が出来ます。\n",
    "\n",
    "$$\n",
    "D = L + A\n",
    "$$"
   ]
  },
  {
   "cell_type": "markdown",
   "metadata": {},
   "source": [
    "## グラフラプラシアンの正規化\n",
    "\n",
    "$$\n",
    "\\tilde{L}=I-\\tilde{A}\n",
    "$$"
   ]
  },
  {
   "cell_type": "markdown",
   "metadata": {},
   "source": [
    "$$\n",
    "\\Delta f=\\frac{\\partial^{2} f}{\\partial x^{2}}+\\frac{\\partial^{2} f}{\\partial y^{2}}+\\frac{\\partial^{2} f}{\\partial z^{2}}\n",
    "$$"
   ]
  },
  {
   "cell_type": "markdown",
   "metadata": {},
   "source": [
    "$$\n",
    "\\Delta h_{\\omega}(x)=\\lambda_{\\omega} h_{\\omega}(x)\n",
    "$$"
   ]
  },
  {
   "cell_type": "markdown",
   "metadata": {},
   "source": [
    "$$\n",
    "h_{\\omega}(x)=e^{i \\omega x}\n",
    "$$"
   ]
  },
  {
   "cell_type": "markdown",
   "metadata": {},
   "source": [
    "$$\n",
    "g(t) * f(t)=\\sum_{\\tau} g(\\tau) f(t-\\tau)\n",
    "$$"
   ]
  },
  {
   "cell_type": "markdown",
   "metadata": {},
   "source": [
    "$$\n",
    "F[g(t) * f(t)]=F[g(t)] F[f(t)]\n",
    "$$"
   ]
  },
  {
   "cell_type": "markdown",
   "metadata": {},
   "source": [
    "$$\n",
    "\\begin{gathered}\n",
    "\\hat{\\mathbf{x}}=\\mathbf{U}^{T} \\mathbf{x} \\\\\n",
    "\\mathbf{x}=\\mathbf{U} \\widehat{\\mathbf{x}}\n",
    "\\end{gathered}\n",
    "$$"
   ]
  },
  {
   "cell_type": "markdown",
   "metadata": {},
   "source": [
    "$$\n",
    "\\mathcal{H}(\\boldsymbol{L})=\\operatorname{UDiag}\\left(h\\left(\\lambda_{1}\\right), \\cdots, h\\left(\\lambda_{n}\\right)\\right) U^{T}\n",
    "$$"
   ]
  },
  {
   "cell_type": "code",
   "execution_count": null,
   "metadata": {
    "vscode": {
     "languageId": "python"
    }
   },
   "outputs": [],
   "source": []
  },
  {
   "cell_type": "code",
   "execution_count": null,
   "metadata": {
    "vscode": {
     "languageId": "python"
    }
   },
   "outputs": [],
   "source": []
  },
  {
   "cell_type": "code",
   "execution_count": 68,
   "metadata": {
    "vscode": {
     "languageId": "python"
    }
   },
   "outputs": [
    {
     "ename": "ModuleNotFoundError",
     "evalue": "No module named 'SVDppRecommender'",
     "output_type": "error",
     "traceback": [
      "\u001b[0;31m---------------------------------------------------------------------------\u001b[0m",
      "\u001b[0;31mModuleNotFoundError\u001b[0m                       Traceback (most recent call last)",
      "\u001b[0;32m<ipython-input-68-7cab36334607>\u001b[0m in \u001b[0;36m<module>\u001b[0;34m\u001b[0m\n\u001b[1;32m      2\u001b[0m \u001b[0;32mfrom\u001b[0m \u001b[0mtorch\u001b[0m\u001b[0;34m.\u001b[0m\u001b[0mutils\u001b[0m\u001b[0;34m.\u001b[0m\u001b[0mdata\u001b[0m \u001b[0;32mimport\u001b[0m \u001b[0mDataLoader\u001b[0m\u001b[0;34m,\u001b[0m \u001b[0mDataset\u001b[0m\u001b[0;34m\u001b[0m\u001b[0;34m\u001b[0m\u001b[0m\n\u001b[1;32m      3\u001b[0m \u001b[0;34m\u001b[0m\u001b[0m\n\u001b[0;32m----> 4\u001b[0;31m \u001b[0;32mfrom\u001b[0m \u001b[0mSVDppRecommender\u001b[0m \u001b[0;32mimport\u001b[0m \u001b[0mSVDpp\u001b[0m\u001b[0;34m\u001b[0m\u001b[0;34m\u001b[0m\u001b[0m\n\u001b[0m\u001b[1;32m      5\u001b[0m \u001b[0;34m\u001b[0m\u001b[0m\n\u001b[1;32m      6\u001b[0m \u001b[0;32mclass\u001b[0m \u001b[0mRateDataset\u001b[0m\u001b[0;34m(\u001b[0m\u001b[0mDataset\u001b[0m\u001b[0;34m)\u001b[0m\u001b[0;34m:\u001b[0m\u001b[0;34m\u001b[0m\u001b[0;34m\u001b[0m\u001b[0m\n",
      "\u001b[0;31mModuleNotFoundError\u001b[0m: No module named 'SVDppRecommender'"
     ]
    }
   ],
   "source": [
    "import torch\n",
    "from torch.utils.data import DataLoader, Dataset\n",
    "\n",
    "from SVDppRecommender import SVDpp\n",
    "\n",
    "class RateDataset(Dataset):\n",
    "    def __init__(self, user_tensor, item_tensor, target_tensor):\n",
    "        self.user_tensor = user_tensor\n",
    "        self.item_tensor = item_tensor\n",
    "        self.target_tensor = target_tensor\n",
    "\n",
    "    def __getitem__(self, index):\n",
    "        return self.user_tensor[index], self.item_tensor[index], self.target_tensor[index]\n",
    "    \n",
    "    def __len__(self):\n",
    "        return self.user_tensor.size(0)\n",
    "\n",
    "data = {(0,0): 4, \n",
    "        (0,1): 5, \n",
    "        (0,2): 3,\n",
    "        (0,3): 4, \n",
    "        (1,0): 5, \n",
    "        (1,1): 3,\n",
    "        (1,2): 4, \n",
    "        (1,3): 1, \n",
    "        (2,0): 3,\n",
    "        (2,1): 2, \n",
    "        (2,2): 5, \n",
    "        (2,3): 5,\n",
    "        (3,0): 4, \n",
    "        (3,1): 2, \n",
    "        (3,2): 3,\n",
    "        (3,3): 1\n",
    "        }\n",
    "Iu = {key:[0,1,2,3] for key in range(4)}\n",
    "\n",
    "user_tensor = torch.LongTensor([key[0] for key in data.keys()])\n",
    "item_tensor = torch.LongTensor([key[1] for key in data.keys()])\n",
    "rating_tensor = torch.FloatTensor([val for val in data.values()])\n",
    "\n",
    "params = {'num_users': 4, \n",
    "          'num_items': 4,\n",
    "          'global_mean': 3, \n",
    "          'latent_dim': 10\n",
    "        }\n",
    "\n",
    "model = SVDpp(params)\n",
    "criterion = torch.nn.MSELoss()\n",
    "optimizer = torch.optim.SGD(model.parameters(), lr=0.01, momentum=0.9)\n",
    "\n",
    "dataset = RateDataset(user_tensor, item_tensor, rating_tensor)\n",
    "train_loader = DataLoader(dataset, batch_size=10, shuffle=True)\n",
    "\n",
    "for epoch in range(30):\n",
    "    for bid, batch in enumerate(train_loader):\n",
    "        u, i, r = batch[0], batch[1], batch[2]\n",
    "        r = r.float()\n",
    "        # forward pass\n",
    "        preds = model(u, i, Iu)\n",
    "        loss = criterion(preds, r)\n",
    "\n",
    "        # backward and optimize\n",
    "        optimizer.zero_grad()\n",
    "        loss.backward()\n",
    "        optimizer.step()\n",
    "\n",
    "    print('Epoch [{}/30], Loss: {:.4f}'.format(epoch + 1, loss.item()))\n",
    "    "
   ]
  },
  {
   "cell_type": "code",
   "execution_count": 69,
   "metadata": {
    "vscode": {
     "languageId": "python"
    }
   },
   "outputs": [],
   "source": [
    "import numpy as np\n",
    "X = np.array([[1, 1], [2, 1], [3, 1.2], [4, 1], [5, 0.8], [6, 1]])\n",
    "from sklearn.decomposition import NMF\n",
    "model = NMF(n_components=2, init='random', random_state=0)\n",
    "W = model.fit_transform(A_hat)\n",
    "H = model.components_"
   ]
  },
  {
   "cell_type": "code",
   "execution_count": 70,
   "metadata": {
    "vscode": {
     "languageId": "python"
    }
   },
   "outputs": [
    {
     "data": {
      "text/plain": [
       "array([[1. , 1. ],\n",
       "       [2. , 1. ],\n",
       "       [3. , 1.2],\n",
       "       [4. , 1. ],\n",
       "       [5. , 0.8],\n",
       "       [6. , 1. ]])"
      ]
     },
     "execution_count": 70,
     "metadata": {},
     "output_type": "execute_result"
    }
   ],
   "source": [
    "X"
   ]
  },
  {
   "cell_type": "code",
   "execution_count": 71,
   "metadata": {
    "vscode": {
     "languageId": "python"
    }
   },
   "outputs": [
    {
     "data": {
      "text/plain": [
       "array([[1.55391099e-11, 3.40767530e-01],\n",
       "       [0.00000000e+00, 4.17373793e-01],\n",
       "       [1.55391099e-11, 3.40767530e-01],\n",
       "       [5.83954597e-01, 0.00000000e+00],\n",
       "       [3.37146309e-01, 0.00000000e+00],\n",
       "       [0.00000000e+00, 0.00000000e+00],\n",
       "       [5.83954597e-01, 0.00000000e+00]])"
      ]
     },
     "execution_count": 71,
     "metadata": {},
     "output_type": "execute_result"
    }
   ],
   "source": [
    "W"
   ]
  },
  {
   "cell_type": "code",
   "execution_count": 72,
   "metadata": {
    "vscode": {
     "languageId": "python"
    }
   },
   "outputs": [
    {
     "data": {
      "text/plain": [
       "array([[5.99236855e-01, 7.33912241e-01, 5.99236855e-01, 2.27854326e-12,\n",
       "        0.00000000e+00, 0.00000000e+00, 2.27854326e-12],\n",
       "       [0.00000000e+00, 0.00000000e+00, 0.00000000e+00, 1.02685282e+00,\n",
       "        5.92873174e-01, 0.00000000e+00, 1.02685282e+00]])"
      ]
     },
     "execution_count": 72,
     "metadata": {},
     "output_type": "execute_result"
    }
   ],
   "source": [
    "H"
   ]
  },
  {
   "cell_type": "code",
   "execution_count": 73,
   "metadata": {
    "vscode": {
     "languageId": "python"
    }
   },
   "outputs": [
    {
     "data": {
      "text/plain": [
       "array([[0.  , 0.  , 0.  , 0.35, 0.2 , 0.  , 0.35],\n",
       "       [0.  , 0.  , 0.  , 0.43, 0.25, 0.  , 0.43],\n",
       "       [0.  , 0.  , 0.  , 0.35, 0.2 , 0.  , 0.35],\n",
       "       [0.35, 0.43, 0.35, 0.  , 0.  , 0.  , 0.  ],\n",
       "       [0.2 , 0.25, 0.2 , 0.  , 0.  , 0.  , 0.  ],\n",
       "       [0.  , 0.  , 0.  , 0.  , 0.  , 0.  , 0.  ],\n",
       "       [0.35, 0.43, 0.35, 0.  , 0.  , 0.  , 0.  ]])"
      ]
     },
     "execution_count": 73,
     "metadata": {},
     "output_type": "execute_result"
    }
   ],
   "source": [
    "np.dot(W, H).round(2)"
   ]
  },
  {
   "cell_type": "code",
   "execution_count": null,
   "metadata": {
    "vscode": {
     "languageId": "python"
    }
   },
   "outputs": [],
   "source": []
  }
 ],
 "metadata": {
  "kernelspec": {
   "display_name": "rec",
   "language": "python",
   "name": "rec"
  },
  "language_info": {
   "codemirror_mode": {
    "name": "ipython",
    "version": 3
   },
   "file_extension": ".py",
   "mimetype": "text/x-python",
   "name": "python",
   "nbconvert_exporter": "python",
   "pygments_lexer": "ipython3",
   "version": "3.8.13"
  }
 },
 "nbformat": 4,
 "nbformat_minor": 4
}
