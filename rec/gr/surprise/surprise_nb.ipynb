{
 "cells": [
  {
   "cell_type": "markdown",
   "metadata": {},
   "source": [
    "## [Surprise & Pytorch] Matrix Factorization\n",
    "\n",
    "pytorchで行列分解(Matrix Factorization)をやってみる。\n",
    "\n",
    "推薦システムを開発していると、最初のベースラインとして、行列分解（Matrix Factorization）がモデルとして採用されることが多くあります。\n",
    "\n",
    "### github\n",
    "- jupyter notebook形式のファイルは[こちら](https://github.com/hiroshi0530/wa-src/blob/master/rec/gr/mf/surprise_nb.ipynb)\n",
    "\n",
    "### google colaboratory\n",
    "- google colaboratory で実行する場合は[こちら](https://colab.research.google.com/github/hiroshi0530/wa-src/blob/master/rec/gr/mf/surprise_nb.ipynb)\n",
    "\n",
    "### 実行環境"
   ]
  },
  {
   "cell_type": "code",
   "execution_count": 2,
   "metadata": {},
   "outputs": [
    {
     "name": "stdout",
     "output_type": "stream",
     "text": [
      "ProductName:\tmacOS\n",
      "ProductVersion:\t11.6.7\n",
      "BuildVersion:\t20G630\n"
     ]
    }
   ],
   "source": [
    "!sw_vers"
   ]
  },
  {
   "cell_type": "code",
   "execution_count": 3,
   "metadata": {},
   "outputs": [
    {
     "name": "stdout",
     "output_type": "stream",
     "text": [
      "Python 3.8.13\n"
     ]
    }
   ],
   "source": [
    "!python -V"
   ]
  },
  {
   "cell_type": "markdown",
   "metadata": {},
   "source": [
    "$$\n",
    "f(\\mathbf{U}, \\mathbf{V})=\\frac{1}{2} \\sum_{(x, y) \\in \\mathcal{D}}\\left(r_{x y}-\\mathbf{u}_{x}^{\\top} \\mathbf{v}_{y}\\right)^{2}+\\frac{\\lambda}{2}\\left(\\|\\mathbf{U}\\|_{F}^{2}+\\|\\mathbf{V}\\|_{F}^{2}\\right)\n",
    "$$"
   ]
  },
  {
   "cell_type": "markdown",
   "metadata": {},
   "source": [
    "$$\n",
    "\\begin{aligned}\n",
    "&\\mathbf{u}_{x} \\leftarrow-\\eta\\left\\{-\\left(r_{x y}-\\mathbf{u}_{x}^{\\top} \\mathbf{v}_{y}\\right) \\mathbf{v}_{y}+\\lambda \\mathbf{u}_{x}\\right\\} \\\\\n",
    "&\\mathbf{v}_{y} \\leftarrow-\\eta\\left\\{-\\left(r_{x y}-\\mathbf{u}_{x}^{\\top} \\mathbf{v}_{y}\\right) \\mathbf{u}_{x}+\\lambda \\mathbf{v}_{y}\\right\\}\n",
    "\\end{aligned}\n",
    "$$"
   ]
  },
  {
   "cell_type": "markdown",
   "metadata": {},
   "source": [
    "基本的なライブラリをインポートしそのバージョンを確認しておきます。\n",
    "学習をpytorchを利用し、ネットワーク関係はnetworkxを利用する。"
   ]
  },
  {
   "cell_type": "code",
   "execution_count": 4,
   "metadata": {},
   "outputs": [
    {
     "name": "stdout",
     "output_type": "stream",
     "text": [
      "matplotlib  : 3.5.1\n",
      "networkdx   : 2.7.1\n",
      "numpy       : 1.22.3\n",
      "torch       : 1.12.0\n",
      "surprise    : 1.1.1\n"
     ]
    }
   ],
   "source": [
    "%matplotlib inline\n",
    "%config InlineBackend.figure_format = 'svg'\n",
    "\n",
    "import numpy as np\n",
    "import pandas as pd\n",
    "import matplotlib.pyplot as plt\n",
    "\n",
    "import torch\n",
    "import torch.nn.functional as F\n",
    "import torch.optim as optim\n",
    "import torch.nn as nn\n",
    "\n",
    "import networkx as nx\n",
    "\n",
    "import surprise\n",
    "import matplotlib\n",
    "\n",
    "from surprise import SVD, Reader\n",
    "from surprise import Dataset as surprise_dataset\n",
    "\n",
    "print('matplotlib  : {}'.format(matplotlib.__version__))\n",
    "print('networkdx   : {}'.format(nx.__version__))\n",
    "print('numpy       : {}'.format(np.__version__))\n",
    "print('torch       : {}'.format(torch.__version__))\n",
    "print('surprise    : {}'.format(surprise.__version__))"
   ]
  },
  {
   "cell_type": "code",
   "execution_count": 5,
   "metadata": {},
   "outputs": [],
   "source": [
    "import random\n",
    "\n",
    "seed = 123\n",
    "\n",
    "def init_seed(seed):\n",
    "    random.seed(seed)\n",
    "    np.random.seed(seed)\n",
    "    torch.manual_seed(seed)\n",
    "    torch.cuda.manual_seed(seed)\n",
    "    torch.cuda.manual_seed_all(seed)\n",
    "\n",
    "init_seed(seed)"
   ]
  },
  {
   "cell_type": "code",
   "execution_count": 6,
   "metadata": {},
   "outputs": [
    {
     "data": {
      "text/html": [
       "<div>\n",
       "<style scoped>\n",
       "    .dataframe tbody tr th:only-of-type {\n",
       "        vertical-align: middle;\n",
       "    }\n",
       "\n",
       "    .dataframe tbody tr th {\n",
       "        vertical-align: top;\n",
       "    }\n",
       "\n",
       "    .dataframe thead th {\n",
       "        text-align: right;\n",
       "    }\n",
       "</style>\n",
       "<table border=\"1\" class=\"dataframe\">\n",
       "  <thead>\n",
       "    <tr style=\"text-align: right;\">\n",
       "      <th></th>\n",
       "      <th>user_id</th>\n",
       "      <th>item_id</th>\n",
       "      <th>rating</th>\n",
       "    </tr>\n",
       "  </thead>\n",
       "  <tbody>\n",
       "    <tr>\n",
       "      <th>0</th>\n",
       "      <td>0</td>\n",
       "      <td>0</td>\n",
       "      <td>1</td>\n",
       "    </tr>\n",
       "    <tr>\n",
       "      <th>1</th>\n",
       "      <td>0</td>\n",
       "      <td>1</td>\n",
       "      <td>1</td>\n",
       "    </tr>\n",
       "    <tr>\n",
       "      <th>2</th>\n",
       "      <td>0</td>\n",
       "      <td>4</td>\n",
       "      <td>1</td>\n",
       "    </tr>\n",
       "    <tr>\n",
       "      <th>3</th>\n",
       "      <td>1</td>\n",
       "      <td>0</td>\n",
       "      <td>1</td>\n",
       "    </tr>\n",
       "    <tr>\n",
       "      <th>4</th>\n",
       "      <td>1</td>\n",
       "      <td>1</td>\n",
       "      <td>1</td>\n",
       "    </tr>\n",
       "    <tr>\n",
       "      <th>5</th>\n",
       "      <td>1</td>\n",
       "      <td>3</td>\n",
       "      <td>1</td>\n",
       "    </tr>\n",
       "    <tr>\n",
       "      <th>6</th>\n",
       "      <td>2</td>\n",
       "      <td>1</td>\n",
       "      <td>1</td>\n",
       "    </tr>\n",
       "    <tr>\n",
       "      <th>7</th>\n",
       "      <td>2</td>\n",
       "      <td>2</td>\n",
       "      <td>1</td>\n",
       "    </tr>\n",
       "  </tbody>\n",
       "</table>\n",
       "</div>"
      ],
      "text/plain": [
       "   user_id  item_id  rating\n",
       "0        0        0       1\n",
       "1        0        1       1\n",
       "2        0        4       1\n",
       "3        1        0       1\n",
       "4        1        1       1\n",
       "5        1        3       1\n",
       "6        2        1       1\n",
       "7        2        2       1"
      ]
     },
     "execution_count": 6,
     "metadata": {},
     "output_type": "execute_result"
    }
   ],
   "source": [
    "df = pd.DataFrame({\n",
    "    'user_id': [0, 0, 0, 1, 1, 1, 2, 2],\n",
    "    'item_id': [0, 1, 4, 0, 1, 3, 1, 2],\n",
    "    'rating': [1, 1, 1, 1, 1, 1, 1, 1]\n",
    "})\n",
    "\n",
    "df"
   ]
  },
  {
   "cell_type": "code",
   "execution_count": 7,
   "metadata": {},
   "outputs": [
    {
     "data": {
      "text/html": [
       "<div>\n",
       "<style scoped>\n",
       "    .dataframe tbody tr th:only-of-type {\n",
       "        vertical-align: middle;\n",
       "    }\n",
       "\n",
       "    .dataframe tbody tr th {\n",
       "        vertical-align: top;\n",
       "    }\n",
       "\n",
       "    .dataframe thead th {\n",
       "        text-align: right;\n",
       "    }\n",
       "</style>\n",
       "<table border=\"1\" class=\"dataframe\">\n",
       "  <thead>\n",
       "    <tr style=\"text-align: right;\">\n",
       "      <th></th>\n",
       "      <th>user_id</th>\n",
       "      <th>item_id</th>\n",
       "      <th>rating</th>\n",
       "    </tr>\n",
       "  </thead>\n",
       "  <tbody>\n",
       "    <tr>\n",
       "      <th>0</th>\n",
       "      <td>0</td>\n",
       "      <td>0</td>\n",
       "      <td>1</td>\n",
       "    </tr>\n",
       "    <tr>\n",
       "      <th>1</th>\n",
       "      <td>0</td>\n",
       "      <td>1</td>\n",
       "      <td>1</td>\n",
       "    </tr>\n",
       "    <tr>\n",
       "      <th>2</th>\n",
       "      <td>0</td>\n",
       "      <td>4</td>\n",
       "      <td>1</td>\n",
       "    </tr>\n",
       "    <tr>\n",
       "      <th>3</th>\n",
       "      <td>1</td>\n",
       "      <td>0</td>\n",
       "      <td>1</td>\n",
       "    </tr>\n",
       "    <tr>\n",
       "      <th>4</th>\n",
       "      <td>1</td>\n",
       "      <td>1</td>\n",
       "      <td>1</td>\n",
       "    </tr>\n",
       "    <tr>\n",
       "      <th>5</th>\n",
       "      <td>1</td>\n",
       "      <td>3</td>\n",
       "      <td>1</td>\n",
       "    </tr>\n",
       "    <tr>\n",
       "      <th>6</th>\n",
       "      <td>2</td>\n",
       "      <td>1</td>\n",
       "      <td>1</td>\n",
       "    </tr>\n",
       "    <tr>\n",
       "      <th>7</th>\n",
       "      <td>2</td>\n",
       "      <td>2</td>\n",
       "      <td>1</td>\n",
       "    </tr>\n",
       "  </tbody>\n",
       "</table>\n",
       "</div>"
      ],
      "text/plain": [
       "   user_id  item_id  rating\n",
       "0        0        0       1\n",
       "1        0        1       1\n",
       "2        0        4       1\n",
       "3        1        0       1\n",
       "4        1        1       1\n",
       "5        1        3       1\n",
       "6        2        1       1\n",
       "7        2        2       1"
      ]
     },
     "metadata": {},
     "output_type": "display_data"
    },
    {
     "name": "stdout",
     "output_type": "stream",
     "text": [
      "[[ 0.3965334   0.82364193 -0.30476351 -0.37181569]\n",
      " [ 0.26612714  0.70783758 -0.4151934  -0.57362266]\n",
      " [ 0.66737401  0.3382212  -0.26079618 -0.70329754]]\n",
      "[[ 0.32961261  0.70313976 -0.35658768 -0.4312383 ]\n",
      " [ 0.50253984  0.61136693 -0.2852638  -0.51425626]\n",
      " [ 0.34504869  0.81659032 -0.26245357 -0.23947281]\n",
      " [ 0.09845349  0.62906891 -0.39950072 -0.59367298]\n",
      " [ 0.56518677  0.12663786 -0.21856059 -0.71453742]]\n",
      "[0. 0. 0.]\n",
      "[0. 0. 0. 0. 0.]\n"
     ]
    },
    {
     "data": {
      "text/plain": [
       "tensor([[0.9789, 0.9810, 0.9784, 0.8997, 0.6607],\n",
       "        [0.9808, 0.9799, 0.9162, 0.9779, 0.7407],\n",
       "        [0.8541, 0.9782, 0.7433, 0.8002, 0.9796]], dtype=torch.float64)"
      ]
     },
     "execution_count": 7,
     "metadata": {},
     "output_type": "execute_result"
    }
   ],
   "source": [
    "reader = Reader(rating_scale=(1, 2))\n",
    "train = surprise_dataset.load_from_df(\n",
    "    df[[\"user_id\", \"item_id\", \"rating\"]], reader\n",
    ").build_full_trainset()\n",
    "\n",
    "n_factors = 4\n",
    "n_epochs = 300\n",
    "lr_all = 5e-2\n",
    "biased = False\n",
    "\n",
    "mf = SVD(n_factors=n_factors, n_epochs=n_epochs, lr_all=lr_all, biased=biased)\n",
    "mf.fit(train)\n",
    "\n",
    "display(df)\n",
    "\n",
    "testset = train.build_anti_testset()\n",
    "predictions = mf.test(testset)\n",
    "predictions\n",
    "\n",
    "print(mf.pu)\n",
    "print(mf.qi)\n",
    "print(mf.bu)\n",
    "print(mf.bi)\n",
    "\n",
    "torch.matmul(torch.tensor(mf.pu), torch.tensor(mf.qi).T)\n",
    "\n",
    "# testset\n",
    "#\n",
    "# def get_top_n(predictions, n=10):\n",
    "#     '''\n",
    "#     予測セットに基いて各ユーザにトップN件のレコメンデーションを返す。\n",
    "#     '''\n",
    "#\n",
    "#     # まず各ユーザに予測値をマップする。\n",
    "#     top_n = defaultdict(list)\n",
    "#     for uid, iid, true_r, est, _ in predictions:\n",
    "#         top_n[uid].append((iid, est))\n",
    "#\n",
    "#     # そして各ユーザに対して予測値をソートして最も高いk個を返す。\n",
    "#     for uid, user_ratings in top_n.items():\n",
    "#         user_ratings.sort(key=lambda x: x[1], reverse=True)\n",
    "#         top_n[uid] = user_ratings[:n]\n",
    "#\n",
    "#     return top_n\n",
    "#\n",
    "# top_n = get_top_n(predictions, n=10)\n",
    "# print(top_n)\n",
    "#\n",
    "# # 各ユーザにレコメンドされるアイテムを表示する。\n",
    "# for uid, user_ratings in top_n.items():\n",
    "#     print(uid, [iid for (iid, _) in user_ratings])\n",
    "#"
   ]
  },
  {
   "cell_type": "code",
   "execution_count": 57,
   "metadata": {},
   "outputs": [
    {
     "data": {
      "text/plain": [
       "array([[1., 1., 0., 0., 1.],\n",
       "       [1., 1., 0., 1., 0.],\n",
       "       [0., 1., 1., 0., 0.]], dtype=float32)"
      ]
     },
     "execution_count": 57,
     "metadata": {},
     "output_type": "execute_result"
    }
   ],
   "source": [
    "n_test_users = 3\n",
    "n_test_items = 5\n",
    "\n",
    "n_users = 1000\n",
    "n_items = 1000\n",
    "\n",
    "from tokenize import Double\n",
    "from scipy import sparse\n",
    "from scipy.sparse import coo_matrix\n",
    "\n",
    "\n",
    "class TestDataset(torch.nn.Module):\n",
    "    def __init__(self):\n",
    "        self.row = torch.tensor([0, 0, 0, 1, 1, 1, 2, 2])\n",
    "        self.col = torch.tensor([0, 1, 4, 0, 1, 3, 1, 2])\n",
    "        self.data = torch.tensor([1, 1, 1, 1, 1, 1, 1, 1], dtype=torch.float)\n",
    "\n",
    "        self.shape = (n_test_users, n_test_items)\n",
    "        # self.double()\n",
    "\n",
    "    def __call__(self):\n",
    "        return coo_matrix((self.data, (self.row, self.col)), shape=self.shape)\n",
    "\n",
    "    def __str__(self):\n",
    "        return 'array : \\n{}'.format(coo_matrix((self.data, (self.row, self.col)), shape=self.shape).toarray())\n",
    "\n",
    "    def to_numpy(self):\n",
    "        return coo_matrix((self.data, (self.row, self.col)), shape=self.shape).toarray()\n",
    "\n",
    "    def __iter__(self):\n",
    "        for d, r, c in zip(self.data, self.row, self.col):\n",
    "            yield (d, (r, c))\n",
    "\n",
    "\n",
    "TestDataset().to_numpy()\n"
   ]
  },
  {
   "cell_type": "code",
   "execution_count": 58,
   "metadata": {},
   "outputs": [],
   "source": [
    "class MF(torch.nn.Module):\n",
    "    def __init__(self, n_users, n_items, n_factors=20, config=None, dataset=None):\n",
    "        super(MF, self).__init__()\n",
    "        self.user_embedding = torch.nn.Embedding(n_users, n_factors, sparse=True)\n",
    "        self.item_embedding = torch.nn.Embedding(n_items, n_factors, sparse=True)\n",
    "\n",
    "\n",
    "    def forward(self, user_idx, item_idx):\n",
    "        return torch.matmul(self.user_embedding(user_idx), self.item_embedding(item_idx).T)\n",
    "\n",
    "    def to_matrix(self):\n",
    "        return torch.matmul(self.user_embedding.weight, self.item_embedding.weight.T)\n",
    "\n",
    "    def get_regloss(self):\n",
    "        return 0.02 * (torch.pow(self.user_embedding.weight, 2).sum() + torch.pow(self.item_embedding.weight, 2).sum())\n"
   ]
  },
  {
   "cell_type": "code",
   "execution_count": 60,
   "metadata": {},
   "outputs": [
    {
     "name": "stdout",
     "output_type": "stream",
     "text": [
      "loss  1 19.586370706558228\n",
      "loss  2 8.284650295972824\n",
      "loss  3 4.8067761063575745\n",
      "loss  4 3.768440306186676\n",
      "loss  5 3.189052641391754\n",
      "loss  6 2.8815841376781464\n",
      "loss  7 2.7084111869335175\n",
      "loss  8 2.545808583498001\n",
      "loss  9 2.410690814256668\n",
      "loss  10 2.309592306613922\n",
      "loss  11 2.2165973782539368\n",
      "loss  12 2.1269237995147705\n",
      "loss  13 2.0438553541898727\n",
      "loss  14 1.9677636623382568\n",
      "loss  15 1.8981266170740128\n",
      "loss  16 1.8345715552568436\n",
      "loss  17 1.7765497714281082\n",
      "loss  18 1.7234667837619781\n",
      "loss  19 1.6749128848314285\n",
      "loss  20 1.6306789070367813\n",
      "loss  21 1.5905316919088364\n",
      "loss  22 1.5541362166404724\n",
      "loss  23 1.521167442202568\n",
      "loss  24 1.4913658797740936\n",
      "loss  25 1.4644881039857864\n",
      "loss  26 1.4402796477079391\n",
      "loss  27 1.4184948056936264\n",
      "loss  28 1.3989096283912659\n",
      "loss  29 1.3813174366950989\n",
      "loss  30 1.365525245666504\n",
      "loss  31 1.3513532727956772\n",
      "loss  32 1.338634267449379\n",
      "loss  33 1.3272148370742798\n",
      "loss  34 1.3169567734003067\n",
      "loss  35 1.3077347576618195\n",
      "loss  36 1.2994355261325836\n",
      "loss  37 1.2919573187828064\n",
      "loss  38 1.285209134221077\n",
      "loss  39 1.27910977602005\n",
      "loss  40 1.27358740568161\n",
      "loss  41 1.2685777992010117\n",
      "loss  42 1.2640245407819748\n",
      "loss  43 1.259877398610115\n",
      "loss  44 1.256092220544815\n",
      "loss  45 1.252629742026329\n",
      "loss  46 1.2494555115699768\n",
      "loss  47 1.2465390712022781\n",
      "loss  48 1.2438536435365677\n",
      "loss  49 1.2413752228021622\n",
      "loss  50 1.2390830516815186\n",
      "loss  51 1.2369586825370789\n",
      "loss  52 1.2349855303764343\n",
      "loss  53 1.233149453997612\n",
      "loss  54 1.2314375042915344\n",
      "loss  55 1.2298383712768555\n",
      "loss  56 1.2283421009778976\n",
      "loss  57 1.226939707994461\n",
      "loss  58 1.2256233245134354\n",
      "loss  59 1.2243858128786087\n",
      "loss  60 1.2232209295034409\n",
      "loss  61 1.222122997045517\n",
      "loss  62 1.221087098121643\n",
      "loss  63 1.2201084345579147\n",
      "[[0.947 0.958 0.593 0.917 0.901]\n",
      " [0.941 0.981 0.643 0.917 0.883]\n",
      " [0.605 0.934 0.884 0.614 0.532]]\n"
     ]
    },
    {
     "data": {
      "text/plain": [
       "array([[1., 1., 0., 0., 1.],\n",
       "       [1., 1., 0., 1., 0.],\n",
       "       [0., 1., 1., 0., 0.]], dtype=float32)"
      ]
     },
     "execution_count": 60,
     "metadata": {},
     "output_type": "execute_result"
    }
   ],
   "source": [
    "\n",
    "from torch import autograd\n",
    "\n",
    "\n",
    "model = MF(n_test_users, n_test_items, n_factors=4)\n",
    "loss_function = nn.MSELoss()\n",
    "optimizer = optim.Adam(model.parameters(), lr=lr_all)\n",
    "\n",
    "last_accum_loss = np.Inf\n",
    "for _idx in range(n_epochs):\n",
    "    accum_loss = 0.\n",
    "\n",
    "    for data, (user_idx, item_idx) in TestDataset():\n",
    "\n",
    "        model.zero_grad()\n",
    "        prediction = model(user_idx, item_idx)\n",
    "        loss = loss_function(prediction, data.clone().detach()) + model.get_regloss()\n",
    "        accum_loss += loss.item()\n",
    "        loss.backward()\n",
    "        optimizer.step()\n",
    "\n",
    "    print('loss ', _idx + 1, accum_loss)\n",
    "    if abs(accum_loss - last_accum_loss) < 1e-3:\n",
    "        break\n",
    "    last_accum_loss = accum_loss\n",
    "\n",
    "\n",
    "print(model.to_matrix().to('cpu').detach().numpy().copy().round(3))\n",
    "\n",
    "TestDataset().to_numpy()\n"
   ]
  },
  {
   "cell_type": "code",
   "execution_count": null,
   "metadata": {},
   "outputs": [],
   "source": []
  },
  {
   "cell_type": "markdown",
   "metadata": {},
   "source": [
    "## 確認 "
   ]
  },
  {
   "cell_type": "code",
   "execution_count": 11,
   "metadata": {},
   "outputs": [
    {
     "data": {
      "text/plain": [
       "array([[1., 1., 0., 0., 1.],\n",
       "       [1., 1., 0., 1., 0.],\n",
       "       [0., 1., 1., 0., 0.]])"
      ]
     },
     "execution_count": 11,
     "metadata": {},
     "output_type": "execute_result"
    }
   ],
   "source": [
    "from scipy.sparse import coo_matrix\n",
    "\n",
    "row = torch.tensor([0, 0, 0, 1, 1, 1, 2, 2])\n",
    "col = torch.tensor([0, 1, 4, 0, 1, 3, 1, 2])\n",
    "data = torch.tensor([1, 1, 1, 1, 1, 1, 1, 1])\n",
    "\n",
    "mat = coo_matrix((data, (row, col)), shape=(3, 5), dtype=float)\n",
    "mat.toarray()\n"
   ]
  },
  {
   "cell_type": "code",
   "execution_count": 12,
   "metadata": {},
   "outputs": [
    {
     "data": {
      "text/plain": [
       "tensor(0.3778, dtype=torch.float64)"
      ]
     },
     "execution_count": 12,
     "metadata": {},
     "output_type": "execute_result"
    }
   ],
   "source": [
    "\n",
    "MSE = nn.MSELoss()\n",
    "MSE(torch.tensor(np.matmul(np.array(mf.pu), np.array(mf.qi).T)), torch.tensor(mat.toarray()))\n",
    "\n",
    "# np.matmul(np.array(mf.pu), np.array(mf.qi).T)\n",
    "# mat.toarray()"
   ]
  },
  {
   "cell_type": "code",
   "execution_count": 13,
   "metadata": {},
   "outputs": [
    {
     "data": {
      "text/plain": [
       "tensor(0.2869, dtype=torch.float64, grad_fn=<MseLossBackward0>)"
      ]
     },
     "execution_count": 13,
     "metadata": {},
     "output_type": "execute_result"
    }
   ],
   "source": [
    "\n",
    "MSE(model.to_matrix(), torch.tensor(mat.toarray()))"
   ]
  },
  {
   "cell_type": "code",
   "execution_count": 14,
   "metadata": {},
   "outputs": [
    {
     "data": {
      "text/plain": [
       "tensor(0.6667, dtype=torch.float64)"
      ]
     },
     "execution_count": 14,
     "metadata": {},
     "output_type": "execute_result"
    }
   ],
   "source": [
    "MSE(torch.tensor([1,2,3], dtype=float), torch.tensor([2,2,4], dtype=float))"
   ]
  },
  {
   "cell_type": "code",
   "execution_count": null,
   "metadata": {},
   "outputs": [],
   "source": []
  },
  {
   "cell_type": "code",
   "execution_count": 42,
   "metadata": {},
   "outputs": [
    {
     "name": "stdout",
     "output_type": "stream",
     "text": [
      "0.6964691855978616\n"
     ]
    },
    {
     "data": {
      "text/plain": [
       "0.28613933495037946"
      ]
     },
     "execution_count": 42,
     "metadata": {},
     "output_type": "execute_result"
    }
   ],
   "source": [
    "import numpy as np\n",
    "\n",
    "np.random.seed(123)\n",
    "print(np.random.random())\n",
    "np.random.random()"
   ]
  },
  {
   "cell_type": "code",
   "execution_count": 43,
   "metadata": {},
   "outputs": [
    {
     "data": {
      "text/plain": [
       "0.2268514535642031"
      ]
     },
     "execution_count": 43,
     "metadata": {},
     "output_type": "execute_result"
    }
   ],
   "source": [
    "np.random.random()"
   ]
  },
  {
   "cell_type": "code",
   "execution_count": 39,
   "metadata": {},
   "outputs": [
    {
     "data": {
      "text/plain": [
       "0.2268514535642031"
      ]
     },
     "execution_count": 39,
     "metadata": {},
     "output_type": "execute_result"
    }
   ],
   "source": [
    "np.random.random()"
   ]
  },
  {
   "cell_type": "code",
   "execution_count": null,
   "metadata": {},
   "outputs": [],
   "source": []
  }
 ],
 "metadata": {
  "kernelspec": {
   "display_name": "rec",
   "language": "python",
   "name": "rec"
  },
  "language_info": {
   "codemirror_mode": {
    "name": "ipython",
    "version": 3
   },
   "file_extension": ".py",
   "mimetype": "text/x-python",
   "name": "python",
   "nbconvert_exporter": "python",
   "pygments_lexer": "ipython3",
   "version": "3.8.13"
  }
 },
 "nbformat": 4,
 "nbformat_minor": 4
}
