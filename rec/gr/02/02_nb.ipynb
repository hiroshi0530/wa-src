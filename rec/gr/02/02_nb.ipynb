{
 "cells": [
  {
   "cell_type": "markdown",
   "metadata": {},
   "source": [
    "# Surpriseの使い方\n",
    "\n",
    "## 概要\n",
    "Pythonのライブラリ「Surprise」は、推薦システムの開発を効率化するために設計されたライブラリである。本ブログでは、Surpriseの定義や性質、具体的な応用例を数式とPythonのコードを用いて紹介する。これにより、機械学習やAIを学習している学生や企業の研究者が、Surpriseを用いて推薦システムを実装するための基礎を学べる。\n",
    "\n",
    "## ソースコード\n",
    "\n",
    "### github\n",
    "- jupyter notebook形式のファイルは[こちら](https://github.com/hiroshi0530/wa-src/blob/master/rec/gr/02/02_nb.ipynb)\n",
    "\n",
    "### google colaboratory\n",
    "- google colaboratory で実行する場合は[こちら](https://colab.research.google.com/github/hiroshi0530/wa-src/blob/master/rec/gr/02/02_nb.ipynb)\n",
    "\n",
    "\n",
    "## 実行環境\n",
    "OSはmacOSである。LinuxやUnixのコマンドとはオプションが異なりますので注意していただきたい。"
   ]
  },
  {
   "cell_type": "code",
   "execution_count": 1,
   "metadata": {},
   "outputs": [
    {
     "name": "stdout",
     "output_type": "stream",
     "text": [
      "ProductName:\t\tmacOS\n",
      "ProductVersion:\t\t13.5.1\n",
      "BuildVersion:\t\t22G90\n"
     ]
    }
   ],
   "source": [
    "!sw_vers"
   ]
  },
  {
   "cell_type": "code",
   "execution_count": 2,
   "metadata": {},
   "outputs": [
    {
     "name": "stdout",
     "output_type": "stream",
     "text": [
      "Python 3.9.17\n"
     ]
    }
   ],
   "source": [
    "!python -V"
   ]
  },
  {
   "cell_type": "markdown",
   "metadata": {},
   "source": [
    "pandasのテーブルを見やすいようにHTMLのテーブルにCSSの設定を行います。"
   ]
  },
  {
   "cell_type": "code",
   "execution_count": null,
   "metadata": {},
   "outputs": [],
   "source": [
    "from IPython.core.display import HTML\n",
    "\n",
    "style = \"\"\"\n",
    "<style>\n",
    "    .dataframe thead tr:only-child th {\n",
    "        text-align: right;\n",
    "    }\n",
    "\n",
    "    .dataframe thead th {\n",
    "        text-align: left;\n",
    "        padding: 5px;\n",
    "    }\n",
    "\n",
    "    .dataframe tbody tr th {\n",
    "        vertical-align: top;\n",
    "        padding: 5px;\n",
    "    }\n",
    "\n",
    "    .dataframe tbody tr:hover {\n",
    "        background-color: #ffff99;\n",
    "    }\n",
    "\n",
    "    .dataframe {\n",
    "        background-color: white;\n",
    "        color: black;\n",
    "        font-size: 16px;\n",
    "    }\n",
    "\n",
    "</style>\n",
    "\"\"\"\n",
    "HTML(style)"
   ]
  },
  {
   "cell_type": "markdown",
   "metadata": {},
   "source": [
    "基本的なライブラリをインポートし watermark を利用してそのバージョンを確認する。\n",
    "ついでに乱数のseedの設定をする。"
   ]
  },
  {
   "cell_type": "code",
   "execution_count": null,
   "metadata": {},
   "outputs": [],
   "source": [
    "%matplotlib inline\n",
    "%config InlineBackend.figure_format = 'svg'"
   ]
  },
  {
   "cell_type": "code",
   "execution_count": 2,
   "metadata": {},
   "outputs": [
    {
     "name": "stdout",
     "output_type": "stream",
     "text": [
      "Python implementation: CPython\n",
      "Python version       : 3.9.17\n",
      "IPython version      : 8.17.2\n",
      "\n",
      "scipy     : 1.11.2\n",
      "numpy     : 1.25.2\n",
      "matplotlib: 3.8.1\n",
      "\n",
      "Watermark: 2.4.3\n",
      "\n"
     ]
    }
   ],
   "source": [
    "import random\n",
    "\n",
    "import scipy\n",
    "import numpy as np\n",
    "\n",
    "import matplotlib\n",
    "import matplotlib.pyplot as plt\n",
    "\n",
    "seed = 123\n",
    "random_state = 123\n",
    "\n",
    "random.seed(seed)\n",
    "np.random.seed(seed)\n",
    "\n",
    "\n",
    "from watermark import watermark\n",
    "\n",
    "print(watermark(python=True, watermark=True, iversions=True, globals_=globals()))"
   ]
  },
  {
   "cell_type": "code",
   "execution_count": null,
   "metadata": {},
   "outputs": [],
   "source": []
  },
  {
   "cell_type": "markdown",
   "metadata": {},
   "source": [
    "## Surpriseの定義と性質\n",
    "\n",
    "### Surpriseとは\n",
    "Surpriseは、簡単にカスタマイズ可能であり、ユーザーの好みに応じて推薦システムを構築できるPythonライブラリである。Surpriseは、さまざまなアルゴリズム（例えば、行列分解やk近傍法）をサポートしており、これらを利用して効果的な推薦システムを実装できる。\n",
    "\n",
    "### Surpriseの特徴\n",
    "1. **多様なアルゴリズム**: 行列分解、k近傍法、ベースライン推定など、多様な推薦アルゴリズムをサポート。\n",
    "2. **データセットの柔軟性**: 内蔵のデータセットだけでなく、ユーザーが独自のデータセットを読み込んで利用できる。\n",
    "3. **評価の簡便さ**: クロスバリデーションやグリッドサーチなど、評価手法が充実している。\n",
    "\n",
    "## 推薦システムの基礎\n",
    "推薦システムは、ユーザーとアイテムの間の関係をモデル化するシステムである。主に、協調フィルタリングとコンテンツベースのフィルタリングの二つに大別される。\n",
    "\n",
    "### 協調フィルタリング\n",
    "協調フィルタリングは、ユーザーの行動データに基づいて推薦を行う手法である。主に二つのアプローチがある：\n",
    "- **ユーザーベース協調フィルタリング**: 似たユーザーを見つけ、そのユーザーが評価したアイテムを推薦する。\n",
    "- **アイテムベース協調フィルタリング**: 似たアイテムを見つけ、そのアイテムを評価したユーザーが評価した他のアイテムを推薦する。\n",
    "\n",
    "$$\n",
    "\\mathbf{R} =\n",
    "\\begin{bmatrix}\n",
    "r_{11} & r_{12} & \\cdots & r_{1n} \\\\\n",
    "r_{21} & r_{22} & \\cdots & r_{2n} \\\\\n",
    "\\vdots & \\vdots & \\ddots & \\vdots \\\\\n",
    "r_{m1} & r_{m2} & \\cdots & r_{mn} \\\\\n",
    "\\end{bmatrix}\n",
    "$$\n",
    "\n",
    "ここで、$\\mathbf{R}$はユーザーとアイテムの評価行列であり、$r_{ij}$はユーザー$i$がアイテム$j$に対して行った評価である。\n",
    "\n",
    "### コンテンツベースのフィルタリング\n",
    "コンテンツベースのフィルタリングは、アイテムの属性情報に基づいて推薦を行う手法である。例えば、映画のジャンルや出演者などの情報を利用して、ユーザーの好みに合った映画を推薦する。\n",
    "\n",
    "## Surpriseの応用例\n",
    "\n",
    "### 行列分解を用いた推薦システム\n",
    "行列分解は、評価行列$\\mathbf{R}$をユーザー特徴行列$\\mathbf{P}$とアイテム特徴行列$\\mathbf{Q}$に分解する手法である。これにより、低ランク近似を行い、推薦を行う。\n",
    "\n",
    "$$\n",
    "\\mathbf{R} \\approx \\mathbf{P} \\mathbf{Q}^T\n",
    "$$\n",
    "\n",
    "Surpriseで行列分解を用いる場合、SVD（特異値分解）やNMF（非負値行列因子分解）などのアルゴリズムを利用できる。\n",
    "\n",
    "#### Pythonでの実装例\n",
    "以下に、SVDを用いた具体例を示す。\n",
    "\n",
    "\n"
   ]
  },
  {
   "cell_type": "code",
   "execution_count": null,
   "metadata": {},
   "outputs": [],
   "source": [
    "from surprise import Dataset, Reader\n",
    "from surprise import SVD\n",
    "from surprise import accuracy\n",
    "from surprise.model_selection import train_test_split\n",
    "\n",
    "# データの読み込み\n",
    "data = Dataset.load_builtin(\"ml-100k\")\n",
    "trainset, testset = train_test_split(data, test_size=0.25)\n",
    "\n",
    "# SVDアルゴリズムの適用\n",
    "algo = SVD()\n",
    "algo.fit(trainset)\n",
    "predictions = algo.test(testset)\n",
    "\n",
    "# 精度の評価\n",
    "accuracy.rmse(predictions)"
   ]
  },
  {
   "cell_type": "code",
   "execution_count": null,
   "metadata": {},
   "outputs": [],
   "source": [
    "### k近傍法を用いた推薦システム\n",
    "k近傍法（k-NN）は、ユーザーやアイテムの類似度に基づいて推薦を行う手法である。Surpriseでは、ユーザーベースやアイテムベースのk-NNを実装できる。\n",
    "\n",
    "#### Pythonでの実装例\n",
    "以下に、アイテムベースのk-NNを用いた具体例を示す。\n",
    "\n"
   ]
  },
  {
   "cell_type": "code",
   "execution_count": null,
   "metadata": {},
   "outputs": [],
   "source": [
    "from surprise import KNNBasic\n",
    "\n",
    "# アイテムベースのk-NNアルゴリズムの適用\n",
    "algo = KNNBasic(k=40, sim_options={\"user_based\": False})\n",
    "algo.fit(trainset)\n",
    "predictions = algo.test(testset)\n",
    "\n",
    "# 精度の評価\n",
    "accuracy.rmse(predictions)"
   ]
  },
  {
   "cell_type": "markdown",
   "metadata": {},
   "source": [
    "## メリットとデメリット\n",
    "\n",
    "### メリット\n",
    "1. **高い柔軟性**: 複数のアルゴリズムを容易に試すことができる。\n",
    "2. **評価手法の充実**: クロスバリデーションやグリッドサーチを利用して、モデルの評価と最適化が可能。\n",
    "3. **豊富なドキュメント**: ドキュメントが充実しており、初学者でも学びやすい。\n",
    "\n",
    "### デメリット\n",
    "1. **学習曲線**: 初学者にとっては、さまざまなアルゴリズムや評価手法の理解に時間がかかる場合がある。\n",
    "2. **パフォーマンス**: 大規模データセットに対しては、計算リソースが多く必要となる場合がある。\n",
    "\n",
    "## 結論\n",
    "この記事では、PythonのSurpriseライブラリについて、その定義、性質、具体的な応用例を紹介した。Surpriseを利用することで、推薦システムの開発が容易になり、多様なアルゴリズムを試すことができる。特に、行列分解やk近傍法を用いた実装例を示し、実際のコードを通じてその利用方法を学んだ。\n",
    "\n",
    "## 参考文献\n",
    "- Surprise Documentation: [https://surprise.readthedocs.io/en/stable/](https://surprise.readthedocs.io/en/stable/)\n",
    "- Matrix Factorization Techniques for Recommender Systems: [https://datajobs.com/data-science-repo/Recommender-Systems-%5BNetflix%5D.pdf](https://datajobs.com/data-science-repo/Recommender-Systems-%5BNetflix%5D.pdf)\n",
    "- Wikipedia: [https://ja.wikipedia.org/wiki/推薦システム](https://ja.wikipedia.org/wiki/推薦システム)"
   ]
  }
 ],
 "metadata": {
  "kernelspec": {
   "display_name": "Python 3",
   "language": "python",
   "name": "python3"
  },
  "language_info": {
   "codemirror_mode": {
    "name": "ipython",
    "version": 3
   },
   "file_extension": ".py",
   "mimetype": "text/x-python",
   "name": "python",
   "nbconvert_exporter": "python",
   "pygments_lexer": "ipython3",
   "version": "3.9.17"
  },
  "widgets": {
   "state": {},
   "version": "1.1.2"
  }
 },
 "nbformat": 4,
 "nbformat_minor": 2
}
