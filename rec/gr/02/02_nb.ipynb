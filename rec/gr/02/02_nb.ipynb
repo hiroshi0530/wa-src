{
 "cells": [
  {
   "cell_type": "markdown",
   "metadata": {},
   "source": [
    "# Surpriseの使い方\n",
    "\n",
    "## 概要\n",
    "Pythonのライブラリ「Surprise」は、推薦システムの開発を効率化するために設計されたライブラリである。本ブログでは、Surpriseの定義や性質、具体的な応用例を数式とPythonのコードを用いて説明する。\n",
    "あくまでも自分のメモレベルなので、公式ドキュメントを参照のこと。\n",
    "\n",
    "## ソースコード\n",
    "\n",
    "### github\n",
    "- jupyter notebook形式のファイルは[こちら](https://github.com/hiroshi0530/wa-src/blob/master/rec/gr/02/02_nb.ipynb)\n",
    "\n",
    "### google colaboratory\n",
    "- google colaboratory で実行する場合は[こちら](https://colab.research.google.com/github/hiroshi0530/wa-src/blob/master/rec/gr/02/02_nb.ipynb)\n",
    "\n",
    "\n",
    "## 実行環境\n",
    "OSはmacOSである。LinuxやUnixのコマンドとはオプションが異なりますので注意していただきたい。"
   ]
  },
  {
   "cell_type": "code",
   "execution_count": 1,
   "metadata": {},
   "outputs": [
    {
     "name": "stdout",
     "output_type": "stream",
     "text": [
      "ProductName:\t\tmacOS\n",
      "ProductVersion:\t\t13.5.1\n",
      "BuildVersion:\t\t22G90\n"
     ]
    }
   ],
   "source": [
    "!sw_vers"
   ]
  },
  {
   "cell_type": "code",
   "execution_count": 2,
   "metadata": {},
   "outputs": [
    {
     "name": "stdout",
     "output_type": "stream",
     "text": [
      "Python 3.9.17\n"
     ]
    }
   ],
   "source": [
    "!python -V"
   ]
  },
  {
   "cell_type": "markdown",
   "metadata": {},
   "source": [
    "pandasのテーブルを見やすいようにHTMLのテーブルにCSSの設定を行います。"
   ]
  },
  {
   "cell_type": "code",
   "execution_count": 3,
   "metadata": {},
   "outputs": [
    {
     "data": {
      "text/html": [
       "\n",
       "<style>\n",
       "    .dataframe thead tr:only-child th {\n",
       "        text-align: right;\n",
       "    }\n",
       "\n",
       "    .dataframe thead th {\n",
       "        text-align: left;\n",
       "        padding: 5px;\n",
       "    }\n",
       "\n",
       "    .dataframe tbody tr th {\n",
       "        vertical-align: top;\n",
       "        padding: 5px;\n",
       "    }\n",
       "\n",
       "    .dataframe tbody tr:hover {\n",
       "        background-color: #ffff99;\n",
       "    }\n",
       "\n",
       "    .dataframe {\n",
       "        background-color: white;\n",
       "        color: black;\n",
       "        font-size: 16px;\n",
       "    }\n",
       "\n",
       "</style>\n"
      ],
      "text/plain": [
       "<IPython.core.display.HTML object>"
      ]
     },
     "execution_count": 3,
     "metadata": {},
     "output_type": "execute_result"
    }
   ],
   "source": [
    "from IPython.core.display import HTML\n",
    "\n",
    "style = \"\"\"\n",
    "<style>\n",
    "    .dataframe thead tr:only-child th {\n",
    "        text-align: right;\n",
    "    }\n",
    "\n",
    "    .dataframe thead th {\n",
    "        text-align: left;\n",
    "        padding: 5px;\n",
    "    }\n",
    "\n",
    "    .dataframe tbody tr th {\n",
    "        vertical-align: top;\n",
    "        padding: 5px;\n",
    "    }\n",
    "\n",
    "    .dataframe tbody tr:hover {\n",
    "        background-color: #ffff99;\n",
    "    }\n",
    "\n",
    "    .dataframe {\n",
    "        background-color: white;\n",
    "        color: black;\n",
    "        font-size: 16px;\n",
    "    }\n",
    "\n",
    "</style>\n",
    "\"\"\"\n",
    "HTML(style)"
   ]
  },
  {
   "cell_type": "markdown",
   "metadata": {},
   "source": [
    "基本的なライブラリをインポートし watermark を利用してそのバージョンを確認する。\n",
    "ついでに乱数のseedの設定をする。"
   ]
  },
  {
   "cell_type": "code",
   "execution_count": 4,
   "metadata": {},
   "outputs": [],
   "source": [
    "%matplotlib inline\n",
    "%config InlineBackend.figure_format = 'svg'"
   ]
  },
  {
   "cell_type": "code",
   "execution_count": 5,
   "metadata": {},
   "outputs": [
    {
     "name": "stdout",
     "output_type": "stream",
     "text": [
      "Python implementation: CPython\n",
      "Python version       : 3.9.17\n",
      "IPython version      : 8.17.2\n",
      "\n",
      "numpy     : 1.25.2\n",
      "scipy     : 1.11.2\n",
      "matplotlib: 3.8.1\n",
      "\n",
      "Watermark: 2.4.3\n",
      "\n"
     ]
    }
   ],
   "source": [
    "import random\n",
    "\n",
    "import scipy\n",
    "import numpy as np\n",
    "\n",
    "import matplotlib\n",
    "import matplotlib.pyplot as plt\n",
    "\n",
    "seed = 123\n",
    "random_state = 123\n",
    "\n",
    "random.seed(seed)\n",
    "np.random.seed(seed)\n",
    "\n",
    "\n",
    "from watermark import watermark\n",
    "\n",
    "print(watermark(python=True, watermark=True, iversions=True, globals_=globals()))"
   ]
  },
  {
   "cell_type": "markdown",
   "metadata": {},
   "source": [
    "## Surpriseの定義と性質\n",
    "\n",
    "### Surpriseとは\n",
    "Surpriseは、簡単にカスタマイズ可能であり、ユーザーの好みに応じて推薦システムを構築できるPythonライブラリである。Surpriseは、さまざまなアルゴリズム（例えば、行列分解やk近傍法）をサポートしており、これらを利用して効果的な推薦システムを実装できる。\n",
    "\n",
    "### Surpriseの特徴\n",
    "1. **多様なアルゴリズム**: 行列分解、k近傍法、ベースライン推定など、多様な推薦アルゴリズムをサポート。\n",
    "2. **データセットの柔軟性**: 内蔵のデータセットだけでなく、ユーザーが独自のデータセットを読み込んで利用できる。\n",
    "3. **評価の簡便さ**: クロスバリデーションやグリッドサーチなど、評価手法が充実している。\n",
    "\n",
    "## 推薦システムの基礎\n",
    "推薦システムは、ユーザーとアイテムの間の関係をモデル化するシステムである。主に、協調フィルタリングとコンテンツベースのフィルタリングの二つに大別される。\n",
    "\n",
    "### 協調フィルタリング\n",
    "協調フィルタリングは、ユーザーの行動データに基づいて推薦を行う手法である。主に二つのアプローチがある：\n",
    "- **ユーザーベース協調フィルタリング**: 似たユーザーを見つけ、そのユーザーが評価したアイテムを推薦する。\n",
    "- **アイテムベース協調フィルタリング**: 似たアイテムを見つけ、そのアイテムを評価したユーザーが評価した他のアイテムを推薦する。\n",
    "\n",
    "$$\n",
    "\\mathbf{R} =\n",
    "\\begin{bmatrix}\n",
    "r_{11} & r_{12} & \\cdots & r_{1n} \\\\\n",
    "r_{21} & r_{22} & \\cdots & r_{2n} \\\\\n",
    "\\vdots & \\vdots & \\ddots & \\vdots \\\\\n",
    "r_{m1} & r_{m2} & \\cdots & r_{mn} \\\\\n",
    "\\end{bmatrix}\n",
    "$$\n",
    "\n",
    "ここで、$\\mathbf{R}$はユーザーとアイテムの評価行列であり、$r_{ij}$はユーザー$i$がアイテム$j$に対して行った評価である。\n",
    "\n",
    "### コンテンツベースのフィルタリング\n",
    "コンテンツベースのフィルタリングは、アイテムの属性情報に基づいて推薦を行う手法である。例えば、映画のジャンルや出演者などの情報を利用して、ユーザーの好みに合った映画を推薦する。\n",
    "\n",
    "## Surpriseの応用例\n",
    "\n",
    "### 行列分解を用いた推薦システム\n",
    "行列分解は、評価行列$\\mathbf{R}$をユーザー特徴行列$\\mathbf{P}$とアイテム特徴行列$\\mathbf{Q}$に分解する手法である。これにより、低ランク近似を行い、推薦を行う。\n",
    "\n",
    "$$\n",
    "\\mathbf{R} \\approx \\mathbf{P} \\mathbf{Q}^T\n",
    "$$\n",
    "\n",
    "Surpriseで行列分解を用いる場合、SVD（特異値分解）やNMF（非負値行列因子分解）などのアルゴリズムを利用できる。\n",
    "\n",
    "#### Pythonでの実装例\n",
    "以下に、SVDを用いた具体例を示す。\n",
    "\n",
    "\n"
   ]
  },
  {
   "cell_type": "code",
   "execution_count": 6,
   "metadata": {},
   "outputs": [],
   "source": [
    "from surprise import Dataset\n",
    "from surprise import accuracy\n",
    "\n",
    "from surprise.model_selection import train_test_split\n",
    "\n",
    "# データはml-100kを使用\n",
    "data = Dataset.load_builtin(\"ml-100k\")\n",
    "\n",
    "# データを訓練データとテストデータに分割\n",
    "train_data, test_data = train_test_split(data, test_size=0.1)"
   ]
  },
  {
   "cell_type": "code",
   "execution_count": 7,
   "metadata": {},
   "outputs": [
    {
     "name": "stdout",
     "output_type": "stream",
     "text": [
      "RMSE: 0.927\n"
     ]
    }
   ],
   "source": [
    "from surprise import SVD\n",
    "\n",
    "# SVDアルゴリズムの適用\n",
    "algo = SVD()\n",
    "algo.fit(train_data)\n",
    "predictions = algo.test(test_data)\n",
    "\n",
    "# 精度の評価\n",
    "print(f\"RMSE: {accuracy.rmse(predictions, verbose=False):.3f}\")"
   ]
  },
  {
   "cell_type": "markdown",
   "metadata": {},
   "source": [
    "### k近傍法を用いた推薦システム\n",
    "\n",
    "k近傍法（k-NN）は、ユーザーやアイテムの類似度に基づいて推薦を行う手法である。Surpriseでは、ユーザーベースやアイテムベースのk-NNを実装できる。\n",
    "\n",
    "#### Pythonでの実装例\n",
    "\n",
    "以下に、アイテムベースのk-NNを用いた具体例を示す。"
   ]
  },
  {
   "cell_type": "code",
   "execution_count": 8,
   "metadata": {},
   "outputs": [
    {
     "name": "stdout",
     "output_type": "stream",
     "text": [
      "RMSE: 0.973\n"
     ]
    }
   ],
   "source": [
    "from surprise import KNNBasic\n",
    "\n",
    "# アイテムベースのk-NNアルゴリズムの適用\n",
    "algo = KNNBasic(k=30, sim_options={\"user_based\": False}, verbose=False)\n",
    "algo.fit(train_data)\n",
    "predictions = algo.test(test_data, verbose=False)\n",
    "\n",
    "# 精度の評価\n",
    "print(f\"RMSE: {accuracy.rmse(predictions, verbose=False):.3f}\")"
   ]
  },
  {
   "cell_type": "markdown",
   "metadata": {},
   "source": [
    "## 結論\n",
    "\n",
    "この記事では、PythonのSurpriseライブラリについて、簡単に説明し、使い方を紹介した。\n",
    "Surpriseを利用することで、推薦システムの開発が容易になり、多様なアルゴリズムを試すことができる。\n",
    "特に、行列分解やk近傍法を用いた実装例を示し、実際のコードを通じてその利用方法を示した。\n",
    "\n",
    "## 参考文献\n",
    "- Surprise Documentation: [https://surprise.readthedocs.io/en/stable/](https://surprise.readthedocs.io/en/stable/)"
   ]
  }
 ],
 "metadata": {
  "kernelspec": {
   "display_name": "Python 3",
   "language": "python",
   "name": "python3"
  },
  "language_info": {
   "codemirror_mode": {
    "name": "ipython",
    "version": 3
   },
   "file_extension": ".py",
   "mimetype": "text/x-python",
   "name": "python",
   "nbconvert_exporter": "python",
   "pygments_lexer": "ipython3",
   "version": "3.9.17"
  },
  "widgets": {
   "state": {},
   "version": "1.1.2"
  }
 },
 "nbformat": 4,
 "nbformat_minor": 2
}
