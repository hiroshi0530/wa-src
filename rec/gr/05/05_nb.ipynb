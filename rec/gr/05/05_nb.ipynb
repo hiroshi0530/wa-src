{
 "cells": [
  {
   "cell_type": "markdown",
   "metadata": {},
   "source": [
    "# 推薦システムにおける行列分解の話\n",
    "\n",
    "## 概要\n",
    "\n",
    "この記事では、推薦システムにおける行列分解の手法について解説する。行列分解の定義や性質、応用例を具体的な数式とPythonのコードを用いて示す。また、行列分解のメリットとデメリットについても論じ、具体的な利用例として「movielens-100k」データセットを用いた実装例を紹介する。\n",
    "\n",
    "\n",
    "\n",
    "## ソースコード\n",
    "\n",
    "\n",
    "### github\n",
    "- jupyter notebook形式のファイルは[こちら](https://github.com/hiroshi0530/wa-src/blob/master/rec/gr/05/05_nb.ipynb)\n",
    "\n",
    "### google colaboratory\n",
    "- google colaboratory で実行する場合は[こちら](https://colab.research.google.com/github/hiroshi0530/wa-src/blob/master/rec/gr/05/05_nb.ipynb)\n",
    "\n",
    "\n",
    "## 実行環境\n",
    "OSはmacOSである。LinuxやUnixのコマンドとはオプションが異なりますので注意していただきたい。"
   ]
  },
  {
   "cell_type": "code",
   "execution_count": 1,
   "metadata": {},
   "outputs": [
    {
     "name": "stdout",
     "output_type": "stream",
     "text": [
      "ProductName:\t\tmacOS\n",
      "ProductVersion:\t\t13.5.1\n",
      "BuildVersion:\t\t22G90\n"
     ]
    }
   ],
   "source": [
    "!sw_vers"
   ]
  },
  {
   "cell_type": "code",
   "execution_count": 2,
   "metadata": {},
   "outputs": [
    {
     "name": "stdout",
     "output_type": "stream",
     "text": [
      "Python 3.9.17\n"
     ]
    }
   ],
   "source": [
    "!python -V"
   ]
  },
  {
   "cell_type": "markdown",
   "metadata": {},
   "source": [
    "pandasのテーブルを見やすいようにHTMLのテーブルにCSSの設定を行います。"
   ]
  },
  {
   "cell_type": "code",
   "execution_count": null,
   "metadata": {},
   "outputs": [],
   "source": [
    "from IPython.core.display import HTML\n",
    "\n",
    "style = \"\"\"\n",
    "<style>\n",
    "    .dataframe thead tr:only-child th {\n",
    "        text-align: right;\n",
    "    }\n",
    "\n",
    "    .dataframe thead th {\n",
    "        text-align: left;\n",
    "        padding: 5px;\n",
    "    }\n",
    "\n",
    "    .dataframe tbody tr th {\n",
    "        vertical-align: top;\n",
    "        padding: 5px;\n",
    "    }\n",
    "\n",
    "    .dataframe tbody tr:hover {\n",
    "        background-color: #ffff99;\n",
    "    }\n",
    "\n",
    "    .dataframe {\n",
    "        background-color: white;\n",
    "        color: black;\n",
    "        font-size: 16px;\n",
    "    }\n",
    "\n",
    "</style>\n",
    "\"\"\"\n",
    "HTML(style)"
   ]
  },
  {
   "cell_type": "markdown",
   "metadata": {},
   "source": [
    "基本的なライブラリをインポートし watermark を利用してそのバージョンを確認しておきます。\n",
    "ついでに乱数のseedの設定をします。"
   ]
  },
  {
   "cell_type": "code",
   "execution_count": null,
   "metadata": {},
   "outputs": [],
   "source": [
    "%matplotlib inline\n",
    "%config InlineBackend.figure_format = 'svg'"
   ]
  },
  {
   "cell_type": "code",
   "execution_count": 2,
   "metadata": {},
   "outputs": [
    {
     "name": "stdout",
     "output_type": "stream",
     "text": [
      "Python implementation: CPython\n",
      "Python version       : 3.9.17\n",
      "IPython version      : 8.17.2\n",
      "\n",
      "scipy     : 1.11.2\n",
      "numpy     : 1.25.2\n",
      "matplotlib: 3.8.1\n",
      "\n",
      "Watermark: 2.4.3\n",
      "\n"
     ]
    }
   ],
   "source": [
    "import random\n",
    "\n",
    "import scipy\n",
    "import numpy as np\n",
    "\n",
    "import matplotlib\n",
    "import matplotlib.pyplot as plt\n",
    "\n",
    "seed = 123\n",
    "random_state = 123\n",
    "\n",
    "random.seed(seed)\n",
    "np.random.seed(seed)\n",
    "\n",
    "\n",
    "from watermark import watermark\n",
    "\n",
    "print(watermark(python=True, watermark=True, iversions=True, globals_=globals()))"
   ]
  },
  {
   "cell_type": "markdown",
   "metadata": {},
   "source": [
    "## 行列分解の定義と性質\n",
    "\n",
    "行列分解(Matrix Factorization)は、与えられた行列を二つの低ランク行列に分解する手法である。推薦システムでは、ユーザーとアイテムの行列を分解することで、潜在因子を抽出し、推薦を行う。\n",
    "\n",
    "### 数式表現\n",
    "\n",
    "ユーザー $u$ とアイテム $i$ の評価行列 $\\mathbf{R}$ を次のように分解する。\n",
    "\n",
    "$$\n",
    "\\mathbf{R} \\approx \\mathbf{P} \\mathbf{Q}^T\n",
    "$$\n",
    "\n",
    "ここで、$\\mathbf{P}$ はユーザー行列、$\\mathbf{Q}$ はアイテム行列である。各行列の次元は以下の通りである。\n",
    "\n",
    "$$\n",
    "\\mathbf{P} \\in \\mathbb{R}^{m \\times k}, \\quad \\mathbf{Q} \\in \\mathbb{R}^{n \\times k}\n",
    "$$\n",
    "\n",
    "ここで、$m$ はユーザー数、$n$ はアイテム数、$k$ は潜在因子の次元である。目標は、評価行列 $\\mathbf{R}$ と予測行列 $\\mathbf{P} \\mathbf{Q}^T$ との差の二乗和を最小化することである。\n",
    "\n",
    "### 最適化問題\n",
    "\n",
    "最適化問題は以下のように定式化される。\n",
    "\n",
    "$$\n",
    "\\min_{\\mathbf{P}, \\mathbf{Q}} \\sum_{(u,i) \\in \\mathcal{K}} \\left( r_{ui} - \\mathbf{p}_u \\cdot \\mathbf{q}_i^T \\right)^2 + \\lambda \\left( \\|\\mathbf{p}_u\\|^2 + \\|\\mathbf{q}_i\\|^2 \\right)\n",
    "$$\n",
    "\n",
    "ここで、$\\mathcal{K}$ は評価が存在するユーザーとアイテムのペアの集合、$\\lambda$ は正則化パラメータである。この正則化項により、過学習を防ぐ。\n",
    "\n",
    "## 応用例と実装\n",
    "\n",
    "行列分解は、様々な推薦システムに応用されている。以下に、具体的な応用例として「movielens-100k」データセットを用いた実装を示す。\n",
    "\n",
    "### データセットの準備\n",
    "\n",
    "まず、「movielens-100k」データセットをロードし、評価行列を準備する。\n",
    "\n",
    "\n"
   ]
  },
  {
   "cell_type": "code",
   "execution_count": null,
   "metadata": {},
   "outputs": [],
   "source": [
    "import pandas as pd\n",
    "import numpy as np\n",
    "from scipy.sparse.linalg import svds\n",
    "from pprint import pprint\n",
    "\n",
    "# データセットの読み込み\n",
    "ratings = pd.read_csv(\"u.data\", sep=\"\\t\", header=None, names=[\"user_id\", \"movie_id\", \"rating\", \"timestamp\"])\n",
    "ratings = ratings.pivot(index=\"user_id\", columns=\"movie_id\", values=\"rating\").fillna(0)\n",
    "\n",
    "# 評価行列の作成\n",
    "R = ratings.values\n",
    "user_ratings_mean = np.mean(R, axis=1)\n",
    "R_demeaned = R - user_ratings_mean.reshape(-1, 1)"
   ]
  },
  {
   "cell_type": "markdown",
   "metadata": {},
   "source": [
    "### 行列分解の実装\n",
    "\n",
    "次に、評価行列を行列分解する。ここでは、SVD（特異値分解）を用いる。"
   ]
  },
  {
   "cell_type": "code",
   "execution_count": null,
   "metadata": {},
   "outputs": [],
   "source": [
    "# 特異値分解\n",
    "U, sigma, Vt = svds(R_demeaned, k=50)\n",
    "sigma = np.diag(sigma)\n",
    "\n",
    "# 予測行列の作成\n",
    "all_user_predicted_ratings = np.dot(np.dot(U, sigma), Vt) + user_ratings_mean.reshape(-1, 1)\n",
    "predicted_ratings = pd.DataFrame(all_user_predicted_ratings, columns=ratings.columns)\n",
    "\n",
    "# ユーザー1に対する映画推薦\n",
    "user_id = 1\n",
    "user_row_number = user_id - 1  # 行番号は0から始まるため\n",
    "sorted_user_predictions = predicted_ratings.iloc[user_row_number].sort_values(ascending=False)\n",
    "\n",
    "# 元の評価と予測評価の表示\n",
    "user_data = ratings.loc[user_id]\n",
    "user_full = pd.concat([user_data, sorted_user_predictions], axis=1)\n",
    "user_full.columns = [\"Original Rating\", \"Predicted Rating\"]\n",
    "pprint(user_full.head(10))"
   ]
  },
  {
   "cell_type": "markdown",
   "metadata": {},
   "source": [
    "\n",
    "\n",
    "このコードでは、評価行列を特異値分解し、予測行列を作成してユーザー1に対する映画の推薦を行う。\n",
    "\n",
    "## メリットとデメリット\n",
    "\n",
    "### メリット\n",
    "\n",
    "- **高精度**: 行列分解は多くの推薦システムで高精度な予測を提供する。\n",
    "- **スケーラビリティ**: 大規模なデータセットでも効率的に処理可能である。\n",
    "- **潜在因子の解釈**: 潜在因子により、ユーザーやアイテムの特徴を理解しやすくなる。\n",
    "\n",
    "### デメリット\n",
    "\n",
    "- **データの疎性**: 評価行列が疎である場合、分解が難しい。\n",
    "- **計算コスト**: 行列分解には高い計算コストが伴う。\n",
    "- **パラメータチューニング**: 正則化パラメータや潜在因子の次元数などのパラメータのチューニングが必要である。\n",
    "\n",
    "## 結論\n",
    "\n",
    "この記事では、推薦システムにおける行列分解について詳述した。具体的な定義や数式、Pythonコードを用いた具体例を示し、メリットとデメリットを論じた。この手法は、多くの推薦システムで応用され、高精度な推薦を実現する。\n",
    "\n",
    "\n",
    "### 参考文献\n",
    "\n",
    "- Wikipedia: [Matrix Factorization](https://en.wikipedia.org/wiki/Matrix_factorization)\n",
    "- Scipy: [Singular Value Decomposition](https://docs.scipy.org/doc/scipy/reference/generated/scipy.sparse.linalg.svds.html)"
   ]
  }
 ],
 "metadata": {
  "kernelspec": {
   "display_name": "Python 3",
   "language": "python",
   "name": "python3"
  },
  "language_info": {
   "codemirror_mode": {
    "name": "ipython",
    "version": 3
   },
   "file_extension": ".py",
   "mimetype": "text/x-python",
   "name": "python",
   "nbconvert_exporter": "python",
   "pygments_lexer": "ipython3",
   "version": "3.9.17"
  },
  "widgets": {
   "state": {},
   "version": "1.1.2"
  }
 },
 "nbformat": 4,
 "nbformat_minor": 2
}
