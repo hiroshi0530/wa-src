{
 "cells": [
  {
   "cell_type": "markdown",
   "metadata": {},
   "source": [
    "# 推薦システムにおける評価手法の話\n",
    "\n",
    "## 概要\n",
    "\n",
    "この記事では、推薦システムにおける評価手法について詳述する。評価手法の定義や性質、応用例について数式とPythonのコードを用いて具体例を示す。また、評価手法のメリットとデメリットについても論じ、具体的な利用例として「movielens-100k」データセットを用いた実装例を紹介する。\n",
    "\n",
    "\n",
    "\n",
    "## ソースコード\n",
    "\n",
    "\n",
    "### github\n",
    "- jupyter notebook形式のファイルは[こちら](https://github.com/hiroshi0530/wa-src/blob/master/rec/gr/06/06_nb.ipynb)\n",
    "\n",
    "### google colaboratory\n",
    "- google colaboratory で実行する場合は[こちら](https://colab.research.google.com/github/hiroshi0530/wa-src/blob/master/rec/gr/06/06_nb.ipynb)\n",
    "\n",
    "\n",
    "## 実行環境\n",
    "OSはmacOSである。LinuxやUnixのコマンドとはオプションが異なりますので注意していただきたい。"
   ]
  },
  {
   "cell_type": "code",
   "execution_count": 7,
   "metadata": {},
   "outputs": [
    {
     "name": "stdout",
     "output_type": "stream",
     "text": [
      "ProductName:\t\tmacOS\n",
      "ProductVersion:\t\t13.5.1\n",
      "BuildVersion:\t\t22G90\n"
     ]
    }
   ],
   "source": [
    "!sw_vers"
   ]
  },
  {
   "cell_type": "code",
   "execution_count": 8,
   "metadata": {},
   "outputs": [
    {
     "name": "stdout",
     "output_type": "stream",
     "text": [
      "Python 3.9.17\n"
     ]
    }
   ],
   "source": [
    "!python -V"
   ]
  },
  {
   "cell_type": "markdown",
   "metadata": {},
   "source": [
    "pandasのテーブルを見やすいようにHTMLのテーブルにCSSの設定を行います。"
   ]
  },
  {
   "cell_type": "code",
   "execution_count": 9,
   "metadata": {},
   "outputs": [
    {
     "data": {
      "text/html": [
       "\n",
       "<style>\n",
       "    .dataframe thead tr:only-child th {\n",
       "        text-align: right;\n",
       "    }\n",
       "\n",
       "    .dataframe thead th {\n",
       "        text-align: left;\n",
       "        padding: 5px;\n",
       "    }\n",
       "\n",
       "    .dataframe tbody tr th {\n",
       "        vertical-align: top;\n",
       "        padding: 5px;\n",
       "    }\n",
       "\n",
       "    .dataframe tbody tr:hover {\n",
       "        background-color: #ffff99;\n",
       "    }\n",
       "\n",
       "    .dataframe {\n",
       "        background-color: white;\n",
       "        color: black;\n",
       "        font-size: 16px;\n",
       "    }\n",
       "\n",
       "</style>\n"
      ],
      "text/plain": [
       "<IPython.core.display.HTML object>"
      ]
     },
     "execution_count": 9,
     "metadata": {},
     "output_type": "execute_result"
    }
   ],
   "source": [
    "from IPython.core.display import HTML\n",
    "\n",
    "style = \"\"\"\n",
    "<style>\n",
    "    .dataframe thead tr:only-child th {\n",
    "        text-align: right;\n",
    "    }\n",
    "\n",
    "    .dataframe thead th {\n",
    "        text-align: left;\n",
    "        padding: 5px;\n",
    "    }\n",
    "\n",
    "    .dataframe tbody tr th {\n",
    "        vertical-align: top;\n",
    "        padding: 5px;\n",
    "    }\n",
    "\n",
    "    .dataframe tbody tr:hover {\n",
    "        background-color: #ffff99;\n",
    "    }\n",
    "\n",
    "    .dataframe {\n",
    "        background-color: white;\n",
    "        color: black;\n",
    "        font-size: 16px;\n",
    "    }\n",
    "\n",
    "</style>\n",
    "\"\"\"\n",
    "HTML(style)"
   ]
  },
  {
   "cell_type": "markdown",
   "metadata": {},
   "source": [
    "基本的なライブラリをインポートし watermark を利用してそのバージョンを確認しておきます。\n",
    "ついでに乱数のseedの設定をします。"
   ]
  },
  {
   "cell_type": "code",
   "execution_count": 10,
   "metadata": {},
   "outputs": [],
   "source": [
    "%matplotlib inline\n",
    "%config InlineBackend.figure_format = 'svg'"
   ]
  },
  {
   "cell_type": "code",
   "execution_count": 11,
   "metadata": {},
   "outputs": [
    {
     "name": "stdout",
     "output_type": "stream",
     "text": [
      "Python implementation: CPython\n",
      "Python version       : 3.9.17\n",
      "IPython version      : 8.17.2\n",
      "\n",
      "numpy     : 1.25.2\n",
      "matplotlib: 3.8.1\n",
      "pandas    : 2.0.3\n",
      "scipy     : 1.11.2\n",
      "\n",
      "Watermark: 2.4.3\n",
      "\n"
     ]
    }
   ],
   "source": [
    "import random\n",
    "\n",
    "import numpy as np\n",
    "\n",
    "\n",
    "seed = 123\n",
    "random_state = 123\n",
    "\n",
    "random.seed(seed)\n",
    "np.random.seed(seed)\n",
    "\n",
    "\n",
    "from watermark import watermark\n",
    "\n",
    "print(watermark(python=True, watermark=True, iversions=True, globals_=globals()))"
   ]
  },
  {
   "cell_type": "markdown",
   "metadata": {},
   "source": [
    "# 推薦システムにおける評価手法\n",
    "\n",
    "## 概要\n",
    "推薦システムは、ユーザーにパーソナライズされたコンテンツを提供するための重要な技術である。その性能を正確に評価することは、システムの改善とユーザー満足度の向上に直結する。本記事では、推薦システムの評価手法について、基本的な評価指標から特有の評価指標、オフライン評価とオンライン評価、そしてユーザー体験の評価までを網羅的に解説する。数式とPythonのコード例を交えて、具体的な評価手法を理解するための実践的なガイドを提供する。\n",
    "\n",
    "## 1. はじめに\n",
    "推薦システムは、オンラインショッピング、動画配信サービス、音楽ストリーミングなど多くの分野で利用されている。ユーザーに適切なアイテムを提供することで、エンゲージメントを高め、ビジネスの成功に寄与する。評価手法の選定と実施は、システムの性能を理解し、最適化するために不可欠である。以下にその具体的な評価手法を解説する。\n",
    "\n",
    "## 2. 推薦システムの基本評価指標\n",
    "推薦システムの性能を評価する基本的な指標には、精度評価とエラー率評価がある。\n",
    "\n",
    "### 2.1 精度評価\n",
    "推薦システムの精度を評価する基本指標として、正解率(Precision)、再現率(Recall)、およびF1スコアがある。これらの指標は、分類問題の評価においても広く用いられる。\n",
    "\n",
    "- **正解率(Precision)**\n",
    "  $$\n",
    "  \\text{Precision} = \\frac{TP}{TP + FP}\n",
    "  $$\n",
    "  ここで、$TP$は真陽性(True Positives)、$FP$は偽陽性(False Positives)である。\n",
    "\n",
    "\n"
   ]
  },
  {
   "cell_type": "code",
   "execution_count": 12,
   "metadata": {},
   "outputs": [
    {
     "name": "stdout",
     "output_type": "stream",
     "text": [
      "Precision: 0.83\n"
     ]
    }
   ],
   "source": [
    "from sklearn.metrics import precision_score\n",
    "\n",
    "y_true_list = [1, 0, 1, 1, 0, 1, 0, 0, 1, 1]\n",
    "y_pred_list = [1, 0, 1, 0, 0, 1, 0, 1, 1, 1]\n",
    "\n",
    "precision = precision_score(y_true_list, y_pred_list)\n",
    "print(\"Precision:\", round(precision, 2))"
   ]
  },
  {
   "cell_type": "markdown",
   "metadata": {},
   "source": [
    "- **再現率(Recall)**\n",
    "  $$\n",
    "  \\text{Recall} = \\frac{TP}{TP + FN}\n",
    "  $$\n",
    "  ここで、$FN$は偽陰性(False Negatives)である。\n",
    "\n"
   ]
  },
  {
   "cell_type": "code",
   "execution_count": 13,
   "metadata": {},
   "outputs": [
    {
     "name": "stdout",
     "output_type": "stream",
     "text": [
      "Recall: 0.83\n"
     ]
    }
   ],
   "source": [
    "from sklearn.metrics import recall_score\n",
    "\n",
    "recall = recall_score(y_true_list, y_pred_list)\n",
    "print(\"Recall:\", round(recall, 2))"
   ]
  },
  {
   "cell_type": "markdown",
   "metadata": {},
   "source": [
    "- **F1スコア**\n",
    "  $$\n",
    "  \\text{F1 Score} = \\frac{2 \\cdot \\text{Precision} \\cdot \\text{Recall}}{\\text{Precision} + \\text{Recall}}\n",
    "  $$\n",
    "\n"
   ]
  },
  {
   "cell_type": "code",
   "execution_count": 14,
   "metadata": {},
   "outputs": [
    {
     "name": "stdout",
     "output_type": "stream",
     "text": [
      "F1 Score: 0.83\n"
     ]
    }
   ],
   "source": [
    "from sklearn.metrics import f1_score\n",
    "\n",
    "f1 = f1_score(y_true_list, y_pred_list)\n",
    "print(\"F1 Score:\", round(f1, 2))"
   ]
  },
  {
   "cell_type": "markdown",
   "metadata": {},
   "source": [
    "\n",
    "\n",
    "\n",
    "### 2.2 エラー率評価\n",
    "エラー率を評価する指標として、平均絶対誤差(MAE)と二乗平均平方根誤差(RMSE)がある。これらの指標は、レーティング予測などの回帰問題においても重要である。\n",
    "\n",
    "- **平均絶対誤差(MAE)**\n",
    "  $$\n",
    "  \\text{MAE} = \\frac{1}{N} \\sum_{i=1}^{N} \\left| y_i - \\hat{y}_i \\right|\n",
    "  $$\n",
    "  ここで、$N$はサンプル数、$y_i$は実際の値、$\\hat{y}_i$は予測値である。\n",
    "\n"
   ]
  },
  {
   "cell_type": "code",
   "execution_count": 15,
   "metadata": {},
   "outputs": [
    {
     "name": "stdout",
     "output_type": "stream",
     "text": [
      "MAE: 0.16\n"
     ]
    }
   ],
   "source": [
    "from sklearn.metrics import mean_absolute_error\n",
    "\n",
    "y_true_list = [3.5, 2.0, 4.0, 3.0, 5.0]\n",
    "y_pred_list = [3.7, 2.1, 3.9, 3.2, 4.8]\n",
    "\n",
    "mae = mean_absolute_error(y_true_list, y_pred_list)\n",
    "print(\"MAE:\", round(mae, 2))"
   ]
  },
  {
   "cell_type": "markdown",
   "metadata": {},
   "source": [
    "\n",
    "\n",
    "- **二乗平均平方根誤差(RMSE)**\n",
    "  $$\n",
    "  \\text{RMSE} = \\sqrt{\\frac{1}{N} \\sum_{i=1}^{N} \\left( y_i - \\hat{y}_i \\right)^2}\n",
    "  $$\n",
    "\n"
   ]
  },
  {
   "cell_type": "code",
   "execution_count": 16,
   "metadata": {},
   "outputs": [
    {
     "name": "stdout",
     "output_type": "stream",
     "text": [
      "RMSE: 0.17\n"
     ]
    }
   ],
   "source": [
    "from sklearn.metrics import mean_squared_error\n",
    "import numpy as np\n",
    "\n",
    "mse = mean_squared_error(y_true_list, y_pred_list)\n",
    "rmse = np.sqrt(mse)\n",
    "print(\"RMSE:\", round(rmse, 2))"
   ]
  },
  {
   "cell_type": "markdown",
   "metadata": {},
   "source": [
    "\n",
    "\n",
    "\n",
    "## 3. 推薦システム特有の評価指標\n",
    "推薦システムには、特有の評価指標がいくつか存在する。これらは、一般的な精度評価やエラー率評価とは異なり、ユーザーの行動やランキングの精度を重視するものである。\n",
    "\n",
    "### 3.1 ヒット率(Hit Rate)\n",
    "ヒット率は、ユーザーが興味を示したアイテムが推薦リストに含まれている割合を示す。これは、推薦システムの基本的な成功指標の一つである。\n",
    "\n",
    "- **ヒット率の定義**\n",
    "  $$\n",
    "  \\text{Hit Rate} = \\frac{\\text{Number of Hits}}{\\text{Total Number of Users}}\n",
    "  $$\n",
    "\n",
    "\n"
   ]
  },
  {
   "cell_type": "code",
   "execution_count": 23,
   "metadata": {},
   "outputs": [
    {
     "name": "stdout",
     "output_type": "stream",
     "text": [
      "Hit Rate: 0.6\n"
     ]
    }
   ],
   "source": [
    "def hit_rate(recommended_list, relevant_list):\n",
    "    hits = sum([1 for rec in recommended_list if rec in relevant_list])\n",
    "    return hits / len(recommended_list)\n",
    "\n",
    "\n",
    "recommended_list = [1, 2, 3, 4, 5]\n",
    "relevant_list = [1, 2, 3, 6, 7]\n",
    "\n",
    "hr = hit_rate(recommended_list, relevant_list)\n",
    "print(\"Hit Rate:\", round(hr, 2))"
   ]
  },
  {
   "cell_type": "markdown",
   "metadata": {},
   "source": [
    "\n",
    "\n",
    "\n",
    "### 3.2 平均順位平均精度(MAP)\n",
    "平均順位平均精度(MAP)は、推薦結果の順位情報を考慮した評価指標である。ユーザーにとっての有用性をより正確に評価できる。\n",
    "\n",
    "- **MAPの定義**\n",
    "  $$\n",
    "  \\text{MAP} = \\frac{1}{|U|} \\sum_{u \\in U} \\text{AP}(u)\n",
    "  $$\n",
    "  ここで、$\\text{AP}(u)$はユーザー$u$の平均精度、$|U|$はユーザー数である。\n",
    "\n"
   ]
  },
  {
   "cell_type": "code",
   "execution_count": null,
   "metadata": {},
   "outputs": [],
   "source": [
    "def average_precision(recommended_list, relevant_list):\n",
    "    hits = 0\n",
    "    sum_precisions = 0\n",
    "    for i, rec in enumerate(recommended_list):\n",
    "        if rec in relevant_list:\n",
    "            hits += 1\n",
    "            sum_precisions += hits / (i + 1)\n",
    "    return sum_precisions / len(relevant_list)\n",
    "\n",
    "\n",
    "recommended_list = [1, 2, 3, 4, 5]\n",
    "relevant_list = [1, 2, 3]\n",
    "\n",
    "ap = average_precision(recommended_list, relevant_list)\n",
    "print(\"Average Precision:\", round(ap, 2))"
   ]
  },
  {
   "cell_type": "markdown",
   "metadata": {},
   "source": [
    "### 3.3 正規化割引累積利得(NDCG)\n",
    "正規化割引累積利得(NDCG)は、順位の重要性を考慮した評価指標である。高順位のアイテムがより重要視される。\n",
    "\n",
    "- **NDCGの定義**\n",
    "  $$\n",
    "  \\text{NDCG} = \\frac{DCG}{IDCG}\n",
    "  $$\n",
    "  ここで、$DCG$は割引累積利得、$IDCG$は理想的な累積利得である。\n",
    "\n",
    "\n"
   ]
  },
  {
   "cell_type": "code",
   "execution_count": null,
   "metadata": {},
   "outputs": [],
   "source": [
    "def dcg(recommended_list, relevant_list):\n",
    "    return sum((1 if rec in relevant_list else 0) / np.log2(idx + 2) for idx, rec in enumerate(recommended_list))\n",
    "\n",
    "\n",
    "def ndcg(recommended_list, relevant_list):\n",
    "    dcg_val = dcg(recommended_list, relevant_list)\n",
    "    idcg_val = dcg(sorted(relevant_list, reverse=True), relevant_list)\n",
    "    return dcg_val / idcg_val\n",
    "\n",
    "\n",
    "recommended_list = [1, 2, 3, 4, 5]\n",
    "relevant_list = [1, 2, 3]\n",
    "\n",
    "ndcg_val = ndcg(recommended_list, relevant_list)\n",
    "print(\"NDCG:\", round(ndcg_val, 2))"
   ]
  },
  {
   "cell_type": "markdown",
   "metadata": {},
   "source": [
    "\n",
    "\n",
    "\n",
    "## 4. オフライン評価とオンライン評価\n",
    "推薦システムの評価には、オフライン評価とオンライン評価の2種類がある。各手法にはそれぞれメリットとデメリ\n",
    "\n",
    "ットが存在する。\n",
    "\n",
    "### 4.1 オフライン評価\n",
    "オフライン評価は、事前に収集したデータを用いて評価を行う手法である。\n",
    "\n",
    "- **メリットとデメリット**\n",
    "  メリットとして、低コストで迅速に評価が可能である。デメリットとして、実際のユーザー行動とは異なる可能性がある。\n",
    "\n",
    "- **適用方法と事例**\n",
    "  過去のデータを用いてシミュレーションを行い、システムの性能を評価する。例えば、MovieLensデータセットを使用して、評価を行うことができる。\n",
    "\n",
    "\n"
   ]
  },
  {
   "cell_type": "code",
   "execution_count": null,
   "metadata": {},
   "outputs": [],
   "source": [
    "import pandas as pd\n",
    "from sklearn.model_selection import train_test_split\n",
    "\n",
    "# データの読み込み\n",
    "ratings = pd.read_csv(\n",
    "    \"https://files.grouplens.org/datasets/movielens/ml-100k/u.data\",\n",
    "    sep=\"\\t\",\n",
    "    names=[\"user_id\", \"item_id\", \"rating\", \"timestamp\"],\n",
    ")\n",
    "\n",
    "# 訓練データとテストデータに分割\n",
    "train_data, test_data = train_test_split(ratings, test_size=0.2)\n",
    "\n",
    "# 訓練データのサンプル表示\n",
    "print(train_data.head())"
   ]
  },
  {
   "cell_type": "markdown",
   "metadata": {},
   "source": [
    "### 4.2 オンライン評価\n",
    "オンライン評価は、実際のユーザーを対象に評価を行う手法である。\n",
    "\n",
    "- **A/Bテスト**\n",
    "  A/Bテストは、異なるバージョンのシステムを比較するために用いられる。ユーザーをランダムにグループに分け、それぞれに異なるバージョンを提供し、その効果を比較する。\n",
    "\n",
    "- **メリットとデメリット**\n",
    "  メリットとして、実際のユーザー行動を反映した評価が可能である。デメリットとして、実施に時間とコストがかかる。\n",
    "\n"
   ]
  },
  {
   "cell_type": "code",
   "execution_count": null,
   "metadata": {},
   "outputs": [],
   "source": [
    "# A/Bテストのシミュレーション例\n",
    "import numpy as np\n",
    "\n",
    "# ユーザーのクリック率を仮定\n",
    "group_a_clicks = np.random.binomial(1, 0.1, 1000)  # グループAのクリック率10%\n",
    "group_b_clicks = np.random.binomial(1, 0.15, 1000)  # グループBのクリック率15%\n",
    "\n",
    "# クリック率の平均を計算\n",
    "click_rate_a = np.mean(group_a_clicks)\n",
    "click_rate_b = np.mean(group_b_clicks)\n",
    "\n",
    "print(\"Group A Click Rate:\", round(click_rate_a, 2))\n",
    "print(\"Group B Click Rate:\", round(click_rate_b, 2))"
   ]
  },
  {
   "cell_type": "markdown",
   "metadata": {},
   "source": [
    "\n",
    "\n",
    "## 5. ユーザー体験の評価\n",
    "推薦システムの成功には、ユーザー体験の評価も重要である。これには、ユーザー満足度とエンゲージメントの評価が含まれる。\n",
    "\n",
    "### 5.1 ユーザー満足度\n",
    "ユーザー満足度は、アンケートやフィードバックを通じて評価される。これは、システムの改善に直接役立つ情報を提供する。\n",
    "\n",
    "- **アンケートやフィードバックの活用**\n",
    "  アンケートを通じてユーザーから直接意見を収集し、その結果をもとにシステムの改良を行う。\n",
    "\n"
   ]
  },
  {
   "cell_type": "code",
   "execution_count": null,
   "metadata": {},
   "outputs": [],
   "source": [
    "import pandas as pd\n",
    "\n",
    "# サンプルアンケートデータ\n",
    "feedback_data = {\"user_id\": [1, 2, 3, 4, 5], \"satisfaction\": [5, 4, 3, 4, 5]}\n",
    "\n",
    "feedback_df = pd.DataFrame(feedback_data)\n",
    "average_satisfaction = feedback_df[\"satisfaction\"].mean()\n",
    "print(\"Average User Satisfaction:\", round(average_satisfaction, 2))"
   ]
  },
  {
   "cell_type": "markdown",
   "metadata": {},
   "source": [
    "### 5.2 エンゲージメント\n",
    "エンゲージメント指標は、ユーザーがシステムをどれだけ頻繁に利用しているかを示す。これにより、ユーザーの忠実度を測ることができる。\n",
    "\n",
    "- **エンゲージメント指標の定義と重要性**\n",
    "  エンゲージメント指標は、ユーザーのシステム利用頻度や利用時間を測定する。これにより、ユーザーがシステムにどれだけ依存しているかを評価できる。"
   ]
  },
  {
   "cell_type": "code",
   "execution_count": null,
   "metadata": {},
   "outputs": [],
   "source": [
    "import pandas as pd\n",
    "\n",
    "# サンプルエンゲージメントデータ\n",
    "engagement_data = {\n",
    "    \"user_id\": [1, 2, 3, 4, 5],\n",
    "    \"sessions\": [10, 15, 5, 20, 25],\n",
    "    \"time_spent\": [300, 450, 150, 600, 750],\n",
    "}\n",
    "\n",
    "engagement_df = pd.DataFrame(engagement_data)\n",
    "average_sessions = engagement_df[\"sessions\"].mean()\n",
    "average_time_spent = engagement_df[\"time_spent\"].mean()\n",
    "print(\"Average Sessions per User:\", round(average_sessions, 2))\n",
    "print(\"Average Time Spent per User (minutes):\", round(average_time_spent, 2))"
   ]
  },
  {
   "cell_type": "markdown",
   "metadata": {},
   "source": [
    "## 6. まとめ\n",
    "\n",
    "評価手法の選択と組み合わせが重要である。継続的な評価と改善を行い、システムの性能を最適化することが求められる。評価は、システムの成功とユーザー満足度の向上に不可欠である。"
   ]
  },
  {
   "cell_type": "markdown",
   "metadata": {},
   "source": [
    "## 結論\n",
    "\n",
    "この記事では、推薦システムの評価手法について、基本指標から特有の指標、オフライン評価とオンライン評価、ユーザー体験の評価まで幅広く解説した。適切な評価手法を選び、継続的にシステムの改善を行うことが、成功する推薦システムの構築には不可欠である。\n",
    "\n",
    "参考文献：\n",
    "1. Aggarwal, C. C. (2016). Recommender Systems: The Textbook. Springer."
   ]
  }
 ],
 "metadata": {
  "kernelspec": {
   "display_name": "Python 3",
   "language": "python",
   "name": "python3"
  },
  "language_info": {
   "codemirror_mode": {
    "name": "ipython",
    "version": 3
   },
   "file_extension": ".py",
   "mimetype": "text/x-python",
   "name": "python",
   "nbconvert_exporter": "python",
   "pygments_lexer": "ipython3",
   "version": "3.9.17"
  },
  "widgets": {
   "state": {},
   "version": "1.1.2"
  }
 },
 "nbformat": 4,
 "nbformat_minor": 2
}
