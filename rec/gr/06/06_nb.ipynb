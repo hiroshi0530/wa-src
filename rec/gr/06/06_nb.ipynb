{
 "cells": [
  {
   "cell_type": "markdown",
   "metadata": {},
   "source": [
    "# 推薦システムにおける評価手法の話\n",
    "\n",
    "## 概要\n",
    "\n",
    "この記事では、推薦システムにおける評価手法について詳述する。評価手法の定義や性質、応用例について数式とPythonのコードを用いて具体例を示す。また、評価手法のメリットとデメリットについても論じ、具体的な利用例として「movielens-100k」データセットを用いた実装例を紹介する。\n",
    "\n",
    "\n",
    "\n",
    "## ソースコード\n",
    "\n",
    "\n",
    "### github\n",
    "- jupyter notebook形式のファイルは[こちら](https://github.com/hiroshi0530/wa-src/blob/master/rec/gr/06/06_nb.ipynb)\n",
    "\n",
    "### google colaboratory\n",
    "- google colaboratory で実行する場合は[こちら](https://colab.research.google.com/github/hiroshi0530/wa-src/blob/master/rec/gr/06/06_nb.ipynb)\n",
    "\n",
    "\n",
    "## 実行環境\n",
    "OSはmacOSである。LinuxやUnixのコマンドとはオプションが異なりますので注意していただきたい。"
   ]
  },
  {
   "cell_type": "code",
   "execution_count": 1,
   "metadata": {},
   "outputs": [
    {
     "name": "stdout",
     "output_type": "stream",
     "text": [
      "ProductName:\t\tmacOS\n",
      "ProductVersion:\t\t13.5.1\n",
      "BuildVersion:\t\t22G90\n"
     ]
    }
   ],
   "source": [
    "!sw_vers"
   ]
  },
  {
   "cell_type": "code",
   "execution_count": 2,
   "metadata": {},
   "outputs": [
    {
     "name": "stdout",
     "output_type": "stream",
     "text": [
      "Python 3.9.17\n"
     ]
    }
   ],
   "source": [
    "!python -V"
   ]
  },
  {
   "cell_type": "markdown",
   "metadata": {},
   "source": [
    "pandasのテーブルを見やすいようにHTMLのテーブルにCSSの設定を行います。"
   ]
  },
  {
   "cell_type": "code",
   "execution_count": null,
   "metadata": {},
   "outputs": [],
   "source": [
    "from IPython.core.display import HTML\n",
    "\n",
    "style = \"\"\"\n",
    "<style>\n",
    "    .dataframe thead tr:only-child th {\n",
    "        text-align: right;\n",
    "    }\n",
    "\n",
    "    .dataframe thead th {\n",
    "        text-align: left;\n",
    "        padding: 5px;\n",
    "    }\n",
    "\n",
    "    .dataframe tbody tr th {\n",
    "        vertical-align: top;\n",
    "        padding: 5px;\n",
    "    }\n",
    "\n",
    "    .dataframe tbody tr:hover {\n",
    "        background-color: #ffff99;\n",
    "    }\n",
    "\n",
    "    .dataframe {\n",
    "        background-color: white;\n",
    "        color: black;\n",
    "        font-size: 16px;\n",
    "    }\n",
    "\n",
    "</style>\n",
    "\"\"\"\n",
    "HTML(style)"
   ]
  },
  {
   "cell_type": "markdown",
   "metadata": {},
   "source": [
    "基本的なライブラリをインポートし watermark を利用してそのバージョンを確認しておきます。\n",
    "ついでに乱数のseedの設定をします。"
   ]
  },
  {
   "cell_type": "code",
   "execution_count": null,
   "metadata": {},
   "outputs": [],
   "source": [
    "%matplotlib inline\n",
    "%config InlineBackend.figure_format = 'svg'"
   ]
  },
  {
   "cell_type": "code",
   "execution_count": 2,
   "metadata": {},
   "outputs": [
    {
     "name": "stdout",
     "output_type": "stream",
     "text": [
      "Python implementation: CPython\n",
      "Python version       : 3.9.17\n",
      "IPython version      : 8.17.2\n",
      "\n",
      "scipy     : 1.11.2\n",
      "numpy     : 1.25.2\n",
      "matplotlib: 3.8.1\n",
      "\n",
      "Watermark: 2.4.3\n",
      "\n"
     ]
    }
   ],
   "source": [
    "import random\n",
    "\n",
    "import scipy\n",
    "import numpy as np\n",
    "\n",
    "import matplotlib\n",
    "import matplotlib.pyplot as plt\n",
    "\n",
    "seed = 123\n",
    "random_state = 123\n",
    "\n",
    "random.seed(seed)\n",
    "np.random.seed(seed)\n",
    "\n",
    "\n",
    "from watermark import watermark\n",
    "\n",
    "print(watermark(python=True, watermark=True, iversions=True, globals_=globals()))"
   ]
  },
  {
   "cell_type": "markdown",
   "metadata": {},
   "source": [
    "## 評価手法の定義と性質\n",
    "\n",
    "推薦システムの評価手法は、システムがユーザーに対してどれだけ適切な推薦を行っているかを測定する方法である。評価手法は、推薦システムの性能を比較・改善するために不可欠である。\n",
    "\n",
    "### 主要な評価指標\n",
    "\n",
    "推薦システムの評価には、以下の主要な指標が使用される。\n",
    "\n",
    "1. **精度 (Precision)**:\n",
    "   推薦されたアイテムのうち、ユーザーが実際に好むアイテムの割合。\n",
    "   $$ \\text{Precision} = \\frac{|\\{推奨アイテム\\} \\cap \\{好まれるアイテム\\}|}{|\\{推奨アイテム\\}|} $$\n",
    "\n",
    "2. **再現率 (Recall)**:\n",
    "   ユーザーが好むアイテムのうち、推薦されたアイテムの割合。\n",
    "   $$ \\text{Recall} = \\frac{|\\{推奨アイテム\\} \\cap \\{好まれるアイテム\\}|}{|\\{好まれるアイテム\\}|} $$\n",
    "\n",
    "3. **F1スコア (F1 Score)**:\n",
    "   精度と再現率の調和平均。\n",
    "   $$ \\text{F1 Score} = 2 \\cdot \\frac{\\text{Precision} \\cdot \\text{Recall}}{\\text{Precision} + \\text{Recall}} $$\n",
    "\n",
    "4. **平均絶対誤差 (MAE)**:\n",
    "   推薦システムの予測と実際の評価の絶対値の平均。\n",
    "   $$ \\text{MAE} = \\frac{1}{N} \\sum_{i=1}^{N} |r_i - \\hat{r}_i| $$\n",
    "\n",
    "5. **二乗平均平方根誤差 (RMSE)**:\n",
    "   推薦システムの予測と実際の評価の二乗平均平方根。\n",
    "   $$ \\text{RMSE} = \\sqrt{\\frac{1}{N} \\sum_{i=1}^{N} (r_i - \\hat{r}_i)^2} $$\n",
    "\n",
    "## 応用例と実装\n",
    "\n",
    "次に、これらの評価指標を用いて「movielens-100k」データセットを使った実装例を示す。\n",
    "\n",
    "### データセットの準備\n",
    "\n",
    "まず、「movielens-100k」データセットをロードし、評価行列を準備する。\n",
    "\n"
   ]
  },
  {
   "cell_type": "code",
   "execution_count": null,
   "metadata": {},
   "outputs": [],
   "source": [
    "import pandas as pd\n",
    "import numpy as np\n",
    "from sklearn.model_selection import train_test_split\n",
    "from sklearn.metrics import mean_absolute_error, mean_squared_error\n",
    "from math import sqrt\n",
    "\n",
    "# データセットの読み込み\n",
    "ratings = pd.read_csv(\"u.data\", sep=\"\\t\", header=None, names=[\"user_id\", \"movie_id\", \"rating\", \"timestamp\"])\n",
    "\n",
    "# データセットの分割\n",
    "train_data, test_data = train_test_split(ratings, test_size=0.2, random_state=42)\n",
    "\n",
    "# 評価行列の作成\n",
    "R_train = train_data.pivot(index=\"user_id\", columns=\"movie_id\", values=\"rating\").fillna(0)\n",
    "R_test = test_data.pivot(index=\"user_id\", columns=\"movie_id\", values=\"rating\").fillna(0)\n",
    "\n",
    "# 評価行列をnumpy配列に変換\n",
    "R_train = R_train.values\n",
    "R_test = R_test.values"
   ]
  },
  {
   "cell_type": "code",
   "execution_count": null,
   "metadata": {},
   "outputs": [],
   "source": [
    "\n",
    "\n",
    "\n",
    "### 評価指標の計算\n",
    "\n",
    "次に、予測評価行列を生成し、評価指標を計算する。ここでは、簡単な平均ベースの予測を使用する。\n",
    "\n"
   ]
  },
  {
   "cell_type": "code",
   "execution_count": null,
   "metadata": {},
   "outputs": [],
   "source": [
    "# ユーザー平均に基づく予測\n",
    "user_mean = np.mean(R_train, axis=1)\n",
    "R_pred = np.tile(user_mean, (R_train.shape[1], 1)).T\n",
    "\n",
    "# MAEとRMSEの計算\n",
    "mae = mean_absolute_error(R_test[R_test > 0], R_pred[R_test > 0])\n",
    "rmse = sqrt(mean_squared_error(R_test[R_test > 0], R_pred[R_test > 0]))\n",
    "\n",
    "print(f\"MAE: {round(mae, 2)}\")\n",
    "print(f\"RMSE: {round(rmse, 2)}\")"
   ]
  },
  {
   "cell_type": "code",
   "execution_count": null,
   "metadata": {},
   "outputs": [],
   "source": [
    "\n",
    "\n",
    "### 精度、再現率、F1スコアの計算\n",
    "\n",
    "次に、精度、再現率、F1スコアを計算する。\n",
    "\n"
   ]
  },
  {
   "cell_type": "code",
   "execution_count": null,
   "metadata": {},
   "outputs": [],
   "source": [
    "from sklearn.metrics import precision_score, recall_score, f1_score\n",
    "\n",
    "# 二値予測: 予測評価が3以上である場合を「好まれる」とする\n",
    "R_pred_binary = (R_pred >= 3).astype(int)\n",
    "R_test_binary = (R_test >= 3).astype(int)\n",
    "\n",
    "# 精度、再現率、F1スコアの計算\n",
    "precision = precision_score(R_test_binary[R_test > 0], R_pred_binary[R_test > 0])\n",
    "recall = recall_score(R_test_binary[R_test > 0], R_pred_binary[R_test > 0])\n",
    "f1 = f1_score(R_test_binary[R_test > 0], R_pred_binary[R_test > 0])\n",
    "\n",
    "print(f\"Precision: {round(precision, 2)}\")\n",
    "print(f\"Recall: {round(recall, 2)}\")\n",
    "print(f\"F1 Score: {round(f1, 2)}\")"
   ]
  },
  {
   "cell_type": "markdown",
   "metadata": {},
   "source": [
    "\n",
    "\n",
    "## メリットとデメリット\n",
    "\n",
    "### メリット\n",
    "\n",
    "- **評価の多様性**: 複数の評価指標を使用することで、システムの性能を多角的に評価できる。\n",
    "- **改善の指針**: 指標ごとにシステムの強みや弱点が明確になり、改善の方向性が見える。\n",
    "\n",
    "### デメリット\n",
    "\n",
    "- **計算コスト**: データが大規模になると、評価指標の計算に時間がかかる。\n",
    "- **バイアス**: 特定の評価指標に偏ると、システムの総合的な性能が見落とされる可能性がある。\n",
    "\n",
    "## 結論\n",
    "\n",
    "この記事では、推薦システムにおける評価手法について詳述した。具体的な定義や数式、Pythonコードを用いた具体例を示し、メリットとデメリットを論じた。評価手法は、システムの性能を多角的に評価し、改善の方向性を見出すために重要である。\n",
    "\n",
    "### 参考文献\n",
    "\n",
    "- Wikipedia: [Precision and recall](https://en.wikipedia.org/wiki/Precision_and_recall)\n",
    "- Scikit-learn: [Metrics and scoring](https://scikit-learn.org/stable/modules/model_evaluation.html)"
   ]
  }
 ],
 "metadata": {
  "kernelspec": {
   "display_name": "Python 3",
   "language": "python",
   "name": "python3"
  },
  "language_info": {
   "codemirror_mode": {
    "name": "ipython",
    "version": 3
   },
   "file_extension": ".py",
   "mimetype": "text/x-python",
   "name": "python",
   "nbconvert_exporter": "python",
   "pygments_lexer": "ipython3",
   "version": "3.9.17"
  },
  "widgets": {
   "state": {},
   "version": "1.1.2"
  }
 },
 "nbformat": 4,
 "nbformat_minor": 2
}
