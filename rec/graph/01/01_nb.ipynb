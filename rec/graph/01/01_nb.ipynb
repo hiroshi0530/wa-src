{
 "cells": [
  {
   "cell_type": "markdown",
   "metadata": {},
   "source": [
    "## ラプラシン行列、隣接行列、次数行列\n",
    "\n",
    "推薦システムのモデル構築でしばしば利用される、ラプラシン行列、隣接行列、次数行列についてまとめる。\n",
    "Pythonのネットワークライブラリ Networkx を利用して、具体的にこれらの行列を計算する。\n",
    "\n",
    "これらはグラフ理論やグラフスペクトル理論でも頻出の行列で、とても重要な概念である。\n",
    "\n",
    "### ラプラシアン行列 (Laplacian Matrix)\n",
    "\n",
    "ラプラシアン行列は、グラフの構造を表すために使用されます。\n",
    "\n",
    "- 定義: ラプラシアン行列は、次数行列（D）から隣接行列（A）を引いたものです。つまり、$\\mathbf{L} = \\mathbf{D} - \\mathbf{A}$。\n",
    "- 特徴: ラプラシアン行列の各要素は、対角要素がそのノードの次数であり、非対角要素は、ノード間の接続の有無に基づいて-1または0です（接続がある場合は-1、ない場合は0）。\n",
    "- 用途: ネットワークの接続性やクラスタリング、スペクトルグラフ理論などに使用されます。\n",
    "\n",
    "\n",
    "### 隣接行列 (Adjacency Matrix)\n",
    "\n",
    "隣接行列は、グラフ内のノード間の接続関係を表します。\n",
    "\n",
    "- 定義: グラフの各ノードを行と列に対応させ、ノード間の接続がある場合（エッジが存在する場合）には1を、ない場合には0を配置した行列。\n",
    "- 特徴: 隣接行列は、グラフのエッジの情報を直接的に表すために使用されます。\n",
    "- 用途: ネットワーク分析、グラフの特性を理解するため、または推薦システムにおけるユーザー間やアイテム間の関連性をモデリングする際に用いられます。\n",
    "\n",
    "\n",
    "### 次数行列 (Degree Matrix)\n",
    "\n",
    "次数行列は、グラフ内の各ノードの次数（つながりの数）を表します。\n",
    "\n",
    "- 定義: 対角行列で、各対角要素はグラフの対応するノードの次数を示します。\n",
    "- 特徴: 非対角要素はすべて0です。対角要素は、そのノードに接続するエッジの数を示します。\n",
    "- 用途: ラプラシアン行列を構成する際や、ネットワークの特性を分析する際に使用されます。\n",
    "\n",
    "\n",
    "これらの行列は、グラフの特性を理解し、ネットワーク内でのパターンや関係性を分析するための基本的なツールです。特に推薦システムでは、ユーザーとアイテム間の関係性をモデル化する際にこれらの概念が重要になります。\n",
    "\n",
    "\n",
    "\n",
    "### github\n",
    "- jupyter notebook形式のファイルは[こちら](https://github.com/hiroshi0530/wa-src/blob/master/rec/graph/01/01_nb.ipynb)\n",
    "\n",
    "### google colaboratory\n",
    "- google colaboratory で実行する場合は[こちら](https://colab.research.google.com/github/hiroshi0530/wa-src/blob/master/rec/graph/01/01_nb.ipynb)\n",
    "\n",
    "### 筆者の環境"
   ]
  },
  {
   "cell_type": "code",
   "execution_count": 1,
   "metadata": {},
   "outputs": [
    {
     "name": "stdout",
     "output_type": "stream",
     "text": [
      "ProductName:\t\tmacOS\n",
      "ProductVersion:\t\t13.5.1\n",
      "BuildVersion:\t\t22G90\n"
     ]
    }
   ],
   "source": [
    "!sw_vers"
   ]
  },
  {
   "cell_type": "code",
   "execution_count": 2,
   "metadata": {},
   "outputs": [
    {
     "name": "stdout",
     "output_type": "stream",
     "text": [
      "Python 3.9.12\n"
     ]
    }
   ],
   "source": [
    "!python -V"
   ]
  },
  {
   "cell_type": "markdown",
   "metadata": {},
   "source": [
    "基本的なライブラリをインポートしそのバージョンを確認しておきます。\n",
    "学習をpytorchを利用し、ネットワーク関係はnetworkxを利用する。"
   ]
  },
  {
   "cell_type": "code",
   "execution_count": 2,
   "metadata": {},
   "outputs": [
    {
     "name": "stdout",
     "output_type": "stream",
     "text": [
      "matplotlib  : 3.8.1\n",
      "networkdx   : 3.1\n",
      "numpy       : 1.25.2\n",
      "torch       : 2.0.1\n",
      "scipy       : 1.11.2\n"
     ]
    }
   ],
   "source": [
    "%matplotlib inline\n",
    "%config InlineBackend.figure_format = 'svg'\n",
    "\n",
    "import json\n",
    "import math\n",
    "import numpy as np\n",
    "import matplotlib.pyplot as plt\n",
    "\n",
    "import networkx as nx\n",
    "\n",
    "import torch\n",
    "import torch.nn.functional as F\n",
    "import torch.optim as optim\n",
    "import torch.nn as nn\n",
    "\n",
    "import matplotlib\n",
    "\n",
    "import scipy\n",
    "\n",
    "scipy.__version__\n",
    "\n",
    "print('matplotlib  : {}'.format(matplotlib.__version__))\n",
    "print('networkdx   : {}'.format(nx.__version__))\n",
    "print('numpy       : {}'.format(np.__version__))\n",
    "print('torch       : {}'.format(torch.__version__))\n",
    "print('scipy       : {}'.format(scipy.__version__))"
   ]
  },
  {
   "cell_type": "markdown",
   "metadata": {},
   "source": [
    "## 二部グラフの作成、L、A、D、正規化行列の計算\n",
    "\n",
    "わかりやすく、小さなグラフで作成する"
   ]
  },
  {
   "cell_type": "markdown",
   "metadata": {},
   "source": [
    "$$\n",
    "R_{u, i}=\\left\\lbrace\\begin{array}{lr}\n",
    "1, & \\text { if }(u, i) \\text { interaction is observed } \\\\\n",
    "0, & \\text { otherwise }\n",
    "\\end{array}\\right.\n",
    "$$\n"
   ]
  },
  {
   "cell_type": "markdown",
   "metadata": {},
   "source": []
  },
  {
   "cell_type": "markdown",
   "metadata": {},
   "source": []
  },
  {
   "cell_type": "markdown",
   "metadata": {},
   "source": [
    "$$\n",
    "\\begin{array}{|l|r|r|r|r|}\n",
    "\\hline & \\text{ item1 } & \\text{ item2 } & \\text{ item3 } & \\text{ item4 } \\\\\n",
    "\\hline \\text{ user1 } & 0 & 1 & 0 & 0 \\\\\n",
    "\\hline \\text{ user2 } & 0 & 0 & 1 & 1 \\\\\n",
    "\\hline \\text{ user3 } & 1 & 0 & 0 & 0 \\\\\n",
    "\\hline \\text{ user4 } & 0 & 1 & 0 & 0 \\\\\n",
    "\\hline \\text{ user5 } & 1 & 0 & 1 & 0 \\\\\n",
    "\\hline\n",
    "\\end{array}\n",
    "$$"
   ]
  },
  {
   "cell_type": "code",
   "execution_count": null,
   "metadata": {},
   "outputs": [],
   "source": []
  },
  {
   "cell_type": "code",
   "execution_count": 3,
   "metadata": {
    "scrolled": true
   },
   "outputs": [
    {
     "data": {
      "image/svg+xml": [
       "<?xml version=\"1.0\" encoding=\"utf-8\" standalone=\"no\"?>\n",
       "<!DOCTYPE svg PUBLIC \"-//W3C//DTD SVG 1.1//EN\"\n",
       "  \"http://www.w3.org/Graphics/SVG/1.1/DTD/svg11.dtd\">\n",
       "<svg xmlns:xlink=\"http://www.w3.org/1999/xlink\" width=\"475.2pt\" height=\"360pt\" viewBox=\"0 0 475.2 360\" xmlns=\"http://www.w3.org/2000/svg\" version=\"1.1\">\n",
       " <metadata>\n",
       "  <rdf:RDF xmlns:dc=\"http://purl.org/dc/elements/1.1/\" xmlns:cc=\"http://creativecommons.org/ns#\" xmlns:rdf=\"http://www.w3.org/1999/02/22-rdf-syntax-ns#\">\n",
       "   <cc:Work>\n",
       "    <dc:type rdf:resource=\"http://purl.org/dc/dcmitype/StillImage\"/>\n",
       "    <dc:date>2024-01-08T00:53:44.411197</dc:date>\n",
       "    <dc:format>image/svg+xml</dc:format>\n",
       "    <dc:creator>\n",
       "     <cc:Agent>\n",
       "      <dc:title>Matplotlib v3.8.1, https://matplotlib.org/</dc:title>\n",
       "     </cc:Agent>\n",
       "    </dc:creator>\n",
       "   </cc:Work>\n",
       "  </rdf:RDF>\n",
       " </metadata>\n",
       " <defs>\n",
       "  <style type=\"text/css\">*{stroke-linejoin: round; stroke-linecap: butt}</style>\n",
       " </defs>\n",
       " <g id=\"figure_1\">\n",
       "  <g id=\"patch_1\">\n",
       "   <path d=\"M 0 360 \n",
       "L 475.2 360 \n",
       "L 475.2 0 \n",
       "L 0 0 \n",
       "z\n",
       "\" style=\"fill: #ffffff\"/>\n",
       "  </g>\n",
       "  <g id=\"axes_1\">\n",
       "   <g id=\"LineCollection_1\">\n",
       "    <path d=\"M 47.186777 37.190083 \n",
       "L 428.013223 37.190083 \n",
       "\" clip-path=\"url(#p0f8dce7588)\" style=\"fill: none; stroke: #000000\"/>\n",
       "    <path d=\"M 47.186777 37.190083 \n",
       "L 428.013223 251.404959 \n",
       "\" clip-path=\"url(#p0f8dce7588)\" style=\"fill: none; stroke: #000000\"/>\n",
       "    <path d=\"M 47.186777 108.595041 \n",
       "L 428.013223 37.190083 \n",
       "\" clip-path=\"url(#p0f8dce7588)\" style=\"fill: none; stroke: #000000\"/>\n",
       "    <path d=\"M 47.186777 108.595041 \n",
       "L 428.013223 108.595041 \n",
       "\" clip-path=\"url(#p0f8dce7588)\" style=\"fill: none; stroke: #000000\"/>\n",
       "    <path d=\"M 47.186777 108.595041 \n",
       "L 428.013223 251.404959 \n",
       "\" clip-path=\"url(#p0f8dce7588)\" style=\"fill: none; stroke: #000000\"/>\n",
       "    <path d=\"M 47.186777 180 \n",
       "L 428.013223 37.190083 \n",
       "\" clip-path=\"url(#p0f8dce7588)\" style=\"fill: none; stroke: #000000\"/>\n",
       "    <path d=\"M 47.186777 180 \n",
       "L 428.013223 251.404959 \n",
       "\" clip-path=\"url(#p0f8dce7588)\" style=\"fill: none; stroke: #000000\"/>\n",
       "    <path d=\"M 47.186777 251.404959 \n",
       "L 428.013223 108.595041 \n",
       "\" clip-path=\"url(#p0f8dce7588)\" style=\"fill: none; stroke: #000000\"/>\n",
       "    <path d=\"M 47.186777 251.404959 \n",
       "L 428.013223 180 \n",
       "\" clip-path=\"url(#p0f8dce7588)\" style=\"fill: none; stroke: #000000\"/>\n",
       "    <path d=\"M 47.186777 251.404959 \n",
       "L 428.013223 251.404959 \n",
       "\" clip-path=\"url(#p0f8dce7588)\" style=\"fill: none; stroke: #000000\"/>\n",
       "    <path d=\"M 47.186777 322.809917 \n",
       "L 428.013223 180 \n",
       "\" clip-path=\"url(#p0f8dce7588)\" style=\"fill: none; stroke: #000000\"/>\n",
       "    <path d=\"M 47.186777 322.809917 \n",
       "L 428.013223 251.404959 \n",
       "\" clip-path=\"url(#p0f8dce7588)\" style=\"fill: none; stroke: #000000\"/>\n",
       "   </g>\n",
       "   <g id=\"PathCollection_1\">\n",
       "    <path d=\"M 47.186777 49.437531 \n",
       "C 50.434838 49.437531 53.550305 48.147063 55.847031 45.850337 \n",
       "C 58.143757 43.55361 59.434226 40.438144 59.434226 37.190083 \n",
       "C 59.434226 33.942021 58.143757 30.826555 55.847031 28.529829 \n",
       "C 53.550305 26.233102 50.434838 24.942634 47.186777 24.942634 \n",
       "C 43.938715 24.942634 40.823249 26.233102 38.526523 28.529829 \n",
       "C 36.229797 30.826555 34.939328 33.942021 34.939328 37.190083 \n",
       "C 34.939328 40.438144 36.229797 43.55361 38.526523 45.850337 \n",
       "C 40.823249 48.147063 43.938715 49.437531 47.186777 49.437531 \n",
       "z\n",
       "\" clip-path=\"url(#p0f8dce7588)\" style=\"fill: #ff0000; stroke: #ff0000\"/>\n",
       "    <path d=\"M 47.186777 120.84249 \n",
       "C 50.434838 120.84249 53.550305 119.552022 55.847031 117.255295 \n",
       "C 58.143757 114.958569 59.434226 111.843103 59.434226 108.595041 \n",
       "C 59.434226 105.34698 58.143757 102.231514 55.847031 99.934787 \n",
       "C 53.550305 97.638061 50.434838 96.347593 47.186777 96.347593 \n",
       "C 43.938715 96.347593 40.823249 97.638061 38.526523 99.934787 \n",
       "C 36.229797 102.231514 34.939328 105.34698 34.939328 108.595041 \n",
       "C 34.939328 111.843103 36.229797 114.958569 38.526523 117.255295 \n",
       "C 40.823249 119.552022 43.938715 120.84249 47.186777 120.84249 \n",
       "z\n",
       "\" clip-path=\"url(#p0f8dce7588)\" style=\"fill: #ff0000; stroke: #ff0000\"/>\n",
       "    <path d=\"M 47.186777 192.247449 \n",
       "C 50.434838 192.247449 53.550305 190.95698 55.847031 188.660254 \n",
       "C 58.143757 186.363528 59.434226 183.248061 59.434226 180 \n",
       "C 59.434226 176.751939 58.143757 173.636472 55.847031 171.339746 \n",
       "C 53.550305 169.04302 50.434838 167.752551 47.186777 167.752551 \n",
       "C 43.938715 167.752551 40.823249 169.04302 38.526523 171.339746 \n",
       "C 36.229797 173.636472 34.939328 176.751939 34.939328 180 \n",
       "C 34.939328 183.248061 36.229797 186.363528 38.526523 188.660254 \n",
       "C 40.823249 190.95698 43.938715 192.247449 47.186777 192.247449 \n",
       "z\n",
       "\" clip-path=\"url(#p0f8dce7588)\" style=\"fill: #ff0000; stroke: #ff0000\"/>\n",
       "    <path d=\"M 47.186777 263.652407 \n",
       "C 50.434838 263.652407 53.550305 262.361939 55.847031 260.065213 \n",
       "C 58.143757 257.768486 59.434226 254.65302 59.434226 251.404959 \n",
       "C 59.434226 248.156897 58.143757 245.041431 55.847031 242.744705 \n",
       "C 53.550305 240.447978 50.434838 239.15751 47.186777 239.15751 \n",
       "C 43.938715 239.15751 40.823249 240.447978 38.526523 242.744705 \n",
       "C 36.229797 245.041431 34.939328 248.156897 34.939328 251.404959 \n",
       "C 34.939328 254.65302 36.229797 257.768486 38.526523 260.065213 \n",
       "C 40.823249 262.361939 43.938715 263.652407 47.186777 263.652407 \n",
       "z\n",
       "\" clip-path=\"url(#p0f8dce7588)\" style=\"fill: #ff0000; stroke: #ff0000\"/>\n",
       "    <path d=\"M 47.186777 335.057366 \n",
       "C 50.434838 335.057366 53.550305 333.766898 55.847031 331.470171 \n",
       "C 58.143757 329.173445 59.434226 326.057979 59.434226 322.809917 \n",
       "C 59.434226 319.561856 58.143757 316.44639 55.847031 314.149663 \n",
       "C 53.550305 311.852937 50.434838 310.562469 47.186777 310.562469 \n",
       "C 43.938715 310.562469 40.823249 311.852937 38.526523 314.149663 \n",
       "C 36.229797 316.44639 34.939328 319.561856 34.939328 322.809917 \n",
       "C 34.939328 326.057979 36.229797 329.173445 38.526523 331.470171 \n",
       "C 40.823249 333.766898 43.938715 335.057366 47.186777 335.057366 \n",
       "z\n",
       "\" clip-path=\"url(#p0f8dce7588)\" style=\"fill: #ff0000; stroke: #ff0000\"/>\n",
       "    <path d=\"M 428.013223 49.437531 \n",
       "C 431.261285 49.437531 434.376751 48.147063 436.673477 45.850337 \n",
       "C 438.970203 43.55361 440.260672 40.438144 440.260672 37.190083 \n",
       "C 440.260672 33.942021 438.970203 30.826555 436.673477 28.529829 \n",
       "C 434.376751 26.233102 431.261285 24.942634 428.013223 24.942634 \n",
       "C 424.765162 24.942634 421.649695 26.233102 419.352969 28.529829 \n",
       "C 417.056243 30.826555 415.765774 33.942021 415.765774 37.190083 \n",
       "C 415.765774 40.438144 417.056243 43.55361 419.352969 45.850337 \n",
       "C 421.649695 48.147063 424.765162 49.437531 428.013223 49.437531 \n",
       "z\n",
       "\" clip-path=\"url(#p0f8dce7588)\" style=\"fill: #add8e6; stroke: #add8e6\"/>\n",
       "    <path d=\"M 428.013223 120.84249 \n",
       "C 431.261285 120.84249 434.376751 119.552022 436.673477 117.255295 \n",
       "C 438.970203 114.958569 440.260672 111.843103 440.260672 108.595041 \n",
       "C 440.260672 105.34698 438.970203 102.231514 436.673477 99.934787 \n",
       "C 434.376751 97.638061 431.261285 96.347593 428.013223 96.347593 \n",
       "C 424.765162 96.347593 421.649695 97.638061 419.352969 99.934787 \n",
       "C 417.056243 102.231514 415.765774 105.34698 415.765774 108.595041 \n",
       "C 415.765774 111.843103 417.056243 114.958569 419.352969 117.255295 \n",
       "C 421.649695 119.552022 424.765162 120.84249 428.013223 120.84249 \n",
       "z\n",
       "\" clip-path=\"url(#p0f8dce7588)\" style=\"fill: #add8e6; stroke: #add8e6\"/>\n",
       "    <path d=\"M 428.013223 192.247449 \n",
       "C 431.261285 192.247449 434.376751 190.95698 436.673477 188.660254 \n",
       "C 438.970203 186.363528 440.260672 183.248061 440.260672 180 \n",
       "C 440.260672 176.751939 438.970203 173.636472 436.673477 171.339746 \n",
       "C 434.376751 169.04302 431.261285 167.752551 428.013223 167.752551 \n",
       "C 424.765162 167.752551 421.649695 169.04302 419.352969 171.339746 \n",
       "C 417.056243 173.636472 415.765774 176.751939 415.765774 180 \n",
       "C 415.765774 183.248061 417.056243 186.363528 419.352969 188.660254 \n",
       "C 421.649695 190.95698 424.765162 192.247449 428.013223 192.247449 \n",
       "z\n",
       "\" clip-path=\"url(#p0f8dce7588)\" style=\"fill: #add8e6; stroke: #add8e6\"/>\n",
       "    <path d=\"M 428.013223 263.652407 \n",
       "C 431.261285 263.652407 434.376751 262.361939 436.673477 260.065213 \n",
       "C 438.970203 257.768486 440.260672 254.65302 440.260672 251.404959 \n",
       "C 440.260672 248.156897 438.970203 245.041431 436.673477 242.744705 \n",
       "C 434.376751 240.447978 431.261285 239.15751 428.013223 239.15751 \n",
       "C 424.765162 239.15751 421.649695 240.447978 419.352969 242.744705 \n",
       "C 417.056243 245.041431 415.765774 248.156897 415.765774 251.404959 \n",
       "C 415.765774 254.65302 417.056243 257.768486 419.352969 260.065213 \n",
       "C 421.649695 262.361939 424.765162 263.652407 428.013223 263.652407 \n",
       "z\n",
       "\" clip-path=\"url(#p0f8dce7588)\" style=\"fill: #add8e6; stroke: #add8e6\"/>\n",
       "   </g>\n",
       "   <g id=\"text_1\">\n",
       "    <g clip-path=\"url(#p0f8dce7588)\">\n",
       "     <!-- 0 -->\n",
       "     <g transform=\"translate(43.369277 40.501333) scale(0.12 -0.12)\">\n",
       "      <defs>\n",
       "       <path id=\"DejaVuSans-30\" d=\"M 2034 4250 \n",
       "Q 1547 4250 1301 3770 \n",
       "Q 1056 3291 1056 2328 \n",
       "Q 1056 1369 1301 889 \n",
       "Q 1547 409 2034 409 \n",
       "Q 2525 409 2770 889 \n",
       "Q 3016 1369 3016 2328 \n",
       "Q 3016 3291 2770 3770 \n",
       "Q 2525 4250 2034 4250 \n",
       "z\n",
       "M 2034 4750 \n",
       "Q 2819 4750 3233 4129 \n",
       "Q 3647 3509 3647 2328 \n",
       "Q 3647 1150 3233 529 \n",
       "Q 2819 -91 2034 -91 \n",
       "Q 1250 -91 836 529 \n",
       "Q 422 1150 422 2328 \n",
       "Q 422 3509 836 4129 \n",
       "Q 1250 4750 2034 4750 \n",
       "z\n",
       "\" transform=\"scale(0.015625)\"/>\n",
       "      </defs>\n",
       "      <use xlink:href=\"#DejaVuSans-30\"/>\n",
       "     </g>\n",
       "    </g>\n",
       "   </g>\n",
       "   <g id=\"text_2\">\n",
       "    <g clip-path=\"url(#p0f8dce7588)\">\n",
       "     <!-- 1 -->\n",
       "     <g transform=\"translate(43.369277 111.906291) scale(0.12 -0.12)\">\n",
       "      <defs>\n",
       "       <path id=\"DejaVuSans-31\" d=\"M 794 531 \n",
       "L 1825 531 \n",
       "L 1825 4091 \n",
       "L 703 3866 \n",
       "L 703 4441 \n",
       "L 1819 4666 \n",
       "L 2450 4666 \n",
       "L 2450 531 \n",
       "L 3481 531 \n",
       "L 3481 0 \n",
       "L 794 0 \n",
       "L 794 531 \n",
       "z\n",
       "\" transform=\"scale(0.015625)\"/>\n",
       "      </defs>\n",
       "      <use xlink:href=\"#DejaVuSans-31\"/>\n",
       "     </g>\n",
       "    </g>\n",
       "   </g>\n",
       "   <g id=\"text_3\">\n",
       "    <g clip-path=\"url(#p0f8dce7588)\">\n",
       "     <!-- 2 -->\n",
       "     <g transform=\"translate(43.369277 183.31125) scale(0.12 -0.12)\">\n",
       "      <defs>\n",
       "       <path id=\"DejaVuSans-32\" d=\"M 1228 531 \n",
       "L 3431 531 \n",
       "L 3431 0 \n",
       "L 469 0 \n",
       "L 469 531 \n",
       "Q 828 903 1448 1529 \n",
       "Q 2069 2156 2228 2338 \n",
       "Q 2531 2678 2651 2914 \n",
       "Q 2772 3150 2772 3378 \n",
       "Q 2772 3750 2511 3984 \n",
       "Q 2250 4219 1831 4219 \n",
       "Q 1534 4219 1204 4116 \n",
       "Q 875 4013 500 3803 \n",
       "L 500 4441 \n",
       "Q 881 4594 1212 4672 \n",
       "Q 1544 4750 1819 4750 \n",
       "Q 2544 4750 2975 4387 \n",
       "Q 3406 4025 3406 3419 \n",
       "Q 3406 3131 3298 2873 \n",
       "Q 3191 2616 2906 2266 \n",
       "Q 2828 2175 2409 1742 \n",
       "Q 1991 1309 1228 531 \n",
       "z\n",
       "\" transform=\"scale(0.015625)\"/>\n",
       "      </defs>\n",
       "      <use xlink:href=\"#DejaVuSans-32\"/>\n",
       "     </g>\n",
       "    </g>\n",
       "   </g>\n",
       "   <g id=\"text_4\">\n",
       "    <g clip-path=\"url(#p0f8dce7588)\">\n",
       "     <!-- 3 -->\n",
       "     <g transform=\"translate(43.369277 254.716209) scale(0.12 -0.12)\">\n",
       "      <defs>\n",
       "       <path id=\"DejaVuSans-33\" d=\"M 2597 2516 \n",
       "Q 3050 2419 3304 2112 \n",
       "Q 3559 1806 3559 1356 \n",
       "Q 3559 666 3084 287 \n",
       "Q 2609 -91 1734 -91 \n",
       "Q 1441 -91 1130 -33 \n",
       "Q 819 25 488 141 \n",
       "L 488 750 \n",
       "Q 750 597 1062 519 \n",
       "Q 1375 441 1716 441 \n",
       "Q 2309 441 2620 675 \n",
       "Q 2931 909 2931 1356 \n",
       "Q 2931 1769 2642 2001 \n",
       "Q 2353 2234 1838 2234 \n",
       "L 1294 2234 \n",
       "L 1294 2753 \n",
       "L 1863 2753 \n",
       "Q 2328 2753 2575 2939 \n",
       "Q 2822 3125 2822 3475 \n",
       "Q 2822 3834 2567 4026 \n",
       "Q 2313 4219 1838 4219 \n",
       "Q 1578 4219 1281 4162 \n",
       "Q 984 4106 628 3988 \n",
       "L 628 4550 \n",
       "Q 988 4650 1302 4700 \n",
       "Q 1616 4750 1894 4750 \n",
       "Q 2613 4750 3031 4423 \n",
       "Q 3450 4097 3450 3541 \n",
       "Q 3450 3153 3228 2886 \n",
       "Q 3006 2619 2597 2516 \n",
       "z\n",
       "\" transform=\"scale(0.015625)\"/>\n",
       "      </defs>\n",
       "      <use xlink:href=\"#DejaVuSans-33\"/>\n",
       "     </g>\n",
       "    </g>\n",
       "   </g>\n",
       "   <g id=\"text_5\">\n",
       "    <g clip-path=\"url(#p0f8dce7588)\">\n",
       "     <!-- 4 -->\n",
       "     <g transform=\"translate(43.369277 326.121167) scale(0.12 -0.12)\">\n",
       "      <defs>\n",
       "       <path id=\"DejaVuSans-34\" d=\"M 2419 4116 \n",
       "L 825 1625 \n",
       "L 2419 1625 \n",
       "L 2419 4116 \n",
       "z\n",
       "M 2253 4666 \n",
       "L 3047 4666 \n",
       "L 3047 1625 \n",
       "L 3713 1625 \n",
       "L 3713 1100 \n",
       "L 3047 1100 \n",
       "L 3047 0 \n",
       "L 2419 0 \n",
       "L 2419 1100 \n",
       "L 313 1100 \n",
       "L 313 1709 \n",
       "L 2253 4666 \n",
       "z\n",
       "\" transform=\"scale(0.015625)\"/>\n",
       "      </defs>\n",
       "      <use xlink:href=\"#DejaVuSans-34\"/>\n",
       "     </g>\n",
       "    </g>\n",
       "   </g>\n",
       "   <g id=\"text_6\">\n",
       "    <g clip-path=\"url(#p0f8dce7588)\">\n",
       "     <!-- 100 -->\n",
       "     <g transform=\"translate(416.560723 40.501333) scale(0.12 -0.12)\">\n",
       "      <use xlink:href=\"#DejaVuSans-31\"/>\n",
       "      <use xlink:href=\"#DejaVuSans-30\" x=\"63.623047\"/>\n",
       "      <use xlink:href=\"#DejaVuSans-30\" x=\"127.246094\"/>\n",
       "     </g>\n",
       "    </g>\n",
       "   </g>\n",
       "   <g id=\"text_7\">\n",
       "    <g clip-path=\"url(#p0f8dce7588)\">\n",
       "     <!-- 101 -->\n",
       "     <g transform=\"translate(416.560723 111.906291) scale(0.12 -0.12)\">\n",
       "      <use xlink:href=\"#DejaVuSans-31\"/>\n",
       "      <use xlink:href=\"#DejaVuSans-30\" x=\"63.623047\"/>\n",
       "      <use xlink:href=\"#DejaVuSans-31\" x=\"127.246094\"/>\n",
       "     </g>\n",
       "    </g>\n",
       "   </g>\n",
       "   <g id=\"text_8\">\n",
       "    <g clip-path=\"url(#p0f8dce7588)\">\n",
       "     <!-- 102 -->\n",
       "     <g transform=\"translate(416.560723 183.31125) scale(0.12 -0.12)\">\n",
       "      <use xlink:href=\"#DejaVuSans-31\"/>\n",
       "      <use xlink:href=\"#DejaVuSans-30\" x=\"63.623047\"/>\n",
       "      <use xlink:href=\"#DejaVuSans-32\" x=\"127.246094\"/>\n",
       "     </g>\n",
       "    </g>\n",
       "   </g>\n",
       "   <g id=\"text_9\">\n",
       "    <g clip-path=\"url(#p0f8dce7588)\">\n",
       "     <!-- 103 -->\n",
       "     <g transform=\"translate(416.560723 254.716209) scale(0.12 -0.12)\">\n",
       "      <use xlink:href=\"#DejaVuSans-31\"/>\n",
       "      <use xlink:href=\"#DejaVuSans-30\" x=\"63.623047\"/>\n",
       "      <use xlink:href=\"#DejaVuSans-33\" x=\"127.246094\"/>\n",
       "     </g>\n",
       "    </g>\n",
       "   </g>\n",
       "  </g>\n",
       " </g>\n",
       " <defs>\n",
       "  <clipPath id=\"p0f8dce7588\">\n",
       "   <rect x=\"7.2\" y=\"7.2\" width=\"460.8\" height=\"345.6\"/>\n",
       "  </clipPath>\n",
       " </defs>\n",
       "</svg>\n"
      ],
      "text/plain": [
       "<Figure size 640x480 with 1 Axes>"
      ]
     },
     "metadata": {},
     "output_type": "display_data"
    }
   ],
   "source": [
    "np.random.seed(seed=16)\n",
    "np.set_printoptions(threshold=10000000)\n",
    "\n",
    "B = nx.Graph()\n",
    "\n",
    "user_num = 5\n",
    "item_num = \n",
    "\n",
    "user_nodes = [i for i in range(user_num)]\n",
    "item_nodes = [i for i in range(100, 100 + item_num)]\n",
    "\n",
    "B.add_nodes_from(user_nodes, bipartite=0)\n",
    "B.add_nodes_from(item_nodes, bipartite=1)\n",
    "\n",
    "node_color = []\n",
    "node_size = [600 for i in range(user_num + item_num)]\n",
    "\n",
    "for u in user_nodes:\n",
    "    node_color.append(\"red\")\n",
    "for i in item_nodes:\n",
    "    node_color.append(\"lightblue\")\n",
    "\n",
    "edge_nodes = []\n",
    "pos = {}\n",
    "for _i, u in enumerate(user_nodes):\n",
    "    pos[u] = np.array([-1, -1.75 * _i])\n",
    "    for _j, i in enumerate(item_nodes):\n",
    "        pos[i] = np.array([1, -1.75 * _j])\n",
    "        if np.random.random() < 0.45:\n",
    "            edge_nodes.append((u, i))\n",
    "\n",
    "B.add_edges_from(edge_nodes)\n",
    "\n",
    "nx.draw(B, pos=pos, with_labels=True, node_color=node_color, node_size=node_size)\n",
    "\n",
    "plt.show()"
   ]
  },
  {
   "cell_type": "code",
   "execution_count": 4,
   "metadata": {},
   "outputs": [
    {
     "data": {
      "text/plain": [
       "[(0, 100),\n",
       " (0, 103),\n",
       " (1, 100),\n",
       " (1, 101),\n",
       " (1, 103),\n",
       " (2, 100),\n",
       " (2, 103),\n",
       " (3, 101),\n",
       " (3, 102),\n",
       " (3, 103),\n",
       " (4, 102),\n",
       " (4, 103)]"
      ]
     },
     "execution_count": 4,
     "metadata": {},
     "output_type": "execute_result"
    }
   ],
   "source": [
    "edge_nodes"
   ]
  },
  {
   "cell_type": "code",
   "execution_count": 5,
   "metadata": {},
   "outputs": [
    {
     "name": "stdout",
     "output_type": "stream",
     "text": [
      "  (0, 5)\t1\n",
      "  (0, 8)\t1\n",
      "  (1, 5)\t1\n",
      "  (1, 6)\t1\n",
      "  (1, 8)\t1\n",
      "  (2, 5)\t1\n",
      "  (2, 8)\t1\n",
      "  (3, 6)\t1\n",
      "  (3, 7)\t1\n",
      "  (3, 8)\t1\n",
      "  (4, 7)\t1\n",
      "  (4, 8)\t1\n",
      "  (5, 0)\t1\n",
      "  (5, 1)\t1\n",
      "  (5, 2)\t1\n",
      "  (6, 1)\t1\n",
      "  (6, 3)\t1\n",
      "  (7, 3)\t1\n",
      "  (7, 4)\t1\n",
      "  (8, 0)\t1\n",
      "  (8, 1)\t1\n",
      "  (8, 2)\t1\n",
      "  (8, 3)\t1\n",
      "  (8, 4)\t1\n"
     ]
    }
   ],
   "source": [
    "dir(nx.adjacency_matrix(B))\n",
    "print(nx.adjacency_matrix(B))"
   ]
  },
  {
   "cell_type": "code",
   "execution_count": 6,
   "metadata": {},
   "outputs": [
    {
     "data": {
      "text/plain": [
       "array([[0, 0, 0, 0, 0, 1, 0, 0, 1],\n",
       "       [0, 0, 0, 0, 0, 1, 1, 0, 1],\n",
       "       [0, 0, 0, 0, 0, 1, 0, 0, 1],\n",
       "       [0, 0, 0, 0, 0, 0, 1, 1, 1],\n",
       "       [0, 0, 0, 0, 0, 0, 0, 1, 1],\n",
       "       [1, 1, 1, 0, 0, 0, 0, 0, 0],\n",
       "       [0, 1, 0, 1, 0, 0, 0, 0, 0],\n",
       "       [0, 0, 0, 1, 1, 0, 0, 0, 0],\n",
       "       [1, 1, 1, 1, 1, 0, 0, 0, 0]])"
      ]
     },
     "execution_count": 6,
     "metadata": {},
     "output_type": "execute_result"
    }
   ],
   "source": [
    "A = np.array(nx.adjacency_matrix(B).todense())\n",
    "L = np.array(nx.laplacian_matrix(B).todense())\n",
    "D = L + A\n",
    "A"
   ]
  },
  {
   "cell_type": "code",
   "execution_count": 8,
   "metadata": {},
   "outputs": [
    {
     "data": {
      "text/plain": [
       "array([[1, 0, 0, 1],\n",
       "       [1, 1, 0, 1],\n",
       "       [1, 0, 0, 1]])"
      ]
     },
     "execution_count": 8,
     "metadata": {},
     "output_type": "execute_result"
    }
   ],
   "source": [
    "R = A[0:user_num, user_num:]\n",
    "R"
   ]
  },
  {
   "cell_type": "code",
   "execution_count": 9,
   "metadata": {},
   "outputs": [
    {
     "data": {
      "text/plain": [
       "array([3, 1, 0, 3])"
      ]
     },
     "execution_count": 9,
     "metadata": {},
     "output_type": "execute_result"
    }
   ],
   "source": [
    "D_I = np.sum(R, axis=0)\n",
    "D_I"
   ]
  },
  {
   "cell_type": "code",
   "execution_count": 56,
   "metadata": {},
   "outputs": [
    {
     "data": {
      "text/plain": [
       "array([2, 3, 2], dtype=int64)"
      ]
     },
     "execution_count": 56,
     "metadata": {},
     "output_type": "execute_result"
    }
   ],
   "source": [
    "D_U = np.sum(R, axis=1)\n",
    "D_U"
   ]
  },
  {
   "cell_type": "code",
   "execution_count": 57,
   "metadata": {},
   "outputs": [
    {
     "data": {
      "text/plain": [
       "array([[0.41, 0.  , 0.  , 0.41],\n",
       "       [0.33, 0.58, 0.  , 0.33],\n",
       "       [0.41, 0.  , 0.  , 0.41]])"
      ]
     },
     "execution_count": 57,
     "metadata": {},
     "output_type": "execute_result"
    }
   ],
   "source": [
    "R_hat = np.diag(np.power(D_U + 1e-15, -1 / 2)) @ R @ np.diag(np.power(D_I + 1e-15, -1 / 2))\n",
    "R_hat.round(2)"
   ]
  },
  {
   "cell_type": "code",
   "execution_count": 58,
   "metadata": {},
   "outputs": [
    {
     "data": {
      "text/plain": [
       "array([[0.  , 0.  , 0.  , 0.41, 0.  , 0.  , 0.41],\n",
       "       [0.  , 0.  , 0.  , 0.33, 0.58, 0.  , 0.33],\n",
       "       [0.  , 0.  , 0.  , 0.41, 0.  , 0.  , 0.41],\n",
       "       [0.41, 0.33, 0.41, 0.  , 0.  , 0.  , 0.  ],\n",
       "       [0.  , 0.58, 0.  , 0.  , 0.  , 0.  , 0.  ],\n",
       "       [0.  , 0.  , 0.  , 0.  , 0.  , 0.  , 0.  ],\n",
       "       [0.41, 0.33, 0.41, 0.  , 0.  , 0.  , 0.  ]])"
      ]
     },
     "execution_count": 58,
     "metadata": {},
     "output_type": "execute_result"
    }
   ],
   "source": [
    "A_hat = np.block([[A[:user_num, :user_num], R_hat], [R_hat.T, A[user_num:, user_num:]]])\n",
    "A_hat.round(2)"
   ]
  },
  {
   "cell_type": "code",
   "execution_count": 59,
   "metadata": {},
   "outputs": [
    {
     "data": {
      "text/plain": [
       "array([[0.33, 0.27, 0.33],\n",
       "       [0.27, 0.56, 0.27],\n",
       "       [0.33, 0.27, 0.33]])"
      ]
     },
     "execution_count": 59,
     "metadata": {},
     "output_type": "execute_result"
    }
   ],
   "source": [
    "# user-user 正規化隣接行列\n",
    "P_item_hat = R_hat @ R_hat.T\n",
    "P_item_hat.round(2)"
   ]
  },
  {
   "cell_type": "code",
   "execution_count": 60,
   "metadata": {},
   "outputs": [
    {
     "data": {
      "text/plain": [
       "array([[0.44, 0.19, 0.  , 0.44],\n",
       "       [0.19, 0.33, 0.  , 0.19],\n",
       "       [0.  , 0.  , 0.  , 0.  ],\n",
       "       [0.44, 0.19, 0.  , 0.44]])"
      ]
     },
     "execution_count": 60,
     "metadata": {},
     "output_type": "execute_result"
    }
   ],
   "source": [
    "# item-item 正規化隣接行列\n",
    "P_user_hat = R_hat.T @ R_hat\n",
    "P_user_hat.round(2)"
   ]
  },
  {
   "cell_type": "markdown",
   "metadata": {},
   "source": [
    "レコメンドにおけるグラフは、通常2部グラフとして表現されます。"
   ]
  },
  {
   "cell_type": "markdown",
   "metadata": {},
   "source": [
    "$$\n",
    "\\tilde{R}=D_{U}^{-\\frac{1}{2}} R D_{I}^{-\\frac{1}{2}}\n",
    "$$"
   ]
  },
  {
   "cell_type": "markdown",
   "metadata": {},
   "source": [
    "networkxにはグラフラプラシアン$L$を求める関数が酔いされています。\n",
    "$$\n",
    "L=D-A\n",
    "$$"
   ]
  },
  {
   "cell_type": "markdown",
   "metadata": {},
   "source": [
    "次数行列は以下の様に求める事が出来ます。\n",
    "\n",
    "$$\n",
    "D = L + A\n",
    "$$"
   ]
  },
  {
   "cell_type": "markdown",
   "metadata": {},
   "source": [
    "## グラフラプラシアンの正規化\n",
    "\n",
    "$$\n",
    "\\tilde{L}=I-\\tilde{A}\n",
    "$$"
   ]
  },
  {
   "cell_type": "markdown",
   "metadata": {},
   "source": [
    "$$\n",
    "\\Delta f=\\frac{\\partial^{2} f}{\\partial x^{2}}+\\frac{\\partial^{2} f}{\\partial y^{2}}+\\frac{\\partial^{2} f}{\\partial z^{2}}\n",
    "$$"
   ]
  },
  {
   "cell_type": "markdown",
   "metadata": {},
   "source": [
    "$$\n",
    "\\Delta h_{\\omega}(x)=\\lambda_{\\omega} h_{\\omega}(x)\n",
    "$$"
   ]
  },
  {
   "cell_type": "markdown",
   "metadata": {},
   "source": [
    "$$\n",
    "h_{\\omega}(x)=e^{i \\omega x}\n",
    "$$"
   ]
  },
  {
   "cell_type": "markdown",
   "metadata": {},
   "source": [
    "$$\n",
    "g(t) * f(t)=\\sum_{\\tau} g(\\tau) f(t-\\tau)\n",
    "$$"
   ]
  },
  {
   "cell_type": "markdown",
   "metadata": {},
   "source": [
    "$$\n",
    "F[g(t) * f(t)]=F[g(t)] F[f(t)]\n",
    "$$"
   ]
  },
  {
   "cell_type": "markdown",
   "metadata": {},
   "source": [
    "$$\n",
    "\\begin{gathered}\n",
    "\\hat{\\mathbf{x}}=\\mathbf{U}^{T} \\mathbf{x} \\\\\n",
    "\\mathbf{x}=\\mathbf{U} \\widehat{\\mathbf{x}}\n",
    "\\end{gathered}\n",
    "$$"
   ]
  },
  {
   "cell_type": "markdown",
   "metadata": {},
   "source": [
    "$$\n",
    "\\mathcal{H}(\\boldsymbol{L})=\\operatorname{UDiag}\\left(h\\left(\\lambda_{1}\\right), \\cdots, h\\left(\\lambda_{n}\\right)\\right) U^{T}\n",
    "$$"
   ]
  },
  {
   "cell_type": "code",
   "execution_count": null,
   "metadata": {},
   "outputs": [],
   "source": []
  },
  {
   "cell_type": "code",
   "execution_count": null,
   "metadata": {},
   "outputs": [],
   "source": []
  },
  {
   "cell_type": "code",
   "execution_count": 12,
   "metadata": {},
   "outputs": [
    {
     "ename": "ModuleNotFoundError",
     "evalue": "No module named 'SVDppRecommender'",
     "output_type": "error",
     "traceback": [
      "\u001b[0;31m---------------------------------------------------------------------------\u001b[0m",
      "\u001b[0;31mModuleNotFoundError\u001b[0m                       Traceback (most recent call last)",
      "\u001b[1;32mセル56 を /Users/83005814_mac/private/wa_src/rec/gcn/01/base_nb.ipynb\u001b[0m in \u001b[0;36m<cell line: 4>\u001b[0;34m()\u001b[0m\n\u001b[1;32m      <a href='vscode-notebook-cell:/Users/83005814_mac/private/wa_src/rec/gcn/01/base_nb.ipynb#ch0000055?line=0'>1</a>\u001b[0m \u001b[39mimport\u001b[39;00m \u001b[39mtorch\u001b[39;00m\n\u001b[1;32m      <a href='vscode-notebook-cell:/Users/83005814_mac/private/wa_src/rec/gcn/01/base_nb.ipynb#ch0000055?line=1'>2</a>\u001b[0m \u001b[39mfrom\u001b[39;00m \u001b[39mtorch\u001b[39;00m\u001b[39m.\u001b[39;00m\u001b[39mutils\u001b[39;00m\u001b[39m.\u001b[39;00m\u001b[39mdata\u001b[39;00m \u001b[39mimport\u001b[39;00m DataLoader, Dataset\n\u001b[0;32m----> <a href='vscode-notebook-cell:/Users/83005814_mac/private/wa_src/rec/gcn/01/base_nb.ipynb#ch0000055?line=3'>4</a>\u001b[0m \u001b[39mfrom\u001b[39;00m \u001b[39mSVDppRecommender\u001b[39;00m \u001b[39mimport\u001b[39;00m SVDpp\n\u001b[1;32m      <a href='vscode-notebook-cell:/Users/83005814_mac/private/wa_src/rec/gcn/01/base_nb.ipynb#ch0000055?line=5'>6</a>\u001b[0m \u001b[39mclass\u001b[39;00m \u001b[39mRateDataset\u001b[39;00m(Dataset):\n\u001b[1;32m      <a href='vscode-notebook-cell:/Users/83005814_mac/private/wa_src/rec/gcn/01/base_nb.ipynb#ch0000055?line=6'>7</a>\u001b[0m     \u001b[39mdef\u001b[39;00m \u001b[39m__init__\u001b[39m(\u001b[39mself\u001b[39m, user_tensor, item_tensor, target_tensor):\n",
      "\u001b[0;31mModuleNotFoundError\u001b[0m: No module named 'SVDppRecommender'"
     ]
    }
   ],
   "source": [
    "import torch\n",
    "from torch.utils.data import DataLoader, Dataset\n",
    "\n",
    "from SVDppRecommender import SVDpp\n",
    "\n",
    "\n",
    "class RateDataset(Dataset):\n",
    "    def __init__(self, user_tensor, item_tensor, target_tensor):\n",
    "        self.user_tensor = user_tensor\n",
    "        self.item_tensor = item_tensor\n",
    "        self.target_tensor = target_tensor\n",
    "\n",
    "    def __getitem__(self, index):\n",
    "        return self.user_tensor[index], self.item_tensor[index], self.target_tensor[index]\n",
    "\n",
    "    def __len__(self):\n",
    "        return self.user_tensor.size(0)\n",
    "\n",
    "\n",
    "data = {\n",
    "    (0, 0): 4,\n",
    "    (0, 1): 5,\n",
    "    (0, 2): 3,\n",
    "    (0, 3): 4,\n",
    "    (1, 0): 5,\n",
    "    (1, 1): 3,\n",
    "    (1, 2): 4,\n",
    "    (1, 3): 1,\n",
    "    (2, 0): 3,\n",
    "    (2, 1): 2,\n",
    "    (2, 2): 5,\n",
    "    (2, 3): 5,\n",
    "    (3, 0): 4,\n",
    "    (3, 1): 2,\n",
    "    (3, 2): 3,\n",
    "    (3, 3): 1,\n",
    "}\n",
    "Iu = {key: [0, 1, 2, 3] for key in range(4)}\n",
    "\n",
    "user_tensor = torch.LongTensor([key[0] for key in data.keys()])\n",
    "item_tensor = torch.LongTensor([key[1] for key in data.keys()])\n",
    "rating_tensor = torch.FloatTensor([val for val in data.values()])\n",
    "\n",
    "params = {\"num_users\": 4, \"num_items\": 4, \"global_mean\": 3, \"latent_dim\": 10}\n",
    "\n",
    "model = SVDpp(params)\n",
    "criterion = torch.nn.MSELoss()\n",
    "optimizer = torch.optim.SGD(model.parameters(), lr=0.01, momentum=0.9)\n",
    "\n",
    "dataset = RateDataset(user_tensor, item_tensor, rating_tensor)\n",
    "train_loader = DataLoader(dataset, batch_size=10, shuffle=True)\n",
    "\n",
    "for epoch in range(30):\n",
    "    for bid, batch in enumerate(train_loader):\n",
    "        u, i, r = batch[0], batch[1], batch[2]\n",
    "        r = r.float()\n",
    "        # forward pass\n",
    "        preds = model(u, i, Iu)\n",
    "        loss = criterion(preds, r)\n",
    "\n",
    "        # backward and optimize\n",
    "        optimizer.zero_grad()\n",
    "        loss.backward()\n",
    "        optimizer.step()\n",
    "\n",
    "    print(\"Epoch [{}/30], Loss: {:.4f}\".format(epoch + 1, loss.item()))"
   ]
  },
  {
   "cell_type": "code",
   "execution_count": null,
   "metadata": {},
   "outputs": [],
   "source": [
    "import numpy as np\n",
    "\n",
    "X = np.array([[1, 1], [2, 1], [3, 1.2], [4, 1], [5, 0.8], [6, 1]])\n",
    "from sklearn.decomposition import NMF\n",
    "\n",
    "model = NMF(n_components=2, init=\"random\", random_state=0)\n",
    "W = model.fit_transform(A_hat)\n",
    "H = model.components_"
   ]
  },
  {
   "cell_type": "code",
   "execution_count": 70,
   "metadata": {},
   "outputs": [
    {
     "data": {
      "text/plain": [
       "array([[1. , 1. ],\n",
       "       [2. , 1. ],\n",
       "       [3. , 1.2],\n",
       "       [4. , 1. ],\n",
       "       [5. , 0.8],\n",
       "       [6. , 1. ]])"
      ]
     },
     "execution_count": 70,
     "metadata": {},
     "output_type": "execute_result"
    }
   ],
   "source": [
    "X"
   ]
  },
  {
   "cell_type": "code",
   "execution_count": 71,
   "metadata": {},
   "outputs": [
    {
     "data": {
      "text/plain": [
       "array([[1.55391099e-11, 3.40767530e-01],\n",
       "       [0.00000000e+00, 4.17373793e-01],\n",
       "       [1.55391099e-11, 3.40767530e-01],\n",
       "       [5.83954597e-01, 0.00000000e+00],\n",
       "       [3.37146309e-01, 0.00000000e+00],\n",
       "       [0.00000000e+00, 0.00000000e+00],\n",
       "       [5.83954597e-01, 0.00000000e+00]])"
      ]
     },
     "execution_count": 71,
     "metadata": {},
     "output_type": "execute_result"
    }
   ],
   "source": [
    "W"
   ]
  },
  {
   "cell_type": "code",
   "execution_count": 72,
   "metadata": {},
   "outputs": [
    {
     "data": {
      "text/plain": [
       "array([[5.99236855e-01, 7.33912241e-01, 5.99236855e-01, 2.27854326e-12,\n",
       "        0.00000000e+00, 0.00000000e+00, 2.27854326e-12],\n",
       "       [0.00000000e+00, 0.00000000e+00, 0.00000000e+00, 1.02685282e+00,\n",
       "        5.92873174e-01, 0.00000000e+00, 1.02685282e+00]])"
      ]
     },
     "execution_count": 72,
     "metadata": {},
     "output_type": "execute_result"
    }
   ],
   "source": [
    "H"
   ]
  },
  {
   "cell_type": "code",
   "execution_count": 73,
   "metadata": {},
   "outputs": [
    {
     "data": {
      "text/plain": [
       "array([[0.  , 0.  , 0.  , 0.35, 0.2 , 0.  , 0.35],\n",
       "       [0.  , 0.  , 0.  , 0.43, 0.25, 0.  , 0.43],\n",
       "       [0.  , 0.  , 0.  , 0.35, 0.2 , 0.  , 0.35],\n",
       "       [0.35, 0.43, 0.35, 0.  , 0.  , 0.  , 0.  ],\n",
       "       [0.2 , 0.25, 0.2 , 0.  , 0.  , 0.  , 0.  ],\n",
       "       [0.  , 0.  , 0.  , 0.  , 0.  , 0.  , 0.  ],\n",
       "       [0.35, 0.43, 0.35, 0.  , 0.  , 0.  , 0.  ]])"
      ]
     },
     "execution_count": 73,
     "metadata": {},
     "output_type": "execute_result"
    }
   ],
   "source": [
    "np.dot(W, H).round(2)"
   ]
  },
  {
   "cell_type": "code",
   "execution_count": 2,
   "metadata": {},
   "outputs": [],
   "source": [
    "a = \"test\""
   ]
  },
  {
   "cell_type": "code",
   "execution_count": null,
   "metadata": {},
   "outputs": [],
   "source": []
  },
  {
   "cell_type": "code",
   "execution_count": null,
   "metadata": {},
   "outputs": [],
   "source": []
  }
 ],
 "metadata": {
  "kernelspec": {
   "display_name": "20240101_blog",
   "language": "python",
   "name": "python3"
  },
  "language_info": {
   "codemirror_mode": {
    "name": "ipython",
    "version": 3
   },
   "file_extension": ".py",
   "mimetype": "text/x-python",
   "name": "python",
   "nbconvert_exporter": "python",
   "pygments_lexer": "ipython3",
   "version": "3.9.17"
  }
 },
 "nbformat": 4,
 "nbformat_minor": 4
}
