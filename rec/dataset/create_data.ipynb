{
 "cells": [
  {
   "cell_type": "code",
   "execution_count": 1,
   "metadata": {},
   "outputs": [],
   "source": [
    "import pandas as pd\n",
    "\n",
    "ml_1m_file_name = './ml-1m/ml-1m.inter'\n",
    "out_ml_1m_file_name = './ml-1m/ml-1m.csv'\n",
    "\n",
    "df = pd.read_csv(ml_1m_file_name, sep='\\t')"
   ]
  },
  {
   "cell_type": "code",
   "execution_count": 2,
   "metadata": {},
   "outputs": [],
   "source": [
    "df = df.rename(columns={\n",
    "    'user_id:token':'user_id',\n",
    "    'item_id:token':'item_id'\n",
    "    })\n",
    "df[['user_id', 'item_id']].to_csv(out_ml_1m_file_name, index=False)"
   ]
  },
  {
   "cell_type": "code",
   "execution_count": 3,
   "metadata": {},
   "outputs": [
    {
     "data": {
      "text/plain": [
       "(6040, 1097)"
      ]
     },
     "execution_count": 3,
     "metadata": {},
     "output_type": "execute_result"
    }
   ],
   "source": [
    "import pandas as pd\n",
    "from enum import Enum\n",
    "\n",
    "\n",
    "class Dataset:\n",
    "\n",
    "    class Name(Enum):\n",
    "\n",
    "        ml_100k = 'ml_100k'\n",
    "        ml_1m = 'ml_1m'\n",
    "        Gowalla = 'Gowalla'\n",
    "        Yelp = 'Yelp'\n",
    "        Amazon_Books = 'Amazon_Books'\n",
    "\n",
    "    def __init__(self, dataset_name):\n",
    "        self.dataset_name = self.Name(dataset_name).name\n",
    "\n",
    "        if self.dataset_name == self.Name.ml_1m.name:\n",
    "            self.df = pd.read_csv('../dataset/ml-1m/ml-1m.csv')\n",
    "\n",
    "        self.user_id = self.df['user_id'].unique()\n",
    "        self.item_id = self.df['item_id'].unique()\n",
    "        self.interaction = [(user_id, item_id) for user_id, item_id in zip(self.df['user_id'], self.df['item_id'])]\n",
    "\n",
    "        self.user_idx, _ = pd.factorize(self.user_id)\n",
    "        self.user_id2user_idx = dict(zip(self.user_id, self.user_idx))\n",
    "        self.user_idx2user_id = dict(zip(self.user_idx, self.user_id))\n",
    "\n",
    "        self.item_idx, _ = pd.factorize(self.item_id)\n",
    "        self.item_id2item_idx = dict(zip(self.item_id, self.item_idx))\n",
    "        self.item_idx2item_id = dict(zip(self.item_idx, self.item_id))\n",
    "\n",
    "    def __str__(self):\n",
    "        return self.dataset_name\n",
    "\n",
    "    def __repr__(self):\n",
    "        return self.dataset_name\n",
    "\n",
    "    def __call__(self):\n",
    "        return self.df\n",
    "\n",
    "\n",
    "dataset = Dataset('ml_1m')\n",
    "dataset.user_id2user_idx\n",
    "\n",
    "dataset.item_id2item_idx\n",
    "dataset.user_id\n",
    "dataset.item_idx\n",
    "dataset.df\n",
    "dataset.interaction[-1]"
   ]
  },
  {
   "cell_type": "code",
   "execution_count": 4,
   "metadata": {},
   "outputs": [
    {
     "data": {
      "text/plain": [
       "(array([0, 1, 2, 3, 0]), array([3, 5, 6, 1]))"
      ]
     },
     "execution_count": 4,
     "metadata": {},
     "output_type": "execute_result"
    }
   ],
   "source": [
    "pd.factorize([3,5,6,1,3])"
   ]
  },
  {
   "cell_type": "code",
   "execution_count": 5,
   "metadata": {},
   "outputs": [
    {
     "name": "stdout",
     "output_type": "stream",
     "text": [
      "Collecting scikit-surprise\n",
      "  Downloading scikit-surprise-1.1.1.tar.gz (11.8 MB)\n",
      "\u001b[2K     \u001b[90m━━━━━━━━━━━━━━━━━━━━━━━━━━━━━━━━━━━━━━━━\u001b[0m \u001b[32m11.8/11.8 MB\u001b[0m \u001b[31m21.7 MB/s\u001b[0m eta \u001b[36m0:00:00\u001b[0m00:01\u001b[0m00:01\u001b[0m\n",
      "\u001b[?25h  Preparing metadata (setup.py) ... \u001b[?25ldone\n",
      "\u001b[?25hRequirement already satisfied: joblib>=0.11 in /Users/83005814_mac/anaconda3/envs/rec/lib/python3.8/site-packages (from scikit-surprise) (1.1.0)\n",
      "Requirement already satisfied: numpy>=1.11.2 in /Users/83005814_mac/anaconda3/envs/rec/lib/python3.8/site-packages (from scikit-surprise) (1.22.3)\n",
      "Requirement already satisfied: scipy>=1.0.0 in /Users/83005814_mac/anaconda3/envs/rec/lib/python3.8/site-packages (from scikit-surprise) (1.8.1)\n",
      "Requirement already satisfied: six>=1.10.0 in /Users/83005814_mac/anaconda3/envs/rec/lib/python3.8/site-packages (from scikit-surprise) (1.16.0)\n",
      "Building wheels for collected packages: scikit-surprise\n",
      "  Building wheel for scikit-surprise (setup.py) ... \u001b[?25ldone\n",
      "\u001b[?25h  Created wheel for scikit-surprise: filename=scikit_surprise-1.1.1-cp38-cp38-macosx_10_9_x86_64.whl size=785673 sha256=63e495e6997ba5cfe29122368fb994c0871fa8da4a17008a369e5b77b9a5bf95\n",
      "  Stored in directory: /Users/83005814_mac/Library/Caches/pip/wheels/20/91/57/2965d4cff1b8ac7ed1b6fa25741882af3974b54a31759e10b6\n",
      "Successfully built scikit-surprise\n",
      "Installing collected packages: scikit-surprise\n",
      "Successfully installed scikit-surprise-1.1.1\n"
     ]
    }
   ],
   "source": [
    "!pip install scikit-surprise"
   ]
  },
  {
   "cell_type": "code",
   "execution_count": null,
   "metadata": {},
   "outputs": [],
   "source": []
  }
 ],
 "metadata": {
  "kernelspec": {
   "display_name": "rec",
   "language": "python",
   "name": "rec"
  },
  "language_info": {
   "codemirror_mode": {
    "name": "ipython",
    "version": 3
   },
   "file_extension": ".py",
   "mimetype": "text/x-python",
   "name": "python",
   "nbconvert_exporter": "python",
   "pygments_lexer": "ipython3",
   "version": "3.8.13"
  },
  "orig_nbformat": 4,
  "vscode": {
   "interpreter": {
    "hash": "40d3a090f54c6569ab1632332b64b2c03c39dcf918b08424e98f38b5ae0af88f"
   }
  }
 },
 "nbformat": 4,
 "nbformat_minor": 2
}
