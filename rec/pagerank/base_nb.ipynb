{
 "cells": [
  {
   "cell_type": "markdown",
   "metadata": {},
   "source": [
    "## PageRankとGoogle行列\n",
    "\n",
    "最近PageRankとGoogle行列について調べる必要があったので、メモ代わりにまとめてみる。\n",
    "\n",
    "教科書は以下の通りで、数式の表現などもこれに合わせています。\n",
    "\n",
    "- [Google PageRankの数理 ―最強検索エンジンのランキング手法を求めて](https://www.amazon.co.jp/Google-PageRank%E3%81%AE%E6%95%B0%E7%90%86-%E2%80%95%E6%9C%80%E5%BC%B7%E6%A4%9C%E7%B4%A2%E3%82%A8%E3%83%B3%E3%82%B8%E3%83%B3%E3%81%AE%E3%83%A9%E3%83%B3%E3%82%AD%E3%83%B3%E3%82%B0%E6%89%8B%E6%B3%95%E3%82%92%E6%B1%82%E3%82%81%E3%81%A6%E2%80%95-Amy-N-Langville/dp/4320122399)\n",
    "\n",
    "実はこれを購入したのは、2013年(8年前)で、それまでずっと本棚に眠っていました。今回良いチャンスを頂いたので、要点をまとめてみます。\n",
    "\n",
    "また、以下のPDFも参考にさせていただきました。\n",
    "\n",
    "- http://www.kentmiyajima.com/document/pagerank.pdf\n",
    "qiskitを利用して、量子アルゴリズムについて自分なりに勉強していこうと思います。\n",
    "\n",
    "### github\n",
    "- jupyter notebook形式のファイルは[こちら](https://github.com/hiroshi0530/wa-src/blob/master/rec/pagerank/base_nb.ipynb)\n",
    "\n",
    "### google colaboratory\n",
    "- google colaboratory で実行する場合は[こちら](https://colab.research.google.com/github/hiroshi0530/wa-src/blob/master/rec/pagerank/base_nb.ipynb)\n",
    "\n",
    "### 筆者の環境"
   ]
  },
  {
   "cell_type": "code",
   "execution_count": 108,
   "metadata": {},
   "outputs": [
    {
     "name": "stdout",
     "output_type": "stream",
     "text": [
      "ProductName:\tMac OS X\r\n",
      "ProductVersion:\t10.14.6\r\n",
      "BuildVersion:\t18G103\r\n"
     ]
    }
   ],
   "source": [
    "!sw_vers"
   ]
  },
  {
   "cell_type": "code",
   "execution_count": 109,
   "metadata": {},
   "outputs": [
    {
     "name": "stdout",
     "output_type": "stream",
     "text": [
      "Python 3.8.5\r\n"
     ]
    }
   ],
   "source": [
    "!python -V"
   ]
  },
  {
   "cell_type": "markdown",
   "metadata": {},
   "source": [
    "基本的なライブラリをインポートしそのバージョンを確認しておきます。"
   ]
  },
  {
   "cell_type": "code",
   "execution_count": 110,
   "metadata": {},
   "outputs": [
    {
     "name": "stdout",
     "output_type": "stream",
     "text": [
      "matplotlib version : 3.3.2\n",
      "scipy version : 1.5.2\n",
      "numpy version : 1.19.2\n",
      "pandas version : 1.1.3\n",
      "nx version : 2.5\n"
     ]
    }
   ],
   "source": [
    "%matplotlib inline\n",
    "%config InlineBackend.figure_format = 'svg'\n",
    "\n",
    "import matplotlib\n",
    "import matplotlib.pyplot as plt\n",
    "import scipy\n",
    "import numpy as np\n",
    "import pandas as pd\n",
    "import pandas as pd\n",
    "import networkx as nx\n",
    "\n",
    "from IPython.display import SVG, display\n",
    "\n",
    "print('matplotlib version :', matplotlib.__version__)\n",
    "print('scipy version :', scipy.__version__)\n",
    "print('numpy version :', np.__version__)\n",
    "print('pandas version :', pd.__version__)\n",
    "print('nx version :', nx.__version__)"
   ]
  },
  {
   "cell_type": "markdown",
   "metadata": {},
   "source": [
    "## PageRank\n",
    "\n",
    "PageRankというのは、ラリー・ページとセルゲイ・ブリンというGoogleの創業者の二人が作り出したウェブページをランキングする手法です。ウェブサイトが持つリンクと被リンクから関係から、ウェブサイトの価値を評価していこうというのが基本的な考えです。良いウェブサイトにリンクされているサイトは、価値が高くなります。このあたりの説明は検索すれば出てくるので割愛します。\n",
    "\n",
    "数式で表現すると、あるサイトのPageRankは以下の様になります。\n",
    "\n",
    "$$\n",
    "r\\left(P_{i}\\right)=\\sum_{P_{j} \\in B_{P_{i}}} \\frac{r\\left(P_{j}\\right)}{\\left|P_{j}\\right|}\n",
    "$$\n",
    "\n",
    "図で表すととてもわかりやすいです。\n",
    "\n",
    "![svg](base_nb_files_local/pagerank.svg)"
   ]
  },
  {
   "cell_type": "markdown",
   "metadata": {},
   "source": [
    "サイトAが10点、サイトBが20点、サイトCが30点のPageRankを持っていて、サイトAからはリンクが二つ出ていて、サイトBからは一つ、サイトCからは3つ出ています。ここでサイトDのPageRankを計算することを考えます。サイトDは、サイトA、サイトB、サイトCからリンクをもらっています。サイトAはPageRank10点で、二つのサイトへリンクを張っているので、一つのリンク先へのPageRankの寄与度は$\\displaystyle \\frac{10}{2}=5$になります。同様に、サイトBからは、$\\displaystyle \\frac{20}{1}=20$で、サイトCからは、$\\displaystyle \\frac{30}{3}=10$となり、合計して35点になります。"
   ]
  },
  {
   "cell_type": "markdown",
   "metadata": {},
   "source": [
    "<br>\n",
    "\n",
    "ここで問題なのが、上記ではサイトAは10点となっていますが、そもそもこれ自体をどう決めるのか？という事が問題になってきます。\n",
    "\n",
    "そこで登場するのが、ランダムサーファーモデルになります。ランダムサーファーモデルは、サイトのハイパーリンクをランダムにたどっていき、それを無限回繰り返したときに、閲覧した割合順にサイトの順位を決めていきます。根本となる理論はマルコフ連鎖であり、サーファーは確率行列に従って、次の状態に遷移します。その遷移確率は、直前の状態だけに依存するというのが、マルコフ連鎖になります。\n",
    "\n",
    "次の状態が、現在の状態にだけ依存するというのをマルコフ決定過程とも言い、一般的に以下の様な数式で表現できます。\n",
    "\n",
    "$$\n",
    "P\\left(X_{t+1}=S_{j} \\mid X_{t}=S_{i_{t}}, X_{t-1}=S_{i_{t-1}}, \\ldots, X_{0}=S_{i_{0}}\\right)=P\\left(X_{t+1}=S_{j} \\mid X_{t}=S_{i_{t}}\\right)\n",
    "$$\n",
    "\n",
    "また、遷移確率行列は$i$から$j$に遷移する確率を$S_{ij}$で表し、\n",
    "\n",
    "$$\n",
    "\\mathbf{S} = \\left(\\begin{array}{cccccc}\n",
    "0 & 1 / 2 & 1 / 2 & 0 & 0 & 0 \\\\\n",
    "1/6 & 1/6 & 1/6 & 1/6 & 1/6 & 1/6 \\\\\n",
    "1 / 3 & 1 / 3 & 0 & 0 & 1 / 3 & 0 \\\\\n",
    "0 & 0 & 0 & 0 & 1 / 2 & 1 / 2 \\\\\n",
    "0 & 0 & 0 & 1 / 2 & 0 & 1 / 2 \\\\\n",
    "0 & 0 & 0 & 1 & 0 & 0\n",
    "\\end{array}\\right)\n",
    "$$\n",
    "\n",
    "のように表現できます。各行の和は必ず1になります。\n",
    "\n",
    "ある時間$k$における状態ベクトルを$\\pi$とすると、$k+1$の状態は\n",
    "\n",
    "$$\n",
    "\\boldsymbol{\\pi}^{(k+1)T}=\\boldsymbol{\\pi}^{(k)T} \\mathbf{S}\n",
    "$$\n",
    "\n",
    "になります。$T$は転置行列を表します。$\\pi$は各成分の状態になる確率を表します。つまり、上記の計算を無限回繰り返し、もし、$\\pi$がある一つのベクトルに収束すると、そのベクトルの和が1になるように正規化されたベクトル各成分がPageRankに相当します。そして、$H$がGoogle行列と呼ばれる以下の様な確率的で既約行列\n",
    "\n",
    "$$\n",
    "\\begin{aligned}\n",
    "\\mathbf{G} &=\\alpha \\mathbf{S}+(1-\\alpha) \\frac{\\mathbf{E}}{n} \\\\\n",
    "&=\\alpha \\mathbf{S}+(1-\\alpha) 1 / n \\mathbf{e e}^{T} \\\\\n",
    "&=\\alpha\\left(\\mathbf{H}+1 / n \\mathbf{a e}^{T}\\right)+(1-\\alpha) 1 / n \\mathbf{e e}^{T} \\\\\n",
    "&=\\alpha \\mathbf{H}+(\\alpha \\mathbf{a}+(1-\\alpha) \\mathbf{e}) 1 / n \\mathbf{e}^{T}\n",
    "\\end{aligned}\n",
    "$$\n",
    "\n",
    "で表現できる場合、あるベクトルに収束することはペロン−フロベニウスの定理により証明されています。$\\mathbf{E}$は、すべての成分が1の行列であり、$\\alpha$はリンクがなくても、あるサイトからあるサイトへランダムにジャンプする割合になります。\n",
    "\n",
    "$\\pi$があるベクトルに収束する時、\n",
    "\n",
    "$$\n",
    "\\boldsymbol{\\pi}^{T}=\\boldsymbol{\\pi}^{T}(\\alpha \\mathbf{S}+(1-\\alpha) \\mathbf{E})\n",
    "$$\n",
    "\n",
    "という関係になり、これはGoogle行列の固有値1の固有ベクトルに相当します。結局は、PageRankはGoogle行列の固有値1の固有ベクトルを求める事に帰着されます。そして、Google行列の場合、そのような固有ベクトルが存在することは証明されています。"
   ]
  },
  {
   "cell_type": "markdown",
   "metadata": {},
   "source": [
    "## べき乗法\n",
    "べき乗法は絶対値最大の固有値を求めるアルゴリズムで、最大の固有値とその次の大きさを持つ固有値が同じ程度の大きさを持つ場合、収束性が悪くなります。ただ、教科書によると、一般的なGoogle行列では収束性は悪くないようです。[wiki](https://ja.wikipedia.org/wiki/%E3%81%B9%E3%81%8D%E4%B9%97%E6%B3%95)を参照してください。\n",
    "\n",
    "具体的にはGoogle行列との積を\n",
    "\n",
    "$$\n",
    "\\boldsymbol{\\pi}^{(k)T}= \\boldsymbol{\\pi}^{(k-1)T} \\mathbf{G}\n",
    "$$\n",
    "\n",
    "のように繰り返し計算することで、$\\mathbf{\\pi}$がGoogle行列の最大の固有値に属する固有ベクトルに収束していく事を利用します。\n",
    "$\\mathbf{\\pi}$の初期値はラリーページの論文には、\n",
    "\n",
    "$$\n",
    "\\displaystyle \\boldsymbol{\\pi}^{(0) T}=\\frac{1}{n} \\mathbf{e}^{T}\n",
    "$$\n",
    "\n",
    "から始めるように書かれています。Google行列は確率行列なので、最大の固有値は必ず1になります。"
   ]
  },
  {
   "cell_type": "markdown",
   "metadata": {},
   "source": [
    "## 実際の計算\n",
    "\n",
    "理論だけではなく、実際にPageRankを計算してみます。まず、リンク、被リンクの関係は有向グラフで表現されるので、以下の様な簡単なネットワーク構造を考えます。"
   ]
  },
  {
   "cell_type": "code",
   "execution_count": 107,
   "metadata": {},
   "outputs": [
    {
     "data": {
      "image/svg+xml": [
       "<svg xmlns=\"http://www.w3.org/2000/svg\" xmlns:xlink=\"http://www.w3.org/1999/xlink\" width=\"205pt\" height=\"159pt\" viewBox=\"0.00 0.00 205.00 159.00\">\n",
       "<g id=\"graph0\" class=\"graph\" transform=\"scale(1 1) rotate(0) translate(4 155)\">\n",
       "<polygon fill=\"white\" stroke=\"transparent\" points=\"-4,4 -4,-155 201,-155 201,4 -4,4\"/>\n",
       "<!-- 0 -->\n",
       "<g id=\"node1\" class=\"node\">\n",
       "<title>0</title>\n",
       "<ellipse fill=\"none\" stroke=\"black\" cx=\"27.22\" cy=\"-76.76\" rx=\"27\" ry=\"18\"/>\n",
       "<text text-anchor=\"middle\" x=\"27.22\" y=\"-73.06\" font-family=\"Times,serif\" font-size=\"14.00\">0</text>\n",
       "</g>\n",
       "<!-- 1 -->\n",
       "<g id=\"node2\" class=\"node\">\n",
       "<title>1</title>\n",
       "<ellipse fill=\"none\" stroke=\"black\" cx=\"67.66\" cy=\"-17.93\" rx=\"27\" ry=\"18\"/>\n",
       "<text text-anchor=\"middle\" x=\"67.66\" y=\"-14.23\" font-family=\"Times,serif\" font-size=\"14.00\">1</text>\n",
       "</g>\n",
       "<!-- 0&#45;&gt;1 -->\n",
       "<g id=\"edge1\" class=\"edge\">\n",
       "<title>0-&gt;1</title>\n",
       "<path fill=\"none\" stroke=\"black\" d=\"M38.49,-60.37C42.19,-54.98 46.4,-48.86 50.44,-42.98\"/>\n",
       "<polygon fill=\"black\" stroke=\"black\" points=\"53.4,-44.86 56.18,-34.64 47.63,-40.9 53.4,-44.86\"/>\n",
       "</g>\n",
       "<!-- 3 -->\n",
       "<g id=\"node3\" class=\"node\">\n",
       "<title>3</title>\n",
       "<ellipse fill=\"none\" stroke=\"black\" cx=\"94.36\" cy=\"-65.94\" rx=\"27\" ry=\"18\"/>\n",
       "<text text-anchor=\"middle\" x=\"94.36\" y=\"-62.24\" font-family=\"Times,serif\" font-size=\"14.00\">3</text>\n",
       "</g>\n",
       "<!-- 0&#45;&gt;3 -->\n",
       "<g id=\"edge2\" class=\"edge\">\n",
       "<title>0-&gt;3</title>\n",
       "<path fill=\"none\" stroke=\"black\" d=\"M53.76,-72.48C55.08,-72.27 56.41,-72.06 57.75,-71.84\"/>\n",
       "<polygon fill=\"black\" stroke=\"black\" points=\"58.7,-75.23 68.02,-70.18 57.59,-68.32 58.7,-75.23\"/>\n",
       "</g>\n",
       "<!-- 5 -->\n",
       "<g id=\"node4\" class=\"node\">\n",
       "<title>5</title>\n",
       "<ellipse fill=\"none\" stroke=\"black\" cx=\"57.84\" cy=\"-132.57\" rx=\"27\" ry=\"18\"/>\n",
       "<text text-anchor=\"middle\" x=\"57.84\" y=\"-128.87\" font-family=\"Times,serif\" font-size=\"14.00\">5</text>\n",
       "</g>\n",
       "<!-- 0&#45;&gt;5 -->\n",
       "<g id=\"edge3\" class=\"edge\">\n",
       "<title>0-&gt;5</title>\n",
       "<path fill=\"none\" stroke=\"black\" d=\"M36.57,-93.81C38.83,-97.92 41.29,-102.41 43.71,-106.82\"/>\n",
       "<polygon fill=\"black\" stroke=\"black\" points=\"40.66,-108.54 48.54,-115.63 46.8,-105.18 40.66,-108.54\"/>\n",
       "</g>\n",
       "<!-- 1&#45;&gt;3 -->\n",
       "<g id=\"edge4\" class=\"edge\">\n",
       "<title>1-&gt;3</title>\n",
       "<path fill=\"none\" stroke=\"black\" d=\"M77.15,-34.99C78.01,-36.55 78.9,-38.15 79.8,-39.76\"/>\n",
       "<polygon fill=\"black\" stroke=\"black\" points=\"76.98,-41.9 84.9,-48.93 83.1,-38.49 76.98,-41.9\"/>\n",
       "</g>\n",
       "<!-- 3&#45;&gt;5 -->\n",
       "<g id=\"edge6\" class=\"edge\">\n",
       "<title>3-&gt;5</title>\n",
       "<path fill=\"none\" stroke=\"black\" d=\"M79.26,-80.88C74.44,-88.15 69.37,-97.08 65.27,-105.48\"/>\n",
       "<polygon fill=\"black\" stroke=\"black\" points=\"62.07,-104.06 61.11,-114.61 68.44,-106.96 62.07,-104.06\"/>\n",
       "</g>\n",
       "<!-- 4 -->\n",
       "<g id=\"node6\" class=\"node\">\n",
       "<title>4</title>\n",
       "<ellipse fill=\"none\" stroke=\"black\" cx=\"142.6\" cy=\"-113.73\" rx=\"27\" ry=\"18\"/>\n",
       "<text text-anchor=\"middle\" x=\"142.6\" y=\"-110.03\" font-family=\"Times,serif\" font-size=\"14.00\">4</text>\n",
       "</g>\n",
       "<!-- 3&#45;&gt;4 -->\n",
       "<g id=\"edge5\" class=\"edge\">\n",
       "<title>3-&gt;4</title>\n",
       "<path fill=\"none\" stroke=\"black\" d=\"M109.63,-81.06C112.97,-84.37 116.58,-87.94 120.14,-91.47\"/>\n",
       "<polygon fill=\"black\" stroke=\"black\" points=\"117.71,-93.99 127.27,-98.54 122.63,-89.02 117.71,-93.99\"/>\n",
       "</g>\n",
       "<!-- 5&#45;&gt;3 -->\n",
       "<g id=\"edge8\" class=\"edge\">\n",
       "<title>5-&gt;3</title>\n",
       "<path fill=\"none\" stroke=\"black\" d=\"M72.94,-117.63C77.76,-110.36 82.82,-101.43 86.93,-93.04\"/>\n",
       "<polygon fill=\"black\" stroke=\"black\" points=\"90.13,-94.46 91.09,-83.91 83.76,-91.55 90.13,-94.46\"/>\n",
       "</g>\n",
       "<!-- 2 -->\n",
       "<g id=\"node5\" class=\"node\">\n",
       "<title>2</title>\n",
       "<ellipse fill=\"none\" stroke=\"black\" cx=\"170.24\" cy=\"-43.64\" rx=\"27\" ry=\"18\"/>\n",
       "<text text-anchor=\"middle\" x=\"170.24\" y=\"-39.94\" font-family=\"Times,serif\" font-size=\"14.00\">2</text>\n",
       "</g>\n",
       "<!-- 4&#45;&gt;4 -->\n",
       "<g id=\"edge7\" class=\"edge\">\n",
       "<title>4-&gt;4</title>\n",
       "<path fill=\"none\" stroke=\"black\" d=\"M168.05,-120.42C178.63,-120.88 187.6,-118.65 187.6,-113.73 187.6,-110.5 183.74,-108.43 178.09,-107.51\"/>\n",
       "<polygon fill=\"black\" stroke=\"black\" points=\"178.2,-104.02 168.05,-107.04 177.87,-111.01 178.2,-104.02\"/>\n",
       "</g>\n",
       "</g>\n",
       "</svg>"
      ],
      "text/plain": [
       "<IPython.core.display.SVG object>"
      ]
     },
     "metadata": {},
     "output_type": "display_data"
    }
   ],
   "source": [
    "G = nx.DiGraph()\n",
    "\n",
    "G.add_nodes_from([0, 1, 2, 3, 4])\n",
    "G.add_edges_from([(1, 3), (3, 5), (3, 4), (0, 3), (5, 3), (4, 4), (0, 1), (0, 5)])\n",
    "\n",
    "svg = SVG(nx.nx_agraph.to_agraph(G).draw(prog='fdp', format='svg'))\n",
    "display(svg)"
   ]
  },
  {
   "cell_type": "markdown",
   "metadata": {},
   "source": [
    "何となく、ノード3が多くのサイトにリンクされており、ノード4がそのノード3にリンクされているため、この二つのランクが高くなりそうな感じがします。ノード2はどのサイトともリンク関係にないため、ランダムジャンプの重み$\\alpha$の影響を強く受けそうです。"
   ]
  },
  {
   "cell_type": "markdown",
   "metadata": {},
   "source": [
    "## 隣接行列、確率行列、Google行列\n",
    "\n",
    "隣接行列$P_{ij}$は以下の通りになります。ノード$i$からノード$j$にエッジがあれば1をなければ0の成分を持つ行列になります。"
   ]
  },
  {
   "cell_type": "markdown",
   "metadata": {},
   "source": [
    "$$\n",
    "\\mathbf{P} = \\left(\\begin{array}{cccccc}\n",
    "0 & 1 & 0 & 1 & 0 & 1 \\\\\n",
    "0 & 0 & 0 & 1 & 0 & 0 \\\\\n",
    "0 & 0 & 0 & 0 & 0 & 0 \\\\\n",
    "0 & 0 & 0 & 0 & 1 & 1 \\\\\n",
    "0 & 0 & 0 & 0 & 1 & 0 \\\\\n",
    "0 & 0 & 0 & 1 & 0 & 0\n",
    "\\end{array}\\right)\n",
    "$$"
   ]
  },
  {
   "cell_type": "markdown",
   "metadata": {},
   "source": [
    "これをすべての行の和が1になるように、確率行列$H_{ij}$を考えます。"
   ]
  },
  {
   "cell_type": "markdown",
   "metadata": {},
   "source": [
    "$$\n",
    "\\mathbf{H} = \\left(\\begin{array}{cccccc}\n",
    "0 & 1/3 & 0 & 1/3 & 0 & 1/3 \\\\\n",
    "0 & 0 & 0 & 1 & 0 & 0 \\\\\n",
    "0 & 0 & 0 & 0 & 0 & 0 \\\\\n",
    "0 & 0 & 0 & 0 & 1 / 2 & 1 / 2 \\\\\n",
    "0 & 0 & 0 & 0 & 1 & 0 \\\\\n",
    "0 & 0 & 0 & 1 & 0 & 0\n",
    "\\end{array}\\right)\n",
    "$$\n",
    "\n",
    "ただし、これだと第2行の成分がすべて0であり、べき乗法による収束性が悪くなります。よって、すべての成分が0の行には、$\\displaystyle \\frac{1}{n}$の成分を持つように修正を加えます。\n",
    "\n",
    "$$\n",
    "\\mathbf{S} = \\mathbf{H} + \\frac{\\mathbf{a}\\mathbf{e^T}}{n} = \\left(\\begin{array}{cccccc}\n",
    "0 & 1/3 & 0 & 1/3 & 0 & 1/3 \\\\\n",
    "0 & 0 & 0 & 1 & 0 & 0 \\\\\n",
    "1/6 & 1/6 & 1/6 & 1/6 & 1/6 & 1/6 \\\\\n",
    "0 & 0 & 0 & 0 & 1 / 2 & 1 / 2 \\\\\n",
    "0 & 0 & 0 & 0 & 1 & 0 \\\\\n",
    "0 & 0 & 0 & 1 & 0 & 0\n",
    "\\end{array}\\right)\n",
    "$$\n",
    "\n",
    "$\\displaystyle \\mathbf{a}$は$i$行の要素がすべて0であれば1、そうでなければ0の成分を持つベクトルになります。\n",
    "\n",
    "という形で、\n",
    "\n",
    "\n",
    "$$\n",
    "\\mathbf{G}=\\alpha \\mathbf{S}+(1-\\alpha) \\mathbf{e e}^{T} / n \n",
    "$$\n",
    "\n",
    "このGが具体的なGoogle行列です。\n",
    "\n",
    "次に、$\\alpha = 0.7$として、実際にGoogle行列の固有ベクトルを求め、PageRankを計算してみます。"
   ]
  },
  {
   "cell_type": "code",
   "execution_count": 111,
   "metadata": {},
   "outputs": [
    {
     "data": {
      "text/plain": [
       "array([[0.        , 0.33333333, 0.        , 0.33333333, 0.        ,\n",
       "        0.33333333],\n",
       "       [0.        , 0.        , 0.        , 1.        , 0.        ,\n",
       "        0.        ],\n",
       "       [0.16666667, 0.16666667, 0.16666667, 0.16666667, 0.16666667,\n",
       "        0.16666667],\n",
       "       [0.        , 0.        , 0.        , 0.        , 0.5       ,\n",
       "        0.5       ],\n",
       "       [0.        , 0.        , 0.        , 0.        , 1.        ,\n",
       "        0.        ],\n",
       "       [0.        , 0.        , 0.        , 1.        , 0.        ,\n",
       "        0.        ]])"
      ]
     },
     "execution_count": 111,
     "metadata": {},
     "output_type": "execute_result"
    }
   ],
   "source": [
    "# Sの計算\n",
    "S = np.array([\n",
    "  [0, 1/3, 0, 1/3, 0, 1/3],\n",
    "  [0, 0, 0, 1, 0, 0],\n",
    "  [1/6, 1/6, 1/6, 1/6, 1/6, 1/6],\n",
    "  [0, 0, 0, 0, 1/2, 1/2],\n",
    "  [0, 0, 0, 0, 1, 0],\n",
    "  [0, 0, 0, 1, 0, 0],\n",
    "]\n",
    ")\n",
    "S"
   ]
  },
  {
   "cell_type": "code",
   "execution_count": 112,
   "metadata": {},
   "outputs": [
    {
     "data": {
      "text/plain": [
       "array([[0.05      , 0.28333333, 0.05      , 0.28333333, 0.05      ,\n",
       "        0.28333333],\n",
       "       [0.05      , 0.05      , 0.05      , 0.75      , 0.05      ,\n",
       "        0.05      ],\n",
       "       [0.16666667, 0.16666667, 0.16666667, 0.16666667, 0.16666667,\n",
       "        0.16666667],\n",
       "       [0.05      , 0.05      , 0.05      , 0.05      , 0.4       ,\n",
       "        0.4       ],\n",
       "       [0.05      , 0.05      , 0.05      , 0.05      , 0.75      ,\n",
       "        0.05      ],\n",
       "       [0.05      , 0.05      , 0.05      , 0.75      , 0.05      ,\n",
       "        0.05      ]])"
      ]
     },
     "execution_count": 112,
     "metadata": {},
     "output_type": "execute_result"
    }
   ],
   "source": [
    "alpha = 0.7\n",
    "G = alpha * S + (1 - alpha) * np.ones((6,6)) / 6\n",
    "G"
   ]
  },
  {
   "cell_type": "markdown",
   "metadata": {},
   "source": [
    "このGoogle行列を使って、固有値1の固有ベクトルを計算します。"
   ]
  },
  {
   "cell_type": "markdown",
   "metadata": {},
   "source": [
    "## べき乗法による固有ベクトルの計算\n",
    "\n",
    "通常、Google行列は巨大なサイズになるため、解析的に求める事は出来ません。よってべき乗法を利用します。"
   ]
  },
  {
   "cell_type": "code",
   "execution_count": 113,
   "metadata": {},
   "outputs": [
    {
     "data": {
      "text/plain": [
       "array([0.16666667, 0.16666667, 0.16666667, 0.16666667, 0.16666667,\n",
       "       0.16666667])"
      ]
     },
     "execution_count": 113,
     "metadata": {},
     "output_type": "execute_result"
    }
   ],
   "source": [
    "piT = np.array([1 for i in range(6)]) / 6\n",
    "piT"
   ]
  },
  {
   "cell_type": "code",
   "execution_count": 119,
   "metadata": {},
   "outputs": [],
   "source": [
    "# とりあえず、5回ほど回してみます\n",
    "for i in range(5):\n",
    "  piT = np.dot(piT, G)"
   ]
  },
  {
   "cell_type": "code",
   "execution_count": 120,
   "metadata": {},
   "outputs": [
    {
     "data": {
      "text/plain": [
       "array([0.05660377, 0.06981132, 0.05660377, 0.22191693, 0.44758184,\n",
       "       0.14748236])"
      ]
     },
     "execution_count": 120,
     "metadata": {},
     "output_type": "execute_result"
    }
   ],
   "source": [
    "piT"
   ]
  },
  {
   "cell_type": "code",
   "execution_count": 121,
   "metadata": {},
   "outputs": [],
   "source": [
    "# 次に10回してみます\n",
    "for i in range(10):\n",
    "  piT = np.dot(piT, G)"
   ]
  },
  {
   "cell_type": "code",
   "execution_count": 122,
   "metadata": {},
   "outputs": [
    {
     "data": {
      "text/plain": [
       "array([0.05660377, 0.06981132, 0.05660377, 0.22191678, 0.44758216,\n",
       "       0.14748219])"
      ]
     },
     "execution_count": 122,
     "metadata": {},
     "output_type": "execute_result"
    }
   ],
   "source": [
    "piT"
   ]
  },
  {
   "cell_type": "markdown",
   "metadata": {},
   "source": [
    "値はほとんど変化なく、この程度であれば、5回で十分収束していることが分かります。"
   ]
  },
  {
   "cell_type": "markdown",
   "metadata": {},
   "source": [
    "## numpyによる固有値1の固有ベクトルの計算\n",
    "\n",
    "べき乗法の結果を確かめるために、numpyで固有ベクトルを計算してみます。"
   ]
  },
  {
   "cell_type": "code",
   "execution_count": 116,
   "metadata": {},
   "outputs": [
    {
     "data": {
      "text/plain": [
       "(array([ 1.00000000e+00+0.00000000e+00j, -4.94974747e-01+0.00000000e+00j,\n",
       "         4.94974747e-01+0.00000000e+00j, -2.92237077e-16+8.50412879e-09j,\n",
       "        -2.92237077e-16-8.50412879e-09j,  1.16666667e-01+0.00000000e+00j]),\n",
       " array([[ 1.06476080e-01+0.00000000e+00j,  5.11651005e-17+0.00000000e+00j,\n",
       "          5.09626608e-17+0.00000000e+00j,  3.17996523e-16-2.57714020e-08j,\n",
       "          3.17996523e-16+2.57714020e-08j, -1.74821640e-01+0.00000000e+00j],\n",
       "        [ 1.31320499e-01+0.00000000e+00j,  3.46882037e-18+0.00000000e+00j,\n",
       "         -3.72987590e-17+0.00000000e+00j, -7.07106781e-01+0.00000000e+00j,\n",
       "         -7.07106781e-01-0.00000000e+00j, -5.24464919e-01+0.00000000e+00j],\n",
       "        [ 1.06476080e-01+0.00000000e+00j, -9.53925603e-17+0.00000000e+00j,\n",
       "          6.92427457e-18+0.00000000e+00j,  1.10198775e-15+7.88171169e-23j,\n",
       "          1.10198775e-15-7.88171169e-23j, -1.74821640e-01+0.00000000e+00j],\n",
       "        [ 4.17442646e-01+0.00000000e+00j,  7.94104488e-01+0.00000000e+00j,\n",
       "          4.75963149e-01+0.00000000e+00j, -1.15889325e-15+3.43618693e-08j,\n",
       "         -1.15889325e-15-3.43618693e-08j,  4.01061409e-01+0.00000000e+00j],\n",
       "        [ 8.41936688e-01+0.00000000e+00j, -2.32587819e-01+0.00000000e+00j,\n",
       "         -8.12519920e-01+0.00000000e+00j,  7.02009397e-16-1.71809347e-08j,\n",
       "          7.02009397e-16+1.71809347e-08j, -2.05672517e-01+0.00000000e+00j],\n",
       "        [ 2.77425425e-01+0.00000000e+00j, -5.61516668e-01+0.00000000e+00j,\n",
       "          3.36556771e-01+0.00000000e+00j,  7.07106781e-01+8.59046734e-09j,\n",
       "          7.07106781e-01-8.59046734e-09j,  6.78719308e-01+0.00000000e+00j]]))"
      ]
     },
     "execution_count": 116,
     "metadata": {},
     "output_type": "execute_result"
    }
   ],
   "source": [
    "ret = np.linalg.eig(G.T)\n",
    "ret"
   ]
  },
  {
   "cell_type": "markdown",
   "metadata": {},
   "source": [
    "retの第一成分が固有値、第二成分が固有値に対応する固有ベクトルになります。固有値1が第一列なので、以下の様に固有値1の固有ベクトルを正規化して求める事出来ます。"
   ]
  },
  {
   "cell_type": "code",
   "execution_count": 117,
   "metadata": {},
   "outputs": [
    {
     "data": {
      "text/plain": [
       "array([0.05660377, 0.06981132, 0.05660377, 0.22191678, 0.44758216,\n",
       "       0.14748219])"
      ]
     },
     "execution_count": 117,
     "metadata": {},
     "output_type": "execute_result"
    }
   ],
   "source": [
    "pr = ret[1][:, 0] / np.sum(ret[1][:, 0])\n",
    "np.abs(pr)"
   ]
  },
  {
   "cell_type": "markdown",
   "metadata": {},
   "source": [
    "べき乗法の結果とほとんど一致する事が分かります。\n",
    "\n",
    "結果を少し解析すると、ノード4が最もPageRankが高く、次にノード3になっています。これは当初の予想通りです。ノード4がノード3の一つのノードからしかリンクをもらっていませんが、ノード3が三つのノードからリンクを得ており、そこからただ一つのリンクを得ているので、高いPageRankを得ている物と思われます。"
   ]
  },
  {
   "cell_type": "markdown",
   "metadata": {},
   "source": [
    "## まとめ"
   ]
  },
  {
   "cell_type": "markdown",
   "metadata": {},
   "source": [
    "Googleも1台のLinuxサーバーとpythonで作られたクローラー、PageRankからすべてが始まったといわれますが、創業者二人には尊敬の念しか出来てきません。おそらくPageRankの理論自体はそれほど難しい物ではないと思いますが、これを実際にサーバーに実装し、クローラーなどを含むサーバー群のシステム設計を行い、時価総額100兆円以上の企業を作りあげたその技術者、経営者としての手腕にただただ感動するばかりです。"
   ]
  },
  {
   "cell_type": "markdown",
   "metadata": {},
   "source": [
    "## 参考文献\n",
    "\n",
    "### 1998年に発表されたPageRankについての原著\n",
    "\n",
    "- [1] S. Brin and L. Page. The anatomy of a large-scale hypertextual Web search engine. Computer Networks and ISDN Systems, Vol. 30, No. 1-7, pp. 107–117, 1998.\n",
    "- [2] L. Page, S. Brin, R. Motwani, and T. Winograd. The pagerank citation ranking"
   ]
  },
  {
   "cell_type": "markdown",
   "metadata": {},
   "source": [
    "\n",
    "<!--\n",
    "### マルコフ行列のべき乗の収束条件\n",
    "\n",
    "\n",
    "### 既約行列、可約行列、強連結行列\n",
    "\n",
    "$A=\\left(a_{i j}\\right)$ を详数を成分とする $n \\times n$ 行列 とする。頂点集合を $V=\\{1,2, \\ldots, n\\}$ とし、矢集合を $E=\\left\\\\{(i, j) \\mid a_{j i} \\neq 0\\right\\\\}$ として定 まる有向グラフを $A$ の定めるグラフという。 $E$ の要素を矢 (arrow) という。頂点 $i$ か ら $i$ への矢も考える。矢を向きに沿っていくつかつないだものを道 (path) という。頂\n",
    "\n",
    "$$\n",
    "\\mathbf{Q}^{T} \\mathbf{B Q}=\\left(\\begin{array}{cc}\n",
    "\\mathbf{X} & \\mathbf{Y} \\\\\n",
    "\\mathbf{0} & \\mathbf{Z}\n",
    "\\end{array}\\right)\n",
    "$$\n",
    "\n",
    "\n",
    "行列$\\mathbf{L}^{T} \\mathbf{L}$と$\\mathbf{L L}^{T}$は対称半正定値行列となる。行列$\\mathbf{L}^{T} \\mathbf{L}$は権威行列、$\\mathbf{L} \\mathbf{L}^{T}$はハブ行列である。\n",
    "\n",
    "既約で非負行列は、ペロン-フロベニウスの定理から唯一の正規化された固有ベクトルを持つ。その固有ベクトルがそれぞれのサイトのAuthority値とハブ値である。\n",
    "\n",
    "HITSアルゴリズムが一意でない解に収束するのは、$\\mathbf{L}^{T} \\mathbf{L}$が可約行列だから。\n",
    "\n",
    "Google行列は可約行列にするため、原子性行列にするために、ジャンプする確率を入れ込んだ。\n",
    "\n",
    "$$\n",
    "\\begin{aligned}\n",
    "&\\mathbf{x}^{(k)}=\\mathbf{L}^{T} \\mathbf{L} \\mathbf{x}^{(k-1)} \\\\\n",
    "&\\mathbf{y}^{(k)}=\\mathbf{L} \\mathbf{L}^{T} \\mathbf{y}^{(k-1)}\n",
    "\\end{aligned}\n",
    "$$\n",
    "\n",
    "権威行列やハブ行列にもGoogle行列と同様に、$\\displaystyle \\xi \\mathbf{L}^{T} \\mathbf{L} + \\frac{(1-\\xi)}{n}\\mathbf{e e}^{T}$とすることで、既約性を担保させることが可能。\n",
    "\n",
    "\n",
    "べき乗法。\n",
    "\n",
    "$$\n",
    "\\mathbf{x}^{(k)}=\\mathbf{B} \\mathbf{x}^{(k-1)}, \\quad \\mathbf{x}^{(k)} \\longleftarrow-\\frac{\\mathbf{x}^{(k)}}{m\\left(\\mathbf{x}^{(k)}\\right)}\n",
    "$$\n",
    "-->"
   ]
  }
 ],
 "metadata": {
  "kernelspec": {
   "display_name": "Python 3",
   "language": "python",
   "name": "python3"
  },
  "language_info": {
   "codemirror_mode": {
    "name": "ipython",
    "version": 3
   },
   "file_extension": ".py",
   "mimetype": "text/x-python",
   "name": "python",
   "nbconvert_exporter": "python",
   "pygments_lexer": "ipython3",
   "version": "3.8.5"
  },
  "widgets": {
   "state": {},
   "version": "1.1.2"
  }
 },
 "nbformat": 4,
 "nbformat_minor": 2
}
