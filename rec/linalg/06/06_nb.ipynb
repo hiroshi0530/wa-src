{
 "cells": [
  {
   "cell_type": "markdown",
   "metadata": {},
   "source": [
    "## スペクトル分解\n",
    "\n",
    "実数を成分とする対称行列（エルミート行列）はスペクトル分解という形で固有値と固有ベクトルにもとづいて分解することができる。\n",
    "\n",
    "この記事ではスペクトル分解の概要とPythonにおける実装について説明する。\n",
    "\n",
    "スペクトル分解に似た行列分解の手法に特異値分解がある。特異値分解は、推薦システムにおいてよく使用されるスペクトル分解の一形態である。\n",
    "\n",
    "推薦システムで利用される特異値分解と低ランク近似については以下の記事に書いたので、時間があるときに参考にしていただきたい。\n",
    "\n",
    "http://wayama.io/rec/linalg/base/\n",
    "\n",
    "\n",
    "## ソースコード\n",
    "\n",
    "### github\n",
    "- jupyter notebook形式のファイルは[こちら](https://github.com/hiroshi0530/wa-src/blob/master/rec/linalg/06/06_nb.ipynb)\n",
    "\n",
    "### google colaboratory\n",
    "- google colaboratory で実行する場合は[こちら](https://colab.research.google.com/github/hiroshi0530/wa-src/blob/master/rec/linalg/06/06_nb.ipynb)\n",
    "\n",
    "\n",
    "## 実行環境\n",
    "OSはmacOSである。LinuxやUnixのコマンドとはオプションが異なりますので注意していただきたい。"
   ]
  },
  {
   "cell_type": "code",
   "execution_count": 1,
   "metadata": {},
   "outputs": [
    {
     "name": "stdout",
     "output_type": "stream",
     "text": [
      "ProductName:\t\tmacOS\n",
      "ProductVersion:\t\t13.5.1\n",
      "BuildVersion:\t\t22G90\n"
     ]
    }
   ],
   "source": [
    "!sw_vers"
   ]
  },
  {
   "cell_type": "code",
   "execution_count": 2,
   "metadata": {},
   "outputs": [
    {
     "name": "stdout",
     "output_type": "stream",
     "text": [
      "Python 3.9.17\n"
     ]
    }
   ],
   "source": [
    "!python -V"
   ]
  },
  {
   "cell_type": "markdown",
   "metadata": {},
   "source": [
    "pandasのテーブルを見やすいようにHTMLのテーブルにCSSの設定を行う。"
   ]
  },
  {
   "cell_type": "code",
   "execution_count": null,
   "metadata": {},
   "outputs": [],
   "source": [
    "from IPython.core.display import HTML\n",
    "\n",
    "style = \"\"\"\n",
    "<style>\n",
    "    .dataframe thead tr:only-child th {\n",
    "        text-align: right;\n",
    "    }\n",
    "\n",
    "    .dataframe thead th {\n",
    "        text-align: left;\n",
    "        padding: 5px;\n",
    "    }\n",
    "\n",
    "    .dataframe tbody tr th {\n",
    "        vertical-align: top;\n",
    "        padding: 5px;\n",
    "    }\n",
    "\n",
    "    .dataframe tbody tr:hover {\n",
    "        background-color: #ffff99;\n",
    "    }\n",
    "\n",
    "    .dataframe {\n",
    "        background-color: white;\n",
    "        color: black;\n",
    "        font-size: 16px;\n",
    "    }\n",
    "\n",
    "</style>\n",
    "\"\"\"\n",
    "HTML(style)"
   ]
  },
  {
   "cell_type": "markdown",
   "metadata": {},
   "source": [
    "基本的なライブラリをインポートし watermark を利用してそのバージョンを確認する。\n",
    "ついでにrandomとnumpyのseedの設定を行う。"
   ]
  },
  {
   "cell_type": "code",
   "execution_count": null,
   "metadata": {},
   "outputs": [],
   "source": [
    "%matplotlib inline\n",
    "%config InlineBackend.figure_format = 'svg'"
   ]
  },
  {
   "cell_type": "code",
   "execution_count": 6,
   "metadata": {},
   "outputs": [
    {
     "name": "stdout",
     "output_type": "stream",
     "text": [
      "Python implementation: CPython\n",
      "Python version       : 3.9.17\n",
      "IPython version      : 8.17.2\n",
      "\n",
      "numpy         : 1.25.2\n",
      "array_to_latex: 0.91\n",
      "matplotlib    : 3.8.1\n",
      "networkx      : 3.1\n",
      "scipy         : 1.11.2\n",
      "\n",
      "Watermark: 2.4.3\n",
      "\n"
     ]
    }
   ],
   "source": [
    "import random\n",
    "\n",
    "import scipy\n",
    "import numpy as np\n",
    "\n",
    "import matplotlib\n",
    "import matplotlib.pyplot as plt\n",
    "\n",
    "import networkx as nx\n",
    "\n",
    "import array_to_latex as a2l\n",
    "\n",
    "seed = 123\n",
    "random_state = 123\n",
    "\n",
    "random.seed(seed)\n",
    "np.random.seed(seed)\n",
    "\n",
    "\n",
    "from watermark import watermark\n",
    "\n",
    "print(watermark(python=True, watermark=True, iversions=True, globals_=globals()))"
   ]
  },
  {
   "cell_type": "markdown",
   "metadata": {},
   "source": [
    "## スペクトル分解の概要\n",
    "\n",
    "最初に簡単な対称行列の性質をおさらいする。\n",
    "\n",
    "実数を成分とする対称行列を $\\displaystyle \\mathbf{A} = \\left(a_{ij}\\right) \\in \\mathbb{R}^{n\\times n}$とする。対称行列なので、$\\mathbf{A} = \\mathbf{A^T}$である。この行列の固有値はすべて実数である。固有値を$\\alpha_1, \\alpha_2, \\cdots, \\alpha_n$とすると、小さい方から順に以下のように定義できる。\n",
    "\n",
    "$$\n",
    "\\begin{equation}\n",
    "\\alpha_1 \\leqq \\alpha_2 \\leqq \\ldots \\leqq \\alpha_n\n",
    "\\end{equation}\n",
    "$$\n",
    "\n",
    "各固有値に対応する固有ベクトルを$\\mathbf{v_1} , \\mathbf{v_2}, \\cdots,  \\mathbf{v_n}$とすると、\n",
    "\n",
    "$$\n",
    "\\begin{equation}\n",
    "\\mathbf{A} \\mathbf{x}_i=\\alpha_i \\mathbf{x}_i \\quad(i=1,2, \\ldots, n)\n",
    "\\end{equation}\n",
    "$$\n",
    "\n",
    "が成立する。\n",
    "\n",
    "また、エルミート行列（実数の場合は対称行列）の固有ベクトルは、そのベクトル空間における正規直交基底を形成する。\n",
    "\n",
    "$$\n",
    "\\begin{equation}\n",
    "\\mathbf{x}_i^T \\mathbf{x}_j=\\delta _{i j}\n",
    "\\end{equation}\n",
    "$$\n",
    "\n",
    "よって、\n",
    "\n",
    "$$\n",
    "\\begin{equation}\n",
    "\\mathbf{A}\\left(\\begin{array}{llll}\n",
    "\\mathbf{v_1} & \\mathbf{v_2} & \\cdots & \\mathbf{v_n}\n",
    "\\end{array}\\right)=\\left(\\begin{array}{llll}\n",
    "\\mathbf{v_1} & \\mathbf{v_2} & \\cdots & \\mathbf{v_n}\n",
    "\\end{array}\\right)\\left(\\begin{array}{cccc}\n",
    "\\alpha_1 & 0 & \\cdots & 0 \\\\\n",
    "0 & \\alpha_2 & \\cdots & 0 \\\\\n",
    "\\vdots & \\vdots & \\ddots & \\vdots \\\\\n",
    "0 & 0 & \\cdots & \\alpha_n\n",
    "\\end{array}\\right)\n",
    "\\end{equation}\n",
    "$$\n",
    "\n",
    "が成立する。ここで、$\\mathbf{V}$を\n",
    "\n",
    "$$\n",
    "\\mathbf{V}=\\left(\\begin{array}{llll}\n",
    "\\mathbf{v_1} & \\mathbf{v_2} & \\cdots & \\mathbf{v_n}\n",
    "\\end{array}\\right)\n",
    "$$\n",
    "\n",
    "と定義すると、$\\mathbf{V}^T\\mathbf{V}=\\mathbf{I}$で、$\\mathbf{V}^T=\\mathbf{V}^{-1}$となるので、$\\mathbf{V}\\mathbf{V}^{T}=\\mathbf{I}$も成立する。\n",
    "\n",
    "よって、\n",
    "\n",
    "$$\n",
    "\\begin{equation}\n",
    "\\mathbf{A}=\\left(\\begin{array}{llll}\n",
    "\\mathbf{v}_1 & \\mathbf{v}_2 & \\cdots & \\mathbf{v}_n\n",
    "\\end{array}\\right)\\left(\\begin{array}{cccc}\n",
    "\\alpha_1 & 0 & \\cdots & 0 \\\\\n",
    "0 & \\alpha_2 & \\cdots & 0 \\\\\n",
    "\\vdots & \\vdots & \\ddots & \\vdots \\\\\n",
    "0 & 0 & \\cdots & \\alpha_n\n",
    "\\end{array}\\right)\\left(\\begin{array}{c}\n",
    "\\mathbf{v}_1^T \\\\\n",
    "\\mathbf{v}_2^T \\\\\n",
    "\\vdots \\\\\n",
    "\\mathbf{v}_n^T\n",
    "\\end{array}\\right)\n",
    "\\end{equation}\n",
    "$$\n",
    "\n",
    "と書ける。これを各固有値に注目し計算すると以下のように和の形に分解できる。\n",
    "\n",
    "$$\n",
    "\\begin{equation}\n",
    "\\mathbf{A}=\\alpha_1 \\mathbf{v}_1 \\mathbf{v}_1^T+\\alpha_2 \\mathbf{v}_2 \\mathbf{v}_2^T+\\cdots+\\alpha_n \\mathbf{v}_n \\mathbf{v}_n^T\n",
    "\\end{equation}\n",
    "$$\n",
    "\n",
    "これがスペクトル分解と言われる行列の分解手法の一つである。"
   ]
  },
  {
   "cell_type": "code",
   "execution_count": 1,
   "metadata": {},
   "outputs": [
    {
     "data": {
      "image/png": "[encoded data removed]",
      "text/plain": [
       "<Figure size 640x480 with 1 Axes>"
      ]
     },
     "metadata": {},
     "output_type": "display_data"
    }
   ],
   "source": [
    "import numpy as np\n",
    "import matplotlib.pyplot as plt\n",
    "\n",
    "np.random.seed(seed=16)\n",
    "np.set_printoptions(threshold=10000000)\n",
    "\n",
    "B = nx.Graph()\n",
    "\n",
    "user_num = 3\n",
    "item_num = 4\n",
    "\n",
    "user_nodes = [i for i in range(user_num)]\n",
    "item_nodes = [i for i in range(100, 100 + item_num)]\n",
    "\n",
    "B.add_nodes_from(user_nodes, bipartite=0)\n",
    "B.add_nodes_from(item_nodes, bipartite=1)\n",
    "\n",
    "node_color = []\n",
    "node_size = [600 for i in range(user_num + item_num)]\n",
    "\n",
    "for u in user_nodes:\n",
    "    node_color.append(\"red\")\n",
    "for i in item_nodes:\n",
    "    node_color.append(\"lightblue\")\n",
    "\n",
    "edge_nodes = []\n",
    "pos = {}\n",
    "for _i, u in enumerate(user_nodes):\n",
    "    pos[u] = np.array([-1, -1.75 * _i])\n",
    "    for _j, i in enumerate(item_nodes):\n",
    "        pos[i] = np.array([1, -1.75 * _j])\n",
    "        if np.random.random() < 0.45:\n",
    "            edge_nodes.append((u, i))\n",
    "\n",
    "B.add_edges_from(edge_nodes)\n",
    "\n",
    "nx.draw(B, pos=pos, with_labels=True, node_color=node_color, node_size=node_size)\n",
    "\n",
    "plt.show()"
   ]
  },
  {
   "cell_type": "code",
   "execution_count": 40,
   "metadata": {},
   "outputs": [
    {
     "name": "stdout",
     "output_type": "stream",
     "text": [
      "\\begin{pmatrix}\n",
      "  0  &  0  &  0  &  1  &  0  &  0  &  1 \\\\\n",
      "  0  &  0  &  0  &  1  &  1  &  0  &  1 \\\\\n",
      "  0  &  0  &  0  &  1  &  0  &  0  &  1 \\\\\n",
      "  1  &  1  &  1  &  0  &  0  &  0  &  0 \\\\\n",
      "  0  &  1  &  0  &  0  &  0  &  0  &  0 \\\\\n",
      "  0  &  0  &  0  &  0  &  0  &  0  &  0 \\\\\n",
      "  1  &  1  &  1  &  0  &  0  &  0  &  0 \n",
      "\\end{pmatrix}\n"
     ]
    }
   ],
   "source": [
    "A = np.array(nx.adjacency_matrix(B).todense())\n",
    "L = np.array(nx.laplacian_matrix(B).todense())\n",
    "D = L + A\n",
    "\n",
    "a2l.to_ltx(A, frmt=\"{:.0f}\", arraytype=\"pmatrix\")"
   ]
  },
  {
   "cell_type": "markdown",
   "metadata": {},
   "source": [
    "$$\n",
    "\\begin{pmatrix}\n",
    "  0  &  0  &  0  &  1  &  0  &  0  &  1 \\\\\n",
    "  0  &  0  &  0  &  1  &  1  &  0  &  1 \\\\\n",
    "  0  &  0  &  0  &  1  &  0  &  0  &  1 \\\\\n",
    "  1  &  1  &  1  &  0  &  0  &  0  &  0 \\\\\n",
    "  0  &  1  &  0  &  0  &  0  &  0  &  0 \\\\\n",
    "  0  &  0  &  0  &  0  &  0  &  0  &  0 \\\\\n",
    "  1  &  1  &  1  &  0  &  0  &  0  &  0 \n",
    "\\end{pmatrix}\n",
    "$$"
   ]
  },
  {
   "cell_type": "code",
   "execution_count": null,
   "metadata": {},
   "outputs": [],
   "source": []
  },
  {
   "cell_type": "code",
   "execution_count": 30,
   "metadata": {},
   "outputs": [],
   "source": [
    "a, v = np.linalg.eigh(A)"
   ]
  },
  {
   "cell_type": "code",
   "execution_count": 46,
   "metadata": {},
   "outputs": [
    {
     "name": "stdout",
     "output_type": "stream",
     "text": [
      "\\begin{pmatrix}\n",
      "  0  &  0  &  0  &  1  &  0  &  0  &  1 \\\\\n",
      "  0  &  0  &  0  &  1  &  1  &  0  &  1 \\\\\n",
      "  0  &  0  &  0  &  1  &  0  &  0  &  1 \\\\\n",
      "  1  &  1  &  1  &  0  &  0  &  0  &  0 \\\\\n",
      "  0  &  1  &  0  &  0  &  0  &  0  &  0 \\\\\n",
      "  0  &  0  &  0  &  0  &  0  &  0  &  0 \\\\\n",
      "  1  &  1  &  1  &  0  &  0  &  0  &  0 \n",
      "\\end{pmatrix}\n"
     ]
    }
   ],
   "source": [
    "# 再現確認\n",
    "_A = (v @ np.diagflat(a) @ v.T).round()\n",
    "a2l.to_ltx(np.abs(_A), frmt=\"{:.0f}\", arraytype=\"pmatrix\")"
   ]
  },
  {
   "cell_type": "markdown",
   "metadata": {},
   "source": [
    "$$\n",
    "\\begin{pmatrix}\n",
    "  -0.0 &  0.0 &  -0.0 &  1.0 &  -0.0 &  -0.0 &  1.0\\\\\n",
    "  0.0 &  -0.0 &  -0.0 &  1.0 &  1.0 &  -0.0 &  1.0\\\\\n",
    "  -0.0 &  -0.0 &  -0.0 &  1.0 &  -0.0 &  -0.0 &  1.0\\\\\n",
    "  1.0 &  1.0 &  1.0 &  -0.0 &  0.0 &  -0.0 &  -0.0\\\\\n",
    "  -0.0 &  1.0 &  -0.0 &  0.0 &  0.0 &  -0.0 &  0.0\\\\\n",
    "  -0.0 &  -0.0 &  -0.0 &  -0.0 &  -0.0 &  -0.0 &  -0.0\\\\\n",
    "  1.0 &  1.0 &  1.0 &  -0.0 &  0.0 &  -0.0 &  -0.0\n",
    "\\end{pmatrix}\n",
    "$$"
   ]
  },
  {
   "cell_type": "code",
   "execution_count": null,
   "metadata": {},
   "outputs": [],
   "source": []
  },
  {
   "cell_type": "code",
   "execution_count": 47,
   "metadata": {},
   "outputs": [
    {
     "data": {
      "text/plain": [
       "array([[0., 0., 0., 1., 0., 0., 1.],\n",
       "       [0., 0., 0., 1., 1., 0., 1.],\n",
       "       [0., 0., 0., 1., 0., 0., 1.],\n",
       "       [1., 1., 1., 0., 0., 0., 0.],\n",
       "       [0., 1., 0., 0., 0., 0., 0.],\n",
       "       [0., 0., 0., 0., 0., 0., 0.],\n",
       "       [1., 1., 1., 0., 0., 0., 0.]])"
      ]
     },
     "execution_count": 47,
     "metadata": {},
     "output_type": "execute_result"
    }
   ],
   "source": [
    "Q = 0\n",
    "# スペクトル分解の再現性確認\n",
    "for i in range(len(v)):\n",
    "    Q += a[i] * v[:, i : i + 1] @ v[:, i : i + 1].T\n",
    "np.abs(Q.round(2))"
   ]
  },
  {
   "cell_type": "code",
   "execution_count": null,
   "metadata": {},
   "outputs": [],
   "source": []
  },
  {
   "cell_type": "code",
   "execution_count": null,
   "metadata": {},
   "outputs": [],
   "source": []
  },
  {
   "cell_type": "markdown",
   "metadata": {},
   "source": [
    "## 結論"
   ]
  },
  {
   "cell_type": "code",
   "execution_count": null,
   "metadata": {},
   "outputs": [],
   "source": []
  }
 ],
 "metadata": {
  "kernelspec": {
   "display_name": "Python 3",
   "language": "python",
   "name": "python3"
  },
  "language_info": {
   "codemirror_mode": {
    "name": "ipython",
    "version": 3
   },
   "file_extension": ".py",
   "mimetype": "text/x-python",
   "name": "python",
   "nbconvert_exporter": "python",
   "pygments_lexer": "ipython3",
   "version": "3.9.17"
  },
  "widgets": {
   "state": {},
   "version": "1.1.2"
  }
 },
 "nbformat": 4,
 "nbformat_minor": 2
}
