{
 "cells": [
  {
   "cell_type": "markdown",
   "metadata": {},
   "source": [
    "## レイリー商の概要\n",
    "\n",
    "グラフ理論や線形代数でしばしば現れるレイリー商について簡単にまとめる。\n",
    "\n",
    "レイリー商 $R$ は $R:\\mathbb{R}^n \\setminus \\lbrace 0 \\rbrace \\rightarrow \\mathbb{R}$ は対称行列$\\mathbf{A}$とノルムが0ではない$n$次元ベクトル$\\mathbf{x}$を用いて以下のように定義される。\n",
    "\n",
    "$$ \n",
    "R(\\mathbf{x}) = \\frac{\\mathbf{x}^T \\mathbf{A} \\mathbf{x}}{\\mathbf{x}^T \\mathbf{x}} \n",
    "$$\n",
    "\n",
    "本記事では、レイリー商の性質について説明する。またPythonでの実装例も示す。以下のgithubにもソースコードを置いているので必要ならば参考にしてほしい。\n",
    "\n",
    "## ソースコード\n",
    "\n",
    "### github\n",
    "\n",
    "- jupyter notebook形式のファイルは[こちら](https://github.com/hiroshi0530/wa-src/blob/master/rec/linalg/04/04_nb.ipynb)\n",
    "\n",
    "### google colaboratory\n",
    "\n",
    "- google colaboratory で実行する場合は[こちら](https://colab.research.google.com/github/hiroshi0530/wa-src/blob/master/rec/linalg/04/04_nb.ipynb)\n",
    "\n",
    "### 実行環境\n",
    "\n",
    "OSはmacOSで、LinuxやUnixのコマンドとはオプションが異なりますので注意。"
   ]
  },
  {
   "cell_type": "code",
   "execution_count": 1,
   "metadata": {},
   "outputs": [
    {
     "name": "stdout",
     "output_type": "stream",
     "text": [
      "ProductName:\t\tmacOS\n",
      "ProductVersion:\t\t13.5.1\n",
      "BuildVersion:\t\t22G90\n"
     ]
    }
   ],
   "source": [
    "!sw_vers"
   ]
  },
  {
   "cell_type": "code",
   "execution_count": 2,
   "metadata": {},
   "outputs": [
    {
     "name": "stdout",
     "output_type": "stream",
     "text": [
      "Python 3.9.17\n"
     ]
    }
   ],
   "source": [
    "!python -V"
   ]
  },
  {
   "cell_type": "markdown",
   "metadata": {},
   "source": [
    "基本的なライブラリをインポートし watermark を利用してそのバージョンを確認してする。\n",
    "ついでに乱数のseedの設定を行う。"
   ]
  },
  {
   "cell_type": "code",
   "execution_count": 3,
   "metadata": {},
   "outputs": [
    {
     "name": "stdout",
     "output_type": "stream",
     "text": [
      "Python implementation: CPython\n",
      "Python version       : 3.9.17\n",
      "IPython version      : 8.17.2\n",
      "\n",
      "numpy: 1.25.2\n",
      "\n",
      "Watermark: 2.4.3\n",
      "\n"
     ]
    }
   ],
   "source": [
    "import random\n",
    "\n",
    "import numpy as np\n",
    "\n",
    "seed = 123\n",
    "random_state = 123\n",
    "\n",
    "random.seed(seed)\n",
    "np.random.seed(seed)\n",
    "\n",
    "\n",
    "from watermark import watermark\n",
    "\n",
    "print(watermark(python=True, watermark=True, iversions=True, globals_=globals()))"
   ]
  },
  {
   "cell_type": "markdown",
   "metadata": {},
   "source": [
    "## レイリー商の性質\n",
    "\n",
    "対称行列$\\mathbf{A}$は実数の固有値を持つ。その固有値を$\\lambda_i$、固有ベクトルを$\\mathbf{v}_i$とする。このとき、レイリー商は以下のように表される。\n",
    "\n",
    "\n",
    "$$\n",
    "R\\left(\\mathbf{x}\\right)=\\frac{\\mathbf{x}^T \\mathbf{A} \\mathbf{x}}{\\mathbf{x}^T \\mathbf{x}} = \\frac{\\left(\\sum\\_{i=1}^{n} \\alpha\\_i \\mathbf{v}\\_i\\right)^T \\mathbf{A} \\left(\\sum\\_{j=1}^{n} \\alpha\\_j \\mathbf{v}\\_j\\right)}{\\left(\\sum\\_{k=1}^{n} \\alpha\\_k \\mathbf{v}\\_k\\right)^T \\left(\\sum\\_{l=1}^{n} \\alpha\\_l \\mathbf{v}\\_l\\right)}\n",
    "= \\frac{\\sum\\_{i=1}^{n} \\sum\\_{j=1}^{n} \\alpha\\_i \\alpha\\_j \\mathbf{v}\\_i^T \\mathbf{A} \\mathbf{v}\\_j}{\\sum\\_{k=1}^{n} \\sum\\_{l=1}^{n} \\alpha\\_k \\alpha\\_l \\mathbf{v}\\_k^T \\mathbf{v}\\_l}\n",
    "$$\n",
    "\n",
    "\n",
    "対称行列の場合、固有ベクトルは直交するため、$ \\mathbf{v}\\_i^T \\mathbf{v}\\_j = 0 $ （$ i \\neq j $ の場合）であり、$ \\mathbf{v}\\_i^T \\mathbf{v}\\_i = 1 $ を満たす。\n",
    "\n",
    "したがって、\n",
    "\n",
    "$$\n",
    "R\\left(\\mathbf{x}\\right)=\\frac{\\sum\\_{i=1}^{n} \\alpha\\_i^2 \\lambda\\_i}{\\sum\\_{k=1}^{n} \\alpha\\_k^2}\n",
    "$$\n",
    "\n",
    "これが行列 $ \\mathbf{A} $ の固有値 $ \\lambda\\_i $ の重み付き平均であることがわかる。そして、$ \\mathbf{x} $ \n",
    "を、たとえば、最大固有値に対応する固有ベクトルとすれば、$ R\\left(\\mathbf{x}\\right) $ の最大値は最大固有値となる。一方、最小固有値に対応する固有ベクトルを選べば、最小固有値が得られる。\n"
   ]
  },
  {
   "cell_type": "markdown",
   "metadata": {},
   "source": [
    "## ラグランジュの未定乗数法を利用した解法\n",
    "\n",
    "[wikipeadia](https://ja.wikipedia.org/wiki/%E3%83%AC%E3%82%A4%E3%83%AA%E3%83%BC%E5%95%86) を参考にラグランジュの未定乗数法を利用したレイリー商の最大値や最小値の証明をメモっておく。"
   ]
  },
  {
   "cell_type": "markdown",
   "metadata": {},
   "source": [
    "\n",
    "まず、上記と同様に、行列 $ \\mathbf{A} $ のレイリー商を $ R(\\mathbf{x}) $ とする。\n",
    "\n",
    "$$ \n",
    "R(\\mathbf{x}) = \\frac{\\mathbf{x}^T \\mathbf{A} \\mathbf{x}}{\\mathbf{x}^T \\mathbf{x}} \n",
    "$$\n",
    "\n",
    "また、$ \\lambda $ を行列 $ \\mathbf{A} $ の固有値とし、$ \\mathbf{v} $ をそれに対応する固有ベクトルとすると以下が成立する。\n",
    "\n",
    "$$ \\mathbf{A} \\mathbf{v} = \\lambda \\mathbf{v} $$\n",
    "\n",
    "ラグランジュの未定乗数法では、目的関数 $ f(\\mathbf{x}) $ を最大化または最小化する際に、制約条件 $ g(\\mathbf{x}) = 0 $ の下で最適解を見つける。未定乗数法では、ラグランジュ関数 $ L(\\mathbf{x}, \\lambda) $ を導入するのが一般的な表記である。\n",
    "\n",
    "$$ L(\\mathbf{x}, \\lambda) = f(\\mathbf{x}) - \\lambda g(\\mathbf{x}) $$\n",
    "\n",
    "ここで、$ \\lambda $ はラグランジュの乗数である。\n",
    "レイリー商の場合、目的関数 $ f(\\mathbf{x}) $ は $ \\mathbf{x}^T \\mathbf{A} \\mathbf{x} $ であり、制約条件 $ g(\\mathbf{x}) $ は $ \\mathbf{x}^T \\mathbf{x} - 1 = 0 $ となる。$\\mathbf{x}$に対してそのノルムが1である条件をｆ制約条件として設定することで、$\\mathbf{x}$が単位ベクトルであることを保証する。\n",
    "\n",
    "ラグランジュ関数を次のように設定する。\n",
    "\n",
    "$$ L(\\mathbf{x}, \\lambda) = \\mathbf{x}^T \\mathbf{A} \\mathbf{x} - \\lambda (\\mathbf{x}^T \\mathbf{x} - 1) $$\n",
    "\n",
    "このラグランジュ関数を最大化する $ \\mathbf{x} $ を見つけるために、勾配がゼロとなる条件を考える。\n",
    "\n",
    "$$ \\nabla_{\\mathbf{x}} L(\\mathbf{x}, \\lambda) = 0 $$\n",
    "\n",
    "これを解くと、以下のようになる。\n",
    "\n",
    "$$ 2 \\mathbf{A} \\mathbf{x} - 2 \\lambda \\mathbf{x} = 0 $$\n",
    "\n",
    "$$ \\mathbf{A} \\mathbf{x} = \\lambda \\mathbf{x} $$\n",
    "\n",
    "これは、行列 $ \\mathbf{A} $ の固有値 $ \\lambda $ と対応する固有ベクトル $ \\mathbf{x} $ の関係を表しており、レイリー商の最大値は $ \\mathbf{A} $ の最大固有値に等しくなることがわかる。"
   ]
  },
  {
   "cell_type": "markdown",
   "metadata": {},
   "source": [
    "## Pythonによる実装例\n",
    "\n",
    "簡単ではあるが、以下にPythonによる実装例を示す。"
   ]
  },
  {
   "cell_type": "code",
   "execution_count": 4,
   "metadata": {},
   "outputs": [
    {
     "name": "stdout",
     "output_type": "stream",
     "text": [
      "レイリー商: 1.47\n"
     ]
    }
   ],
   "source": [
    "import numpy as np\n",
    "\n",
    "# ランダムな対称行列Aとベクトルxを生成\n",
    "A = np.random.rand(3, 3)\n",
    "A = (A + A.T) / 2\n",
    "\n",
    "# 適当なベクトルを用意する\n",
    "x = np.random.rand(3)\n",
    "\n",
    "# レイリー商\n",
    "R = np.dot(x.T, np.dot(A, x)) / np.dot(x.T, x)\n",
    "\n",
    "print(\"レイリー商:\", R.round(2))"
   ]
  },
  {
   "cell_type": "markdown",
   "metadata": {},
   "source": [
    "## 結論"
   ]
  },
  {
   "cell_type": "markdown",
   "metadata": {},
   "source": [
    "本記事では、レイリー商の性質について説明した。\n",
    "\n",
    "また、ラグランジュの未定乗数法を利用したレイリー商の最大値や最小値の証明を示した。\n",
    "\n",
    "最後に簡単ではあるが、Pythonによる実装例を示した。"
   ]
  }
 ],
 "metadata": {
  "kernelspec": {
   "display_name": "Python 3",
   "language": "python",
   "name": "python3"
  },
  "language_info": {
   "codemirror_mode": {
    "name": "ipython",
    "version": 3
   },
   "file_extension": ".py",
   "mimetype": "text/x-python",
   "name": "python",
   "nbconvert_exporter": "python",
   "pygments_lexer": "ipython3",
   "version": "3.9.17"
  },
  "widgets": {
   "state": {},
   "version": "1.1.2"
  }
 },
 "nbformat": 4,
 "nbformat_minor": 2
}
