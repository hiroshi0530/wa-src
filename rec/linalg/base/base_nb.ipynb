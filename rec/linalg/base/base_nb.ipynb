{
 "cells": [
  {
   "cell_type": "markdown",
   "metadata": {},
   "source": [
    "## 特異値分解と低ランク近似\n",
    "\n",
    "主に推薦システムの理解に必要な線型代数の知識をまとめていこうと思います。\n",
    "推薦システムで利用される、user-itemの行列（嗜好行列）に対して、しばしば低ランク近似が成立する事を前提に議論が進められることがあります。\n",
    "\n",
    "それは、ユーザーはしばしばある有限のクラスタに分類可能であるという暗黙の仮定に基づいています。例えば、本のECサイト利用者の全ユーザー100万にいたとしても、プログラミングの本をよく買うユーザー、数学の本を買うユーザー、医学書を買うユーザー、週刊誌を買うユーザーというように、ある程度カテゴライズする事が可能です。\n",
    "\n",
    "低ランク近似を利用する際に必要なのが、特異値分解になります。値の大きい$k$個の特異値に属する特異値ベクトルを抽出し、データを圧縮しつつ、見観測のアイテムに対するユーザーの好みを予測します。\n",
    "\n",
    "### github\n",
    "- jupyter notebook形式のファイルは[こちら](https://github.com/hiroshi0530/wa-src/tree/master/rec/linalg/base/base_nb.ipynb)\n",
    "\n",
    "### google colaboratory\n",
    "- google colaboratory で実行する場合は[こちら](https://colab.research.google.com/github/hiroshi0530/wa-src/tree/master/rec/linalg/base/base_nb.ipynb)\n"
   ]
  },
  {
   "cell_type": "markdown",
   "metadata": {},
   "source": [
    "## 特異値分解\n",
    "\n",
    "特異値分解は正方行列ではない一般の$m \\times n$の行列$A$に対して、以下の様に定義されます。\n",
    "\n",
    "$$\n",
    "A=U\\Sigma V^{\\mathrm{T}}\n",
    "$$\n",
    "\n",
    "$$\n",
    "\\mathbf{A}=\\mathbf{U} \\cdot \\operatorname{diag}\\left(\\sigma_{1}, \\ldots, \\sigma_{r}, \\mathbf{0}\\right) \\cdot \\mathbf{V}^{*}\n",
    "$$\n",
    "\n",
    "$\\sigma_1, \\sigma_2 \\cdots$が特異値で、通常大きい方から順番にナンバリングされて定義されます\n",
    "\n",
    "$$\n",
    "\\sigma_{1} \\geqq \\cdots \\geqq \\sigma_{r}>0\n",
    "$$\n",
    "\n",
    "$r$は行列$A$のランクです。\n",
    "\n",
    "$$\n",
    "r=\\operatorname{rank}(\\mathbf{A})\n",
    "$$\n",
    "\n",
    "$U$と$V$は$m \\times m$、$n \\times n$のユニタリ行列です。\n",
    "\n",
    "$$\n",
    "\\mathbf{U}^{-1}=\\mathbf{U}^{*}\n",
    "$$\n",
    "\n",
    "$$\n",
    "\\mathbf{V}^{-1}=\\mathbf{V}^{*}\n",
    "$$\n",
    "\n",
    "$A$が対称行列の場合、$A$の特異値と固有値は同じになります。\n",
    "\n",
    "### 行列のイメージ\n",
    "\n",
    "分解後の行列を視覚的に表現すると以下の様になります。"
   ]
  },
  {
   "cell_type": "markdown",
   "metadata": {},
   "source": [
    "$$\n",
    "A=U\\Sigma V^{T}=U\\left(\\begin{array}{ccc|c}\n",
    "\\sigma_{1} & & 0 & \\\\\n",
    "& \\ddots & & 0 \\\\\n",
    "0 & & \\sigma_{r} & \\\\\n",
    "\\hline & 0 & & 0\n",
    "\\end{array}\\right) V^{\\mathrm{T}} \\\\\n",
    "= \\left(\n",
    "\\mathbf{u}\\_{1} \\cdots \\mathbf{u}\\_{r}\\right) \\left(\\begin{array}{llll}\n",
    "\\sigma_{1} & & & \\\\\n",
    "& & \\ddots & \\\\\n",
    "& & & \\sigma_{r}\n",
    "\\end{array}\\right)\n",
    "\\left(\\begin{array}{c}\n",
    "\\mathbf{v}_{1}^{T} \\\\\n",
    "\\vdots \\\\\n",
    "\\mathbf{v}_{r}^{T}\n",
    "\\end{array}\\right)\n",
    "$$"
   ]
  },
  {
   "cell_type": "markdown",
   "metadata": {},
   "source": [
    "## 固有値分解と特異値分解"
   ]
  },
  {
   "cell_type": "markdown",
   "metadata": {},
   "source": [
    "$A=U\\Sigma V^{T}$の$U$と$V$はユニタリ行列なので、ベクトル$u$と$v$を用いて、以下の様にかけます。\n",
    "\n",
    "$$\n",
    "\\begin{aligned}\n",
    "\\mathbf{A} \\mathbf{v} &=\\sigma \\mathbf{u} \\\\\n",
    "\\mathbf{A}^{T} \\mathbf{u} &=\\sigma \\mathbf{v}\n",
    "\\end{aligned}\n",
    "$$"
   ]
  },
  {
   "cell_type": "markdown",
   "metadata": {},
   "source": [
    "さらに変形します。\n",
    "\n",
    "$$\n",
    "\\begin{aligned}\n",
    "&\\mathbf{A}^{T} \\mathbf{A} \\mathbf{v}=\\sigma \\mathbf{A}^{T} \\mathbf{u}=\\sigma^{2} \\mathbf{v} \\\\\n",
    "&\\mathbf{A} \\mathbf{A}^{T} \\mathbf{u}=\\sigma \\mathbf{A} \\mathbf{v}=\\sigma^{2} \\mathbf{u}\n",
    "\\end{aligned}\n",
    "$$"
   ]
  },
  {
   "cell_type": "markdown",
   "metadata": {},
   "source": [
    "$\\mathbf{u}$と$\\mathbf{v}$はそれぞれ$\\mathbf{A}^{T} \\mathbf{A}$と$\\mathbf{A} \\mathbf{A}^{T} $の固有ベクトルになっています。$\\mathbf{u}$と$\\mathbf{v}$は左特異ベクトル、右特異ベクトルと呼ばれ、$\\mathbf{u}$と$\\mathbf{v}$は$\\mathbf{AA^{T}}, \\mathbf{A^{T}A}$の固有ベクトルになります。また、$\\mathbf{A}$の特異値の2乗が$\\mathbf{AA^T}$や$\\mathbf{A^TA}$の固有値になります。"
   ]
  },
  {
   "cell_type": "markdown",
   "metadata": {},
   "source": [
    "この性質から、特異値分解と固有値分解を結びつける事ができます。\n",
    "最初に$\\mathbf{A^TA}$の固有値分解を行い、固有ベクトルを求めます。その固有ベクトルは$\\mathbf{v_i}$、固有値を$\\lambda_i$とします。\n",
    "$\\lambda_i = \\sigma^2$なので、\n",
    "\n",
    "$$\n",
    "\\mathbf{u}_i = \\frac{1}{\\sqrt{\\lambda_i}}\\mathbf{A} \\mathbf{v_i} \n",
    "$$\n",
    "\n",
    "となり、$\\mathbf{u}_i$を求める事が出来ます。$\\mathbf{v}_i$についても同様に求める事が可能で、固有値分解のアルゴリズムを用いて、特異値分解を計算する事ができます。"
   ]
  },
  {
   "cell_type": "markdown",
   "metadata": {},
   "source": [
    "## 作用素ノルム（演算子ノルム）\n",
    "行列$A$に対して定義されるノルム、\n",
    "\n",
    "$$\n",
    "\\|\\|\\mathbf{A}\\|\\|=\\max _{x \\in \\mathbb{C}^{n},\\|x\\|=1}\\|\\|\\mathbf{A} \\mathbf{x}\\|\\|\n",
    "$$\n",
    "\n",
    "を作用素ノルムといいます。特異値分解を利用すると作用素ノルムを簡単に求める事ができます。\n",
    "\n",
    "$$\n",
    "\\begin{aligned}\n",
    "\\|\\|A x\\|\\|^{2} &=\\|\\|U \\Sigma V^{*} x\\|\\|^{2} \\\\\n",
    "&=x^{\\*} V \\Sigma^{\\*} U^{\\*} U \\Sigma V^{\\*} x=\\|\\|\\Sigma y\\|\\|^{2} \\\\\n",
    "&=\\sigma_{1}^{2}\\left|y\\_{1}\\right|^{2}+\\cdots+\\sigma\\_{r}^{2}\\left|y\\_{r}\\right|^{2} \\quad (y = x^{*} V)\n",
    "\\end{aligned}\n",
    "$$\n",
    "\n",
    "よって、\n",
    "\n",
    "$$\n",
    "\\begin{aligned}\n",
    "\\|\\|\\mathbf{A}\\|\\|&=\\max_{x \\in \\mathbb{C}^{n},\\|\\|x\\|\\|=1}\\|\\|A x\\|\\|  \\\\\n",
    "&=\\max_{\\|\\|y\\|\\|=1} \\sqrt{\\sigma_{1}^{2}\\left|y_{1}\\right|^{2}+\\sigma_{2}^{2}\\left|y_{2}\\right|^{2}+\\cdots+\\sigma_{r}^{2}\\left|y_{r}\\right|^{2}} \\\\\n",
    "&=\\sigma_{1} \\quad\\left(\\sigma_{1} \\geq \\sigma_{2} \\geq \\cdots \\geq \\sigma_{r} \\right)\n",
    "\\end{aligned}\n",
    "$$\n",
    "\n",
    "となり、作用素ノルムは特異値の最も大きな値となります。\n",
    "\n",
    "### ユニタリ行列の作用素ノルム\n",
    "\n",
    "ユニタリ行列の作用素ノルムは1になります。これは定義から明白で、ユニタリ行列を$U (U^{T}U=I)$とすると、\n",
    "\n",
    "$$\n",
    "\\|\\|U x\\|\\|^{2}=x^{T} U^{T} U x=\\|\\|x\\|\\|^{2} = 1\n",
    "$$\n",
    "\n",
    "となります。\n",
    "\n",
    "### 三角不等式\n",
    "\n",
    "$$\n",
    "\\|\\|A+B\\|\\| \\leq \\|\\|A\\|\\|+\\|\\|B\\|\\|\n",
    "$$\n",
    "\n",
    "### 積に関する不等式\n",
    "\n",
    "$$\n",
    "\\|\\|A B\\|\\| \\leq\\|\\|A\\|\\| \\cdot\\|\\|B\\|\\|\n",
    "$$"
   ]
  },
  {
   "cell_type": "markdown",
   "metadata": {},
   "source": [
    "## Eckart-Young（エッカート-ヤング）の定理\n",
    "\n",
    "### 低ランク近似\n",
    "\n",
    "行列$A$を特異値の大きな値から$k$個取り出し、$A$を近似することを低ランク近似と言います。\n",
    "\n",
    "$$\n",
    "A_{k}=U \\Sigma_{k} V^{\\mathrm{T}} \\equiv U \\operatorname{diag}\\left(\\sigma_{1}, \\ldots, \\sigma_{k}, 0\\right) V^{\\mathrm{T}}=\\sum_{i=1}^{k} \\sigma_{i} u_{i} v_{i}^{\\mathrm{T}}(0 \\leq k<r)\n",
    "$$\n",
    "\n",
    "つまり、$\\sigma_{k+1}, \\cdots, \\sigma_{r}$を0とすると言うことになります。\n",
    "\n",
    "\n",
    "### 定理の詳細\n",
    "\n",
    "推薦システムの論文でも、低ランク近似を元に議論がされる場合、エッカートヤングの定理がよく引用されますのでメモっておきます。\n",
    "参考文献[1]に詳細が載っています。\n",
    "\n",
    "$$\n",
    "\\min\\_{\\operatorname{rank}||X|| \\leq k}\\|\\|X-A\\|\\|=\\left\\|\\|A_{k}-A\\right\\|\\|=\\sigma_{k+1}(A)=\\min _{\\operatorname{rank}(X)=k}\\|\\|X-A\\|\\|\n",
    "$$\n",
    "\n",
    "この定理は、$A$を中心とする半径$\\sigma_{k+1}$の球上には低ランク近似行列$A_k$が存在することになります。それはすべての$k$で成立します。\n",
    "作用素ノルムでノルムを定義すると、非常にわかりやすい直感的な結果を示していると思います。証明は[1]に乗っていますので参考にしてください。\n",
    "\n",
    "### メモ\n",
    "\n",
    "$$\n",
    "\\begin{aligned}\n",
    "\\left\\|A_{k}-A\\right\\| &=\\left\\|U\\left(\\Sigma_{k}-\\Sigma\\right) V^{T}\\right\\|=\\left\\|\\left(\\Sigma_{k}-\\Sigma\\right)\\right\\| \\\\\n",
    "&=\\left\\|\\operatorname{diag}\\left(0, \\sigma_{k+1}, \\ldots, \\sigma_{r}, 0\\right)\\right\\|=\\sigma_{k+1}\n",
    "\\end{aligned}\n",
    "$$"
   ]
  },
  {
   "cell_type": "markdown",
   "metadata": {},
   "source": [
    "## フロベニウスノルム\n",
    "\n",
    "フロベニウスノルムは、行列の大きさを表す指標の一つで、全成分の二乗和で定義されます。$\\|\\|A\\|\\|_{\\mathrm{F}}$と書かれます。\n",
    "\n",
    "$$\n",
    "\\|\\|A\\|\\|\\_{\\mathrm{F}}=\\sqrt{\\sum\\_{i, j} a\\_{i j}^{2}}\n",
    "$$\n",
    "\n",
    "### 特異値との関係\n",
    "\n",
    "フロベニウスノルムは特異値の二乗和と等しくなります。\n",
    "\n",
    "$$\n",
    "\\|\\|A\\|\\|\\_{\\mathrm{F}}^{2}=\\sum_{i=1}^{r} \\sigma_{i}^{2}\n",
    "$$\n",
    "\n",
    "### トレースとの関係\n",
    "\n",
    "こちらも実際に計算してみれば明らかですが、転置行列との積のトレースはフロベニウスノルムとなります。\n",
    "\n",
    "$$\n",
    "\\|\\|A\\|\\|\\_{\\mathrm{F}}^{2}=\\operatorname{tr}\\left(A A^{\\top}\\right)=\\operatorname{tr}\\left(A^{\\top} A\\right)\n",
    "$$"
   ]
  },
  {
   "cell_type": "markdown",
   "metadata": {},
   "source": [
    "## pythonによる実装\n",
    "\n",
    "実際にPythonを用いて特異値分解を実行してみます。\n",
    "\n",
    "### 筆者の環境\n",
    "\n",
    "筆者のOSはmacOSです。LinuxやUnixのコマンドとはオプションが異なります。"
   ]
  },
  {
   "cell_type": "code",
   "execution_count": 1,
   "metadata": {},
   "outputs": [
    {
     "name": "stdout",
     "output_type": "stream",
     "text": [
      "ProductName:\tMac OS X\r\n",
      "ProductVersion:\t10.14.6\r\n",
      "BuildVersion:\t18G103\r\n"
     ]
    }
   ],
   "source": [
    "!sw_vers"
   ]
  },
  {
   "cell_type": "code",
   "execution_count": 2,
   "metadata": {},
   "outputs": [
    {
     "name": "stdout",
     "output_type": "stream",
     "text": [
      "Python 3.8.5\r\n"
     ]
    }
   ],
   "source": [
    "!python -V"
   ]
  },
  {
   "cell_type": "code",
   "execution_count": 2,
   "metadata": {
    "scrolled": true
   },
   "outputs": [
    {
     "name": "stdout",
     "output_type": "stream",
     "text": [
      "matplotlib version : 3.3.2\n",
      "scipy  version : 1.5.2\n",
      "numpy  version : 1.19.2\n"
     ]
    }
   ],
   "source": [
    "%matplotlib inline\n",
    "%config InlineBackend.figure_format = 'svg'\n",
    "\n",
    "import matplotlib\n",
    "import matplotlib.pyplot as plt\n",
    "import scipy\n",
    "import numpy as np\n",
    "import pandas as pd\n",
    "\n",
    "print('matplotlib version :', matplotlib.__version__)\n",
    "print('scipy  version :', scipy.__version__)\n",
    "print('numpy  version :', np.__version__)"
   ]
  },
  {
   "cell_type": "markdown",
   "metadata": {},
   "source": [
    "### 適当にAを準備\n",
    "\n",
    "整数の4x5の行列を作ります。"
   ]
  },
  {
   "cell_type": "code",
   "execution_count": 70,
   "metadata": {},
   "outputs": [
    {
     "data": {
      "text/plain": [
       "array([[2., 2., 4., 4., 3.],\n",
       "       [4., 7., 8., 4., 6.],\n",
       "       [6., 7., 5., 6., 4.],\n",
       "       [5., 7., 4., 1., 2.]])"
      ]
     },
     "execution_count": 70,
     "metadata": {},
     "output_type": "execute_result"
    }
   ],
   "source": [
    "A = np.array([])\n",
    "for i in range(4): \n",
    "  for j in range(5):\n",
    "    A = np.append(A, np.random.randint(1, 10))\n",
    "A = A.reshape((4,5))\n",
    "A"
   ]
  },
  {
   "cell_type": "markdown",
   "metadata": {},
   "source": [
    "$\\text{rank}(A)$を確認します。"
   ]
  },
  {
   "cell_type": "code",
   "execution_count": 91,
   "metadata": {},
   "outputs": [
    {
     "data": {
      "text/plain": [
       "4"
      ]
     },
     "execution_count": 91,
     "metadata": {},
     "output_type": "execute_result"
    }
   ],
   "source": [
    "np.linalg.matrix_rank(A)"
   ]
  },
  {
   "cell_type": "markdown",
   "metadata": {},
   "source": [
    "### 特異値分解\n",
    "\n",
    "実際に特異値分解を実行します。"
   ]
  },
  {
   "cell_type": "code",
   "execution_count": null,
   "metadata": {},
   "outputs": [],
   "source": [
    "u, S, v_T = np.linalg.svd(A)"
   ]
  },
  {
   "cell_type": "markdown",
   "metadata": {},
   "source": [
    "$U$、$\\Sigma$、$V$を確認します。"
   ]
  },
  {
   "cell_type": "code",
   "execution_count": 84,
   "metadata": {},
   "outputs": [
    {
     "data": {
      "text/plain": [
       "array([[-0.3 ,  0.57,  0.14,  0.75],\n",
       "       [-0.62,  0.27, -0.66, -0.33],\n",
       "       [-0.59, -0.01,  0.73, -0.36],\n",
       "       [-0.43, -0.78, -0.14,  0.44]])"
      ]
     },
     "execution_count": 84,
     "metadata": {},
     "output_type": "execute_result"
    }
   ],
   "source": [
    "u.round(2)"
   ]
  },
  {
   "cell_type": "code",
   "execution_count": 85,
   "metadata": {},
   "outputs": [
    {
     "data": {
      "text/plain": [
       "array([21.37,  4.48,  3.14,  0.55])"
      ]
     },
     "execution_count": 85,
     "metadata": {},
     "output_type": "execute_result"
    }
   ],
   "source": [
    "S.round(2)"
   ]
  },
  {
   "cell_type": "code",
   "execution_count": 93,
   "metadata": {},
   "outputs": [
    {
     "data": {
      "text/plain": [
       "array([[-0.41, -0.39,  0.41,  0.42,  0.58],\n",
       "       [-0.56, -0.56, -0.07, -0.44, -0.41],\n",
       "       [-0.51,  0.28, -0.52,  0.59, -0.22],\n",
       "       [-0.36,  0.55,  0.68, -0.08, -0.31],\n",
       "       [-0.37,  0.38, -0.29, -0.53,  0.59]])"
      ]
     },
     "execution_count": 93,
     "metadata": {},
     "output_type": "execute_result"
    }
   ],
   "source": [
    "v_T.T.round(2)"
   ]
  },
  {
   "cell_type": "markdown",
   "metadata": {},
   "source": [
    "### 再現確認\n",
    "\n",
    "三つの行列をかけることで元の行列が再現できることを確認します。"
   ]
  },
  {
   "cell_type": "code",
   "execution_count": 87,
   "metadata": {},
   "outputs": [
    {
     "data": {
      "text/plain": [
       "array([[2., 2., 4., 4., 3.],\n",
       "       [4., 7., 8., 4., 6.],\n",
       "       [6., 7., 5., 6., 4.],\n",
       "       [5., 7., 4., 1., 2.]])"
      ]
     },
     "execution_count": 87,
     "metadata": {},
     "output_type": "execute_result"
    }
   ],
   "source": [
    "(u @ np.append(np.diag(S), [[0], [0], [0], [0]], axis=1) @ v_T).round(2)"
   ]
  },
  {
   "cell_type": "markdown",
   "metadata": {},
   "source": [
    "元の$A$と引き算してみます。"
   ]
  },
  {
   "cell_type": "code",
   "execution_count": 95,
   "metadata": {},
   "outputs": [
    {
     "data": {
      "text/plain": [
       "array([[0., 0., 0., 0., 0.],\n",
       "       [0., 0., 0., 0., 0.],\n",
       "       [0., 0., 0., 0., 0.],\n",
       "       [0., 0., 0., 0., 0.]])"
      ]
     },
     "execution_count": 95,
     "metadata": {},
     "output_type": "execute_result"
    }
   ],
   "source": [
    "A.round(2) - (u @ np.append(np.diag(S), [[0], [0], [0], [0]], axis=1) @ v_T).round(2)"
   ]
  },
  {
   "cell_type": "markdown",
   "metadata": {},
   "source": [
    "となり、元の$A$となることが確認出来ました。"
   ]
  },
  {
   "cell_type": "markdown",
   "metadata": {},
   "source": [
    "また、$U$と$V$がユニタリ行列である事も確認しておきます。"
   ]
  },
  {
   "cell_type": "code",
   "execution_count": 100,
   "metadata": {},
   "outputs": [
    {
     "data": {
      "text/plain": [
       "array([[ 1.,  0., -0.,  0.],\n",
       "       [ 0.,  1.,  0.,  0.],\n",
       "       [-0.,  0.,  1., -0.],\n",
       "       [ 0.,  0., -0.,  1.]])"
      ]
     },
     "execution_count": 100,
     "metadata": {},
     "output_type": "execute_result"
    }
   ],
   "source": [
    "(u @ u.T).round(2)"
   ]
  },
  {
   "cell_type": "code",
   "execution_count": 102,
   "metadata": {},
   "outputs": [
    {
     "data": {
      "text/plain": [
       "array([[ 1.,  0.,  0.,  0.,  0.],\n",
       "       [ 0.,  1.,  0.,  0., -0.],\n",
       "       [ 0.,  0.,  1., -0., -0.],\n",
       "       [ 0.,  0., -0.,  1., -0.],\n",
       "       [ 0., -0., -0., -0.,  1.]])"
      ]
     },
     "execution_count": 102,
     "metadata": {},
     "output_type": "execute_result"
    }
   ],
   "source": [
    "(v_T @ v_T.T).round(2)"
   ]
  },
  {
   "cell_type": "markdown",
   "metadata": {},
   "source": [
    "となり、単位行列になっており無事に確認出来ました。\n",
    "\n",
    "### 作用素ノルムの計算\n",
    "\n",
    "pythonで作用素ノルムを計算するには、最大の特異値を計算するだけです。\n",
    "$A$は先ほど定義した行列とします。"
   ]
  },
  {
   "cell_type": "code",
   "execution_count": 104,
   "metadata": {},
   "outputs": [
    {
     "data": {
      "text/plain": [
       "21.37"
      ]
     },
     "execution_count": 104,
     "metadata": {},
     "output_type": "execute_result"
    }
   ],
   "source": [
    "S[0].round(2)"
   ]
  },
  {
   "cell_type": "markdown",
   "metadata": {},
   "source": [
    "### フロベニウスノルムの計算\n",
    "\n",
    "フロベニウスノルムはnumpyのlinalgで簡単に計算できます。"
   ]
  },
  {
   "cell_type": "code",
   "execution_count": 106,
   "metadata": {},
   "outputs": [
    {
     "data": {
      "text/plain": [
       "22.07"
      ]
     },
     "execution_count": 106,
     "metadata": {},
     "output_type": "execute_result"
    }
   ],
   "source": [
    "np.linalg.norm(A, 'fro').round(2)"
   ]
  },
  {
   "cell_type": "markdown",
   "metadata": {},
   "source": [
    "また、以下の性質を利用して計算することも出来ます。\n",
    "二つの結果が一致していることが分かります。\n",
    "\n",
    "$$\n",
    "\\|A\\|_{\\mathrm{F}}^{2}=\\operatorname{tr}\\left(A A^{\\top}\\right)=\\operatorname{tr}\\left(A^{\\top} A\\right)\n",
    "$$"
   ]
  },
  {
   "cell_type": "code",
   "execution_count": 109,
   "metadata": {},
   "outputs": [
    {
     "data": {
      "text/plain": [
       "22.07"
      ]
     },
     "execution_count": 109,
     "metadata": {},
     "output_type": "execute_result"
    }
   ],
   "source": [
    "np.sqrt(np.trace(A.T @ A)).round(2)"
   ]
  },
  {
   "cell_type": "markdown",
   "metadata": {},
   "source": [
    "### スペクトル半径\n",
    "\n",
    "正方行列の最大固有値の絶対値をスペクトル半径といい、ページランクの収束性や連立方程式の収束性にも影響を及ぼします。"
   ]
  },
  {
   "cell_type": "code",
   "execution_count": 114,
   "metadata": {},
   "outputs": [
    {
     "data": {
      "text/plain": [
       "5.24"
      ]
     },
     "execution_count": 114,
     "metadata": {},
     "output_type": "execute_result"
    }
   ],
   "source": [
    "np.abs(np.max(np.linalg.eig(np.array([[1,2,1], [2,1,3], [3,1,2]]))[0])).round(2)"
   ]
  },
  {
   "cell_type": "markdown",
   "metadata": {},
   "source": [
    "## まとめ\n",
    "\n",
    "線型代数は本当に奥が深い。学生時代、サラリーマン時代と今まで2回ほどまとまって勉強する機会を設けたが、まだまだ理解していない事が多い。\n",
    "推薦システムでも論文を読んでいると様々な性質を利用して理論が進んでいくので、一つ一つしっかりと理解していきたい。"
   ]
  },
  {
   "cell_type": "markdown",
   "metadata": {},
   "source": [
    "## 参考文献\n",
    "\n",
    "- [1][現代線形代数](https://www.amazon.co.jp/%E7%8F%BE%E4%BB%A3%E7%B7%9A%E5%BD%A2%E4%BB%A3%E6%95%B0-%E2%80%95%E5%88%86%E8%A7%A3%E5%AE%9A%E7%90%86%E3%82%92%E4%B8%AD%E5%BF%83%E3%81%A8%E3%81%97%E3%81%A6%E2%80%95-%E6%B1%A0%E8%BE%BA-%E5%85%AB%E6%B4%B2%E5%BD%A6/dp/4320018818)"
   ]
  }
 ],
 "metadata": {
  "kernelspec": {
   "display_name": "Python 3",
   "language": "python",
   "name": "python3"
  },
  "language_info": {
   "codemirror_mode": {
    "name": "ipython",
    "version": 3
   },
   "file_extension": ".py",
   "mimetype": "text/x-python",
   "name": "python",
   "nbconvert_exporter": "python",
   "pygments_lexer": "ipython3",
   "version": "3.8.5"
  }
 },
 "nbformat": 4,
 "nbformat_minor": 2
}
