{
 "cells": [
  {
   "cell_type": "markdown",
   "metadata": {},
   "source": [
    "# 余因子と余因子展開\n",
    "\n",
    "## 概要\n",
    "この記事では、行列の基本的な概念である余因子と余因子展開について解説する。これらの概念は、線形代数学や機械学習、特に推薦システムにおいて重要な役割を果たす。具体例を通じて、Pythonによる実装例も示す。\n",
    "\n",
    "\n",
    "### github\n",
    "- jupyter notebook形式のファイルは[こちら](https://github.com/hiroshi0530/wa-src/blob/master/rec/linalg/05/05_nb.ipynb)\n",
    "\n",
    "### google colaboratory\n",
    "- google colaboratory で実行する場合は[こちら](https://colab.research.google.com/github/hiroshi0530/wa-src/blob/master/rec/linalg/05/05_nb.ipynb)\n",
    "\n",
    "\n",
    "### 実行環境\n",
    "OSはmacOSです。LinuxやUnixのコマンドとはオプションが異なりますので注意してください。"
   ]
  },
  {
   "cell_type": "code",
   "execution_count": 18,
   "metadata": {},
   "outputs": [
    {
     "name": "stdout",
     "output_type": "stream",
     "text": [
      "ProductName:\t\tmacOS\n",
      "ProductVersion:\t\t13.5.1\n",
      "BuildVersion:\t\t22G90\n"
     ]
    }
   ],
   "source": [
    "!sw_vers"
   ]
  },
  {
   "cell_type": "code",
   "execution_count": 19,
   "metadata": {},
   "outputs": [
    {
     "name": "stdout",
     "output_type": "stream",
     "text": [
      "Python 3.9.17\n"
     ]
    }
   ],
   "source": [
    "!python -V"
   ]
  },
  {
   "cell_type": "markdown",
   "metadata": {},
   "source": [
    "pandasのテーブルを見やすいようにHTMLのテーブルにCSSの設定を行います。"
   ]
  },
  {
   "cell_type": "code",
   "execution_count": 20,
   "metadata": {},
   "outputs": [
    {
     "data": {
      "text/html": [
       "\n",
       "<style>\n",
       "    .dataframe thead tr:only-child th {\n",
       "        text-align: right;\n",
       "    }\n",
       "\n",
       "    .dataframe thead th {\n",
       "        text-align: left;\n",
       "        padding: 5px;\n",
       "    }\n",
       "\n",
       "    .dataframe tbody tr th {\n",
       "        vertical-align: top;\n",
       "        padding: 5px;\n",
       "    }\n",
       "\n",
       "    .dataframe tbody tr:hover {\n",
       "        background-color: #ffff99;\n",
       "    }\n",
       "\n",
       "    .dataframe {\n",
       "        background-color: white;\n",
       "        color: black;\n",
       "        font-size: 16px;\n",
       "    }\n",
       "\n",
       "</style>\n"
      ],
      "text/plain": [
       "<IPython.core.display.HTML object>"
      ]
     },
     "execution_count": 20,
     "metadata": {},
     "output_type": "execute_result"
    }
   ],
   "source": [
    "from IPython.core.display import HTML\n",
    "\n",
    "style = \"\"\"\n",
    "<style>\n",
    "    .dataframe thead tr:only-child th {\n",
    "        text-align: right;\n",
    "    }\n",
    "\n",
    "    .dataframe thead th {\n",
    "        text-align: left;\n",
    "        padding: 5px;\n",
    "    }\n",
    "\n",
    "    .dataframe tbody tr th {\n",
    "        vertical-align: top;\n",
    "        padding: 5px;\n",
    "    }\n",
    "\n",
    "    .dataframe tbody tr:hover {\n",
    "        background-color: #ffff99;\n",
    "    }\n",
    "\n",
    "    .dataframe {\n",
    "        background-color: white;\n",
    "        color: black;\n",
    "        font-size: 16px;\n",
    "    }\n",
    "\n",
    "</style>\n",
    "\"\"\"\n",
    "HTML(style)"
   ]
  },
  {
   "cell_type": "markdown",
   "metadata": {},
   "source": [
    "基本的なライブラリをインポートし watermark を利用してそのバージョンを確認しておきます。\n",
    "ついでに乱数のseedの設定をします。"
   ]
  },
  {
   "cell_type": "code",
   "execution_count": 21,
   "metadata": {},
   "outputs": [],
   "source": [
    "%matplotlib inline\n",
    "%config InlineBackend.figure_format = 'svg'"
   ]
  },
  {
   "cell_type": "code",
   "execution_count": 22,
   "metadata": {},
   "outputs": [
    {
     "name": "stdout",
     "output_type": "stream",
     "text": [
      "Python implementation: CPython\n",
      "Python version       : 3.9.17\n",
      "IPython version      : 8.17.2\n",
      "\n",
      "matplotlib: 3.8.1\n",
      "numpy     : 1.25.2\n",
      "scipy     : 1.11.2\n",
      "\n",
      "Watermark: 2.4.3\n",
      "\n"
     ]
    }
   ],
   "source": [
    "import random\n",
    "\n",
    "import scipy\n",
    "import numpy as np\n",
    "\n",
    "import matplotlib\n",
    "import matplotlib.pyplot as plt\n",
    "\n",
    "seed = 123\n",
    "random_state = 123\n",
    "\n",
    "random.seed(seed)\n",
    "np.random.seed(seed)\n",
    "\n",
    "\n",
    "from watermark import watermark\n",
    "\n",
    "print(watermark(python=True, watermark=True, iversions=True, globals_=globals()))"
   ]
  },
  {
   "cell_type": "markdown",
   "metadata": {},
   "source": [
    "## 余因子の定義と性質\n",
    "\n",
    "余因子（Cofactor）とは、行列の要素に関連するある種の行列式を指す。具体的には、$a_{ij}$を行列$\\mathbf{A}$の$(i,j)$成分としたとき、余因子$C_{ij}$は次のように定義される：\n",
    "\n",
    "$$\n",
    "C_{ij} = (-1)^{i+j} \\det(\\mathbf{A}_{ij})\n",
    "$$\n",
    "\n",
    "ここで、$\\mathbf{A}_{ij}$は$\\mathbf{A}$から$i$行と$j$列を取り除いた部分行列である。この定義により、余因子行列$\\mathbf{C}$は行列$\\mathbf{A}$の各要素の余因子を集めた行列となる。\n",
    "\n",
    "### 具体例\n",
    "例えば、行列$\\mathbf{A}$が次のような$3 \\times 3$行列であるとする：\n",
    "\n",
    "$$\n",
    "\\mathbf{A} = \\begin{pmatrix}\n",
    "1 & 2 & 3 \\\\\n",
    "0 & 1 & 4 \\\\\n",
    "5 & 6 & 0\n",
    "\\end{pmatrix}\n",
    "$$\n",
    "\n",
    "このとき、成分$a_{11}$に対応する余因子$C_{11}$は次のように計算される：\n",
    "\n",
    "$$\n",
    "\\mathbf{A}_{11} = \\begin{pmatrix}\n",
    "1 & 4 \\\\\n",
    "6 & 0\n",
    "\\end{pmatrix}\n",
    "$$\n",
    "\n",
    "$$\n",
    "C_{11} = (-1)^{1+1} \\det(\\mathbf{A}_{11}) = \\det(\\begin{pmatrix}\n",
    "1 & 4 \\\\\n",
    "6 & 0\n",
    "\\end{pmatrix}) = 1 \\cdot 0 - 4 \\cdot 6 = -24\n",
    "$$\n",
    "\n",
    "### Pythonによる実装例\n",
    "\n"
   ]
  },
  {
   "cell_type": "code",
   "execution_count": 23,
   "metadata": {},
   "outputs": [
    {
     "name": "stdout",
     "output_type": "stream",
     "text": [
      "C11 = -24.0\n"
     ]
    }
   ],
   "source": [
    "import numpy as np\n",
    "\n",
    "\n",
    "def minor(matrix, i, j):\n",
    "    minor_matrix = np.delete(matrix, i, axis=0)\n",
    "    minor_matrix = np.delete(minor_matrix, j, axis=1)\n",
    "    return minor_matrix\n",
    "\n",
    "\n",
    "def cofactor(matrix, i, j):\n",
    "    minor_matrix = minor(matrix, i, j)\n",
    "    return ((-1) ** (i + j)) * np.linalg.det(minor_matrix)\n",
    "\n",
    "\n",
    "A = np.array([[1, 2, 3], [0, 1, 4], [5, 6, 0]])\n",
    "\n",
    "C11 = cofactor(A, 0, 0)\n",
    "print(\"C11 =\", round(C11, 2))"
   ]
  },
  {
   "cell_type": "markdown",
   "metadata": {},
   "source": [
    "\n",
    "\n",
    "## 余因子展開の定義と性質\n",
    "\n",
    "余因子展開（Cofactor Expansion）とは、行列の行や列に沿って行う行列式の計算方法である。行列$\\mathbf{A}$の行列式$\\det(\\mathbf{A})$は、次のように余因子を用いて展開される：\n",
    "\n",
    "$$\n",
    "\\det(\\mathbf{A}) = \\sum_{j=1}^{n} a_{ij} C_{ij}\n",
    "$$\n",
    "\n",
    "ここで、$i$は固定された行のインデックスであり、$j$はその行の各列のインデックスである。この式は任意の行$i$について成立する。\n",
    "\n",
    "### 具体例\n",
    "\n",
    "再び行列$\\mathbf{A}$を用いて、行列式を余因子展開により計算する。$i=1$行に沿って展開すると：\n",
    "\n",
    "$$\n",
    "\\det(\\mathbf{A}) = a_{11}C_{11} + a_{12}C_{12} + a_{13}C_{13}\n",
    "$$\n",
    "\n",
    "それぞれの余因子は以下の通り計算される：\n",
    "\n",
    "$$\n",
    "C_{11} = -24, \\quad C_{12} = (-1)^{1+2} \\det(\\begin{pmatrix}\n",
    "0 & 4 \\\\\n",
    "5 & 0\n",
    "\\end{pmatrix}) = 20, \\quad C_{13} = (-1)^{1+3} \\det(\\begin{pmatrix}\n",
    "0 & 1 \\\\\n",
    "5 & 6\n",
    "\\end{pmatrix}) = -5\n",
    "$$\n",
    "\n",
    "したがって、\n",
    "\n",
    "$$\n",
    "\\det(\\mathbf{A}) = 1 \\cdot (-24) + 2 \\cdot 20 + 3 \\cdot (-5) = -24 + 40 - 15 = 1\n",
    "$$\n",
    "\n",
    "### Pythonによる実装例\n",
    "\n"
   ]
  },
  {
   "cell_type": "code",
   "execution_count": 24,
   "metadata": {},
   "outputs": [
    {
     "name": "stdout",
     "output_type": "stream",
     "text": [
      "det(A) = 1.0\n"
     ]
    }
   ],
   "source": [
    "def determinant(matrix):\n",
    "    n = len(matrix)\n",
    "    if n == 1:\n",
    "        return matrix[0, 0]\n",
    "    elif n == 2:\n",
    "        return matrix[0, 0] * matrix[1, 1] - matrix[0, 1] * matrix[1, 0]\n",
    "    else:\n",
    "        det = 0\n",
    "        for j in range(n):\n",
    "            det += matrix[0, j] * cofactor(matrix, 0, j)\n",
    "        return det\n",
    "\n",
    "\n",
    "det_A = determinant(A)\n",
    "print(\"det(A) =\", round(det_A, 2))"
   ]
  },
  {
   "cell_type": "markdown",
   "metadata": {},
   "source": [
    "\n",
    "\n",
    "## 余因子と余因子展開の応用\n",
    "\n",
    "余因子と余因子展開は、行列の逆行列の計算にも重要である。特に、行列$\\mathbf{A}$の逆行列$\\mathbf{A}^{-1}$は、余因子行列$\\mathbf{C}$と行列式$\\det(\\mathbf{A})$を用いて次のように表される：\n",
    "\n",
    "$$\n",
    "\\mathbf{A}^{-1} = \\frac{1}{\\det(\\mathbf{A})} \\mathbf{C}^T\n",
    "$$\n",
    "\n",
    "この関係は、行列の性質を解析する際に有用である。特に機械学習における線形代数の応用、例えば推薦システムのモデルの構築において重要である。\n",
    "\n",
    "### 具体例\n",
    "\n",
    "行列$\\mathbf{A}$の逆行列を求めるために、余因子行列と行列式を利用する。\n",
    "\n",
    "### Pythonによる実装例\n",
    "\n"
   ]
  },
  {
   "cell_type": "code",
   "execution_count": 25,
   "metadata": {},
   "outputs": [
    {
     "name": "stdout",
     "output_type": "stream",
     "text": [
      "A^(-1) = \n",
      " [[-24.  18.   5.]\n",
      " [ 20. -15.  -4.]\n",
      " [ -5.   4.   1.]]\n"
     ]
    }
   ],
   "source": [
    "def cofactor_matrix(matrix):\n",
    "    n = len(matrix)\n",
    "    C = np.zeros(matrix.shape)\n",
    "    for i in range(n):\n",
    "        for j in range(n):\n",
    "            C[i, j] = cofactor(matrix, i, j)\n",
    "    return C\n",
    "\n",
    "\n",
    "C = cofactor_matrix(A)\n",
    "det_A = determinant(A)\n",
    "A_inv = (1 / det_A) * C.T\n",
    "print(\"A^(-1) = \\n\", A_inv.round(2))"
   ]
  },
  {
   "cell_type": "markdown",
   "metadata": {},
   "source": [
    "\n",
    "## 結論\n",
    "\n",
    "この記事では、余因子と余因子展開の定義、性質、及び具体的な応用例について説明した。これらの概念は、行列の性質を解析するための強力なツールであり、特に機械学習の分野において重要である。\n",
    "\n",
    "### 参考文献\n",
    "- Wikipedia: [Cofactor (linear algebra)](https://en.wikipedia.org/wiki/Cofactor_(linear_algebra))\n",
    "- NumPy Documentation: [numpy.linalg.det](https://numpy.org/doc/stable/reference/generated/numpy.linalg.det.html)\n",
    "- Scipy Documentation: [scipy.linalg.inv](https://docs.scipy.org/doc/scipy/reference/generated/scipy.linalg.inv.html)"
   ]
  }
 ],
 "metadata": {
  "kernelspec": {
   "display_name": "Python 3",
   "language": "python",
   "name": "python3"
  },
  "language_info": {
   "codemirror_mode": {
    "name": "ipython",
    "version": 3
   },
   "file_extension": ".py",
   "mimetype": "text/x-python",
   "name": "python",
   "nbconvert_exporter": "python",
   "pygments_lexer": "ipython3",
   "version": "3.9.17"
  },
  "widgets": {
   "state": {},
   "version": "1.1.2"
  }
 },
 "nbformat": 4,
 "nbformat_minor": 2
}
