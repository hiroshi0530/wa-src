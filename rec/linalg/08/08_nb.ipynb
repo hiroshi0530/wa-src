{
 "cells": [
  {
   "cell_type": "markdown",
   "metadata": {},
   "source": [
    "# ノイマン級数\n",
    "\n",
    "大学院の研究において、$(\\mathbf{I} - a\\mathbf{A})^{-1}$ を展開することができないか悩んでいて、ノイマン級数に知見を得たので、その内容をまとめる。\n",
    "\n",
    "この記事では、ノイマン級数の定義、性質、および応用例について詳述する。特に、機械学習や推薦システムにおける利用例に焦点を当てる。数式とPythonのコードを用いて具体的な計算例を示す。\n",
    "\n",
    "## ソースコード\n",
    "\n",
    "### github\n",
    "- jupyter notebook形式のファイルは[こちら](https://github.com/hiroshi0530/wa-src/blob/master/rec/linalg/08/08_nb.ipynb)\n",
    "\n",
    "### google colaboratory\n",
    "- google colaboratory で実行する場合は[こちら](https://colab.research.google.com/github/hiroshi0530/wa-src/blob/master/rec/linalg/08/08_nb.ipynb)\n",
    "\n",
    "\n",
    "## 実行環境\n",
    "OSはmacOSである。LinuxやUnixのコマンドとはオプションが異なることに注意。"
   ]
  },
  {
   "cell_type": "code",
   "execution_count": 1,
   "metadata": {},
   "outputs": [
    {
     "name": "stdout",
     "output_type": "stream",
     "text": [
      "ProductName:\t\tmacOS\n",
      "ProductVersion:\t\t13.5.1\n",
      "BuildVersion:\t\t22G90\n"
     ]
    }
   ],
   "source": [
    "!sw_vers"
   ]
  },
  {
   "cell_type": "code",
   "execution_count": 2,
   "metadata": {},
   "outputs": [
    {
     "name": "stdout",
     "output_type": "stream",
     "text": [
      "Python 3.9.17\n"
     ]
    }
   ],
   "source": [
    "!python -V"
   ]
  },
  {
   "cell_type": "markdown",
   "metadata": {},
   "source": [
    "基本的なライブラリをインポートし watermark を利用してそのバージョンを確認する。\n",
    "ついでに乱数のseedの設定を行う。"
   ]
  },
  {
   "cell_type": "code",
   "execution_count": 3,
   "metadata": {},
   "outputs": [
    {
     "name": "stdout",
     "output_type": "stream",
     "text": [
      "Python implementation: CPython\n",
      "Python version       : 3.9.17\n",
      "IPython version      : 8.17.2\n",
      "\n",
      "numpy: 1.25.2\n",
      "\n",
      "Watermark: 2.4.3\n",
      "\n"
     ]
    }
   ],
   "source": [
    "import random\n",
    "import numpy as np\n",
    "\n",
    "seed = 123\n",
    "random_state = 123\n",
    "\n",
    "random.seed(seed)\n",
    "np.random.seed(seed)\n",
    "\n",
    "\n",
    "from watermark import watermark\n",
    "\n",
    "print(watermark(python=True, watermark=True, iversions=True, globals_=globals()))"
   ]
  },
  {
   "cell_type": "markdown",
   "metadata": {},
   "source": [
    "## $(\\mathbf{I} - a\\mathbf{A})^{-1}$ のノイマン級数について\n",
    "\n",
    "ノイマン級数を用いて $(\\mathbf{I} - a\\mathbf{A})^{-1}$ を表す方法は、行列 $\\mathbf{A}$ と定数 $a$ に対して有用な逆行列の計算方法である。この展開は特に、$\\mathbf{A}$ のスペクトル半径が小さい場合に有効である。見てわかるとおり、ノイマン級数は等比数列の和の公式：\n",
    "\n",
    "$$\n",
    "\\sum_{n=0}^{\\infty} a^n = \\frac{1}{1 - a}\n",
    "$$\n",
    "\n",
    "の行列への拡張版である。\n",
    "\n",
    "### 定義\n",
    "\n",
    "定数 $a$ と行列 $\\mathbf{A}$ に対して、ノイマン級数を用いた $(\\mathbf{I} - a\\mathbf{A})^{-1}$ の展開は次のように表される：\n",
    "\n",
    "$$\n",
    "(\\mathbf{I} - a\\mathbf{A})^{-1} = \\sum_{n=0}^{\\infty} (a\\mathbf{A})^n\n",
    "$$\n",
    "\n",
    "### 収束条件\n",
    "\n",
    "この級数が収束するためには、次の条件が必要である：\n",
    "\n",
    "$$\n",
    "|a| \\cdot \\rho(\\mathbf{A}) < 1\n",
    "$$\n",
    "\n",
    "ここで、$\\rho(\\mathbf{A})$ は行列 $\\mathbf{A}$ のスペクトル半径、つまり $\\mathbf{A}$ の固有値の絶対値の最大値を表す。\n",
    "\n",
    "### Pythonによる実装例\n",
    "\n",
    "以下のPythonコードは、ノイマン級数を用いて $(\\mathbf{I} - a\\mathbf{A})^{-1}$ を近似計算する例である。\n",
    "3次のノイマン級数を計算するために、行列 $\\mathbf{A}$ と定数 $a$ を定義し、ノイマン級数の和を計算する。\n",
    "\n",
    "記載する意味があるかは不明だが、一応記載しておく。\n"
   ]
  },
  {
   "cell_type": "code",
   "execution_count": 4,
   "metadata": {},
   "outputs": [
    {
     "name": "stdout",
     "output_type": "stream",
     "text": [
      "spectral_radius : 0.5\n",
      "====================\n",
      "近似逆行列 : \n",
      "array([[1.31, 0.25],\n",
      "       [0.12, 1.44]])\n",
      "====================\n",
      "逆行列 : \n",
      "array([[1.35, 0.32],\n",
      "       [0.16, 1.51]])\n"
     ]
    }
   ],
   "source": [
    "import numpy as np\n",
    "\n",
    "from pprint import pprint\n",
    "\n",
    "# 適当な初期行列 A\n",
    "A = np.array([[0.3, 0.2], [0.1, 0.4]])\n",
    "\n",
    "# 適当な定数\n",
    "a = 0.8\n",
    "\n",
    "# スペクトル半径の計算\n",
    "eigenvalues = np.linalg.eig(A)[0]\n",
    "spectral_radius = max(abs(eigenvalues))\n",
    "\n",
    "print(f\"spectral_radius : {spectral_radius}\")\n",
    "\n",
    "# 収束条件\n",
    "if abs(a) * spectral_radius < 1:\n",
    "\n",
    "    I = np.eye(A.shape[0])\n",
    "\n",
    "    # 逆行列の近似を計算\n",
    "    n_iter = 3\n",
    "    A_inv_approx = np.zeros_like(A)\n",
    "\n",
    "    for n in range(n_iter):\n",
    "        A_inv_approx += np.linalg.matrix_power(a * A, n)\n",
    "\n",
    "    # 最終的な逆行列の近似\n",
    "    A_inv_approx = np.dot(A_inv_approx, I)\n",
    "\n",
    "    print(\"=\" * 20)\n",
    "    print(\"近似逆行列 : \")\n",
    "    pprint(A_inv_approx.round(2))\n",
    "else:\n",
    "    print(\"収束条件 |a| * ρ(A) < 1 を満たしていない\")\n",
    "\n",
    "\n",
    "# 行列 A の逆行列を計算\n",
    "A_inv = np.linalg.inv(I - a * A)\n",
    "\n",
    "print(\"=\" * 20)\n",
    "print(\"逆行列 : \")\n",
    "pprint(A_inv.round(2))"
   ]
  },
  {
   "cell_type": "markdown",
   "metadata": {},
   "source": [
    "## 結論\n",
    "\n",
    "ノイマン級数は、特定の条件下で効率的に逆行列を求める方法である。$(\\mathbf{I} - a\\mathbf{A})^{-1}$ のノイマン級数展開は、行列 $\\mathbf{A}$ のスペクトル半径が小さい場合に有効であり、機械学習や線形代数の問題において広く応用されるらしい（知らなかったが…）。\n",
    "\n",
    "### 参考文献\n",
    "\n",
    "- Wikipedia: [Neumann Series](https://en.wikipedia.org/wiki/Neumann_series)"
   ]
  }
 ],
 "metadata": {
  "kernelspec": {
   "display_name": "Python 3",
   "language": "python",
   "name": "python3"
  },
  "language_info": {
   "codemirror_mode": {
    "name": "ipython",
    "version": 3
   },
   "file_extension": ".py",
   "mimetype": "text/x-python",
   "name": "python",
   "nbconvert_exporter": "python",
   "pygments_lexer": "ipython3",
   "version": "3.9.17"
  },
  "widgets": {
   "state": {},
   "version": "1.1.2"
  }
 },
 "nbformat": 4,
 "nbformat_minor": 2
}
