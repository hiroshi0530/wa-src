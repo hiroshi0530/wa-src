{
 "cells": [
  {
   "cell_type": "markdown",
   "metadata": {},
   "source": [
    "最近、特異値分解と主成分分析について復習する機会があったので、メモ代わりに記事にしておく。\n",
    "\n",
    "# 特異値分解と主成分分析の概要\n",
    "\n",
    "特異値分解（SVD）と主成分分析（PCA）は推薦システムではもちろんデータ分析でも重要な手法である。\n",
    "\n",
    "### 特異値分解（SVD）\n",
    "\n",
    "特異値分解 (Singular Value Decomposition, SVD) は行列 $A$ を以下のように分解する手法である。\n",
    "\n",
    "$$\n",
    "A = U \\Sigma V^T\n",
    "$$\n",
    "\n",
    "ここで $U$ は直交行列、$\\Sigma$ は特異値の対角行列、$V$ は直交行列である。SVD は行列のランクを下げるために利用され、推薦システムでは評価行列の低ランク近似により評価予測を行う。\n",
    "\n",
    "$$\n",
    "\\displaystyle R_k = U_k \\Sigma_k V_k^T\n",
    "$$\n",
    "\n",
    "### 主成分分析（PCA）\n",
    "\n",
    "主成分分析 (Principal Component Analysis, PCA) はデータの次元削減手法である。共分散行列 $C$ の固有値分解を行い、固有ベクトルを利用して次元削減を行う。PCA も SVD を用いて実装可能である。\n",
    "\n",
    "\n",
    "## ソースコード\n",
    "\n",
    "本記事で使用するソースコードは以下の通りである。\n",
    "\n",
    "### github\n",
    "- jupyter notebook形式のファイルは[こちら](https://github.com/hiroshi0530/wa-src/blob/master/rec/linalg/03/03_nb.ipynb)\n",
    "\n",
    "### google colaboratory\n",
    "- google colaboratory で実行する場合は[こちら](https://colab.research.google.com/github/hiroshi0530/wa-src/blob/master/rec/linalg/03/03_nb.ipynb)\n",
    "\n",
    "\n",
    "### 実行環境\n",
    "OSはmacOSです。LinuxやUnixのコマンドとはオプションが異なりるので注意。"
   ]
  },
  {
   "cell_type": "code",
   "execution_count": 1,
   "metadata": {},
   "outputs": [
    {
     "name": "stdout",
     "output_type": "stream",
     "text": [
      "ProductName:\t\tmacOS\n",
      "ProductVersion:\t\t13.5.1\n",
      "BuildVersion:\t\t22G90\n"
     ]
    }
   ],
   "source": [
    "!sw_vers"
   ]
  },
  {
   "cell_type": "code",
   "execution_count": 2,
   "metadata": {},
   "outputs": [
    {
     "name": "stdout",
     "output_type": "stream",
     "text": [
      "Python 3.9.17\n"
     ]
    }
   ],
   "source": [
    "!python -V"
   ]
  },
  {
   "cell_type": "markdown",
   "metadata": {},
   "source": [
    "pandasのテーブルを見やすいようにHTMLのテーブルにCSSの設定を行う。"
   ]
  },
  {
   "cell_type": "code",
   "execution_count": 3,
   "metadata": {},
   "outputs": [
    {
     "data": {
      "text/html": [
       "\n",
       "<style>\n",
       "    .dataframe thead tr:only-child th {\n",
       "        text-align: right;\n",
       "    }\n",
       "\n",
       "    .dataframe thead th {\n",
       "        text-align: left;\n",
       "        padding: 5px;\n",
       "    }\n",
       "\n",
       "    .dataframe tbody tr th {\n",
       "        vertical-align: top;\n",
       "        padding: 5px;\n",
       "    }\n",
       "\n",
       "    .dataframe tbody tr:hover {\n",
       "        background-color: #ffff99;\n",
       "    }\n",
       "\n",
       "    .dataframe {\n",
       "        background-color: white;\n",
       "        color: black;\n",
       "        font-size: 16px;\n",
       "    }\n",
       "\n",
       "</style>\n"
      ],
      "text/plain": [
       "<IPython.core.display.HTML object>"
      ]
     },
     "execution_count": 3,
     "metadata": {},
     "output_type": "execute_result"
    }
   ],
   "source": [
    "from IPython.core.display import HTML\n",
    "\n",
    "style = \"\"\"\n",
    "<style>\n",
    "    .dataframe thead tr:only-child th {\n",
    "        text-align: right;\n",
    "    }\n",
    "\n",
    "    .dataframe thead th {\n",
    "        text-align: left;\n",
    "        padding: 5px;\n",
    "    }\n",
    "\n",
    "    .dataframe tbody tr th {\n",
    "        vertical-align: top;\n",
    "        padding: 5px;\n",
    "    }\n",
    "\n",
    "    .dataframe tbody tr:hover {\n",
    "        background-color: #ffff99;\n",
    "    }\n",
    "\n",
    "    .dataframe {\n",
    "        background-color: white;\n",
    "        color: black;\n",
    "        font-size: 16px;\n",
    "    }\n",
    "\n",
    "</style>\n",
    "\"\"\"\n",
    "HTML(style)"
   ]
  },
  {
   "cell_type": "markdown",
   "metadata": {},
   "source": [
    "基本的なライブラリをインポートし watermark を利用してそのバージョンを確認しておきます。\n",
    "ついでに乱数のseedの設定をします。"
   ]
  },
  {
   "cell_type": "code",
   "execution_count": 4,
   "metadata": {},
   "outputs": [],
   "source": [
    "%matplotlib inline\n",
    "%config InlineBackend.figure_format = 'svg'"
   ]
  },
  {
   "cell_type": "code",
   "execution_count": 5,
   "metadata": {},
   "outputs": [
    {
     "name": "stdout",
     "output_type": "stream",
     "text": [
      "Python implementation: CPython\n",
      "Python version       : 3.9.17\n",
      "IPython version      : 8.17.2\n",
      "\n",
      "numpy: 1.25.2\n",
      "\n",
      "Watermark: 2.4.3\n",
      "\n"
     ]
    }
   ],
   "source": [
    "import random\n",
    "import numpy as np\n",
    "\n",
    "from pprint import pprint\n",
    "from watermark import watermark\n",
    "\n",
    "seed = 123\n",
    "random_state = 123\n",
    "\n",
    "random.seed(seed)\n",
    "np.random.seed(seed)\n",
    "\n",
    "\n",
    "# 小数点を丸めたときに-0.0が出現するが、0.0 と -0.0 は等価であり、0.0として表示する関数\n",
    "def ppprint(A):\n",
    "    \"\"\"\n",
    "    A: np.array\n",
    "        表示する行列\n",
    "    \"\"\"\n",
    "    pprint(np.where(A == -0.0, 0, A))\n",
    "\n",
    "\n",
    "print(watermark(python=True, watermark=True, iversions=True, globals_=globals()))"
   ]
  },
  {
   "cell_type": "markdown",
   "metadata": {},
   "source": [
    "# Pythonによる実装と具体的な説明\n",
    "\n",
    "## 特異値分解(SVD)\n",
    "\n",
    "特異値分解は、任意の$m \\times n$行列$A$を以下のように分解する方法である：\n",
    "\n",
    "$$\n",
    "A = U \\Sigma V^T\n",
    "$$\n",
    "\n",
    "ここで、$U$は$m \\times m$の直交行列、$\\Sigma$は$m \\times n$の対角行列、$V$は$n \\times n$の直交行列である。$\\Sigma$の対角成分は$A$の特異値であり、非負の実数である。\n",
    "\n",
    "### SVDの計算例\n",
    "\n",
    "例えば、$A$が$5 \\times 2$の行列であるとする：\n",
    "\n",
    "$$\n",
    "A = \\begin{pmatrix}\n",
    "1 & 2 \\\\\n",
    "3 & 4 \\\\\n",
    "7 & 6 \\\\\n",
    "2 & 0 \\\\\n",
    "3 & 1 \\\\\n",
    "\\end{pmatrix}\n",
    "$$\n",
    "\n",
    "この行列のSVDを求める。SVD自体はnumpyのlinalgモジュールで計算できる。以下に適当な行列$A$に対してSVDを行う実装を示す。"
   ]
  },
  {
   "cell_type": "code",
   "execution_count": 6,
   "metadata": {},
   "outputs": [
    {
     "name": "stdout",
     "output_type": "stream",
     "text": [
      "========================================\n",
      "U : \n",
      "array([[-0.19, -0.37, -0.82, -0.21, -0.33],\n",
      "       [-0.44, -0.45, -0.05,  0.57,  0.52],\n",
      "       [-0.83,  0.06,  0.37, -0.25, -0.34],\n",
      "       [-0.13,  0.59, -0.27,  0.66, -0.36],\n",
      "       [-0.26,  0.55, -0.35, -0.35,  0.62]])\n",
      "========================================\n",
      "S : \n",
      "array([11.13,  2.24])\n",
      "========================================\n",
      "Sigma : \n",
      "array([[11.13,  0.  ],\n",
      "       [ 0.  ,  2.24],\n",
      "       [ 0.  ,  0.  ],\n",
      "       [ 0.  ,  0.  ],\n",
      "       [ 0.  ,  0.  ]])\n",
      "========================================\n",
      "V_T : \n",
      "array([[-0.75, -0.66],\n",
      "       [ 0.66, -0.75]])\n"
     ]
    }
   ],
   "source": [
    "import numpy as np\n",
    "\n",
    "A = np.array([[1, 2], [3, 4], [7, 6], [2, 0], [3, 1]])\n",
    "\n",
    "U, S, V_T = np.linalg.svd(A, full_matrices=True)\n",
    "\n",
    "print(\"=\" * 40)\n",
    "print(\"U : \")\n",
    "pprint(U.round(2))\n",
    "\n",
    "print(\"=\" * 40)\n",
    "print(\"S : \")\n",
    "pprint(S.round(2))\n",
    "\n",
    "# 特異値ベクトルSから特異値行列を作成\n",
    "Sigma = np.zeros(A.shape)\n",
    "for i in range(len(S)):\n",
    "    Sigma[i, i] = S[i]\n",
    "\n",
    "print(\"=\" * 40)\n",
    "print(\"Sigma : \")\n",
    "pprint(Sigma.round(2))\n",
    "\n",
    "print(\"=\" * 40)\n",
    "print(\"V_T : \")\n",
    "pprint(V_T.round(2))"
   ]
  },
  {
   "cell_type": "markdown",
   "metadata": {},
   "source": [
    "この結果、$U$、$S$、$V^T$が求まる。$S$は対角行列の対角成分を持つベクトルとして出力されるため、対角行列に変換する必要があることに注意する。\n",
    "\n",
    "### SVDの利用例：推薦システム\n",
    "\n",
    "推薦システムにおいて、特異値分解を用いた方法は非常に有効である。例えば、ユーザーとアイテムの評価行列$R$をSVDにより分解することで、次元削減や潜在特徴の抽出が可能になる。これにより、ユーザーの評価傾向やアイテムの特徴を抽出し、精度の高い推薦が実現できる。\n",
    "\n",
    "たとえば、特異値の大きさに基づいて特異値を降順に並べ、上位 $ k $ 個の特異値を選択する。 $ k $ は新しい次元数を表すパラメタである。選択した上位 $ k $ 個の特異値に対応する $ U $、$ \\Sigma $、$ V^T $ の列ベクトルや行ベクトルを用いて、元の行列 $ A $ を近似する。具体的には、\n",
    "\n",
    "$$\n",
    "A_k = U[:, :k] \\Sigma [:k, :k] V^T[:k, :]\n",
    "$$\n",
    "  \n",
    "となる。ここで、$ [:, :k] $ は行列の最初から $ k $ 列目までを抽出することを意味する。\n",
    "\n",
    "この手順により、元の行列 $ A $ を特異値が大きい部分の情報のみを用いて近似することが可能である。これによって、次元削減やノイズの低減などの目的でデータをより効率的に表現することが可能になる。\n",
    "\n",
    "\n",
    "簡単にメリットとデメリットを書いておく。\n",
    "\n",
    "#### メリット\n",
    "\n",
    "1. 高次元データの次元削減が可能。\n",
    "2. 潜在特徴の抽出により、データの本質的な構造を把握できる。\n",
    "\n",
    "#### デメリット\n",
    "\n",
    "1. 特に大規模データセットの場合計算コストが高い。\n",
    "2. データの欠損値に対する耐性が低い。"
   ]
  },
  {
   "cell_type": "markdown",
   "metadata": {},
   "source": [
    "\n",
    "## 主成分分析(PCA)\n",
    "\n",
    "主成分分析は、データセットの分散を最大化するようにデータを直交座標系に変換する方法である。\n",
    "\n",
    "### 共分散行列の固有値分解を用いたPCA\n",
    "\n",
    "PCAは、データの行列$\\mathbf{X}$に対して、次のステップで実行される。\n",
    "\n",
    "1. データを示す行列$\\mathbf{X}$を列方向に対して平均が0になるように変形し、共分散行列$\\mathbf{C}$を計算する。\n",
    "\n",
    "$\\mathbf{X}_i$は$\\mathbf{X}$の$i$列目を表す。\n",
    "\n",
    "$$\n",
    "C_{i j}=\\mathrm{E}\\left[\\left(\\mathbf{X}_i - \\mu_i \\cdot \\mathbf{1} \\right)\\left(\\mathbf{X}_j-\\mu_j \\cdot \\mathbf{1} \\right)\\right]=\\mathrm{E}\\left(\\mathbf{X}_i \\mathbf{X}_j\\right)-\\mathrm{E}\\left(\\mathbf{X}_i\\right) \\mathrm{E}\\left(\\mathbf{X}_j\\right)\n",
    "$$\n",
    "\n",
    "ここで$\\mathbf{1}$は要素が1のベクトルである。\n",
    "\n",
    "$$\n",
    "\\mu_i=\\mathrm{E}\\left(\\mathbf{X}_i\\right)\n",
    "$$\n",
    "\n",
    "$\\mu_i$は$\\mathbf{X}_i$の平均値である。\n",
    "\n",
    "一般化すると、共分散行列は以下のように表される。\n",
    "\n",
    "$$\n",
    "\\mathbf{C}=\\mathrm{E}\\left[(\\mathbf{X}-\\mathrm{E}[\\mathbf{X}])^T(\\mathbf{X}-\\mathrm{E}[\\mathbf{X}])\\right]\n",
    "$$\n",
    "\n",
    "2. 共分散行列の固有値$\\lambda_i$と固有ベクトル$\\mathbf{v}_i$を計算する。\n",
    "\n",
    "3. 固有値が大きい順に固有ベクトルを選び、新しい直交基底とする。\n",
    "\n",
    "\n",
    "### レイリー商を用いたPCA\n",
    "\n",
    "上記の手法だと、分散を最大化するように直交座標系に変換するというイメージと結びつかないので、レイリー商を利用して、分散を最大化するように直交座標系に変換することを考える。\n",
    "\n",
    "具体的には、以下のような$\\mathbf{X}^T\\mathbf{X}$を対象としたレイリー商を最大化するようなベクトル$\\mathbf{v}$を求める。\n",
    "\n",
    "$$\n",
    "\\mathbf{v}_1=\\underset{\\mathbf{v} \\neq \\mathbf{0}}{\\arg \\max } \\frac{\\|\\|\\mathbf{X} \\mathbf{v}\\|\\|^2}{\\|\\|\\mathbf{v}\\|\\|^2} = \\underset{\\mathbf{v} \\neq \\mathbf{0}}{\\arg \\max } \\frac{\\mathbf{v}^T \\mathbf{X}^T \\mathbf{X} \\mathbf{v}}{\\mathbf{v}^T \\mathbf{v}} \n",
    "$$\n",
    "\n",
    "このように計算された$\\mathbf{v}_1$は、レイリー商の特性により$\\mathbf{X}^T\\mathbf{X}$の最大固有値に対応する固有ベクトルとなる。\n",
    "このことは以下のように確認することができる。\n",
    "\n",
    "$$\n",
    "\\left(\\mathbf{X} \\mathbf{v}_1\\right)^{T} \\cdot\\left(\\mathbf{X} \\mathbf{v}_1\\right) \n",
    " =\\mathbf{v}_1^{T} \\mathbf{X}^{T} \\mathbf{X} \\mathbf{v}_1 \n",
    " = \\mathbf{v}_1^{T} \\lambda_1 \\mathbf{v}_1 \n",
    " =\\lambda_1\\|\\|\\mathbf{v}_1\\|\\|^2 \n",
    "$$\n",
    "\n",
    "上記の式は、$\\mathbf{X}$を$\\mathbf{v}_1$に射影した後の分散を表している。この値は$\\mathbf{X}$の分散を最大化するような$\\mathbf{v}_1$を求めることに対応している。\n",
    "\n",
    "次に以下のように、$\\mathbf{X}$から$\\mathbf{v}_1$に射影したデータを引いた$\\mathbf{X}_2$を計算する。\n",
    "\n",
    "$$\n",
    "\\mathbf{X}_2=\\mathbf{X}-\\mathbf{X} \\mathbf{v}_1 \\mathbf{v}_1^{T}\n",
    "$$\n",
    "\n",
    "次に、$\\mathbf{v}_2$を求めるために、$\\mathbf{v}_1$に直交するようなベクトル$\\mathbf{v}_2$を求める。これは以下のように計算される。\n",
    "\n",
    "$$\n",
    "\\mathbf{v}_2=\\underset{\\mathbf{v} \\neq \\mathbf{0}}{\\arg \\max } \\frac{\\|\\|\\mathbf{X}_2 \\mathbf{v}\\|\\|^2}{\\|\\|\\mathbf{v}\\|\\|^2} = \\underset{\\mathbf{v} \\neq \\mathbf{0}}{\\arg \\max } \\frac{\\mathbf{v}^T \\mathbf{X}_2^T \\mathbf{X}_2 \\mathbf{v}}{\\mathbf{v}^T \\mathbf{v}}\n",
    "$$\n",
    "\n",
    "このように計算された$\\mathbf{v}_2$は、$\\mathbf{X}^T\\mathbf{X}$の2番目に大きい固有値に対応する固有ベクトルとなる。\n",
    "\n",
    "このようにして、上位$k$個の固有ベクトルを求めることで、データの分散を最大化するような直交座標系に変換することができる。\n",
    "\n",
    "\n",
    "\n",
    "\n",
    "### PCAの計算例\n",
    "\n",
    "次に、PythonでPCAを実装する。\n",
    "適当なデータセットを用意し、PCAを実行する。主成分数は2とする。\n",
    "\n",
    "最初にscikit-learnのPCAを使って、手書き数字データセットをPCAで次元削減する例を示す。\n",
    "\n"
   ]
  },
  {
   "cell_type": "code",
   "execution_count": 7,
   "metadata": {},
   "outputs": [
    {
     "name": "stdout",
     "output_type": "stream",
     "text": [
      "PCA後のデータ:\n",
      "array([[ 1.26,  3.03],\n",
      "       [-1.85,  1.19],\n",
      "       [ 4.98, -2.15],\n",
      "       [-4.38, -2.08]])\n"
     ]
    }
   ],
   "source": [
    "from sklearn.decomposition import PCA\n",
    "\n",
    "\n",
    "# サンプルデータ行列\n",
    "X = np.array([[1, 2, 1, 4, 2], [2, 5, 4, 2, 1], [2, 1, -1, -2, 3], [4, 8, 1, 2, -1]])\n",
    "\n",
    "# 主成分数\n",
    "k = 2\n",
    "\n",
    "pca = PCA(n_components=k)\n",
    "result = pca.fit_transform(X)\n",
    "\n",
    "print(\"PCA後のデータ:\")\n",
    "pprint(result.round(2))"
   ]
  },
  {
   "cell_type": "markdown",
   "metadata": {},
   "source": [
    "次にsikit-learnのPCAを使わずに、上記の手法でPCAを実装する。"
   ]
  },
  {
   "cell_type": "code",
   "execution_count": 8,
   "metadata": {},
   "outputs": [
    {
     "name": "stdout",
     "output_type": "stream",
     "text": [
      "PCA後のデータ:\n",
      "array([[ 1.26, -3.03],\n",
      "       [-1.85, -1.19],\n",
      "       [ 4.98,  2.15],\n",
      "       [-4.38,  2.08]])\n"
     ]
    }
   ],
   "source": [
    "# サンプルデータ行列\n",
    "X = np.array([[1, 2, 1, 4, 2], [2, 5, 4, 2, 1], [2, 1, -1, -2, 3], [4, 8, 1, 2, -1]])\n",
    "\n",
    "# 観測値から平均を引いたデータを作成\n",
    "C = X - np.mean(X, axis=0)\n",
    "\n",
    "# 共分散行列の計算\n",
    "cov = np.cov(C.T)\n",
    "\n",
    "# 共分散行列の固有値と固有ベクトルの計算\n",
    "vals, vecs = np.linalg.eig(cov)\n",
    "\n",
    "# 固有値を降順にソートし、そのインデックスを取得\n",
    "idx = np.argsort(vals)[::-1]\n",
    "sorted_vals = vals[idx]\n",
    "\n",
    "# 上位2つの固有値に対応する固有ベクトルを取得\n",
    "top_vecs = vecs[:, idx[:2]]\n",
    "\n",
    "# データを主成分に射影\n",
    "PC = C.dot(top_vecs)\n",
    "\n",
    "print(\"PCA後のデータ:\")\n",
    "pprint(PC.real.round(2))"
   ]
  },
  {
   "cell_type": "markdown",
   "metadata": {},
   "source": [
    "上記の二つの結果は第2列の符号を除き一致する事が確認できた。"
   ]
  },
  {
   "cell_type": "markdown",
   "metadata": {},
   "source": [
    "### PCAの利用例：推薦システム\n",
    "\n",
    "PCAはデータの次元削減に利用され、推薦システムにおいても有効である。例えば、ユーザー評価行列の次元を削減し、計算コストを削減しつつも高い精度の推薦を実現できる。\n",
    "\n",
    "#### メリット\n",
    "\n",
    "1. データの次元削減により、計算コストを削減できる。\n",
    "2. データの分散を最大化するため、情報の損失が少ない。\n",
    "\n",
    "#### デメリット\n",
    "\n",
    "1. 線形変換に基づくため、非線形な関係を捉えるのが難しい。\n",
    "2. 次元削減の過程で重要な情報が失われる可能性がある。\n"
   ]
  },
  {
   "cell_type": "markdown",
   "metadata": {},
   "source": [
    "# 結論\n",
    "\n",
    "本記事では、特異値分解と主成分分析についてPythonの実装を交えつつ解説した。\n",
    "\n",
    "特異値分解と主成分分析は、データの次元削減や特徴抽出において非常に有効な技術である。特異値分解は推薦システムにおいて、ユーザーとアイテムの潜在特徴を抽出し、高精度な推薦を実現する。一方、主成分分析はデータの分散を最大化することで、重要な特徴を抽出し、計算コストを削減する。両者ともにメリットとデメリットが存在するため、利用目的に応じて適切な手法を選択することが重要である。"
   ]
  }
 ],
 "metadata": {
  "kernelspec": {
   "display_name": "Python 3",
   "language": "python",
   "name": "python3"
  },
  "language_info": {
   "codemirror_mode": {
    "name": "ipython",
    "version": 3
   },
   "file_extension": ".py",
   "mimetype": "text/x-python",
   "name": "python",
   "nbconvert_exporter": "python",
   "pygments_lexer": "ipython3",
   "version": "3.9.17"
  },
  "widgets": {
   "state": {},
   "version": "1.1.2"
  }
 },
 "nbformat": 4,
 "nbformat_minor": 2
}
