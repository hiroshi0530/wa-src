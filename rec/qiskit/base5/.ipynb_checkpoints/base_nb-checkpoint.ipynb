{
 "cells": [
  {
   "cell_type": "markdown",
   "metadata": {},
   "source": [
    "## 量子フーリエ変換\n",
    "\n",
    "qiskitを利用して、量子アルゴリズムについて自分なりに勉強していこうと思います。\n",
    "個人的な勉強の記録なので、説明などを大幅に省いている可能性があります。\n",
    "\n",
    "qiskitのウェブサイト通りに勉強を進めています。\n",
    "\n",
    "- https://qiskit.org/textbook/ja/ch-algorithms/quantum-fourier-transform.html\n",
    "\n",
    "量子フーリエ変換になります。\n",
    "量子フーリエ変換になります。\n",
    "\n",
    "### github\n",
    "- jupyter notebook形式のファイルは[こちら](https://github.com/hiroshi0530/wa-src/blob/master/rec/qiskit/base5/base_nb.ipynb)\n",
    "\n",
    "### google colaboratory\n",
    "- google colaboratory で実行する場合は[こちら](https://colab.research.google.com/github/hiroshi0530/wa-src/blob/master/rec/qiskit/base5/base_nb.ipynb)\n",
    "\n",
    "### 筆者の環境"
   ]
  },
  {
   "cell_type": "code",
   "execution_count": 36,
   "metadata": {},
   "outputs": [
    {
     "name": "stdout",
     "output_type": "stream",
     "text": [
      "ProductName:\tMac OS X\r\n",
      "ProductVersion:\t10.14.6\r\n",
      "BuildVersion:\t18G103\r\n"
     ]
    }
   ],
   "source": [
    "!sw_vers"
   ]
  },
  {
   "cell_type": "code",
   "execution_count": 37,
   "metadata": {},
   "outputs": [
    {
     "name": "stdout",
     "output_type": "stream",
     "text": [
      "Python 3.8.5\r\n"
     ]
    }
   ],
   "source": [
    "!python -V"
   ]
  },
  {
   "cell_type": "markdown",
   "metadata": {},
   "source": [
    "基本的なライブラリをインポートしそのバージョンを確認しておきます。"
   ]
  },
  {
   "cell_type": "code",
   "execution_count": 3,
   "metadata": {},
   "outputs": [
    {
     "name": "stdout",
     "output_type": "stream",
     "text": [
      "matplotlib version : 3.3.2\n",
      "scipy version : 1.5.2\n",
      "numpy version : 1.19.2\n",
      "pandas version : 1.1.3\n"
     ]
    }
   ],
   "source": [
    "%matplotlib inline\n",
    "%config InlineBackend.figure_format = 'svg'\n",
    "\n",
    "import matplotlib\n",
    "import matplotlib.pyplot as plt\n",
    "import scipy\n",
    "import numpy as np\n",
    "import pandas as pd\n",
    "\n",
    "print('matplotlib version :', matplotlib.__version__)\n",
    "print('scipy version :', scipy.__version__)\n",
    "print('numpy version :', np.__version__)\n",
    "print('pandas version :', pd.__version__)"
   ]
  },
  {
   "cell_type": "code",
   "execution_count": 4,
   "metadata": {},
   "outputs": [
    {
     "data": {
      "text/plain": [
       "{'qiskit-terra': '0.17.4',\n",
       " 'qiskit-aer': '0.8.2',\n",
       " 'qiskit-ignis': '0.6.0',\n",
       " 'qiskit-ibmq-provider': '0.13.1',\n",
       " 'qiskit-aqua': '0.9.1',\n",
       " 'qiskit': '0.26.2',\n",
       " 'qiskit-nature': None,\n",
       " 'qiskit-finance': None,\n",
       " 'qiskit-optimization': None,\n",
       " 'qiskit-machine-learning': None}"
      ]
     },
     "execution_count": 4,
     "metadata": {},
     "output_type": "execute_result"
    }
   ],
   "source": [
    "import qiskit\n",
    "import json\n",
    "\n",
    "dict(qiskit.__qiskit_version__)"
   ]
  },
  {
   "cell_type": "code",
   "execution_count": 5,
   "metadata": {},
   "outputs": [],
   "source": [
    "from qiskit import IBMQ, Aer, execute\n",
    "from qiskit.providers.ibmq import least_busy\n",
    "from qiskit import QuantumCircuit, assemble, transpile\n",
    "\n",
    "from qiskit.visualization import plot_histogram\n",
    "from qiskit_textbook.tools import array_to_latex"
   ]
  },
  {
   "cell_type": "code",
   "execution_count": null,
   "metadata": {},
   "outputs": [],
   "source": [
    "sss"
   ]
  },
  {
   "cell_type": "markdown",
   "metadata": {},
   "source": [
    "通常のフーリエ変換は以下の様に\n",
    "\n",
    "$$\n",
    "y_{k}=\\frac{1}{\\sqrt{2^{n}}} \\sum_{j=0}^{2^{n}-1} x_{j} \\exp \\left(i \\frac{2 \\pi k j}{2^{n}}\\right)\n",
    "$$"
   ]
  },
  {
   "cell_type": "markdown",
   "metadata": {},
   "source": [
    "$$\n",
    "|\\boldsymbol{x}\\rangle \\stackrel{\\mathrm{QFT}}{\\longrightarrow}|\\boldsymbol{y}\\rangle\n",
    "$$\n",
    "\n",
    "$$\n",
    "W_{k j}:=w^{k j}=\\exp \\left(i \\frac{2 \\pi}{2^{n}}\\right)^{k j}\n",
    "$$"
   ]
  },
  {
   "cell_type": "markdown",
   "metadata": {},
   "source": [
    "$$\n",
    "|\\boldsymbol{x}\\rangle=\\sum_{j=0}^{2^{n}-1} x_{j}|j\\rangle \n",
    "$$\n",
    "\n",
    "$$\n",
    "|\\boldsymbol{y}\\rangle=\\sum_{k=0}^{2^{n}-1} y_{k}|k\\rangle\n",
    "$$"
   ]
  },
  {
   "cell_type": "markdown",
   "metadata": {},
   "source": [
    "基底の変換。\n",
    "\n",
    "$$\n",
    "W^{\\dagger} W=W W^{\\dagger}=I\n",
    "$$\n",
    "\n",
    "が成立するのでユニタリ変換。"
   ]
  },
  {
   "cell_type": "code",
   "execution_count": null,
   "metadata": {},
   "outputs": [],
   "source": []
  },
  {
   "cell_type": "code",
   "execution_count": null,
   "metadata": {},
   "outputs": [],
   "source": []
  },
  {
   "cell_type": "code",
   "execution_count": null,
   "metadata": {},
   "outputs": [],
   "source": []
  },
  {
   "cell_type": "markdown",
   "metadata": {},
   "source": [
    "## 問題設定\n",
    "\n",
    "問題としては、関数$f(x)$が、1：1の関数なのか、2：1の関数なのかを判定する事です。1：1の関数とは、$y=x$のような、単純な全単射関数を考えれば良いと思います。\n",
    "\n",
    "$$\n",
    "\\begin{aligned}\n",
    "&|00\\rangle \\stackrel{f}{\\longrightarrow}| 00\\rangle \\\\\n",
    "&|01\\rangle \\stackrel{f}{\\longrightarrow}| 01\\rangle \\\\\n",
    "&|10\\rangle \\stackrel{f}{\\longrightarrow}| 10\\rangle \\\\\n",
    "&|11\\rangle \\stackrel{f}{\\longrightarrow}| 11\\rangle \n",
    "\\end{aligned}\n",
    "$$\n",
    "\n",
    "2：1の関数というのは、以下の様に、NビットからN-1ビットへの関数になります。二つの入力値が一つの出力値に相当していて、2：1なので、ビット数が1つ減少することになります。\n",
    "\n",
    "$$\n",
    "f:\\lbrace 0,1 \\rbrace^{n} \\rightarrow \\lbrace 0,1 \\rbrace^{n-1}\n",
    "$$\n",
    "$$\n",
    "x \\in\\{0,1\\}^{n}\n",
    "$$\n",
    "\n",
    "2ビットでの具体的例は以下の通りです。\n",
    "\n",
    "$$\n",
    "\\begin{aligned}\n",
    "&|00>\\stackrel{f}{\\longrightarrow}| 0\\rangle \\\\\n",
    "&|01>\\stackrel{f}{\\longrightarrow}| 1\\rangle \\\\\n",
    "&|10>\\stackrel{f}{\\longrightarrow}| 1\\rangle \\\\\n",
    "&|11>\\stackrel{f}{\\longrightarrow}| 0\\rangle \n",
    "\\end{aligned}\n",
    "$$\n",
    "\n",
    "![svg](base_nb_files_local/qiskit-2_1.svg)\n",
    "\n",
    "2：1の関数なので、あるNビット配列$a (a\\ne |00\\cdots\\rangle)$が存在して、\n",
    "\n",
    "$$\n",
    "f(x \\oplus a)=f(x)\n",
    "$$\n",
    "\n",
    "が成立します。"
   ]
  },
  {
   "cell_type": "markdown",
   "metadata": {},
   "source": []
  },
  {
   "cell_type": "code",
   "execution_count": null,
   "metadata": {},
   "outputs": [],
   "source": []
  }
 ],
 "metadata": {
  "kernelspec": {
   "display_name": "Python 3",
   "language": "python",
   "name": "python3"
  },
  "language_info": {
   "codemirror_mode": {
    "name": "ipython",
    "version": 3
   },
   "file_extension": ".py",
   "mimetype": "text/x-python",
   "name": "python",
   "nbconvert_exporter": "python",
   "pygments_lexer": "ipython3",
   "version": "3.8.5"
  },
  "widgets": {
   "state": {},
   "version": "1.1.2"
  }
 },
 "nbformat": 4,
 "nbformat_minor": 2
}
