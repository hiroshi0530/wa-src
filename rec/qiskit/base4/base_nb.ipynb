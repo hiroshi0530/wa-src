{
 "cells": [
  {
   "cell_type": "markdown",
   "metadata": {},
   "source": [
    "## サイモンのアルゴリズム\n",
    "\n",
    "qiskitを利用して、量子アルゴリズムについて自分なりに勉強していこうと思います。\n",
    "個人的な勉強の記録なので、説明などを大幅に省いている可能性があります。\n",
    "\n",
    "qiskitのウェブサイト通りに勉強を進めています。\n",
    "\n",
    "- https://qiskit.org/textbook/ja/ch-algorithms/simon.html\n",
    "\n",
    "今回は、サイモンのアルゴリズムを数式を追って理解を深めようと思います。\n",
    "\n",
    "ドイチェ-ジョサの問題設定は、関数$f(x)$が、定数型か分布型のどちらか判別するいう事でしたが、サイモンのアルゴリズムの問題設定は、1:1関数か、2:1の関数かのどちらかを判定するという違いです。その違いを判別し、さらに、2:1の関数の周期を求める事になります。\n",
    "\n",
    "### github\n",
    "- jupyter notebook形式のファイルは[こちら](https://github.com/hiroshi0530/wa-src/blob/master/rec/qiskit/base3/base_nb.ipynb)\n",
    "\n",
    "### google colaboratory\n",
    "- google colaboratory で実行する場合は[こちら](https://colab.research.google.com/github/hiroshi0530/wa-src/blob/master/rec/qiskit/base3/base_nb.ipynb)\n",
    "\n",
    "### 筆者の環境"
   ]
  },
  {
   "cell_type": "code",
   "execution_count": 36,
   "metadata": {},
   "outputs": [
    {
     "name": "stdout",
     "output_type": "stream",
     "text": [
      "ProductName:\tMac OS X\r\n",
      "ProductVersion:\t10.14.6\r\n",
      "BuildVersion:\t18G103\r\n"
     ]
    }
   ],
   "source": [
    "!sw_vers"
   ]
  },
  {
   "cell_type": "code",
   "execution_count": 37,
   "metadata": {},
   "outputs": [
    {
     "name": "stdout",
     "output_type": "stream",
     "text": [
      "Python 3.8.5\r\n"
     ]
    }
   ],
   "source": [
    "!python -V"
   ]
  },
  {
   "cell_type": "markdown",
   "metadata": {},
   "source": [
    "基本的なライブラリをインポートしそのバージョンを確認しておきます。"
   ]
  },
  {
   "cell_type": "code",
   "execution_count": 3,
   "metadata": {},
   "outputs": [
    {
     "name": "stdout",
     "output_type": "stream",
     "text": [
      "matplotlib version : 3.3.2\n",
      "scipy version : 1.5.2\n",
      "numpy version : 1.19.2\n",
      "pandas version : 1.1.3\n"
     ]
    }
   ],
   "source": [
    "%matplotlib inline\n",
    "%config InlineBackend.figure_format = 'svg'\n",
    "\n",
    "import matplotlib\n",
    "import matplotlib.pyplot as plt\n",
    "import scipy\n",
    "import numpy as np\n",
    "import pandas as pd\n",
    "\n",
    "print('matplotlib version :', matplotlib.__version__)\n",
    "print('scipy version :', scipy.__version__)\n",
    "print('numpy version :', np.__version__)\n",
    "print('pandas version :', pd.__version__)"
   ]
  },
  {
   "cell_type": "code",
   "execution_count": 4,
   "metadata": {},
   "outputs": [
    {
     "data": {
      "text/plain": [
       "{'qiskit-terra': '0.17.4',\n",
       " 'qiskit-aer': '0.8.2',\n",
       " 'qiskit-ignis': '0.6.0',\n",
       " 'qiskit-ibmq-provider': '0.13.1',\n",
       " 'qiskit-aqua': '0.9.1',\n",
       " 'qiskit': '0.26.2',\n",
       " 'qiskit-nature': None,\n",
       " 'qiskit-finance': None,\n",
       " 'qiskit-optimization': None,\n",
       " 'qiskit-machine-learning': None}"
      ]
     },
     "execution_count": 4,
     "metadata": {},
     "output_type": "execute_result"
    }
   ],
   "source": [
    "import qiskit\n",
    "import json\n",
    "\n",
    "dict(qiskit.__qiskit_version__)"
   ]
  },
  {
   "cell_type": "code",
   "execution_count": 5,
   "metadata": {},
   "outputs": [],
   "source": [
    "from qiskit import IBMQ, Aer, execute\n",
    "from qiskit.providers.ibmq import least_busy\n",
    "from qiskit import QuantumCircuit, assemble, transpile\n",
    "\n",
    "from qiskit.visualization import plot_histogram\n",
    "from qiskit_textbook.tools import array_to_latex"
   ]
  },
  {
   "cell_type": "markdown",
   "metadata": {},
   "source": [
    "## 問題設定\n",
    "\n",
    "問題としては、関数$f(x)$が、1：1の関数なのか、2：1の関数なのかを判定する事です。1：1の関数とは、$y=x$のような、単純な全単射関数を考えれば良いと思います。\n",
    "\n",
    "$$\n",
    "\\begin{aligned}\n",
    "&|00\\rangle \\stackrel{f}{\\longrightarrow}| 00\\rangle \\\\\n",
    "&|01\\rangle \\stackrel{f}{\\longrightarrow}| 01\\rangle \\\\\n",
    "&|10\\rangle \\stackrel{f}{\\longrightarrow}| 10\\rangle \\\\\n",
    "&|11\\rangle \\stackrel{f}{\\longrightarrow}| 11\\rangle \n",
    "\\end{aligned}\n",
    "$$\n",
    "\n",
    "2：1の関数というのは、以下の様に、NビットからN-1ビットへの関数になります。二つの入力値が一つの出力値に相当していて、2：1なので、ビット数が1つ減少することになります。\n",
    "\n",
    "$$\n",
    "f:\\lbrace 0,1 \\rbrace^{n} \\rightarrow \\lbrace 0,1 \\rbrace^{n-1}\n",
    "$$\n",
    "$$\n",
    "x \\in\\{0,1\\}^{n}\n",
    "$$\n",
    "\n",
    "2ビットでの具体的例は以下の通りです。\n",
    "\n",
    "$$\n",
    "\\begin{aligned}\n",
    "&|00>\\stackrel{f}{\\longrightarrow}| 0\\rangle \\\\\n",
    "&|01>\\stackrel{f}{\\longrightarrow}| 1\\rangle \\\\\n",
    "&|10>\\stackrel{f}{\\longrightarrow}| 1\\rangle \\\\\n",
    "&|11>\\stackrel{f}{\\longrightarrow}| 0\\rangle \n",
    "\\end{aligned}\n",
    "$$\n",
    "\n",
    "![svg](base_nb_files_local/qiskit-2_1.svg)\n",
    "\n",
    "2：1の関数なので、あるNビット配列$a (a\\ne |00\\cdots\\rangle)$が存在して、\n",
    "\n",
    "$$\n",
    "f(x \\oplus a)=f(x)\n",
    "$$\n",
    "\n",
    "が成立します。"
   ]
  },
  {
   "cell_type": "markdown",
   "metadata": {},
   "source": [
    "どちらの関数を見極めるには、最大で、$2^{n-1}+1$回の関数の実行が必要です。運良く、異なる入力に対して、同じ出力が2回連続で出た場合は、2対1型の関数だと分かります。\n",
    "\n",
    "古典コンピューター上で、回数の下限が$\\Omega\\left(2^{n / 2}\\right)$となるアルゴリズムが知られているようですが、それでも$n$に対して指数関数的に増加します。"
   ]
  },
  {
   "cell_type": "markdown",
   "metadata": {},
   "source": [
    "## 1. 二つのn量子ビットの入力レジスタンスを0に初期化\n",
    "\n",
    "$$\n",
    "\\left|\\psi_{1}\\right\\rangle=|0\\rangle^{\\otimes n}|0\\rangle^{\\otimes n}\n",
    "$$\n",
    "\n",
    "## 2. 一つ目もレジスタにアダマールゲートを適用\n",
    "\n",
    "$$\n",
    "\\left|\\psi_{2}\\right\\rangle=\\frac{1}{\\sqrt{2^{n}}} \\sum_{x \\in\\{0,1\\}^{n}}|x\\rangle|0\\rangle^{\\otimes n}\n",
    "$$\n",
    "\n",
    "$|0\\rangle^{\\otimes n} $の量子ビットへのアダマールゲートの適用は以下の様になりますが、上記と同等です。\n",
    "\n",
    "$$\n",
    "|0\\rangle^{\\otimes n} \\longmapsto \\frac{1}{\\sqrt{2}^{n}} \\sum_{k=0}^{2^n-1}|k\\rangle\n",
    "$$\n",
    "\n",
    "## 3. オラクルへの問い合わせ関数を実行\n",
    "\n",
    "$$\n",
    "\\left|\\psi_{3}\\right\\rangle=\\frac{1}{\\sqrt{2^{n}}} \\sum_{x \\in\\{0,1\\}^{n}}|x\\rangle|f(x)\\rangle\n",
    "$$\n",
    "\n",
    "量子オラクルは、二つ目のレジスタに関数$f(x)$の結果を格納します。上記のオラクルは以下のオラクルと同等です。\n",
    "\n",
    "$$\n",
    "\\begin{aligned}\n",
    "\\frac{1}{\\sqrt{2}^{n}} \\sum_{k=0}^{2^n-1}|k\\rangle \\otimes|0\\rangle \\longmapsto \\frac{1}{\\sqrt{2^{n}}} \\displaystyle \\sum_{k=0}^{2^n-1}|k\\rangle \\otimes|f(k)\\rangle \n",
    "\\end{aligned}\n",
    "$$\n",
    "\n",
    "## 4. 二つ目の量子レジスタを測定\n",
    "\n",
    "問題の設定から、関数$f(x)$の入力$x$は二つの量子ビットに対応づけることが出来ます。\n",
    "\n",
    "ある$x$と、その$x$と量子ビット$b$のXOR、$y=x \\oplus b$になります。$b=|00\\cdots 0\\rangle$であれば、1：1の関数で、0以外であれば、2：1の関数になります。この$x$と$y$を利用する事で、一つ目のレジスタの値は以下の様になります。\n",
    "\n",
    "$$\n",
    "\\left|\\psi_{4}\\right\\rangle=\\frac{1}{\\sqrt{2}}(|x\\rangle+|y\\rangle)\n",
    "$$"
   ]
  },
  {
   "cell_type": "markdown",
   "metadata": {},
   "source": [
    "### 対応表\n",
    "\n",
    "$x$と$y=x \\oplus b$の対応表は以下の様になります。$f(x)$は2：1の関数型となります。\n",
    "\n",
    "- $b=|11\\rangle$で$n=2$の場合\n",
    "\n",
    "$$\n",
    "\\begin{array}{|r|r|r|r|}\n",
    "\\hline \\mathrm{x} & \\mathrm{f}(\\mathrm{x}) & \\mathrm{y}(=\\mathrm{x} \\oplus \\mathrm{b}) & \\mathrm{x} \\cdot \\mathrm{b} (\\text{mod 2})\\\\\n",
    "\\hline 00 & 00 & 11 & 0 \\\\\n",
    "01 & 10 & 10 & 1 \\\\\n",
    "10 & 10 & 01 & 1 \\\\\n",
    "11 & 00 & 00 & 0 \\\\\n",
    "\\hline\n",
    "\\end{array}\n",
    "$$"
   ]
  },
  {
   "cell_type": "markdown",
   "metadata": {},
   "source": [
    "- $b=|110\\rangle$で$n=3$の場合\n",
    "\n",
    "$$\n",
    "\\begin{array}{|r|r|r|r|}\n",
    "\\hline \\mathrm{x} & \\mathrm{f}(\\mathrm{x}) & \\mathrm{y}(=\\mathrm{x} \\oplus \\mathrm{b}) & \\mathrm{x} \\cdot \\mathrm{b}(\\text{mod 2}) \\\\\n",
    "\\hline 000 & 000 & 110 & 0 \\\\\n",
    "001 & 001 & 111 & 0 \\\\\n",
    "010 & 100 & 100 & 1 \\\\\n",
    "011 & 101 & 101 & 1 \\\\\n",
    "100 & 100 & 010 & 1 \\\\\n",
    "101 & 101 & 011 & 1 \\\\\n",
    "110 & 000 & 000 & 0 \\\\\n",
    "111 & 001 & 001 & 0 \\\\\n",
    "\\hline\n",
    "\\end{array}\n",
    "$$\n"
   ]
  },
  {
   "cell_type": "markdown",
   "metadata": {},
   "source": [
    "## 5. 一つ目のレジスタにアダマールゲートを適用\n",
    "\n",
    "4. で得られた$|\\psi_4\\rangle$にアダマールゲートを適用すると以下の様になります。\n",
    "\n",
    "$$\n",
    "\\left|\\psi_{5}\\right\\rangle=\\frac{1}{\\sqrt{2^{n+1}}} \\sum_{z \\in\\{0,1\\}^{n}}\\left[(-1)^{x \\cdot z}+(-1)^{y-z}\\right]|z\\rangle\n",
    "$$\n",
    "\n",
    "### アダマールゲートに関する公式\n",
    "\n",
    "STEP5でさらっとアダマール変換後の式が出てきたので、復習を込めてなぜそうなるのか計算してみます。\n",
    "\n",
    "$$\n",
    "\\left|\\psi_{5}\\right\\rangle=\\frac{1}{\\sqrt{2^{n+1}}} \\sum_{z \\in\\lbrace0,1\\rbrace^{n}}\\left[(-1)^{x \\cdot z}+(-1)^{y \\cdot z}\\right]|z\\rangle\n",
    "$$\n",
    "\n",
    "$|b\\rangle$を二進数表記で以下の様に表現します。$b_{k} \\in\\lbrace0,1\\rbrace^{n}$です。\n",
    "\n",
    "$$\n",
    "|b\\rangle=\\left|b_{n} b_{n-1} \\cdots b_{1} b_{0}\\right\\rangle\n",
    "$$\n",
    "\n",
    "この$|b\\rangle$に対して、アダマールゲートを適用します。"
   ]
  },
  {
   "cell_type": "markdown",
   "metadata": {},
   "source": [
    "$$\n",
    "\\begin{aligned}\n",
    "H^{\\otimes n}|b\\rangle&=H^{\\otimes n}\\left|b_{n} b_{n-1} \\cdots b_1 \\right\\rangle \\\\\n",
    "&=\\frac{1}{\\sqrt{2^{n}}}\\left(|0\\rangle+(-1)^{b_n}|1\\rangle\\right)\\otimes\\left(|0\\rangle+(-1)^{b_{n-1}}|1\\rangle\\right)\\otimes \\cdots \\\\\n",
    "&=\\frac{1}{\\sqrt{2^{n}}}(\\mid 00 \\ldots 0\\rangle+(-1)^{b_{1}}|00 \\cdots 01\\rangle \\\\\n",
    "&\\qquad \\left.+(-1)^{b_{1}}|00 \\cdots 01 0\\right\\rangle \\left.+(-1)^{b_{2}+b_{1}}|00 \\cdots 011\\right\\rangle \\\\\n",
    "&\\qquad \\qquad \\cdots \\left.+(-1)^{b_{n}+b_{n-1}+\\cdots+b_{2}+b_{1}}|11 \\cdots 1)\\right\\rangle \\\\\n",
    "&=\\frac{1}{\\sqrt{2^{n}}} \\sum_{z \\in\\lbrace 0,1 \\rbrace^n }(-1)^{b_{n} z_{n}+b_{n-1} z_{n-1}+\\cdots+b_{1} z_{1}}|z\\rangle \\\\\n",
    "&=\\frac{1}{\\sqrt{2^{n}}} \\sum_{z \\in\\lbrace0,1\\rbrace^n}(-1)^{b \\cdot z}|z\\rangle\n",
    "\\end{aligned}\n",
    "$$\n",
    "\n",
    "この変化はqiskitの説明でもよく出てきますが、式を追いかけていく上で、慣れないと躓いてしまいます。"
   ]
  },
  {
   "cell_type": "markdown",
   "metadata": {},
   "source": [
    "## 6. 測定\n",
    "\n",
    "上記の$|\\psi_5\\rangle$を測定すると、$(-1)^{x \\cdot z}=(-1)^{y \\cdot z}$を満たす$z$のみが測定されます。それ以外の要素はすべて0です。\n",
    "\n",
    "$$\n",
    "\\begin{aligned}\n",
    "& x \\cdot z=y \\cdot z \\\\\n",
    "& x \\cdot z=(x \\oplus b) \\cdot z \\\\\n",
    "& x \\cdot z=x \\cdot z \\oplus b \\cdot z \\\\\n",
    "& b \\cdot z=0(\\bmod 2)\n",
    "\\end{aligned}\n",
    "$$\n",
    "\n",
    "よって$b$との内積が0となる$z$が測定されます。測定を複数回行うことで、以下の様な連立一次方程式を得ることができ、これを古典コンピューターを利用して解く事で量子ビット$b$を得ることが出来ます。"
   ]
  },
  {
   "cell_type": "markdown",
   "metadata": {},
   "source": [
    "$$\n",
    "\\begin{array}{c}\n",
    "b \\cdot z_{1}=0 \\\\\n",
    "b \\cdot z_{2}=0 \\\\\n",
    "\\vdots \\\\\n",
    "b \\cdot z_{n}=0\n",
    "\\end{array}\n",
    "$$"
   ]
  },
  {
   "cell_type": "markdown",
   "metadata": {},
   "source": [
    "この連立一次方程式を解けば、$b$が特定され、もし、$b=|00 \\cdots 0\\rangle$であれば、1：1の関数であり、そうでなければ、2：1の関数という事になります。\n",
    "\n",
    "本来ならば、指数関数的な計算量が必要なのですが、おおよそ$n$回の測定と連立一次方程式を解く事によって問題の答えを見つけることが出来ます。"
   ]
  },
  {
   "cell_type": "markdown",
   "metadata": {},
   "source": [
    "## 位相キックバックの復習\n",
    "\n",
    "位相キックバックのメモ。ターゲットビットの作用させるユニタリ行列を$U$、その固有値を$e^{i \\phi}$とすると、コントールビットの$|1\\rangle$の係数にその固有値が出現します。ターゲットビットにではなく、制御ビットの方にキックバックされると事だと思います。"
   ]
  },
  {
   "cell_type": "markdown",
   "metadata": {},
   "source": [
    "$$\n",
    "\\begin{aligned}\n",
    "&\\frac{1}{\\sqrt{2}}(|0\\rangle+|1\\rangle) \\otimes|\\psi\\rangle  \\\\\n",
    "& \\longrightarrow \\frac{1}{\\sqrt{2}}(|0\\rangle \\otimes|\\psi\\rangle+|1\\rangle \\otimes U|\\psi\\rangle) \\\\\n",
    "&=\\frac{1}{\\sqrt{2}}\\left(|0\\rangle \\otimes|\\psi\\rangle+e^{i \\phi}|1\\rangle \\otimes|\\psi\\rangle\\right) \\\\\n",
    "&=\\frac{1}{\\sqrt{2}}\\left(|0\\rangle+e^{i \\phi}|1\\rangle\\right) \\otimes|\\psi\\rangle\n",
    "\\end{aligned}\n",
    "$$\n",
    "\n",
    "###  qiskitでのユニタリ演算子をCNOTゲートにした例"
   ]
  },
  {
   "cell_type": "code",
   "execution_count": 9,
   "metadata": {},
   "outputs": [
    {
     "data": {
      "image/svg+xml": [
       "<?xml version=\"1.0\" encoding=\"utf-8\" standalone=\"no\"?>\n",
       "<!DOCTYPE svg PUBLIC \"-//W3C//DTD SVG 1.1//EN\"\n",
       "  \"http://www.w3.org/Graphics/SVG/1.1/DTD/svg11.dtd\">\n",
       "<!-- Created with matplotlib (https://matplotlib.org/) -->\n",
       "<svg height=\"123.4824pt\" version=\"1.1\" viewBox=\"0 0 170.573272 123.4824\" width=\"170.573272pt\" xmlns=\"http://www.w3.org/2000/svg\" xmlns:xlink=\"http://www.w3.org/1999/xlink\">\n",
       " <metadata>\n",
       "  <rdf:RDF xmlns:cc=\"http://creativecommons.org/ns#\" xmlns:dc=\"http://purl.org/dc/elements/1.1/\" xmlns:rdf=\"http://www.w3.org/1999/02/22-rdf-syntax-ns#\">\n",
       "   <cc:Work>\n",
       "    <dc:type rdf:resource=\"http://purl.org/dc/dcmitype/StillImage\"/>\n",
       "    <dc:date>2021-08-25T00:31:09.138850</dc:date>\n",
       "    <dc:format>image/svg+xml</dc:format>\n",
       "    <dc:creator>\n",
       "     <cc:Agent>\n",
       "      <dc:title>Matplotlib v3.3.2, https://matplotlib.org/</dc:title>\n",
       "     </cc:Agent>\n",
       "    </dc:creator>\n",
       "   </cc:Work>\n",
       "  </rdf:RDF>\n",
       " </metadata>\n",
       " <defs>\n",
       "  <style type=\"text/css\">*{stroke-linecap:butt;stroke-linejoin:round;}</style>\n",
       " </defs>\n",
       " <g id=\"figure_1\">\n",
       "  <g id=\"patch_1\">\n",
       "   <path d=\"M 0 123.4824 \n",
       "L 170.573272 123.4824 \n",
       "L 170.573272 0 \n",
       "L 0 0 \n",
       "z\n",
       "\" style=\"fill:#ffffff;\"/>\n",
       "  </g>\n",
       "  <g id=\"axes_1\">\n",
       "   <g id=\"line2d_1\">\n",
       "    <path clip-path=\"url(#p3f78c05272)\" d=\"M 63.381072 43.5608 \n",
       "L 158.828172 43.5608 \n",
       "\" style=\"fill:none;stroke:#000000;stroke-linecap:square;stroke-width:2;\"/>\n",
       "   </g>\n",
       "   <g id=\"line2d_2\">\n",
       "    <path clip-path=\"url(#p3f78c05272)\" d=\"M 63.381072 89.0118 \n",
       "L 158.828172 89.0118 \n",
       "\" style=\"fill:none;stroke:#000000;stroke-linecap:square;stroke-width:2;\"/>\n",
       "   </g>\n",
       "   <g id=\"line2d_3\">\n",
       "    <path clip-path=\"url(#p3f78c05272)\" d=\"M 133.375612 89.0118 \n",
       "L 133.375612 43.5608 \n",
       "\" style=\"fill:none;stroke:#6fa4ff;stroke-linecap:square;stroke-width:2;\"/>\n",
       "   </g>\n",
       "   <g id=\"patch_2\">\n",
       "    <path clip-path=\"url(#p3f78c05272)\" d=\"M 73.153037 58.332375 \n",
       "L 102.696187 58.332375 \n",
       "L 102.696187 28.789225 \n",
       "L 73.153037 28.789225 \n",
       "z\n",
       "\" style=\"fill:#6fa4ff;stroke:#6fa4ff;stroke-linejoin:miter;stroke-width:1.5;\"/>\n",
       "   </g>\n",
       "   <g id=\"patch_3\">\n",
       "    <path clip-path=\"url(#p3f78c05272)\" d=\"M 133.375612 47.992273 \n",
       "C 134.550852 47.992273 135.678116 47.525345 136.509136 46.694324 \n",
       "C 137.340157 45.863304 137.807085 44.73604 137.807085 43.5608 \n",
       "C 137.807085 42.38556 137.340157 41.258296 136.509136 40.427276 \n",
       "C 135.678116 39.596255 134.550852 39.129328 133.375612 39.129328 \n",
       "C 132.200372 39.129328 131.073108 39.596255 130.242088 40.427276 \n",
       "C 129.411067 41.258296 128.94414 42.38556 128.94414 43.5608 \n",
       "C 128.94414 44.73604 129.411067 45.863304 130.242088 46.694324 \n",
       "C 131.073108 47.525345 132.200372 47.992273 133.375612 47.992273 \n",
       "z\n",
       "\" style=\"fill:#6fa4ff;stroke:#6fa4ff;stroke-linejoin:miter;stroke-width:1.5;\"/>\n",
       "   </g>\n",
       "   <g id=\"patch_4\">\n",
       "    <path clip-path=\"url(#p3f78c05272)\" d=\"M 133.375612 99.351903 \n",
       "C 136.117839 99.351903 138.748121 98.262404 140.687169 96.323357 \n",
       "C 142.626216 94.384309 143.715715 91.754027 143.715715 89.0118 \n",
       "C 143.715715 86.269573 142.626216 83.639291 140.687169 81.700243 \n",
       "C 138.748121 79.761196 136.117839 78.671698 133.375612 78.671698 \n",
       "C 130.633385 78.671698 128.003103 79.761196 126.064055 81.700243 \n",
       "C 124.125008 83.639291 123.03551 86.269573 123.03551 89.0118 \n",
       "C 123.03551 91.754027 124.125008 94.384309 126.064055 96.323357 \n",
       "C 128.003103 98.262404 130.633385 99.351903 133.375612 99.351903 \n",
       "z\n",
       "\" style=\"fill:#6fa4ff;stroke:#6fa4ff;stroke-linejoin:miter;stroke-width:2;\"/>\n",
       "   </g>\n",
       "   <g id=\"line2d_4\">\n",
       "    <path clip-path=\"url(#p3f78c05272)\" d=\"M 133.375612 94.92043 \n",
       "L 133.375612 83.10317 \n",
       "\" style=\"fill:none;stroke:#ffffff;stroke-linecap:square;stroke-width:2;\"/>\n",
       "   </g>\n",
       "   <g id=\"line2d_5\">\n",
       "    <path clip-path=\"url(#p3f78c05272)\" d=\"M 127.466982 89.0118 \n",
       "L 139.284242 89.0118 \n",
       "\" style=\"fill:none;stroke:#ffffff;stroke-linecap:square;stroke-width:2;\"/>\n",
       "   </g>\n",
       "   <g id=\"text_1\">\n",
       "    <g clip-path=\"url(#p3f78c05272)\">\n",
       "     <!-- H -->\n",
       "     <g transform=\"translate(83.036409 47.147988)scale(0.13 -0.13)\">\n",
       "      <defs>\n",
       "       <path d=\"M 9.8125 72.90625 \n",
       "L 19.671875 72.90625 \n",
       "L 19.671875 43.015625 \n",
       "L 55.515625 43.015625 \n",
       "L 55.515625 72.90625 \n",
       "L 65.375 72.90625 \n",
       "L 65.375 0 \n",
       "L 55.515625 0 \n",
       "L 55.515625 34.71875 \n",
       "L 19.671875 34.71875 \n",
       "L 19.671875 0 \n",
       "L 9.8125 0 \n",
       "z\n",
       "\" id=\"DejaVuSans-72\"/>\n",
       "      </defs>\n",
       "      <use xlink:href=\"#DejaVuSans-72\"/>\n",
       "     </g>\n",
       "    </g>\n",
       "   </g>\n",
       "   <g id=\"text_2\">\n",
       "    <g clip-path=\"url(#p3f78c05272)\">\n",
       "     <!-- ${q}_{0}$ -->\n",
       "     <g transform=\"translate(36.253372 48.011777)scale(0.1625 -0.1625)\">\n",
       "      <defs>\n",
       "       <path d=\"M 41.703125 8.203125 \n",
       "Q 38.09375 3.46875 33.171875 1.015625 \n",
       "Q 28.265625 -1.421875 22.3125 -1.421875 \n",
       "Q 14.015625 -1.421875 9.296875 4.171875 \n",
       "Q 4.59375 9.765625 4.59375 19.578125 \n",
       "Q 4.59375 27.484375 7.5 34.859375 \n",
       "Q 10.40625 42.234375 15.828125 48.09375 \n",
       "Q 19.34375 51.90625 23.90625 53.953125 \n",
       "Q 28.46875 56 33.5 56 \n",
       "Q 39.546875 56 43.453125 53.609375 \n",
       "Q 47.359375 51.21875 49.125 46.390625 \n",
       "L 50.6875 54.59375 \n",
       "L 59.71875 54.59375 \n",
       "L 45.125 -20.609375 \n",
       "L 36.078125 -20.609375 \n",
       "z\n",
       "M 13.921875 20.90625 \n",
       "Q 13.921875 13.671875 16.9375 9.890625 \n",
       "Q 19.96875 6.109375 25.6875 6.109375 \n",
       "Q 34.1875 6.109375 40.1875 14.234375 \n",
       "Q 46.1875 22.359375 46.1875 33.984375 \n",
       "Q 46.1875 41.015625 43.078125 44.75 \n",
       "Q 39.984375 48.484375 34.1875 48.484375 \n",
       "Q 29.9375 48.484375 26.3125 46.5 \n",
       "Q 22.703125 44.53125 20.015625 40.71875 \n",
       "Q 17.1875 36.71875 15.546875 31.34375 \n",
       "Q 13.921875 25.984375 13.921875 20.90625 \n",
       "z\n",
       "\" id=\"DejaVuSans-Oblique-113\"/>\n",
       "       <path d=\"M 31.78125 66.40625 \n",
       "Q 24.171875 66.40625 20.328125 58.90625 \n",
       "Q 16.5 51.421875 16.5 36.375 \n",
       "Q 16.5 21.390625 20.328125 13.890625 \n",
       "Q 24.171875 6.390625 31.78125 6.390625 \n",
       "Q 39.453125 6.390625 43.28125 13.890625 \n",
       "Q 47.125 21.390625 47.125 36.375 \n",
       "Q 47.125 51.421875 43.28125 58.90625 \n",
       "Q 39.453125 66.40625 31.78125 66.40625 \n",
       "z\n",
       "M 31.78125 74.21875 \n",
       "Q 44.046875 74.21875 50.515625 64.515625 \n",
       "Q 56.984375 54.828125 56.984375 36.375 \n",
       "Q 56.984375 17.96875 50.515625 8.265625 \n",
       "Q 44.046875 -1.421875 31.78125 -1.421875 \n",
       "Q 19.53125 -1.421875 13.0625 8.265625 \n",
       "Q 6.59375 17.96875 6.59375 36.375 \n",
       "Q 6.59375 54.828125 13.0625 64.515625 \n",
       "Q 19.53125 74.21875 31.78125 74.21875 \n",
       "z\n",
       "\" id=\"DejaVuSans-48\"/>\n",
       "      </defs>\n",
       "      <use xlink:href=\"#DejaVuSans-Oblique-113\"/>\n",
       "      <use transform=\"translate(63.476562 -16.40625)scale(0.7)\" xlink:href=\"#DejaVuSans-48\"/>\n",
       "     </g>\n",
       "    </g>\n",
       "   </g>\n",
       "   <g id=\"text_3\">\n",
       "    <g clip-path=\"url(#p3f78c05272)\">\n",
       "     <!-- ${q}_{1}$ -->\n",
       "     <g transform=\"translate(36.253372 93.462777)scale(0.1625 -0.1625)\">\n",
       "      <defs>\n",
       "       <path d=\"M 12.40625 8.296875 \n",
       "L 28.515625 8.296875 \n",
       "L 28.515625 63.921875 \n",
       "L 10.984375 60.40625 \n",
       "L 10.984375 69.390625 \n",
       "L 28.421875 72.90625 \n",
       "L 38.28125 72.90625 \n",
       "L 38.28125 8.296875 \n",
       "L 54.390625 8.296875 \n",
       "L 54.390625 0 \n",
       "L 12.40625 0 \n",
       "z\n",
       "\" id=\"DejaVuSans-49\"/>\n",
       "      </defs>\n",
       "      <use xlink:href=\"#DejaVuSans-Oblique-113\"/>\n",
       "      <use transform=\"translate(63.476562 -16.40625)scale(0.7)\" xlink:href=\"#DejaVuSans-49\"/>\n",
       "     </g>\n",
       "    </g>\n",
       "   </g>\n",
       "  </g>\n",
       " </g>\n",
       " <defs>\n",
       "  <clipPath id=\"p3f78c05272\">\n",
       "   <rect height=\"109.0824\" width=\"156.173272\" x=\"7.2\" y=\"7.2\"/>\n",
       "  </clipPath>\n",
       " </defs>\n",
       "</svg>\n"
      ],
      "text/plain": [
       "<Figure size 206.852x144.48 with 1 Axes>"
      ]
     },
     "execution_count": 9,
     "metadata": {},
     "output_type": "execute_result"
    }
   ],
   "source": [
    "\n",
    "qc = QuantumCircuit(2)\n",
    "qc.h(0)\n",
    "qc.cx(0,1)\n",
    "qc.draw('mpl')"
   ]
  },
  {
   "cell_type": "code",
   "execution_count": 10,
   "metadata": {},
   "outputs": [
    {
     "data": {
      "text/latex": [
       "$\\displaystyle \n",
       "\\\\text{Statevector} = \\begin{bmatrix}\n",
       "\\tfrac{1}{\\sqrt{2}} \\\\\n",
       "0 \\\\\n",
       "0 \\\\\n",
       "\\tfrac{1}{\\sqrt{2}}\n",
       "\\end{bmatrix}\n",
       "$"
      ],
      "text/plain": [
       "<IPython.core.display.Math object>"
      ]
     },
     "metadata": {},
     "output_type": "display_data"
    }
   ],
   "source": [
    "backend = Aer.get_backend('statevector_simulator')\n",
    "final_state = execute(qc,backend).result().get_statevector()\n",
    "array_to_latex(final_state, pretext=\"\\\\\\\\text{Statevector} = \")"
   ]
  },
  {
   "cell_type": "markdown",
   "metadata": {},
   "source": [
    "## CNOTゲートとXOR\n",
    "\n",
    "こちらもメモ程度ですが、CNOTゲートをはターゲットビットを制御ビットとターゲットビットのXORに置き換える事に相当します。忘れないようにしないと。\n",
    "\n",
    "$$\n",
    "|i j\\rangle \\stackrel{\\mathrm{CX}}{\\longrightarrow}|i(i \\mathrm{XOR} j)\\rangle\n",
    "$$"
   ]
  }
 ],
 "metadata": {
  "kernelspec": {
   "display_name": "Python 3",
   "language": "python",
   "name": "python3"
  },
  "language_info": {
   "codemirror_mode": {
    "name": "ipython",
    "version": 3
   },
   "file_extension": ".py",
   "mimetype": "text/x-python",
   "name": "python",
   "nbconvert_exporter": "python",
   "pygments_lexer": "ipython3",
   "version": "3.8.5"
  },
  "widgets": {
   "state": {},
   "version": "1.1.2"
  }
 },
 "nbformat": 4,
 "nbformat_minor": 2
}
