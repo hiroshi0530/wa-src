{
 "cells": [
  {
   "cell_type": "markdown",
   "metadata": {},
   "source": [
    "## サイモンアルゴリズム\n",
    "\n",
    "qiskitを利用して、量子アルゴリズムについて自分なりに勉強していこうと思います。\n",
    "個人的な勉強の記録なので、説明などを大幅に省いている可能性があります。\n",
    "\n",
    "qiskitのウェブサイト通りに勉強を進めています。\n",
    "\n",
    "- https://qiskit.org/textbook/ja/ch-algorithms/simon.html\n",
    "\n",
    "今回は、サイモンのアルゴリズムを数式を追って理解を深めようと思います。\n",
    "\n",
    "ドイチェ-ジョサの問題設定は、関数$f(x)$が、定数型か分布型のどちらか判別するいう事でしたが、サイモンのアルゴリズムの問題設定は、1:1関数か、2:1の関数かのどちらかを判定するという違いです。その違いを判別し、さらに、2:1の関数の周期を求める事になります。\n",
    "\n",
    "### github\n",
    "- jupyter notebook形式のファイルは[こちら](https://github.com/hiroshi0530/wa-src/blob/master/rec/qiskit/base3/base_nb.ipynb)\n",
    "\n",
    "### google colaboratory\n",
    "- google colaboratory で実行する場合は[こちら](https://colab.research.google.com/github/hiroshi0530/wa-src/blob/master/rec/qiskit/base3/base_nb.ipynb)\n",
    "\n",
    "### 筆者の環境"
   ]
  },
  {
   "cell_type": "code",
   "execution_count": 36,
   "metadata": {},
   "outputs": [
    {
     "name": "stdout",
     "output_type": "stream",
     "text": [
      "ProductName:\tMac OS X\r\n",
      "ProductVersion:\t10.14.6\r\n",
      "BuildVersion:\t18G103\r\n"
     ]
    }
   ],
   "source": [
    "!sw_vers"
   ]
  },
  {
   "cell_type": "code",
   "execution_count": 37,
   "metadata": {},
   "outputs": [
    {
     "name": "stdout",
     "output_type": "stream",
     "text": [
      "Python 3.8.5\r\n"
     ]
    }
   ],
   "source": [
    "!python -V"
   ]
  },
  {
   "cell_type": "markdown",
   "metadata": {},
   "source": [
    "基本的なライブラリをインポートしそのバージョンを確認しておきます。"
   ]
  },
  {
   "cell_type": "code",
   "execution_count": 18,
   "metadata": {},
   "outputs": [
    {
     "name": "stdout",
     "output_type": "stream",
     "text": [
      "matplotlib version : 3.3.2\n",
      "scipy version : 1.5.2\n",
      "numpy version : 1.19.2\n",
      "pandas version : 1.1.3\n"
     ]
    }
   ],
   "source": [
    "%matplotlib inline\n",
    "%config InlineBackend.figure_format = 'svg'\n",
    "\n",
    "import matplotlib\n",
    "import matplotlib.pyplot as plt\n",
    "import scipy\n",
    "import numpy as np\n",
    "import pandas as pd\n",
    "\n",
    "print('matplotlib version :', matplotlib.__version__)\n",
    "print('scipy version :', scipy.__version__)\n",
    "print('numpy version :', np.__version__)\n",
    "print('pandas version :', pd.__version__)"
   ]
  },
  {
   "cell_type": "code",
   "execution_count": 19,
   "metadata": {},
   "outputs": [
    {
     "data": {
      "text/plain": [
       "{'qiskit-terra': '0.17.4',\n",
       " 'qiskit-aer': '0.8.2',\n",
       " 'qiskit-ignis': '0.6.0',\n",
       " 'qiskit-ibmq-provider': '0.13.1',\n",
       " 'qiskit-aqua': '0.9.1',\n",
       " 'qiskit': '0.26.2',\n",
       " 'qiskit-nature': None,\n",
       " 'qiskit-finance': None,\n",
       " 'qiskit-optimization': None,\n",
       " 'qiskit-machine-learning': None}"
      ]
     },
     "execution_count": 19,
     "metadata": {},
     "output_type": "execute_result"
    }
   ],
   "source": [
    "import qiskit\n",
    "import json\n",
    "\n",
    "dict(qiskit.__qiskit_version__)"
   ]
  },
  {
   "cell_type": "code",
   "execution_count": 25,
   "metadata": {},
   "outputs": [],
   "source": [
    "from qiskit import IBMQ, Aer, execute\n",
    "from qiskit.providers.ibmq import least_busy\n",
    "from qiskit import QuantumCircuit, assemble, transpile\n",
    "\n",
    "from qiskit.visualization import plot_histogram\n",
    "from qiskit_textbook.tools import array_to_latex"
   ]
  },
  {
   "cell_type": "markdown",
   "metadata": {},
   "source": [
    "## 問題設定\n",
    "\n",
    "$$\n",
    "f:\\lbrace 0,1 \\rbrace^{n} \\rightarrow \\lbrace 0,1 \\rbrace^{n-1}\n",
    "$$\n",
    "\n",
    "$$\n",
    "x \\in\\{0,1\\}^{n}\n",
    "$$\n",
    "\n",
    "$$\n",
    "f(x \\oplus a)=f(x)\n",
    "$$"
   ]
  },
  {
   "cell_type": "markdown",
   "metadata": {},
   "source": [
    "どちらの関数を見極めるには、最大で、$2^{n-1}+1$回の関数の実行が必要です。運良く、異なる入力に対して、同じ出力が2回連続で出た場合は、2対1型の関数だと分かります。\n",
    "\n",
    "古典コンピューター上で、回数の下限が$\\Omega\\left(2^{n / 2}\\right)$となるアルゴリズムが知られているようですが、それでも$n$に対して指数関数的に増加します。"
   ]
  },
  {
   "cell_type": "code",
   "execution_count": null,
   "metadata": {},
   "outputs": [],
   "source": []
  },
  {
   "cell_type": "markdown",
   "metadata": {},
   "source": [
    "$$\n",
    "\\left(\\begin{array}{ll}\n",
    "\\cos (\\theta / 2) & -\\mathrm{ie}^{-i \\varphi} \\sin (\\theta / 2) \\\\\n",
    "-\\mathrm{i} e^{i \\varphi} \\sin (\\theta / 2) & \\cos (\\theta / 2)\n",
    "\\end{array}\\right)\n",
    "$$\n",
    "\n",
    "$$\n",
    "|0\\rangle \\longmapsto \\frac{1}{\\sqrt{2}^{n}} \\sum_{k=0}^{2 n-1}|k\\rangle\n",
    "$$"
   ]
  },
  {
   "cell_type": "markdown",
   "metadata": {},
   "source": [
    "$$\n",
    "\\begin{aligned}\n",
    "\\frac{1}{\\sqrt{2}^{n}} \\sum_{k=0}^{2 n-1}|k\\rangle \\otimes|0\\rangle \\longmapsto \\frac{1}{\\sqrt{2^{n}} \\displaystyle \\sum_{k=0}^{2-1}|k\\rangle \\otimes|f(k)\\rangle}\n",
    "\\end{aligned}\n",
    "$$"
   ]
  },
  {
   "cell_type": "markdown",
   "metadata": {},
   "source": [
    "$$\n",
    "\\begin{aligned}\n",
    "&\\frac{1}{\\sqrt{2}}(|0\\rangle+|1\\rangle) \\otimes|\\psi\\rangle  \\\\\n",
    "& \\longrightarrow \\frac{1}{\\sqrt{2}}(|0\\rangle \\otimes|\\psi\\rangle+|1\\rangle \\otimes U|\\psi\\rangle) \\\\\n",
    "&=\\frac{1}{\\sqrt{2}}\\left(|0\\rangle \\otimes|\\psi\\rangle+e^{i \\lambda}|1\\rangle \\otimes|\\psi\\rangle\\right) \\\\\n",
    "&=\\frac{1}{\\sqrt{2}}\\left(|0\\rangle+e^{i \\lambda}|1\\rangle\\right) \\otimes|\\psi\\rangle\n",
    "\\end{aligned}\n",
    "$$\n"
   ]
  },
  {
   "cell_type": "markdown",
   "metadata": {},
   "source": []
  },
  {
   "cell_type": "markdown",
   "metadata": {},
   "source": [
    "$$\n",
    "\\begin{array}{|r|r|r|r|}\n",
    "\\hline \\mathrm{x} & \\mathrm{f}(\\mathrm{x}) & \\mathrm{y}(=\\mathrm{x} \\oplus \\mathrm{b}) & \\mathrm{x} \\cdot \\mathrm{b} \\\\\n",
    "\\hline 00 & 00 & 11 & 0 \\\\\n",
    "01 & 10 & 10 & 1 \\\\\n",
    "10 & 10 & 01 & 1 \\\\\n",
    "11 & 00 & 00 & 0 \\\\\n",
    "\\hline\n",
    "\\end{array}\n",
    "$$"
   ]
  },
  {
   "cell_type": "markdown",
   "metadata": {},
   "source": [
    "$$\n",
    "\\begin{array}{|r|r|r|r|}\n",
    "\\hline \\mathrm{x} & \\mathrm{f}(\\mathrm{x}) & \\mathrm{y}(=\\mathrm{x} \\oplus \\mathrm{b}) & \\mathrm{x} \\cdot \\mathrm{b} \\\\\n",
    "\\hline 000 & 000 & 110 & 0 \\\\\n",
    "001 & 001 & 111 & 0 \\\\\n",
    "010 & 100 & 100 & 1 \\\\\n",
    "011 & 101 & 101 & 1 \\\\\n",
    "100 & 100 & 010 & 1 \\\\\n",
    "101 & 101 & 011 & 1 \\\\\n",
    "110 & 000 & 000 & 0 \\\\\n",
    "111 & 001 & 001 & 0 \\\\\n",
    "\\hline\n",
    "\\end{array}\n",
    "$$"
   ]
  },
  {
   "cell_type": "markdown",
   "metadata": {},
   "source": [
    "$$\n",
    "\\begin{array}{|r|r|r|r|r|r|r|r|}\n",
    "\\hline x_{i} & y_{i} & z_{i} & x_{i} \\oplus y_{i} & x_{i} z_{i} & y_{i} z_{i} & \\left(x_{i} \\oplus y_{i}\\right) z_{i} & x_{i} z_{i} \\oplus y_{i} z_{i} \\\\\n",
    "\\hline 0 & 0 & 0 & 0 & 0 & 0 & 0 & 0 \\\\\n",
    "0 & 0 & 1 & 0 & 0 & 0 & 0 & 0 \\\\\n",
    "0 & 1 & 0 & 1 & 0 & 0 & 0 & 0 \\\\\n",
    "0 & 1 & 1 & 1 & 0 & 1 & 1 & 1 \\\\\n",
    "1 & 0 & 0 & 1 & 0 & 0 & 0 & 0 \\\\\n",
    "1 & 0 & 1 & 1 & 1 & 0 & 1 & 1 \\\\\n",
    "1 & 1 & 0 & 0 & 0 & 0 & 0 & 0 \\\\\n",
    "1 & 1 & 1 & 0 & 1 & 1 & 0 & 0 \\\\\n",
    "\\hline\n",
    "\\end{array}\n",
    "$$"
   ]
  },
  {
   "cell_type": "markdown",
   "metadata": {},
   "source": [
    "$$\n",
    "\\begin{aligned}\n",
    "(x \\oplus y) \\cdot z &=\\bigoplus_{i=0}^{n}\\left(x_{i} \\oplus y_{i}\\right) z_{i} \\\\\n",
    "&=\\bigoplus_{i=0}^{n} x_{i} z_{i} \\oplus y_{i} z_{i} \\\\\n",
    "&=\\left(\\bigoplus_{i=0}^{n} x_{i} z_{i}\\right) \\oplus\\left(\\bigoplus_{i=0}^{n} y_{i} z_{i}\\right) \\\\\n",
    "&=(x \\cdot z) \\oplus(y \\cdot z)\n",
    "\\end{aligned}\n",
    "$$"
   ]
  },
  {
   "cell_type": "code",
   "execution_count": null,
   "metadata": {},
   "outputs": [],
   "source": []
  },
  {
   "cell_type": "code",
   "execution_count": null,
   "metadata": {},
   "outputs": [],
   "source": [
    "\n",
    "o"
   ]
  },
  {
   "cell_type": "code",
   "execution_count": null,
   "metadata": {},
   "outputs": [],
   "source": []
  },
  {
   "cell_type": "markdown",
   "metadata": {},
   "source": [
    "$$\n",
    "\\begin{array}{|l|}\n",
    "\\hline\\left[\\begin{array}{cc}\n",
    "0 & 1 \\\\\n",
    "1 & 0\n",
    "\\end{array}\\right] \\\\\n",
    "\\hline\\left[\\begin{array}{cc}\n",
    "0 & -i \\\\\n",
    "i & 0\n",
    "\\end{array}\\right] \\\\\n",
    "\\hline\\left[\\begin{array}{cc}\n",
    "1 & 0 \\\\\n",
    "0 & -1\n",
    "\\end{array}\\right] \\\\\n",
    "\\hline \\frac{1}{\\sqrt{2}}\\left[\\begin{array}{cc}\n",
    "1 & 1 \\\\\n",
    "1 & -1\n",
    "\\end{array}\\right] \\\\\n",
    "\\hline\\left[\\begin{array}{ll}\n",
    "1 & 0 \\\\\n",
    "0 & i\n",
    "\\end{array}\\right] \\\\\n",
    "\\hline\\left[\\begin{array}{cc}\n",
    "1 & 0 \\\\\n",
    "0 & e^{i \\pi / 4}\n",
    "\\end{array}\\right] \\\\\n",
    "\\hline\\left[\\begin{array}{cc}\n",
    "\\cos \\frac{\\theta}{2} & -i \\sin \\frac{\\theta}{2} \\\\\n",
    "-i \\sin \\frac{\\theta}{2} & \\cos \\frac{\\theta}{2}\n",
    "\\end{array}\\right] \\\\\n",
    "\\hline\\left[\\begin{array}{cc}\n",
    "\\cos \\frac{\\theta}{2} & -\\sin \\frac{\\theta}{2} \\\\\n",
    "\\sin \\frac{\\theta}{2} & \\cos \\frac{\\theta}{2}\n",
    "\\end{array}\\right] \\\\\n",
    "\\hline\\left[\\begin{array}{cc}\n",
    "e^{-i \\theta / 2} & 0 \\\\\n",
    "0 & e^{i \\theta / 2}\n",
    "\\end{array}\\right] \\\\\n",
    "\\hline\n",
    "\\end{array}\n",
    "$$"
   ]
  },
  {
   "cell_type": "markdown",
   "metadata": {},
   "source": [
    "$$\n",
    "|i j\\rangle \\stackrel{\\mathrm{CNOT}}{\\longrightarrow}|i(i \\mathrm{XOR} j)\\rangle\n",
    "$$"
   ]
  },
  {
   "cell_type": "markdown",
   "metadata": {},
   "source": [
    "$$\n",
    "\\begin{aligned}\n",
    "&Q_{W}=\\left(q_{x}-\\frac{\\partial q_{x}}{\\partial x} \\frac{1}{2} \\Delta x\\right) \\Delta y \\Delta z \\\\\n",
    "&Q_{E}=\\left(q_{x}+\\frac{\\partial q_{x}}{\\partial x} \\frac{1}{2} \\Delta x\\right) \\Delta y \\Delta z\n",
    "\\end{aligned}\n",
    "$$"
   ]
  },
  {
   "cell_type": "markdown",
   "metadata": {},
   "source": [
    "$$\n",
    "\\begin{aligned}\n",
    "&{\\left[\\left(q_{x}-\\frac{\\partial q_{x}}{\\partial x} \\frac{1}{2} \\Delta x\\right)-\\left(q_{x}+\\frac{\\partial q_{x}}{\\partial x} \\frac{1}{2} \\Delta x\\right)\\right] \\Delta y \\Delta z} \\\\\n",
    "&=-\\frac{\\partial q_{x}}{\\partial x} \\Delta x \\Delta y \\Delta z=\\frac{\\partial}{\\partial x}\\left(k \\frac{\\partial T}{\\partial x}\\right) \\Delta x \\Delta y \\Delta z\n",
    "\\end{aligned}\n",
    "$$"
   ]
  },
  {
   "cell_type": "markdown",
   "metadata": {},
   "source": [
    "$$\n",
    "\\begin{aligned}\n",
    "U &=1+(i A)+\\frac{(i A)^{2}}{2 !}+\\cdots=\\sum_{k} \\frac{1}{k !}(i A)^{k}=\\sum_{k} \\frac{i^{k}}{k !}\\left(v \\Theta V^{\\dagger}\\right)^{k} \\\\\n",
    "&=\\sum_{k} \\frac{i^{k}}{k !} V \\Theta^{k} V^{\\dagger}=V \\sum_{k} \\frac{i^{k}}{k !} \\Theta^{k} V^{\\dagger}=V e^{i \\theta} V^{\\dagger}\n",
    "\\end{aligned}\n",
    "$$"
   ]
  },
  {
   "cell_type": "code",
   "execution_count": null,
   "metadata": {},
   "outputs": [],
   "source": []
  },
  {
   "cell_type": "code",
   "execution_count": null,
   "metadata": {},
   "outputs": [],
   "source": []
  },
  {
   "cell_type": "code",
   "execution_count": null,
   "metadata": {},
   "outputs": [],
   "source": []
  },
  {
   "cell_type": "code",
   "execution_count": 2,
   "metadata": {},
   "outputs": [],
   "source": [
    "import pandas as pd"
   ]
  },
  {
   "cell_type": "code",
   "execution_count": 12,
   "metadata": {},
   "outputs": [],
   "source": [
    "df = pd.Series([1,3,4,5,6], index=['a', 'b', 'c', 'd', 'e'])"
   ]
  },
  {
   "cell_type": "code",
   "execution_count": 13,
   "metadata": {},
   "outputs": [
    {
     "data": {
      "text/plain": [
       "c    4\n",
       "d    5\n",
       "e    6\n",
       "dtype: int64"
      ]
     },
     "execution_count": 13,
     "metadata": {},
     "output_type": "execute_result"
    }
   ],
   "source": [
    "df[df > 3].fillna(0)"
   ]
  },
  {
   "cell_type": "code",
   "execution_count": null,
   "metadata": {},
   "outputs": [],
   "source": []
  },
  {
   "cell_type": "code",
   "execution_count": null,
   "metadata": {},
   "outputs": [],
   "source": []
  },
  {
   "cell_type": "code",
   "execution_count": null,
   "metadata": {},
   "outputs": [],
   "source": []
  },
  {
   "cell_type": "code",
   "execution_count": 16,
   "metadata": {},
   "outputs": [
    {
     "name": "stdout",
     "output_type": "stream",
     "text": [
      "DataFrame with duplicates:\n",
      "    Id    Name Cost\n",
      "0  302   Watch  300\n",
      "1  504  Camera  400\n",
      "2  708   Phone  350\n",
      "3  103   Shoes  100\n",
      "4  303   Watch  300\n",
      "5  302   Watch  300 \n",
      "\n",
      "DataFrame without duplicates:\n",
      "    Id    Name Cost\n",
      "0  302   Watch  300\n",
      "1  504  Camera  400\n",
      "2  708   Phone  350\n",
      "3  103   Shoes  100\n",
      "4  303   Watch  300\n",
      "5  302   Watch  300 \n",
      "\n"
     ]
    }
   ],
   "source": [
    "import pandas as pd\n",
    "\n",
    "df_with_duplicates = pd.DataFrame({\n",
    "    'Id': [302, 504, 708, 103, 303, 302],\n",
    "    'Name': ['Watch', 'Camera', 'Phone', 'Shoes', 'Watch', 'Watch'],\n",
    "    'Cost': [\"300\", \"400\", \"350\", \"100\", \"300\", \"300\"]\n",
    "})\n",
    "\n",
    "df_without_duplicates = df_with_duplicates.groupby(level=0).last()\n",
    "\n",
    "print(\"DataFrame with duplicates:\")\n",
    "print(df_with_duplicates, \"\\n\")\n",
    "\n",
    "print(\"DataFrame without duplicates:\")\n",
    "print(df_without_duplicates, \"\\n\")"
   ]
  },
  {
   "cell_type": "code",
   "execution_count": null,
   "metadata": {},
   "outputs": [],
   "source": [
    "\n",
    "o"
   ]
  },
  {
   "cell_type": "code",
   "execution_count": null,
   "metadata": {},
   "outputs": [],
   "source": []
  }
 ],
 "metadata": {
  "kernelspec": {
   "display_name": "Python 3",
   "language": "python",
   "name": "python3"
  },
  "language_info": {
   "codemirror_mode": {
    "name": "ipython",
    "version": 3
   },
   "file_extension": ".py",
   "mimetype": "text/x-python",
   "name": "python",
   "nbconvert_exporter": "python",
   "pygments_lexer": "ipython3",
   "version": "3.8.5"
  },
  "widgets": {
   "state": {},
   "version": "1.1.2"
  }
 },
 "nbformat": 4,
 "nbformat_minor": 2
}
