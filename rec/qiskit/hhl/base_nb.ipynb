{
 "cells": [
  {
   "cell_type": "markdown",
   "metadata": {},
   "source": [
    "## HHLアルゴリズム\n",
    "\n",
    "qiskitを利用して、量子アルゴリズムについて自分なりに勉強していこうと思います。\n",
    "個人的な勉強の記録なので、説明などを大幅に省いている可能性があります。\n",
    "\n",
    "qiskitのウェブサイト通りに勉強を進めています。\n",
    "\n",
    "- https://qiskit.org/textbook/ja/ch-applications/hhl_tutorial.html\n",
    "\n",
    "私の拙いブログでqiskitがRec（推薦システム）のカテゴライズしいたのは、すべてHHLを理解するためでした。現在、推薦システムに興味があり、開発などを行っていますが、そこで重要なのが連立一次方程式を解く事です。連立一次方程式は、数理モデルをコンピュータを利用して解く場合に高い確率で利用されますが、推薦システムもUser-Item行列から如何にしてユーザーエンゲージメントの高い特徴量を抽出出来るかという事が重要になってきます。\n",
    "\n",
    "よって、量子コンピュータを利用して高速に連立一次方程式を解く事を目標に量子アルゴリズムの復習を開始したわけですが、ようやく目的までたどり着きました。\n",
    "\n",
    "\n",
    "### github\n",
    "- jupyter notebook形式のファイルは[こちら](https://github.com/hiroshi0530/wa-src/blob/master/rec/qiskit/hhl/base_nb.ipynb)\n",
    "\n",
    "### google colaboratory\n",
    "- google colaboratory で実行する場合は[こちら](https://colab.research.google.com/github/hiroshi0530/wa-src/blob/master/rec/qiskit/hhl/base_nb.ipynb)\n",
    "\n",
    "### 筆者の環境"
   ]
  },
  {
   "cell_type": "code",
   "execution_count": 2,
   "metadata": {},
   "outputs": [
    {
     "name": "stdout",
     "output_type": "stream",
     "text": [
      "ProductName:\tMac OS X\r\n",
      "ProductVersion:\t10.14.6\r\n",
      "BuildVersion:\t18G103\r\n"
     ]
    }
   ],
   "source": [
    "!sw_vers"
   ]
  },
  {
   "cell_type": "code",
   "execution_count": 3,
   "metadata": {},
   "outputs": [
    {
     "name": "stdout",
     "output_type": "stream",
     "text": [
      "Python 3.8.5\r\n"
     ]
    }
   ],
   "source": [
    "!python -V"
   ]
  },
  {
   "cell_type": "markdown",
   "metadata": {},
   "source": [
    "基本的なライブラリをインポートしそのバージョンを確認しておきます。"
   ]
  },
  {
   "cell_type": "code",
   "execution_count": 105,
   "metadata": {},
   "outputs": [
    {
     "data": {
      "text/plain": [
       "{'qiskit-terra': '0.17.4',\n",
       " 'qiskit-aer': '0.8.2',\n",
       " 'qiskit-ignis': '0.6.0',\n",
       " 'qiskit-ibmq-provider': '0.13.1',\n",
       " 'qiskit-aqua': '0.9.1',\n",
       " 'qiskit': '0.26.2',\n",
       " 'qiskit-nature': None,\n",
       " 'qiskit-finance': None,\n",
       " 'qiskit-optimization': None,\n",
       " 'qiskit-machine-learning': None}"
      ]
     },
     "execution_count": 105,
     "metadata": {},
     "output_type": "execute_result"
    }
   ],
   "source": [
    "%matplotlib inline\n",
    "%config InlineBackend.figure_format = 'svg'\n",
    "\n",
    "import qiskit\n",
    "import json\n",
    "\n",
    "import matplotlib.pyplot as plt\n",
    "import numpy as np\n",
    "import math\n",
    "\n",
    "from qiskit import IBMQ, Aer, transpile, assemble\n",
    "from qiskit import QuantumCircuit, ClassicalRegister, QuantumRegister\n",
    "\n",
    "from qiskit.visualization import plot_histogram\n",
    "\n",
    "dict(qiskit.__qiskit_version__)"
   ]
  },
  {
   "cell_type": "markdown",
   "metadata": {},
   "source": [
    "## 共役勾配法\n",
    "\n",
    "復習の意味を込めて、古典アルゴリズムである共役勾配法の復習をします。\n",
    "正定値行列である$A$を係数とする連立一次方程式、\n",
    "\n",
    "$$\n",
    "A \\boldsymbol{x}=\\boldsymbol{b}\n",
    "$$\n",
    "\n",
    "の解$x$を反復法を用いて数値計算的に解く方法になります。反復法ですので、計算の終了を判定する誤差$(\\epsilon)$が必要になります。"
   ]
  },
  {
   "cell_type": "markdown",
   "metadata": {},
   "source": [
    "$A$,$x$,$b$は以下の様な行列になります。\n",
    "\n",
    "$$\n",
    "A = \\left(\\begin{array}{cccc}\n",
    "a_{11} & a_{12} & \\cdots & a_{1 n} \\\\\n",
    "a_{21} & a_{22} & \\cdots & a_{2 n} \\\\\n",
    "\\vdots & \\vdots & \\ddots & \\vdots \\\\\n",
    "a_{n 1} & a_{n 2} & \\cdots & a_{n n}\n",
    "\\end{array}\\right),\\quad x=\\left(\\begin{array}{c}\n",
    "x_{1} \\\\\n",
    "x_{2} \\\\\n",
    "\\vdots \\\\\n",
    "x_{n}\n",
    "\\end{array}\\right), \\quad b=\\left(\\begin{array}{c}\n",
    "b_{1} \\\\\n",
    "b_{2} \\\\\n",
    "\\vdots \\\\\n",
    "b_{n}\n",
    "\\end{array}\\right)\n",
    "$$"
   ]
  },
  {
   "cell_type": "markdown",
   "metadata": {},
   "source": [
    "行列の表式で書くと以下の通りです。\n",
    "\n",
    "$$\n",
    "\\left(\\begin{array}{cccc}\n",
    "a_{11} & a_{12} & \\cdots & a_{1 n} \\\\\n",
    "a_{21} & a_{22} & \\cdots & a_{2 n} \\\\\n",
    "\\vdots & \\vdots & \\ddots & \\vdots \\\\\n",
    "a_{n 1} & a_{n 2} & \\cdots & a_{n n}\n",
    "\\end{array}\\right)\\left(\\begin{array}{c}\n",
    "x_{1} \\\\\n",
    "x_{2} \\\\\n",
    "\\vdots \\\\\n",
    "x_{n}\n",
    "\\end{array}\\right)=\\left(\\begin{array}{c}\n",
    "b_{1} \\\\\n",
    "b_{2} \\\\\n",
    "\\vdots \\\\\n",
    "b_{n}\n",
    "\\end{array}\\right)\n",
    "$$"
   ]
  },
  {
   "cell_type": "markdown",
   "metadata": {},
   "source": [
    "次に次のように定義される関数$f(x)$を考えます。\n",
    "\n",
    "$$\n",
    "f(\\boldsymbol{x})=\\frac{1}{2}(\\boldsymbol{x}, A \\boldsymbol{x})-(\\boldsymbol{b}, \\boldsymbol{x})\n",
    "$$\n",
    "\n",
    "$(-,-)$は、ベクトルの内積を計算する演算子です。\n",
    "\n",
    "$$\n",
    "(\\boldsymbol{x}, \\boldsymbol{y})=\\boldsymbol{x}^{T} \\boldsymbol{y}=\\sum_{i=1}^{n} \\boldsymbol{x}_{i} \\boldsymbol{y}_{i}\n",
    "$$\n",
    "\n",
    "成分で表示すると以下の様になります。\n",
    "\n",
    "$$\n",
    "f(x)=\\frac{1}{2} \\sum_{i=1}^{n} \\sum_{j=1}^{n} a_{i j} x_{i} x_{j}-\\sum_{i=1}^{n} b_{i} x_{i}\n",
    "$$"
   ]
  },
  {
   "cell_type": "markdown",
   "metadata": {},
   "source": [
    "ここで、　$x_k$で微分すると、\n",
    "\n",
    "$$\n",
    "\\frac{\\partial f(x)}{\\partial x_{k}}=\\frac{1}{2} \\sum_{i=1}^{n} a_{i k} x_{i}+\\frac{1}{2} \\sum_{j=1}^{n} a_{k j} x_{j}-b_{k}\n",
    "$$\n",
    "\n",
    "となります。"
   ]
  },
  {
   "cell_type": "markdown",
   "metadata": {},
   "source": [
    "$A$はエルミート行列なので、\n",
    "\n",
    "$$\n",
    "\\frac{\\partial f(x)}{\\partial x_{i}}=\\sum_{j=1}^{n} a_{i j} x_{j}-b_{i}=0\n",
    "$$\n",
    "\n",
    "となります。"
   ]
  },
  {
   "cell_type": "markdown",
   "metadata": {},
   "source": [
    "これを一般化すると、\n",
    "\n",
    "$$\n",
    "\\nabla f(x)=\\left(\\begin{array}{c}\n",
    "\\frac{\\partial f}{\\partial x_{1}} \\\\\n",
    "\\vdots \\\\\n",
    "\\frac{\\partial f}{\\partial x_{n}}\n",
    "\\end{array}\\right)=A\\boldsymbol{x}-b = 0\n",
    "$$\n",
    "\n",
    "となり、関数$f(x)$の最小値となる$x$を求める事が、$A\\boldsymbol{x}-b = 0$を解く事と同じである事が分かります。"
   ]
  },
  {
   "cell_type": "markdown",
   "metadata": {},
   "source": [
    "### アルゴリズム\n",
    "\n",
    "上記の通り、共役勾配法(CG法)は、関数$f(x)$を最小化することに帰着されます。\n",
    "\n",
    "通常の勾配法だと、等高線の垂直方向に探索するため効率は悪くなります。\n",
    "\n",
    "$$\n",
    "-\\nabla f(x)=\\left(\\begin{array}{c}\n",
    "\\frac{\\partial f}{\\partial x_{1}} \\\\\n",
    "\\vdots \\\\\n",
    "\\frac{\\partial f}{\\partial x_{n}}\n",
    "\\end{array}\\right)=-b + A\\boldsymbol{x}\n",
    "$$\n",
    "\n",
    "$f(x)$は楕円を形成しますが、その楕円に線形変換をかけて、楕円を円に変換すると、等高線の垂直方向が最小点への最短距離となるため、効率的な解を求めることが出来るという考えです。\n",
    "\n",
    "![svg](base_nb_files_local/cg.svg)"
   ]
  },
  {
   "cell_type": "markdown",
   "metadata": {},
   "source": [
    "そのために、ある$x^{(0)}$を出発点に、以下の漸化式に従って最小値とする$x$を求めます。\n",
    "\n",
    "$$\n",
    "x^{(k+1)}=x^{(k)}+\\alpha_{k} p^{(k)}\n",
    "$$\n",
    "\n",
    "ここで、$p^{(k)}$は解を探索する方向ベクトルです。また、$r^{(k)}$は解との残差ベクトルです。\n",
    "\n",
    "$$\n",
    "r^{(0)}=b-A x^{(0)}, \\quad {p}^{(0)}={r}^{(0)}\n",
    "$$\n",
    "\n",
    "$k+1$回目のステップでの$f(x^{(k+1)})$を最小にする$\\alpha_k$を求めます。\n",
    "\n",
    "$$\n",
    "\\begin{aligned}\n",
    "&f(x^{(k+1)}) \\\\\n",
    "&=f\\left(x^{(k)}+\\alpha_{k} p^{(k)}\\right) \\\\\n",
    "&=\\frac{1}{2} \\alpha_{k}{ }^{2}\\left(p^{(k)}, A p^{(k)}\\right)-\\alpha_{k}\\left(p^{(k)}, b-A x^{(k)}\\right)+f\\left(x^{(k)}\\right)\n",
    "\\end{aligned}\n",
    "$$\n",
    "\n",
    "これは単純な二次関数なので、$\\alpha_k$を求める事が出来ます。\n",
    "\n",
    "\n",
    "$$\n",
    "\\alpha_{k}=\\frac{\\left(p^{(k)}, b-A x^{(k)}\\right)}{\\left(p^{(k)}, A p^{(k)}\\right)}=\\frac{\\left(p^{(k)}, r^{(k)}\\right)}{\\left(p^{(k)}, A p^{(k)}\\right)}\n",
    "$$\n",
    "\n"
   ]
  },
  {
   "cell_type": "markdown",
   "metadata": {},
   "source": [
    "次に$r$を更新するために、$r^{(k+1)}$を求めます。\n",
    "$$\n",
    "\\begin{aligned}\n",
    "&r^{(k+1)}=b-A x^{(k+1)} \\\\\n",
    "&r^{(k)}=b-A x^{(k)} \\\\\n",
    "&r^{(k+1)}-r^{(k)}=A x^{(k+1)}-A x^{(k)}=\\alpha_{k} A p^{(k)}\n",
    "\\end{aligned}\n",
    "$$\n",
    "\n",
    "よって、\n",
    "\n",
    "$$\n",
    "r^{(k+1)}=r^{(k)}-\\alpha_{k} A p^{(k)}\n",
    "$$\n",
    "\n",
    "となります。"
   ]
  },
  {
   "cell_type": "markdown",
   "metadata": {},
   "source": [
    "この$r^{(k+1)}$がある一定の閾値以下であれば、探索を終了します。\n",
    "\n",
    "$$\n",
    "\\left\\|\\boldsymbol{r}^{(k+1)}\\right\\|<\\varepsilon\n",
    "$$"
   ]
  },
  {
   "cell_type": "markdown",
   "metadata": {},
   "source": [
    "閾値以下以外の場合、次に$p$を更新するために、$p^{(k+1)}$を求めます。$p^{(k+1)}$は、残差$r^{(k+1)}$と$p^{(k)}$の定数倍のベクトルで構成されます。\n",
    "\n",
    "$$\n",
    "p^{(k+1)}=r^{(k+1)}+\\beta_{k} p^{(k)}\n",
    "$$\n",
    "\n",
    "この定数$\\beta_k$は、$p^{(k)}$と$p^{(k+1)}$が$A$に対して共役になるように取ります。\n",
    "\n",
    "$$\n",
    "\\left(p^{(k+1)}, A p^{(k)}\\right)=\\left(r^{(k+1)}+\\beta_{k} p^{(k)}, A p^{(k)}\\right)=\\left(r^{(k+1)}, A p^{(k)}\\right)+\\beta_{k}\\left(p^{(k)}, A p^{(k)}\\right)\n",
    "$$\n",
    "\n",
    "これより、\n",
    "$$\n",
    "\\beta_{k}=-\\frac{\\left(r^{(k+1)}, A p^{(k)}\\right)}{\\left(p^{(k)}, A p^{(k)}\\right)}\n",
    "$$\n",
    "\n",
    "となります。\n",
    "\n",
    "これを残差がある一定の閾値以下に収束するまで繰り返します。"
   ]
  },
  {
   "cell_type": "markdown",
   "metadata": {},
   "source": [
    "ここで、\n",
    "\n",
    "$$\n",
    "\\left(p^{(i)}, A p^{(j)}\\right)=0 \\quad (i \\neq j)\n",
    "$$\n",
    "\n",
    "が成立するので、共役関係を持つベクトルを方向ベクトルととする勾配法という事で、共役勾配法という名前なのでしょうか。\n",
    "\n",
    "また、残差ベクトルについても、\n",
    "\n",
    "$$\n",
    "\\left(r^{(i)}, r^{(j)}\\right)=0 \\quad (i \\neq j)\n",
    "$$\n",
    "\n",
    "という直交関係が成立します。"
   ]
  },
  {
   "cell_type": "markdown",
   "metadata": {},
   "source": [
    "一次独立である$r_k$の個数は高々$N$個しかないので、計算は$N$回以内に収束します。\n",
    "\n",
    "この他に、前処理付き共役勾配法やクリロフ部分空間と言った解析的な話、収束性についての詳細は以下を参考にしています。\n",
    "\n",
    "- [Matrix Computations](https://www.amazon.co.jp/Computations-Hopkins-Studies-Mathematical-Sciences/dp/1421407949)\n",
    "- [数値解析入門](https://www.amazon.co.jp/%E5%A4%A7%E5%AD%A6%E6%95%B0%E5%AD%A6%E3%81%AE%E5%85%A5%E9%96%809-%E6%95%B0%E5%80%A4%E8%A7%A3%E6%9E%90%E5%85%A5%E9%96%80-%E9%BD%8A%E8%97%A4-%E5%AE%A3%E4%B8%80/dp/413062959X)"
   ]
  },
  {
   "cell_type": "markdown",
   "metadata": {},
   "source": [
    "### 計算量\n",
    "$s$は行列$A$の非0要素の割合、$\\kappa$は行列$A$の最大固有値と最小固有値の比$\\displaystyle \\left| \\frac{\\lambda_{max}}{\\lambda_{min}}\\right|$、$\\epsilon$  は精度です．\n",
    "\n",
    "$$\n",
    "O(N s \\kappa \\log (1 / \\varepsilon))\n",
    "$$\n",
    "\n",
    "これは$N$に比例する形になっているため、$s\\sim \\log N$の場合、$N\\log N$に比例する事になります。"
   ]
  },
  {
   "cell_type": "markdown",
   "metadata": {},
   "source": [
    "## HHLアルゴリズム\n",
    "\n",
    "### HHLの仮定\n",
    "\n",
    "HHLはある程度の仮定の下に成立するアルゴリズムです。\n",
    "\n",
    "- ローディングを実施する効果的なオラクルが存在\n",
    "- ハミルトニアンシミュレーションと解の関数の計算が可能\n",
    "- $A$がエルミート行列\n",
    "- $\\mathcal{O}\\left(\\log (N) s^{2} \\kappa^{2} / \\epsilon\\right)$で計算可能\n",
    "- 古典アルゴリズムが完全解を返すが、HHLは解となるベクトルを与える関数を近似するだけ\n",
    "\n",
    "### HHLのアウトライン\n",
    "\n",
    "![svg](base_nb_files_local/hhl.svg)"
   ]
  },
  {
   "cell_type": "markdown",
   "metadata": {},
   "source": [
    "### 量子回路へのマッピング\n",
    "\n",
    "連立一次方程式を量子アルゴリズムで解くには、$Ax=b$を量子回路にマッピングする必要があります。それは、$b$の$i$番目の成分は量子状態$|b\\rangle$の$i$番目の基底状態の振幅に対応させるという方法です。また、当然ですが、その際は$\\displaystyle \\sum_i |b_i|^2 = 1$という規格化が必要です。\n",
    "\n",
    "$$\n",
    "Ax=b \\rightarrow A|x\\rangle = |b\\rangle\n",
    "$$\n",
    "\n",
    "となります。"
   ]
  },
  {
   "cell_type": "markdown",
   "metadata": {},
   "source": [
    "### スペクトル分解\n",
    "\n",
    "$A$はエルミート行列なので、スペクトル分解が可能です。$A$のエルミート性を暗幕的に仮定していましたが、\n",
    "$$\n",
    "A'=\\left(\\begin{array}{ll}\n",
    "0 & A \\\\\n",
    "A & 0\n",
    "\\end{array}\\right)\n",
    "$$\n",
    "\n",
    "とすれば、$A'$はエルミート行列となるため、問題ありません。よって、$A$は固有ベクトル$|u_i\\rangle$とその固有値$\\lambda_i$を利用して、以下の様に展開できます。\n",
    "\n",
    "$$\n",
    "A=\\sum_{j=0}^{N-1} \\lambda_{j}\\left|u_{j}\\right\\rangle\\left\\langle u_{j}\\right|\n",
    "$$\n",
    "\n",
    "よって、逆行列は以下の様になります。\n",
    "\n",
    "$$\n",
    "A^{-1}=\\sum_{j=0}^{N-1} \\lambda_{j}^{-1}\\left|u_{j}\\right\\rangle\\left\\langle u_{j}\\right|\n",
    "$$"
   ]
  },
  {
   "cell_type": "markdown",
   "metadata": {},
   "source": [
    "$u_i$は$A$の固有ベクトルなので、$|b\\rangle$はその重ね合わせで表現できます。おそらくこれが量子コンピュータを利用する強い動機になっていると思います。\n",
    "\n",
    "$$\n",
    "|b\\rangle=\\sum_{j=0}^{N-1} b_{j}\\left|u_{j}\\right\\rangle\n",
    "$$\n",
    "\n",
    "本来であれば、$A$の固有ベクトルを計算できなければこの形で$|b\\rangle$を用意することが出来ませんが、量子コンピュータでは$|b\\rangle$を読み込むことで、自動的にこの状態を用意することが出来ます。\n",
    "\n",
    "最終的には以下の式の形を量子コンピュータを利用して求める事になります。\n",
    "\n",
    "$$\n",
    "|x\\rangle=A^{-1}|b\\rangle=\\sum_{j=0}^{N-1} \\lambda_{j}^{-1} b_{j}\\left|u_{j}\\right\\rangle\n",
    "$$"
   ]
  },
  {
   "cell_type": "markdown",
   "metadata": {},
   "source": [
    "### 1. データのロード\n",
    "\n",
    "対象となる$|b\\rangle$の各データの振幅を量子ビット$n_b$にロードします。\n",
    "\n",
    "$$\n",
    "|0\\rangle_{n_{b}} \\mapsto|b\\rangle_{n_{b}}\n",
    "$$"
   ]
  },
  {
   "cell_type": "markdown",
   "metadata": {},
   "source": [
    "### 2. QPEの適用\n",
    "\n",
    "量子位相推定を利用して、ユニタリ演算子$U=e^{i A t}$ の$|b\\rangle$の位相を推定します。\n",
    "\n",
    "$|b\\rangle$は上述の様に以下になります。\n",
    "\n",
    "$$\n",
    "|b\\rangle=\\sum_{j=0}^{N-1} b_{j}\\left|u_{j}\\right\\rangle\n",
    "$$"
   ]
  },
  {
   "cell_type": "markdown",
   "metadata": {},
   "source": [
    "$U$は展開して整理すると、以下の様になります。\n",
    "\n",
    "$$\n",
    "\\begin{aligned}\n",
    "&U=e^{i A t}=\\sum_{k=0}^{\\infty} \\frac{\\left(i A t\\right)^{k}}{k !}\\\\\n",
    "&=\\sum_{k=0}^{\\infty} \\frac{\\left(i t\\right)^{k}}{k !}\\left(\\sum_{j=0}^{N-1} \\lambda_{j}|u_{j}\\rangle\\langle u_{j} |\\right)^{k}\\\\\n",
    "&=\\sum_{k=0}^{\\infty} \\frac{(i t)^{k}}{k !} \\sum_{j=0}^{N-1} \\lambda_{j}^{k}\\left|u_{j}\\right\\rangle \\langle u_{j} |\\\\\n",
    "&=\\sum_{j=0}^{N-1}\\left(\\sum_{k=0}^{\\infty} \\frac{\\left(i t\\right)^{k}}{k_{i}} \\lambda_{j}^{k}\\right)|u_{j}\\rangle \\langle u_{j}| \\\\\n",
    "&=\\sum_{r=0}^{N-1} e^{i \\lambda_{j} t}\\left|u_{j}\\right\\rangle\\left\\langle u_{j}\\right|\n",
    "\\end{aligned}\n",
    "$$"
   ]
  },
  {
   "cell_type": "markdown",
   "metadata": {},
   "source": [
    "$U$を$|b\\rangle$に作用させると、\n",
    "\n",
    "$$\n",
    "\\begin{aligned}\n",
    "U|b\\rangle &=U\\left(\\sum_{j=0}^{N-1} b_{j}\\left|u_{j}\\right\\rangle\\right) \\\\\n",
    "&=\\sum_{j^{\\prime}=0}^{N-1} e^{i \\lambda j^{\\prime} t}\\left|h_{j^{\\prime}}\\right\\rangle\\left\\langle h_{j^{\\prime}}\\right| \\cdot\\left(\\sum_{j=0}^{N-1} b_{j}\\left|h_{j}\\right\\rangle\\right) \\\\\n",
    "&=\\sum_{j=0}^{N-1} b_{j} e^{i \\lambda_{j} t}\\left|u_{j}\\right\\rangle\n",
    "\\end{aligned}\n",
    "$$\n",
    "\n",
    "となり、量子位相推定を利用して、$\\lambda_j$の量子状態 $|\\tilde{\\lambda_j} \\rangle_{n_l}$ を求める事が出来ます。\n",
    "\n",
    "$\\tilde{\\lambda_{j}}$は、$\\displaystyle 2^{n_{l}} \\frac{\\lambda_{j} t}{2 \\pi}$に対する$n_l$-bitバイナリ近似となります。"
   ]
  },
  {
   "cell_type": "markdown",
   "metadata": {},
   "source": [
    "$t=2\\pi$とし、$\\lambda_l$が、$n_l$ビットで正確に表現できるとすると、量子位相推定は以下の様に表現できます。\n",
    "\n",
    "$$\n",
    "\\operatorname{QPE}\\left(e^{i A 2 \\pi}, \\sum_{j=0}^{N-1} b_{j}|0\\rangle_{n_{l}}\\left|u_{j}\\right\\rangle_{n_{b}}\\right)=\\sum_{j=0}^{N-1} b_{j}\\left|\\lambda_{j}\\right\\rangle_{n_{l}}\\left|u_{j}\\right\\rangle_{n_{b}}\n",
    "$$"
   ]
  },
  {
   "cell_type": "markdown",
   "metadata": {},
   "source": [
    "### 3. 補助量子ビットの利用\n",
    "\n",
    "天下り的ですが、制御回転ゲートを利用して、$|v_i\\rangle$を量子ビットの振幅として取り出す方法を考えます。\n",
    "\n",
    "ここでは、以下の文献を参考にしています。\n",
    "\n",
    "- [嶋田義皓. 量子コンピューティング](https://www.amazon.co.jp/%E9%87%8F%E5%AD%90%E3%82%B3%E3%83%B3%E3%83%94%E3%83%A5%E3%83%BC%E3%83%86%E3%82%A3%E3%83%B3%E3%82%B0-%E5%9F%BA%E6%9C%AC%E3%82%A2%E3%83%AB%E3%82%B4%E3%83%AA%E3%82%BA%E3%83%A0%E3%81%8B%E3%82%89%E9%87%8F%E5%AD%90%E6%A9%9F%E6%A2%B0%E5%AD%A6%E7%BF%92%E3%81%BE%E3%81%A7-%E6%83%85%E5%A0%B1%E5%87%A6%E7%90%86%E5%AD%A6%E4%BC%9A%E5%87%BA%E7%89%88%E5%A7%94%E5%93%A1%E4%BC%9A/dp/4274226212)\n",
    "- https://www2.yukawa.kyoto-u.ac.jp/~qischool2019/mitaraiCTO.pdf\n",
    "\n",
    "\n",
    "二つの量子ビットを考えます。一つは、制御回転ゲートの制御ビット、二つ目は制御回転ゲートの対象ビットです。\n",
    "\n",
    "唐突ですが、制御ビットに、$\\left|b\\left(\\frac{1}{\\pi} \\cos ^{-1} v_{i}\\right)\\right\\rangle$の状態を入力し、対象ビットには$|0\\rangle$。を入力します。この対象ビットが補助量子ビットになります。\n",
    "\n",
    "$b(\\cdots)$は二進数表記である事を示し、$b_k(\\cdots)$は、二進数表記の$k$ビット目の値を表します。まとめると、以下の様になります。\n",
    "\n",
    "$$\n",
    "\\begin{aligned}\n",
    "&b\\left(\\frac{1}{\\pi} \\cos ^{-1}\\left(v_{i}\\right)\\right)=d_{0} d_{1} d_2 \\cdot \\cdots d_{m-1} \\\\\n",
    "&b_{k}\\left(\\frac{1}{\\pi} \\cos ^{-1}\\left(v_{i}\\right)\\right)=d_k \\\\\n",
    "&\\frac{2}{\\pi} \\cos ^{-1}\\left(v_{i}\\right)=\\frac{d_{0}}{2}+\\frac{d_{1}}{4}+\\frac{d_{2}}{8} \\cdots \\frac{d_{m-1}}{2^{m}} \\quad \\left(0 \\leqq \\frac{2}{\\pi} \\cos ^{-1}\\left(v_{i}\\right) \\leqq 1\\right)\n",
    "\\end{aligned}\n",
    "$$\n",
    "\n",
    "これから、\n",
    "\n",
    "\n",
    "$$\n",
    "\\begin{aligned}\n",
    "\\frac{2}{\\pi} \\cos ^{-1}\\left(v_{i}\\right)&=\\frac{1}{2} b_{0}\\left(\\frac{1}{\\pi} \\cos ^{-1}\\left(v_{1}\\right)\\right)+\\frac{1}{4} b_{1}\\left(\\frac{1}{\\pi} \\cos ^{-1}\\left(v_{i}\\right)\\right)+ \\cdots \\\\\n",
    "&=\\sum_{k=0}^{m-1} b_{k}\\left(\\frac{1}{\\pi} \\cos ^{-1}\\left(v_{n}\\right)\\right) 2^{-k-1} \\cdots (1)\n",
    "\\end{aligned}\n",
    "$$"
   ]
  },
  {
   "cell_type": "markdown",
   "metadata": {},
   "source": [
    "$\\displaystyle b_{k}\\left(\\frac{2}{\\pi} \\cos ^{-1}\\left(v_{i}\\right)\\right)$を制御ビットとして、$R_{y}\\left(2^{-k-1}\\pi\\right)$である制御回転ゲートをかけることを考えます。\n",
    "\n",
    "$$\n",
    "\\begin{aligned}\n",
    "&\\prod_{k=0}^{m-1} R_{y}\\left(b_{k}\\left(\\frac{1}{\\pi} \\cos ^{-1}\\left(v_{i}\\right)\\right) 2^{-k-1}\\pi\\right)|0\\rangle \\\\\n",
    "&=R_{y}\\left(\\sum_{k=0}^{m-1} b_{k}\\left(\\frac{1}{\\pi} \\cos ^{-1}\\left(v_{i}\\right)\\right) 2^{-k-1}\\pi\\right)|0\\rangle \\\\\n",
    "\\end{aligned}\n",
    "$$"
   ]
  },
  {
   "cell_type": "markdown",
   "metadata": {},
   "source": [
    "回転ゲートは、以下の様になります。\n",
    "\n",
    "$$\n",
    "R_{y}(\\theta)|0\\rangle=\\cos \\frac{\\theta}{2}|0\\rangle+\\sin \\frac{\\theta}{2}|1\\rangle\n",
    "$$"
   ]
  },
  {
   "cell_type": "markdown",
   "metadata": {},
   "source": [
    "この式と(1)を利用して、\n",
    "\n",
    "$$\n",
    "\\begin{aligned}\n",
    "&\\cos\\frac{1}{2}\\left(\\sum_{k=0}^{m-1} b_{k}\\left(\\frac{1}{\\pi} \\cos ^{-1}\\left(v_{i}\\right)\\right) 2^{-k-1}\\pi\\right) \\\\\n",
    "&=\\cos\\left(\\frac{1}{2}\\times\\frac{2}{\\pi} \\cos ^{-1}\\left(v_{i}\\right)\\times \\pi\\right) = v_i\n",
    "\\end{aligned}\n",
    "$$"
   ]
  },
  {
   "cell_type": "markdown",
   "metadata": {},
   "source": [
    "となり、こちらを利用して、\n",
    "\n",
    "$$\n",
    "R_{y}\\left(\\sum_{k=0}^{m-1} b_{k}\\left(\\frac{1}{\\pi} \\cos ^{-1}\\left(v_{i}\\right)\\right) 2^{-k-1}\\pi\\right)|0\\rangle=v_{i}|0\\rangle+\\sqrt{1-v_{i}^{2}}|1\\rangle\n",
    "$$\n",
    "\n",
    "を得る事ができます。ここで、$\\displaystyle v_i = \\frac{1}{\\lambda_i}$とすることで、補助量子ビットを、\n",
    "\n",
    "$$\n",
    "\\frac{1}{\\lambda_{j}}|0\\rangle + \\sqrt{1-\\frac{1}{\\lambda_{j}^{2}}}|1\\rangle\n",
    "$$\n",
    "\n",
    "と計算することが出来きます。$\\frac{1}{\\lambda_j}$が振幅として得られたので、これを利用して連立一次方程式を解けそうです。"
   ]
  },
  {
   "cell_type": "markdown",
   "metadata": {},
   "source": [
    "### 4. 逆量子位相推定を利用\n",
    "\n",
    "量子位相推定の逆変換を行うと、以下の様になります。\n",
    "\n",
    "$$\n",
    "\\sum_{j=0}^{N-1} b_{j}|0\\rangle_{n_{l}}\\left|u_{j}\\right\\rangle_{n_{b}}\\left(\\frac{1}{\\lambda_{j}}|0\\rangle+\\sqrt{1-\\frac{1}{\\lambda_{j}^{2}}}|1\\rangle\\right)\n",
    "$$\n"
   ]
  },
  {
   "cell_type": "markdown",
   "metadata": {},
   "source": [
    "### 5. 補助量子ビットの測定\n",
    "\n",
    "補助量子ビットを測定し、$|0\\rangle$が測定された場合、\n",
    "\n",
    "$$\n",
    "\\left(\\sqrt{\\frac{1}{\\sum_{j=0}^{N-1}\\left|b_{j}\\right|^{2} /\\left|\\lambda_{j}\\right|^{2}}}\\right) \\sum_{j=0}^{N-1} \\frac{b_{j}}{\\lambda_{j}}|0\\rangle_{n_{l}}\\left|u_{j}\\right\\rangle_{n_{b}}\n",
    "$$\n",
    "\n",
    "となり、解の形となっています。"
   ]
  },
  {
   "cell_type": "markdown",
   "metadata": {},
   "source": [
    "## 計算量の比較\n",
    "\n",
    "### 量子アルゴリズム\n",
    "\n",
    "\n",
    "$$\n",
    "O(s \\kappa \\operatorname{poly} \\log (s \\kappa / \\varepsilon)))\n",
    "$$\n",
    "\n",
    "行列 $A$に対して、スパース性 $(s \\sim O(\\operatorname{poly} \\log N))$を仮定できる場合、\n",
    "\n",
    "$$\n",
    "O(s \\kappa \\operatorname{poly} \\log (s \\kappa / \\varepsilon))) \\sim O(s \\kappa \\operatorname{poly} \\log N \\operatorname{poly} \\log (s \\kappa / \\varepsilon))\n",
    "$$\n",
    "\n",
    "となります。"
   ]
  },
  {
   "cell_type": "markdown",
   "metadata": {},
   "source": [
    "### 共役勾配法\n",
    "$$\n",
    "O(N s \\kappa \\log (1 / \\varepsilon))\n",
    "$$\n",
    "\n",
    "これより、量子アルゴリズムの方が、指数関数的な速度向上が見込まれます。"
   ]
  },
  {
   "cell_type": "markdown",
   "metadata": {},
   "source": [
    "## qiskitで実装\n",
    "\n",
    "qiskitのサイトに従って、実装してみます。\n",
    "\n",
    "結論から言うと、私の環境ではサイト通りの結果になりませんです。DepricateWarningが出ていて、それかなと思って色々やってみたのですが、結果が一致しなかったので、後に詳細な原因を探ろうと思います。"
   ]
  },
  {
   "cell_type": "code",
   "execution_count": 108,
   "metadata": {},
   "outputs": [
    {
     "data": {
      "text/plain": [
       "{'qiskit-terra': '0.17.4',\n",
       " 'qiskit-aer': '0.8.2',\n",
       " 'qiskit-ignis': '0.6.0',\n",
       " 'qiskit-ibmq-provider': '0.13.1',\n",
       " 'qiskit-aqua': '0.9.1',\n",
       " 'qiskit': '0.26.2',\n",
       " 'qiskit-nature': None,\n",
       " 'qiskit-finance': None,\n",
       " 'qiskit-optimization': None,\n",
       " 'qiskit-machine-learning': None}"
      ]
     },
     "execution_count": 108,
     "metadata": {},
     "output_type": "execute_result"
    }
   ],
   "source": [
    "from qiskit import Aer\n",
    "from qiskit.circuit.library import QFT\n",
    "from qiskit.aqua import QuantumInstance, aqua_globals\n",
    "from qiskit.quantum_info import state_fidelity\n",
    "from qiskit.aqua.algorithms import HHL, NumPyLSsolver\n",
    "from qiskit.aqua.components.eigs import EigsQPE\n",
    "from qiskit.aqua.components.reciprocals import LookupRotation\n",
    "from qiskit.aqua.operators import MatrixOperator\n",
    "from qiskit.aqua.components.initial_states import Custom\n",
    "import numpy as np\n",
    "\n",
    "from qiskit import aqua\n",
    "\n",
    "dict(qiskit.__qiskit_version__)"
   ]
  },
  {
   "cell_type": "code",
   "execution_count": 107,
   "metadata": {},
   "outputs": [
    {
     "name": "stdout",
     "output_type": "stream",
     "text": [
      "0.9.1\n"
     ]
    }
   ],
   "source": [
    "print(aqua.__version__)"
   ]
  },
  {
   "cell_type": "code",
   "execution_count": 85,
   "metadata": {},
   "outputs": [],
   "source": [
    "def create_eigs(matrix, num_ancillae, num_time_slices, negative_evals):\n",
    "    ne_qfts = [None, None]\n",
    "    if negative_evals:\n",
    "        num_ancillae += 1\n",
    "        ne_qfts = [QFT(num_ancillae - 1), QFT(num_ancillae - 1).inverse()]\n",
    "\n",
    "    return EigsQPE(MatrixOperator(matrix=matrix),\n",
    "                   QFT(num_ancillae).inverse(),\n",
    "                   num_time_slices=num_time_slices,\n",
    "                   num_ancillae=num_ancillae,\n",
    "                   expansion_mode='suzuki',\n",
    "                   expansion_order=2,\n",
    "                   evo_time=None, # np.pi*3/4, #None,  # This is t, can set to: np.pi*3/4\n",
    "                   negative_evals=negative_evals,\n",
    "                   ne_qfts=ne_qfts)"
   ]
  },
  {
   "cell_type": "code",
   "execution_count": 86,
   "metadata": {},
   "outputs": [],
   "source": [
    "def fidelity(hhl, ref):\n",
    "    solution_hhl_normed = hhl / np.linalg.norm(hhl)\n",
    "    solution_ref_normed = ref / np.linalg.norm(ref)\n",
    "    fidelity = state_fidelity(solution_hhl_normed, solution_ref_normed)\n",
    "    print(\"Fidelity:\\t\\t %f\" % fidelity)"
   ]
  },
  {
   "cell_type": "code",
   "execution_count": 87,
   "metadata": {},
   "outputs": [],
   "source": [
    "matrix = [[1, -1/3], [-1/3, 1]]\n",
    "vector = [1, 0]"
   ]
  },
  {
   "cell_type": "code",
   "execution_count": 95,
   "metadata": {},
   "outputs": [
    {
     "name": "stderr",
     "output_type": "stream",
     "text": [
      "/Users/hiroshi.wayama/anaconda3/lib/python3.8/site-packages/qiskit/aqua/components/initial_states/custom.py:79: DeprecationWarning: The Custom class is deprecated as of Aqua 0.9 and will be removed no earlier than 3 months after the release date. Instead, all algorithms and circuits accept a plain QuantumCircuit. Custom(state_vector=vector) is the same as a circuit where the ``initialize(vector/np.linalg.norm(vector))`` method has been called.\n",
      "  super().__init__()\n"
     ]
    }
   ],
   "source": [
    "orig_size = len(vector)\n",
    "matrix, vector, truncate_powerdim, truncate_hermitian = HHL.matrix_resize(matrix, vector)\n",
    "\n",
    "# Initialize eigenvalue finding module\n",
    "eigs = create_eigs(matrix, 3, 100, False)\n",
    "num_q, num_a = eigs.get_register_sizes()\n",
    "\n",
    "# Initialize initial state module\n",
    "init_state = Custom(num_q, state_vector=vector)\n",
    "\n",
    "# Initialize reciprocal rotation module\n",
    "reci = LookupRotation(negative_evals=eigs._negative_evals, evo_time=eigs._evo_time)\n",
    "\n",
    "algo = HHL(matrix, vector, truncate_powerdim, truncate_hermitian, eigs,\n",
    "           init_state, reci, num_q, num_a, orig_size)"
   ]
  },
  {
   "cell_type": "code",
   "execution_count": 96,
   "metadata": {},
   "outputs": [
    {
     "name": "stderr",
     "output_type": "stream",
     "text": [
      "/Users/hiroshi.wayama/anaconda3/lib/python3.8/site-packages/qiskit/aqua/components/initial_states/custom.py:151: DeprecationWarning: The StateVectorCircuit class is deprecated as of Qiskit Aqua 0.9.0 and will be removed no earlier than 3 months after the release. If you need to initialize a circuit, use the QuantumCircuit.initialize or QuantumCircuit.isometry methods. For a parameterized initialization, try the qiskit.ml.circuit.library.RawFeatureVector class.\n",
      "  svc = StateVectorCircuit(self._state_vector)\n"
     ]
    },
    {
     "name": "stdout",
     "output_type": "stream",
     "text": [
      "Solution:\t\t [ 0.66576-0.j -0.38561+0.j]\n",
      "Classical Solution:\t [1.125 0.375]\n",
      "Probability:\t\t 0.211527\n",
      "Fidelity:\t\t 0.438807\n"
     ]
    }
   ],
   "source": [
    "result = algo.run(QuantumInstance(Aer.get_backend('statevector_simulator')))\n",
    "print(\"Solution:\\t\\t\", np.round(result['solution'], 5))\n",
    "\n",
    "result_ref = NumPyLSsolver(matrix, vector).run()\n",
    "print(\"Classical Solution:\\t\", np.round(result_ref['solution'], 5))\n",
    "\n",
    "print(\"Probability:\\t\\t %f\" % result['probability_result'])\n",
    "fidelity(result['solution'], result_ref['solution'])"
   ]
  },
  {
   "cell_type": "code",
   "execution_count": 92,
   "metadata": {},
   "outputs": [
    {
     "name": "stdout",
     "output_type": "stream",
     "text": [
      "circuit_width:\t 7\n",
      "circuit_depth:\t 101\n",
      "CNOT gates:\t 54\n"
     ]
    }
   ],
   "source": [
    "print(\"circuit_width:\\t\", result['circuit_info']['width'])\n",
    "print(\"circuit_depth:\\t\", result['circuit_info']['depth'])\n",
    "print(\"CNOT gates:\\t\", result['circuit_info']['operations']['cx'])"
   ]
  },
  {
   "cell_type": "markdown",
   "metadata": {},
   "source": [
    "qiskitのサイトだと、\n",
    "\n",
    "```text\n",
    "Solution:\t\t [1.13586-0.j 0.40896+0.j]\n",
    "Classical Solution:\t [1.125 0.375]\n",
    "```\n",
    "\n",
    "となっています、今回の結果は、\n",
    "\n",
    "```text\n",
    "Solution:\t\t [ 0.66576-0.j -0.38561+0.j]\n",
    "Classical Solution:\t [1.125 0.375]\n",
    "```\n",
    "\n",
    "となり、あまり良い結果が得られていないようです。。。"
   ]
  },
  {
   "cell_type": "markdown",
   "metadata": {},
   "source": [
    "メモがてら、DepricateのログにあるCustomとQuantumCircuit.initializeのdocを残しておきます。"
   ]
  },
  {
   "cell_type": "code",
   "execution_count": 42,
   "metadata": {},
   "outputs": [],
   "source": [
    "Custom?\n",
    "\n",
    "init signature:\n",
    "Custom(\n",
    "    num_qubits: int,\n",
    "    state: str = 'zero',\n",
    "    state_vector: Union[numpy.ndarray, qiskit.aqua.operators.state_fns.state_fn.StateFn, NoneType] = None,\n",
    "    circuit: Union[qiskit.circuit.quantumcircuit.QuantumCircuit, NoneType] = None,\n",
    ") -> None"
   ]
  },
  {
   "cell_type": "code",
   "execution_count": 48,
   "metadata": {},
   "outputs": [],
   "source": [
    "QuantumCircuit.initialize?\n",
    "\n",
    "Args:\n",
    "    params (str or list or int):\n",
    "        * str: labels of basis states of the Pauli eigenstates Z, X, Y. See\n",
    "            :meth:`~qiskit.quantum_info.states.statevector.Statevector.from_label`.\n",
    "            Notice the order of the labels is reversed with respect to the qubit index to\n",
    "            be applied to. Example label '01' initializes the qubit zero to `|1>` and the\n",
    "            qubit one to `|0>`.\n",
    "        * list: vector of complex amplitudes to initialize to.\n",
    "        * int: an integer that is used as a bitmap indicating which qubits to initialize\n",
    "           to `|1>`. Example: setting params to 5 would initialize qubit 0 and qubit 2\n",
    "           to `|1>` and qubit 1 to `|0>`.\n",
    "    qubits (QuantumRegister or int):\n",
    "        * QuantumRegister: A list of qubits to be initialized [Default: None].\n",
    "        * int: Index of qubit to initialized [Default: None].\n",
    "\n",
    "Returns:\n",
    "    qiskit.circuit.Instruction: a handle to the instruction that was just initialized"
   ]
  },
  {
   "cell_type": "markdown",
   "metadata": {},
   "source": [
    "## まとめ\n",
    "\n",
    "このHHLアルゴリズムを元に、量子推薦アルゴリズムやそれにインスパイアされた古典アルゴリズムが発表されています。\n",
    "\n",
    "- https://arxiv.org/pdf/1603.08675.pdf\n",
    "- https://arxiv.org/pdf/1807.04271.pdf\n",
    "\n",
    "インスパイアされた古典アルゴリズムでは、推薦システムで利用されるUser-Item行列はしばしば低ランク近似が利用可能（莫大な数のユーザーのカテゴリはその数に比べてはるかに少ない）であるため、それを利用して解となる状態を高速でサンプリングすることが出来るというのが概要です。\n",
    "\n",
    "いずれ近いうちにその内容もまとめたいと思います。"
   ]
  },
  {
   "cell_type": "markdown",
   "metadata": {},
   "source": [
    "## 参考文献\n",
    "- [嶋田義皓. 量子コンピューティング](https://www.amazon.co.jp/%E9%87%8F%E5%AD%90%E3%82%B3%E3%83%B3%E3%83%94%E3%83%A5%E3%83%BC%E3%83%86%E3%82%A3%E3%83%B3%E3%82%B0-%E5%9F%BA%E6%9C%AC%E3%82%A2%E3%83%AB%E3%82%B4%E3%83%AA%E3%82%BA%E3%83%A0%E3%81%8B%E3%82%89%E9%87%8F%E5%AD%90%E6%A9%9F%E6%A2%B0%E5%AD%A6%E7%BF%92%E3%81%BE%E3%81%A7-%E6%83%85%E5%A0%B1%E5%87%A6%E7%90%86%E5%AD%A6%E4%BC%9A%E5%87%BA%E7%89%88%E5%A7%94%E5%93%A1%E4%BC%9A/dp/4274226212)\n",
    "- https://www2.yukawa.kyoto-u.ac.jp/~qischool2019/mitaraiCTO.pdf\n",
    "- [Matrix Computations](https://www.amazon.co.jp/Computations-Hopkins-Studies-Mathematical-Sciences/dp/1421407949)\n",
    "- [数値解析入門](https://www.amazon.co.jp/%E5%A4%A7%E5%AD%A6%E6%95%B0%E5%AD%A6%E3%81%AE%E5%85%A5%E9%96%809-%E6%95%B0%E5%80%A4%E8%A7%A3%E6%9E%90%E5%85%A5%E9%96%80-%E9%BD%8A%E8%97%A4-%E5%AE%A3%E4%B8%80/dp/413062959X)"
   ]
  }
 ],
 "metadata": {
  "kernelspec": {
   "display_name": "Python 3",
   "language": "python",
   "name": "python3"
  },
  "language_info": {
   "codemirror_mode": {
    "name": "ipython",
    "version": 3
   },
   "file_extension": ".py",
   "mimetype": "text/x-python",
   "name": "python",
   "nbconvert_exporter": "python",
   "pygments_lexer": "ipython3",
   "version": "3.8.5"
  },
  "widgets": {
   "state": {},
   "version": "1.1.2"
  }
 },
 "nbformat": 4,
 "nbformat_minor": 2
}
