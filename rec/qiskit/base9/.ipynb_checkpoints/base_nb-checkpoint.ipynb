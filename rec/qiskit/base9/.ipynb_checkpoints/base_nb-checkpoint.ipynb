{
 "cells": [
  {
   "cell_type": "markdown",
   "metadata": {},
   "source": [
    "## HHLアルゴリズム\n",
    "\n",
    "qiskitを利用して、量子アルゴリズムについて自分なりに勉強していこうと思います。\n",
    "個人的な勉強の記録なので、説明などを大幅に省いている可能性があります。\n",
    "\n",
    "qiskitのウェブサイト通りに勉強を進めています。\n",
    "\n",
    "- https://qiskit.org/textbook/ja/ch-applications/hhl_tutorial.html\n",
    "\n",
    "私の拙いブログでqiskitがRec（推薦システム）のカテゴライズしいたのは、すべてHHLを理解するためでした。現在、推薦システムに興味があり、開発などを行っていますが、そこで重要なのが連立一次方程式を解く事です。連立一次方程式は、数理モデルをコンピュータを利用して解く場合に高い確率で利用されますが、推薦システムもUser-Item行列から如何にしてユーザーエンゲージメントの高い特徴量を抽出出来るかという事が重要になってきます。\n",
    "\n",
    "よって、量子コンピュータを利用して高速に連立一次方程式を解く事を目標に量子アルゴリズムの復習を開始したわけですが、ようやく目的までたどり着きました。\n",
    "\n",
    "\n",
    "### github\n",
    "- jupyter notebook形式のファイルは[こちら](https://github.com/hiroshi0530/wa-src/blob/master/rec/qiskit/base9/base_nb.ipynb)\n",
    "\n",
    "### google colaboratory\n",
    "- google colaboratory で実行する場合は[こちら](https://colab.research.google.com/github/hiroshi0530/wa-src/blob/master/rec/qiskit/base9/base_nb.ipynb)\n",
    "\n",
    "### 筆者の環境"
   ]
  },
  {
   "cell_type": "code",
   "execution_count": 2,
   "metadata": {},
   "outputs": [
    {
     "name": "stdout",
     "output_type": "stream",
     "text": [
      "ProductName:\tMac OS X\r\n",
      "ProductVersion:\t10.14.6\r\n",
      "BuildVersion:\t18G103\r\n"
     ]
    }
   ],
   "source": [
    "!sw_vers"
   ]
  },
  {
   "cell_type": "code",
   "execution_count": 3,
   "metadata": {},
   "outputs": [
    {
     "name": "stdout",
     "output_type": "stream",
     "text": [
      "Python 3.8.5\r\n"
     ]
    }
   ],
   "source": [
    "!python -V"
   ]
  },
  {
   "cell_type": "markdown",
   "metadata": {},
   "source": [
    "基本的なライブラリをインポートしそのバージョンを確認しておきます。"
   ]
  },
  {
   "cell_type": "code",
   "execution_count": 1,
   "metadata": {},
   "outputs": [
    {
     "data": {
      "text/plain": [
       "{'qiskit-terra': '0.17.4',\n",
       " 'qiskit-aer': '0.8.2',\n",
       " 'qiskit-ignis': '0.6.0',\n",
       " 'qiskit-ibmq-provider': '0.13.1',\n",
       " 'qiskit-aqua': '0.9.1',\n",
       " 'qiskit': '0.26.2',\n",
       " 'qiskit-nature': None,\n",
       " 'qiskit-finance': None,\n",
       " 'qiskit-optimization': None,\n",
       " 'qiskit-machine-learning': None}"
      ]
     },
     "execution_count": 1,
     "metadata": {},
     "output_type": "execute_result"
    }
   ],
   "source": [
    "%matplotlib inline\n",
    "%config InlineBackend.figure_format = 'svg'\n",
    "\n",
    "import qiskit\n",
    "import json\n",
    "\n",
    "import matplotlib.pyplot as plt\n",
    "import numpy as np\n",
    "import math\n",
    "\n",
    "from qiskit import IBMQ, Aer, transpile, assemble\n",
    "from qiskit import QuantumCircuit, ClassicalRegister, QuantumRegister\n",
    "\n",
    "from qiskit.visualization import plot_histogram\n",
    "\n",
    "dict(qiskit.__qiskit_version__)"
   ]
  },
  {
   "cell_type": "markdown",
   "metadata": {},
   "source": [
    "## 共役勾配法\n",
    "\n",
    "復習の意味を込めて、古典アルゴリズムである共役勾配法の復習をします。\n",
    "正定値行列である$A$を係数とする連立一次方程式、\n",
    "\n",
    "$$\n",
    "A \\boldsymbol{x}=\\boldsymbol{b}\n",
    "$$\n",
    "\n",
    "の解$x$を反復法を用いて数値計算的に解く方法になります。反復法ですので、計算の終了を判定する誤差$(\\epsilon)$が必要になります。"
   ]
  },
  {
   "cell_type": "markdown",
   "metadata": {},
   "source": [
    "$A$,$x$,$b$は以下の様な行列になります。\n",
    "\n",
    "$$\n",
    "A = \\left(\\begin{array}{cccc}\n",
    "a_{11} & a_{12} & \\cdots & a_{1 n} \\\\\n",
    "a_{21} & a_{22} & \\cdots & a_{2 n} \\\\\n",
    "\\vdots & \\vdots & \\ddots & \\vdots \\\\\n",
    "a_{n 1} & a_{n 2} & \\cdots & a_{n n}\n",
    "\\end{array}\\right),\\quad x=\\left(\\begin{array}{c}\n",
    "x_{1} \\\\\n",
    "x_{2} \\\\\n",
    "\\vdots \\\\\n",
    "x_{n}\n",
    "\\end{array}\\right), \\quad b=\\left(\\begin{array}{c}\n",
    "b_{1} \\\\\n",
    "b_{2} \\\\\n",
    "\\vdots \\\\\n",
    "b_{n}\n",
    "\\end{array}\\right)\n",
    "$$"
   ]
  },
  {
   "cell_type": "markdown",
   "metadata": {},
   "source": [
    "行列の表式で書くと以下の通りです。\n",
    "\n",
    "$$\n",
    "\\left(\\begin{array}{cccc}\n",
    "a_{11} & a_{12} & \\cdots & a_{1 n} \\\\\n",
    "a_{21} & a_{22} & \\cdots & a_{2 n} \\\\\n",
    "\\vdots & \\vdots & \\ddots & \\vdots \\\\\n",
    "a_{n 1} & a_{n 2} & \\cdots & a_{n n}\n",
    "\\end{array}\\right)\\left(\\begin{array}{c}\n",
    "x_{1} \\\\\n",
    "x_{2} \\\\\n",
    "\\vdots \\\\\n",
    "x_{n}\n",
    "\\end{array}\\right)=\\left(\\begin{array}{c}\n",
    "b_{1} \\\\\n",
    "b_{2} \\\\\n",
    "\\vdots \\\\\n",
    "b_{n}\n",
    "\\end{array}\\right)\n",
    "$$"
   ]
  },
  {
   "cell_type": "markdown",
   "metadata": {},
   "source": [
    "次に次のように定義される関数$f(x)$を考えます。\n",
    "\n",
    "$$\n",
    "f(\\boldsymbol{x})=\\frac{1}{2}(\\boldsymbol{x}, A \\boldsymbol{x})-(\\boldsymbol{b}, \\boldsymbol{x})\n",
    "$$\n",
    "\n",
    "$(-,-)$は、ベクトルの内積を計算する演算子です。\n",
    "\n",
    "$$\n",
    "(\\boldsymbol{x}, \\boldsymbol{y})=\\boldsymbol{x}^{T} \\boldsymbol{y}=\\sum_{i=1}^{n} \\boldsymbol{x}_{i} \\boldsymbol{y}_{i}\n",
    "$$\n",
    "\n",
    "成分で表示すると以下の様になります。\n",
    "\n",
    "$$\n",
    "f(x)=\\frac{1}{2} \\sum_{i=1}^{n} \\sum_{j=1}^{n} a_{i j} x_{i} x_{j}-\\sum_{i=1}^{n} b_{i} x_{i}\n",
    "$$"
   ]
  },
  {
   "cell_type": "markdown",
   "metadata": {},
   "source": [
    "ここで、　$x_k$で微分すると、\n",
    "\n",
    "$$\n",
    "\\frac{\\partial f(x)}{\\partial x_{k}}=\\frac{1}{2} \\sum_{i=1}^{n} a_{i k} x_{i}+\\frac{1}{2} \\sum_{j=1}^{n} a_{k j} x_{j}-b_{k}\n",
    "$$\n",
    "\n",
    "となります。"
   ]
  },
  {
   "cell_type": "markdown",
   "metadata": {},
   "source": [
    "$A$はエルミート行列なので、\n",
    "\n",
    "$$\n",
    "\\frac{\\partial f(x)}{\\partial x_{i}}=\\sum_{j=1}^{n} a_{i j} x_{j}-b_{i}=0\n",
    "$$\n",
    "\n",
    "となります。"
   ]
  },
  {
   "cell_type": "markdown",
   "metadata": {},
   "source": [
    "これを一般化すると、\n",
    "\n",
    "$$\n",
    "\\nabla f(x)=\\left(\\begin{array}{c}\n",
    "\\frac{\\partial f}{\\partial x_{1}} \\\\\n",
    "\\vdots \\\\\n",
    "\\frac{\\partial f}{\\partial x_{n}}\n",
    "\\end{array}\\right)=A\\boldsymbol{x}-b = 0\n",
    "$$\n",
    "\n",
    "となり、関数$f(x)$の最小値となる$x$を求める事が、$A\\boldsymbol{x}-b = 0$を解く事と同じである事が分かります。"
   ]
  },
  {
   "cell_type": "markdown",
   "metadata": {},
   "source": [
    "### アルゴリズム\n",
    "\n",
    "上記の通り、共役勾配法(CG法)は、関数$f(x)$を最小化することに帰着されます。\n",
    "そのために、ある$x^{(0)}$を出発点に、以下の漸化式に従って最小値とする$x$を求めます。\n",
    "\n",
    "$$\n",
    "x^{(k+1)}=x^{(k)}+\\alpha_{k} p^{(k)}\n",
    "$$\n",
    "\n",
    "ここで、$p^{k}$は解を探索する方向ベクトルです。\n",
    "\n",
    "\n",
    "$$\n",
    "f\\left(x^{(k)}+\\alpha_{k} p^{(k)}\\right)=\\frac{1}{2} \\alpha_{k}{ }^{2}\\left(p^{(k)}, A p^{(k)}\\right)-\\alpha_{k}\\left(p^{(k)}, b-A x^{(k)}\\right)+f\\left(x^{(k)}\\right)\n",
    "$$"
   ]
  },
  {
   "cell_type": "markdown",
   "metadata": {},
   "source": [
    "$$\n",
    "\\frac{\\partial f\\left(x^{(k)}+\\alpha_{k} p^{(k)}\\right)}{\\partial \\alpha_{k}}=0 \\Rightarrow \\alpha_{k}=\\frac{\\left(p^{(k)}, b-A x^{(k)}\\right)}{\\left(p^{(k)}, A p^{(k)}\\right)}=\\frac{\\left(p^{(k)}, r^{(k)}\\right)}{\\left(p^{(k)}, A p^{(k)}\\right)}\n",
    "$$"
   ]
  },
  {
   "cell_type": "markdown",
   "metadata": {},
   "source": [
    "$$\n",
    "\\begin{aligned}\n",
    "&r^{(k+1)}=b-A x^{(k+1)} \\\\\n",
    "&r^{(k)}=b-A x^{(k)} \\\\\n",
    "&r^{(k+1)}-r^{(k)}=A x^{(k+1)}-A x^{(k)}=\\alpha_{k} A p^{(k)}\n",
    "\\end{aligned}\n",
    "$$"
   ]
  },
  {
   "cell_type": "markdown",
   "metadata": {},
   "source": [
    "$$\n",
    "\\alpha_{k}=\\frac{\\left(p^{(k)}, r^{(k)}\\right)}{\\left(p^{(k)}, A p^{(k)}\\right)}\n",
    "$$"
   ]
  },
  {
   "cell_type": "markdown",
   "metadata": {},
   "source": [
    "$$\n",
    "\\left\\|\\boldsymbol{r}^{(k+1)}\\right\\|<\\varepsilon\n",
    "$$"
   ]
  },
  {
   "cell_type": "markdown",
   "metadata": {},
   "source": [
    "$$\n",
    "\\boldsymbol{p}^{(k+1)}=\\boldsymbol{r}^{(k+1)}+\\beta^{(k)} \\boldsymbol{p}^{(k)}\n",
    "$$"
   ]
  },
  {
   "cell_type": "code",
   "execution_count": null,
   "metadata": {},
   "outputs": [],
   "source": []
  },
  {
   "cell_type": "code",
   "execution_count": null,
   "metadata": {},
   "outputs": [],
   "source": []
  },
  {
   "cell_type": "code",
   "execution_count": null,
   "metadata": {},
   "outputs": [],
   "source": []
  },
  {
   "cell_type": "code",
   "execution_count": null,
   "metadata": {},
   "outputs": [],
   "source": []
  },
  {
   "cell_type": "code",
   "execution_count": null,
   "metadata": {},
   "outputs": [],
   "source": []
  },
  {
   "cell_type": "markdown",
   "metadata": {},
   "source": [
    "$$\n",
    "p^{k}=-\\nabla f\\left(x^{k}\\right)=\\left(\\frac{\\partial f\\left(x^{k}\\right)}{\\partial x^{1}}, \\ldots, \\frac{\\partial f\\left(x^{k}\\right)}{\\partial x^{n}}\\right)^{T}\n",
    "$$"
   ]
  },
  {
   "cell_type": "markdown",
   "metadata": {},
   "source": []
  },
  {
   "cell_type": "markdown",
   "metadata": {},
   "source": [
    "### 計算量\n",
    "$s$は行列$A$の非0要素の割合、$\\kappa$は行列$A$の最大固有値と最小固有値の比$\\displaystyle \\left| \\frac{\\lambda_{max}}{\\lambda_{min}}\\right|$、$\\epsilon$  は精度です．\n",
    "\n",
    "$$\n",
    "O(N s \\kappa \\log (1 / \\varepsilon))\n",
    "$$\n",
    "\n",
    "これは$N$に比例する形になっているため、$s\\sim \\log N$の場合、$N\\log N$に比例する事になります。"
   ]
  },
  {
   "cell_type": "markdown",
   "metadata": {},
   "source": [
    "## HHLアルゴリズム\n",
    "\n",
    "### HHLの仮定\n",
    "\n",
    "HHLはある程度の仮定の下に成立するアルゴリズムです。\n",
    "\n",
    "- ローディングを実施する効果的なオラクルが存在\n",
    "- ハミルトニアンシミュレーションと解の関数の計算が可能\n",
    "- $A$がエルミート行列\n",
    "- $\\mathcal{O}\\left(\\log (N) s^{2} \\kappa^{2} / \\epsilon\\right)$で計算可能\n",
    "- 古典アルゴリズムが完全解を返すが、HHLは解となるベクトルを与える関数を近似するだけ"
   ]
  },
  {
   "cell_type": "markdown",
   "metadata": {},
   "source": [
    "### 量子回路へのマッピング\n",
    "\n",
    "連立一次方程式を量子アルゴリズムで解くには、$Ax=b$を量子回路にマッピングする必要があります。それは、$b$の$i$番目の成分は量子状態$|b\\rangle$の$i$番目の基底状態の振幅に対応させるという方法です。また、当然ですが、その際は$\\displaystyle \\sum_i |b_i|^2 = 1$という規格化が必要です。\n",
    "\n",
    "$$\n",
    "Ax=b \\rightarrow A|x\\rangle = |b\\rangle\n",
    "$$\n",
    "\n",
    "となります。"
   ]
  },
  {
   "cell_type": "markdown",
   "metadata": {},
   "source": [
    "### スペクトル分解\n",
    "\n",
    "$A$はエルミート行列なので、スペクトル分解が可能です。$A$のエルミート性を暗幕的に仮定していましたが、\n",
    "$$\n",
    "A'=\\left(\\begin{array}{ll}\n",
    "0 & A \\\\\n",
    "A & 0\n",
    "\\end{array}\\right)\n",
    "$$\n",
    "\n",
    "とすれば、$A'$はエルミート行列となるため、問題ありません。よって、$A$は固有ベクトル$|u_i\\rangle$とその固有値$\\lambda_i$を利用して、以下の様に展開できます。\n",
    "\n",
    "$$\n",
    "A=\\sum_{j=0}^{N-1} \\lambda_{j}\\left|u_{j}\\right\\rangle\\left\\langle u_{j}\\right|\n",
    "$$\n",
    "\n",
    "よって、逆行列は以下の様になります。\n",
    "\n",
    "$$\n",
    "A^{-1}=\\sum_{j=0}^{N-1} \\lambda_{j}^{-1}\\left|u_{j}\\right\\rangle\\left\\langle u_{j}\\right|\n",
    "$$"
   ]
  },
  {
   "cell_type": "markdown",
   "metadata": {},
   "source": [
    "$u_i$は$A$の固有ベクトルなので、$|b\\rangle$はその重ね合わせで表現できます。おそらくこれが量子コンピュータを利用する強い動機になっていると思います。\n",
    "\n",
    "$$\n",
    "|b\\rangle=\\sum_{j=0}^{N-1} b_{j}\\left|u_{j}\\right\\rangle\n",
    "$$\n",
    "\n",
    "本来であれば、$A$の固有ベクトルを計算できなければこの形で$|b\\rangle$を用意することが出来ませんが、量子コンピュータでは$|b\\rangle$を読み込むことで、自動的にこの状態を用意することが出来ます。\n",
    "\n",
    "最終的には以下の式の形を量子コンピュータを利用して求める事になります。\n",
    "\n",
    "$$\n",
    "|x\\rangle=A^{-1}|b\\rangle=\\sum_{j=0}^{N-1} \\lambda_{j}^{-1} b_{j}\\left|u_{j}\\right\\rangle\n",
    "$$"
   ]
  },
  {
   "cell_type": "markdown",
   "metadata": {},
   "source": [
    "### 1. データのロード\n",
    "\n",
    "対象となる$|b\\rangle$の各データの振幅を量子ビット$n_b$にロードします。\n",
    "\n",
    "$$\n",
    "|0\\rangle_{n_{b}} \\mapsto|b\\rangle_{n_{b}}\n",
    "$$"
   ]
  },
  {
   "cell_type": "markdown",
   "metadata": {},
   "source": [
    "### 2. QPEの適用\n",
    "\n",
    "量子位相推定を利用して、ユニタリ演算子$U=e^{i A t}$ の$|b\\rangle$の位相を推定します。\n",
    "\n",
    "$|b\\rangle$は上述の様に以下になります。\n",
    "\n",
    "$$\n",
    "|b\\rangle=\\sum_{j=0}^{N-1} b_{j}\\left|u_{j}\\right\\rangle\n",
    "$$"
   ]
  },
  {
   "cell_type": "markdown",
   "metadata": {},
   "source": [
    "$U$は展開して整理すると、以下の様になります。\n",
    "\n",
    "$$\n",
    "\\begin{aligned}\n",
    "&U=e^{i A t}=\\sum_{k=0}^{\\infty} \\frac{\\left(i A t\\right)^{k}}{k !}\\\\\n",
    "&=\\sum_{k=0}^{\\infty} \\frac{\\left(i t\\right)^{k}}{k !}\\left(\\sum_{j=0}^{N-1} \\lambda_{j}|u_{j}\\rangle\\langle u_{j} |\\right)^{k}\\\\\n",
    "&=\\sum_{k=0}^{\\infty} \\frac{(i t)^{k}}{k !} \\sum_{j=0}^{N-1} \\lambda_{j}^{k}\\left|u_{j}\\right\\rangle \\langle u_{j} |\\\\\n",
    "&=\\sum_{j=0}^{N-1}\\left(\\sum_{k=0}^{\\infty} \\frac{\\left(i t\\right)^{k}}{k_{i}} \\lambda_{j}^{k}\\right)|u_{j}\\rangle \\langle u_{j}| \\\\\n",
    "&=\\sum_{r=0}^{N-1} e^{i \\lambda_{j} t}\\left|u_{j}\\right\\rangle\\left\\langle u_{j}\\right|\n",
    "\\end{aligned}\n",
    "$$"
   ]
  },
  {
   "cell_type": "markdown",
   "metadata": {},
   "source": [
    "$U$を$|b\\rangle$に作用させると、\n",
    "\n",
    "$$\n",
    "\\begin{aligned}\n",
    "U|b\\rangle &=U\\left(\\sum_{j=0}^{N-1} b_{j}\\left|u_{j}\\right\\rangle\\right) \\\\\n",
    "&=\\sum_{j^{\\prime}=0}^{N-1} e^{i \\lambda j^{\\prime} t}\\left|h_{j^{\\prime}}\\right\\rangle\\left\\langle h_{j^{\\prime}}\\right| \\cdot\\left(\\sum_{j=0}^{N-1} b_{j}\\left|h_{j}\\right\\rangle\\right) \\\\\n",
    "&=\\sum_{j=0}^{N-1} b_{j} e^{i \\lambda_{j} t}\\left|u_{j}\\right\\rangle\n",
    "\\end{aligned}\n",
    "$$\n",
    "\n",
    "となり、量子位相推定を利用して、$\\lambda_j$の量子状態$|\\tilde{\\lambda}_j\\rangle_{n_l}$を求める事が出来ます。\n",
    "\n",
    "$\\tilde{\\lambda_{j}}$は、$\\displaystyle 2^{n_{l}} \\frac{\\lambda_{j} t}{2 \\pi}$に対する$n_l$-bitバイナリ近似となります。"
   ]
  },
  {
   "cell_type": "markdown",
   "metadata": {},
   "source": [
    "$t=2\\pi$とし、$\\lambda_l$が、$n_l$ビットで正確に表現できるとすると、量子位相推定は以下の様に表現できます。\n",
    "\n",
    "$$\n",
    "\\operatorname{QPE}\\left(e^{i A 2 \\pi}, \\sum_{j=0}^{N-1} b_{j}|0\\rangle_{n_{l}}\\left|u_{j}\\right\\rangle_{n_{b}}\\right)=\\sum_{j=0}^{N-1} b_{j}\\left|\\lambda_{j}\\right\\rangle_{n_{l}}\\left|u_{j}\\right\\rangle_{n_{b}}\n",
    "$$"
   ]
  },
  {
   "cell_type": "code",
   "execution_count": null,
   "metadata": {},
   "outputs": [],
   "source": []
  },
  {
   "cell_type": "markdown",
   "metadata": {},
   "source": [
    "$b(\\cdots)$は二進数表記である事を示し、$b_k(\\cdots)$は、二進数表記の$k$ビット目の値を表します。まとめると、以下の様になります。\n",
    "\n",
    "$$\n",
    "\\begin{aligned}\n",
    "&b\\left(\\frac{1}{\\pi} \\cos ^{-1}\\left(v_{i}\\right)\\right)=d_{0} d_{1} d_2 \\cdot \\cdots d_{m-1} \\\\\n",
    "&b_{k}\\left(\\frac{1}{\\pi} \\cos ^{-1}\\left(v_{i}\\right)\\right)=d_k \\\\\n",
    "&\\frac{2}{\\pi} \\cos ^{-1}\\left(v_{i}\\right)=\\frac{d_{0}}{2}+\\frac{d_{1}}{4}+\\frac{d_{2}}{8} \\cdots \\frac{d_{m-1}}{2^{m}} \\quad \\left(0 \\leqq \\frac{2}{\\pi} \\cos ^{-1}\\left(v_{i}\\right) \\leqq 1\\right)\n",
    "\\end{aligned}\n",
    "$$\n",
    "\n",
    "これから、\n",
    "\n",
    "\n",
    "$$\n",
    "\\begin{aligned}\n",
    "\\frac{2}{\\pi} \\cos ^{-1}\\left(v_{i}\\right)&=\\frac{1}{2} b_{0}\\left(\\frac{1}{\\pi} \\cos ^{-1}\\left(v_{1}\\right)\\right)+\\frac{1}{4} b_{1}\\left(\\frac{1}{\\pi} \\cos ^{-1}\\left(v_{i}\\right)\\right)+ \\cdots \\\\\n",
    "&=\\sum_{k=0}^{m-1} b_{k}\\left(\\frac{1}{\\pi} \\cos ^{-1}\\left(v_{n}\\right)\\right) 2^{-k-1} \\cdots (1)\n",
    "\\end{aligned}\n",
    "$$"
   ]
  },
  {
   "cell_type": "markdown",
   "metadata": {},
   "source": [
    "$\\displaystyle b_{k}\\left(\\frac{2}{\\pi} \\cos ^{-1}\\left(v_{i}\\right)\\right)$をターゲットビットとして、$R_{y}\\left(2^{-k-1}\\pi\\right)$である制御回転ゲートをかけることを考えます。\n",
    "\n",
    "$$\n",
    "\\begin{aligned}\n",
    "&\\prod_{k=0}^{m-1} R_{y}\\left(b_{k}\\left(\\frac{1}{\\pi} \\cos ^{-1}\\left(v_{i}\\right)\\right) 2^{-k-1}\\pi\\right)|0\\rangle \\\\\n",
    "&=R_{y}\\left(\\sum_{k=0}^{m-1} b_{k}\\left(\\frac{1}{\\pi} \\cos ^{-1}\\left(v_{i}\\right)\\right) 2^{-k-1}\\pi\\right)|0\\rangle \\\\\n",
    "\\end{aligned}\n",
    "$$"
   ]
  },
  {
   "cell_type": "markdown",
   "metadata": {},
   "source": [
    "回転ゲートは、以下の様にになります。\n",
    "\n",
    "$$\n",
    "R_{y}(\\theta)|0\\rangle=\\cos \\frac{\\theta}{2}|0\\rangle+\\sin \\frac{\\theta}{2}|1\\rangle\n",
    "$$"
   ]
  },
  {
   "cell_type": "markdown",
   "metadata": {},
   "source": [
    "この式と(1)を利用して、\n",
    "\n",
    "$$\n",
    "\\begin{aligned}\n",
    "&\\cos\\frac{1}{2}\\left(\\sum_{k=0}^{m-1} b_{k}\\left(\\frac{1}{\\pi} \\cos ^{-1}\\left(v_{i}\\right)\\right) 2^{-k-1}\\pi\\right) \\\\\n",
    "&=\\cos\\left(\\frac{1}{2}\\times\\frac{2}{\\pi} \\cos ^{-1}\\left(v_{i}\\right)\\times \\pi\\right) = v_i\n",
    "\\end{aligned}\n",
    "$$"
   ]
  },
  {
   "cell_type": "markdown",
   "metadata": {},
   "source": [
    "となり、こちらを利用して、\n",
    "\n",
    "$$\n",
    "R_{y}\\left(\\sum_{k=0}^{m-1} b_{k}\\left(\\frac{1}{\\pi} \\cos ^{-1}\\left(v_{i}\\right)\\right) 2^{-k-1}\\pi\\right)|0\\rangle=v_{i}|0\\rangle+\\sqrt{1-v_{i}^{2}}|1\\rangle\n",
    "$$\n",
    "\n",
    "を得る。ここで、$\\displaystyle v_i = \\frac{1}{\\lambda_i}$とすることで、補助ビットを、\n",
    "\n",
    "$$\n",
    "\\sqrt{1-\\frac{C^{2}}{\\lambda_{j}^{2}}}|0\\rangle+\\frac{C}{\\lambda_{j}}|1\\rangle\n",
    "$$\n",
    "\n",
    "と計算することが出来る。"
   ]
  },
  {
   "cell_type": "markdown",
   "metadata": {},
   "source": []
  },
  {
   "cell_type": "code",
   "execution_count": null,
   "metadata": {},
   "outputs": [],
   "source": []
  },
  {
   "cell_type": "markdown",
   "metadata": {},
   "source": [
    "$$\n",
    "\\operatorname{QPE}\\left(U,|0\\rangle_{n}|\\psi\\rangle_{m}\\right)=|\\tilde{\\theta}\\rangle_{n}|\\psi\\rangle_{m}\n",
    "$$"
   ]
  },
  {
   "cell_type": "code",
   "execution_count": null,
   "metadata": {},
   "outputs": [],
   "source": []
  },
  {
   "cell_type": "markdown",
   "metadata": {},
   "source": [
    "## 計算量の比較\n",
    "\n",
    "## 量子\n",
    "\n",
    "\n",
    "$$\n",
    "O(s \\kappa \\operatorname{poly} \\log (s \\kappa / \\varepsilon)))\n",
    "$$\n",
    "\n",
    "行列 $A$ がスパース $(s \\sim O(\\operatorname{poly} \\log N))$なら、\n",
    "\n",
    "$$\n",
    "O(s \\kappa \\operatorname{poly} \\log (s \\kappa / \\varepsilon))) \\sim O(s \\kappa \\operatorname{poly} \\log N \\operatorname{poly} \\log (s \\kappa / \\varepsilon))\n",
    "$$\n",
    "\n",
    "\n",
    "### 古典\n",
    "$$\n",
    "O(N s \\kappa \\log (1 / \\varepsilon))\n",
    "$$"
   ]
  },
  {
   "cell_type": "markdown",
   "metadata": {},
   "source": [
    "## qiskitで実装\n"
   ]
  },
  {
   "cell_type": "code",
   "execution_count": 84,
   "metadata": {},
   "outputs": [],
   "source": [
    "from qiskit import Aer\n",
    "from qiskit.circuit.library import QFT\n",
    "from qiskit.aqua import QuantumInstance, aqua_globals\n",
    "from qiskit.quantum_info import state_fidelity\n",
    "from qiskit.aqua.algorithms import HHL, NumPyLSsolver\n",
    "from qiskit.aqua.components.eigs import EigsQPE\n",
    "from qiskit.aqua.components.reciprocals import LookupRotation\n",
    "from qiskit.aqua.operators import MatrixOperator\n",
    "from qiskit.aqua.components.initial_states import Custom\n",
    "import numpy as np"
   ]
  },
  {
   "cell_type": "code",
   "execution_count": 85,
   "metadata": {},
   "outputs": [],
   "source": [
    "def create_eigs(matrix, num_ancillae, num_time_slices, negative_evals):\n",
    "    ne_qfts = [None, None]\n",
    "    if negative_evals:\n",
    "        num_ancillae += 1\n",
    "        ne_qfts = [QFT(num_ancillae - 1), QFT(num_ancillae - 1).inverse()]\n",
    "\n",
    "    return EigsQPE(MatrixOperator(matrix=matrix),\n",
    "                   QFT(num_ancillae).inverse(),\n",
    "                   num_time_slices=num_time_slices,\n",
    "                   num_ancillae=num_ancillae,\n",
    "                   expansion_mode='suzuki',\n",
    "                   expansion_order=2,\n",
    "                   evo_time=None, # np.pi*3/4, #None,  # This is t, can set to: np.pi*3/4\n",
    "                   negative_evals=negative_evals,\n",
    "                   ne_qfts=ne_qfts)"
   ]
  },
  {
   "cell_type": "code",
   "execution_count": 86,
   "metadata": {},
   "outputs": [],
   "source": [
    "def fidelity(hhl, ref):\n",
    "    solution_hhl_normed = hhl / np.linalg.norm(hhl)\n",
    "    solution_ref_normed = ref / np.linalg.norm(ref)\n",
    "    fidelity = state_fidelity(solution_hhl_normed, solution_ref_normed)\n",
    "    print(\"Fidelity:\\t\\t %f\" % fidelity)"
   ]
  },
  {
   "cell_type": "code",
   "execution_count": 87,
   "metadata": {},
   "outputs": [],
   "source": [
    "matrix = [[1, -1/3], [-1/3, 1]]\n",
    "vector = [1, 0]"
   ]
  },
  {
   "cell_type": "code",
   "execution_count": 95,
   "metadata": {},
   "outputs": [
    {
     "name": "stderr",
     "output_type": "stream",
     "text": [
      "/Users/hiroshi.wayama/anaconda3/lib/python3.8/site-packages/qiskit/aqua/components/initial_states/custom.py:79: DeprecationWarning: The Custom class is deprecated as of Aqua 0.9 and will be removed no earlier than 3 months after the release date. Instead, all algorithms and circuits accept a plain QuantumCircuit. Custom(state_vector=vector) is the same as a circuit where the ``initialize(vector/np.linalg.norm(vector))`` method has been called.\n",
      "  super().__init__()\n"
     ]
    }
   ],
   "source": [
    "orig_size = len(vector)\n",
    "matrix, vector, truncate_powerdim, truncate_hermitian = HHL.matrix_resize(matrix, vector)\n",
    "\n",
    "# Initialize eigenvalue finding module\n",
    "eigs = create_eigs(matrix, 3, 100, False)\n",
    "num_q, num_a = eigs.get_register_sizes()\n",
    "\n",
    "# Initialize initial state module\n",
    "init_state = Custom(num_q, state_vector=vector)\n",
    "# init_state = QuantumCircuit(num_q).initialize(vector/np.linalg.norm(vector))\n",
    "\n",
    "# Initialize reciprocal rotation module\n",
    "reci = LookupRotation(negative_evals=eigs._negative_evals, evo_time=eigs._evo_time)\n",
    "\n",
    "algo = HHL(matrix, vector, truncate_powerdim, truncate_hermitian, eigs,\n",
    "           init_state, reci, num_q, num_a, orig_size)"
   ]
  },
  {
   "cell_type": "code",
   "execution_count": 96,
   "metadata": {},
   "outputs": [
    {
     "name": "stderr",
     "output_type": "stream",
     "text": [
      "/Users/hiroshi.wayama/anaconda3/lib/python3.8/site-packages/qiskit/aqua/components/initial_states/custom.py:151: DeprecationWarning: The StateVectorCircuit class is deprecated as of Qiskit Aqua 0.9.0 and will be removed no earlier than 3 months after the release. If you need to initialize a circuit, use the QuantumCircuit.initialize or QuantumCircuit.isometry methods. For a parameterized initialization, try the qiskit.ml.circuit.library.RawFeatureVector class.\n",
      "  svc = StateVectorCircuit(self._state_vector)\n"
     ]
    },
    {
     "name": "stdout",
     "output_type": "stream",
     "text": [
      "Solution:\t\t [ 0.66576-0.j -0.38561+0.j]\n",
      "Classical Solution:\t [1.125 0.375]\n",
      "Probability:\t\t 0.211527\n",
      "Fidelity:\t\t 0.438807\n"
     ]
    }
   ],
   "source": [
    "result = algo.run(QuantumInstance(Aer.get_backend('statevector_simulator')))\n",
    "print(\"Solution:\\t\\t\", np.round(result['solution'], 5))\n",
    "\n",
    "result_ref = NumPyLSsolver(matrix, vector).run()\n",
    "print(\"Classical Solution:\\t\", np.round(result_ref['solution'], 5))\n",
    "\n",
    "print(\"Probability:\\t\\t %f\" % result['probability_result'])\n",
    "fidelity(result['solution'], result_ref['solution'])"
   ]
  },
  {
   "cell_type": "code",
   "execution_count": 92,
   "metadata": {},
   "outputs": [
    {
     "name": "stdout",
     "output_type": "stream",
     "text": [
      "circuit_width:\t 7\n",
      "circuit_depth:\t 101\n",
      "CNOT gates:\t 54\n"
     ]
    }
   ],
   "source": [
    "print(\"circuit_width:\\t\", result['circuit_info']['width'])\n",
    "print(\"circuit_depth:\\t\", result['circuit_info']['depth'])\n",
    "print(\"CNOT gates:\\t\", result['circuit_info']['operations']['cx'])"
   ]
  },
  {
   "cell_type": "code",
   "execution_count": null,
   "metadata": {},
   "outputs": [],
   "source": []
  },
  {
   "cell_type": "code",
   "execution_count": null,
   "metadata": {},
   "outputs": [],
   "source": []
  },
  {
   "cell_type": "code",
   "execution_count": null,
   "metadata": {},
   "outputs": [],
   "source": []
  },
  {
   "cell_type": "code",
   "execution_count": 32,
   "metadata": {},
   "outputs": [
    {
     "data": {
      "text/plain": [
       "'0.9.1'"
      ]
     },
     "execution_count": 32,
     "metadata": {},
     "output_type": "execute_result"
    }
   ],
   "source": [
    "from qiskit import aqua\n",
    "aqua.__version__"
   ]
  },
  {
   "cell_type": "code",
   "execution_count": null,
   "metadata": {},
   "outputs": [],
   "source": []
  },
  {
   "cell_type": "code",
   "execution_count": 65,
   "metadata": {},
   "outputs": [
    {
     "name": "stdout",
     "output_type": "stream",
     "text": [
      "Requirement already satisfied: qiskit in /Users/hiroshi.wayama/anaconda3/lib/python3.8/site-packages (0.26.2)\n",
      "Collecting qiskit\n",
      "  Downloading qiskit-0.30.0.tar.gz (12 kB)\n",
      "Collecting qiskit-terra==0.18.2\n",
      "  Downloading qiskit_terra-0.18.2-cp38-cp38-macosx_10_9_x86_64.whl (5.3 MB)\n",
      "\u001b[K     |████████████████████████████████| 5.3 MB 4.8 MB/s eta 0:00:01\n",
      "\u001b[?25hCollecting qiskit-aer==0.9.0\n",
      "  Downloading qiskit_aer-0.9.0-cp38-cp38-macosx_10_9_x86_64.whl (8.6 MB)\n",
      "\u001b[K     |████████████████████████████████| 8.6 MB 5.1 MB/s eta 0:00:01\n",
      "\u001b[?25hCollecting qiskit-ibmq-provider==0.16.0\n",
      "  Downloading qiskit_ibmq_provider-0.16.0-py3-none-any.whl (235 kB)\n",
      "\u001b[K     |████████████████████████████████| 235 kB 39.1 MB/s eta 0:00:01\n",
      "\u001b[?25hRequirement already satisfied: qiskit-ignis==0.6.0 in /Users/hiroshi.wayama/anaconda3/lib/python3.8/site-packages (from qiskit) (0.6.0)\n",
      "Collecting qiskit-aqua==0.9.5\n",
      "  Downloading qiskit_aqua-0.9.5-py3-none-any.whl (2.1 MB)\n",
      "\u001b[K     |████████████████████████████████| 2.1 MB 30.0 MB/s eta 0:00:01\n",
      "\u001b[?25hRequirement already satisfied: pybind11>=2.6 in /Users/hiroshi.wayama/anaconda3/lib/python3.8/site-packages (from qiskit-aer==0.9.0->qiskit) (2.6.2)\n",
      "Requirement already satisfied: numpy>=1.16.3 in /Users/hiroshi.wayama/anaconda3/lib/python3.8/site-packages (from qiskit-aer==0.9.0->qiskit) (1.19.2)\n",
      "Requirement already satisfied: scipy>=1.0 in /Users/hiroshi.wayama/anaconda3/lib/python3.8/site-packages (from qiskit-aer==0.9.0->qiskit) (1.5.2)\n",
      "Requirement already satisfied: quandl in /Users/hiroshi.wayama/anaconda3/lib/python3.8/site-packages (from qiskit-aqua==0.9.5->qiskit) (3.6.0)\n",
      "Requirement already satisfied: sympy>=1.3 in /Users/hiroshi.wayama/anaconda3/lib/python3.8/site-packages (from qiskit-aqua==0.9.5->qiskit) (1.6.2)\n",
      "Requirement already satisfied: fastdtw<=0.3.4 in /Users/hiroshi.wayama/anaconda3/lib/python3.8/site-packages (from qiskit-aqua==0.9.5->qiskit) (0.3.4)\n",
      "Collecting docplex>=2.21.207\n",
      "  Downloading docplex-2.22.213.tar.gz (634 kB)\n",
      "\u001b[K     |████████████████████████████████| 634 kB 37.7 MB/s eta 0:00:01\n",
      "\u001b[?25hRequirement already satisfied: pandas in /Users/hiroshi.wayama/anaconda3/lib/python3.8/site-packages (from qiskit-aqua==0.9.5->qiskit) (1.1.3)\n",
      "Collecting yfinance>=0.1.62\n",
      "  Downloading yfinance-0.1.63.tar.gz (26 kB)\n",
      "Requirement already satisfied: psutil>=5 in /Users/hiroshi.wayama/anaconda3/lib/python3.8/site-packages (from qiskit-aqua==0.9.5->qiskit) (5.7.2)\n",
      "Requirement already satisfied: scikit-learn>=0.20.0 in /Users/hiroshi.wayama/anaconda3/lib/python3.8/site-packages (from qiskit-aqua==0.9.5->qiskit) (0.23.2)\n",
      "Requirement already satisfied: setuptools>=40.1.0 in /Users/hiroshi.wayama/anaconda3/lib/python3.8/site-packages (from qiskit-aqua==0.9.5->qiskit) (54.2.0)\n",
      "Requirement already satisfied: retworkx>=0.8.0 in /Users/hiroshi.wayama/anaconda3/lib/python3.8/site-packages (from qiskit-aqua==0.9.5->qiskit) (0.8.0)\n",
      "Requirement already satisfied: dlx<=1.0.4 in /Users/hiroshi.wayama/anaconda3/lib/python3.8/site-packages (from qiskit-aqua==0.9.5->qiskit) (1.0.4)\n",
      "Requirement already satisfied: h5py<3.3.0 in /Users/hiroshi.wayama/anaconda3/lib/python3.8/site-packages (from qiskit-aqua==0.9.5->qiskit) (2.10.0)\n",
      "Requirement already satisfied: requests>=2.19 in /Users/hiroshi.wayama/anaconda3/lib/python3.8/site-packages (from qiskit-ibmq-provider==0.16.0->qiskit) (2.24.0)\n",
      "Requirement already satisfied: python-dateutil>=2.8.0 in /Users/hiroshi.wayama/anaconda3/lib/python3.8/site-packages (from qiskit-ibmq-provider==0.16.0->qiskit) (2.8.1)\n",
      "Collecting websocket-client>=1.0.1\n",
      "  Using cached websocket_client-1.2.1-py2.py3-none-any.whl (52 kB)\n",
      "Requirement already satisfied: requests-ntlm>=1.1.0 in /Users/hiroshi.wayama/anaconda3/lib/python3.8/site-packages (from qiskit-ibmq-provider==0.16.0->qiskit) (1.1.0)\n",
      "Requirement already satisfied: urllib3>=1.21.1 in /Users/hiroshi.wayama/anaconda3/lib/python3.8/site-packages (from qiskit-ibmq-provider==0.16.0->qiskit) (1.25.11)\n",
      "Requirement already satisfied: ply>=3.10 in /Users/hiroshi.wayama/anaconda3/lib/python3.8/site-packages (from qiskit-terra==0.18.2->qiskit) (3.11)\n",
      "Collecting tweedledum<2.0,>=1.1\n",
      "  Downloading tweedledum-1.1.1-cp38-cp38-macosx_10_9_x86_64.whl (1.8 MB)\n",
      "\u001b[K     |████████████████████████████████| 1.8 MB 45.5 MB/s eta 0:00:01\n",
      "\u001b[?25hCollecting retworkx>=0.8.0\n",
      "  Downloading retworkx-0.10.2-cp38-cp38-macosx_10_9_x86_64.whl (1.1 MB)\n",
      "\u001b[K     |████████████████████████████████| 1.1 MB 17.1 MB/s eta 0:00:01\n",
      "\u001b[?25hCollecting symengine>0.7\n",
      "  Downloading symengine-0.8.1-cp38-cp38-macosx_10_9_x86_64.whl (17.7 MB)\n",
      "\u001b[K     |████████████████████████████████| 17.7 MB 31.2 MB/s eta 0:00:01\n",
      "\u001b[?25hRequirement already satisfied: fastjsonschema>=2.10 in /Users/hiroshi.wayama/anaconda3/lib/python3.8/site-packages (from qiskit-terra==0.18.2->qiskit) (2.15.1)\n",
      "Requirement already satisfied: python-constraint>=1.4 in /Users/hiroshi.wayama/anaconda3/lib/python3.8/site-packages (from qiskit-terra==0.18.2->qiskit) (1.4.0)\n",
      "Requirement already satisfied: jsonschema>=2.6 in /Users/hiroshi.wayama/anaconda3/lib/python3.8/site-packages (from qiskit-terra==0.18.2->qiskit) (3.2.0)\n",
      "Requirement already satisfied: dill>=0.3 in /Users/hiroshi.wayama/anaconda3/lib/python3.8/site-packages (from qiskit-terra==0.18.2->qiskit) (0.3.3)\n",
      "Requirement already satisfied: six in /Users/hiroshi.wayama/anaconda3/lib/python3.8/site-packages (from docplex>=2.21.207->qiskit-aqua==0.9.5->qiskit) (1.15.0)\n",
      "Requirement already satisfied: pyrsistent>=0.14.0 in /Users/hiroshi.wayama/anaconda3/lib/python3.8/site-packages (from jsonschema>=2.6->qiskit-terra==0.18.2->qiskit) (0.17.3)\n",
      "Requirement already satisfied: attrs>=17.4.0 in /Users/hiroshi.wayama/anaconda3/lib/python3.8/site-packages (from jsonschema>=2.6->qiskit-terra==0.18.2->qiskit) (20.3.0)\n",
      "Requirement already satisfied: idna<3,>=2.5 in /Users/hiroshi.wayama/anaconda3/lib/python3.8/site-packages (from requests>=2.19->qiskit-ibmq-provider==0.16.0->qiskit) (2.10)\n",
      "Requirement already satisfied: chardet<4,>=3.0.2 in /Users/hiroshi.wayama/anaconda3/lib/python3.8/site-packages (from requests>=2.19->qiskit-ibmq-provider==0.16.0->qiskit) (3.0.4)\n",
      "Requirement already satisfied: certifi>=2017.4.17 in /Users/hiroshi.wayama/anaconda3/lib/python3.8/site-packages (from requests>=2.19->qiskit-ibmq-provider==0.16.0->qiskit) (2020.6.20)\n",
      "Requirement already satisfied: ntlm-auth>=1.0.2 in /Users/hiroshi.wayama/anaconda3/lib/python3.8/site-packages (from requests-ntlm>=1.1.0->qiskit-ibmq-provider==0.16.0->qiskit) (1.5.0)\n",
      "Requirement already satisfied: cryptography>=1.3 in /Users/hiroshi.wayama/anaconda3/lib/python3.8/site-packages (from requests-ntlm>=1.1.0->qiskit-ibmq-provider==0.16.0->qiskit) (3.1.1)\n",
      "Requirement already satisfied: cffi!=1.11.3,>=1.8 in /Users/hiroshi.wayama/anaconda3/lib/python3.8/site-packages (from cryptography>=1.3->requests-ntlm>=1.1.0->qiskit-ibmq-provider==0.16.0->qiskit) (1.14.3)\n",
      "Requirement already satisfied: pycparser in /Users/hiroshi.wayama/anaconda3/lib/python3.8/site-packages (from cffi!=1.11.3,>=1.8->cryptography>=1.3->requests-ntlm>=1.1.0->qiskit-ibmq-provider==0.16.0->qiskit) (2.20)\n",
      "Requirement already satisfied: threadpoolctl>=2.0.0 in /Users/hiroshi.wayama/anaconda3/lib/python3.8/site-packages (from scikit-learn>=0.20.0->qiskit-aqua==0.9.5->qiskit) (2.1.0)\n",
      "Requirement already satisfied: joblib>=0.11 in /Users/hiroshi.wayama/anaconda3/lib/python3.8/site-packages (from scikit-learn>=0.20.0->qiskit-aqua==0.9.5->qiskit) (0.17.0)\n",
      "Requirement already satisfied: mpmath>=0.19 in /Users/hiroshi.wayama/anaconda3/lib/python3.8/site-packages (from sympy>=1.3->qiskit-aqua==0.9.5->qiskit) (1.1.0)\n",
      "Requirement already satisfied: multitasking>=0.0.7 in /Users/hiroshi.wayama/anaconda3/lib/python3.8/site-packages (from yfinance>=0.1.62->qiskit-aqua==0.9.5->qiskit) (0.0.9)\n",
      "Requirement already satisfied: lxml>=4.5.1 in /Users/hiroshi.wayama/anaconda3/lib/python3.8/site-packages (from yfinance>=0.1.62->qiskit-aqua==0.9.5->qiskit) (4.6.1)\n",
      "Requirement already satisfied: pytz>=2017.2 in /Users/hiroshi.wayama/anaconda3/lib/python3.8/site-packages (from pandas->qiskit-aqua==0.9.5->qiskit) (2020.1)\n",
      "Requirement already satisfied: inflection>=0.3.1 in /Users/hiroshi.wayama/anaconda3/lib/python3.8/site-packages (from quandl->qiskit-aqua==0.9.5->qiskit) (0.5.1)\n",
      "Requirement already satisfied: more-itertools in /Users/hiroshi.wayama/anaconda3/lib/python3.8/site-packages (from quandl->qiskit-aqua==0.9.5->qiskit) (8.6.0)\n"
     ]
    },
    {
     "name": "stdout",
     "output_type": "stream",
     "text": [
      "Building wheels for collected packages: qiskit, docplex, yfinance\n",
      "  Building wheel for qiskit (setup.py) ... \u001b[?25ldone\n",
      "\u001b[?25h  Created wheel for qiskit: filename=qiskit-0.30.0-py3-none-any.whl size=11258 sha256=0f32db3ed88a5e775405ba64e7024a1d45d915212033fa32d74ed3bf41ddf62d\n",
      "  Stored in directory: /Users/hiroshi.wayama/Library/Caches/pip/wheels/01/f8/3f/4edf7a8f1659f7ca83c463df424e107dbceeffe310b6ecc58d\n",
      "  Building wheel for docplex (setup.py) ... \u001b[?25ldone\n",
      "\u001b[?25h  Created wheel for docplex: filename=docplex-2.22.213-py3-none-any.whl size=696851 sha256=78aca4ab85708f8d2830f352a32b9f4ca193de86ae8ea34348e623ad1d0ce76e\n",
      "  Stored in directory: /Users/hiroshi.wayama/Library/Caches/pip/wheels/35/3e/11/e31bf877e1965b75dc2f3de4ec2d5c9d1680c6f803ef76ed9f\n",
      "  Building wheel for yfinance (setup.py) ... \u001b[?25ldone\n",
      "\u001b[?25h  Created wheel for yfinance: filename=yfinance-0.1.63-py2.py3-none-any.whl size=23907 sha256=efa4e5a74644065ab23d18dd96f97d77730e2661513045c386368f21888b10ad\n",
      "  Stored in directory: /Users/hiroshi.wayama/Library/Caches/pip/wheels/ec/cc/c1/32da8ee853d742d5d7cbd11ee04421222eb354672020b57297\n",
      "Successfully built qiskit docplex yfinance\n",
      "Installing collected packages: tweedledum, symengine, retworkx, qiskit-terra, yfinance, websocket-client, docplex, qiskit-ibmq-provider, qiskit-aqua, qiskit-aer, qiskit\n",
      "  Attempting uninstall: retworkx\n",
      "    Found existing installation: retworkx 0.8.0\n",
      "    Uninstalling retworkx-0.8.0:\n",
      "      Successfully uninstalled retworkx-0.8.0\n",
      "  Attempting uninstall: qiskit-terra\n",
      "    Found existing installation: qiskit-terra 0.17.4\n",
      "    Uninstalling qiskit-terra-0.17.4:\n",
      "      Successfully uninstalled qiskit-terra-0.17.4\n",
      "  Attempting uninstall: yfinance\n",
      "    Found existing installation: yfinance 0.1.55\n",
      "    Uninstalling yfinance-0.1.55:\n",
      "      Successfully uninstalled yfinance-0.1.55\n",
      "  Attempting uninstall: docplex\n",
      "    Found existing installation: docplex 2.15.194\n",
      "    Uninstalling docplex-2.15.194:\n",
      "      Successfully uninstalled docplex-2.15.194\n",
      "  Attempting uninstall: qiskit-ibmq-provider\n",
      "    Found existing installation: qiskit-ibmq-provider 0.13.1\n",
      "    Uninstalling qiskit-ibmq-provider-0.13.1:\n",
      "      Successfully uninstalled qiskit-ibmq-provider-0.13.1\n",
      "  Attempting uninstall: qiskit-aqua\n",
      "    Found existing installation: qiskit-aqua 0.9.1\n",
      "    Uninstalling qiskit-aqua-0.9.1:\n",
      "      Successfully uninstalled qiskit-aqua-0.9.1\n",
      "  Attempting uninstall: qiskit-aer\n",
      "    Found existing installation: qiskit-aer 0.8.2\n",
      "    Uninstalling qiskit-aer-0.8.2:\n",
      "      Successfully uninstalled qiskit-aer-0.8.2\n",
      "  Attempting uninstall: qiskit\n",
      "    Found existing installation: qiskit 0.26.2\n",
      "    Uninstalling qiskit-0.26.2:\n",
      "      Successfully uninstalled qiskit-0.26.2\n",
      "Successfully installed docplex-2.22.213 qiskit-0.30.0 qiskit-aer-0.9.0 qiskit-aqua-0.9.5 qiskit-ibmq-provider-0.16.0 qiskit-terra-0.18.2 retworkx-0.10.2 symengine-0.8.1 tweedledum-1.1.1 websocket-client-1.2.1 yfinance-0.1.63\n"
     ]
    }
   ],
   "source": [
    "!pip install --upgrade qiskit\n"
   ]
  },
  {
   "cell_type": "code",
   "execution_count": 13,
   "metadata": {},
   "outputs": [
    {
     "name": "stdout",
     "output_type": "stream",
     "text": [
      "Requirement already satisfied: qiskit-terra in /Users/hiroshi.wayama/anaconda3/lib/python3.8/site-packages (0.17.4)\n",
      "Requirement already satisfied: scipy>=1.4 in /Users/hiroshi.wayama/anaconda3/lib/python3.8/site-packages (from qiskit-terra) (1.5.2)\n",
      "Requirement already satisfied: sympy>=1.3 in /Users/hiroshi.wayama/anaconda3/lib/python3.8/site-packages (from qiskit-terra) (1.6.2)\n",
      "Requirement already satisfied: fastjsonschema>=2.10 in /Users/hiroshi.wayama/anaconda3/lib/python3.8/site-packages (from qiskit-terra) (2.15.1)\n",
      "Requirement already satisfied: ply>=3.10 in /Users/hiroshi.wayama/anaconda3/lib/python3.8/site-packages (from qiskit-terra) (3.11)\n",
      "Requirement already satisfied: dill>=0.3 in /Users/hiroshi.wayama/anaconda3/lib/python3.8/site-packages (from qiskit-terra) (0.3.3)\n",
      "Requirement already satisfied: python-dateutil>=2.8.0 in /Users/hiroshi.wayama/anaconda3/lib/python3.8/site-packages (from qiskit-terra) (2.8.1)\n",
      "Requirement already satisfied: psutil>=5 in /Users/hiroshi.wayama/anaconda3/lib/python3.8/site-packages (from qiskit-terra) (5.7.2)\n",
      "Requirement already satisfied: numpy>=1.17 in /Users/hiroshi.wayama/anaconda3/lib/python3.8/site-packages (from qiskit-terra) (1.19.2)\n",
      "Requirement already satisfied: jsonschema>=2.6 in /Users/hiroshi.wayama/anaconda3/lib/python3.8/site-packages (from qiskit-terra) (3.2.0)\n",
      "Requirement already satisfied: python-constraint>=1.4 in /Users/hiroshi.wayama/anaconda3/lib/python3.8/site-packages (from qiskit-terra) (1.4.0)\n",
      "Requirement already satisfied: retworkx>=0.8.0 in /Users/hiroshi.wayama/anaconda3/lib/python3.8/site-packages (from qiskit-terra) (0.8.0)\n",
      "Requirement already satisfied: six>=1.11.0 in /Users/hiroshi.wayama/anaconda3/lib/python3.8/site-packages (from jsonschema>=2.6->qiskit-terra) (1.15.0)\n",
      "Requirement already satisfied: setuptools in /Users/hiroshi.wayama/anaconda3/lib/python3.8/site-packages (from jsonschema>=2.6->qiskit-terra) (54.2.0)\n",
      "Requirement already satisfied: attrs>=17.4.0 in /Users/hiroshi.wayama/anaconda3/lib/python3.8/site-packages (from jsonschema>=2.6->qiskit-terra) (20.3.0)\n",
      "Requirement already satisfied: pyrsistent>=0.14.0 in /Users/hiroshi.wayama/anaconda3/lib/python3.8/site-packages (from jsonschema>=2.6->qiskit-terra) (0.17.3)\n",
      "Requirement already satisfied: mpmath>=0.19 in /Users/hiroshi.wayama/anaconda3/lib/python3.8/site-packages (from sympy>=1.3->qiskit-terra) (1.1.0)\n"
     ]
    }
   ],
   "source": [
    "!pip install qiskit-terra"
   ]
  },
  {
   "cell_type": "code",
   "execution_count": null,
   "metadata": {},
   "outputs": [],
   "source": []
  },
  {
   "cell_type": "code",
   "execution_count": 42,
   "metadata": {},
   "outputs": [],
   "source": [
    "Custom?\n",
    "\n",
    "init signature:\n",
    "Custom(\n",
    "    num_qubits: int,\n",
    "    state: str = 'zero',\n",
    "    state_vector: Union[numpy.ndarray, qiskit.aqua.operators.state_fns.state_fn.StateFn, NoneType] = None,\n",
    "    circuit: Union[qiskit.circuit.quantumcircuit.QuantumCircuit, NoneType] = None,\n",
    ") -> None"
   ]
  },
  {
   "cell_type": "code",
   "execution_count": 48,
   "metadata": {},
   "outputs": [],
   "source": [
    "QuantumCircuit.initialize?\n",
    "\n",
    "Args:\n",
    "    params (str or list or int):\n",
    "        * str: labels of basis states of the Pauli eigenstates Z, X, Y. See\n",
    "            :meth:`~qiskit.quantum_info.states.statevector.Statevector.from_label`.\n",
    "            Notice the order of the labels is reversed with respect to the qubit index to\n",
    "            be applied to. Example label '01' initializes the qubit zero to `|1>` and the\n",
    "            qubit one to `|0>`.\n",
    "        * list: vector of complex amplitudes to initialize to.\n",
    "        * int: an integer that is used as a bitmap indicating which qubits to initialize\n",
    "           to `|1>`. Example: setting params to 5 would initialize qubit 0 and qubit 2\n",
    "           to `|1>` and qubit 1 to `|0>`.\n",
    "    qubits (QuantumRegister or int):\n",
    "        * QuantumRegister: A list of qubits to be initialized [Default: None].\n",
    "        * int: Index of qubit to initialized [Default: None].\n",
    "\n",
    "Returns:\n",
    "    qiskit.circuit.Instruction: a handle to the instruction that was just initialized"
   ]
  },
  {
   "cell_type": "code",
   "execution_count": null,
   "metadata": {},
   "outputs": [],
   "source": []
  },
  {
   "cell_type": "code",
   "execution_count": null,
   "metadata": {},
   "outputs": [],
   "source": []
  },
  {
   "cell_type": "code",
   "execution_count": 103,
   "metadata": {},
   "outputs": [
    {
     "data": {
      "text/html": [
       "<pre style=\"word-wrap: normal;white-space: pre;background: #fff0;line-height: 1.1;font-family: &quot;Courier New&quot;,Courier,monospace\">     ┌───┐         \n",
       "q_0: ┤ H ├─■───────\n",
       "     ├───┤ │P(π/4) \n",
       "q_1: ┤ X ├─■───────\n",
       "     └───┘         </pre>"
      ],
      "text/plain": [
       "     ┌───┐         \n",
       "q_0: ┤ H ├─■───────\n",
       "     ├───┤ │P(π/4) \n",
       "q_1: ┤ X ├─■───────\n",
       "     └───┘         "
      ]
     },
     "metadata": {},
     "output_type": "display_data"
    }
   ],
   "source": [
    "import math\n",
    "\n",
    "qc = QuantumCircuit(2)\n",
    "qc.h(0)\n",
    "qc.x(1)\n",
    "# Add Controlled-T\n",
    "qc.cp(math.pi/4, 0, 1)\n",
    "display(qc.draw())\n"
   ]
  },
  {
   "cell_type": "code",
   "execution_count": 104,
   "metadata": {},
   "outputs": [
    {
     "data": {
      "text/latex": [
       "$$\n",
       "\\text{Circuit = }\n",
       "\n",
       "\\begin{bmatrix}\n",
       "0 & 0 & \\tfrac{1}{\\sqrt{2}} & \\tfrac{1}{\\sqrt{2}}  \\\\\n",
       " 0 & 0 & \\tfrac{1}{\\sqrt{2}} & -\\tfrac{1}{\\sqrt{2}}  \\\\\n",
       " \\tfrac{1}{\\sqrt{2}} & \\tfrac{1}{\\sqrt{2}} & 0 & 0  \\\\\n",
       " \\tfrac{1}{2}(1 + i) & \\tfrac{1}{2}(-1 - i) & 0 & 0  \\\\\n",
       " \\end{bmatrix}\n",
       "$$"
      ],
      "text/plain": [
       "<IPython.core.display.Latex object>"
      ]
     },
     "execution_count": 104,
     "metadata": {},
     "output_type": "execute_result"
    }
   ],
   "source": [
    "from qiskit import QuantumCircuit, Aer, assemble\n",
    "from math import pi\n",
    "import numpy as np\n",
    "from qiskit.visualization import plot_bloch_multivector, plot_histogram, array_to_latex\n",
    "\n",
    "qc.save_unitary()\n",
    "usim = Aer.get_backend('aer_simulator')\n",
    "qobj = assemble(qc)\n",
    "unitary = usim.run(qobj).result().get_unitary()\n",
    "array_to_latex(unitary, prefix=\"\\\\text{Circuit = }\\n\")"
   ]
  },
  {
   "cell_type": "code",
   "execution_count": null,
   "metadata": {},
   "outputs": [],
   "source": []
  },
  {
   "cell_type": "code",
   "execution_count": null,
   "metadata": {},
   "outputs": [],
   "source": []
  },
  {
   "cell_type": "code",
   "execution_count": null,
   "metadata": {},
   "outputs": [],
   "source": []
  },
  {
   "cell_type": "markdown",
   "metadata": {},
   "source": [
    "## 参考文献\n",
    "- https://www2.yukawa.kyoto-u.ac.  jp/~qischool2019/mitaraiCTO.pdf"
   ]
  }
 ],
 "metadata": {
  "kernelspec": {
   "display_name": "Python 3",
   "language": "python",
   "name": "python3"
  },
  "language_info": {
   "codemirror_mode": {
    "name": "ipython",
    "version": 3
   },
   "file_extension": ".py",
   "mimetype": "text/x-python",
   "name": "python",
   "nbconvert_exporter": "python",
   "pygments_lexer": "ipython3",
   "version": "3.8.5"
  },
  "widgets": {
   "state": {},
   "version": "1.1.2"
  }
 },
 "nbformat": 4,
 "nbformat_minor": 2
}
